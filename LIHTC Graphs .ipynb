{
 "cells": [
  {
   "cell_type": "code",
   "execution_count": 1,
   "metadata": {},
   "outputs": [],
   "source": [
    "import altair as alt\n",
    "import pandas as pd\n",
    "import numpy as np\n",
    "pd.set_option(\"display.max_rows\", None)\n",
    "pd.set_option('display.max_columns', 150)"
   ]
  },
  {
   "cell_type": "markdown",
   "metadata": {},
   "source": [
    "### Lamp Lodge Graph "
   ]
  },
  {
   "cell_type": "code",
   "execution_count": 65,
   "metadata": {},
   "outputs": [],
   "source": [
    "#load in data that is just Permanent funding for LAMP Lodge \n",
    "lamp = pd.read_csv(\"Lamp_Lodge_perm.csv\")"
   ]
  },
  {
   "cell_type": "code",
   "execution_count": 77,
   "metadata": {},
   "outputs": [
    {
     "data": {
      "text/plain": [
       "ThemeRegistry.enable('terner_theme')"
      ]
     },
     "execution_count": 77,
     "metadata": {},
     "output_type": "execute_result"
    }
   ],
   "source": [
    "#this function sets all of the custom settings for the charts \n",
    "\n",
    "def terner_theme():\n",
    "    # Typography\n",
    "    font = \"Veranda Regular\"\n",
    "    labelFont = \"Veranda Regular\" \n",
    "    sourceFont = \"Veranda Regular\"\n",
    "    # Axes\n",
    "    axisColor = \"#FFFFFF\"\n",
    "    gridColor = \"#DEDDDD\"\n",
    "    markColor = \"#a6833d\"\n",
    "    # Colors\n",
    "    main_palette = [\"#5B6770\",\n",
    "                    \"#4E748B\",\n",
    "                    \"#FFB81D\",\n",
    "                    \"#B7B09D\",\n",
    "                    \"#00B3E3\",\n",
    "                    \"#011E41\",\n",
    "                    \"#E74C39\",\n",
    "                    \"#C4820E\",\n",
    "                    \"#003262\",\n",
    "                    \"#EE1F60\"]\n",
    "                    \n",
    "    sequential_palette = [\"#5B6770\",\n",
    "                    \"#4E748B\",\n",
    "                    \"#FFB81D\",\n",
    "                    \"#B7B09D\",\n",
    "                    \"#00B3E3\",\n",
    "                    \"#011E41\",\n",
    "                    \"#E74C39\",\n",
    "                    \"#C4820E\",\n",
    "                    \"#003262\",\n",
    "                    \"#EE1F60\"]\n",
    "    \n",
    "    return{\"width\": 70, \n",
    "          \"height\": 550, \n",
    "          \"config\": {\n",
    "              \"title\": {\n",
    "                  \"fontSize\": 18,\n",
    "                  \"font\": font,\n",
    "                  \"anchor\": \"start\", \n",
    "                  \"fontColor\": \"#000000\"\n",
    "              },\n",
    "              \n",
    "              \"range\": {\n",
    "                  \"category\": main_palette,\n",
    "                  \"diverging\": sequential_palette,\n",
    "\n",
    "              \n",
    "            },\n",
    "                      \"legend\": {\n",
    "                  \"labelFont\": labelFont,\n",
    "                  \"labelLimit\": 0\n",
    "                      },\n",
    "           \"bar\": {\n",
    "                \"size\": 40,\n",
    "               \n",
    "                \"fill\": main_palette,\n",
    "                \"stroke\": False,\n",
    "            },\n",
    "}\n",
    "    }\n",
    "\n",
    "# register\n",
    "alt.themes.register(\"terner_theme\", terner_theme)\n",
    "# enable\n",
    "alt.themes.enable(\"terner_theme\")"
   ]
  },
  {
   "cell_type": "code",
   "execution_count": 66,
   "metadata": {},
   "outputs": [],
   "source": [
    "#this is pretty hacky, but allows the name to be displayed on the x-axis easily \n",
    "lamp = lamp.rename(columns={\"Project Name\":\"LAMP Lodge\"})\n",
    "lamp = lamp.replace({\"LAMP Lodge\": \" \"})"
   ]
  },
  {
   "cell_type": "code",
   "execution_count": 78,
   "metadata": {},
   "outputs": [
    {
     "data": {
      "text/html": [
       "\n",
       "<div id=\"altair-viz-4f2096b9739a4f7b953ae3cc61c204f5\"></div>\n",
       "<script type=\"text/javascript\">\n",
       "  (function(spec, embedOpt){\n",
       "    const outputDiv = document.getElementById(\"altair-viz-4f2096b9739a4f7b953ae3cc61c204f5\");\n",
       "    const paths = {\n",
       "      \"vega\": \"https://cdn.jsdelivr.net/npm//vega@5?noext\",\n",
       "      \"vega-lib\": \"https://cdn.jsdelivr.net/npm//vega-lib?noext\",\n",
       "      \"vega-lite\": \"https://cdn.jsdelivr.net/npm//vega-lite@4.0.2?noext\",\n",
       "      \"vega-embed\": \"https://cdn.jsdelivr.net/npm//vega-embed@6?noext\",\n",
       "    };\n",
       "\n",
       "    function loadScript(lib) {\n",
       "      return new Promise(function(resolve, reject) {\n",
       "        var s = document.createElement('script');\n",
       "        s.src = paths[lib];\n",
       "        s.async = true;\n",
       "        s.onload = () => resolve(paths[lib]);\n",
       "        s.onerror = () => reject(`Error loading script: ${paths[lib]}`);\n",
       "        document.getElementsByTagName(\"head\")[0].appendChild(s);\n",
       "      });\n",
       "    }\n",
       "\n",
       "    function showError(err) {\n",
       "      outputDiv.innerHTML = `<div class=\"error\" style=\"color:red;\">${err}</div>`;\n",
       "      throw err;\n",
       "    }\n",
       "\n",
       "    function displayChart(vegaEmbed) {\n",
       "      vegaEmbed(outputDiv, spec, embedOpt)\n",
       "        .catch(err => showError(`Javascript Error: ${err.message}<br>This usually means there's a typo in your chart specification. See the javascript console for the full traceback.`));\n",
       "    }\n",
       "\n",
       "    if(typeof define === \"function\" && define.amd) {\n",
       "      requirejs.config({paths});\n",
       "      require([\"vega-embed\"], displayChart, err => showError(`Error loading script: ${err.message}`));\n",
       "    } else if (typeof vegaEmbed === \"function\") {\n",
       "      displayChart(vegaEmbed);\n",
       "    } else {\n",
       "      loadScript(\"vega\")\n",
       "        .then(() => loadScript(\"vega-lite\"))\n",
       "        .then(() => loadScript(\"vega-embed\"))\n",
       "        .catch(showError)\n",
       "        .then(() => displayChart(vegaEmbed));\n",
       "    }\n",
       "  })({\"width\": 70, \"height\": 550, \"config\": {\"title\": {\"fontSize\": 18, \"font\": \"Veranda Regular\", \"anchor\": \"start\", \"fontColor\": \"#000000\"}, \"range\": {\"category\": [\"#5B6770\", \"#4E74B\", \"#FFB81D\", \"#B7B09D\", \"#00B3E3\", \"#011E41\", \"#E74C39\", \"#C4820E\", \"#003262\", \"#EE1F60\"], \"diverging\": [\"#5B6770\", \"#4E74B\", \"#FFB81D\", \"#B7B09D\", \"#00B3E3\", \"#011E41\", \"#E74C39\", \"#C4820E\", \"#003262\", \"#EE1F60\"]}, \"legend\": {\"labelFont\": \"Veranda Regular\", \"labelLimit\": 0}, \"bar\": {\"size\": 40, \"fill\": [\"#5B6770\", \"#4E74B\", \"#FFB81D\", \"#B7B09D\", \"#00B3E3\", \"#011E41\", \"#E74C39\", \"#C4820E\", \"#003262\", \"#EE1F60\"], \"stroke\": false}, \"background\": \"#ffffff\"}, \"data\": {\"name\": \"data-f0e25b9a7a97b79958752fda06ed627d\"}, \"mark\": \"bar\", \"encoding\": {\"color\": {\"type\": \"nominal\", \"field\": \"Source\"}, \"tooltip\": [{\"type\": \"nominal\", \"field\": \"Source\"}], \"x\": {\"type\": \"nominal\", \"field\": \"LAMP Lodge\"}, \"y\": {\"type\": \"quantitative\", \"field\": \"Amount of Funds\"}}, \"title\": {\"text\": [\"Large LIHTC Projects in California Can Need Many Sources to Fill the Gaps in Permanent Financing\"], \"subtitle\": [\"A $35 Milion Project still needs to apply for a $800,000 grant from the Federal Home Loan Bank to pencil\"]}, \"$schema\": \"https://vega.github.io/schema/vega-lite/v4.0.2.json\", \"datasets\": {\"data-f0e25b9a7a97b79958752fda06ed627d\": [{\"Unnamed: 0\": 166, \"Source\": \"City of Los Angeles- Donated Land\", \"Amount of Funds\": 1825379, \"Financing Type\": \"Construction Financing\", \"LAMP Lodge\": \" \", \"Sourcing Type\": \"Local Grant\"}, {\"Unnamed: 0\": 169, \"Source\": \"Federal Home Loan Bank- AHP\", \"Amount of Funds\": 810000, \"Financing Type\": \"Construction Financing\", \"LAMP Lodge\": \" \", \"Sourcing Type\": \"Bank Loan\"}, {\"Unnamed: 0\": 170, \"Source\": \"HCID HOPWA\", \"Amount of Funds\": 1470740, \"Financing Type\": \"Construction Financing\", \"LAMP Lodge\": \" \", \"Sourcing Type\": \"Local Grant\"}, {\"Unnamed: 0\": 171, \"Source\": \"HCID HOME\", \"Amount of Funds\": 2600000, \"Financing Type\": \"Construction Financing\", \"LAMP Lodge\": \" \", \"Sourcing Type\": \"Local Grant\"}, {\"Unnamed: 0\": 172, \"Source\": \"Tax Credit Equity\", \"Amount of Funds\": 18535336, \"Financing Type\": \"Construction Financing\", \"LAMP Lodge\": \" \", \"Sourcing Type\": \"Federal Credit\"}, {\"Unnamed: 0\": 173, \"Source\": \"HCD Recast\", \"Amount of Funds\": 1834621, \"Financing Type\": \"Construction Financing\", \"LAMP Lodge\": \" \", \"Sourcing Type\": \"State Funding\"}, {\"Unnamed: 0\": 176, \"Source\": \"Perm Loan 1st Trust Deed - Chase Bank\", \"Amount of Funds\": 3167765, \"Financing Type\": \"Permanent Financing\", \"LAMP Lodge\": \" \", \"Sourcing Type\": \"Bank Loan\"}, {\"Unnamed: 0\": 178, \"Source\": \"LACDC -  AHTF\", \"Amount of Funds\": 2000000, \"Financing Type\": \"Permanent Financing\", \"LAMP Lodge\": \" \", \"Sourcing Type\": \"Local Grant\"}, {\"Unnamed: 0\": 179, \"Source\": \"LACDC - MHHP\", \"Amount of Funds\": 3000000, \"Financing Type\": \"Permanent Financing\", \"LAMP Lodge\": \" \", \"Sourcing Type\": \"Local Grant\"}, {\"Unnamed: 0\": 184, \"Source\": \"Deferred Developer Fee\", \"Amount of Funds\": 63117, \"Financing Type\": \"Permanent Financing\", \"LAMP Lodge\": \" \", \"Sourcing Type\": \"Deferred Developer Fee\"}]}}, {\"mode\": \"vega-lite\"});\n",
       "</script>"
      ],
      "text/plain": [
       "alt.Chart(...)"
      ]
     },
     "execution_count": 78,
     "metadata": {},
     "output_type": "execute_result"
    }
   ],
   "source": [
    "alt.Chart(lamp).mark_bar().encode(\n",
    "    \n",
    "    x='LAMP Lodge',\n",
    "    y='Amount of Funds',\n",
    "    color='Source',\n",
    "    tooltip=['Source']\n",
    ").configure(background=\"#ffffff\").configure_legend().properties(\n",
    "    title={\n",
    "      \"text\": [\"Large LIHTC Projects in California Can Need Many Sources to Fill the Gaps in Permanent Financing\"], \n",
    "      \"subtitle\": [\"A $35 Milion Project still needs to apply for a $800,000 grant from the Federal Home Loan Bank to pencil\"]})\n",
    "\n",
    "\n"
   ]
  },
  {
   "cell_type": "markdown",
   "metadata": {},
   "source": [
    "### California vs. Georgia Comparion graph "
   ]
  },
  {
   "cell_type": "code",
   "execution_count": 93,
   "metadata": {},
   "outputs": [],
   "source": [
    "#this is a small subset of similar (in cost and number of units) and complex (looking for more types of funding) lihtc files i made for zach \n",
    "df = pd.read_csv(\"/Users/quinnunderriner/Desktop/Work/lihtc_final_analysis/comparison_file_LIHTC_for_Zach.csv\") "
   ]
  },
  {
   "cell_type": "code",
   "execution_count": 94,
   "metadata": {},
   "outputs": [],
   "source": [
    "# Filter for just CarpenterHall and Avena Bella,\n",
    "df_sub1 = df[df[\"Project Name\"].isin([\"Avena Bella, Phase 2\",\"flatssamlaneg\"])]\n",
    "#change some text so its nicer on the graph \n",
    "df_sub1 = df_sub1.rename(columns={\"Financing_sub_cat\":\"Financing Type\"})\n",
    "#per discussion removing name of project (LET ME KNOW IF YOU WOULD PREFER OTHER NAMES)\n",
    "df_sub1 = df_sub1.replace({\n",
    "    'Project Name':{\"Avena Bella, Phase 2\":\"California Project X\",\"flatssamlaneg\":\"Georgia Project Y\"}})\n",
    "#filter for just perm financing \n",
    "df_sub1[\"Funding Type\"] = df_sub1[df_sub1[\"Funding Type\"]== 'Permanent Financing']"
   ]
  },
  {
   "cell_type": "code",
   "execution_count": 126,
   "metadata": {},
   "outputs": [
    {
     "data": {
      "text/plain": [
       "ThemeRegistry.enable('terner_theme2')"
      ]
     },
     "execution_count": 126,
     "metadata": {},
     "output_type": "execute_result"
    }
   ],
   "source": [
    "#this function sets all of the custom settings for the charts \n",
    "\n",
    "def terner_theme2():\n",
    "    # Typography\n",
    "    font = \"Veranda Regular\"\n",
    "    labelFont = \"Veranda Regular\" \n",
    "    sourceFont = \"Veranda Regular\"\n",
    "    # Axes\n",
    "    axisColor = \"#FFFFFF\"\n",
    "    gridColor = \"#DEDDDD\"\n",
    "    markColor = \"#a6833d\"\n",
    "    # Colors\n",
    "    main_palette = [\"#FFB81D\",\n",
    "                          \"#00A598\",\n",
    "                    \"#B7B09D\",\n",
    "                    \"#00B3E3\",\n",
    "                    \"#011E41\",\n",
    "                    \"#E74C39\",\n",
    "                    \"#C4820E\",\n",
    "                    \"#5B6770\"]\n",
    "                    \n",
    "    sequential_palette = [\"#FFB81D\",\n",
    "                          \"#00A598\",\n",
    "                    \"#B7B09D\",\n",
    "                    \"#00B3E3\",\n",
    "                    \"#011E41\",\n",
    "                    \"#E74C39\",\n",
    "                    \"#C4820E\",\n",
    "                    \"#5B6770\"\n",
    "                    ]\n",
    "    \n",
    "    return{\"width\": 550, \n",
    "          \"height\": 70, \n",
    "          \"config\": {\n",
    "              \"title\": {\n",
    "                  \"fontSize\": 18,\n",
    "                  \"font\": font,\n",
    "                  \"anchor\": \"start\", \n",
    "                  \"fontColor\": \"#000000\"\n",
    "              },\n",
    "              \n",
    "              \"range\": {\n",
    "                  \"category\": main_palette,\n",
    "                  \"diverging\": sequential_palette,\n",
    "\n",
    "              \n",
    "            },\n",
    "                      \"legend\": {\n",
    "                  \"labelFont\": labelFont,\n",
    "                  \"labelLimit\": 0\n",
    "                      },\n",
    "}\n",
    "    }\n",
    "\n",
    "# register\n",
    "alt.themes.register(\"terner_theme2\", terner_theme2)\n",
    "# enable\n",
    "alt.themes.enable(\"terner_theme2\")"
   ]
  },
  {
   "cell_type": "code",
   "execution_count": 127,
   "metadata": {},
   "outputs": [
    {
     "data": {
      "text/html": [
       "\n",
       "<div id=\"altair-viz-6a0bb7a212f548a0818a2981560b1891\"></div>\n",
       "<script type=\"text/javascript\">\n",
       "  (function(spec, embedOpt){\n",
       "    const outputDiv = document.getElementById(\"altair-viz-6a0bb7a212f548a0818a2981560b1891\");\n",
       "    const paths = {\n",
       "      \"vega\": \"https://cdn.jsdelivr.net/npm//vega@5?noext\",\n",
       "      \"vega-lib\": \"https://cdn.jsdelivr.net/npm//vega-lib?noext\",\n",
       "      \"vega-lite\": \"https://cdn.jsdelivr.net/npm//vega-lite@4.0.2?noext\",\n",
       "      \"vega-embed\": \"https://cdn.jsdelivr.net/npm//vega-embed@6?noext\",\n",
       "    };\n",
       "\n",
       "    function loadScript(lib) {\n",
       "      return new Promise(function(resolve, reject) {\n",
       "        var s = document.createElement('script');\n",
       "        s.src = paths[lib];\n",
       "        s.async = true;\n",
       "        s.onload = () => resolve(paths[lib]);\n",
       "        s.onerror = () => reject(`Error loading script: ${paths[lib]}`);\n",
       "        document.getElementsByTagName(\"head\")[0].appendChild(s);\n",
       "      });\n",
       "    }\n",
       "\n",
       "    function showError(err) {\n",
       "      outputDiv.innerHTML = `<div class=\"error\" style=\"color:red;\">${err}</div>`;\n",
       "      throw err;\n",
       "    }\n",
       "\n",
       "    function displayChart(vegaEmbed) {\n",
       "      vegaEmbed(outputDiv, spec, embedOpt)\n",
       "        .catch(err => showError(`Javascript Error: ${err.message}<br>This usually means there's a typo in your chart specification. See the javascript console for the full traceback.`));\n",
       "    }\n",
       "\n",
       "    if(typeof define === \"function\" && define.amd) {\n",
       "      requirejs.config({paths});\n",
       "      require([\"vega-embed\"], displayChart, err => showError(`Error loading script: ${err.message}`));\n",
       "    } else if (typeof vegaEmbed === \"function\") {\n",
       "      displayChart(vegaEmbed);\n",
       "    } else {\n",
       "      loadScript(\"vega\")\n",
       "        .then(() => loadScript(\"vega-lite\"))\n",
       "        .then(() => loadScript(\"vega-embed\"))\n",
       "        .catch(showError)\n",
       "        .then(() => displayChart(vegaEmbed));\n",
       "    }\n",
       "  })({\"width\": 550, \"height\": 70, \"config\": {\"title\": {\"fontSize\": 18, \"font\": \"Veranda Regular\", \"anchor\": \"start\", \"fontColor\": \"#000000\"}, \"range\": {\"category\": [\"#FFB81D\", \"#00A598\", \"#B7B09D\", \"#00B3E3\", \"#011E41\", \"#E74C39\", \"#C4820E\", \"#5B6770\"], \"diverging\": [\"#FFB81D\", \"#00A598\", \"#B7B09D\", \"#00B3E3\", \"#011E41\", \"#E74C39\", \"#C4820E\", \"#5B6770\"]}, \"legend\": {\"labelFont\": \"Veranda Regular\", \"labelLimit\": 0}, \"background\": \"#ffffff\"}, \"data\": {\"name\": \"data-37664866035dc4a446b0d13e7d528626\"}, \"mark\": \"bar\", \"encoding\": {\"color\": {\"type\": \"nominal\", \"field\": \"Financing Type\"}, \"tooltip\": [{\"type\": \"nominal\", \"field\": \"Financing Type\"}], \"x\": {\"type\": \"quantitative\", \"field\": \"Amount of Funds\"}, \"y\": {\"type\": \"nominal\", \"field\": \"Project Name\"}}, \"title\": {\"text\": [\"Two Similary Sized LIHTC Projects in Different States Have Different Capital Stacks\"]}, \"$schema\": \"https://vega.github.io/schema/vega-lite/v4.0.2.json\", \"datasets\": {\"data-37664866035dc4a446b0d13e7d528626\": [{\"Unnamed: 0\": 2284, \"Project Name\": \"California Project X\", \"Financing Type\": \"Bank Loan\", \"Interest Rate\": \"5.75%\", \"Funding Type\": null, \"Project Type\": \"Family\", \"Amount of Funds\": 10063967.0, \"State\": \"California\", \"0\": null, \"Total Units\": 61.0}, {\"Unnamed: 0\": 2301, \"Project Name\": \"California Project X\", \"Financing Type\": \"Local Grant\", \"Interest Rate\": \"3.00%\", \"Funding Type\": null, \"Project Type\": \"Family\", \"Amount of Funds\": 4000000.0, \"State\": \"California\", \"0\": null, \"Total Units\": 61.0}, {\"Unnamed: 0\": 2318, \"Project Name\": \"California Project X\", \"Financing Type\": \"Local Grant\", \"Interest Rate\": \"3.00%\", \"Funding Type\": null, \"Project Type\": \"Family\", \"Amount of Funds\": 2200000.0, \"State\": \"California\", \"0\": null, \"Total Units\": 61.0}, {\"Unnamed: 0\": 2335, \"Project Name\": \"California Project X\", \"Financing Type\": \"Bank Loan\", \"Interest Rate\": \"0.00%\", \"Funding Type\": null, \"Project Type\": \"Family\", \"Amount of Funds\": 600000.0, \"State\": \"California\", \"0\": null, \"Total Units\": 61.0}, {\"Unnamed: 0\": 2352, \"Project Name\": \"California Project X\", \"Financing Type\": \"Donated Land\", \"Interest Rate\": null, \"Funding Type\": null, \"Project Type\": \"Family\", \"Amount of Funds\": 885000.0, \"State\": \"California\", \"0\": null, \"Total Units\": 61.0}, {\"Unnamed: 0\": 2369, \"Project Name\": \"California Project X\", \"Financing Type\": \"Local Grant\", \"Interest Rate\": \"0.00%\", \"Funding Type\": null, \"Project Type\": \"Family\", \"Amount of Funds\": 300913.0, \"State\": \"California\", \"0\": null, \"Total Units\": 61.0}, {\"Unnamed: 0\": 2386, \"Project Name\": \"California Project X\", \"Financing Type\": \"Federal Credit\", \"Interest Rate\": null, \"Funding Type\": null, \"Project Type\": \"Family\", \"Amount of Funds\": 104263.0, \"State\": \"California\", \"0\": null, \"Total Units\": 61.0}, {\"Unnamed: 0\": 2403, \"Project Name\": \"California Project X\", \"Financing Type\": \"Deferred Developer Fee\", \"Interest Rate\": null, \"Funding Type\": null, \"Project Type\": \"Family\", \"Amount of Funds\": 807826.0, \"State\": \"California\", \"0\": null, \"Total Units\": 61.0}, {\"Unnamed: 0\": 2420, \"Project Name\": \"California Project X\", \"Financing Type\": \"Local Grant\", \"Interest Rate\": \"5.650%\", \"Funding Type\": 2420.0, \"Project Type\": \"Family\", \"Amount of Funds\": 445000.0, \"State\": \"California\", \"0\": null, \"Total Units\": 61.0}, {\"Unnamed: 0\": 2437, \"Project Name\": \"California Project X\", \"Financing Type\": \"State Funding\", \"Interest Rate\": \"3.000%\", \"Funding Type\": 2437.0, \"Project Type\": \"Family\", \"Amount of Funds\": 1661667.0, \"State\": \"California\", \"0\": null, \"Total Units\": 61.0}, {\"Unnamed: 0\": 2454, \"Project Name\": \"California Project X\", \"Financing Type\": \"Local Grant\", \"Interest Rate\": \"3.000%\", \"Funding Type\": 2454.0, \"Project Type\": \"Family\", \"Amount of Funds\": 4000000.0, \"State\": \"California\", \"0\": null, \"Total Units\": 61.0}, {\"Unnamed: 0\": 2471, \"Project Name\": \"California Project X\", \"Financing Type\": \"Local Grant\", \"Interest Rate\": \"3.000%\", \"Funding Type\": 2471.0, \"Project Type\": \"Family\", \"Amount of Funds\": 2200000.0, \"State\": \"California\", \"0\": null, \"Total Units\": 61.0}, {\"Unnamed: 0\": 2488, \"Project Name\": \"California Project X\", \"Financing Type\": \"Bank Loan\", \"Interest Rate\": \"0.000%\", \"Funding Type\": 2488.0, \"Project Type\": \"Family\", \"Amount of Funds\": 600000.0, \"State\": \"California\", \"0\": null, \"Total Units\": 61.0}, {\"Unnamed: 0\": 2505, \"Project Name\": \"California Project X\", \"Financing Type\": \"Donated Land\", \"Interest Rate\": null, \"Funding Type\": 2505.0, \"Project Type\": \"Family\", \"Amount of Funds\": 885000.0, \"State\": \"California\", \"0\": null, \"Total Units\": 61.0}, {\"Unnamed: 0\": 2522, \"Project Name\": \"California Project X\", \"Financing Type\": \"Local Grant\", \"Interest Rate\": \"0.000%\", \"Funding Type\": 2522.0, \"Project Type\": \"Family\", \"Amount of Funds\": 300913.0, \"State\": \"California\", \"0\": null, \"Total Units\": 61.0}, {\"Unnamed: 0\": 2539, \"Project Name\": \"California Project X\", \"Financing Type\": \"Deferred Developer Fee\", \"Interest Rate\": null, \"Funding Type\": 2539.0, \"Project Type\": \"Family\", \"Amount of Funds\": 210996.0, \"State\": \"California\", \"0\": null, \"Total Units\": 61.0}, {\"Unnamed: 0\": 2556, \"Project Name\": \"California Project X\", \"Financing Type\": \"Federal Credit\", \"Interest Rate\": null, \"Funding Type\": 2556.0, \"Project Type\": \"Family\", \"Amount of Funds\": 104263.0, \"State\": \"California\", \"0\": null, \"Total Units\": 61.0}, {\"Unnamed: 0\": 11363, \"Project Name\": \"Georgia Project Y\", \"Financing Type\": \"Deferred Developer Fee\", \"Interest Rate\": \"0.0\", \"Funding Type\": 11363.0, \"Project Type\": \"Family\", \"Amount of Funds\": 343912.0, \"State\": \"Georgia\", \"0\": null, \"Total Units\": 72.0}, {\"Unnamed: 0\": 11371, \"Project Name\": \"Georgia Project Y\", \"Financing Type\": \"Federal Housing Credit Equity\", \"Interest Rate\": null, \"Funding Type\": null, \"Project Type\": \"Family\", \"Amount of Funds\": 1136000.0, \"State\": \"Georgia\", \"0\": null, \"Total Units\": 72.0}, {\"Unnamed: 0\": 11379, \"Project Name\": \"Georgia Project Y\", \"Financing Type\": \"Federal Housing Credit Equity\", \"Interest Rate\": null, \"Funding Type\": 11379.0, \"Project Type\": \"Family\", \"Amount of Funds\": 7573000.0, \"State\": \"Georgia\", \"0\": null, \"Total Units\": 72.0}, {\"Unnamed: 0\": 11387, \"Project Name\": \"Georgia Project Y\", \"Financing Type\": \"Bank Loan\", \"Interest Rate\": \"5.5\", \"Funding Type\": null, \"Project Type\": \"Family\", \"Amount of Funds\": 10000000.0, \"State\": \"Georgia\", \"0\": null, \"Total Units\": 72.0}, {\"Unnamed: 0\": 11395, \"Project Name\": \"Georgia Project Y\", \"Financing Type\": \"Bank Loan\", \"Interest Rate\": \"1.0\", \"Funding Type\": 11395.0, \"Project Type\": \"Family\", \"Amount of Funds\": 2000000.0, \"State\": \"Georgia\", \"0\": null, \"Total Units\": 72.0}, {\"Unnamed: 0\": 11403, \"Project Name\": \"Georgia Project Y\", \"Financing Type\": \"Bank Loan\", \"Interest Rate\": \"0.0\", \"Funding Type\": null, \"Project Type\": \"Family\", \"Amount of Funds\": 2000000.0, \"State\": \"Georgia\", \"0\": null, \"Total Units\": 72.0}, {\"Unnamed: 0\": 11411, \"Project Name\": \"Georgia Project Y\", \"Financing Type\": \"State Housing Credit Equity\", \"Interest Rate\": null, \"Funding Type\": null, \"Project Type\": \"Family\", \"Amount of Funds\": 714000.0, \"State\": \"Georgia\", \"0\": null, \"Total Units\": 72.0}, {\"Unnamed: 0\": 11419, \"Project Name\": \"Georgia Project Y\", \"Financing Type\": \"State Housing Credit Equity\", \"Interest Rate\": null, \"Funding Type\": 11419.0, \"Project Type\": \"Family\", \"Amount of Funds\": 4757000.0, \"State\": \"Georgia\", \"0\": null, \"Total Units\": 72.0}]}}, {\"mode\": \"vega-lite\"});\n",
       "</script>"
      ],
      "text/plain": [
       "alt.Chart(...)"
      ]
     },
     "execution_count": 127,
     "metadata": {},
     "output_type": "execute_result"
    }
   ],
   "source": [
    "diff_cap = alt.Chart(df_sub1).mark_bar().encode(\n",
    "    x='Amount of Funds',\n",
    "    y='Project Name',\n",
    "    color='Financing Type',\n",
    "    tooltip=['Financing Type']\n",
    ").configure(background=\"#ffffff\").configure_legend().properties(\n",
    "    title={\n",
    "      \"text\": [\"Two Similary Sized LIHTC Projects in Different States Have Different Capital Stacks\"]})\n",
    "\n",
    "diff_cap"
   ]
  }
 ],
 "metadata": {
  "kernelspec": {
   "display_name": "Python 3",
   "language": "python",
   "name": "python3"
  },
  "language_info": {
   "codemirror_mode": {
    "name": "ipython",
    "version": 3
   },
   "file_extension": ".py",
   "mimetype": "text/x-python",
   "name": "python",
   "nbconvert_exporter": "python",
   "pygments_lexer": "ipython3",
   "version": "3.7.2"
  }
 },
 "nbformat": 4,
 "nbformat_minor": 2
}
