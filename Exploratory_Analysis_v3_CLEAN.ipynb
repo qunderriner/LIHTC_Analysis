{
 "cells": [
  {
   "cell_type": "code",
   "execution_count": 1,
   "metadata": {},
   "outputs": [],
   "source": [
    "import pandas as pd\n",
    "import numpy as np\n",
    "import altair as alt\n",
    "import seaborn as sns\n",
    "import re\n",
    "import warnings\n",
    "warnings.filterwarnings('ignore')\n",
    "np.set_printoptions(precision=3)\n",
    "pd.set_option('display.float_format', lambda x: '%.3f' % x)"
   ]
  },
  {
   "cell_type": "markdown",
   "metadata": {},
   "source": [
    "At this point data has been scraped from the relavent gov websites for 9% LIHTC data- want to clean and combine it\n"
   ]
  },
  {
   "cell_type": "code",
   "execution_count": 2,
   "metadata": {},
   "outputs": [],
   "source": [
    "ohio = pd.read_csv(\"Ohio_LIHTC_Approved_9%_augmented.csv\")\n",
    "georgia = pd.read_csv(\"Georgia_LIHTC_Approved_9%_augmented.csv\")\n",
    "california = pd.read_csv(\"California_LIHTC_Nine_Percent_augmented.csv\")\n",
    "virginia = pd.read_csv(\"Virginia_LIHTC_Approved_9%.csv\")"
   ]
  },
  {
   "cell_type": "markdown",
   "metadata": {},
   "source": [
    "First I want to create a concatianted subgrouping of all four states with project name, funding type, interest rate and amount of funds. I create state names columns, do some column \n",
    "renaming, would ideally make this a function if I have time "
   ]
  },
  {
   "cell_type": "code",
   "execution_count": 3,
   "metadata": {},
   "outputs": [],
   "source": [
    "california_financing = california[[\"Project Name_x\",\"Sourcing Type\",\"Interest Rate\",\"Financing Type\",\"Housing Type_x\",\"Amount of Funds\"]]\n",
    "california_financing[\"State\"] = \"California\"\n",
    "california_financing = california_financing.rename(columns={\"Project Name_x\":\"Project Name\",\n",
    "                                                            \"Sourcing Type\":\"Financing_sub_cat\",\n",
    "                                                            \"Housing Type_x\":\"Project Type\",\n",
    "                                                           \"Financing Type\":\"Funding Type\"})"
   ]
  },
  {
   "cell_type": "code",
   "execution_count": 4,
   "metadata": {},
   "outputs": [],
   "source": [
    "virginia_financing = virginia[[\"File Name\",\"Financing_sub_cat\",\"Funding Type\",\"Interest Rate\",\"Amount of Funds\"]]\n",
    "virginia_financing[\"State\"] = \"Virginia\"\n",
    "virginia_financing = virginia_financing.rename(columns={\"File Name\":\"Project Name\"})"
   ]
  },
  {
   "cell_type": "code",
   "execution_count": 5,
   "metadata": {},
   "outputs": [],
   "source": [
    "ohio_financing = ohio[[\"Project Name\",\"Project Population\",\"Financing_sub_cat\",\"Funding Type\",\"Amount of Funds\"]]\n",
    "ohio_financing[\"State\"] = \"Ohio\"\n",
    "ohio_financing = ohio_financing.rename(columns={\"Project Population\":\"Project Type\"})\n",
    "ohio[\"Funding Type\"] = ohio[\"Funding Type\"].str[:-8]"
   ]
  },
  {
   "cell_type": "code",
   "execution_count": 6,
   "metadata": {},
   "outputs": [],
   "source": [
    "georgia_financing = georgia[[\"File Name\",\"Financing_sub_cat\",\"Effective Interest Rate\",\"Funding Type\",\"Project Type\",\"Amount of Funds\"]]\n",
    "georgia_financing[\"State\"] = \"Georgia\"\n",
    "georgia_financing = georgia_financing.rename(columns={\"Effective Interest Rate\":\"Interest Rate\",\"File Name\":\"Project Name\"})\n",
    "georgia_financing[\"Interest Rate\"] = georgia_financing[\"Interest Rate\"] *100 "
   ]
  },
  {
   "cell_type": "code",
   "execution_count": 7,
   "metadata": {},
   "outputs": [],
   "source": [
    "financing = pd.concat([california_financing, virginia_financing,ohio_financing,georgia_financing], ignore_index=True)"
   ]
  },
  {
   "cell_type": "code",
   "execution_count": 8,
   "metadata": {},
   "outputs": [],
   "source": [
    "financing[\"Amount of Funds\"].replace(regex=True, inplace=True, to_replace=r'[^0-9.\\-]', value=r'')\n",
    "#overall distribution of interest rates \n",
    "financing[\"Amount of Funds\"] = pd.to_numeric(financing[\"Amount of Funds\"], errors='coerce')\n",
    "\n",
    "financing = financing.replace({\"Elderly\": \"Seniors\", \"HFOP\": \"Seniors\",\"Families\":\"Family\",\"Large Family\":\"Family\"})\n"
   ]
  },
  {
   "cell_type": "code",
   "execution_count": 9,
   "metadata": {},
   "outputs": [],
   "source": [
    "#label whether not a source of funding is gov grant financing \n",
    "\n",
    "gov_grant = ['Local Grant','State Grant','City Grant', 'Federal Grant']\n",
    "\n",
    "def label_gov_grant(x):\n",
    "    if x[\"Financing_sub_cat\"] in gov_grant:\n",
    "        return 1\n",
    "    else:\n",
    "        return 0 \n",
    "\n",
    "financing[\"Gov_Grant\"] = financing.apply(lambda x: label_gov_grant(x),axis=1)"
   ]
  },
  {
   "cell_type": "code",
   "execution_count": 10,
   "metadata": {},
   "outputs": [],
   "source": [
    "#standarize funding type names \n",
    "#grants is just virginia and just three. and subsidized financing is just 9 things in virginia  \n",
    "financing[\"Funding Type\"] = financing[\"Funding Type\"].replace({\"Permanent Financing Sources\": 'Permanent Financing',\n",
    "                                   'Construction Financing Sources':\"Construction Financing\"})"
   ]
  },
  {
   "cell_type": "markdown",
   "metadata": {},
   "source": [
    "### What are “typical” capital stacks?  E.g., what does a project with 2-3 permanent funding sources look like compared to a project with 4-5 v. more than 6?  I think it might be helpful just to illustrate how quickly it can get very complex.\n"
   ]
  },
  {
   "cell_type": "markdown",
   "metadata": {},
   "source": [
    "Total count below "
   ]
  },
  {
   "cell_type": "code",
   "execution_count": 11,
   "metadata": {},
   "outputs": [],
   "source": [
    "financing_count = financing[[\"Financing_sub_cat\",\"Project Name\"]].groupby(\"Project Name\").count().reset_index()\n"
   ]
  },
  {
   "cell_type": "markdown",
   "metadata": {},
   "source": [
    "Average of about 8 funding sources per project, with the 25 percentile still needing 5 sources "
   ]
  },
  {
   "cell_type": "code",
   "execution_count": 12,
   "metadata": {},
   "outputs": [
    {
     "data": {
      "text/plain": [
       "count   147.000\n",
       "mean      7.952\n",
       "std       3.919\n",
       "min       1.000\n",
       "25%       5.000\n",
       "50%       8.000\n",
       "75%      10.000\n",
       "max      21.000\n",
       "Name: Financing_sub_cat, dtype: float64"
      ]
     },
     "execution_count": 12,
     "metadata": {},
     "output_type": "execute_result"
    }
   ],
   "source": [
    "financing_count[\"Financing_sub_cat\"].describe()"
   ]
  },
  {
   "cell_type": "code",
   "execution_count": 13,
   "metadata": {},
   "outputs": [
    {
     "data": {
      "text/plain": [
       "148"
      ]
     },
     "execution_count": 13,
     "metadata": {},
     "output_type": "execute_result"
    }
   ],
   "source": [
    "#148 unique projects \n",
    "len(financing[\"Project Name\"].unique())"
   ]
  },
  {
   "cell_type": "code",
   "execution_count": 14,
   "metadata": {},
   "outputs": [
    {
     "data": {
      "text/plain": [
       "1232"
      ]
     },
     "execution_count": 14,
     "metadata": {},
     "output_type": "execute_result"
    }
   ],
   "source": [
    "#1228 individual finance entries \n",
    "len(financing)"
   ]
  },
  {
   "cell_type": "code",
   "execution_count": 15,
   "metadata": {},
   "outputs": [
    {
     "data": {
      "text/plain": [
       "Financing_sub_cat            \n",
       "Bank Loan                        309\n",
       "Local Grant                      216\n",
       "Deferred Developer Fee           153\n",
       "Other                            126\n",
       "State Housing Credit Equity       85\n",
       "Federal Housing Credit Equity     63\n",
       "State Grant                       56\n",
       "Tax Credit                        56\n",
       "Federal Credit                    18\n",
       "Federal Loan                      18\n",
       "Federal Home Loan Bank            14\n",
       "Fee Waivers                        9\n",
       "State Funding                      9\n",
       "City Grant                         8\n",
       "Tax Credit Equity                  7\n",
       "Public Private Partnership         7\n",
       "Federal Grant                      5\n",
       "Land Donation                      5\n",
       "Historic Tax Credit                3\n",
       "State Credit                       3\n",
       "Donated Land                       2\n",
       "Affordable Housing Trust           1\n",
       "dtype: int64"
      ]
     },
     "execution_count": 15,
     "metadata": {},
     "output_type": "execute_result"
    }
   ],
   "source": [
    "financing[[\"Financing_sub_cat\"]].value_counts()"
   ]
  },
  {
   "cell_type": "markdown",
   "metadata": {},
   "source": [
    "Variation in the average number of funding sources per state. Virginia the lowest (although also smallest sample size)\n",
    "at 4.3, with Georgia at 7.9, California at 9.2, and Ohio at 10.7"
   ]
  },
  {
   "cell_type": "code",
   "execution_count": 16,
   "metadata": {},
   "outputs": [],
   "source": [
    "#Now to do the same analysis by state \n",
    "financing_count_state = financing[[\"State\",\"Financing_sub_cat\",\"Project Name\"]].groupby([\"State\"]).describe().reset_index()\n",
    "financing_count_state[\"Avg. Per State\"] = financing_count_state[\"Project Name\"][\"count\"]/financing_count_state[\"Project Name\"][\"unique\"]"
   ]
  },
  {
   "cell_type": "markdown",
   "metadata": {},
   "source": [
    "Stacked bar charts of the type of financing per project by state "
   ]
  },
  {
   "cell_type": "code",
   "execution_count": 17,
   "metadata": {},
   "outputs": [
    {
     "data": {
      "text/html": [
       "\n",
       "<div id=\"altair-viz-42668d316dc6493eb87b5e450778a299\"></div>\n",
       "<script type=\"text/javascript\">\n",
       "  (function(spec, embedOpt){\n",
       "    const outputDiv = document.getElementById(\"altair-viz-42668d316dc6493eb87b5e450778a299\");\n",
       "    const paths = {\n",
       "      \"vega\": \"https://cdn.jsdelivr.net/npm//vega@5?noext\",\n",
       "      \"vega-lib\": \"https://cdn.jsdelivr.net/npm//vega-lib?noext\",\n",
       "      \"vega-lite\": \"https://cdn.jsdelivr.net/npm//vega-lite@4.0.2?noext\",\n",
       "      \"vega-embed\": \"https://cdn.jsdelivr.net/npm//vega-embed@6?noext\",\n",
       "    };\n",
       "\n",
       "    function loadScript(lib) {\n",
       "      return new Promise(function(resolve, reject) {\n",
       "        var s = document.createElement('script');\n",
       "        s.src = paths[lib];\n",
       "        s.async = true;\n",
       "        s.onload = () => resolve(paths[lib]);\n",
       "        s.onerror = () => reject(`Error loading script: ${paths[lib]}`);\n",
       "        document.getElementsByTagName(\"head\")[0].appendChild(s);\n",
       "      });\n",
       "    }\n",
       "\n",
       "    function showError(err) {\n",
       "      outputDiv.innerHTML = `<div class=\"error\" style=\"color:red;\">${err}</div>`;\n",
       "      throw err;\n",
       "    }\n",
       "\n",
       "    function displayChart(vegaEmbed) {\n",
       "      vegaEmbed(outputDiv, spec, embedOpt)\n",
       "        .catch(err => showError(`Javascript Error: ${err.message}<br>This usually means there's a typo in your chart specification. See the javascript console for the full traceback.`));\n",
       "    }\n",
       "\n",
       "    if(typeof define === \"function\" && define.amd) {\n",
       "      requirejs.config({paths});\n",
       "      require([\"vega-embed\"], displayChart, err => showError(`Error loading script: ${err.message}`));\n",
       "    } else if (typeof vegaEmbed === \"function\") {\n",
       "      displayChart(vegaEmbed);\n",
       "    } else {\n",
       "      loadScript(\"vega\")\n",
       "        .then(() => loadScript(\"vega-lite\"))\n",
       "        .then(() => loadScript(\"vega-embed\"))\n",
       "        .catch(showError)\n",
       "        .then(() => displayChart(vegaEmbed));\n",
       "    }\n",
       "  })({\"config\": {\"view\": {\"continuousWidth\": 400, \"continuousHeight\": 300}}, \"data\": {\"name\": \"data-bab5e602492f4155ded8e83cc35182e4\"}, \"mark\": \"bar\", \"encoding\": {\"color\": {\"type\": \"nominal\", \"field\": \"Financing_sub_cat\"}, \"tooltip\": [{\"type\": \"nominal\", \"field\": \"Financing_sub_cat\"}], \"x\": {\"type\": \"nominal\", \"field\": \"Project Name\"}, \"y\": {\"type\": \"quantitative\", \"field\": \"Amount of Funds\"}}, \"$schema\": \"https://vega.github.io/schema/vega-lite/v4.0.2.json\", \"datasets\": {\"data-bab5e602492f4155ded8e83cc35182e4\": [{\"Project Name\": \"canaancrssgg\", \"Financing_sub_cat\": \"Deferred Developer Fee\", \"Interest Rate\": null, \"Funding Type\": \"Construction Financing\", \"Project Type\": \"Family\", \"Amount of Funds\": 16067.0, \"State\": \"Georgia\"}, {\"Project Name\": \"waring\", \"Financing_sub_cat\": \"Deferred Developer Fee\", \"Interest Rate\": 0.0, \"Funding Type\": \"Permanent Financing\", \"Project Type\": \"HFOP\", \"Amount of Funds\": 11779.0, \"State\": \"Georgia\"}, {\"Project Name\": \"symphony\", \"Financing_sub_cat\": \"Deferred Developer Fee\", \"Interest Rate\": 0.0, \"Funding Type\": \"Permanent Financing\", \"Project Type\": \"Family\", \"Amount of Funds\": 652.6, \"State\": \"Georgia\"}, {\"Project Name\": \"flintridgeg\", \"Financing_sub_cat\": \"Deferred Developer Fee\", \"Interest Rate\": 0.0, \"Funding Type\": \"Permanent Financing\", \"Project Type\": \"Family\", \"Amount of Funds\": 1030.0, \"State\": \"Georgia\"}, {\"Project Name\": \"canaancrssgg\", \"Financing_sub_cat\": \"Deferred Developer Fee\", \"Interest Rate\": 0.0, \"Funding Type\": \"Permanent Financing\", \"Project Type\": \"Family\", \"Amount of Funds\": 16067.0, \"State\": \"Georgia\"}, {\"Project Name\": \"newnancrossg\", \"Financing_sub_cat\": \"Deferred Developer Fee\", \"Interest Rate\": 0.0, \"Funding Type\": \"Permanent Financing\", \"Project Type\": \"HFOP\", \"Amount of Funds\": 55790.0, \"State\": \"Georgia\"}, {\"Project Name\": \"anthm2\", \"Financing_sub_cat\": \"Deferred Developer Fee\", \"Interest Rate\": 0.0, \"Funding Type\": \"Permanent Financing\", \"Project Type\": \"Elderly\", \"Amount of Funds\": 614.1, \"State\": \"Georgia\"}, {\"Project Name\": \"harperwdsg\", \"Financing_sub_cat\": \"Deferred Developer Fee\", \"Interest Rate\": 3.0, \"Funding Type\": \"Permanent Financing\", \"Project Type\": \"Family\", \"Amount of Funds\": 311859.0, \"State\": \"Georgia\"}, {\"Project Name\": \"hearthsidesmyrnag\", \"Financing_sub_cat\": \"Deferred Developer Fee\", \"Interest Rate\": 8.0, \"Funding Type\": \"Permanent Financing\", \"Project Type\": \"Elderly\", \"Amount of Funds\": 5287.0, \"State\": \"Georgia\"}, {\"Project Name\": \"_24east\", \"Financing_sub_cat\": \"Deferred Developer Fee\", \"Interest Rate\": 2.75, \"Funding Type\": \"Permanent Financing\", \"Project Type\": \"HFOP\", \"Amount of Funds\": 360206.0, \"State\": \"Georgia\"}, {\"Project Name\": \"abbgntnormewdpkg\", \"Financing_sub_cat\": \"Deferred Developer Fee\", \"Interest Rate\": null, \"Funding Type\": \"Permanent Financing\", \"Project Type\": \"Family\", \"Amount of Funds\": 56937.0, \"State\": \"Georgia\"}, {\"Project Name\": \"woodstone2g\", \"Financing_sub_cat\": \"Deferred Developer Fee\", \"Interest Rate\": null, \"Funding Type\": \"Permanent Financing\", \"Project Type\": \"Family\", \"Amount of Funds\": 637.0, \"State\": \"Georgia\"}, {\"Project Name\": \"creeksideg\", \"Financing_sub_cat\": \"Deferred Developer Fee\", \"Interest Rate\": 0.0, \"Funding Type\": \"Permanent Financing\", \"Project Type\": \"HFOP\", \"Amount of Funds\": 10.0, \"State\": \"Georgia\"}, {\"Project Name\": \"villgchickamauga2g\", \"Financing_sub_cat\": \"Deferred Developer Fee\", \"Interest Rate\": null, \"Funding Type\": \"Permanent Financing\", \"Project Type\": \"HFOP\", \"Amount of Funds\": 2315.0, \"State\": \"Georgia\"}, {\"Project Name\": \"liveoaklndg2\", \"Financing_sub_cat\": \"Deferred Developer Fee\", \"Interest Rate\": 0.0, \"Funding Type\": \"Permanent Financing\", \"Project Type\": \"Family\", \"Amount of Funds\": 9703.0, \"State\": \"Georgia\"}, {\"Project Name\": \"millvillageg\", \"Financing_sub_cat\": \"Deferred Developer Fee\", \"Interest Rate\": 0.0, \"Funding Type\": \"Permanent Financing\", \"Project Type\": \"Family\", \"Amount of Funds\": 5836.0, \"State\": \"Georgia\"}, {\"Project Name\": \"westoversr\", \"Financing_sub_cat\": \"Deferred Developer Fee\", \"Interest Rate\": 0.0, \"Funding Type\": \"Permanent Financing\", \"Project Type\": \"HFOP\", \"Amount of Funds\": 778.0, \"State\": \"Georgia\"}, {\"Project Name\": \"crowvllyhtsg\", \"Financing_sub_cat\": \"Deferred Developer Fee\", \"Interest Rate\": 0.0, \"Funding Type\": \"Permanent Financing\", \"Project Type\": \"Family\", \"Amount of Funds\": 268484.0, \"State\": \"Georgia\"}, {\"Project Name\": \"flintridgedr_g\", \"Financing_sub_cat\": \"Deferred Developer Fee\", \"Interest Rate\": 0.0, \"Funding Type\": \"Permanent Financing\", \"Project Type\": \"Family\", \"Amount of Funds\": 219615.0, \"State\": \"Georgia\"}, {\"Project Name\": \"waltonharborg\", \"Financing_sub_cat\": \"Deferred Developer Fee\", \"Interest Rate\": 0.0, \"Funding Type\": \"Permanent Financing\", \"Project Type\": \"Family\", \"Amount of Funds\": 90510.0, \"State\": \"Georgia\"}, {\"Project Name\": \"flatssamlaneg\", \"Financing_sub_cat\": \"Deferred Developer Fee\", \"Interest Rate\": 0.0, \"Funding Type\": \"Permanent Financing\", \"Project Type\": \"Family\", \"Amount of Funds\": 343912.0, \"State\": \"Georgia\"}, {\"Project Name\": \"verandaassemblyg\", \"Financing_sub_cat\": \"Deferred Developer Fee\", \"Interest Rate\": null, \"Funding Type\": \"Permanent Financing\", \"Project Type\": \"HFOP\", \"Amount of Funds\": 1389.0, \"State\": \"Georgia\"}, {\"Project Name\": \"pineviewtraceg\", \"Financing_sub_cat\": \"Deferred Developer Fee\", \"Interest Rate\": 0.0, \"Funding Type\": \"Permanent Financing\", \"Project Type\": \"Family\", \"Amount of Funds\": 33811.0, \"State\": \"Georgia\"}, {\"Project Name\": \"pineviewtraceg\", \"Financing_sub_cat\": \"Deferred Developer Fee\", \"Interest Rate\": 0.0, \"Funding Type\": \"Permanent Financing\", \"Project Type\": \"Family\", \"Amount of Funds\": 33811.0, \"State\": \"Georgia\"}, {\"Project Name\": \"suttonterrace\", \"Financing_sub_cat\": \"Deferred Developer Fee\", \"Interest Rate\": 0.0, \"Funding Type\": \"Permanent Financing\", \"Project Type\": \"Family\", \"Amount of Funds\": 1148.0, \"State\": \"Georgia\"}, {\"Project Name\": \"woodlawnsrvllgg\", \"Financing_sub_cat\": \"Deferred Developer Fee\", \"Interest Rate\": 0.0, \"Funding Type\": \"Permanent Financing\", \"Project Type\": \"HFOP\", \"Amount of Funds\": 8118.0, \"State\": \"Georgia\"}, {\"Project Name\": \"anthm2\", \"Financing_sub_cat\": \"Federal Grant\", \"Interest Rate\": null, \"Funding Type\": \"Construction Financing\", \"Project Type\": \"Elderly\", \"Amount of Funds\": 623000.0, \"State\": \"Georgia\"}, {\"Project Name\": \"anthm2\", \"Financing_sub_cat\": \"Federal Grant\", \"Interest Rate\": null, \"Funding Type\": \"Permanent Financing\", \"Project Type\": \"Elderly\", \"Amount of Funds\": 623000.0, \"State\": \"Georgia\"}, {\"Project Name\": \"waring\", \"Financing_sub_cat\": \"Federal Housing Credit Equity\", \"Interest Rate\": null, \"Funding Type\": \"Construction Financing\", \"Project Type\": \"HFOP\", \"Amount of Funds\": 466848.0, \"State\": \"Georgia\"}, {\"Project Name\": \"waring\", \"Financing_sub_cat\": \"Federal Housing Credit Equity\", \"Interest Rate\": null, \"Funding Type\": \"Permanent Financing\", \"Project Type\": \"HFOP\", \"Amount of Funds\": 2651735.0, \"State\": \"Georgia\"}, {\"Project Name\": \"symphony\", \"Financing_sub_cat\": \"Federal Housing Credit Equity\", \"Interest Rate\": null, \"Funding Type\": \"Construction Financing\", \"Project Type\": \"Family\", \"Amount of Funds\": 4563450.51, \"State\": \"Georgia\"}, {\"Project Name\": \"symphony\", \"Financing_sub_cat\": \"Federal Housing Credit Equity\", \"Interest Rate\": null, \"Funding Type\": \"Permanent Financing\", \"Project Type\": \"Family\", \"Amount of Funds\": 6519215.01, \"State\": \"Georgia\"}, {\"Project Name\": \"flintridgeg\", \"Financing_sub_cat\": \"Federal Housing Credit Equity\", \"Interest Rate\": null, \"Funding Type\": \"Construction Financing\", \"Project Type\": \"Family\", \"Amount of Funds\": 1443792.2, \"State\": \"Georgia\"}, {\"Project Name\": \"flintridgeg\", \"Financing_sub_cat\": \"Federal Housing Credit Equity\", \"Interest Rate\": null, \"Funding Type\": \"Permanent Financing\", \"Project Type\": \"Family\", \"Amount of Funds\": 7218961.0, \"State\": \"Georgia\"}, {\"Project Name\": \"canaancrssgg\", \"Financing_sub_cat\": \"Federal Housing Credit Equity\", \"Interest Rate\": null, \"Funding Type\": \"Construction Financing\", \"Project Type\": \"Family\", \"Amount of Funds\": 746925.0, \"State\": \"Georgia\"}, {\"Project Name\": \"canaancrssgg\", \"Financing_sub_cat\": \"Federal Housing Credit Equity\", \"Interest Rate\": null, \"Funding Type\": \"Permanent Financing\", \"Project Type\": \"Family\", \"Amount of Funds\": 7469253.0, \"State\": \"Georgia\"}, {\"Project Name\": \"newnancrossg\", \"Financing_sub_cat\": \"Federal Housing Credit Equity\", \"Interest Rate\": null, \"Funding Type\": \"Construction Financing\", \"Project Type\": \"HFOP\", \"Amount of Funds\": 1682660.0, \"State\": \"Georgia\"}, {\"Project Name\": \"newnancrossg\", \"Financing_sub_cat\": \"Federal Housing Credit Equity\", \"Interest Rate\": null, \"Funding Type\": \"Permanent Financing\", \"Project Type\": \"HFOP\", \"Amount of Funds\": 8413300.0, \"State\": \"Georgia\"}, {\"Project Name\": \"anthm2\", \"Financing_sub_cat\": \"Federal Housing Credit Equity\", \"Interest Rate\": null, \"Funding Type\": \"Construction Financing\", \"Project Type\": \"Elderly\", \"Amount of Funds\": 3987964.0, \"State\": \"Georgia\"}, {\"Project Name\": \"anthm2\", \"Financing_sub_cat\": \"Federal Housing Credit Equity\", \"Interest Rate\": null, \"Funding Type\": \"Permanent Financing\", \"Project Type\": \"Elderly\", \"Amount of Funds\": 6135331.0, \"State\": \"Georgia\"}, {\"Project Name\": \"havensatlantag\", \"Financing_sub_cat\": \"Federal Housing Credit Equity\", \"Interest Rate\": null, \"Funding Type\": \"Permanent Financing\", \"Project Type\": \"Family\", \"Amount of Funds\": 7552521.0, \"State\": \"Georgia\"}, {\"Project Name\": \"harperwdsg\", \"Financing_sub_cat\": \"Federal Housing Credit Equity\", \"Interest Rate\": null, \"Funding Type\": \"Construction Financing\", \"Project Type\": \"Family\", \"Amount of Funds\": 1762022.0, \"State\": \"Georgia\"}, {\"Project Name\": \"harperwdsg\", \"Financing_sub_cat\": \"Federal Housing Credit Equity\", \"Interest Rate\": null, \"Funding Type\": \"Permanent Financing\", \"Project Type\": \"Family\", \"Amount of Funds\": 8810110.0, \"State\": \"Georgia\"}, {\"Project Name\": \"hearthsidesmyrnag\", \"Financing_sub_cat\": \"Federal Housing Credit Equity\", \"Interest Rate\": null, \"Funding Type\": \"Construction Financing\", \"Project Type\": \"Elderly\", \"Amount of Funds\": 4710409.0, \"State\": \"Georgia\"}, {\"Project Name\": \"hearthsidesmyrnag\", \"Financing_sub_cat\": \"Federal Housing Credit Equity\", \"Interest Rate\": null, \"Funding Type\": \"Permanent Financing\", \"Project Type\": \"Elderly\", \"Amount of Funds\": 7850682.0, \"State\": \"Georgia\"}, {\"Project Name\": \"_24east\", \"Financing_sub_cat\": \"Federal Housing Credit Equity\", \"Interest Rate\": null, \"Funding Type\": \"Construction Financing\", \"Project Type\": \"HFOP\", \"Amount of Funds\": 1742224.0, \"State\": \"Georgia\"}, {\"Project Name\": \"_24east\", \"Financing_sub_cat\": \"Federal Housing Credit Equity\", \"Interest Rate\": null, \"Funding Type\": \"Permanent Financing\", \"Project Type\": \"HFOP\", \"Amount of Funds\": 8711120.0, \"State\": \"Georgia\"}, {\"Project Name\": \"wrredev2g\", \"Financing_sub_cat\": \"Federal Housing Credit Equity\", \"Interest Rate\": null, \"Funding Type\": \"Construction Financing\", \"Project Type\": \"Family\", \"Amount of Funds\": 5148000.0, \"State\": \"Georgia\"}, {\"Project Name\": \"wrredev2g\", \"Financing_sub_cat\": \"Federal Housing Credit Equity\", \"Interest Rate\": null, \"Funding Type\": \"Permanent Financing\", \"Project Type\": \"Family\", \"Amount of Funds\": 7920000.0, \"State\": \"Georgia\"}, {\"Project Name\": \"abbgntnormewdpkg\", \"Financing_sub_cat\": \"Federal Housing Credit Equity\", \"Interest Rate\": null, \"Funding Type\": \"Construction Financing\", \"Project Type\": \"Family\", \"Amount of Funds\": 3583333.0, \"State\": \"Georgia\"}, {\"Project Name\": \"abbgntnormewdpkg\", \"Financing_sub_cat\": \"Federal Housing Credit Equity\", \"Interest Rate\": null, \"Funding Type\": \"Permanent Financing\", \"Project Type\": \"Family\", \"Amount of Funds\": 5512819.0, \"State\": \"Georgia\"}, {\"Project Name\": \"woodstone2g\", \"Financing_sub_cat\": \"Federal Housing Credit Equity\", \"Interest Rate\": null, \"Funding Type\": \"Construction Financing\", \"Project Type\": \"Family\", \"Amount of Funds\": 775000.0, \"State\": \"Georgia\"}, {\"Project Name\": \"woodstone2g\", \"Financing_sub_cat\": \"Federal Housing Credit Equity\", \"Interest Rate\": null, \"Funding Type\": \"Permanent Financing\", \"Project Type\": \"Family\", \"Amount of Funds\": 3174322.0, \"State\": \"Georgia\"}, {\"Project Name\": \"creeksideg\", \"Financing_sub_cat\": \"Federal Housing Credit Equity\", \"Interest Rate\": null, \"Funding Type\": \"Construction Financing\", \"Project Type\": \"HFOP\", \"Amount of Funds\": 1275012.0, \"State\": \"Georgia\"}, {\"Project Name\": \"creeksideg\", \"Financing_sub_cat\": \"Federal Housing Credit Equity\", \"Interest Rate\": null, \"Funding Type\": \"Permanent Financing\", \"Project Type\": \"HFOP\", \"Amount of Funds\": 6375062.0, \"State\": \"Georgia\"}, {\"Project Name\": \"villgchickamauga2g\", \"Financing_sub_cat\": \"Federal Housing Credit Equity\", \"Interest Rate\": null, \"Funding Type\": \"Construction Financing\", \"Project Type\": \"HFOP\", \"Amount of Funds\": 5540571.0, \"State\": \"Georgia\"}, {\"Project Name\": \"villgchickamauga2g\", \"Financing_sub_cat\": \"Federal Housing Credit Equity\", \"Interest Rate\": null, \"Funding Type\": \"Permanent Financing\", \"Project Type\": \"HFOP\", \"Amount of Funds\": 6611791.0, \"State\": \"Georgia\"}, {\"Project Name\": \"liveoaklndg2\", \"Financing_sub_cat\": \"Federal Housing Credit Equity\", \"Interest Rate\": null, \"Funding Type\": \"Construction Financing\", \"Project Type\": \"Family\", \"Amount of Funds\": 1451294.0, \"State\": \"Georgia\"}, {\"Project Name\": \"liveoaklndg2\", \"Financing_sub_cat\": \"Federal Housing Credit Equity\", \"Interest Rate\": null, \"Funding Type\": \"Permanent Financing\", \"Project Type\": \"Family\", \"Amount of Funds\": 7256471.0, \"State\": \"Georgia\"}, {\"Project Name\": \"millvillageg\", \"Financing_sub_cat\": \"Federal Housing Credit Equity\", \"Interest Rate\": null, \"Funding Type\": \"Construction Financing\", \"Project Type\": \"Family\", \"Amount of Funds\": 1314090.0, \"State\": \"Georgia\"}, {\"Project Name\": \"millvillageg\", \"Financing_sub_cat\": \"Federal Housing Credit Equity\", \"Interest Rate\": null, \"Funding Type\": \"Permanent Financing\", \"Project Type\": \"Family\", \"Amount of Funds\": 8760600.0, \"State\": \"Georgia\"}, {\"Project Name\": \"westoversr\", \"Financing_sub_cat\": \"Federal Housing Credit Equity\", \"Interest Rate\": null, \"Funding Type\": \"Construction Financing\", \"Project Type\": \"HFOP\", \"Amount of Funds\": 1071804.6, \"State\": \"Georgia\"}, {\"Project Name\": \"westoversr\", \"Financing_sub_cat\": \"Federal Housing Credit Equity\", \"Interest Rate\": null, \"Funding Type\": \"Permanent Financing\", \"Project Type\": \"HFOP\", \"Amount of Funds\": 5359023.0, \"State\": \"Georgia\"}, {\"Project Name\": \"thriveswtauburng\", \"Financing_sub_cat\": \"Federal Housing Credit Equity\", \"Interest Rate\": null, \"Funding Type\": \"Construction Financing\", \"Project Type\": \"Family\", \"Amount of Funds\": 2790000.0, \"State\": \"Georgia\"}, {\"Project Name\": \"thriveswtauburng\", \"Financing_sub_cat\": \"Federal Housing Credit Equity\", \"Interest Rate\": null, \"Funding Type\": \"Permanent Financing\", \"Project Type\": \"Family\", \"Amount of Funds\": 9300000.0, \"State\": \"Georgia\"}, {\"Project Name\": \"northsidesrvlgg\", \"Financing_sub_cat\": \"Federal Housing Credit Equity\", \"Interest Rate\": null, \"Funding Type\": \"Construction Financing\", \"Project Type\": \"Elderly\", \"Amount of Funds\": 2808772.0, \"State\": \"Georgia\"}, {\"Project Name\": \"northsidesrvlgg\", \"Financing_sub_cat\": \"Federal Housing Credit Equity\", \"Interest Rate\": null, \"Funding Type\": \"Permanent Financing\", \"Project Type\": \"Elderly\", \"Amount of Funds\": 7021930.0, \"State\": \"Georgia\"}, {\"Project Name\": \"crowvllyhtsg\", \"Financing_sub_cat\": \"Federal Housing Credit Equity\", \"Interest Rate\": null, \"Funding Type\": \"Construction Financing\", \"Project Type\": \"Family\", \"Amount of Funds\": 4643070.0, \"State\": \"Georgia\"}, {\"Project Name\": \"crowvllyhtsg\", \"Financing_sub_cat\": \"Federal Housing Credit Equity\", \"Interest Rate\": null, \"Funding Type\": \"Permanent Financing\", \"Project Type\": \"Family\", \"Amount of Funds\": 7738452.0, \"State\": \"Georgia\"}, {\"Project Name\": \"flintridgedr_g\", \"Financing_sub_cat\": \"Federal Housing Credit Equity\", \"Interest Rate\": null, \"Funding Type\": \"Construction Financing\", \"Project Type\": \"Family\", \"Amount of Funds\": 1232376.8, \"State\": \"Georgia\"}, {\"Project Name\": \"flintridgedr_g\", \"Financing_sub_cat\": \"Federal Housing Credit Equity\", \"Interest Rate\": null, \"Funding Type\": \"Permanent Financing\", \"Project Type\": \"Family\", \"Amount of Funds\": 6161884.0, \"State\": \"Georgia\"}, {\"Project Name\": \"sterlinghtsg\", \"Financing_sub_cat\": \"Federal Housing Credit Equity\", \"Interest Rate\": null, \"Funding Type\": \"Construction Financing\", \"Project Type\": \"HFOP\", \"Amount of Funds\": 1694888.0, \"State\": \"Georgia\"}, {\"Project Name\": \"sterlinghtsg\", \"Financing_sub_cat\": \"Federal Housing Credit Equity\", \"Interest Rate\": null, \"Funding Type\": \"Permanent Financing\", \"Project Type\": \"HFOP\", \"Amount of Funds\": 8474440.0, \"State\": \"Georgia\"}, {\"Project Name\": \"waltonharborg\", \"Financing_sub_cat\": \"Federal Housing Credit Equity\", \"Interest Rate\": null, \"Funding Type\": \"Construction Financing\", \"Project Type\": \"Family\", \"Amount of Funds\": 5866250.0, \"State\": \"Georgia\"}, {\"Project Name\": \"waltonharborg\", \"Financing_sub_cat\": \"Federal Housing Credit Equity\", \"Interest Rate\": null, \"Funding Type\": \"Permanent Financing\", \"Project Type\": \"Family\", \"Amount of Funds\": 9025000.0, \"State\": \"Georgia\"}, {\"Project Name\": \"flatssamlaneg\", \"Financing_sub_cat\": \"Federal Housing Credit Equity\", \"Interest Rate\": null, \"Funding Type\": \"Construction Financing\", \"Project Type\": \"Family\", \"Amount of Funds\": 1136000.0, \"State\": \"Georgia\"}, {\"Project Name\": \"flatssamlaneg\", \"Financing_sub_cat\": \"Federal Housing Credit Equity\", \"Interest Rate\": null, \"Funding Type\": \"Permanent Financing\", \"Project Type\": \"Family\", \"Amount of Funds\": 7573000.0, \"State\": \"Georgia\"}, {\"Project Name\": \"verandaassemblyg\", \"Financing_sub_cat\": \"Federal Housing Credit Equity\", \"Interest Rate\": null, \"Funding Type\": \"Construction Financing\", \"Project Type\": \"HFOP\", \"Amount of Funds\": 4186736.0, \"State\": \"Georgia\"}, {\"Project Name\": \"verandaassemblyg\", \"Financing_sub_cat\": \"Federal Housing Credit Equity\", \"Interest Rate\": null, \"Funding Type\": \"Permanent Financing\", \"Project Type\": \"HFOP\", \"Amount of Funds\": 8795664.0, \"State\": \"Georgia\"}, {\"Project Name\": \"legacywaltontrlg\", \"Financing_sub_cat\": \"Federal Housing Credit Equity\", \"Interest Rate\": null, \"Funding Type\": \"Construction Financing\", \"Project Type\": \"HFOP\", \"Amount of Funds\": 5248750.0, \"State\": \"Georgia\"}, {\"Project Name\": \"legacywaltontrlg\", \"Financing_sub_cat\": \"Federal Housing Credit Equity\", \"Interest Rate\": null, \"Funding Type\": \"Permanent Financing\", \"Project Type\": \"HFOP\", \"Amount of Funds\": 8075000.0, \"State\": \"Georgia\"}, {\"Project Name\": \"pineviewtraceg\", \"Financing_sub_cat\": \"Federal Housing Credit Equity\", \"Interest Rate\": null, \"Funding Type\": \"Construction Financing\", \"Project Type\": \"Family\", \"Amount of Funds\": 1435309.0, \"State\": \"Georgia\"}, {\"Project Name\": \"pineviewtraceg\", \"Financing_sub_cat\": \"Federal Housing Credit Equity\", \"Interest Rate\": null, \"Funding Type\": \"Permanent Financing\", \"Project Type\": \"Family\", \"Amount of Funds\": 7176545.0, \"State\": \"Georgia\"}, {\"Project Name\": \"pineviewtraceg\", \"Financing_sub_cat\": \"Federal Housing Credit Equity\", \"Interest Rate\": null, \"Funding Type\": \"Construction Financing\", \"Project Type\": \"Family\", \"Amount of Funds\": 1435309.0, \"State\": \"Georgia\"}, {\"Project Name\": \"pineviewtraceg\", \"Financing_sub_cat\": \"Federal Housing Credit Equity\", \"Interest Rate\": null, \"Funding Type\": \"Permanent Financing\", \"Project Type\": \"Family\", \"Amount of Funds\": 7176545.0, \"State\": \"Georgia\"}, {\"Project Name\": \"suttonterrace\", \"Financing_sub_cat\": \"Federal Housing Credit Equity\", \"Interest Rate\": null, \"Funding Type\": \"Construction Financing\", \"Project Type\": \"Family\", \"Amount of Funds\": 1582794.8, \"State\": \"Georgia\"}, {\"Project Name\": \"suttonterrace\", \"Financing_sub_cat\": \"Federal Housing Credit Equity\", \"Interest Rate\": null, \"Funding Type\": \"Permanent Financing\", \"Project Type\": \"Family\", \"Amount of Funds\": 7913974.0, \"State\": \"Georgia\"}, {\"Project Name\": \"woodlawnsrvllgg\", \"Financing_sub_cat\": \"Federal Housing Credit Equity\", \"Interest Rate\": null, \"Funding Type\": \"Construction Financing\", \"Project Type\": \"HFOP\", \"Amount of Funds\": 2945885.0, \"State\": \"Georgia\"}, {\"Project Name\": \"woodlawnsrvllgg\", \"Financing_sub_cat\": \"Federal Housing Credit Equity\", \"Interest Rate\": null, \"Funding Type\": \"Permanent Financing\", \"Project Type\": \"HFOP\", \"Amount of Funds\": 3187500.0, \"State\": \"Georgia\"}, {\"Project Name\": \"waring\", \"Financing_sub_cat\": \"Bank Loan\", \"Interest Rate\": 5.94, \"Funding Type\": \"Construction Financing\", \"Project Type\": \"HFOP\", \"Amount of Funds\": 2744584.43, \"State\": \"Georgia\"}, {\"Project Name\": \"symphony\", \"Financing_sub_cat\": \"Bank Loan\", \"Interest Rate\": 7.75, \"Funding Type\": \"Construction Financing\", \"Project Type\": \"Family\", \"Amount of Funds\": 6106000.0, \"State\": \"Georgia\"}, {\"Project Name\": \"flintridgeg\", \"Financing_sub_cat\": \"Bank Loan\", \"Interest Rate\": 6.5, \"Funding Type\": \"Construction Financing\", \"Project Type\": \"Family\", \"Amount of Funds\": 7902266.0, \"State\": \"Georgia\"}, {\"Project Name\": \"canaancrssgg\", \"Financing_sub_cat\": \"Bank Loan\", \"Interest Rate\": 5.2299999999999995, \"Funding Type\": \"Construction Financing\", \"Project Type\": \"Family\", \"Amount of Funds\": 8840000.0, \"State\": \"Georgia\"}, {\"Project Name\": \"newnancrossg\", \"Financing_sub_cat\": \"Bank Loan\", \"Interest Rate\": 6.0, \"Funding Type\": \"Construction Financing\", \"Project Type\": \"HFOP\", \"Amount of Funds\": 8169445.0, \"State\": \"Georgia\"}, {\"Project Name\": \"anthm2\", \"Financing_sub_cat\": \"Bank Loan\", \"Interest Rate\": 5.4, \"Funding Type\": \"Construction Financing\", \"Project Type\": \"Elderly\", \"Amount of Funds\": 7603000.0, \"State\": \"Georgia\"}, {\"Project Name\": \"havensatlantag\", \"Financing_sub_cat\": \"Bank Loan\", \"Interest Rate\": 5.19, \"Funding Type\": \"Construction Financing\", \"Project Type\": \"Family\", \"Amount of Funds\": 4041894.0, \"State\": \"Georgia\"}, {\"Project Name\": \"harperwdsg\", \"Financing_sub_cat\": \"Bank Loan\", \"Interest Rate\": 5.9799999999999995, \"Funding Type\": \"Construction Financing\", \"Project Type\": \"Family\", \"Amount of Funds\": 11807471.0, \"State\": \"Georgia\"}, {\"Project Name\": \"hearthsidesmyrnag\", \"Financing_sub_cat\": \"Bank Loan\", \"Interest Rate\": 5.2330000000000005, \"Funding Type\": \"Construction Financing\", \"Project Type\": \"Elderly\", \"Amount of Funds\": 4900000.0, \"State\": \"Georgia\"}, {\"Project Name\": \"_24east\", \"Financing_sub_cat\": \"Bank Loan\", \"Interest Rate\": 6.0, \"Funding Type\": \"Construction Financing\", \"Project Type\": \"HFOP\", \"Amount of Funds\": 13423227.0, \"State\": \"Georgia\"}, {\"Project Name\": \"wrredev2g\", \"Financing_sub_cat\": \"Bank Loan\", \"Interest Rate\": 5.0, \"Funding Type\": \"Construction Financing\", \"Project Type\": \"Family\", \"Amount of Funds\": 4869350.0, \"State\": \"Georgia\"}, {\"Project Name\": \"abbgntnormewdpkg\", \"Financing_sub_cat\": \"Bank Loan\", \"Interest Rate\": 5.5, \"Funding Type\": \"Construction Financing\", \"Project Type\": \"Family\", \"Amount of Funds\": 4099716.0, \"State\": \"Georgia\"}, {\"Project Name\": \"woodstone2g\", \"Financing_sub_cat\": \"Bank Loan\", \"Interest Rate\": 5.5, \"Funding Type\": \"Construction Financing\", \"Project Type\": \"Family\", \"Amount of Funds\": 4100000.0, \"State\": \"Georgia\"}, {\"Project Name\": \"creeksideg\", \"Financing_sub_cat\": \"Bank Loan\", \"Interest Rate\": 2.7, \"Funding Type\": \"Construction Financing\", \"Project Type\": \"HFOP\", \"Amount of Funds\": 530000.0, \"State\": \"Georgia\"}, {\"Project Name\": \"villgchickamauga2g\", \"Financing_sub_cat\": \"Bank Loan\", \"Interest Rate\": 0.0, \"Funding Type\": \"Construction Financing\", \"Project Type\": \"HFOP\", \"Amount of Funds\": 1800000.0, \"State\": \"Georgia\"}, {\"Project Name\": \"liveoaklndg2\", \"Financing_sub_cat\": \"Bank Loan\", \"Interest Rate\": 6.0, \"Funding Type\": \"Construction Financing\", \"Project Type\": \"Family\", \"Amount of Funds\": 7448602.0, \"State\": \"Georgia\"}, {\"Project Name\": \"millvillageg\", \"Financing_sub_cat\": \"Bank Loan\", \"Interest Rate\": 5.2299999999999995, \"Funding Type\": \"Construction Financing\", \"Project Type\": \"Family\", \"Amount of Funds\": 8364666.0, \"State\": \"Georgia\"}, {\"Project Name\": \"westoversr\", \"Financing_sub_cat\": \"Bank Loan\", \"Interest Rate\": 0.0, \"Funding Type\": \"Construction Financing\", \"Project Type\": \"HFOP\", \"Amount of Funds\": 1000000.0, \"State\": \"Georgia\"}, {\"Project Name\": \"thriveswtauburng\", \"Financing_sub_cat\": \"Bank Loan\", \"Interest Rate\": 5.19, \"Funding Type\": \"Construction Financing\", \"Project Type\": \"Family\", \"Amount of Funds\": 8783720.0, \"State\": \"Georgia\"}, {\"Project Name\": \"northsidesrvlgg\", \"Financing_sub_cat\": \"Bank Loan\", \"Interest Rate\": 0.0, \"Funding Type\": \"Construction Financing\", \"Project Type\": \"Elderly\", \"Amount of Funds\": 650000.0, \"State\": \"Georgia\"}, {\"Project Name\": \"crowvllyhtsg\", \"Financing_sub_cat\": \"Bank Loan\", \"Interest Rate\": 5.0, \"Funding Type\": \"Construction Financing\", \"Project Type\": \"Family\", \"Amount of Funds\": 6200000.0, \"State\": \"Georgia\"}, {\"Project Name\": \"flintridgedr_g\", \"Financing_sub_cat\": \"Bank Loan\", \"Interest Rate\": 0.0, \"Funding Type\": \"Construction Financing\", \"Project Type\": \"Family\", \"Amount of Funds\": 2000000.0, \"State\": \"Georgia\"}, {\"Project Name\": \"sterlinghtsg\", \"Financing_sub_cat\": \"Bank Loan\", \"Interest Rate\": 6.0, \"Funding Type\": \"Construction Financing\", \"Project Type\": \"HFOP\", \"Amount of Funds\": 8047413.0, \"State\": \"Georgia\"}, {\"Project Name\": \"waltonharborg\", \"Financing_sub_cat\": \"Bank Loan\", \"Interest Rate\": 4.5, \"Funding Type\": \"Construction Financing\", \"Project Type\": \"Family\", \"Amount of Funds\": 2652000.0, \"State\": \"Georgia\"}, {\"Project Name\": \"flatssamlaneg\", \"Financing_sub_cat\": \"Bank Loan\", \"Interest Rate\": 5.5, \"Funding Type\": \"Construction Financing\", \"Project Type\": \"Family\", \"Amount of Funds\": 10000000.0, \"State\": \"Georgia\"}, {\"Project Name\": \"verandaassemblyg\", \"Financing_sub_cat\": \"Bank Loan\", \"Interest Rate\": 6.25, \"Funding Type\": \"Construction Financing\", \"Project Type\": \"HFOP\", \"Amount of Funds\": 7500000.0, \"State\": \"Georgia\"}, {\"Project Name\": \"legacywaltontrlg\", \"Financing_sub_cat\": \"Bank Loan\", \"Interest Rate\": 6.0, \"Funding Type\": \"Construction Financing\", \"Project Type\": \"HFOP\", \"Amount of Funds\": 4921000.0, \"State\": \"Georgia\"}, {\"Project Name\": \"pineviewtraceg\", \"Financing_sub_cat\": \"Bank Loan\", \"Interest Rate\": 6.0, \"Funding Type\": \"Construction Financing\", \"Project Type\": \"Family\", \"Amount of Funds\": 6954768.0, \"State\": \"Georgia\"}, {\"Project Name\": \"pineviewtraceg\", \"Financing_sub_cat\": \"Bank Loan\", \"Interest Rate\": 6.0, \"Funding Type\": \"Construction Financing\", \"Project Type\": \"Family\", \"Amount of Funds\": 6954768.0, \"State\": \"Georgia\"}, {\"Project Name\": \"suttonterrace\", \"Financing_sub_cat\": \"Bank Loan\", \"Interest Rate\": 6.5, \"Funding Type\": \"Construction Financing\", \"Project Type\": \"Family\", \"Amount of Funds\": 9594248.0, \"State\": \"Georgia\"}, {\"Project Name\": \"symphony\", \"Financing_sub_cat\": \"Bank Loan\", \"Interest Rate\": 5.4, \"Funding Type\": \"Permanent Financing\", \"Project Type\": \"Family\", \"Amount of Funds\": 1001065.0, \"State\": \"Georgia\"}, {\"Project Name\": \"flintridgeg\", \"Financing_sub_cat\": \"Bank Loan\", \"Interest Rate\": 6.75, \"Funding Type\": \"Permanent Financing\", \"Project Type\": \"Family\", \"Amount of Funds\": 805000.0, \"State\": \"Georgia\"}, {\"Project Name\": \"canaancrssgg\", \"Financing_sub_cat\": \"Bank Loan\", \"Interest Rate\": 1.0, \"Funding Type\": \"Permanent Financing\", \"Project Type\": \"Family\", \"Amount of Funds\": 1350000.0, \"State\": \"Georgia\"}, {\"Project Name\": \"newnancrossg\", \"Financing_sub_cat\": \"Bank Loan\", \"Interest Rate\": 1.0, \"Funding Type\": \"Permanent Financing\", \"Project Type\": \"HFOP\", \"Amount of Funds\": 2000000.0, \"State\": \"Georgia\"}, {\"Project Name\": \"anthm2\", \"Financing_sub_cat\": \"Bank Loan\", \"Interest Rate\": 5.4, \"Funding Type\": \"Permanent Financing\", \"Project Type\": \"Elderly\", \"Amount of Funds\": 2103874.0, \"State\": \"Georgia\"}, {\"Project Name\": \"havensatlantag\", \"Financing_sub_cat\": \"Bank Loan\", \"Interest Rate\": 6.5, \"Funding Type\": \"Permanent Financing\", \"Project Type\": \"Family\", \"Amount of Funds\": 2400000.0, \"State\": \"Georgia\"}, {\"Project Name\": \"harperwdsg\", \"Financing_sub_cat\": \"Bank Loan\", \"Interest Rate\": 5.5, \"Funding Type\": \"Permanent Financing\", \"Project Type\": \"Family\", \"Amount of Funds\": 2400000.0, \"State\": \"Georgia\"}, {\"Project Name\": \"hearthsidesmyrnag\", \"Financing_sub_cat\": \"Bank Loan\", \"Interest Rate\": 5.4, \"Funding Type\": \"Permanent Financing\", \"Project Type\": \"Elderly\", \"Amount of Funds\": 2025000.0, \"State\": \"Georgia\"}, {\"Project Name\": \"_24east\", \"Financing_sub_cat\": \"Bank Loan\", \"Interest Rate\": 0.0, \"Funding Type\": \"Permanent Financing\", \"Project Type\": \"HFOP\", \"Amount of Funds\": 2400000.0, \"State\": \"Georgia\"}, {\"Project Name\": \"wrredev2g\", \"Financing_sub_cat\": \"Bank Loan\", \"Interest Rate\": 6.25, \"Funding Type\": \"Permanent Financing\", \"Project Type\": \"Family\", \"Amount of Funds\": 3000000.0, \"State\": \"Georgia\"}, {\"Project Name\": \"abbgntnormewdpkg\", \"Financing_sub_cat\": \"Bank Loan\", \"Interest Rate\": 6.0, \"Funding Type\": \"Permanent Financing\", \"Project Type\": \"Family\", \"Amount of Funds\": 700000.0, \"State\": \"Georgia\"}, {\"Project Name\": \"creeksideg\", \"Financing_sub_cat\": \"Bank Loan\", \"Interest Rate\": 2.7, \"Funding Type\": \"Permanent Financing\", \"Project Type\": \"HFOP\", \"Amount of Funds\": 530000.0, \"State\": \"Georgia\"}, {\"Project Name\": \"villgchickamauga2g\", \"Financing_sub_cat\": \"Bank Loan\", \"Interest Rate\": 1.0, \"Funding Type\": \"Permanent Financing\", \"Project Type\": \"HFOP\", \"Amount of Funds\": 1800000.0, \"State\": \"Georgia\"}, {\"Project Name\": \"millvillageg\", \"Financing_sub_cat\": \"Bank Loan\", \"Interest Rate\": 5.4, \"Funding Type\": \"Permanent Financing\", \"Project Type\": \"Family\", \"Amount of Funds\": 1960000.0, \"State\": \"Georgia\"}, {\"Project Name\": \"westoversr\", \"Financing_sub_cat\": \"Bank Loan\", \"Interest Rate\": 1.0, \"Funding Type\": \"Permanent Financing\", \"Project Type\": \"HFOP\", \"Amount of Funds\": 1000000.0, \"State\": \"Georgia\"}, {\"Project Name\": \"thriveswtauburng\", \"Financing_sub_cat\": \"Bank Loan\", \"Interest Rate\": 6.0, \"Funding Type\": \"Permanent Financing\", \"Project Type\": \"Family\", \"Amount of Funds\": 791237.0, \"State\": \"Georgia\"}, {\"Project Name\": \"northsidesrvlgg\", \"Financing_sub_cat\": \"Bank Loan\", \"Interest Rate\": 0.0, \"Funding Type\": \"Permanent Financing\", \"Project Type\": \"Elderly\", \"Amount of Funds\": 650000.0, \"State\": \"Georgia\"}, {\"Project Name\": \"crowvllyhtsg\", \"Financing_sub_cat\": \"Bank Loan\", \"Interest Rate\": 6.5, \"Funding Type\": \"Permanent Financing\", \"Project Type\": \"Family\", \"Amount of Funds\": 1750000.0, \"State\": \"Georgia\"}, {\"Project Name\": \"flintridgedr_g\", \"Financing_sub_cat\": \"Bank Loan\", \"Interest Rate\": 1.0, \"Funding Type\": \"Permanent Financing\", \"Project Type\": \"Family\", \"Amount of Funds\": 2000000.0, \"State\": \"Georgia\"}, {\"Project Name\": \"waltonharborg\", \"Financing_sub_cat\": \"Bank Loan\", \"Interest Rate\": 0.0, \"Funding Type\": \"Permanent Financing\", \"Project Type\": \"Family\", \"Amount of Funds\": 445000.0, \"State\": \"Georgia\"}, {\"Project Name\": \"flatssamlaneg\", \"Financing_sub_cat\": \"Bank Loan\", \"Interest Rate\": 1.0, \"Funding Type\": \"Permanent Financing\", \"Project Type\": \"Family\", \"Amount of Funds\": 2000000.0, \"State\": \"Georgia\"}, {\"Project Name\": \"verandaassemblyg\", \"Financing_sub_cat\": \"Bank Loan\", \"Interest Rate\": 6.25, \"Funding Type\": \"Permanent Financing\", \"Project Type\": \"HFOP\", \"Amount of Funds\": 2300000.0, \"State\": \"Georgia\"}, {\"Project Name\": \"legacywaltontrlg\", \"Financing_sub_cat\": \"Bank Loan\", \"Interest Rate\": 5.5, \"Funding Type\": \"Permanent Financing\", \"Project Type\": \"HFOP\", \"Amount of Funds\": 3125922.0, \"State\": \"Georgia\"}, {\"Project Name\": \"suttonterrace\", \"Financing_sub_cat\": \"Bank Loan\", \"Interest Rate\": 7.000000000000001, \"Funding Type\": \"Permanent Financing\", \"Project Type\": \"Family\", \"Amount of Funds\": 1500000.0, \"State\": \"Georgia\"}, {\"Project Name\": \"symphony\", \"Financing_sub_cat\": \"Bank Loan\", \"Interest Rate\": 2.7, \"Funding Type\": \"Construction Financing\", \"Project Type\": \"Family\", \"Amount of Funds\": 610000.0, \"State\": \"Georgia\"}, {\"Project Name\": \"canaancrssgg\", \"Financing_sub_cat\": \"Bank Loan\", \"Interest Rate\": 0.0, \"Funding Type\": \"Construction Financing\", \"Project Type\": \"Family\", \"Amount of Funds\": 1350000.0, \"State\": \"Georgia\"}, {\"Project Name\": \"newnancrossg\", \"Financing_sub_cat\": \"Bank Loan\", \"Interest Rate\": 0.0, \"Funding Type\": \"Construction Financing\", \"Project Type\": \"HFOP\", \"Amount of Funds\": 2000000.0, \"State\": \"Georgia\"}, {\"Project Name\": \"havensatlantag\", \"Financing_sub_cat\": \"Bank Loan\", \"Interest Rate\": 0.0, \"Funding Type\": \"Construction Financing\", \"Project Type\": \"Family\", \"Amount of Funds\": 1200000.0, \"State\": \"Georgia\"}, {\"Project Name\": \"abbgntnormewdpkg\", \"Financing_sub_cat\": \"Bank Loan\", \"Interest Rate\": 2.0, \"Funding Type\": \"Construction Financing\", \"Project Type\": \"Family\", \"Amount of Funds\": 300000.0, \"State\": \"Georgia\"}, {\"Project Name\": \"creeksideg\", \"Financing_sub_cat\": \"Bank Loan\", \"Interest Rate\": 5.75, \"Funding Type\": \"Construction Financing\", \"Project Type\": \"HFOP\", \"Amount of Funds\": 6434458.0, \"State\": \"Georgia\"}, {\"Project Name\": \"millvillageg\", \"Financing_sub_cat\": \"Bank Loan\", \"Interest Rate\": 0.0, \"Funding Type\": \"Construction Financing\", \"Project Type\": \"Family\", \"Amount of Funds\": 6115000.0, \"State\": \"Georgia\"}, {\"Project Name\": \"westoversr\", \"Financing_sub_cat\": \"Bank Loan\", \"Interest Rate\": 6.5, \"Funding Type\": \"Construction Financing\", \"Project Type\": \"HFOP\", \"Amount of Funds\": 5456897.0, \"State\": \"Georgia\"}, {\"Project Name\": \"thriveswtauburng\", \"Financing_sub_cat\": \"Bank Loan\", \"Interest Rate\": 0.0, \"Funding Type\": \"Construction Financing\", \"Project Type\": \"Family\", \"Amount of Funds\": 3000000.0, \"State\": \"Georgia\"}, {\"Project Name\": \"northsidesrvlgg\", \"Financing_sub_cat\": \"Bank Loan\", \"Interest Rate\": 4.390000000000001, \"Funding Type\": \"Construction Financing\", \"Project Type\": \"Elderly\", \"Amount of Funds\": 5200000.0, \"State\": \"Georgia\"}, {\"Project Name\": \"flintridgedr_g\", \"Financing_sub_cat\": \"Bank Loan\", \"Interest Rate\": 6.5, \"Funding Type\": \"Construction Financing\", \"Project Type\": \"Family\", \"Amount of Funds\": 6130978.0, \"State\": \"Georgia\"}, {\"Project Name\": \"waltonharborg\", \"Financing_sub_cat\": \"Bank Loan\", \"Interest Rate\": 0.0, \"Funding Type\": \"Construction Financing\", \"Project Type\": \"Family\", \"Amount of Funds\": 445000.0, \"State\": \"Georgia\"}, {\"Project Name\": \"flatssamlaneg\", \"Financing_sub_cat\": \"Bank Loan\", \"Interest Rate\": 0.0, \"Funding Type\": \"Construction Financing\", \"Project Type\": \"Family\", \"Amount of Funds\": 2000000.0, \"State\": \"Georgia\"}, {\"Project Name\": \"verandaassemblyg\", \"Financing_sub_cat\": \"Bank Loan\", \"Interest Rate\": 3.0, \"Funding Type\": \"Construction Financing\", \"Project Type\": \"HFOP\", \"Amount of Funds\": 900000.0, \"State\": \"Georgia\"}, {\"Project Name\": \"legacywaltontrlg\", \"Financing_sub_cat\": \"Bank Loan\", \"Interest Rate\": 0.0, \"Funding Type\": \"Construction Financing\", \"Project Type\": \"HFOP\", \"Amount of Funds\": 800000.0, \"State\": \"Georgia\"}, {\"Project Name\": \"symphony\", \"Financing_sub_cat\": \"Bank Loan\", \"Interest Rate\": 2.7, \"Funding Type\": \"Permanent Financing\", \"Project Type\": \"Family\", \"Amount of Funds\": 610000.0, \"State\": \"Georgia\"}, {\"Project Name\": \"havensatlantag\", \"Financing_sub_cat\": \"Bank Loan\", \"Interest Rate\": 1.0, \"Funding Type\": \"Permanent Financing\", \"Project Type\": \"Family\", \"Amount of Funds\": 1200000.0, \"State\": \"Georgia\"}, {\"Project Name\": \"_24east\", \"Financing_sub_cat\": \"Bank Loan\", \"Interest Rate\": 1.0, \"Funding Type\": \"Permanent Financing\", \"Project Type\": \"HFOP\", \"Amount of Funds\": 1200000.0, \"State\": \"Georgia\"}, {\"Project Name\": \"abbgntnormewdpkg\", \"Financing_sub_cat\": \"Bank Loan\", \"Interest Rate\": 2.0, \"Funding Type\": \"Permanent Financing\", \"Project Type\": \"Family\", \"Amount of Funds\": 300000.0, \"State\": \"Georgia\"}, {\"Project Name\": \"millvillageg\", \"Financing_sub_cat\": \"Bank Loan\", \"Interest Rate\": 3.0, \"Funding Type\": \"Permanent Financing\", \"Project Type\": \"Family\", \"Amount of Funds\": 3200000.0, \"State\": \"Georgia\"}, {\"Project Name\": \"thriveswtauburng\", \"Financing_sub_cat\": \"Bank Loan\", \"Interest Rate\": 0.0, \"Funding Type\": \"Permanent Financing\", \"Project Type\": \"Family\", \"Amount of Funds\": 3000000.0, \"State\": \"Georgia\"}, {\"Project Name\": \"verandaassemblyg\", \"Financing_sub_cat\": \"Bank Loan\", \"Interest Rate\": 3.0, \"Funding Type\": \"Permanent Financing\", \"Project Type\": \"HFOP\", \"Amount of Funds\": 900000.0, \"State\": \"Georgia\"}, {\"Project Name\": \"legacywaltontrlg\", \"Financing_sub_cat\": \"Bank Loan\", \"Interest Rate\": 1.0, \"Funding Type\": \"Permanent Financing\", \"Project Type\": \"HFOP\", \"Amount of Funds\": 800000.0, \"State\": \"Georgia\"}, {\"Project Name\": \"symphony\", \"Financing_sub_cat\": \"Bank Loan\", \"Interest Rate\": 2.7, \"Funding Type\": \"Construction Financing\", \"Project Type\": \"Family\", \"Amount of Funds\": 245000.0, \"State\": \"Georgia\"}, {\"Project Name\": \"thriveswtauburng\", \"Financing_sub_cat\": \"Bank Loan\", \"Interest Rate\": 0.0, \"Funding Type\": \"Construction Financing\", \"Project Type\": \"Family\", \"Amount of Funds\": 920000.0, \"State\": \"Georgia\"}, {\"Project Name\": \"symphony\", \"Financing_sub_cat\": \"Bank Loan\", \"Interest Rate\": 2.7, \"Funding Type\": \"Permanent Financing\", \"Project Type\": \"Family\", \"Amount of Funds\": 245000.0, \"State\": \"Georgia\"}, {\"Project Name\": \"thriveswtauburng\", \"Financing_sub_cat\": \"Bank Loan\", \"Interest Rate\": 2.76, \"Funding Type\": \"Permanent Financing\", \"Project Type\": \"Family\", \"Amount of Funds\": 920000.0, \"State\": \"Georgia\"}, {\"Project Name\": \"abbgntnormewdpkg\", \"Financing_sub_cat\": \"Public Private Partnership\", \"Interest Rate\": null, \"Funding Type\": \"Construction Financing\", \"Project Type\": \"Family\", \"Amount of Funds\": 320000.0, \"State\": \"Georgia\"}, {\"Project Name\": \"abbgntnormewdpkg\", \"Financing_sub_cat\": \"Public Private Partnership\", \"Interest Rate\": null, \"Funding Type\": \"Permanent Financing\", \"Project Type\": \"Family\", \"Amount of Funds\": 320000.0, \"State\": \"Georgia\"}, {\"Project Name\": \"waring\", \"Financing_sub_cat\": \"State Housing Credit Equity\", \"Interest Rate\": null, \"Funding Type\": \"Construction Financing\", \"Project Type\": \"HFOP\", \"Amount of Funds\": 280772.0, \"State\": \"Georgia\"}, {\"Project Name\": \"waring\", \"Financing_sub_cat\": \"State Housing Credit Equity\", \"Interest Rate\": null, \"Funding Type\": \"Permanent Financing\", \"Project Type\": \"HFOP\", \"Amount of Funds\": 1403860.0, \"State\": \"Georgia\"}, {\"Project Name\": \"symphony\", \"Financing_sub_cat\": \"State Housing Credit Equity\", \"Interest Rate\": null, \"Funding Type\": \"Construction Financing\", \"Project Type\": \"Family\", \"Amount of Funds\": 2675393.7, \"State\": \"Georgia\"}, {\"Project Name\": \"symphony\", \"Financing_sub_cat\": \"State Housing Credit Equity\", \"Interest Rate\": null, \"Funding Type\": \"Permanent Financing\", \"Project Type\": \"Family\", \"Amount of Funds\": 3821991.0, \"State\": \"Georgia\"}, {\"Project Name\": \"flintridgeg\", \"Financing_sub_cat\": \"State Housing Credit Equity\", \"Interest Rate\": null, \"Funding Type\": \"Construction Financing\", \"Project Type\": \"Family\", \"Amount of Funds\": 594502.8, \"State\": \"Georgia\"}, {\"Project Name\": \"flintridgeg\", \"Financing_sub_cat\": \"State Housing Credit Equity\", \"Interest Rate\": null, \"Funding Type\": \"Permanent Financing\", \"Project Type\": \"Family\", \"Amount of Funds\": 2972514.0, \"State\": \"Georgia\"}, {\"Project Name\": \"canaancrssgg\", \"Financing_sub_cat\": \"State Housing Credit Equity\", \"Interest Rate\": null, \"Funding Type\": \"Construction Financing\", \"Project Type\": \"Family\", \"Amount of Funds\": 418458.0, \"State\": \"Georgia\"}, {\"Project Name\": \"canaancrssgg\", \"Financing_sub_cat\": \"State Housing Credit Equity\", \"Interest Rate\": null, \"Funding Type\": \"Permanent Financing\", \"Project Type\": \"Family\", \"Amount of Funds\": 4184582.0, \"State\": \"Georgia\"}, {\"Project Name\": \"newnancrossg\", \"Financing_sub_cat\": \"State Housing Credit Equity\", \"Interest Rate\": null, \"Funding Type\": \"Construction Financing\", \"Project Type\": \"HFOP\", \"Amount of Funds\": 797000.0, \"State\": \"Georgia\"}, {\"Project Name\": \"newnancrossg\", \"Financing_sub_cat\": \"State Housing Credit Equity\", \"Interest Rate\": null, \"Funding Type\": \"Permanent Financing\", \"Project Type\": \"HFOP\", \"Amount of Funds\": 3985000.0, \"State\": \"Georgia\"}, {\"Project Name\": \"anthm2\", \"Financing_sub_cat\": \"State Housing Credit Equity\", \"Interest Rate\": null, \"Funding Type\": \"Construction Financing\", \"Project Type\": \"Elderly\", \"Amount of Funds\": 2338006.0, \"State\": \"Georgia\"}, {\"Project Name\": \"anthm2\", \"Financing_sub_cat\": \"State Housing Credit Equity\", \"Interest Rate\": null, \"Funding Type\": \"Permanent Financing\", \"Project Type\": \"Elderly\", \"Amount of Funds\": 3596933.0, \"State\": \"Georgia\"}, {\"Project Name\": \"havensatlantag\", \"Financing_sub_cat\": \"State Housing Credit Equity\", \"Interest Rate\": null, \"Funding Type\": \"Permanent Financing\", \"Project Type\": \"Family\", \"Amount of Funds\": 4720326.0, \"State\": \"Georgia\"}, {\"Project Name\": \"harperwdsg\", \"Financing_sub_cat\": \"State Housing Credit Equity\", \"Interest Rate\": null, \"Funding Type\": \"Construction Financing\", \"Project Type\": \"Family\", \"Amount of Funds\": 1017800.0, \"State\": \"Georgia\"}, {\"Project Name\": \"harperwdsg\", \"Financing_sub_cat\": \"State Housing Credit Equity\", \"Interest Rate\": null, \"Funding Type\": \"Permanent Financing\", \"Project Type\": \"Family\", \"Amount of Funds\": 5089000.0, \"State\": \"Georgia\"}, {\"Project Name\": \"hearthsidesmyrnag\", \"Financing_sub_cat\": \"State Housing Credit Equity\", \"Interest Rate\": null, \"Funding Type\": \"Construction Financing\", \"Project Type\": \"Elderly\", \"Amount of Funds\": 2739000.0, \"State\": \"Georgia\"}, {\"Project Name\": \"hearthsidesmyrnag\", \"Financing_sub_cat\": \"State Housing Credit Equity\", \"Interest Rate\": null, \"Funding Type\": \"Permanent Financing\", \"Project Type\": \"Elderly\", \"Amount of Funds\": 4565000.0, \"State\": \"Georgia\"}, {\"Project Name\": \"_24east\", \"Financing_sub_cat\": \"State Housing Credit Equity\", \"Interest Rate\": null, \"Funding Type\": \"Construction Financing\", \"Project Type\": \"HFOP\", \"Amount of Funds\": 1137488.0, \"State\": \"Georgia\"}, {\"Project Name\": \"_24east\", \"Financing_sub_cat\": \"State Housing Credit Equity\", \"Interest Rate\": null, \"Funding Type\": \"Permanent Financing\", \"Project Type\": \"HFOP\", \"Amount of Funds\": 5687440.0, \"State\": \"Georgia\"}, {\"Project Name\": \"wrredev2g\", \"Financing_sub_cat\": \"State Housing Credit Equity\", \"Interest Rate\": null, \"Funding Type\": \"Construction Financing\", \"Project Type\": \"Family\", \"Amount of Funds\": 3217500.0, \"State\": \"Georgia\"}, {\"Project Name\": \"wrredev2g\", \"Financing_sub_cat\": \"State Housing Credit Equity\", \"Interest Rate\": null, \"Funding Type\": \"Permanent Financing\", \"Project Type\": \"Family\", \"Amount of Funds\": 4950000.0, \"State\": \"Georgia\"}, {\"Project Name\": \"abbgntnormewdpkg\", \"Financing_sub_cat\": \"State Housing Credit Equity\", \"Interest Rate\": null, \"Funding Type\": \"Construction Financing\", \"Project Type\": \"Family\", \"Amount of Funds\": 2005162.0, \"State\": \"Georgia\"}, {\"Project Name\": \"abbgntnormewdpkg\", \"Financing_sub_cat\": \"State Housing Credit Equity\", \"Interest Rate\": null, \"Funding Type\": \"Permanent Financing\", \"Project Type\": \"Family\", \"Amount of Funds\": 3084864.0, \"State\": \"Georgia\"}, {\"Project Name\": \"woodstone2g\", \"Financing_sub_cat\": \"State Housing Credit Equity\", \"Interest Rate\": null, \"Funding Type\": \"Construction Financing\", \"Project Type\": \"Family\", \"Amount of Funds\": 325000.0, \"State\": \"Georgia\"}, {\"Project Name\": \"woodstone2g\", \"Financing_sub_cat\": \"State Housing Credit Equity\", \"Interest Rate\": null, \"Funding Type\": \"Permanent Financing\", \"Project Type\": \"Family\", \"Amount of Funds\": 1993577.0, \"State\": \"Georgia\"}, {\"Project Name\": \"creeksideg\", \"Financing_sub_cat\": \"State Housing Credit Equity\", \"Interest Rate\": null, \"Funding Type\": \"Construction Financing\", \"Project Type\": \"HFOP\", \"Amount of Funds\": 713400.0, \"State\": \"Georgia\"}, {\"Project Name\": \"creeksideg\", \"Financing_sub_cat\": \"State Housing Credit Equity\", \"Interest Rate\": null, \"Funding Type\": \"Permanent Financing\", \"Project Type\": \"HFOP\", \"Amount of Funds\": 3566999.0, \"State\": \"Georgia\"}, {\"Project Name\": \"villgchickamauga2g\", \"Financing_sub_cat\": \"State Housing Credit Equity\", \"Interest Rate\": null, \"Funding Type\": \"Construction Financing\", \"Project Type\": \"HFOP\", \"Amount of Funds\": 2760694.0, \"State\": \"Georgia\"}, {\"Project Name\": \"villgchickamauga2g\", \"Financing_sub_cat\": \"State Housing Credit Equity\", \"Interest Rate\": null, \"Funding Type\": \"Permanent Financing\", \"Project Type\": \"HFOP\", \"Amount of Funds\": 3384607.0, \"State\": \"Georgia\"}, {\"Project Name\": \"liveoaklndg2\", \"Financing_sub_cat\": \"State Housing Credit Equity\", \"Interest Rate\": null, \"Funding Type\": \"Construction Financing\", \"Project Type\": \"Family\", \"Amount of Funds\": 687412.0, \"State\": \"Georgia\"}, {\"Project Name\": \"liveoaklndg2\", \"Financing_sub_cat\": \"State Housing Credit Equity\", \"Interest Rate\": null, \"Funding Type\": \"Permanent Financing\", \"Project Type\": \"Family\", \"Amount of Funds\": 3437063.0, \"State\": \"Georgia\"}, {\"Project Name\": \"millvillageg\", \"Financing_sub_cat\": \"State Housing Credit Equity\", \"Interest Rate\": null, \"Funding Type\": \"Construction Financing\", \"Project Type\": \"Family\", \"Amount of Funds\": 791280.0, \"State\": \"Georgia\"}, {\"Project Name\": \"millvillageg\", \"Financing_sub_cat\": \"State Housing Credit Equity\", \"Interest Rate\": null, \"Funding Type\": \"Permanent Financing\", \"Project Type\": \"Family\", \"Amount of Funds\": 5275200.0, \"State\": \"Georgia\"}, {\"Project Name\": \"westoversr\", \"Financing_sub_cat\": \"State Housing Credit Equity\", \"Interest Rate\": null, \"Funding Type\": \"Construction Financing\", \"Project Type\": \"HFOP\", \"Amount of Funds\": 464879.2, \"State\": \"Georgia\"}, {\"Project Name\": \"westoversr\", \"Financing_sub_cat\": \"State Housing Credit Equity\", \"Interest Rate\": null, \"Funding Type\": \"Permanent Financing\", \"Project Type\": \"HFOP\", \"Amount of Funds\": 2324396.0, \"State\": \"Georgia\"}, {\"Project Name\": \"thriveswtauburng\", \"Financing_sub_cat\": \"State Housing Credit Equity\", \"Interest Rate\": null, \"Funding Type\": \"Construction Financing\", \"Project Type\": \"Family\", \"Amount of Funds\": 1590000.0, \"State\": \"Georgia\"}, {\"Project Name\": \"thriveswtauburng\", \"Financing_sub_cat\": \"State Housing Credit Equity\", \"Interest Rate\": null, \"Funding Type\": \"Permanent Financing\", \"Project Type\": \"Family\", \"Amount of Funds\": 5300000.0, \"State\": \"Georgia\"}, {\"Project Name\": \"northsidesrvlgg\", \"Financing_sub_cat\": \"State Housing Credit Equity\", \"Interest Rate\": null, \"Funding Type\": \"Construction Financing\", \"Project Type\": \"Elderly\", \"Amount of Funds\": 1738763.6, \"State\": \"Georgia\"}, {\"Project Name\": \"northsidesrvlgg\", \"Financing_sub_cat\": \"State Housing Credit Equity\", \"Interest Rate\": null, \"Funding Type\": \"Permanent Financing\", \"Project Type\": \"Elderly\", \"Amount of Funds\": 4346909.0, \"State\": \"Georgia\"}, {\"Project Name\": \"crowvllyhtsg\", \"Financing_sub_cat\": \"State Housing Credit Equity\", \"Interest Rate\": null, \"Funding Type\": \"Construction Financing\", \"Project Type\": \"Family\", \"Amount of Funds\": 3070440.0, \"State\": \"Georgia\"}, {\"Project Name\": \"crowvllyhtsg\", \"Financing_sub_cat\": \"State Housing Credit Equity\", \"Interest Rate\": null, \"Funding Type\": \"Permanent Financing\", \"Project Type\": \"Family\", \"Amount of Funds\": 5117400.0, \"State\": \"Georgia\"}, {\"Project Name\": \"flintridgedr_g\", \"Financing_sub_cat\": \"State Housing Credit Equity\", \"Interest Rate\": null, \"Funding Type\": \"Construction Financing\", \"Project Type\": \"Family\", \"Amount of Funds\": 507449.2, \"State\": \"Georgia\"}, {\"Project Name\": \"flintridgedr_g\", \"Financing_sub_cat\": \"State Housing Credit Equity\", \"Interest Rate\": null, \"Funding Type\": \"Permanent Financing\", \"Project Type\": \"Family\", \"Amount of Funds\": 2537246.0, \"State\": \"Georgia\"}, {\"Project Name\": \"sterlinghtsg\", \"Financing_sub_cat\": \"State Housing Credit Equity\", \"Interest Rate\": null, \"Funding Type\": \"Construction Financing\", \"Project Type\": \"HFOP\", \"Amount of Funds\": 768612.0, \"State\": \"Georgia\"}, {\"Project Name\": \"sterlinghtsg\", \"Financing_sub_cat\": \"State Housing Credit Equity\", \"Interest Rate\": null, \"Funding Type\": \"Permanent Financing\", \"Project Type\": \"HFOP\", \"Amount of Funds\": 3843060.0, \"State\": \"Georgia\"}, {\"Project Name\": \"waltonharborg\", \"Financing_sub_cat\": \"State Housing Credit Equity\", \"Interest Rate\": null, \"Funding Type\": \"Construction Financing\", \"Project Type\": \"Family\", \"Amount of Funds\": 3396250.0, \"State\": \"Georgia\"}, {\"Project Name\": \"waltonharborg\", \"Financing_sub_cat\": \"State Housing Credit Equity\", \"Interest Rate\": null, \"Funding Type\": \"Permanent Financing\", \"Project Type\": \"Family\", \"Amount of Funds\": 5225000.0, \"State\": \"Georgia\"}, {\"Project Name\": \"flatssamlaneg\", \"Financing_sub_cat\": \"State Housing Credit Equity\", \"Interest Rate\": null, \"Funding Type\": \"Construction Financing\", \"Project Type\": \"Family\", \"Amount of Funds\": 714000.0, \"State\": \"Georgia\"}, {\"Project Name\": \"flatssamlaneg\", \"Financing_sub_cat\": \"State Housing Credit Equity\", \"Interest Rate\": null, \"Funding Type\": \"Permanent Financing\", \"Project Type\": \"Family\", \"Amount of Funds\": 4757000.0, \"State\": \"Georgia\"}, {\"Project Name\": \"verandaassemblyg\", \"Financing_sub_cat\": \"State Housing Credit Equity\", \"Interest Rate\": null, \"Funding Type\": \"Construction Financing\", \"Project Type\": \"HFOP\", \"Amount of Funds\": 2426404.0, \"State\": \"Georgia\"}, {\"Project Name\": \"verandaassemblyg\", \"Financing_sub_cat\": \"State Housing Credit Equity\", \"Interest Rate\": null, \"Funding Type\": \"Permanent Financing\", \"Project Type\": \"HFOP\", \"Amount of Funds\": 5097487.0, \"State\": \"Georgia\"}, {\"Project Name\": \"legacywaltontrlg\", \"Financing_sub_cat\": \"State Housing Credit Equity\", \"Interest Rate\": null, \"Funding Type\": \"Construction Financing\", \"Project Type\": \"HFOP\", \"Amount of Funds\": 3038750.0, \"State\": \"Georgia\"}, {\"Project Name\": \"legacywaltontrlg\", \"Financing_sub_cat\": \"State Housing Credit Equity\", \"Interest Rate\": null, \"Funding Type\": \"Permanent Financing\", \"Project Type\": \"HFOP\", \"Amount of Funds\": 4675000.0, \"State\": \"Georgia\"}, {\"Project Name\": \"pineviewtraceg\", \"Financing_sub_cat\": \"State Housing Credit Equity\", \"Interest Rate\": null, \"Funding Type\": \"Construction Financing\", \"Project Type\": \"Family\", \"Amount of Funds\": 611601.0, \"State\": \"Georgia\"}, {\"Project Name\": \"pineviewtraceg\", \"Financing_sub_cat\": \"State Housing Credit Equity\", \"Interest Rate\": null, \"Funding Type\": \"Permanent Financing\", \"Project Type\": \"Family\", \"Amount of Funds\": 3058005.0, \"State\": \"Georgia\"}, {\"Project Name\": \"pineviewtraceg\", \"Financing_sub_cat\": \"State Housing Credit Equity\", \"Interest Rate\": null, \"Funding Type\": \"Construction Financing\", \"Project Type\": \"Family\", \"Amount of Funds\": 611601.0, \"State\": \"Georgia\"}, {\"Project Name\": \"pineviewtraceg\", \"Financing_sub_cat\": \"State Housing Credit Equity\", \"Interest Rate\": null, \"Funding Type\": \"Permanent Financing\", \"Project Type\": \"Family\", \"Amount of Funds\": 3058005.0, \"State\": \"Georgia\"}, {\"Project Name\": \"suttonterrace\", \"Financing_sub_cat\": \"State Housing Credit Equity\", \"Interest Rate\": null, \"Funding Type\": \"Construction Financing\", \"Project Type\": \"Family\", \"Amount of Funds\": 711368.4, \"State\": \"Georgia\"}, {\"Project Name\": \"suttonterrace\", \"Financing_sub_cat\": \"State Housing Credit Equity\", \"Interest Rate\": null, \"Funding Type\": \"Permanent Financing\", \"Project Type\": \"Family\", \"Amount of Funds\": 3556842.0, \"State\": \"Georgia\"}, {\"Project Name\": \"woodlawnsrvllgg\", \"Financing_sub_cat\": \"State Housing Credit Equity\", \"Interest Rate\": null, \"Funding Type\": \"Construction Financing\", \"Project Type\": \"HFOP\", \"Amount of Funds\": 1386317.0, \"State\": \"Georgia\"}, {\"Project Name\": \"woodlawnsrvllgg\", \"Financing_sub_cat\": \"State Housing Credit Equity\", \"Interest Rate\": null, \"Funding Type\": \"Permanent Financing\", \"Project Type\": \"HFOP\", \"Amount of Funds\": 1762500.0, \"State\": \"Georgia\"}, {\"Project Name\": \"northsidesrvlgg\", \"Financing_sub_cat\": \"Local Grant\", \"Interest Rate\": null, \"Funding Type\": \"Construction Financing\", \"Project Type\": \"Elderly\", \"Amount of Funds\": 110000.0, \"State\": \"Georgia\"}, {\"Project Name\": \"northsidesrvlgg\", \"Financing_sub_cat\": \"Local Grant\", \"Interest Rate\": null, \"Funding Type\": \"Permanent Financing\", \"Project Type\": \"Elderly\", \"Amount of Funds\": 110000.0, \"State\": \"Georgia\"}, {\"Project Name\": \"waltonharborg\", \"Financing_sub_cat\": \"Local Grant\", \"Interest Rate\": null, \"Funding Type\": \"Construction Financing\", \"Project Type\": \"Family\", \"Amount of Funds\": 350000.0, \"State\": \"Georgia\"}, {\"Project Name\": \"waltonharborg\", \"Financing_sub_cat\": \"Local Grant\", \"Interest Rate\": null, \"Funding Type\": \"Permanent Financing\", \"Project Type\": \"Family\", \"Amount of Funds\": 350000.0, \"State\": \"Georgia\"}]}}, {\"mode\": \"vega-lite\"});\n",
       "</script>"
      ],
      "text/plain": [
       "alt.Chart(...)"
      ]
     },
     "execution_count": 17,
     "metadata": {},
     "output_type": "execute_result"
    }
   ],
   "source": [
    "alt.Chart(georgia_financing).mark_bar().encode(\n",
    "    x='Project Name',\n",
    "    y='Amount of Funds',\n",
    "    color='Financing_sub_cat',\n",
    "    tooltip=['Financing_sub_cat']\n",
    ")"
   ]
  },
  {
   "cell_type": "code",
   "execution_count": 18,
   "metadata": {},
   "outputs": [],
   "source": [
    "#prep ohio data for stacked bar chart \n",
    "ohio_financing[\"Amount of Funds\"] = ohio_financing[\"Amount of Funds\"].str[:-3]#remove stuff after decimal\n",
    "ohio_financing[\"Amount of Funds\"].replace(regex=True, inplace=True, to_replace=r'[^0-9.\\-]', value=r'')#stip out nonnumeric charecters\n",
    "#ohio_financing[\"Amount of Funds\"] = ohio_financing[\"Amount of Funds\"].astype(int)\n",
    "ohio_financing[\"Amount of Funds\"] = pd.to_numeric(ohio_financing[\"Amount of Funds\"], errors='coerce')\n",
    "ohio_graph = ohio_financing[ohio_financing[\"Amount of Funds\"] != \"\"]\n",
    "ohio_graph[\"Amount of Funds\"] = ohio_graph[\"Amount of Funds\"].astype(float)#altair wont render a stacked bar chart unless its a float"
   ]
  },
  {
   "cell_type": "code",
   "execution_count": 19,
   "metadata": {},
   "outputs": [
    {
     "data": {
      "text/html": [
       "\n",
       "<div id=\"altair-viz-cfa9eee935c940a5af4212d6479f2b95\"></div>\n",
       "<script type=\"text/javascript\">\n",
       "  (function(spec, embedOpt){\n",
       "    const outputDiv = document.getElementById(\"altair-viz-cfa9eee935c940a5af4212d6479f2b95\");\n",
       "    const paths = {\n",
       "      \"vega\": \"https://cdn.jsdelivr.net/npm//vega@5?noext\",\n",
       "      \"vega-lib\": \"https://cdn.jsdelivr.net/npm//vega-lib?noext\",\n",
       "      \"vega-lite\": \"https://cdn.jsdelivr.net/npm//vega-lite@4.0.2?noext\",\n",
       "      \"vega-embed\": \"https://cdn.jsdelivr.net/npm//vega-embed@6?noext\",\n",
       "    };\n",
       "\n",
       "    function loadScript(lib) {\n",
       "      return new Promise(function(resolve, reject) {\n",
       "        var s = document.createElement('script');\n",
       "        s.src = paths[lib];\n",
       "        s.async = true;\n",
       "        s.onload = () => resolve(paths[lib]);\n",
       "        s.onerror = () => reject(`Error loading script: ${paths[lib]}`);\n",
       "        document.getElementsByTagName(\"head\")[0].appendChild(s);\n",
       "      });\n",
       "    }\n",
       "\n",
       "    function showError(err) {\n",
       "      outputDiv.innerHTML = `<div class=\"error\" style=\"color:red;\">${err}</div>`;\n",
       "      throw err;\n",
       "    }\n",
       "\n",
       "    function displayChart(vegaEmbed) {\n",
       "      vegaEmbed(outputDiv, spec, embedOpt)\n",
       "        .catch(err => showError(`Javascript Error: ${err.message}<br>This usually means there's a typo in your chart specification. See the javascript console for the full traceback.`));\n",
       "    }\n",
       "\n",
       "    if(typeof define === \"function\" && define.amd) {\n",
       "      requirejs.config({paths});\n",
       "      require([\"vega-embed\"], displayChart, err => showError(`Error loading script: ${err.message}`));\n",
       "    } else if (typeof vegaEmbed === \"function\") {\n",
       "      displayChart(vegaEmbed);\n",
       "    } else {\n",
       "      loadScript(\"vega\")\n",
       "        .then(() => loadScript(\"vega-lite\"))\n",
       "        .then(() => loadScript(\"vega-embed\"))\n",
       "        .catch(showError)\n",
       "        .then(() => displayChart(vegaEmbed));\n",
       "    }\n",
       "  })({\"config\": {\"view\": {\"continuousWidth\": 400, \"continuousHeight\": 300}}, \"data\": {\"name\": \"data-e3aa26aba4f059b7670a57b3d5e0a088\"}, \"mark\": \"bar\", \"encoding\": {\"color\": {\"type\": \"nominal\", \"field\": \"Financing_sub_cat\"}, \"tooltip\": [{\"type\": \"nominal\", \"field\": \"Financing_sub_cat\"}], \"x\": {\"type\": \"nominal\", \"field\": \"Project Name\"}, \"y\": {\"type\": \"quantitative\", \"field\": \"Amount of Funds\"}}, \"$schema\": \"https://vega.github.io/schema/vega-lite/v4.0.2.json\", \"datasets\": {\"data-e3aa26aba4f059b7670a57b3d5e0a088\": [{\"Project Name\": \"SheltonGardens\", \"Project Type\": \"Families\", \"Financing_sub_cat\": \"Tax Credit\", \"Funding Type\": \"Construction Financing Sources\", \"Amount of Funds\": 4135172.0, \"State\": \"Ohio\"}, {\"Project Name\": \"SheltonGardens\", \"Project Type\": \"Families\", \"Financing_sub_cat\": \"Deferred Developer Fee\", \"Funding Type\": \"Construction Financing Sources\", \"Amount of Funds\": 1800000.0, \"State\": \"Ohio\"}, {\"Project Name\": \"SheltonGardens\", \"Project Type\": \"Families\", \"Financing_sub_cat\": \"Bank Loan\", \"Funding Type\": \"Construction Financing Sources\", \"Amount of Funds\": 5200000.0, \"State\": \"Ohio\"}, {\"Project Name\": \"SheltonGardens\", \"Project Type\": \"Families\", \"Financing_sub_cat\": \"Other\", \"Funding Type\": \"Construction Financing Sources\", \"Amount of Funds\": 599442.0, \"State\": \"Ohio\"}, {\"Project Name\": \"SheltonGardens\", \"Project Type\": \"Families\", \"Financing_sub_cat\": \"Other\", \"Funding Type\": \"Construction Financing Sources\", \"Amount of Funds\": 1250000.0, \"State\": \"Ohio\"}, {\"Project Name\": \"SheltonGardens\", \"Project Type\": \"Families\", \"Financing_sub_cat\": \"Tax Credit\", \"Funding Type\": \"Permanent Financing Sources\", \"Amount of Funds\": 7518496.0, \"State\": \"Ohio\"}, {\"Project Name\": \"SheltonGardens\", \"Project Type\": \"Families\", \"Financing_sub_cat\": \"Deferred Developer Fee\", \"Funding Type\": \"Permanent Financing Sources\", \"Amount of Funds\": 266119.0, \"State\": \"Ohio\"}, {\"Project Name\": \"SheltonGardens\", \"Project Type\": \"Families\", \"Financing_sub_cat\": \"Bank Loan\", \"Funding Type\": \"Permanent Financing Sources\", \"Amount of Funds\": 5200000.0, \"State\": \"Ohio\"}, {\"Project Name\": \"JenkinsStreetLofts\", \"Project Type\": \"Families\", \"Financing_sub_cat\": \"Tax Credit\", \"Funding Type\": \"Construction Financing Sources\", \"Amount of Funds\": 279220.0, \"State\": \"Ohio\"}, {\"Project Name\": \"JenkinsStreetLofts\", \"Project Type\": \"Families\", \"Financing_sub_cat\": \"State Housing Credit Equity\", \"Funding Type\": \"Construction Financing Sources\", \"Amount of Funds\": 300000.0, \"State\": \"Ohio\"}, {\"Project Name\": \"JenkinsStreetLofts\", \"Project Type\": \"Families\", \"Financing_sub_cat\": \"Deferred Developer Fee\", \"Funding Type\": \"Construction Financing Sources\", \"Amount of Funds\": 1709563.0, \"State\": \"Ohio\"}, {\"Project Name\": \"JenkinsStreetLofts\", \"Project Type\": \"Families\", \"Financing_sub_cat\": \"Bank Loan\", \"Funding Type\": \"Construction Financing Sources\", \"Amount of Funds\": 5960000.0, \"State\": \"Ohio\"}, {\"Project Name\": \"JenkinsStreetLofts\", \"Project Type\": \"Families\", \"Financing_sub_cat\": \"Other\", \"Funding Type\": \"Construction Financing Sources\", \"Amount of Funds\": 500000.0, \"State\": \"Ohio\"}, {\"Project Name\": \"JenkinsStreetLofts\", \"Project Type\": \"Families\", \"Financing_sub_cat\": \"Other\", \"Funding Type\": \"Construction Financing Sources\", \"Amount of Funds\": 1250000.0, \"State\": \"Ohio\"}, {\"Project Name\": \"JenkinsStreetLofts\", \"Project Type\": \"Families\", \"Financing_sub_cat\": \"Other\", \"Funding Type\": \"Construction Financing Sources\", \"Amount of Funds\": 2000000.0, \"State\": \"Ohio\"}, {\"Project Name\": \"JenkinsStreetLofts\", \"Project Type\": \"Families\", \"Financing_sub_cat\": \"Tax Credit\", \"Funding Type\": \"Permanent Financing Sources\", \"Amount of Funds\": 8717639.0, \"State\": \"Ohio\"}, {\"Project Name\": \"JenkinsStreetLofts\", \"Project Type\": \"Families\", \"Financing_sub_cat\": \"State Housing Credit Equity\", \"Funding Type\": \"Permanent Financing Sources\", \"Amount of Funds\": 300000.0, \"State\": \"Ohio\"}, {\"Project Name\": \"JenkinsStreetLofts\", \"Project Type\": \"Families\", \"Financing_sub_cat\": \"Deferred Developer Fee\", \"Funding Type\": \"Permanent Financing Sources\", \"Amount of Funds\": 56144.0, \"State\": \"Ohio\"}, {\"Project Name\": \"JenkinsStreetLofts\", \"Project Type\": \"Families\", \"Financing_sub_cat\": \"Bank Loan\", \"Funding Type\": \"Permanent Financing Sources\", \"Amount of Funds\": 2425000.0, \"State\": \"Ohio\"}, {\"Project Name\": \"JenkinsStreetLofts\", \"Project Type\": \"Families\", \"Financing_sub_cat\": \"Other\", \"Funding Type\": \"Permanent Financing Sources\", \"Amount of Funds\": 500000.0, \"State\": \"Ohio\"}, {\"Project Name\": \"EasternWoodsSenior\", \"Project Type\": \"Seniors\", \"Financing_sub_cat\": \"Tax Credit\", \"Funding Type\": \"Construction Financing Sources\", \"Amount of Funds\": 2941056.0, \"State\": \"Ohio\"}, {\"Project Name\": \"EasternWoodsSenior\", \"Project Type\": \"Seniors\", \"Financing_sub_cat\": \"Bank Loan\", \"Funding Type\": \"Construction Financing Sources\", \"Amount of Funds\": 2919229.0, \"State\": \"Ohio\"}, {\"Project Name\": \"EasternWoodsSenior\", \"Project Type\": \"Seniors\", \"Financing_sub_cat\": \"Other\", \"Funding Type\": \"Construction Financing Sources\", \"Amount of Funds\": 500000.0, \"State\": \"Ohio\"}, {\"Project Name\": \"EasternWoodsSenior\", \"Project Type\": \"Seniors\", \"Financing_sub_cat\": \"Other\", \"Funding Type\": \"Construction Financing Sources\", \"Amount of Funds\": 1250000.0, \"State\": \"Ohio\"}, {\"Project Name\": \"EasternWoodsSenior\", \"Project Type\": \"Seniors\", \"Financing_sub_cat\": \"Other\", \"Funding Type\": \"Construction Financing Sources\", \"Amount of Funds\": 1268935.0, \"State\": \"Ohio\"}, {\"Project Name\": \"EasternWoodsSenior\", \"Project Type\": \"Seniors\", \"Financing_sub_cat\": \"Tax Credit\", \"Funding Type\": \"Permanent Financing Sources\", \"Amount of Funds\": 7352640.0, \"State\": \"Ohio\"}, {\"Project Name\": \"EasternWoodsSenior\", \"Project Type\": \"Seniors\", \"Financing_sub_cat\": \"Bank Loan\", \"Funding Type\": \"Permanent Financing Sources\", \"Amount of Funds\": 1026580.0, \"State\": \"Ohio\"}, {\"Project Name\": \"EasternWoodsSenior\", \"Project Type\": \"Seniors\", \"Financing_sub_cat\": \"Other\", \"Funding Type\": \"Permanent Financing Sources\", \"Amount of Funds\": 500000.0, \"State\": \"Ohio\"}, {\"Project Name\": \"CarpenterHall\", \"Project Type\": \"Families\", \"Financing_sub_cat\": \"Tax Credit\", \"Funding Type\": \"Construction Financing Sources\", \"Amount of Funds\": 130505.0, \"State\": \"Ohio\"}, {\"Project Name\": \"CarpenterHall\", \"Project Type\": \"Families\", \"Financing_sub_cat\": \"Deferred Developer Fee\", \"Funding Type\": \"Construction Financing Sources\", \"Amount of Funds\": 1187000.0, \"State\": \"Ohio\"}, {\"Project Name\": \"CarpenterHall\", \"Project Type\": \"Families\", \"Financing_sub_cat\": \"Bank Loan\", \"Funding Type\": \"Construction Financing Sources\", \"Amount of Funds\": 4500000.0, \"State\": \"Ohio\"}, {\"Project Name\": \"CarpenterHall\", \"Project Type\": \"Families\", \"Financing_sub_cat\": \"Other\", \"Funding Type\": \"Construction Financing Sources\", \"Amount of Funds\": 500000.0, \"State\": \"Ohio\"}, {\"Project Name\": \"CarpenterHall\", \"Project Type\": \"Families\", \"Financing_sub_cat\": \"Other\", \"Funding Type\": \"Construction Financing Sources\", \"Amount of Funds\": 132500.0, \"State\": \"Ohio\"}, {\"Project Name\": \"CarpenterHall\", \"Project Type\": \"Families\", \"Financing_sub_cat\": \"Other\", \"Funding Type\": \"Construction Financing Sources\", \"Amount of Funds\": 1250000.0, \"State\": \"Ohio\"}, {\"Project Name\": \"CarpenterHall\", \"Project Type\": \"Families\", \"Financing_sub_cat\": \"Tax Credit\", \"Funding Type\": \"Permanent Financing Sources\", \"Amount of Funds\": 4920005.0, \"State\": \"Ohio\"}, {\"Project Name\": \"CarpenterHall\", \"Project Type\": \"Families\", \"Financing_sub_cat\": \"Bank Loan\", \"Funding Type\": \"Permanent Financing Sources\", \"Amount of Funds\": 1750000.0, \"State\": \"Ohio\"}, {\"Project Name\": \"CarpenterHall\", \"Project Type\": \"Families\", \"Financing_sub_cat\": \"Other\", \"Funding Type\": \"Permanent Financing Sources\", \"Amount of Funds\": 500000.0, \"State\": \"Ohio\"}, {\"Project Name\": \"CarpenterHall\", \"Project Type\": \"Families\", \"Financing_sub_cat\": \"Other\", \"Funding Type\": \"Permanent Financing Sources\", \"Amount of Funds\": 530000.0, \"State\": \"Ohio\"}, {\"Project Name\": \"CarpenterHall\", \"Project Type\": \"Families\", \"Financing_sub_cat\": \"Tax Credit\", \"Funding Type\": \"Construction Financing Sources\", \"Amount of Funds\": 130505.0, \"State\": \"Ohio\"}, {\"Project Name\": \"CarpenterHall\", \"Project Type\": \"Families\", \"Financing_sub_cat\": \"Deferred Developer Fee\", \"Funding Type\": \"Construction Financing Sources\", \"Amount of Funds\": 1187000.0, \"State\": \"Ohio\"}, {\"Project Name\": \"CarpenterHall\", \"Project Type\": \"Families\", \"Financing_sub_cat\": \"Bank Loan\", \"Funding Type\": \"Construction Financing Sources\", \"Amount of Funds\": 4500000.0, \"State\": \"Ohio\"}, {\"Project Name\": \"CarpenterHall\", \"Project Type\": \"Families\", \"Financing_sub_cat\": \"Other\", \"Funding Type\": \"Construction Financing Sources\", \"Amount of Funds\": 500000.0, \"State\": \"Ohio\"}, {\"Project Name\": \"CarpenterHall\", \"Project Type\": \"Families\", \"Financing_sub_cat\": \"Other\", \"Funding Type\": \"Construction Financing Sources\", \"Amount of Funds\": 132500.0, \"State\": \"Ohio\"}, {\"Project Name\": \"CarpenterHall\", \"Project Type\": \"Families\", \"Financing_sub_cat\": \"Other\", \"Funding Type\": \"Construction Financing Sources\", \"Amount of Funds\": 1250000.0, \"State\": \"Ohio\"}, {\"Project Name\": \"CarpenterHall\", \"Project Type\": \"Families\", \"Financing_sub_cat\": \"Tax Credit\", \"Funding Type\": \"Permanent Financing Sources\", \"Amount of Funds\": 4920005.0, \"State\": \"Ohio\"}, {\"Project Name\": \"CarpenterHall\", \"Project Type\": \"Families\", \"Financing_sub_cat\": \"Bank Loan\", \"Funding Type\": \"Permanent Financing Sources\", \"Amount of Funds\": 1750000.0, \"State\": \"Ohio\"}, {\"Project Name\": \"CarpenterHall\", \"Project Type\": \"Families\", \"Financing_sub_cat\": \"Other\", \"Funding Type\": \"Permanent Financing Sources\", \"Amount of Funds\": 500000.0, \"State\": \"Ohio\"}, {\"Project Name\": \"CarpenterHall\", \"Project Type\": \"Families\", \"Financing_sub_cat\": \"Other\", \"Funding Type\": \"Permanent Financing Sources\", \"Amount of Funds\": 530000.0, \"State\": \"Ohio\"}, {\"Project Name\": \"LongfellowSchool\", \"Project Type\": \"Seniors\", \"Financing_sub_cat\": \"Tax Credit\", \"Funding Type\": \"Construction Financing Sources\", \"Amount of Funds\": 2400000.0, \"State\": \"Ohio\"}, {\"Project Name\": \"LongfellowSchool\", \"Project Type\": \"Seniors\", \"Financing_sub_cat\": \"Deferred Developer Fee\", \"Funding Type\": \"Construction Financing Sources\", \"Amount of Funds\": 1565548.0, \"State\": \"Ohio\"}, {\"Project Name\": \"LongfellowSchool\", \"Project Type\": \"Seniors\", \"Financing_sub_cat\": \"Bank Loan\", \"Funding Type\": \"Construction Financing Sources\", \"Amount of Funds\": 3604500.0, \"State\": \"Ohio\"}, {\"Project Name\": \"LongfellowSchool\", \"Project Type\": \"Seniors\", \"Financing_sub_cat\": \"Other\", \"Funding Type\": \"Construction Financing Sources\", \"Amount of Funds\": 11644281.0, \"State\": \"Ohio\"}, {\"Project Name\": \"LongfellowSchool\", \"Project Type\": \"Seniors\", \"Financing_sub_cat\": \"Other\", \"Funding Type\": \"Construction Financing Sources\", \"Amount of Funds\": 1250000.0, \"State\": \"Ohio\"}, {\"Project Name\": \"LongfellowSchool\", \"Project Type\": \"Seniors\", \"Financing_sub_cat\": \"Tax Credit\", \"Funding Type\": \"Permanent Financing Sources\", \"Amount of Funds\": 11873813.0, \"State\": \"Ohio\"}, {\"Project Name\": \"LongfellowSchool\", \"Project Type\": \"Seniors\", \"Financing_sub_cat\": \"Historic Tax Credit\", \"Funding Type\": \"Permanent Financing Sources\", \"Amount of Funds\": 1723018.0, \"State\": \"Ohio\"}, {\"Project Name\": \"LongfellowSchool\", \"Project Type\": \"Seniors\", \"Financing_sub_cat\": \"Deferred Developer Fee\", \"Funding Type\": \"Permanent Financing Sources\", \"Amount of Funds\": 386318.0, \"State\": \"Ohio\"}, {\"Project Name\": \"LongfellowSchool\", \"Project Type\": \"Seniors\", \"Financing_sub_cat\": \"Bank Loan\", \"Funding Type\": \"Permanent Financing Sources\", \"Amount of Funds\": 3604500.0, \"State\": \"Ohio\"}, {\"Project Name\": \"LongfellowSchool\", \"Project Type\": \"Seniors\", \"Financing_sub_cat\": \"Other\", \"Funding Type\": \"Permanent Financing Sources\", \"Amount of Funds\": 242562.0, \"State\": \"Ohio\"}, {\"Project Name\": \"LongfellowSchool\", \"Project Type\": \"Seniors\", \"Financing_sub_cat\": \"Other\", \"Funding Type\": \"Permanent Financing Sources\", \"Amount of Funds\": 2034118.0, \"State\": \"Ohio\"}, {\"Project Name\": \"LongfellowSchool\", \"Project Type\": \"Seniors\", \"Financing_sub_cat\": \"Other\", \"Funding Type\": \"Permanent Financing Sources\", \"Amount of Funds\": 600000.0, \"State\": \"Ohio\"}, {\"Project Name\": \"WoodStreetLofts\", \"Project Type\": \"Families\", \"Financing_sub_cat\": \"Tax Credit\", \"Funding Type\": \"Construction Financing Sources\", \"Amount of Funds\": 704295.0, \"State\": \"Ohio\"}, {\"Project Name\": \"WoodStreetLofts\", \"Project Type\": \"Families\", \"Financing_sub_cat\": \"State Housing Credit Equity\", \"Funding Type\": \"Construction Financing Sources\", \"Amount of Funds\": 600000.0, \"State\": \"Ohio\"}, {\"Project Name\": \"WoodStreetLofts\", \"Project Type\": \"Families\", \"Financing_sub_cat\": \"Deferred Developer Fee\", \"Funding Type\": \"Construction Financing Sources\", \"Amount of Funds\": 217500.0, \"State\": \"Ohio\"}, {\"Project Name\": \"WoodStreetLofts\", \"Project Type\": \"Families\", \"Financing_sub_cat\": \"Bank Loan\", \"Funding Type\": \"Construction Financing Sources\", \"Amount of Funds\": 6250000.0, \"State\": \"Ohio\"}, {\"Project Name\": \"WoodStreetLofts\", \"Project Type\": \"Families\", \"Financing_sub_cat\": \"Other\", \"Funding Type\": \"Construction Financing Sources\", \"Amount of Funds\": 1250000.0, \"State\": \"Ohio\"}, {\"Project Name\": \"WoodStreetLofts\", \"Project Type\": \"Families\", \"Financing_sub_cat\": \"Other\", \"Funding Type\": \"Construction Financing Sources\", \"Amount of Funds\": 893014.0, \"State\": \"Ohio\"}, {\"Project Name\": \"WoodStreetLofts\", \"Project Type\": \"Families\", \"Financing_sub_cat\": \"Tax Credit\", \"Funding Type\": \"Permanent Financing Sources\", \"Amount of Funds\": 7042950.0, \"State\": \"Ohio\"}, {\"Project Name\": \"WoodStreetLofts\", \"Project Type\": \"Families\", \"Financing_sub_cat\": \"State Housing Credit Equity\", \"Funding Type\": \"Permanent Financing Sources\", \"Amount of Funds\": 600000.0, \"State\": \"Ohio\"}, {\"Project Name\": \"WoodStreetLofts\", \"Project Type\": \"Families\", \"Financing_sub_cat\": \"Deferred Developer Fee\", \"Funding Type\": \"Permanent Financing Sources\", \"Amount of Funds\": 217500.0, \"State\": \"Ohio\"}, {\"Project Name\": \"WoodStreetLofts\", \"Project Type\": \"Families\", \"Financing_sub_cat\": \"Bank Loan\", \"Funding Type\": \"Permanent Financing Sources\", \"Amount of Funds\": 1450000.0, \"State\": \"Ohio\"}, {\"Project Name\": \"WoodStreetLofts\", \"Project Type\": \"Families\", \"Financing_sub_cat\": \"Bank Loan\", \"Funding Type\": \"Permanent Financing Sources\", \"Amount of Funds\": 325000.0, \"State\": \"Ohio\"}, {\"Project Name\": \"WoodStreetLofts\", \"Project Type\": \"Families\", \"Financing_sub_cat\": \"Other\", \"Funding Type\": \"Permanent Financing Sources\", \"Amount of Funds\": 10000.0, \"State\": \"Ohio\"}, {\"Project Name\": \"WoodStreetLofts\", \"Project Type\": \"Families\", \"Financing_sub_cat\": \"Other\", \"Funding Type\": \"Permanent Financing Sources\", \"Amount of Funds\": 269359.0, \"State\": \"Ohio\"}, {\"Project Name\": \"CreeksidePlaceApartments\", \"Project Type\": \"Service Enriched\", \"Financing_sub_cat\": \"Tax Credit\", \"Funding Type\": \"Construction Financing Sources\", \"Amount of Funds\": 85000.0, \"State\": \"Ohio\"}, {\"Project Name\": \"CreeksidePlaceApartments\", \"Project Type\": \"Service Enriched\", \"Financing_sub_cat\": \"State Housing Credit Equity\", \"Funding Type\": \"Construction Financing Sources\", \"Amount of Funds\": 300000.0, \"State\": \"Ohio\"}, {\"Project Name\": \"CreeksidePlaceApartments\", \"Project Type\": \"Service Enriched\", \"Financing_sub_cat\": \"Deferred Developer Fee\", \"Funding Type\": \"Construction Financing Sources\", \"Amount of Funds\": 701439.0, \"State\": \"Ohio\"}, {\"Project Name\": \"CreeksidePlaceApartments\", \"Project Type\": \"Service Enriched\", \"Financing_sub_cat\": \"Bank Loan\", \"Funding Type\": \"Construction Financing Sources\", \"Amount of Funds\": 3550000.0, \"State\": \"Ohio\"}, {\"Project Name\": \"CreeksidePlaceApartments\", \"Project Type\": \"Service Enriched\", \"Financing_sub_cat\": \"Affordable Housing Trust\", \"Funding Type\": \"Construction Financing Sources\", \"Amount of Funds\": 3000000.0, \"State\": \"Ohio\"}, {\"Project Name\": \"CreeksidePlaceApartments\", \"Project Type\": \"Service Enriched\", \"Financing_sub_cat\": \"Other\", \"Funding Type\": \"Construction Financing Sources\", \"Amount of Funds\": 2250000.0, \"State\": \"Ohio\"}, {\"Project Name\": \"CreeksidePlaceApartments\", \"Project Type\": \"Service Enriched\", \"Financing_sub_cat\": \"Federal Home Loan Bank\", \"Funding Type\": \"Construction Financing Sources\", \"Amount of Funds\": 189000.0, \"State\": \"Ohio\"}, {\"Project Name\": \"CreeksidePlaceApartments\", \"Project Type\": \"Service Enriched\", \"Financing_sub_cat\": \"Local Grant\", \"Funding Type\": \"Construction Financing Sources\", \"Amount of Funds\": 1000.0, \"State\": \"Ohio\"}, {\"Project Name\": \"CreeksidePlaceApartments\", \"Project Type\": \"Service Enriched\", \"Financing_sub_cat\": \"Other\", \"Funding Type\": \"Construction Financing Sources\", \"Amount of Funds\": 1750000.0, \"State\": \"Ohio\"}, {\"Project Name\": \"CreeksidePlaceApartments\", \"Project Type\": \"Service Enriched\", \"Financing_sub_cat\": \"Tax Credit\", \"Funding Type\": \"Permanent Financing Sources\", \"Amount of Funds\": 8505000.0, \"State\": \"Ohio\"}, {\"Project Name\": \"CreeksidePlaceApartments\", \"Project Type\": \"Service Enriched\", \"Financing_sub_cat\": \"State Housing Credit Equity\", \"Funding Type\": \"Permanent Financing Sources\", \"Amount of Funds\": 300000.0, \"State\": \"Ohio\"}, {\"Project Name\": \"CreeksidePlaceApartments\", \"Project Type\": \"Service Enriched\", \"Financing_sub_cat\": \"Deferred Developer Fee\", \"Funding Type\": \"Permanent Financing Sources\", \"Amount of Funds\": 14439.0, \"State\": \"Ohio\"}, {\"Project Name\": \"CreeksidePlaceApartments\", \"Project Type\": \"Service Enriched\", \"Financing_sub_cat\": \"Local Grant\", \"Funding Type\": \"Permanent Financing Sources\", \"Amount of Funds\": 2000000.0, \"State\": \"Ohio\"}, {\"Project Name\": \"CreeksidePlaceApartments\", \"Project Type\": \"Service Enriched\", \"Financing_sub_cat\": \"Local Grant\", \"Funding Type\": \"Permanent Financing Sources\", \"Amount of Funds\": 250000.0, \"State\": \"Ohio\"}, {\"Project Name\": \"CreeksidePlaceApartments\", \"Project Type\": \"Service Enriched\", \"Financing_sub_cat\": \"Federal Home Loan Bank\", \"Funding Type\": \"Permanent Financing Sources\", \"Amount of Funds\": 756000.0, \"State\": \"Ohio\"}, {\"Project Name\": \"CreeksidePlaceApartments\", \"Project Type\": \"Service Enriched\", \"Financing_sub_cat\": \"Local Grant\", \"Funding Type\": \"Permanent Financing Sources\", \"Amount of Funds\": 1000.0, \"State\": \"Ohio\"}, {\"Project Name\": \"MontgomeryCrossing\", \"Project Type\": \"Families\", \"Financing_sub_cat\": \"Tax Credit\", \"Funding Type\": \"Construction Financing Sources\", \"Amount of Funds\": 209574.0, \"State\": \"Ohio\"}, {\"Project Name\": \"MontgomeryCrossing\", \"Project Type\": \"Families\", \"Financing_sub_cat\": \"State Housing Credit Equity\", \"Funding Type\": \"Construction Financing Sources\", \"Amount of Funds\": 300000.0, \"State\": \"Ohio\"}, {\"Project Name\": \"MontgomeryCrossing\", \"Project Type\": \"Families\", \"Financing_sub_cat\": \"Deferred Developer Fee\", \"Funding Type\": \"Construction Financing Sources\", \"Amount of Funds\": 1116549.0, \"State\": \"Ohio\"}, {\"Project Name\": \"MontgomeryCrossing\", \"Project Type\": \"Families\", \"Financing_sub_cat\": \"Bank Loan\", \"Funding Type\": \"Construction Financing Sources\", \"Amount of Funds\": 5370000.0, \"State\": \"Ohio\"}, {\"Project Name\": \"MontgomeryCrossing\", \"Project Type\": \"Families\", \"Financing_sub_cat\": \"Other\", \"Funding Type\": \"Construction Financing Sources\", \"Amount of Funds\": 1250000.0, \"State\": \"Ohio\"}, {\"Project Name\": \"MontgomeryCrossing\", \"Project Type\": \"Families\", \"Financing_sub_cat\": \"Tax Credit\", \"Funding Type\": \"Permanent Financing Sources\", \"Amount of Funds\": 6842497.0, \"State\": \"Ohio\"}, {\"Project Name\": \"MontgomeryCrossing\", \"Project Type\": \"Families\", \"Financing_sub_cat\": \"State Housing Credit Equity\", \"Funding Type\": \"Permanent Financing Sources\", \"Amount of Funds\": 300000.0, \"State\": \"Ohio\"}, {\"Project Name\": \"MontgomeryCrossing\", \"Project Type\": \"Families\", \"Financing_sub_cat\": \"Deferred Developer Fee\", \"Funding Type\": \"Permanent Financing Sources\", \"Amount of Funds\": 78526.0, \"State\": \"Ohio\"}, {\"Project Name\": \"MontgomeryCrossing\", \"Project Type\": \"Families\", \"Financing_sub_cat\": \"Bank Loan\", \"Funding Type\": \"Permanent Financing Sources\", \"Amount of Funds\": 1025000.0, \"State\": \"Ohio\"}, {\"Project Name\": \"MontgomeryCrossing\", \"Project Type\": \"Families\", \"Financing_sub_cat\": \"Other\", \"Funding Type\": \"Permanent Financing Sources\", \"Amount of Funds\": null, \"State\": \"Ohio\"}, {\"Project Name\": \"CasaNuevaApartments\", \"Project Type\": \"Families\", \"Financing_sub_cat\": \"Tax Credit\", \"Funding Type\": \"Construction Financing Sources\", \"Amount of Funds\": 4019168.0, \"State\": \"Ohio\"}, {\"Project Name\": \"CasaNuevaApartments\", \"Project Type\": \"Families\", \"Financing_sub_cat\": \"Bank Loan\", \"Funding Type\": \"Construction Financing Sources\", \"Amount of Funds\": 2075793.0, \"State\": \"Ohio\"}, {\"Project Name\": \"CasaNuevaApartments\", \"Project Type\": \"Families\", \"Financing_sub_cat\": \"Other\", \"Funding Type\": \"Construction Financing Sources\", \"Amount of Funds\": 42980.0, \"State\": \"Ohio\"}, {\"Project Name\": \"CasaNuevaApartments\", \"Project Type\": \"Families\", \"Financing_sub_cat\": \"Other\", \"Funding Type\": \"Construction Financing Sources\", \"Amount of Funds\": 13897.0, \"State\": \"Ohio\"}, {\"Project Name\": \"CasaNuevaApartments\", \"Project Type\": \"Families\", \"Financing_sub_cat\": \"Other\", \"Funding Type\": \"Construction Financing Sources\", \"Amount of Funds\": 1425403.0, \"State\": \"Ohio\"}, {\"Project Name\": \"CasaNuevaApartments\", \"Project Type\": \"Families\", \"Financing_sub_cat\": \"Other\", \"Funding Type\": \"Construction Financing Sources\", \"Amount of Funds\": 1250000.0, \"State\": \"Ohio\"}, {\"Project Name\": \"CasaNuevaApartments\", \"Project Type\": \"Families\", \"Financing_sub_cat\": \"Tax Credit\", \"Funding Type\": \"Permanent Financing Sources\", \"Amount of Funds\": 6363630.0, \"State\": \"Ohio\"}, {\"Project Name\": \"CasaNuevaApartments\", \"Project Type\": \"Families\", \"Financing_sub_cat\": \"Deferred Developer Fee\", \"Funding Type\": \"Permanent Financing Sources\", \"Amount of Funds\": 330941.0, \"State\": \"Ohio\"}, {\"Project Name\": \"CasaNuevaApartments\", \"Project Type\": \"Families\", \"Financing_sub_cat\": \"Bank Loan\", \"Funding Type\": \"Permanent Financing Sources\", \"Amount of Funds\": 2075793.0, \"State\": \"Ohio\"}, {\"Project Name\": \"CasaNuevaApartments\", \"Project Type\": \"Families\", \"Financing_sub_cat\": \"Other\", \"Funding Type\": \"Permanent Financing Sources\", \"Amount of Funds\": 42980.0, \"State\": \"Ohio\"}, {\"Project Name\": \"CasaNuevaApartments\", \"Project Type\": \"Families\", \"Financing_sub_cat\": \"Other\", \"Funding Type\": \"Permanent Financing Sources\", \"Amount of Funds\": 13897.0, \"State\": \"Ohio\"}, {\"Project Name\": \"TiffinPointeII\", \"Project Type\": \"Families\", \"Financing_sub_cat\": \"Tax Credit\", \"Funding Type\": \"Construction Financing Sources\", \"Amount of Funds\": 1458092.0, \"State\": \"Ohio\"}, {\"Project Name\": \"TiffinPointeII\", \"Project Type\": \"Families\", \"Financing_sub_cat\": \"Bank Loan\", \"Funding Type\": \"Construction Financing Sources\", \"Amount of Funds\": 6600000.0, \"State\": \"Ohio\"}, {\"Project Name\": \"TiffinPointeII\", \"Project Type\": \"Families\", \"Financing_sub_cat\": \"Tax Credit\", \"Funding Type\": \"Permanent Financing Sources\", \"Amount of Funds\": 7290462.0, \"State\": \"Ohio\"}, {\"Project Name\": \"TiffinPointeII\", \"Project Type\": \"Families\", \"Financing_sub_cat\": \"Deferred Developer Fee\", \"Funding Type\": \"Permanent Financing Sources\", \"Amount of Funds\": 193020.0, \"State\": \"Ohio\"}, {\"Project Name\": \"TiffinPointeII\", \"Project Type\": \"Families\", \"Financing_sub_cat\": \"Bank Loan\", \"Funding Type\": \"Permanent Financing Sources\", \"Amount of Funds\": 1825000.0, \"State\": \"Ohio\"}, {\"Project Name\": \"WoosterLofts\", \"Project Type\": \"Families\", \"Financing_sub_cat\": \"Tax Credit\", \"Funding Type\": \"Construction Financing Sources\", \"Amount of Funds\": 737162.0, \"State\": \"Ohio\"}, {\"Project Name\": \"WoosterLofts\", \"Project Type\": \"Families\", \"Financing_sub_cat\": \"State Housing Credit Equity\", \"Funding Type\": \"Construction Financing Sources\", \"Amount of Funds\": 300000.0, \"State\": \"Ohio\"}, {\"Project Name\": \"WoosterLofts\", \"Project Type\": \"Families\", \"Financing_sub_cat\": \"Deferred Developer Fee\", \"Funding Type\": \"Construction Financing Sources\", \"Amount of Funds\": 77487.0, \"State\": \"Ohio\"}, {\"Project Name\": \"WoosterLofts\", \"Project Type\": \"Families\", \"Financing_sub_cat\": \"Bank Loan\", \"Funding Type\": \"Construction Financing Sources\", \"Amount of Funds\": 6250000.0, \"State\": \"Ohio\"}, {\"Project Name\": \"WoosterLofts\", \"Project Type\": \"Families\", \"Financing_sub_cat\": \"Other\", \"Funding Type\": \"Construction Financing Sources\", \"Amount of Funds\": 1250000.0, \"State\": \"Ohio\"}, {\"Project Name\": \"WoosterLofts\", \"Project Type\": \"Families\", \"Financing_sub_cat\": \"Other\", \"Funding Type\": \"Construction Financing Sources\", \"Amount of Funds\": 744459.0, \"State\": \"Ohio\"}, {\"Project Name\": \"WoosterLofts\", \"Project Type\": \"Families\", \"Financing_sub_cat\": \"Tax Credit\", \"Funding Type\": \"Permanent Financing Sources\", \"Amount of Funds\": 7371621.0, \"State\": \"Ohio\"}, {\"Project Name\": \"WoosterLofts\", \"Project Type\": \"Families\", \"Financing_sub_cat\": \"State Housing Credit Equity\", \"Funding Type\": \"Permanent Financing Sources\", \"Amount of Funds\": 300000.0, \"State\": \"Ohio\"}, {\"Project Name\": \"WoosterLofts\", \"Project Type\": \"Families\", \"Financing_sub_cat\": \"Deferred Developer Fee\", \"Funding Type\": \"Permanent Financing Sources\", \"Amount of Funds\": 77487.0, \"State\": \"Ohio\"}, {\"Project Name\": \"WoosterLofts\", \"Project Type\": \"Families\", \"Financing_sub_cat\": \"Bank Loan\", \"Funding Type\": \"Permanent Financing Sources\", \"Amount of Funds\": 1350000.0, \"State\": \"Ohio\"}, {\"Project Name\": \"WoosterLofts\", \"Project Type\": \"Families\", \"Financing_sub_cat\": \"Bank Loan\", \"Funding Type\": \"Permanent Financing Sources\", \"Amount of Funds\": 250000.0, \"State\": \"Ohio\"}, {\"Project Name\": \"WoosterLofts\", \"Project Type\": \"Families\", \"Financing_sub_cat\": \"Other\", \"Funding Type\": \"Permanent Financing Sources\", \"Amount of Funds\": 10000.0, \"State\": \"Ohio\"}, {\"Project Name\": \"Perseverance\", \"Project Type\": \"Families\", \"Financing_sub_cat\": \"Tax Credit\", \"Funding Type\": \"Construction Financing Sources\", \"Amount of Funds\": 131653.0, \"State\": \"Ohio\"}, {\"Project Name\": \"Perseverance\", \"Project Type\": \"Families\", \"Financing_sub_cat\": \"State Housing Credit Equity\", \"Funding Type\": \"Construction Financing Sources\", \"Amount of Funds\": 540000.0, \"State\": \"Ohio\"}, {\"Project Name\": \"Perseverance\", \"Project Type\": \"Families\", \"Financing_sub_cat\": \"Deferred Developer Fee\", \"Funding Type\": \"Construction Financing Sources\", \"Amount of Funds\": 508389.0, \"State\": \"Ohio\"}, {\"Project Name\": \"Perseverance\", \"Project Type\": \"Families\", \"Financing_sub_cat\": \"Bank Loan\", \"Funding Type\": \"Construction Financing Sources\", \"Amount of Funds\": 3718742.0, \"State\": \"Ohio\"}, {\"Project Name\": \"Perseverance\", \"Project Type\": \"Families\", \"Financing_sub_cat\": \"Other\", \"Funding Type\": \"Construction Financing Sources\", \"Amount of Funds\": 675000.0, \"State\": \"Ohio\"}, {\"Project Name\": \"Perseverance\", \"Project Type\": \"Families\", \"Financing_sub_cat\": \"Other\", \"Funding Type\": \"Construction Financing Sources\", \"Amount of Funds\": 1250000.0, \"State\": \"Ohio\"}, {\"Project Name\": \"Perseverance\", \"Project Type\": \"Families\", \"Financing_sub_cat\": \"Other\", \"Funding Type\": \"Construction Financing Sources\", \"Amount of Funds\": 1123150.0, \"State\": \"Ohio\"}, {\"Project Name\": \"Perseverance\", \"Project Type\": \"Families\", \"Financing_sub_cat\": \"Tax Credit\", \"Funding Type\": \"Permanent Financing Sources\", \"Amount of Funds\": 5236358.0, \"State\": \"Ohio\"}, {\"Project Name\": \"Perseverance\", \"Project Type\": \"Families\", \"Financing_sub_cat\": \"State Housing Credit Equity\", \"Funding Type\": \"Permanent Financing Sources\", \"Amount of Funds\": 600000.0, \"State\": \"Ohio\"}, {\"Project Name\": \"Perseverance\", \"Project Type\": \"Families\", \"Financing_sub_cat\": \"Historic Tax Credit\", \"Funding Type\": \"Permanent Financing Sources\", \"Amount of Funds\": 852187.0, \"State\": \"Ohio\"}, {\"Project Name\": \"Perseverance\", \"Project Type\": \"Families\", \"Financing_sub_cat\": \"Deferred Developer Fee\", \"Funding Type\": \"Permanent Financing Sources\", \"Amount of Funds\": 508389.0, \"State\": \"Ohio\"}, {\"Project Name\": \"Perseverance\", \"Project Type\": \"Families\", \"Financing_sub_cat\": \"Other\", \"Funding Type\": \"Permanent Financing Sources\", \"Amount of Funds\": 750000.0, \"State\": \"Ohio\"}, {\"Project Name\": \"OxfordPlace\", \"Project Type\": \"Seniors\", \"Financing_sub_cat\": \"Tax Credit\", \"Funding Type\": \"Construction Financing Sources\", \"Amount of Funds\": 7025886.0, \"State\": \"Ohio\"}, {\"Project Name\": \"OxfordPlace\", \"Project Type\": \"Seniors\", \"Financing_sub_cat\": \"Bank Loan\", \"Funding Type\": \"Construction Financing Sources\", \"Amount of Funds\": 5000000.0, \"State\": \"Ohio\"}, {\"Project Name\": \"OxfordPlace\", \"Project Type\": \"Seniors\", \"Financing_sub_cat\": \"Other\", \"Funding Type\": \"Construction Financing Sources\", \"Amount of Funds\": 700000.0, \"State\": \"Ohio\"}, {\"Project Name\": \"OxfordPlace\", \"Project Type\": \"Seniors\", \"Financing_sub_cat\": \"Other\", \"Funding Type\": \"Construction Financing Sources\", \"Amount of Funds\": 897648.0, \"State\": \"Ohio\"}, {\"Project Name\": \"OxfordPlace\", \"Project Type\": \"Seniors\", \"Financing_sub_cat\": \"Other\", \"Funding Type\": \"Construction Financing Sources\", \"Amount of Funds\": 1250000.0, \"State\": \"Ohio\"}, {\"Project Name\": \"OxfordPlace\", \"Project Type\": \"Seniors\", \"Financing_sub_cat\": \"Tax Credit\", \"Funding Type\": \"Permanent Financing Sources\", \"Amount of Funds\": 9199080.0, \"State\": \"Ohio\"}, {\"Project Name\": \"OxfordPlace\", \"Project Type\": \"Seniors\", \"Financing_sub_cat\": \"Historic Tax Credit\", \"Funding Type\": \"Permanent Financing Sources\", \"Amount of Funds\": 4660947.0, \"State\": \"Ohio\"}, {\"Project Name\": \"OxfordPlace\", \"Project Type\": \"Seniors\", \"Financing_sub_cat\": \"Deferred Developer Fee\", \"Funding Type\": \"Permanent Financing Sources\", \"Amount of Funds\": 313507.0, \"State\": \"Ohio\"}, {\"Project Name\": \"OxfordPlace\", \"Project Type\": \"Seniors\", \"Financing_sub_cat\": \"Other\", \"Funding Type\": \"Permanent Financing Sources\", \"Amount of Funds\": 700000.0, \"State\": \"Ohio\"}, {\"Project Name\": \"SanteeLanding\", \"Project Type\": \"Families\", \"Financing_sub_cat\": \"Tax Credit\", \"Funding Type\": \"Construction Financing Sources\", \"Amount of Funds\": 1170000.0, \"State\": \"Ohio\"}, {\"Project Name\": \"SanteeLanding\", \"Project Type\": \"Families\", \"Financing_sub_cat\": \"State Housing Credit Equity\", \"Funding Type\": \"Construction Financing Sources\", \"Amount of Funds\": 270000.0, \"State\": \"Ohio\"}, {\"Project Name\": \"SanteeLanding\", \"Project Type\": \"Families\", \"Financing_sub_cat\": \"Bank Loan\", \"Funding Type\": \"Construction Financing Sources\", \"Amount of Funds\": 7385000.0, \"State\": \"Ohio\"}, {\"Project Name\": \"SanteeLanding\", \"Project Type\": \"Families\", \"Financing_sub_cat\": \"Other\", \"Funding Type\": \"Construction Financing Sources\", \"Amount of Funds\": 1250000.0, \"State\": \"Ohio\"}, {\"Project Name\": \"SanteeLanding\", \"Project Type\": \"Families\", \"Financing_sub_cat\": \"Tax Credit\", \"Funding Type\": \"Permanent Financing Sources\", \"Amount of Funds\": 9200000.0, \"State\": \"Ohio\"}, {\"Project Name\": \"SanteeLanding\", \"Project Type\": \"Families\", \"Financing_sub_cat\": \"State Housing Credit Equity\", \"Funding Type\": \"Permanent Financing Sources\", \"Amount of Funds\": 300000.0, \"State\": \"Ohio\"}, {\"Project Name\": \"SanteeLanding\", \"Project Type\": \"Families\", \"Financing_sub_cat\": \"Deferred Developer Fee\", \"Funding Type\": \"Permanent Financing Sources\", \"Amount of Funds\": 172837.0, \"State\": \"Ohio\"}, {\"Project Name\": \"SanteeLanding\", \"Project Type\": \"Families\", \"Financing_sub_cat\": \"Bank Loan\", \"Funding Type\": \"Permanent Financing Sources\", \"Amount of Funds\": 1052939.0, \"State\": \"Ohio\"}, {\"Project Name\": \"SanteeLanding\", \"Project Type\": \"Families\", \"Financing_sub_cat\": \"Other\", \"Funding Type\": \"Permanent Financing Sources\", \"Amount of Funds\": 245000.0, \"State\": \"Ohio\"}, {\"Project Name\": \"HamiltonCrossingAnnex\", \"Project Type\": \"Seniors\", \"Financing_sub_cat\": \"Deferred Developer Fee\", \"Funding Type\": \"Construction Financing Sources\", \"Amount of Funds\": 1144300.0, \"State\": \"Ohio\"}, {\"Project Name\": \"HamiltonCrossingAnnex\", \"Project Type\": \"Seniors\", \"Financing_sub_cat\": \"Bank Loan\", \"Funding Type\": \"Construction Financing Sources\", \"Amount of Funds\": 3560000.0, \"State\": \"Ohio\"}, {\"Project Name\": \"HamiltonCrossingAnnex\", \"Project Type\": \"Seniors\", \"Financing_sub_cat\": \"Other\", \"Funding Type\": \"Construction Financing Sources\", \"Amount of Funds\": 200000.0, \"State\": \"Ohio\"}, {\"Project Name\": \"HamiltonCrossingAnnex\", \"Project Type\": \"Seniors\", \"Financing_sub_cat\": \"Other\", \"Funding Type\": \"Construction Financing Sources\", \"Amount of Funds\": 1250000.0, \"State\": \"Ohio\"}, {\"Project Name\": \"HamiltonCrossingAnnex\", \"Project Type\": \"Seniors\", \"Financing_sub_cat\": \"Tax Credit\", \"Funding Type\": \"Permanent Financing Sources\", \"Amount of Funds\": 5214300.0, \"State\": \"Ohio\"}, {\"Project Name\": \"HamiltonCrossingAnnex\", \"Project Type\": \"Seniors\", \"Financing_sub_cat\": \"Deferred Developer Fee\", \"Funding Type\": \"Permanent Financing Sources\", \"Amount of Funds\": 40000.0, \"State\": \"Ohio\"}, {\"Project Name\": \"HamiltonCrossingAnnex\", \"Project Type\": \"Seniors\", \"Financing_sub_cat\": \"Bank Loan\", \"Funding Type\": \"Permanent Financing Sources\", \"Amount of Funds\": 700000.0, \"State\": \"Ohio\"}, {\"Project Name\": \"HamiltonCrossingAnnex\", \"Project Type\": \"Seniors\", \"Financing_sub_cat\": \"Other\", \"Funding Type\": \"Permanent Financing Sources\", \"Amount of Funds\": 200000.0, \"State\": \"Ohio\"}, {\"Project Name\": \"SidneyCrossing\", \"Project Type\": \"Families\", \"Financing_sub_cat\": \"Tax Credit\", \"Funding Type\": \"Construction Financing Sources\", \"Amount of Funds\": 250000.0, \"State\": \"Ohio\"}, {\"Project Name\": \"SidneyCrossing\", \"Project Type\": \"Families\", \"Financing_sub_cat\": \"State Housing Credit Equity\", \"Funding Type\": \"Construction Financing Sources\", \"Amount of Funds\": 260000.0, \"State\": \"Ohio\"}, {\"Project Name\": \"SidneyCrossing\", \"Project Type\": \"Families\", \"Financing_sub_cat\": \"Deferred Developer Fee\", \"Funding Type\": \"Construction Financing Sources\", \"Amount of Funds\": 800000.0, \"State\": \"Ohio\"}, {\"Project Name\": \"SidneyCrossing\", \"Project Type\": \"Families\", \"Financing_sub_cat\": \"Bank Loan\", \"Funding Type\": \"Construction Financing Sources\", \"Amount of Funds\": 6463690.0, \"State\": \"Ohio\"}, {\"Project Name\": \"SidneyCrossing\", \"Project Type\": \"Families\", \"Financing_sub_cat\": \"Other\", \"Funding Type\": \"Construction Financing Sources\", \"Amount of Funds\": 1250000.0, \"State\": \"Ohio\"}, {\"Project Name\": \"SidneyCrossing\", \"Project Type\": \"Families\", \"Financing_sub_cat\": \"Tax Credit\", \"Funding Type\": \"Permanent Financing Sources\", \"Amount of Funds\": 7221278.0, \"State\": \"Ohio\"}, {\"Project Name\": \"SidneyCrossing\", \"Project Type\": \"Families\", \"Financing_sub_cat\": \"State Housing Credit Equity\", \"Funding Type\": \"Permanent Financing Sources\", \"Amount of Funds\": 300000.0, \"State\": \"Ohio\"}, {\"Project Name\": \"SidneyCrossing\", \"Project Type\": \"Families\", \"Financing_sub_cat\": \"Deferred Developer Fee\", \"Funding Type\": \"Permanent Financing Sources\", \"Amount of Funds\": 162412.0, \"State\": \"Ohio\"}, {\"Project Name\": \"SidneyCrossing\", \"Project Type\": \"Families\", \"Financing_sub_cat\": \"Bank Loan\", \"Funding Type\": \"Permanent Financing Sources\", \"Amount of Funds\": 1340000.0, \"State\": \"Ohio\"}, {\"Project Name\": \"FranklinManorSouth\", \"Project Type\": \"Families\", \"Financing_sub_cat\": \"Tax Credit\", \"Funding Type\": \"Construction Financing Sources\", \"Amount of Funds\": 2290500.0, \"State\": \"Ohio\"}, {\"Project Name\": \"FranklinManorSouth\", \"Project Type\": \"Families\", \"Financing_sub_cat\": \"Bank Loan\", \"Funding Type\": \"Construction Financing Sources\", \"Amount of Funds\": 7423117.0, \"State\": \"Ohio\"}, {\"Project Name\": \"FranklinManorSouth\", \"Project Type\": \"Families\", \"Financing_sub_cat\": \"Other\", \"Funding Type\": \"Construction Financing Sources\", \"Amount of Funds\": 250000.0, \"State\": \"Ohio\"}, {\"Project Name\": \"FranklinManorSouth\", \"Project Type\": \"Families\", \"Financing_sub_cat\": \"Other\", \"Funding Type\": \"Construction Financing Sources\", \"Amount of Funds\": 6750000.0, \"State\": \"Ohio\"}, {\"Project Name\": \"FranklinManorSouth\", \"Project Type\": \"Families\", \"Financing_sub_cat\": \"Other\", \"Funding Type\": \"Construction Financing Sources\", \"Amount of Funds\": 2489130.0, \"State\": \"Ohio\"}, {\"Project Name\": \"FranklinManorSouth\", \"Project Type\": \"Families\", \"Financing_sub_cat\": \"Tax Credit\", \"Funding Type\": \"Permanent Financing Sources\", \"Amount of Funds\": 11452747.0, \"State\": \"Ohio\"}, {\"Project Name\": \"FranklinManorSouth\", \"Project Type\": \"Families\", \"Financing_sub_cat\": \"Bank Loan\", \"Funding Type\": \"Permanent Financing Sources\", \"Amount of Funds\": 7500000.0, \"State\": \"Ohio\"}, {\"Project Name\": \"FranklinManorSouth\", \"Project Type\": \"Families\", \"Financing_sub_cat\": \"Other\", \"Funding Type\": \"Permanent Financing Sources\", \"Amount of Funds\": 250000.0, \"State\": \"Ohio\"}, {\"Project Name\": \"OverlookApartments\", \"Project Type\": \"Families\", \"Financing_sub_cat\": \"Tax Credit\", \"Funding Type\": \"Construction Financing Sources\", \"Amount of Funds\": 1376705.0, \"State\": \"Ohio\"}, {\"Project Name\": \"OverlookApartments\", \"Project Type\": \"Families\", \"Financing_sub_cat\": \"State Housing Credit Equity\", \"Funding Type\": \"Construction Financing Sources\", \"Amount of Funds\": 600000.0, \"State\": \"Ohio\"}, {\"Project Name\": \"OverlookApartments\", \"Project Type\": \"Families\", \"Financing_sub_cat\": \"Bank Loan\", \"Funding Type\": \"Construction Financing Sources\", \"Amount of Funds\": 4269130.0, \"State\": \"Ohio\"}, {\"Project Name\": \"OverlookApartments\", \"Project Type\": \"Families\", \"Financing_sub_cat\": \"Other\", \"Funding Type\": \"Construction Financing Sources\", \"Amount of Funds\": null, \"State\": \"Ohio\"}, {\"Project Name\": \"OverlookApartments\", \"Project Type\": \"Families\", \"Financing_sub_cat\": \"Other\", \"Funding Type\": \"Construction Financing Sources\", \"Amount of Funds\": 1250000.0, \"State\": \"Ohio\"}, {\"Project Name\": \"OverlookApartments\", \"Project Type\": \"Families\", \"Financing_sub_cat\": \"Tax Credit\", \"Funding Type\": \"Permanent Financing Sources\", \"Amount of Funds\": 7519248.0, \"State\": \"Ohio\"}, {\"Project Name\": \"OverlookApartments\", \"Project Type\": \"Families\", \"Financing_sub_cat\": \"State Housing Credit Equity\", \"Funding Type\": \"Permanent Financing Sources\", \"Amount of Funds\": 600000.0, \"State\": \"Ohio\"}, {\"Project Name\": \"OverlookApartments\", \"Project Type\": \"Families\", \"Financing_sub_cat\": \"Deferred Developer Fee\", \"Funding Type\": \"Permanent Financing Sources\", \"Amount of Funds\": 174367.0, \"State\": \"Ohio\"}, {\"Project Name\": \"OverlookApartments\", \"Project Type\": \"Families\", \"Financing_sub_cat\": \"Bank Loan\", \"Funding Type\": \"Permanent Financing Sources\", \"Amount of Funds\": 625000.0, \"State\": \"Ohio\"}, {\"Project Name\": \"OverlookApartments\", \"Project Type\": \"Families\", \"Financing_sub_cat\": \"Other\", \"Funding Type\": \"Permanent Financing Sources\", \"Amount of Funds\": null, \"State\": \"Ohio\"}, {\"Project Name\": \"RachelCourt\", \"Project Type\": \"Seniors\", \"Financing_sub_cat\": \"Tax Credit\", \"Funding Type\": \"Construction Financing Sources\", \"Amount of Funds\": 127752.0, \"State\": \"Ohio\"}, {\"Project Name\": \"RachelCourt\", \"Project Type\": \"Seniors\", \"Financing_sub_cat\": \"Bank Loan\", \"Funding Type\": \"Construction Financing Sources\", \"Amount of Funds\": 3378097.0, \"State\": \"Ohio\"}, {\"Project Name\": \"RachelCourt\", \"Project Type\": \"Seniors\", \"Financing_sub_cat\": \"Other\", \"Funding Type\": \"Construction Financing Sources\", \"Amount of Funds\": 1250000.0, \"State\": \"Ohio\"}, {\"Project Name\": \"RachelCourt\", \"Project Type\": \"Seniors\", \"Financing_sub_cat\": \"Other\", \"Funding Type\": \"Construction Financing Sources\", \"Amount of Funds\": 327718.0, \"State\": \"Ohio\"}, {\"Project Name\": \"RachelCourt\", \"Project Type\": \"Seniors\", \"Financing_sub_cat\": \"Other\", \"Funding Type\": \"Construction Financing Sources\", \"Amount of Funds\": 251000.0, \"State\": \"Ohio\"}, {\"Project Name\": \"RachelCourt\", \"Project Type\": \"Seniors\", \"Financing_sub_cat\": \"Other\", \"Funding Type\": \"Construction Financing Sources\", \"Amount of Funds\": 112282.0, \"State\": \"Ohio\"}, {\"Project Name\": \"RachelCourt\", \"Project Type\": \"Seniors\", \"Financing_sub_cat\": \"Other\", \"Funding Type\": \"Construction Financing Sources\", \"Amount of Funds\": 827608.0, \"State\": \"Ohio\"}, {\"Project Name\": \"RachelCourt\", \"Project Type\": \"Seniors\", \"Financing_sub_cat\": \"Tax Credit\", \"Funding Type\": \"Permanent Financing Sources\", \"Amount of Funds\": 4476263.0, \"State\": \"Ohio\"}, {\"Project Name\": \"RachelCourt\", \"Project Type\": \"Seniors\", \"Financing_sub_cat\": \"Deferred Developer Fee\", \"Funding Type\": \"Permanent Financing Sources\", \"Amount of Funds\": 208994.0, \"State\": \"Ohio\"}, {\"Project Name\": \"RachelCourt\", \"Project Type\": \"Seniors\", \"Financing_sub_cat\": \"Bank Loan\", \"Funding Type\": \"Permanent Financing Sources\", \"Amount of Funds\": 327718.0, \"State\": \"Ohio\"}, {\"Project Name\": \"RachelCourt\", \"Project Type\": \"Seniors\", \"Financing_sub_cat\": \"Bank Loan\", \"Funding Type\": \"Permanent Financing Sources\", \"Amount of Funds\": 112282.0, \"State\": \"Ohio\"}, {\"Project Name\": \"RachelCourt\", \"Project Type\": \"Seniors\", \"Financing_sub_cat\": \"Other\", \"Funding Type\": \"Permanent Financing Sources\", \"Amount of Funds\": 1000000.0, \"State\": \"Ohio\"}, {\"Project Name\": \"RachelCourt\", \"Project Type\": \"Seniors\", \"Financing_sub_cat\": \"Other\", \"Funding Type\": \"Permanent Financing Sources\", \"Amount of Funds\": 1000.0, \"State\": \"Ohio\"}, {\"Project Name\": \"RachelCourt\", \"Project Type\": \"Seniors\", \"Financing_sub_cat\": \"Other\", \"Funding Type\": \"Permanent Financing Sources\", \"Amount of Funds\": 148200.0, \"State\": \"Ohio\"}, {\"Project Name\": \"BridgePointeCommons\", \"Project Type\": \"Service Enriched\", \"Financing_sub_cat\": \"Tax Credit\", \"Funding Type\": \"Construction Financing Sources\", \"Amount of Funds\": 2819718.0, \"State\": \"Ohio\"}, {\"Project Name\": \"BridgePointeCommons\", \"Project Type\": \"Service Enriched\", \"Financing_sub_cat\": \"State Housing Credit Equity\", \"Funding Type\": \"Construction Financing Sources\", \"Amount of Funds\": 540000.0, \"State\": \"Ohio\"}, {\"Project Name\": \"BridgePointeCommons\", \"Project Type\": \"Service Enriched\", \"Financing_sub_cat\": \"Deferred Developer Fee\", \"Funding Type\": \"Construction Financing Sources\", \"Amount of Funds\": 1386035.0, \"State\": \"Ohio\"}, {\"Project Name\": \"BridgePointeCommons\", \"Project Type\": \"Service Enriched\", \"Financing_sub_cat\": \"Bank Loan\", \"Funding Type\": \"Construction Financing Sources\", \"Amount of Funds\": 7000000.0, \"State\": \"Ohio\"}, {\"Project Name\": \"BridgePointeCommons\", \"Project Type\": \"Service Enriched\", \"Financing_sub_cat\": \"Other\", \"Funding Type\": \"Construction Financing Sources\", \"Amount of Funds\": 250000.0, \"State\": \"Ohio\"}, {\"Project Name\": \"BridgePointeCommons\", \"Project Type\": \"Service Enriched\", \"Financing_sub_cat\": \"Other\", \"Funding Type\": \"Construction Financing Sources\", \"Amount of Funds\": 500000.0, \"State\": \"Ohio\"}, {\"Project Name\": \"BridgePointeCommons\", \"Project Type\": \"Service Enriched\", \"Financing_sub_cat\": \"Other\", \"Funding Type\": \"Construction Financing Sources\", \"Amount of Funds\": 250000.0, \"State\": \"Ohio\"}, {\"Project Name\": \"BridgePointeCommons\", \"Project Type\": \"Service Enriched\", \"Financing_sub_cat\": \"Other\", \"Funding Type\": \"Construction Financing Sources\", \"Amount of Funds\": 100000.0, \"State\": \"Ohio\"}, {\"Project Name\": \"BridgePointeCommons\", \"Project Type\": \"Service Enriched\", \"Financing_sub_cat\": \"Other\", \"Funding Type\": \"Construction Financing Sources\", \"Amount of Funds\": 1000.0, \"State\": \"Ohio\"}, {\"Project Name\": \"BridgePointeCommons\", \"Project Type\": \"Service Enriched\", \"Financing_sub_cat\": \"Tax Credit\", \"Funding Type\": \"Permanent Financing Sources\", \"Amount of Funds\": 9399060.0, \"State\": \"Ohio\"}, {\"Project Name\": \"BridgePointeCommons\", \"Project Type\": \"Service Enriched\", \"Financing_sub_cat\": \"State Housing Credit Equity\", \"Funding Type\": \"Permanent Financing Sources\", \"Amount of Funds\": 600000.0, \"State\": \"Ohio\"}, {\"Project Name\": \"BridgePointeCommons\", \"Project Type\": \"Service Enriched\", \"Financing_sub_cat\": \"Deferred Developer Fee\", \"Funding Type\": \"Permanent Financing Sources\", \"Amount of Funds\": 741693.0, \"State\": \"Ohio\"}, {\"Project Name\": \"BridgePointeCommons\", \"Project Type\": \"Service Enriched\", \"Financing_sub_cat\": \"Bank Loan\", \"Funding Type\": \"Permanent Financing Sources\", \"Amount of Funds\": 85000.0, \"State\": \"Ohio\"}, {\"Project Name\": \"BridgePointeCommons\", \"Project Type\": \"Service Enriched\", \"Financing_sub_cat\": \"Bank Loan\", \"Funding Type\": \"Permanent Financing Sources\", \"Amount of Funds\": 170000.0, \"State\": \"Ohio\"}, {\"Project Name\": \"BridgePointeCommons\", \"Project Type\": \"Service Enriched\", \"Financing_sub_cat\": \"Other\", \"Funding Type\": \"Permanent Financing Sources\", \"Amount of Funds\": 1000000.0, \"State\": \"Ohio\"}, {\"Project Name\": \"BridgePointeCommons\", \"Project Type\": \"Service Enriched\", \"Financing_sub_cat\": \"Other\", \"Funding Type\": \"Permanent Financing Sources\", \"Amount of Funds\": 500000.0, \"State\": \"Ohio\"}, {\"Project Name\": \"BridgePointeCommons\", \"Project Type\": \"Service Enriched\", \"Financing_sub_cat\": \"Other\", \"Funding Type\": \"Permanent Financing Sources\", \"Amount of Funds\": 250000.0, \"State\": \"Ohio\"}, {\"Project Name\": \"BridgePointeCommons\", \"Project Type\": \"Service Enriched\", \"Financing_sub_cat\": \"Other\", \"Funding Type\": \"Permanent Financing Sources\", \"Amount of Funds\": 100000.0, \"State\": \"Ohio\"}, {\"Project Name\": \"BridgePointeCommons\", \"Project Type\": \"Service Enriched\", \"Financing_sub_cat\": \"Other\", \"Funding Type\": \"Permanent Financing Sources\", \"Amount of Funds\": 1000.0, \"State\": \"Ohio\"}, {\"Project Name\": \"PrairieViewApartments\", \"Project Type\": \"Seniors\", \"Financing_sub_cat\": \"Tax Credit\", \"Funding Type\": \"Construction Financing Sources\", \"Amount of Funds\": 187828.0, \"State\": \"Ohio\"}, {\"Project Name\": \"PrairieViewApartments\", \"Project Type\": \"Seniors\", \"Financing_sub_cat\": \"Bank Loan\", \"Funding Type\": \"Construction Financing Sources\", \"Amount of Funds\": 4709536.0, \"State\": \"Ohio\"}, {\"Project Name\": \"PrairieViewApartments\", \"Project Type\": \"Seniors\", \"Financing_sub_cat\": \"Other\", \"Funding Type\": \"Construction Financing Sources\", \"Amount of Funds\": 1250000.0, \"State\": \"Ohio\"}, {\"Project Name\": \"PrairieViewApartments\", \"Project Type\": \"Seniors\", \"Financing_sub_cat\": \"Other\", \"Funding Type\": \"Construction Financing Sources\", \"Amount of Funds\": 249750.0, \"State\": \"Ohio\"}, {\"Project Name\": \"PrairieViewApartments\", \"Project Type\": \"Seniors\", \"Financing_sub_cat\": \"Other\", \"Funding Type\": \"Construction Financing Sources\", \"Amount of Funds\": 1275733.0, \"State\": \"Ohio\"}, {\"Project Name\": \"PrairieViewApartments\", \"Project Type\": \"Seniors\", \"Financing_sub_cat\": \"Tax Credit\", \"Funding Type\": \"Permanent Financing Sources\", \"Amount of Funds\": 6363630.0, \"State\": \"Ohio\"}, {\"Project Name\": \"PrairieViewApartments\", \"Project Type\": \"Seniors\", \"Financing_sub_cat\": \"Deferred Developer Fee\", \"Funding Type\": \"Permanent Financing Sources\", \"Amount of Funds\": 165217.0, \"State\": \"Ohio\"}, {\"Project Name\": \"PrairieViewApartments\", \"Project Type\": \"Seniors\", \"Financing_sub_cat\": \"Other\", \"Funding Type\": \"Permanent Financing Sources\", \"Amount of Funds\": 999000.0, \"State\": \"Ohio\"}, {\"Project Name\": \"PrairieViewApartments\", \"Project Type\": \"Seniors\", \"Financing_sub_cat\": \"Other\", \"Funding Type\": \"Permanent Financing Sources\", \"Amount of Funds\": 145000.0, \"State\": \"Ohio\"}, {\"Project Name\": \"CampbellLandingApartments\", \"Project Type\": \"Families\", \"Financing_sub_cat\": \"Deferred Developer Fee\", \"Funding Type\": \"Construction Financing Sources\", \"Amount of Funds\": 1660175.0, \"State\": \"Ohio\"}, {\"Project Name\": \"CampbellLandingApartments\", \"Project Type\": \"Families\", \"Financing_sub_cat\": \"Bank Loan\", \"Funding Type\": \"Construction Financing Sources\", \"Amount of Funds\": 5829113.0, \"State\": \"Ohio\"}, {\"Project Name\": \"CampbellLandingApartments\", \"Project Type\": \"Families\", \"Financing_sub_cat\": \"Other\", \"Funding Type\": \"Construction Financing Sources\", \"Amount of Funds\": 1250000.0, \"State\": \"Ohio\"}, {\"Project Name\": \"CampbellLandingApartments\", \"Project Type\": \"Families\", \"Financing_sub_cat\": \"Tax Credit\", \"Funding Type\": \"Permanent Financing Sources\", \"Amount of Funds\": 7222000.0, \"State\": \"Ohio\"}, {\"Project Name\": \"CampbellLandingApartments\", \"Project Type\": \"Families\", \"Financing_sub_cat\": \"Deferred Developer Fee\", \"Funding Type\": \"Permanent Financing Sources\", \"Amount of Funds\": 208088.0, \"State\": \"Ohio\"}, {\"Project Name\": \"CampbellLandingApartments\", \"Project Type\": \"Families\", \"Financing_sub_cat\": \"Bank Loan\", \"Funding Type\": \"Permanent Financing Sources\", \"Amount of Funds\": 1309200.0, \"State\": \"Ohio\"}, {\"Project Name\": \"ReidsValleyViewManor\", \"Project Type\": \"Families\", \"Financing_sub_cat\": \"Tax Credit\", \"Funding Type\": \"Construction Financing Sources\", \"Amount of Funds\": 4135172.0, \"State\": \"Ohio\"}, {\"Project Name\": \"ReidsValleyViewManor\", \"Project Type\": \"Families\", \"Financing_sub_cat\": \"Deferred Developer Fee\", \"Funding Type\": \"Construction Financing Sources\", \"Amount of Funds\": 1760000.0, \"State\": \"Ohio\"}, {\"Project Name\": \"ReidsValleyViewManor\", \"Project Type\": \"Families\", \"Financing_sub_cat\": \"Bank Loan\", \"Funding Type\": \"Construction Financing Sources\", \"Amount of Funds\": 5750000.0, \"State\": \"Ohio\"}, {\"Project Name\": \"ReidsValleyViewManor\", \"Project Type\": \"Families\", \"Financing_sub_cat\": \"Other\", \"Funding Type\": \"Construction Financing Sources\", \"Amount of Funds\": 546063.0, \"State\": \"Ohio\"}, {\"Project Name\": \"ReidsValleyViewManor\", \"Project Type\": \"Families\", \"Financing_sub_cat\": \"Other\", \"Funding Type\": \"Construction Financing Sources\", \"Amount of Funds\": 1250000.0, \"State\": \"Ohio\"}, {\"Project Name\": \"ReidsValleyViewManor\", \"Project Type\": \"Families\", \"Financing_sub_cat\": \"Tax Credit\", \"Funding Type\": \"Permanent Financing Sources\", \"Amount of Funds\": 7518496.0, \"State\": \"Ohio\"}, {\"Project Name\": \"ReidsValleyViewManor\", \"Project Type\": \"Families\", \"Financing_sub_cat\": \"Deferred Developer Fee\", \"Funding Type\": \"Permanent Financing Sources\", \"Amount of Funds\": 172740.0, \"State\": \"Ohio\"}, {\"Project Name\": \"ReidsValleyViewManor\", \"Project Type\": \"Families\", \"Financing_sub_cat\": \"Bank Loan\", \"Funding Type\": \"Permanent Financing Sources\", \"Amount of Funds\": 5750000.0, \"State\": \"Ohio\"}, {\"Project Name\": \"MayflowerApartments\", \"Project Type\": \"Seniors\", \"Financing_sub_cat\": \"Tax Credit\", \"Funding Type\": \"Construction Financing Sources\", \"Amount of Funds\": 1954171.0, \"State\": \"Ohio\"}, {\"Project Name\": \"MayflowerApartments\", \"Project Type\": \"Seniors\", \"Financing_sub_cat\": \"Deferred Developer Fee\", \"Funding Type\": \"Construction Financing Sources\", \"Amount of Funds\": 375000.0, \"State\": \"Ohio\"}, {\"Project Name\": \"MayflowerApartments\", \"Project Type\": \"Seniors\", \"Financing_sub_cat\": \"Other\", \"Funding Type\": \"Construction Financing Sources\", \"Amount of Funds\": 1250000.0, \"State\": \"Ohio\"}, {\"Project Name\": \"MayflowerApartments\", \"Project Type\": \"Seniors\", \"Financing_sub_cat\": \"Other\", \"Funding Type\": \"Construction Financing Sources\", \"Amount of Funds\": 88141.0, \"State\": \"Ohio\"}, {\"Project Name\": \"MayflowerApartments\", \"Project Type\": \"Seniors\", \"Financing_sub_cat\": \"Other\", \"Funding Type\": \"Construction Financing Sources\", \"Amount of Funds\": 56009.0, \"State\": \"Ohio\"}, {\"Project Name\": \"MayflowerApartments\", \"Project Type\": \"Seniors\", \"Financing_sub_cat\": \"Bank Loan\", \"Funding Type\": \"Construction Financing Sources\", \"Amount of Funds\": 344146.0, \"State\": \"Ohio\"}, {\"Project Name\": \"MayflowerApartments\", \"Project Type\": \"Seniors\", \"Financing_sub_cat\": \"Tax Credit\", \"Funding Type\": \"Permanent Financing Sources\", \"Amount of Funds\": 2432795.0, \"State\": \"Ohio\"}, {\"Project Name\": \"MayflowerApartments\", \"Project Type\": \"Seniors\", \"Financing_sub_cat\": \"Deferred Developer Fee\", \"Funding Type\": \"Permanent Financing Sources\", \"Amount of Funds\": 56130.0, \"State\": \"Ohio\"}, {\"Project Name\": \"MayflowerApartments\", \"Project Type\": \"Seniors\", \"Financing_sub_cat\": \"Bank Loan\", \"Funding Type\": \"Permanent Financing Sources\", \"Amount of Funds\": 840247.0, \"State\": \"Ohio\"}, {\"Project Name\": \"MayflowerApartments\", \"Project Type\": \"Seniors\", \"Financing_sub_cat\": \"Bank Loan\", \"Funding Type\": \"Permanent Financing Sources\", \"Amount of Funds\": 344146.0, \"State\": \"Ohio\"}, {\"Project Name\": \"MayflowerApartments\", \"Project Type\": \"Seniors\", \"Financing_sub_cat\": \"Local Grant\", \"Funding Type\": \"Permanent Financing Sources\", \"Amount of Funds\": 250000.0, \"State\": \"Ohio\"}, {\"Project Name\": \"MayflowerApartments\", \"Project Type\": \"Seniors\", \"Financing_sub_cat\": \"Other\", \"Funding Type\": \"Permanent Financing Sources\", \"Amount of Funds\": 56008.0, \"State\": \"Ohio\"}, {\"Project Name\": \"MayflowerApartments\", \"Project Type\": \"Seniors\", \"Financing_sub_cat\": \"Other\", \"Funding Type\": \"Permanent Financing Sources\", \"Amount of Funds\": 88141.0, \"State\": \"Ohio\"}, {\"Project Name\": \"KenlawnPlace\", \"Project Type\": \"Families\", \"Financing_sub_cat\": \"State Housing Credit Equity\", \"Funding Type\": \"Construction Financing Sources\", \"Amount of Funds\": 300000.0, \"State\": \"Ohio\"}, {\"Project Name\": \"KenlawnPlace\", \"Project Type\": \"Families\", \"Financing_sub_cat\": \"Deferred Developer Fee\", \"Funding Type\": \"Construction Financing Sources\", \"Amount of Funds\": 1410000.0, \"State\": \"Ohio\"}, {\"Project Name\": \"KenlawnPlace\", \"Project Type\": \"Families\", \"Financing_sub_cat\": \"Bank Loan\", \"Funding Type\": \"Construction Financing Sources\", \"Amount of Funds\": 6765000.0, \"State\": \"Ohio\"}, {\"Project Name\": \"KenlawnPlace\", \"Project Type\": \"Families\", \"Financing_sub_cat\": \"Other\", \"Funding Type\": \"Construction Financing Sources\", \"Amount of Funds\": 300000.0, \"State\": \"Ohio\"}, {\"Project Name\": \"KenlawnPlace\", \"Project Type\": \"Families\", \"Financing_sub_cat\": \"Other\", \"Funding Type\": \"Construction Financing Sources\", \"Amount of Funds\": 275000.0, \"State\": \"Ohio\"}, {\"Project Name\": \"KenlawnPlace\", \"Project Type\": \"Families\", \"Financing_sub_cat\": \"Other\", \"Funding Type\": \"Construction Financing Sources\", \"Amount of Funds\": 1250000.0, \"State\": \"Ohio\"}, {\"Project Name\": \"KenlawnPlace\", \"Project Type\": \"Families\", \"Financing_sub_cat\": \"Tax Credit\", \"Funding Type\": \"Permanent Financing Sources\", \"Amount of Funds\": 8280000.0, \"State\": \"Ohio\"}, {\"Project Name\": \"KenlawnPlace\", \"Project Type\": \"Families\", \"Financing_sub_cat\": \"State Housing Credit Equity\", \"Funding Type\": \"Permanent Financing Sources\", \"Amount of Funds\": 300000.0, \"State\": \"Ohio\"}, {\"Project Name\": \"KenlawnPlace\", \"Project Type\": \"Families\", \"Financing_sub_cat\": \"Deferred Developer Fee\", \"Funding Type\": \"Permanent Financing Sources\", \"Amount of Funds\": 45000.0, \"State\": \"Ohio\"}, {\"Project Name\": \"KenlawnPlace\", \"Project Type\": \"Families\", \"Financing_sub_cat\": \"Bank Loan\", \"Funding Type\": \"Permanent Financing Sources\", \"Amount of Funds\": 1225000.0, \"State\": \"Ohio\"}, {\"Project Name\": \"KenlawnPlace\", \"Project Type\": \"Families\", \"Financing_sub_cat\": \"Other\", \"Funding Type\": \"Permanent Financing Sources\", \"Amount of Funds\": 300000.0, \"State\": \"Ohio\"}, {\"Project Name\": \"KenlawnPlace\", \"Project Type\": \"Families\", \"Financing_sub_cat\": \"Other\", \"Funding Type\": \"Permanent Financing Sources\", \"Amount of Funds\": 150000.0, \"State\": \"Ohio\"}, {\"Project Name\": \"BucyrusManorApartments\", \"Project Type\": \"Seniors\", \"Financing_sub_cat\": \"Tax Credit\", \"Funding Type\": \"Construction Financing Sources\", \"Amount of Funds\": 81250.0, \"State\": \"Ohio\"}, {\"Project Name\": \"BucyrusManorApartments\", \"Project Type\": \"Seniors\", \"Financing_sub_cat\": \"Bank Loan\", \"Funding Type\": \"Construction Financing Sources\", \"Amount of Funds\": 2980189.0, \"State\": \"Ohio\"}, {\"Project Name\": \"BucyrusManorApartments\", \"Project Type\": \"Seniors\", \"Financing_sub_cat\": \"Other\", \"Funding Type\": \"Construction Financing Sources\", \"Amount of Funds\": 1250000.0, \"State\": \"Ohio\"}, {\"Project Name\": \"BucyrusManorApartments\", \"Project Type\": \"Seniors\", \"Financing_sub_cat\": \"Other\", \"Funding Type\": \"Construction Financing Sources\", \"Amount of Funds\": 615910.0, \"State\": \"Ohio\"}, {\"Project Name\": \"BucyrusManorApartments\", \"Project Type\": \"Seniors\", \"Financing_sub_cat\": \"Tax Credit\", \"Funding Type\": \"Permanent Financing Sources\", \"Amount of Funds\": 3697225.0, \"State\": \"Ohio\"}, {\"Project Name\": \"BucyrusManorApartments\", \"Project Type\": \"Seniors\", \"Financing_sub_cat\": \"Deferred Developer Fee\", \"Funding Type\": \"Permanent Financing Sources\", \"Amount of Funds\": 155000.0, \"State\": \"Ohio\"}, {\"Project Name\": \"BucyrusManorApartments\", \"Project Type\": \"Seniors\", \"Financing_sub_cat\": \"Bank Loan\", \"Funding Type\": \"Permanent Financing Sources\", \"Amount of Funds\": 860000.0, \"State\": \"Ohio\"}, {\"Project Name\": \"BucyrusManorApartments\", \"Project Type\": \"Seniors\", \"Financing_sub_cat\": \"Other\", \"Funding Type\": \"Permanent Financing Sources\", \"Amount of Funds\": 215124.0, \"State\": \"Ohio\"}, {\"Project Name\": \"HawthornLandingApartments\", \"Project Type\": \"Families\", \"Financing_sub_cat\": \"Deferred Developer Fee\", \"Funding Type\": \"Construction Financing Sources\", \"Amount of Funds\": 2025739.0, \"State\": \"Ohio\"}, {\"Project Name\": \"HawthornLandingApartments\", \"Project Type\": \"Families\", \"Financing_sub_cat\": \"Bank Loan\", \"Funding Type\": \"Construction Financing Sources\", \"Amount of Funds\": 8261279.0, \"State\": \"Ohio\"}, {\"Project Name\": \"HawthornLandingApartments\", \"Project Type\": \"Families\", \"Financing_sub_cat\": \"Other\", \"Funding Type\": \"Construction Financing Sources\", \"Amount of Funds\": 1250000.0, \"State\": \"Ohio\"}, {\"Project Name\": \"HawthornLandingApartments\", \"Project Type\": \"Families\", \"Financing_sub_cat\": \"Tax Credit\", \"Funding Type\": \"Permanent Financing Sources\", \"Amount of Funds\": 8963500.0, \"State\": \"Ohio\"}, {\"Project Name\": \"HawthornLandingApartments\", \"Project Type\": \"Families\", \"Financing_sub_cat\": \"Deferred Developer Fee\", \"Funding Type\": \"Permanent Financing Sources\", \"Amount of Funds\": 233518.0, \"State\": \"Ohio\"}, {\"Project Name\": \"HawthornLandingApartments\", \"Project Type\": \"Families\", \"Financing_sub_cat\": \"Bank Loan\", \"Funding Type\": \"Permanent Financing Sources\", \"Amount of Funds\": 2340000.0, \"State\": \"Ohio\"}, {\"Project Name\": \"SlavicVillageGateway\", \"Project Type\": \"Families\", \"Financing_sub_cat\": \"Tax Credit\", \"Funding Type\": \"Construction Financing Sources\", \"Amount of Funds\": 2315763.0, \"State\": \"Ohio\"}, {\"Project Name\": \"SlavicVillageGateway\", \"Project Type\": \"Families\", \"Financing_sub_cat\": \"Bank Loan\", \"Funding Type\": \"Construction Financing Sources\", \"Amount of Funds\": 11325000.0, \"State\": \"Ohio\"}, {\"Project Name\": \"SlavicVillageGateway\", \"Project Type\": \"Families\", \"Financing_sub_cat\": \"Local Grant\", \"Funding Type\": \"Construction Financing Sources\", \"Amount of Funds\": 540000.0, \"State\": \"Ohio\"}, {\"Project Name\": \"SlavicVillageGateway\", \"Project Type\": \"Families\", \"Financing_sub_cat\": \"Other\", \"Funding Type\": \"Construction Financing Sources\", \"Amount of Funds\": 405000.0, \"State\": \"Ohio\"}, {\"Project Name\": \"SlavicVillageGateway\", \"Project Type\": \"Families\", \"Financing_sub_cat\": \"Tax Credit\", \"Funding Type\": \"Permanent Financing Sources\", \"Amount of Funds\": 11578815.0, \"State\": \"Ohio\"}, {\"Project Name\": \"SlavicVillageGateway\", \"Project Type\": \"Families\", \"Financing_sub_cat\": \"Deferred Developer Fee\", \"Funding Type\": \"Permanent Financing Sources\", \"Amount of Funds\": 165101.0, \"State\": \"Ohio\"}, {\"Project Name\": \"SlavicVillageGateway\", \"Project Type\": \"Families\", \"Financing_sub_cat\": \"Bank Loan\", \"Funding Type\": \"Permanent Financing Sources\", \"Amount of Funds\": 3525000.0, \"State\": \"Ohio\"}, {\"Project Name\": \"SlavicVillageGateway\", \"Project Type\": \"Families\", \"Financing_sub_cat\": \"Local Grant\", \"Funding Type\": \"Permanent Financing Sources\", \"Amount of Funds\": 600000.0, \"State\": \"Ohio\"}, {\"Project Name\": \"SlavicVillageGateway\", \"Project Type\": \"Families\", \"Financing_sub_cat\": \"Other\", \"Funding Type\": \"Permanent Financing Sources\", \"Amount of Funds\": 450000.0, \"State\": \"Ohio\"}, {\"Project Name\": \"SpringStreetSeniorLofts\", \"Project Type\": \"Seniors\", \"Financing_sub_cat\": \"Tax Credit\", \"Funding Type\": \"Construction Financing Sources\", \"Amount of Funds\": 1126872.0, \"State\": \"Ohio\"}, {\"Project Name\": \"SpringStreetSeniorLofts\", \"Project Type\": \"Seniors\", \"Financing_sub_cat\": \"Deferred Developer Fee\", \"Funding Type\": \"Construction Financing Sources\", \"Amount of Funds\": 119659.0, \"State\": \"Ohio\"}, {\"Project Name\": \"SpringStreetSeniorLofts\", \"Project Type\": \"Seniors\", \"Financing_sub_cat\": \"Bank Loan\", \"Funding Type\": \"Construction Financing Sources\", \"Amount of Funds\": 11250000.0, \"State\": \"Ohio\"}, {\"Project Name\": \"SpringStreetSeniorLofts\", \"Project Type\": \"Seniors\", \"Financing_sub_cat\": \"Other\", \"Funding Type\": \"Construction Financing Sources\", \"Amount of Funds\": 1250000.0, \"State\": \"Ohio\"}, {\"Project Name\": \"SpringStreetSeniorLofts\", \"Project Type\": \"Seniors\", \"Financing_sub_cat\": \"Other\", \"Funding Type\": \"Construction Financing Sources\", \"Amount of Funds\": 150000.0, \"State\": \"Ohio\"}, {\"Project Name\": \"SpringStreetSeniorLofts\", \"Project Type\": \"Seniors\", \"Financing_sub_cat\": \"Other\", \"Funding Type\": \"Construction Financing Sources\", \"Amount of Funds\": 1000.0, \"State\": \"Ohio\"}, {\"Project Name\": \"SpringStreetSeniorLofts\", \"Project Type\": \"Seniors\", \"Financing_sub_cat\": \"Other\", \"Funding Type\": \"Construction Financing Sources\", \"Amount of Funds\": 5000.0, \"State\": \"Ohio\"}, {\"Project Name\": \"SpringStreetSeniorLofts\", \"Project Type\": \"Seniors\", \"Financing_sub_cat\": \"Other\", \"Funding Type\": \"Construction Financing Sources\", \"Amount of Funds\": 821848.0, \"State\": \"Ohio\"}, {\"Project Name\": \"SpringStreetSeniorLofts\", \"Project Type\": \"Seniors\", \"Financing_sub_cat\": \"Tax Credit\", \"Funding Type\": \"Permanent Financing Sources\", \"Amount of Funds\": 11268720.0, \"State\": \"Ohio\"}, {\"Project Name\": \"SpringStreetSeniorLofts\", \"Project Type\": \"Seniors\", \"Financing_sub_cat\": \"Deferred Developer Fee\", \"Funding Type\": \"Permanent Financing Sources\", \"Amount of Funds\": 119659.0, \"State\": \"Ohio\"}, {\"Project Name\": \"SpringStreetSeniorLofts\", \"Project Type\": \"Seniors\", \"Financing_sub_cat\": \"Bank Loan\", \"Funding Type\": \"Permanent Financing Sources\", \"Amount of Funds\": 2000000.0, \"State\": \"Ohio\"}, {\"Project Name\": \"SpringStreetSeniorLofts\", \"Project Type\": \"Seniors\", \"Financing_sub_cat\": \"Bank Loan\", \"Funding Type\": \"Permanent Financing Sources\", \"Amount of Funds\": 300000.0, \"State\": \"Ohio\"}, {\"Project Name\": \"SpringStreetSeniorLofts\", \"Project Type\": \"Seniors\", \"Financing_sub_cat\": \"Other\", \"Funding Type\": \"Permanent Financing Sources\", \"Amount of Funds\": 880000.0, \"State\": \"Ohio\"}, {\"Project Name\": \"SpringStreetSeniorLofts\", \"Project Type\": \"Seniors\", \"Financing_sub_cat\": \"Other\", \"Funding Type\": \"Permanent Financing Sources\", \"Amount of Funds\": 150000.0, \"State\": \"Ohio\"}, {\"Project Name\": \"SpringStreetSeniorLofts\", \"Project Type\": \"Seniors\", \"Financing_sub_cat\": \"Other\", \"Funding Type\": \"Permanent Financing Sources\", \"Amount of Funds\": 1000.0, \"State\": \"Ohio\"}, {\"Project Name\": \"SpringStreetSeniorLofts\", \"Project Type\": \"Seniors\", \"Financing_sub_cat\": \"Other\", \"Funding Type\": \"Permanent Financing Sources\", \"Amount of Funds\": 5000.0, \"State\": \"Ohio\"}]}}, {\"mode\": \"vega-lite\"});\n",
       "</script>"
      ],
      "text/plain": [
       "alt.Chart(...)"
      ]
     },
     "execution_count": 19,
     "metadata": {},
     "output_type": "execute_result"
    }
   ],
   "source": [
    "alt.Chart(ohio_graph).mark_bar().encode(\n",
    "    x='Project Name',\n",
    "    y='Amount of Funds',\n",
    "    color='Financing_sub_cat',\n",
    "    tooltip=['Financing_sub_cat']\n",
    ")"
   ]
  },
  {
   "cell_type": "code",
   "execution_count": 20,
   "metadata": {},
   "outputs": [],
   "source": [
    "#prep cali data for stacked bar chart \n",
    "california_financing[\"Amount of Funds\"].replace(regex=True, inplace=True, to_replace=r'[^0-9.\\-]', value=r'')#stip out nonnumeric charecters\n",
    "california_financing[\"Amount of Funds\"] = pd.to_numeric(california_financing[\"Amount of Funds\"], errors='coerce')\n",
    "cali_graph = california_financing[california_financing[\"Amount of Funds\"] != \"\"]\n",
    "cali_graph[\"Amount of Funds\"] = cali_graph[\"Amount of Funds\"].astype(float)#altair wont render a stacked bar chart unless its a float\n"
   ]
  },
  {
   "cell_type": "code",
   "execution_count": 21,
   "metadata": {},
   "outputs": [
    {
     "data": {
      "text/html": [
       "\n",
       "<div id=\"altair-viz-45094d6ae773496f830be544c79d6b55\"></div>\n",
       "<script type=\"text/javascript\">\n",
       "  (function(spec, embedOpt){\n",
       "    const outputDiv = document.getElementById(\"altair-viz-45094d6ae773496f830be544c79d6b55\");\n",
       "    const paths = {\n",
       "      \"vega\": \"https://cdn.jsdelivr.net/npm//vega@5?noext\",\n",
       "      \"vega-lib\": \"https://cdn.jsdelivr.net/npm//vega-lib?noext\",\n",
       "      \"vega-lite\": \"https://cdn.jsdelivr.net/npm//vega-lite@4.0.2?noext\",\n",
       "      \"vega-embed\": \"https://cdn.jsdelivr.net/npm//vega-embed@6?noext\",\n",
       "    };\n",
       "\n",
       "    function loadScript(lib) {\n",
       "      return new Promise(function(resolve, reject) {\n",
       "        var s = document.createElement('script');\n",
       "        s.src = paths[lib];\n",
       "        s.async = true;\n",
       "        s.onload = () => resolve(paths[lib]);\n",
       "        s.onerror = () => reject(`Error loading script: ${paths[lib]}`);\n",
       "        document.getElementsByTagName(\"head\")[0].appendChild(s);\n",
       "      });\n",
       "    }\n",
       "\n",
       "    function showError(err) {\n",
       "      outputDiv.innerHTML = `<div class=\"error\" style=\"color:red;\">${err}</div>`;\n",
       "      throw err;\n",
       "    }\n",
       "\n",
       "    function displayChart(vegaEmbed) {\n",
       "      vegaEmbed(outputDiv, spec, embedOpt)\n",
       "        .catch(err => showError(`Javascript Error: ${err.message}<br>This usually means there's a typo in your chart specification. See the javascript console for the full traceback.`));\n",
       "    }\n",
       "\n",
       "    if(typeof define === \"function\" && define.amd) {\n",
       "      requirejs.config({paths});\n",
       "      require([\"vega-embed\"], displayChart, err => showError(`Error loading script: ${err.message}`));\n",
       "    } else if (typeof vegaEmbed === \"function\") {\n",
       "      displayChart(vegaEmbed);\n",
       "    } else {\n",
       "      loadScript(\"vega\")\n",
       "        .then(() => loadScript(\"vega-lite\"))\n",
       "        .then(() => loadScript(\"vega-embed\"))\n",
       "        .catch(showError)\n",
       "        .then(() => displayChart(vegaEmbed));\n",
       "    }\n",
       "  })({\"config\": {\"view\": {\"continuousWidth\": 400, \"continuousHeight\": 300}}, \"data\": {\"name\": \"data-7744a003b2ceb21b079075303ca07550\"}, \"mark\": \"bar\", \"encoding\": {\"color\": {\"type\": \"nominal\", \"field\": \"Financing_sub_cat\"}, \"tooltip\": [{\"type\": \"nominal\", \"field\": \"Financing_sub_cat\"}], \"x\": {\"type\": \"nominal\", \"field\": \"Project Name\"}, \"y\": {\"type\": \"quantitative\", \"field\": \"Amount of Funds\"}}, \"$schema\": \"https://vega.github.io/schema/vega-lite/v4.0.2.json\", \"datasets\": {\"data-7744a003b2ceb21b079075303ca07550\": [{\"Project Name\": \"Vista Ballona\", \"Financing_sub_cat\": \"Bank Loan\", \"Interest Rate\": \"4.80%\", \"Funding Type\": \"Construction Financing\", \"Project Type\": \"Large Family\", \"Amount of Funds\": 20301005.0, \"State\": \"California\"}, {\"Project Name\": \"Vista Ballona\", \"Financing_sub_cat\": \"Local Grant\", \"Interest Rate\": \"4.00%\", \"Funding Type\": \"Construction Financing\", \"Project Type\": \"Large Family\", \"Amount of Funds\": 3982669.0, \"State\": \"California\"}, {\"Project Name\": \"Vista Ballona\", \"Financing_sub_cat\": \"Federal Credit\", \"Interest Rate\": null, \"Funding Type\": \"Construction Financing\", \"Project Type\": \"Large Family\", \"Amount of Funds\": 6248750.0, \"State\": \"California\"}, {\"Project Name\": \"Vista Ballona\", \"Financing_sub_cat\": \"Local Grant\", \"Interest Rate\": \"3.00%\", \"Funding Type\": \"Construction Financing\", \"Project Type\": \"Large Family\", \"Amount of Funds\": 2000000.0, \"State\": \"California\"}, {\"Project Name\": \"Vista Ballona\", \"Financing_sub_cat\": \"Deferred Developer Fee\", \"Interest Rate\": null, \"Funding Type\": \"Construction Financing\", \"Project Type\": \"Large Family\", \"Amount of Funds\": 1302412.0, \"State\": \"California\"}, {\"Project Name\": \"Vista Ballona\", \"Financing_sub_cat\": \"Bank Loan\", \"Interest Rate\": \"5.850%\", \"Funding Type\": \"Permanent Financing\", \"Project Type\": \"Large Family\", \"Amount of Funds\": 2440101.0, \"State\": \"California\"}, {\"Project Name\": \"Vista Ballona\", \"Financing_sub_cat\": \"Local Grant\", \"Interest Rate\": \"3.000%\", \"Funding Type\": \"Permanent Financing\", \"Project Type\": \"Large Family\", \"Amount of Funds\": 2000000.0, \"State\": \"California\"}, {\"Project Name\": \"Vista Ballona\", \"Financing_sub_cat\": \"Local Grant\", \"Interest Rate\": \"4.000%\", \"Funding Type\": \"Permanent Financing\", \"Project Type\": \"Large Family\", \"Amount of Funds\": 3982669.0, \"State\": \"California\"}, {\"Project Name\": \"Vista Ballona\", \"Financing_sub_cat\": \"Deferred Developer Fee\", \"Interest Rate\": null, \"Funding Type\": \"Permanent Financing\", \"Project Type\": \"Large Family\", \"Amount of Funds\": 417066.0, \"State\": \"California\"}, {\"Project Name\": \"Mariposa Oaks\", \"Financing_sub_cat\": \"Bank Loan\", \"Interest Rate\": \"6.00%\", \"Funding Type\": \"Construction Financing\", \"Project Type\": \"At-Risk\", \"Amount of Funds\": 3498366.0, \"State\": \"California\"}, {\"Project Name\": \"Mariposa Oaks\", \"Financing_sub_cat\": \"Federal Loan\", \"Interest Rate\": \"1.00%\", \"Funding Type\": \"Construction Financing\", \"Project Type\": \"At-Risk\", \"Amount of Funds\": 1500000.0, \"State\": \"California\"}, {\"Project Name\": \"Mariposa Oaks\", \"Financing_sub_cat\": \"Federal Loan\", \"Interest Rate\": \"1.000%\", \"Funding Type\": \"Permanent Financing\", \"Project Type\": \"At-Risk\", \"Amount of Funds\": 1500000.0, \"State\": \"California\"}, {\"Project Name\": \"Woo-Mehl LIHTC Homes\", \"Financing_sub_cat\": \"Bank Loan\", \"Interest Rate\": null, \"Funding Type\": \"Construction Financing\", \"Project Type\": \"Large Family\", \"Amount of Funds\": 6533003.0, \"State\": \"California\"}, {\"Project Name\": \"Woo-Mehl LIHTC Homes\", \"Financing_sub_cat\": \"Bank Loan\", \"Interest Rate\": null, \"Funding Type\": \"Construction Financing\", \"Project Type\": \"Large Family\", \"Amount of Funds\": 47686.0, \"State\": \"California\"}, {\"Project Name\": \"Woo-Mehl LIHTC Homes\", \"Financing_sub_cat\": \"Bank Loan\", \"Interest Rate\": null, \"Funding Type\": \"Permanent Financing\", \"Project Type\": \"Large Family\", \"Amount of Funds\": 47686.0, \"State\": \"California\"}, {\"Project Name\": \"QHA Homes II\", \"Financing_sub_cat\": \"Bank Loan\", \"Interest Rate\": null, \"Funding Type\": \"Construction Financing\", \"Project Type\": \"Large Family\", \"Amount of Funds\": 8475296.0, \"State\": \"California\"}, {\"Project Name\": \"QHA Homes II\", \"Financing_sub_cat\": \"Bank Loan\", \"Interest Rate\": null, \"Funding Type\": \"Construction Financing\", \"Project Type\": \"Large Family\", \"Amount of Funds\": 145323.0, \"State\": \"California\"}, {\"Project Name\": \"QHA Homes II\", \"Financing_sub_cat\": \"Bank Loan\", \"Interest Rate\": null, \"Funding Type\": \"Construction Financing\", \"Project Type\": \"Large Family\", \"Amount of Funds\": 1776039.0, \"State\": \"California\"}, {\"Project Name\": \"QHA Homes II\", \"Financing_sub_cat\": \"Bank Loan\", \"Interest Rate\": null, \"Funding Type\": \"Permanent Financing\", \"Project Type\": \"Large Family\", \"Amount of Funds\": 145323.0, \"State\": \"California\"}, {\"Project Name\": \"Cameron Villa Apartments\", \"Financing_sub_cat\": \"Bank Loan\", \"Interest Rate\": \"5.00%\", \"Funding Type\": \"Construction Financing\", \"Project Type\": \"At-Risk\", \"Amount of Funds\": 10000000.0, \"State\": \"California\"}, {\"Project Name\": \"Cameron Villa Apartments\", \"Financing_sub_cat\": \"Federal Credit\", \"Interest Rate\": null, \"Funding Type\": \"Construction Financing\", \"Project Type\": \"At-Risk\", \"Amount of Funds\": 7356169.0, \"State\": \"California\"}, {\"Project Name\": \"Cameron Villa Apartments\", \"Financing_sub_cat\": \"Bank Loan\", \"Interest Rate\": \"5.000%\", \"Funding Type\": \"Permanent Financing\", \"Project Type\": \"At-Risk\", \"Amount of Funds\": 10000000.0, \"State\": \"California\"}, {\"Project Name\": \"Cameron Villa Apartments\", \"Financing_sub_cat\": \"Deferred Developer Fee\", \"Interest Rate\": null, \"Funding Type\": \"Permanent Financing\", \"Project Type\": \"At-Risk\", \"Amount of Funds\": 497246.0, \"State\": \"California\"}, {\"Project Name\": \"Truckee Artist Lofts\", \"Financing_sub_cat\": \"Bank Loan\", \"Interest Rate\": \"6.00%\", \"Funding Type\": \"Construction Financing\", \"Project Type\": \"Large Family\", \"Amount of Funds\": 21597123.0, \"State\": \"California\"}, {\"Project Name\": \"Truckee Artist Lofts\", \"Financing_sub_cat\": null, \"Interest Rate\": null, \"Funding Type\": \"Construction Financing\", \"Project Type\": \"Large Family\", \"Amount of Funds\": 1649000.0, \"State\": \"California\"}, {\"Project Name\": \"Truckee Artist Lofts\", \"Financing_sub_cat\": \"Deferred Developer Fee\", \"Interest Rate\": null, \"Funding Type\": \"Construction Financing\", \"Project Type\": \"Large Family\", \"Amount of Funds\": 2183421.0, \"State\": \"California\"}, {\"Project Name\": \"Truckee Artist Lofts\", \"Financing_sub_cat\": \"Bank Loan\", \"Interest Rate\": null, \"Funding Type\": \"Construction Financing\", \"Project Type\": \"Large Family\", \"Amount of Funds\": 6763420.0, \"State\": \"California\"}, {\"Project Name\": \"Truckee Artist Lofts\", \"Financing_sub_cat\": \"Local Grant\", \"Interest Rate\": \"1.00%\", \"Funding Type\": \"Construction Financing\", \"Project Type\": \"Large Family\", \"Amount of Funds\": 1650000.0, \"State\": \"California\"}, {\"Project Name\": \"Truckee Artist Lofts\", \"Financing_sub_cat\": \"Deferred Developer Fee\", \"Interest Rate\": null, \"Funding Type\": \"Construction Financing\", \"Project Type\": \"Large Family\", \"Amount of Funds\": 205849.0, \"State\": \"California\"}, {\"Project Name\": \"Truckee Artist Lofts\", \"Financing_sub_cat\": \"State Funding\", \"Interest Rate\": null, \"Funding Type\": \"Construction Financing\", \"Project Type\": \"Large Family\", \"Amount of Funds\": 1281600.0, \"State\": \"California\"}, {\"Project Name\": \"Truckee Artist Lofts\", \"Financing_sub_cat\": null, \"Interest Rate\": \"1.00%\", \"Funding Type\": \"Construction Financing\", \"Project Type\": \"Large Family\", \"Amount of Funds\": 500000.0, \"State\": \"California\"}, {\"Project Name\": \"Truckee Artist Lofts\", \"Financing_sub_cat\": \"Bank Loan\", \"Interest Rate\": \"5.170%\", \"Funding Type\": \"Permanent Financing\", \"Project Type\": \"Large Family\", \"Amount of Funds\": 5671457.0, \"State\": \"California\"}, {\"Project Name\": \"Truckee Artist Lofts\", \"Financing_sub_cat\": \"Local Grant\", \"Interest Rate\": \"1.000%\", \"Funding Type\": \"Permanent Financing\", \"Project Type\": \"Large Family\", \"Amount of Funds\": 1650000.0, \"State\": \"California\"}, {\"Project Name\": \"Truckee Artist Lofts\", \"Financing_sub_cat\": null, \"Interest Rate\": \"AFR\", \"Funding Type\": \"Permanent Financing\", \"Project Type\": \"Large Family\", \"Amount of Funds\": 1649000.0, \"State\": \"California\"}, {\"Project Name\": \"Truckee Artist Lofts\", \"Financing_sub_cat\": \"Deferred Developer Fee\", \"Interest Rate\": null, \"Funding Type\": \"Permanent Financing\", \"Project Type\": \"Large Family\", \"Amount of Funds\": 883622.0, \"State\": \"California\"}, {\"Project Name\": \"Truckee Artist Lofts\", \"Financing_sub_cat\": \"State Funding\", \"Interest Rate\": null, \"Funding Type\": \"Permanent Financing\", \"Project Type\": \"Large Family\", \"Amount of Funds\": 1281600.0, \"State\": \"California\"}, {\"Project Name\": \"Truckee Artist Lofts\", \"Financing_sub_cat\": null, \"Interest Rate\": \"3.000%\", \"Funding Type\": \"Permanent Financing\", \"Project Type\": \"Large Family\", \"Amount of Funds\": 1650000.0, \"State\": \"California\"}, {\"Project Name\": \"Truckee Artist Lofts\", \"Financing_sub_cat\": null, \"Interest Rate\": \"1.000%\", \"Funding Type\": \"Permanent Financing\", \"Project Type\": \"Large Family\", \"Amount of Funds\": 500000.0, \"State\": \"California\"}, {\"Project Name\": \"Kennett Court Apartments\", \"Financing_sub_cat\": \"Bank Loan\", \"Interest Rate\": \"4.50%\", \"Funding Type\": \"Construction Financing\", \"Project Type\": \"Large Family\", \"Amount of Funds\": 13350867.0, \"State\": \"California\"}, {\"Project Name\": \"Kennett Court Apartments\", \"Financing_sub_cat\": \"Local Grant\", \"Interest Rate\": \"1.00%\", \"Funding Type\": \"Construction Financing\", \"Project Type\": \"Large Family\", \"Amount of Funds\": 700000.0, \"State\": \"California\"}, {\"Project Name\": \"Kennett Court Apartments\", \"Financing_sub_cat\": \"Local Grant\", \"Interest Rate\": \"1.00%\", \"Funding Type\": \"Construction Financing\", \"Project Type\": \"Large Family\", \"Amount of Funds\": 750000.0, \"State\": \"California\"}, {\"Project Name\": \"Kennett Court Apartments\", \"Financing_sub_cat\": \"Deferred Developer Fee\", \"Interest Rate\": null, \"Funding Type\": \"Construction Financing\", \"Project Type\": \"Large Family\", \"Amount of Funds\": 119924.0, \"State\": \"California\"}, {\"Project Name\": \"Kennett Court Apartments\", \"Financing_sub_cat\": \"Federal Credit\", \"Interest Rate\": null, \"Funding Type\": \"Construction Financing\", \"Project Type\": \"Large Family\", \"Amount of Funds\": 2847228.0, \"State\": \"California\"}, {\"Project Name\": \"Kennett Court Apartments\", \"Financing_sub_cat\": \"Deferred Developer Fee\", \"Interest Rate\": null, \"Funding Type\": \"Construction Financing\", \"Project Type\": \"Large Family\", \"Amount of Funds\": 2240700.0, \"State\": \"California\"}, {\"Project Name\": \"Kennett Court Apartments\", \"Financing_sub_cat\": \"Bank Loan\", \"Interest Rate\": \"5.400%\", \"Funding Type\": \"Permanent Financing\", \"Project Type\": \"Large Family\", \"Amount of Funds\": 3554700.0, \"State\": \"California\"}, {\"Project Name\": \"Kennett Court Apartments\", \"Financing_sub_cat\": \"Local Grant\", \"Interest Rate\": \"1.000%\", \"Funding Type\": \"Permanent Financing\", \"Project Type\": \"Large Family\", \"Amount of Funds\": 700000.0, \"State\": \"California\"}, {\"Project Name\": \"Kennett Court Apartments\", \"Financing_sub_cat\": \"Local Grant\", \"Interest Rate\": \"1.000%\", \"Funding Type\": \"Permanent Financing\", \"Project Type\": \"Large Family\", \"Amount of Funds\": 750000.0, \"State\": \"California\"}, {\"Project Name\": \"Kennett Court Apartments\", \"Financing_sub_cat\": \"Deferred Developer Fee\", \"Interest Rate\": null, \"Funding Type\": \"Permanent Financing\", \"Project Type\": \"Large Family\", \"Amount of Funds\": 767879.0, \"State\": \"California\"}, {\"Project Name\": \"Sierra Avenue Family Apartments\", \"Financing_sub_cat\": \"Bank Loan\", \"Interest Rate\": \"5.25%\", \"Funding Type\": \"Construction Financing\", \"Project Type\": \"Large Family\", \"Amount of Funds\": 9400000.0, \"State\": \"California\"}, {\"Project Name\": \"Sierra Avenue Family Apartments\", \"Financing_sub_cat\": \"Local Grant\", \"Interest Rate\": \"3.00%\", \"Funding Type\": \"Construction Financing\", \"Project Type\": \"Large Family\", \"Amount of Funds\": 3475000.0, \"State\": \"California\"}, {\"Project Name\": \"Sierra Avenue Family Apartments\", \"Financing_sub_cat\": \"Local Grant\", \"Interest Rate\": \"3.00%\", \"Funding Type\": \"Construction Financing\", \"Project Type\": \"Large Family\", \"Amount of Funds\": 1625000.0, \"State\": \"California\"}, {\"Project Name\": \"Sierra Avenue Family Apartments\", \"Financing_sub_cat\": \"Local Grant\", \"Interest Rate\": \"3.00%\", \"Funding Type\": \"Construction Financing\", \"Project Type\": \"Large Family\", \"Amount of Funds\": 1000000.0, \"State\": \"California\"}, {\"Project Name\": \"Sierra Avenue Family Apartments\", \"Financing_sub_cat\": \"Federal Credit\", \"Interest Rate\": null, \"Funding Type\": \"Construction Financing\", \"Project Type\": \"Large Family\", \"Amount of Funds\": 5973003.0, \"State\": \"California\"}, {\"Project Name\": \"Sierra Avenue Family Apartments\", \"Financing_sub_cat\": \"Deferred Developer Fee\", \"Interest Rate\": null, \"Funding Type\": \"Construction Financing\", \"Project Type\": \"Large Family\", \"Amount of Funds\": 1023325.0, \"State\": \"California\"}, {\"Project Name\": \"Sierra Avenue Family Apartments\", \"Financing_sub_cat\": \"Bank Loan\", \"Interest Rate\": \"6.00%\", \"Funding Type\": \"Construction Financing\", \"Project Type\": \"Large Family\", \"Amount of Funds\": 500000.0, \"State\": \"California\"}, {\"Project Name\": \"Sierra Avenue Family Apartments\", \"Financing_sub_cat\": \"Bank Loan\", \"Interest Rate\": \"6.150%\", \"Funding Type\": \"Permanent Financing\", \"Project Type\": \"Large Family\", \"Amount of Funds\": 1311879.0, \"State\": \"California\"}, {\"Project Name\": \"Sierra Avenue Family Apartments\", \"Financing_sub_cat\": \"Local Grant\", \"Interest Rate\": \"3.000%\", \"Funding Type\": \"Permanent Financing\", \"Project Type\": \"Large Family\", \"Amount of Funds\": 3475000.0, \"State\": \"California\"}, {\"Project Name\": \"Sierra Avenue Family Apartments\", \"Financing_sub_cat\": \"Local Grant\", \"Interest Rate\": \"3.000%\", \"Funding Type\": \"Permanent Financing\", \"Project Type\": \"Large Family\", \"Amount of Funds\": 1625000.0, \"State\": \"California\"}, {\"Project Name\": \"Sierra Avenue Family Apartments\", \"Financing_sub_cat\": \"Local Grant\", \"Interest Rate\": \"3.000%\", \"Funding Type\": \"Permanent Financing\", \"Project Type\": \"Large Family\", \"Amount of Funds\": 1000000.0, \"State\": \"California\"}, {\"Project Name\": \"Sierra Avenue Family Apartments\", \"Financing_sub_cat\": \"Deferred Developer Fee\", \"Interest Rate\": null, \"Funding Type\": \"Permanent Financing\", \"Project Type\": \"Large Family\", \"Amount of Funds\": 151941.0, \"State\": \"California\"}, {\"Project Name\": \"Sierra Avenue Family Apartments\", \"Financing_sub_cat\": \"Bank Loan\", \"Interest Rate\": \"6.000%\", \"Funding Type\": \"Permanent Financing\", \"Project Type\": \"Large Family\", \"Amount of Funds\": 500000.0, \"State\": \"California\"}, {\"Project Name\": \"Arminta Square Apartments\", \"Financing_sub_cat\": \"Bank Loan\", \"Interest Rate\": \"4.90%\", \"Funding Type\": \"Construction Financing\", \"Project Type\": \"Large Family\", \"Amount of Funds\": 41000000.0, \"State\": \"California\"}, {\"Project Name\": \"Arminta Square Apartments\", \"Financing_sub_cat\": \"Federal Credit\", \"Interest Rate\": null, \"Funding Type\": \"Construction Financing\", \"Project Type\": \"Large Family\", \"Amount of Funds\": 7275000.0, \"State\": \"California\"}, {\"Project Name\": \"Arminta Square Apartments\", \"Financing_sub_cat\": \"State Credit\", \"Interest Rate\": null, \"Funding Type\": \"Construction Financing\", \"Project Type\": \"Large Family\", \"Amount of Funds\": 2925819.0, \"State\": \"California\"}, {\"Project Name\": \"Arminta Square Apartments\", \"Financing_sub_cat\": \"Deferred Developer Fee\", \"Interest Rate\": null, \"Funding Type\": \"Construction Financing\", \"Project Type\": \"Large Family\", \"Amount of Funds\": 2066762.0, \"State\": \"California\"}, {\"Project Name\": \"Arminta Square Apartments\", \"Financing_sub_cat\": \"Bank Loan\", \"Interest Rate\": \"5.750%\", \"Funding Type\": \"Permanent Financing\", \"Project Type\": \"Large Family\", \"Amount of Funds\": 9988694.0, \"State\": \"California\"}, {\"Project Name\": \"Arminta Square Apartments\", \"Financing_sub_cat\": \"Bank Loan\", \"Interest Rate\": \"5.750%\", \"Funding Type\": \"Permanent Financing\", \"Project Type\": \"Large Family\", \"Amount of Funds\": 9231894.0, \"State\": \"California\"}, {\"Project Name\": \"Arminta Square Apartments\", \"Financing_sub_cat\": \"Deferred Developer Fee\", \"Interest Rate\": null, \"Funding Type\": \"Permanent Financing\", \"Project Type\": \"Large Family\", \"Amount of Funds\": 44263.0, \"State\": \"California\"}, {\"Project Name\": \"Long Beach Villas \", \"Financing_sub_cat\": \"Bank Loan\", \"Interest Rate\": \"4.40%\", \"Funding Type\": \"Construction Financing\", \"Project Type\": \"Large Family\", \"Amount of Funds\": 5489950.0, \"State\": \"California\"}, {\"Project Name\": \"Long Beach Villas \", \"Financing_sub_cat\": \"Bank Loan\", \"Interest Rate\": null, \"Funding Type\": \"Construction Financing\", \"Project Type\": \"Large Family\", \"Amount of Funds\": 22694873.0, \"State\": \"California\"}, {\"Project Name\": \"Long Beach Villas \", \"Financing_sub_cat\": null, \"Interest Rate\": null, \"Funding Type\": \"Construction Financing\", \"Project Type\": \"Large Family\", \"Amount of Funds\": 1100000.0, \"State\": \"California\"}, {\"Project Name\": \"Long Beach Villas \", \"Financing_sub_cat\": \"Bank Loan\", \"Interest Rate\": \"4.400%\", \"Funding Type\": \"Permanent Financing\", \"Project Type\": \"Large Family\", \"Amount of Funds\": 5489950.0, \"State\": \"California\"}, {\"Project Name\": \"Long Beach Villas \", \"Financing_sub_cat\": null, \"Interest Rate\": null, \"Funding Type\": \"Permanent Financing\", \"Project Type\": \"Large Family\", \"Amount of Funds\": 1100000.0, \"State\": \"California\"}, {\"Project Name\": \"Kingsburg Seniors Housing \", \"Financing_sub_cat\": \"Bank Loan\", \"Interest Rate\": \"5.25%\", \"Funding Type\": \"Construction Financing\", \"Project Type\": \"Seniors\", \"Amount of Funds\": 12301881.0, \"State\": \"California\"}, {\"Project Name\": \"Kingsburg Seniors Housing \", \"Financing_sub_cat\": \"Local Grant\", \"Interest Rate\": null, \"Funding Type\": \"Construction Financing\", \"Project Type\": \"Seniors\", \"Amount of Funds\": 1001000.0, \"State\": \"California\"}, {\"Project Name\": \"Kingsburg Seniors Housing \", \"Financing_sub_cat\": \"Local Grant\", \"Interest Rate\": \"1.00%\", \"Funding Type\": \"Construction Financing\", \"Project Type\": \"Seniors\", \"Amount of Funds\": 390460.0, \"State\": \"California\"}, {\"Project Name\": \"Kingsburg Seniors Housing \", \"Financing_sub_cat\": \"Federal Credit\", \"Interest Rate\": null, \"Funding Type\": \"Construction Financing\", \"Project Type\": \"Seniors\", \"Amount of Funds\": 1459116.0, \"State\": \"California\"}, {\"Project Name\": \"Kingsburg Seniors Housing \", \"Financing_sub_cat\": null, \"Interest Rate\": \"4.00%\", \"Funding Type\": \"Construction Financing\", \"Project Type\": \"Seniors\", \"Amount of Funds\": 1950000.0, \"State\": \"California\"}, {\"Project Name\": \"Kingsburg Seniors Housing \", \"Financing_sub_cat\": \"Local Grant\", \"Interest Rate\": \"0.00%\", \"Funding Type\": \"Construction Financing\", \"Project Type\": \"Seniors\", \"Amount of Funds\": 1000000.0, \"State\": \"California\"}, {\"Project Name\": \"Kingsburg Seniors Housing \", \"Financing_sub_cat\": \"Deferred Developer Fee\", \"Interest Rate\": null, \"Funding Type\": \"Construction Financing\", \"Project Type\": \"Seniors\", \"Amount of Funds\": 1709159.0, \"State\": \"California\"}, {\"Project Name\": \"Kingsburg Seniors Housing \", \"Financing_sub_cat\": \"Local Grant\", \"Interest Rate\": null, \"Funding Type\": \"Permanent Financing\", \"Project Type\": \"Seniors\", \"Amount of Funds\": 1001000.0, \"State\": \"California\"}, {\"Project Name\": \"Kingsburg Seniors Housing \", \"Financing_sub_cat\": \"Local Grant\", \"Interest Rate\": \"1.000%\", \"Funding Type\": \"Permanent Financing\", \"Project Type\": \"Seniors\", \"Amount of Funds\": 390460.0, \"State\": \"California\"}, {\"Project Name\": \"Kingsburg Seniors Housing \", \"Financing_sub_cat\": \"Bank Loan\", \"Interest Rate\": \"6.000%\", \"Funding Type\": \"Permanent Financing\", \"Project Type\": \"Seniors\", \"Amount of Funds\": 879000.0, \"State\": \"California\"}, {\"Project Name\": \"Kingsburg Seniors Housing \", \"Financing_sub_cat\": null, \"Interest Rate\": \"4.000%\", \"Funding Type\": \"Permanent Financing\", \"Project Type\": \"Seniors\", \"Amount of Funds\": 1950000.0, \"State\": \"California\"}, {\"Project Name\": \"Kingsburg Seniors Housing \", \"Financing_sub_cat\": \"Local Grant\", \"Interest Rate\": \"0.000%\", \"Funding Type\": \"Permanent Financing\", \"Project Type\": \"Seniors\", \"Amount of Funds\": 1000000.0, \"State\": \"California\"}, {\"Project Name\": \"Renaissance at Cincotta\", \"Financing_sub_cat\": \"Bank Loan\", \"Interest Rate\": \"6.25%\", \"Funding Type\": \"Construction Financing\", \"Project Type\": \"Special Needs\", \"Amount of Funds\": 4483977.0, \"State\": \"California\"}, {\"Project Name\": \"Renaissance at Cincotta\", \"Financing_sub_cat\": \"State Grant\", \"Interest Rate\": \"3.00%\", \"Funding Type\": \"Construction Financing\", \"Project Type\": \"Special Needs\", \"Amount of Funds\": 2870000.0, \"State\": \"California\"}, {\"Project Name\": \"Renaissance at Cincotta\", \"Financing_sub_cat\": \"Deferred Developer Fee\", \"Interest Rate\": null, \"Funding Type\": \"Construction Financing\", \"Project Type\": \"Special Needs\", \"Amount of Funds\": 4291520.0, \"State\": \"California\"}, {\"Project Name\": \"Renaissance at Cincotta\", \"Financing_sub_cat\": \"State Grant\", \"Interest Rate\": \"3.000%\", \"Funding Type\": \"Permanent Financing\", \"Project Type\": \"Special Needs\", \"Amount of Funds\": 2870000.0, \"State\": \"California\"}, {\"Project Name\": \"Willow & Alluvial Family Apartments\", \"Financing_sub_cat\": \"Bank Loan\", \"Interest Rate\": \"5.25%\", \"Funding Type\": \"Construction Financing\", \"Project Type\": \"Large Family\", \"Amount of Funds\": 18987731.0, \"State\": \"California\"}, {\"Project Name\": \"Willow & Alluvial Family Apartments\", \"Financing_sub_cat\": null, \"Interest Rate\": \"4.00%\", \"Funding Type\": \"Construction Financing\", \"Project Type\": \"Large Family\", \"Amount of Funds\": 4250000.0, \"State\": \"California\"}, {\"Project Name\": \"Willow & Alluvial Family Apartments\", \"Financing_sub_cat\": \"Deferred Developer Fee\", \"Interest Rate\": null, \"Funding Type\": \"Construction Financing\", \"Project Type\": \"Large Family\", \"Amount of Funds\": 1653922.0, \"State\": \"California\"}, {\"Project Name\": \"Willow & Alluvial Family Apartments\", \"Financing_sub_cat\": \"Bank Loan\", \"Interest Rate\": \"5.850%\", \"Funding Type\": \"Permanent Financing\", \"Project Type\": \"Large Family\", \"Amount of Funds\": 1070000.0, \"State\": \"California\"}, {\"Project Name\": \"Willow & Alluvial Family Apartments\", \"Financing_sub_cat\": null, \"Interest Rate\": \"4.000%\", \"Funding Type\": \"Permanent Financing\", \"Project Type\": \"Large Family\", \"Amount of Funds\": 4250000.0, \"State\": \"California\"}, {\"Project Name\": \"Sutter Village Apartments\", \"Financing_sub_cat\": \"Bank Loan\", \"Interest Rate\": \"5.35%\", \"Funding Type\": \"Construction Financing\", \"Project Type\": \"At-Risk\", \"Amount of Funds\": 10750000.0, \"State\": \"California\"}, {\"Project Name\": \"Sutter Village Apartments\", \"Financing_sub_cat\": \"Bank Loan\", \"Interest Rate\": null, \"Funding Type\": \"Construction Financing\", \"Project Type\": \"At-Risk\", \"Amount of Funds\": 11285815.0, \"State\": \"California\"}, {\"Project Name\": \"Sutter Village Apartments\", \"Financing_sub_cat\": null, \"Interest Rate\": null, \"Funding Type\": \"Construction Financing\", \"Project Type\": \"At-Risk\", \"Amount of Funds\": 349292.0, \"State\": \"California\"}, {\"Project Name\": \"Sutter Village Apartments\", \"Financing_sub_cat\": \"Bank Loan\", \"Interest Rate\": \"5.350%\", \"Funding Type\": \"Permanent Financing\", \"Project Type\": \"At-Risk\", \"Amount of Funds\": 7250000.0, \"State\": \"California\"}, {\"Project Name\": \"Sutter Village Apartments\", \"Financing_sub_cat\": null, \"Interest Rate\": null, \"Funding Type\": \"Permanent Financing\", \"Project Type\": \"At-Risk\", \"Amount of Funds\": 349292.0, \"State\": \"California\"}, {\"Project Name\": \"Veterans Park Apartments\", \"Financing_sub_cat\": \"Bank Loan\", \"Interest Rate\": null, \"Funding Type\": \"Construction Financing\", \"Project Type\": \"Large Family\", \"Amount of Funds\": 23707303.0, \"State\": \"California\"}, {\"Project Name\": \"Veterans Park Apartments\", \"Financing_sub_cat\": \"Deferred Developer Fee\", \"Interest Rate\": null, \"Funding Type\": \"Construction Financing\", \"Project Type\": \"Large Family\", \"Amount of Funds\": 260000.0, \"State\": \"California\"}, {\"Project Name\": \"Veterans Park Apartments\", \"Financing_sub_cat\": null, \"Interest Rate\": \"3.00%\", \"Funding Type\": \"Construction Financing\", \"Project Type\": \"Large Family\", \"Amount of Funds\": 5122000.0, \"State\": \"California\"}, {\"Project Name\": \"Veterans Park Apartments\", \"Financing_sub_cat\": \"Federal Credit\", \"Interest Rate\": null, \"Funding Type\": \"Construction Financing\", \"Project Type\": \"Large Family\", \"Amount of Funds\": 3587709.0, \"State\": \"California\"}, {\"Project Name\": \"Veterans Park Apartments\", \"Financing_sub_cat\": \"Bank Loan\", \"Interest Rate\": \"6.000%\", \"Funding Type\": \"Permanent Financing\", \"Project Type\": \"Large Family\", \"Amount of Funds\": 3198726.0, \"State\": \"California\"}, {\"Project Name\": \"Veterans Park Apartments\", \"Financing_sub_cat\": \"Deferred Developer Fee\", \"Interest Rate\": null, \"Funding Type\": \"Permanent Financing\", \"Project Type\": \"Large Family\", \"Amount of Funds\": 0.0, \"State\": \"California\"}, {\"Project Name\": \"Veterans Park Apartments\", \"Financing_sub_cat\": \"State Funding\", \"Interest Rate\": \"3.000%\", \"Funding Type\": \"Permanent Financing\", \"Project Type\": \"Large Family\", \"Amount of Funds\": 6613415.0, \"State\": \"California\"}, {\"Project Name\": \"Veterans Park Apartments\", \"Financing_sub_cat\": \"Local Grant\", \"Interest Rate\": \"3.000%\", \"Funding Type\": \"Permanent Financing\", \"Project Type\": \"Large Family\", \"Amount of Funds\": 5200000.0, \"State\": \"California\"}, {\"Project Name\": \"Gateway Villas\", \"Financing_sub_cat\": \"Bank Loan\", \"Interest Rate\": \"4.50%\", \"Funding Type\": \"Construction Financing\", \"Project Type\": \"Large Family\", \"Amount of Funds\": 10000000.0, \"State\": \"California\"}, {\"Project Name\": \"Gateway Villas\", \"Financing_sub_cat\": \"Local Grant\", \"Interest Rate\": null, \"Funding Type\": \"Construction Financing\", \"Project Type\": \"Large Family\", \"Amount of Funds\": 1310000.0, \"State\": \"California\"}, {\"Project Name\": \"Gateway Villas\", \"Financing_sub_cat\": \"Local Grant\", \"Interest Rate\": null, \"Funding Type\": \"Construction Financing\", \"Project Type\": \"Large Family\", \"Amount of Funds\": 1500000.0, \"State\": \"California\"}, {\"Project Name\": \"Gateway Villas\", \"Financing_sub_cat\": \"Local Grant\", \"Interest Rate\": \"1.00%\", \"Funding Type\": \"Construction Financing\", \"Project Type\": \"Large Family\", \"Amount of Funds\": 980000.0, \"State\": \"California\"}, {\"Project Name\": \"Gateway Villas\", \"Financing_sub_cat\": \"Local Grant\", \"Interest Rate\": null, \"Funding Type\": \"Construction Financing\", \"Project Type\": \"Large Family\", \"Amount of Funds\": 612848.0, \"State\": \"California\"}, {\"Project Name\": \"Gateway Villas\", \"Financing_sub_cat\": null, \"Interest Rate\": null, \"Funding Type\": \"Construction Financing\", \"Project Type\": \"Large Family\", \"Amount of Funds\": 423844.0, \"State\": \"California\"}, {\"Project Name\": \"Gateway Villas\", \"Financing_sub_cat\": \"Bank Loan\", \"Interest Rate\": \"5.250%\", \"Funding Type\": \"Permanent Financing\", \"Project Type\": \"Large Family\", \"Amount of Funds\": 1800000.0, \"State\": \"California\"}, {\"Project Name\": \"Gateway Villas\", \"Financing_sub_cat\": \"Local Grant\", \"Interest Rate\": null, \"Funding Type\": \"Permanent Financing\", \"Project Type\": \"Large Family\", \"Amount of Funds\": 1310000.0, \"State\": \"California\"}, {\"Project Name\": \"Gateway Villas\", \"Financing_sub_cat\": \"Local Grant\", \"Interest Rate\": \"1.000%\", \"Funding Type\": \"Permanent Financing\", \"Project Type\": \"Large Family\", \"Amount of Funds\": 980000.0, \"State\": \"California\"}, {\"Project Name\": \"Gateway Villas\", \"Financing_sub_cat\": \"Local Grant\", \"Interest Rate\": null, \"Funding Type\": \"Permanent Financing\", \"Project Type\": \"Large Family\", \"Amount of Funds\": 612848.0, \"State\": \"California\"}, {\"Project Name\": \"Fairview Heights Apartments\", \"Financing_sub_cat\": \"Bank Loan\", \"Interest Rate\": \"4.25%\", \"Funding Type\": \"Construction Financing\", \"Project Type\": \"Large Family\", \"Amount of Funds\": 29101004.0, \"State\": \"California\"}, {\"Project Name\": \"Fairview Heights Apartments\", \"Financing_sub_cat\": null, \"Interest Rate\": null, \"Funding Type\": \"Construction Financing\", \"Project Type\": \"Large Family\", \"Amount of Funds\": 5325000.0, \"State\": \"California\"}, {\"Project Name\": \"Fairview Heights Apartments\", \"Financing_sub_cat\": \"Local Grant\", \"Interest Rate\": \"3.00%\", \"Funding Type\": \"Construction Financing\", \"Project Type\": \"Large Family\", \"Amount of Funds\": 9318100.0, \"State\": \"California\"}, {\"Project Name\": \"Fairview Heights Apartments\", \"Financing_sub_cat\": null, \"Interest Rate\": null, \"Funding Type\": \"Construction Financing\", \"Project Type\": \"Large Family\", \"Amount of Funds\": 2000000.0, \"State\": \"California\"}, {\"Project Name\": \"Fairview Heights Apartments\", \"Financing_sub_cat\": \"Deferred Developer Fee\", \"Interest Rate\": null, \"Funding Type\": \"Construction Financing\", \"Project Type\": \"Large Family\", \"Amount of Funds\": 1273459.0, \"State\": \"California\"}, {\"Project Name\": \"Fairview Heights Apartments\", \"Financing_sub_cat\": \"Bank Loan\", \"Interest Rate\": \"6.250%\", \"Funding Type\": \"Permanent Financing\", \"Project Type\": \"Large Family\", \"Amount of Funds\": 10812188.0, \"State\": \"California\"}, {\"Project Name\": \"Fairview Heights Apartments\", \"Financing_sub_cat\": null, \"Interest Rate\": \"3.000%\", \"Funding Type\": \"Permanent Financing\", \"Project Type\": \"Large Family\", \"Amount of Funds\": 5325000.0, \"State\": \"California\"}, {\"Project Name\": \"Fairview Heights Apartments\", \"Financing_sub_cat\": \"Local Grant\", \"Interest Rate\": \"3.000%\", \"Funding Type\": \"Permanent Financing\", \"Project Type\": \"Large Family\", \"Amount of Funds\": 9460000.0, \"State\": \"California\"}, {\"Project Name\": \"Fairview Heights Apartments\", \"Financing_sub_cat\": null, \"Interest Rate\": null, \"Funding Type\": \"Permanent Financing\", \"Project Type\": \"Large Family\", \"Amount of Funds\": 2000000.0, \"State\": \"California\"}, {\"Project Name\": \"Stonegate Village Phase II\", \"Financing_sub_cat\": \"Bank Loan\", \"Interest Rate\": \"5.75%\", \"Funding Type\": \"Construction Financing\", \"Project Type\": \"Large Family\", \"Amount of Funds\": 22325123.0, \"State\": \"California\"}, {\"Project Name\": \"Stonegate Village Phase II\", \"Financing_sub_cat\": \"Local Grant\", \"Interest Rate\": \"5.700%\", \"Funding Type\": \"Permanent Financing\", \"Project Type\": \"Large Family\", \"Amount of Funds\": 2326000.0, \"State\": \"California\"}, {\"Project Name\": \"Stonegate Village Phase II\", \"Financing_sub_cat\": \"Deferred Developer Fee\", \"Interest Rate\": null, \"Funding Type\": \"Permanent Financing\", \"Project Type\": \"Large Family\", \"Amount of Funds\": 375000.0, \"State\": \"California\"}, {\"Project Name\": \"Jordan Downs Area H (Phase II) \", \"Financing_sub_cat\": \"Bank Loan\", \"Interest Rate\": \"5.00%\", \"Funding Type\": \"Construction Financing\", \"Project Type\": \"Large Family\", \"Amount of Funds\": 31306659.0, \"State\": \"California\"}, {\"Project Name\": \"Jordan Downs Area H (Phase II) \", \"Financing_sub_cat\": \"Federal Credit\", \"Interest Rate\": null, \"Funding Type\": \"Construction Financing\", \"Project Type\": \"Large Family\", \"Amount of Funds\": 4108992.0, \"State\": \"California\"}, {\"Project Name\": \"Jordan Downs Area H (Phase II) \", \"Financing_sub_cat\": \"Local Grant\", \"Interest Rate\": \"4.00%\", \"Funding Type\": \"Construction Financing\", \"Project Type\": \"Large Family\", \"Amount of Funds\": 2800000.0, \"State\": \"California\"}, {\"Project Name\": \"Jordan Downs Area H (Phase II) \", \"Financing_sub_cat\": \"Deferred Developer Fee\", \"Interest Rate\": null, \"Funding Type\": \"Construction Financing\", \"Project Type\": \"Large Family\", \"Amount of Funds\": 883955.0, \"State\": \"California\"}, {\"Project Name\": \"Jordan Downs Area H (Phase II) \", \"Financing_sub_cat\": \"Local Grant\", \"Interest Rate\": \"3.00%\", \"Funding Type\": \"Construction Financing\", \"Project Type\": \"Large Family\", \"Amount of Funds\": 1750000.0, \"State\": \"California\"}, {\"Project Name\": \"Jordan Downs Area H (Phase II) \", \"Financing_sub_cat\": \"Deferred Developer Fee\", \"Interest Rate\": null, \"Funding Type\": \"Construction Financing\", \"Project Type\": \"Large Family\", \"Amount of Funds\": 220000.0, \"State\": \"California\"}, {\"Project Name\": \"Jordan Downs Area H (Phase II) \", \"Financing_sub_cat\": \"Bank Loan\", \"Interest Rate\": \"5.740%\", \"Funding Type\": \"Permanent Financing\", \"Project Type\": \"Large Family\", \"Amount of Funds\": 8063000.0, \"State\": \"California\"}, {\"Project Name\": \"Jordan Downs Area H (Phase II) \", \"Financing_sub_cat\": \"Local Grant\", \"Interest Rate\": \"4.000%\", \"Funding Type\": \"Permanent Financing\", \"Project Type\": \"Large Family\", \"Amount of Funds\": 2800000.0, \"State\": \"California\"}, {\"Project Name\": \"Jordan Downs Area H (Phase II) \", \"Financing_sub_cat\": \"Local Grant\", \"Interest Rate\": \"3.000%\", \"Funding Type\": \"Permanent Financing\", \"Project Type\": \"Large Family\", \"Amount of Funds\": 1750000.0, \"State\": \"California\"}, {\"Project Name\": \"Jordan Downs Area H (Phase II) \", \"Financing_sub_cat\": \"Deferred Developer Fee\", \"Interest Rate\": null, \"Funding Type\": \"Permanent Financing\", \"Project Type\": \"Large Family\", \"Amount of Funds\": 220000.0, \"State\": \"California\"}, {\"Project Name\": \"Nupchi Xo'oy (Mulberry Project)\", \"Financing_sub_cat\": \"Bank Loan\", \"Interest Rate\": \"6.00%\", \"Funding Type\": \"Construction Financing\", \"Project Type\": \"Large Family\", \"Amount of Funds\": 12691412.0, \"State\": \"California\"}, {\"Project Name\": \"Nupchi Xo'oy (Mulberry Project)\", \"Financing_sub_cat\": \"Local Grant\", \"Interest Rate\": \"3.00%\", \"Funding Type\": \"Construction Financing\", \"Project Type\": \"Large Family\", \"Amount of Funds\": 600000.0, \"State\": \"California\"}, {\"Project Name\": \"Nupchi Xo'oy (Mulberry Project)\", \"Financing_sub_cat\": \"Local Grant\", \"Interest Rate\": \"3.00%\", \"Funding Type\": \"Construction Financing\", \"Project Type\": \"Large Family\", \"Amount of Funds\": 300000.0, \"State\": \"California\"}, {\"Project Name\": \"Nupchi Xo'oy (Mulberry Project)\", \"Financing_sub_cat\": \"Bank Loan\", \"Interest Rate\": \"6.000%\", \"Funding Type\": \"Permanent Financing\", \"Project Type\": \"Large Family\", \"Amount of Funds\": 1554000.0, \"State\": \"California\"}, {\"Project Name\": \"Nupchi Xo'oy (Mulberry Project)\", \"Financing_sub_cat\": \"Bank Loan\", \"Interest Rate\": \"6.160%\", \"Funding Type\": \"Permanent Financing\", \"Project Type\": \"Large Family\", \"Amount of Funds\": 2701259.0, \"State\": \"California\"}, {\"Project Name\": \"Nupchi Xo'oy (Mulberry Project)\", \"Financing_sub_cat\": \"Local Grant\", \"Interest Rate\": \"3.000%\", \"Funding Type\": \"Permanent Financing\", \"Project Type\": \"Large Family\", \"Amount of Funds\": 300000.0, \"State\": \"California\"}, {\"Project Name\": \"Nupchi Xo'oy (Mulberry Project)\", \"Financing_sub_cat\": \"Local Grant\", \"Interest Rate\": \"3.000%\", \"Funding Type\": \"Permanent Financing\", \"Project Type\": \"Large Family\", \"Amount of Funds\": 600000.0, \"State\": \"California\"}, {\"Project Name\": \"Nupchi Xo'oy (Mulberry Project)\", \"Financing_sub_cat\": \"Deferred Developer Fee\", \"Interest Rate\": null, \"Funding Type\": \"Permanent Financing\", \"Project Type\": \"Large Family\", \"Amount of Funds\": 117624.0, \"State\": \"California\"}, {\"Project Name\": \"Westminster Crossing\", \"Financing_sub_cat\": \"Bank Loan\", \"Interest Rate\": \"4.90%\", \"Funding Type\": \"Construction Financing\", \"Project Type\": \"Large Family\", \"Amount of Funds\": 26500000.0, \"State\": \"California\"}, {\"Project Name\": \"Westminster Crossing\", \"Financing_sub_cat\": \"Local Grant\", \"Interest Rate\": \"3.00%\", \"Funding Type\": \"Construction Financing\", \"Project Type\": \"Large Family\", \"Amount of Funds\": 5500000.0, \"State\": \"California\"}, {\"Project Name\": \"Westminster Crossing\", \"Financing_sub_cat\": \"State Grant\", \"Interest Rate\": \"3.00%\", \"Funding Type\": \"Construction Financing\", \"Project Type\": \"Large Family\", \"Amount of Funds\": 2184000.0, \"State\": \"California\"}, {\"Project Name\": \"Westminster Crossing\", \"Financing_sub_cat\": \"Tax Credit Equity\", \"Interest Rate\": null, \"Funding Type\": \"Construction Financing\", \"Project Type\": \"Large Family\", \"Amount of Funds\": 3395025.0, \"State\": \"California\"}, {\"Project Name\": \"Westminster Crossing\", \"Financing_sub_cat\": \"Deferred Developer Fee\", \"Interest Rate\": null, \"Funding Type\": \"Construction Financing\", \"Project Type\": \"Large Family\", \"Amount of Funds\": 242248.0, \"State\": \"California\"}, {\"Project Name\": \"Westminster Crossing\", \"Financing_sub_cat\": \"Deferred Developer Fee\", \"Interest Rate\": null, \"Funding Type\": \"Construction Financing\", \"Project Type\": \"Large Family\", \"Amount of Funds\": 1047388.0, \"State\": \"California\"}, {\"Project Name\": \"Westminster Crossing\", \"Financing_sub_cat\": \"Local Grant\", \"Interest Rate\": \"5.750%\", \"Funding Type\": \"Permanent Financing\", \"Project Type\": \"Large Family\", \"Amount of Funds\": 5269940.0, \"State\": \"California\"}, {\"Project Name\": \"Westminster Crossing\", \"Financing_sub_cat\": \"Local Grant\", \"Interest Rate\": \"5.750%\", \"Funding Type\": \"Permanent Financing\", \"Project Type\": \"Large Family\", \"Amount of Funds\": 2322946.0, \"State\": \"California\"}, {\"Project Name\": \"Westminster Crossing\", \"Financing_sub_cat\": \"Local Grant\", \"Interest Rate\": \"3.000%\", \"Funding Type\": \"Permanent Financing\", \"Project Type\": \"Large Family\", \"Amount of Funds\": 5500000.0, \"State\": \"California\"}, {\"Project Name\": \"Westminster Crossing\", \"Financing_sub_cat\": \"State Grant\", \"Interest Rate\": \"3.000%\", \"Funding Type\": \"Permanent Financing\", \"Project Type\": \"Large Family\", \"Amount of Funds\": 2184000.0, \"State\": \"California\"}, {\"Project Name\": \"Westminster Crossing\", \"Financing_sub_cat\": \"Local Grant\", \"Interest Rate\": \"3.000%\", \"Funding Type\": \"Permanent Financing\", \"Project Type\": \"Large Family\", \"Amount of Funds\": 850500.0, \"State\": \"California\"}, {\"Project Name\": \"Westminster Crossing\", \"Financing_sub_cat\": \"Deferred Developer Fee\", \"Interest Rate\": null, \"Funding Type\": \"Permanent Financing\", \"Project Type\": \"Large Family\", \"Amount of Funds\": 107775.0, \"State\": \"California\"}, {\"Project Name\": \"Arboleda Apartments\", \"Financing_sub_cat\": \"Bank Loan\", \"Interest Rate\": \"5.25%\", \"Funding Type\": \"Construction Financing\", \"Project Type\": \"Seniors\", \"Amount of Funds\": 14500000.0, \"State\": \"California\"}, {\"Project Name\": \"Arboleda Apartments\", \"Financing_sub_cat\": \"Bank Loan\", \"Interest Rate\": null, \"Funding Type\": \"Construction Financing\", \"Project Type\": \"Seniors\", \"Amount of Funds\": 9882622.0, \"State\": \"California\"}, {\"Project Name\": \"Arboleda Apartments\", \"Financing_sub_cat\": \"Bank Loan\", \"Interest Rate\": null, \"Funding Type\": \"Construction Financing\", \"Project Type\": \"Seniors\", \"Amount of Funds\": 2774069.0, \"State\": \"California\"}, {\"Project Name\": \"Arboleda Apartments\", \"Financing_sub_cat\": \"Deferred Developer Fee\", \"Interest Rate\": null, \"Funding Type\": \"Construction Financing\", \"Project Type\": \"Seniors\", \"Amount of Funds\": 1513902.0, \"State\": \"California\"}, {\"Project Name\": \"Arboleda Apartments\", \"Financing_sub_cat\": \"Bank Loan\", \"Interest Rate\": \"5.800%\", \"Funding Type\": \"Permanent Financing\", \"Project Type\": \"Seniors\", \"Amount of Funds\": 3165470.0, \"State\": \"California\"}, {\"Project Name\": \"Arboleda Apartments\", \"Financing_sub_cat\": \"Deferred Developer Fee\", \"Interest Rate\": null, \"Funding Type\": \"Permanent Financing\", \"Project Type\": \"Seniors\", \"Amount of Funds\": 191741.0, \"State\": \"California\"}, {\"Project Name\": \"LAMP Lodge\", \"Financing_sub_cat\": \"Bank Loan\", \"Interest Rate\": \"6.00%\", \"Funding Type\": \"Construction Financing\", \"Project Type\": \"Special Needs\", \"Amount of Funds\": 7000000.0, \"State\": \"California\"}, {\"Project Name\": \"LAMP Lodge\", \"Financing_sub_cat\": \"Local Grant\", \"Interest Rate\": null, \"Funding Type\": \"Construction Financing\", \"Project Type\": \"Special Needs\", \"Amount of Funds\": 1825379.0, \"State\": \"California\"}, {\"Project Name\": \"LAMP Lodge\", \"Financing_sub_cat\": \"Local Grant\", \"Interest Rate\": \"3.00%\", \"Funding Type\": \"Construction Financing\", \"Project Type\": \"Special Needs\", \"Amount of Funds\": 1970000.0, \"State\": \"California\"}, {\"Project Name\": \"LAMP Lodge\", \"Financing_sub_cat\": \"Local Grant\", \"Interest Rate\": \"3.00%\", \"Funding Type\": \"Construction Financing\", \"Project Type\": \"Special Needs\", \"Amount of Funds\": 2955000.0, \"State\": \"California\"}, {\"Project Name\": \"LAMP Lodge\", \"Financing_sub_cat\": \"Bank Loan\", \"Interest Rate\": null, \"Funding Type\": \"Construction Financing\", \"Project Type\": \"Special Needs\", \"Amount of Funds\": 810000.0, \"State\": \"California\"}, {\"Project Name\": \"LAMP Lodge\", \"Financing_sub_cat\": \"Local Grant\", \"Interest Rate\": \"4.00%\", \"Funding Type\": \"Construction Financing\", \"Project Type\": \"Special Needs\", \"Amount of Funds\": 1470740.0, \"State\": \"California\"}, {\"Project Name\": \"LAMP Lodge\", \"Financing_sub_cat\": \"Local Grant\", \"Interest Rate\": \"4.00%\", \"Funding Type\": \"Construction Financing\", \"Project Type\": \"Special Needs\", \"Amount of Funds\": 2600000.0, \"State\": \"California\"}, {\"Project Name\": \"LAMP Lodge\", \"Financing_sub_cat\": \"Federal Credit\", \"Interest Rate\": null, \"Funding Type\": \"Construction Financing\", \"Project Type\": \"Special Needs\", \"Amount of Funds\": 18535336.0, \"State\": \"California\"}, {\"Project Name\": \"LAMP Lodge\", \"Financing_sub_cat\": \"State Funding\", \"Interest Rate\": \"3.00%\", \"Funding Type\": \"Construction Financing\", \"Project Type\": \"Special Needs\", \"Amount of Funds\": 1834621.0, \"State\": \"California\"}, {\"Project Name\": \"LAMP Lodge\", \"Financing_sub_cat\": \"Deferred Developer Fee\", \"Interest Rate\": null, \"Funding Type\": \"Construction Financing\", \"Project Type\": \"Special Needs\", \"Amount of Funds\": 1560009.0, \"State\": \"California\"}, {\"Project Name\": \"LAMP Lodge\", \"Financing_sub_cat\": \"Deferred Developer Fee\", \"Interest Rate\": null, \"Funding Type\": \"Construction Financing\", \"Project Type\": \"Special Needs\", \"Amount of Funds\": 924318.0, \"State\": \"California\"}, {\"Project Name\": \"LAMP Lodge\", \"Financing_sub_cat\": \"Bank Loan\", \"Interest Rate\": \"6.000%\", \"Funding Type\": \"Permanent Financing\", \"Project Type\": \"Special Needs\", \"Amount of Funds\": 3167765.0, \"State\": \"California\"}, {\"Project Name\": \"LAMP Lodge\", \"Financing_sub_cat\": \"Local Grant\", \"Interest Rate\": null, \"Funding Type\": \"Permanent Financing\", \"Project Type\": \"Special Needs\", \"Amount of Funds\": 1825379.0, \"State\": \"California\"}, {\"Project Name\": \"LAMP Lodge\", \"Financing_sub_cat\": \"Local Grant\", \"Interest Rate\": \"3.000%\", \"Funding Type\": \"Permanent Financing\", \"Project Type\": \"Special Needs\", \"Amount of Funds\": 2000000.0, \"State\": \"California\"}, {\"Project Name\": \"LAMP Lodge\", \"Financing_sub_cat\": \"Local Grant\", \"Interest Rate\": \"3.000%\", \"Funding Type\": \"Permanent Financing\", \"Project Type\": \"Special Needs\", \"Amount of Funds\": 3000000.0, \"State\": \"California\"}, {\"Project Name\": \"LAMP Lodge\", \"Financing_sub_cat\": \"Bank Loan\", \"Interest Rate\": null, \"Funding Type\": \"Permanent Financing\", \"Project Type\": \"Special Needs\", \"Amount of Funds\": 810000.0, \"State\": \"California\"}, {\"Project Name\": \"LAMP Lodge\", \"Financing_sub_cat\": \"Local Grant\", \"Interest Rate\": \"4.000%\", \"Funding Type\": \"Permanent Financing\", \"Project Type\": \"Special Needs\", \"Amount of Funds\": 1470740.0, \"State\": \"California\"}, {\"Project Name\": \"LAMP Lodge\", \"Financing_sub_cat\": \"Local Grant\", \"Interest Rate\": \"4.000%\", \"Funding Type\": \"Permanent Financing\", \"Project Type\": \"Special Needs\", \"Amount of Funds\": 2600000.0, \"State\": \"California\"}, {\"Project Name\": \"LAMP Lodge\", \"Financing_sub_cat\": \"State Funding\", \"Interest Rate\": \"3.000%\", \"Funding Type\": \"Permanent Financing\", \"Project Type\": \"Special Needs\", \"Amount of Funds\": 1834621.0, \"State\": \"California\"}, {\"Project Name\": \"LAMP Lodge\", \"Financing_sub_cat\": \"Deferred Developer Fee\", \"Interest Rate\": null, \"Funding Type\": \"Permanent Financing\", \"Project Type\": \"Special Needs\", \"Amount of Funds\": 63117.0, \"State\": \"California\"}, {\"Project Name\": \"Altamira Family Apartments\", \"Financing_sub_cat\": \"Bank Loan\", \"Interest Rate\": \"5.02%\", \"Funding Type\": \"Construction Financing\", \"Project Type\": \"Large Family\", \"Amount of Funds\": 19411000.0, \"State\": \"California\"}, {\"Project Name\": \"Altamira Family Apartments\", \"Financing_sub_cat\": \"Local Grant\", \"Interest Rate\": \"3.00%\", \"Funding Type\": \"Construction Financing\", \"Project Type\": \"Large Family\", \"Amount of Funds\": 293107.0, \"State\": \"California\"}, {\"Project Name\": \"Altamira Family Apartments\", \"Financing_sub_cat\": \"Local Grant\", \"Interest Rate\": \"3.00%\", \"Funding Type\": \"Construction Financing\", \"Project Type\": \"Large Family\", \"Amount of Funds\": 2000000.0, \"State\": \"California\"}, {\"Project Name\": \"Altamira Family Apartments\", \"Financing_sub_cat\": \"Local Grant\", \"Interest Rate\": \"3.00%\", \"Funding Type\": \"Construction Financing\", \"Project Type\": \"Large Family\", \"Amount of Funds\": 2000000.0, \"State\": \"California\"}, {\"Project Name\": \"Altamira Family Apartments\", \"Financing_sub_cat\": \"Local Grant\", \"Interest Rate\": \"3.00%\", \"Funding Type\": \"Construction Financing\", \"Project Type\": \"Large Family\", \"Amount of Funds\": 1483000.0, \"State\": \"California\"}, {\"Project Name\": \"Altamira Family Apartments\", \"Financing_sub_cat\": \"Federal Home Loan Bank\", \"Interest Rate\": null, \"Funding Type\": \"Construction Financing\", \"Project Type\": \"Large Family\", \"Amount of Funds\": 480000.0, \"State\": \"California\"}, {\"Project Name\": \"Altamira Family Apartments\", \"Financing_sub_cat\": \"Deferred Developer Fee\", \"Interest Rate\": null, \"Funding Type\": \"Construction Financing\", \"Project Type\": \"Large Family\", \"Amount of Funds\": 1292935.0, \"State\": \"California\"}, {\"Project Name\": \"Altamira Family Apartments\", \"Financing_sub_cat\": \"Bank Loan\", \"Interest Rate\": \"5.813%\", \"Funding Type\": \"Permanent Financing\", \"Project Type\": \"Large Family\", \"Amount of Funds\": 421106.0, \"State\": \"California\"}, {\"Project Name\": \"Altamira Family Apartments\", \"Financing_sub_cat\": \"Bank Loan\", \"Interest Rate\": \"5.813%\", \"Funding Type\": \"Permanent Financing\", \"Project Type\": \"Large Family\", \"Amount of Funds\": 2642666.0, \"State\": \"California\"}, {\"Project Name\": \"Altamira Family Apartments\", \"Financing_sub_cat\": \"Local Grant\", \"Interest Rate\": \"3.000%\", \"Funding Type\": \"Permanent Financing\", \"Project Type\": \"Large Family\", \"Amount of Funds\": 293107.0, \"State\": \"California\"}, {\"Project Name\": \"Altamira Family Apartments\", \"Financing_sub_cat\": \"Local Grant\", \"Interest Rate\": \"3.000%\", \"Funding Type\": \"Permanent Financing\", \"Project Type\": \"Large Family\", \"Amount of Funds\": 2000000.0, \"State\": \"California\"}, {\"Project Name\": \"Altamira Family Apartments\", \"Financing_sub_cat\": \"Local Grant\", \"Interest Rate\": \"3.000%\", \"Funding Type\": \"Permanent Financing\", \"Project Type\": \"Large Family\", \"Amount of Funds\": 2000000.0, \"State\": \"California\"}, {\"Project Name\": \"Altamira Family Apartments\", \"Financing_sub_cat\": \"Local Grant\", \"Interest Rate\": \"3.000%\", \"Funding Type\": \"Permanent Financing\", \"Project Type\": \"Large Family\", \"Amount of Funds\": 1483000.0, \"State\": \"California\"}, {\"Project Name\": \"Altamira Family Apartments\", \"Financing_sub_cat\": \"Federal Home Loan Bank\", \"Interest Rate\": null, \"Funding Type\": \"Permanent Financing\", \"Project Type\": \"Large Family\", \"Amount of Funds\": 480000.0, \"State\": \"California\"}, {\"Project Name\": \"Fern Crossing Apartments\", \"Financing_sub_cat\": \"Bank Loan\", \"Interest Rate\": \"4.00%\", \"Funding Type\": \"Construction Financing\", \"Project Type\": \"Large Family\", \"Amount of Funds\": 11869515.0, \"State\": \"California\"}, {\"Project Name\": \"Fern Crossing Apartments\", \"Financing_sub_cat\": \"Bank Loan\", \"Interest Rate\": \"0.00%\", \"Funding Type\": \"Construction Financing\", \"Project Type\": \"Large Family\", \"Amount of Funds\": 2200000.0, \"State\": \"California\"}, {\"Project Name\": \"Fern Crossing Apartments\", \"Financing_sub_cat\": null, \"Interest Rate\": null, \"Funding Type\": \"Construction Financing\", \"Project Type\": \"Large Family\", \"Amount of Funds\": 177591.0, \"State\": \"California\"}, {\"Project Name\": \"Fern Crossing Apartments\", \"Financing_sub_cat\": \"Bank Loan\", \"Interest Rate\": null, \"Funding Type\": \"Construction Financing\", \"Project Type\": \"Large Family\", \"Amount of Funds\": 2724277.0, \"State\": \"California\"}, {\"Project Name\": \"Fern Crossing Apartments\", \"Financing_sub_cat\": \"Bank Loan\", \"Interest Rate\": \"6.000%\", \"Funding Type\": \"Permanent Financing\", \"Project Type\": \"Large Family\", \"Amount of Funds\": 350000.0, \"State\": \"California\"}, {\"Project Name\": \"Fern Crossing Apartments\", \"Financing_sub_cat\": \"Federal Loan\", \"Interest Rate\": \"1.000%\", \"Funding Type\": \"Permanent Financing\", \"Project Type\": \"Large Family\", \"Amount of Funds\": 3000000.0, \"State\": \"California\"}, {\"Project Name\": \"The Gardens at Quail Run\", \"Financing_sub_cat\": \"Bank Loan\", \"Interest Rate\": \"4.00%\", \"Funding Type\": \"Construction Financing\", \"Project Type\": \"Large Family\", \"Amount of Funds\": 15895036.0, \"State\": \"California\"}, {\"Project Name\": \"The Gardens at Quail Run\", \"Financing_sub_cat\": \"Local Grant\", \"Interest Rate\": \"0.00%\", \"Funding Type\": \"Construction Financing\", \"Project Type\": \"Large Family\", \"Amount of Funds\": 5000000.0, \"State\": \"California\"}, {\"Project Name\": \"The Gardens at Quail Run\", \"Financing_sub_cat\": \"Local Grant\", \"Interest Rate\": null, \"Funding Type\": \"Construction Financing\", \"Project Type\": \"Large Family\", \"Amount of Funds\": 1203120.0, \"State\": \"California\"}, {\"Project Name\": \"The Gardens at Quail Run\", \"Financing_sub_cat\": \"Bank Loan\", \"Interest Rate\": \"0.00%\", \"Funding Type\": \"Construction Financing\", \"Project Type\": \"Large Family\", \"Amount of Funds\": 2200000.0, \"State\": \"California\"}, {\"Project Name\": \"The Gardens at Quail Run\", \"Financing_sub_cat\": null, \"Interest Rate\": null, \"Funding Type\": \"Construction Financing\", \"Project Type\": \"Large Family\", \"Amount of Funds\": 310555.0, \"State\": \"California\"}, {\"Project Name\": \"The Gardens at Quail Run\", \"Financing_sub_cat\": \"Bank Loan\", \"Interest Rate\": null, \"Funding Type\": \"Construction Financing\", \"Project Type\": \"Large Family\", \"Amount of Funds\": 3751398.0, \"State\": \"California\"}, {\"Project Name\": \"The Gardens at Quail Run\", \"Financing_sub_cat\": \"Bank Loan\", \"Interest Rate\": \"5.500%\", \"Funding Type\": \"Permanent Financing\", \"Project Type\": \"Large Family\", \"Amount of Funds\": 3400000.0, \"State\": \"California\"}, {\"Project Name\": \"The Gardens at Quail Run\", \"Financing_sub_cat\": \"Local Grant\", \"Interest Rate\": \"4.000%\", \"Funding Type\": \"Permanent Financing\", \"Project Type\": \"Large Family\", \"Amount of Funds\": 5000000.0, \"State\": \"California\"}, {\"Project Name\": \"The Gardens at Quail Run\", \"Financing_sub_cat\": \"Local Grant\", \"Interest Rate\": null, \"Funding Type\": \"Permanent Financing\", \"Project Type\": \"Large Family\", \"Amount of Funds\": 1203120.0, \"State\": \"California\"}, {\"Project Name\": \"Hollister Apartments\", \"Financing_sub_cat\": \"Bank Loan\", \"Interest Rate\": \"5.00%\", \"Funding Type\": \"Construction Financing\", \"Project Type\": \"Special Needs\", \"Amount of Funds\": 11722670.0, \"State\": \"California\"}, {\"Project Name\": \"Hollister Apartments\", \"Financing_sub_cat\": \"Local Grant\", \"Interest Rate\": \"3.00%\", \"Funding Type\": \"Construction Financing\", \"Project Type\": \"Special Needs\", \"Amount of Funds\": 2880000.0, \"State\": \"California\"}, {\"Project Name\": \"Hollister Apartments\", \"Financing_sub_cat\": \"Local Grant\", \"Interest Rate\": \"4.00%\", \"Funding Type\": \"Construction Financing\", \"Project Type\": \"Special Needs\", \"Amount of Funds\": 4617000.0, \"State\": \"California\"}, {\"Project Name\": \"Hollister Apartments\", \"Financing_sub_cat\": \"Federal Credit\", \"Interest Rate\": null, \"Funding Type\": \"Construction Financing\", \"Project Type\": \"Special Needs\", \"Amount of Funds\": 1248327.0, \"State\": \"California\"}, {\"Project Name\": \"Hollister Apartments\", \"Financing_sub_cat\": \"Deferred Developer Fee\", \"Interest Rate\": null, \"Funding Type\": \"Construction Financing\", \"Project Type\": \"Special Needs\", \"Amount of Funds\": 3530278.0, \"State\": \"California\"}, {\"Project Name\": \"Hollister Apartments\", \"Financing_sub_cat\": \"Local Grant\", \"Interest Rate\": \"3.000%\", \"Funding Type\": \"Permanent Financing\", \"Project Type\": \"Special Needs\", \"Amount of Funds\": 2880000.0, \"State\": \"California\"}, {\"Project Name\": \"Hollister Apartments\", \"Financing_sub_cat\": \"Local Grant\", \"Interest Rate\": \"4.000%\", \"Funding Type\": \"Permanent Financing\", \"Project Type\": \"Special Needs\", \"Amount of Funds\": 4860000.0, \"State\": \"California\"}, {\"Project Name\": \"Hollister Apartments\", \"Financing_sub_cat\": \"State Grant\", \"Interest Rate\": \"3.000%\", \"Funding Type\": \"Permanent Financing\", \"Project Type\": \"Special Needs\", \"Amount of Funds\": 3775000.0, \"State\": \"California\"}, {\"Project Name\": \"Avena Bella, Phase 2\", \"Financing_sub_cat\": \"Bank Loan\", \"Interest Rate\": \"5.75%\", \"Funding Type\": \"Construction Financing\", \"Project Type\": \"Large Family\", \"Amount of Funds\": 10063967.0, \"State\": \"California\"}, {\"Project Name\": \"Avena Bella, Phase 2\", \"Financing_sub_cat\": \"Local Grant\", \"Interest Rate\": \"3.00%\", \"Funding Type\": \"Construction Financing\", \"Project Type\": \"Large Family\", \"Amount of Funds\": 4000000.0, \"State\": \"California\"}, {\"Project Name\": \"Avena Bella, Phase 2\", \"Financing_sub_cat\": \"Local Grant\", \"Interest Rate\": \"3.00%\", \"Funding Type\": \"Construction Financing\", \"Project Type\": \"Large Family\", \"Amount of Funds\": 2200000.0, \"State\": \"California\"}, {\"Project Name\": \"Avena Bella, Phase 2\", \"Financing_sub_cat\": \"Bank Loan\", \"Interest Rate\": \"0.00%\", \"Funding Type\": \"Construction Financing\", \"Project Type\": \"Large Family\", \"Amount of Funds\": 600000.0, \"State\": \"California\"}, {\"Project Name\": \"Avena Bella, Phase 2\", \"Financing_sub_cat\": \"Donated Land\", \"Interest Rate\": null, \"Funding Type\": \"Construction Financing\", \"Project Type\": \"Large Family\", \"Amount of Funds\": 885000.0, \"State\": \"California\"}, {\"Project Name\": \"Avena Bella, Phase 2\", \"Financing_sub_cat\": \"Local Grant\", \"Interest Rate\": \"0.00%\", \"Funding Type\": \"Construction Financing\", \"Project Type\": \"Large Family\", \"Amount of Funds\": 300913.0, \"State\": \"California\"}, {\"Project Name\": \"Avena Bella, Phase 2\", \"Financing_sub_cat\": \"Federal Credit\", \"Interest Rate\": null, \"Funding Type\": \"Construction Financing\", \"Project Type\": \"Large Family\", \"Amount of Funds\": 104263.0, \"State\": \"California\"}, {\"Project Name\": \"Avena Bella, Phase 2\", \"Financing_sub_cat\": \"Deferred Developer Fee\", \"Interest Rate\": null, \"Funding Type\": \"Construction Financing\", \"Project Type\": \"Large Family\", \"Amount of Funds\": 807826.0, \"State\": \"California\"}, {\"Project Name\": \"Avena Bella, Phase 2\", \"Financing_sub_cat\": \"Local Grant\", \"Interest Rate\": \"5.650%\", \"Funding Type\": \"Permanent Financing\", \"Project Type\": \"Large Family\", \"Amount of Funds\": 445000.0, \"State\": \"California\"}, {\"Project Name\": \"Avena Bella, Phase 2\", \"Financing_sub_cat\": \"State Funding\", \"Interest Rate\": \"3.000%\", \"Funding Type\": \"Permanent Financing\", \"Project Type\": \"Large Family\", \"Amount of Funds\": 1661667.0, \"State\": \"California\"}, {\"Project Name\": \"Avena Bella, Phase 2\", \"Financing_sub_cat\": \"Local Grant\", \"Interest Rate\": \"3.000%\", \"Funding Type\": \"Permanent Financing\", \"Project Type\": \"Large Family\", \"Amount of Funds\": 4000000.0, \"State\": \"California\"}, {\"Project Name\": \"Avena Bella, Phase 2\", \"Financing_sub_cat\": \"Local Grant\", \"Interest Rate\": \"3.000%\", \"Funding Type\": \"Permanent Financing\", \"Project Type\": \"Large Family\", \"Amount of Funds\": 2200000.0, \"State\": \"California\"}, {\"Project Name\": \"Avena Bella, Phase 2\", \"Financing_sub_cat\": \"Bank Loan\", \"Interest Rate\": \"0.000%\", \"Funding Type\": \"Permanent Financing\", \"Project Type\": \"Large Family\", \"Amount of Funds\": 600000.0, \"State\": \"California\"}, {\"Project Name\": \"Avena Bella, Phase 2\", \"Financing_sub_cat\": \"Donated Land\", \"Interest Rate\": null, \"Funding Type\": \"Permanent Financing\", \"Project Type\": \"Large Family\", \"Amount of Funds\": 885000.0, \"State\": \"California\"}, {\"Project Name\": \"Avena Bella, Phase 2\", \"Financing_sub_cat\": \"Local Grant\", \"Interest Rate\": \"0.000%\", \"Funding Type\": \"Permanent Financing\", \"Project Type\": \"Large Family\", \"Amount of Funds\": 300913.0, \"State\": \"California\"}, {\"Project Name\": \"Avena Bella, Phase 2\", \"Financing_sub_cat\": \"Deferred Developer Fee\", \"Interest Rate\": null, \"Funding Type\": \"Permanent Financing\", \"Project Type\": \"Large Family\", \"Amount of Funds\": 210996.0, \"State\": \"California\"}, {\"Project Name\": \"Avena Bella, Phase 2\", \"Financing_sub_cat\": \"Federal Credit\", \"Interest Rate\": null, \"Funding Type\": \"Permanent Financing\", \"Project Type\": \"Large Family\", \"Amount of Funds\": 104263.0, \"State\": \"California\"}, {\"Project Name\": \"Casa de la Mision\", \"Financing_sub_cat\": \"Bank Loan\", \"Interest Rate\": \"6.00%\", \"Funding Type\": \"Construction Financing\", \"Project Type\": \"Seniors\", \"Amount of Funds\": 20460264.0, \"State\": \"California\"}, {\"Project Name\": \"Casa de la Mision\", \"Financing_sub_cat\": \"Local Grant\", \"Interest Rate\": \"Zero\", \"Funding Type\": \"Construction Financing\", \"Project Type\": \"Seniors\", \"Amount of Funds\": 5000000.0, \"State\": \"California\"}, {\"Project Name\": \"Casa de la Mision\", \"Financing_sub_cat\": \"Bank Loan\", \"Interest Rate\": null, \"Funding Type\": \"Construction Financing\", \"Project Type\": \"Seniors\", \"Amount of Funds\": 2450000.0, \"State\": \"California\"}, {\"Project Name\": \"Casa de la Mision\", \"Financing_sub_cat\": \"Local Grant\", \"Interest Rate\": \"Zero\", \"Funding Type\": \"Permanent Financing\", \"Project Type\": \"Seniors\", \"Amount of Funds\": 5000000.0, \"State\": \"California\"}, {\"Project Name\": \"Villa Raintree\", \"Financing_sub_cat\": \"Bank Loan\", \"Interest Rate\": \"4.35%\", \"Funding Type\": \"Construction Financing\", \"Project Type\": \"At-Risk\", \"Amount of Funds\": 7294738.0, \"State\": \"California\"}, {\"Project Name\": \"Villa Raintree\", \"Financing_sub_cat\": \"Bank Loan\", \"Interest Rate\": \"4.35%\", \"Funding Type\": \"Construction Financing\", \"Project Type\": \"At-Risk\", \"Amount of Funds\": 6268362.0, \"State\": \"California\"}, {\"Project Name\": \"Villa Raintree\", \"Financing_sub_cat\": null, \"Interest Rate\": null, \"Funding Type\": \"Construction Financing\", \"Project Type\": \"At-Risk\", \"Amount of Funds\": 640487.0, \"State\": \"California\"}, {\"Project Name\": \"Villa Raintree\", \"Financing_sub_cat\": \"Federal Credit\", \"Interest Rate\": null, \"Funding Type\": \"Construction Financing\", \"Project Type\": \"At-Risk\", \"Amount of Funds\": 11131359.0, \"State\": \"California\"}, {\"Project Name\": \"Villa Raintree\", \"Financing_sub_cat\": \"Deferred Developer Fee\", \"Interest Rate\": null, \"Funding Type\": \"Construction Financing\", \"Project Type\": \"At-Risk\", \"Amount of Funds\": 2000000.0, \"State\": \"California\"}, {\"Project Name\": \"Villa Raintree\", \"Financing_sub_cat\": \"Bank Loan\", \"Interest Rate\": \"4.350%\", \"Funding Type\": \"Permanent Financing\", \"Project Type\": \"At-Risk\", \"Amount of Funds\": 7294738.0, \"State\": \"California\"}, {\"Project Name\": \"Villa Raintree\", \"Financing_sub_cat\": \"Bank Loan\", \"Interest Rate\": \"4.350%\", \"Funding Type\": \"Permanent Financing\", \"Project Type\": \"At-Risk\", \"Amount of Funds\": 6268362.0, \"State\": \"California\"}, {\"Project Name\": \"Villa Raintree\", \"Financing_sub_cat\": null, \"Interest Rate\": null, \"Funding Type\": \"Permanent Financing\", \"Project Type\": \"At-Risk\", \"Amount of Funds\": 640487.0, \"State\": \"California\"}, {\"Project Name\": \"Villa Raintree\", \"Financing_sub_cat\": \"Deferred Developer Fee\", \"Interest Rate\": null, \"Funding Type\": \"Permanent Financing\", \"Project Type\": \"At-Risk\", \"Amount of Funds\": 279671.0, \"State\": \"California\"}, {\"Project Name\": \"Bloomington Housing Phase III\", \"Financing_sub_cat\": null, \"Interest Rate\": \"quity N/A\", \"Funding Type\": \"Construction Financing\", \"Project Type\": \"Large Family\", \"Amount of Funds\": 2489160.0, \"State\": \"California\"}, {\"Project Name\": \"Bloomington Housing Phase III\", \"Financing_sub_cat\": \"Bank Loan\", \"Interest Rate\": \"5.75%\", \"Funding Type\": \"Construction Financing\", \"Project Type\": \"Large Family\", \"Amount of Funds\": 22638447.0, \"State\": \"California\"}, {\"Project Name\": \"Bloomington Housing Phase III\", \"Financing_sub_cat\": \"Local Grant\", \"Interest Rate\": \"0.00%\", \"Funding Type\": \"Construction Financing\", \"Project Type\": \"Large Family\", \"Amount of Funds\": 8850000.0, \"State\": \"California\"}, {\"Project Name\": \"Bloomington Housing Phase III\", \"Financing_sub_cat\": \"Local Grant\", \"Interest Rate\": null, \"Funding Type\": \"Construction Financing\", \"Project Type\": \"Large Family\", \"Amount of Funds\": 8700000.0, \"State\": \"California\"}, {\"Project Name\": \"Bloomington Housing Phase III\", \"Financing_sub_cat\": \"State Grant\", \"Interest Rate\": \"0.00%\", \"Funding Type\": \"Construction Financing\", \"Project Type\": \"Large Family\", \"Amount of Funds\": 1574810.0, \"State\": \"California\"}, {\"Project Name\": \"Bloomington Housing Phase III\", \"Financing_sub_cat\": \"Local Grant\", \"Interest Rate\": \"-ResidentNia/lA)\", \"Funding Type\": \"Construction Financing\", \"Project Type\": \"Large Family\", \"Amount of Funds\": 2100000.0, \"State\": \"California\"}, {\"Project Name\": \"Bloomington Housing Phase III\", \"Financing_sub_cat\": null, \"Interest Rate\": null, \"Funding Type\": \"Construction Financing\", \"Project Type\": \"Large Family\", \"Amount of Funds\": 1050000.0, \"State\": \"California\"}, {\"Project Name\": \"Bloomington Housing Phase III\", \"Financing_sub_cat\": null, \"Interest Rate\": \"t ReserveN/A\", \"Funding Type\": \"Construction Financing\", \"Project Type\": \"Large Family\", \"Amount of Funds\": 207997.0, \"State\": \"California\"}, {\"Project Name\": \"Bloomington Housing Phase III\", \"Financing_sub_cat\": null, \"Interest Rate\": \"g Fee N/A\", \"Funding Type\": \"Construction Financing\", \"Project Type\": \"Large Family\", \"Amount of Funds\": 40000.0, \"State\": \"California\"}, {\"Project Name\": \"Bloomington Housing Phase III\", \"Financing_sub_cat\": null, \"Interest Rate\": \"it ReserveN /A\", \"Funding Type\": \"Construction Financing\", \"Project Type\": \"Large Family\", \"Amount of Funds\": 100000.0, \"State\": \"California\"}, {\"Project Name\": \"Bloomington Housing Phase III\", \"Financing_sub_cat\": null, \"Interest Rate\": \"plementaNl /RAeplaceme\", \"Funding Type\": \"Construction Financing\", \"Project Type\": \"Large Family\", \"Amount of Funds\": 250000.0, \"State\": \"California\"}, {\"Project Name\": \"Bloomington Housing Phase III\", \"Financing_sub_cat\": \"Bank Loan\", \"Interest Rate\": \"6.500%\", \"Funding Type\": \"Permanent Financing\", \"Project Type\": \"Large Family\", \"Amount of Funds\": 1107000.0, \"State\": \"California\"}, {\"Project Name\": \"Bloomington Housing Phase III\", \"Financing_sub_cat\": \"Bank Loan\", \"Interest Rate\": \"n6.500%\", \"Funding Type\": \"Permanent Financing\", \"Project Type\": \"Large Family\", \"Amount of Funds\": 386000.0, \"State\": \"California\"}, {\"Project Name\": \"Bloomington Housing Phase III\", \"Financing_sub_cat\": \"Bank Loan\", \"Interest Rate\": \"n6.500%\", \"Funding Type\": \"Permanent Financing\", \"Project Type\": \"Large Family\", \"Amount of Funds\": 391000.0, \"State\": \"California\"}, {\"Project Name\": \"Bloomington Housing Phase III\", \"Financing_sub_cat\": \"Local Grant\", \"Interest Rate\": \"n0.000%\", \"Funding Type\": \"Permanent Financing\", \"Project Type\": \"Large Family\", \"Amount of Funds\": 8850000.0, \"State\": \"California\"}, {\"Project Name\": \"Bloomington Housing Phase III\", \"Financing_sub_cat\": \"Local Grant\", \"Interest Rate\": null, \"Funding Type\": \"Permanent Financing\", \"Project Type\": \"Large Family\", \"Amount of Funds\": 8700000.0, \"State\": \"California\"}, {\"Project Name\": \"Bloomington Housing Phase III\", \"Financing_sub_cat\": \"State Grant\", \"Interest Rate\": \"0.000%\", \"Funding Type\": \"Permanent Financing\", \"Project Type\": \"Large Family\", \"Amount of Funds\": 1574810.0, \"State\": \"California\"}, {\"Project Name\": \"Bloomington Housing Phase III\", \"Financing_sub_cat\": \"Local Grant\", \"Interest Rate\": \"er Fundin\", \"Funding Type\": \"Permanent Financing\", \"Project Type\": \"Large Family\", \"Amount of Funds\": 2100000.0, \"State\": \"California\"}, {\"Project Name\": \"Magnolia Villas\", \"Financing_sub_cat\": \"Bank Loan\", \"Interest Rate\": \"5.98%\", \"Funding Type\": \"Construction Financing\", \"Project Type\": \"Seniors\", \"Amount of Funds\": 10243182.0, \"State\": \"California\"}, {\"Project Name\": \"Magnolia Villas\", \"Financing_sub_cat\": \"Local Grant\", \"Interest Rate\": \"3.00%\", \"Funding Type\": \"Construction Financing\", \"Project Type\": \"Seniors\", \"Amount of Funds\": 11400000.0, \"State\": \"California\"}, {\"Project Name\": \"Magnolia Villas\", \"Financing_sub_cat\": \"Deferred Developer Fee\", \"Interest Rate\": null, \"Funding Type\": \"Construction Financing\", \"Project Type\": \"Seniors\", \"Amount of Funds\": 385953.0, \"State\": \"California\"}, {\"Project Name\": \"Magnolia Villas\", \"Financing_sub_cat\": \"Local Grant\", \"Interest Rate\": \"3.000%\", \"Funding Type\": \"Permanent Financing\", \"Project Type\": \"Seniors\", \"Amount of Funds\": 11400000.0, \"State\": \"California\"}, {\"Project Name\": \"City Center Apartments  \", \"Financing_sub_cat\": \"Bank Loan\", \"Interest Rate\": \"5.85%\", \"Funding Type\": \"Construction Financing\", \"Project Type\": \"Special Needs\", \"Amount of Funds\": 21423705.0, \"State\": \"California\"}, {\"Project Name\": \"City Center Apartments  \", \"Financing_sub_cat\": \"Local Grant\", \"Interest Rate\": \"3.00%\", \"Funding Type\": \"Construction Financing\", \"Project Type\": \"Special Needs\", \"Amount of Funds\": 6757321.0, \"State\": \"California\"}, {\"Project Name\": \"City Center Apartments  \", \"Financing_sub_cat\": \"Local Grant\", \"Interest Rate\": \"3.00%\", \"Funding Type\": \"Construction Financing\", \"Project Type\": \"Special Needs\", \"Amount of Funds\": 4818364.0, \"State\": \"California\"}, {\"Project Name\": \"City Center Apartments  \", \"Financing_sub_cat\": \"Local Grant\", \"Interest Rate\": \"3.00%\", \"Funding Type\": \"Construction Financing\", \"Project Type\": \"Special Needs\", \"Amount of Funds\": 2350000.0, \"State\": \"California\"}, {\"Project Name\": \"City Center Apartments  \", \"Financing_sub_cat\": \"Local Grant\", \"Interest Rate\": \"3.00%\", \"Funding Type\": \"Construction Financing\", \"Project Type\": \"Special Needs\", \"Amount of Funds\": 376636.0, \"State\": \"California\"}, {\"Project Name\": \"City Center Apartments  \", \"Financing_sub_cat\": \"Local Grant\", \"Interest Rate\": \"3.000%\", \"Funding Type\": \"Permanent Financing\", \"Project Type\": \"Special Needs\", \"Amount of Funds\": 6757321.0, \"State\": \"California\"}, {\"Project Name\": \"City Center Apartments  \", \"Financing_sub_cat\": \"Local Grant\", \"Interest Rate\": \"3.000%\", \"Funding Type\": \"Permanent Financing\", \"Project Type\": \"Special Needs\", \"Amount of Funds\": 4818364.0, \"State\": \"California\"}, {\"Project Name\": \"City Center Apartments  \", \"Financing_sub_cat\": \"Local Grant\", \"Interest Rate\": \"3.000%\", \"Funding Type\": \"Permanent Financing\", \"Project Type\": \"Special Needs\", \"Amount of Funds\": 2350000.0, \"State\": \"California\"}, {\"Project Name\": \"City Center Apartments  \", \"Financing_sub_cat\": \"Local Grant\", \"Interest Rate\": \"n)3.000%\", \"Funding Type\": \"Permanent Financing\", \"Project Type\": \"Special Needs\", \"Amount of Funds\": 376636.0, \"State\": \"California\"}, {\"Project Name\": \"City Center Apartments  \", \"Financing_sub_cat\": null, \"Interest Rate\": \"3.000%\", \"Funding Type\": \"Permanent Financing\", \"Project Type\": \"Special Needs\", \"Amount of Funds\": 3823522.0, \"State\": \"California\"}, {\"Project Name\": \"City Center Apartments  \", \"Financing_sub_cat\": \"State Funding\", \"Interest Rate\": \"3.000%\", \"Funding Type\": \"Permanent Financing\", \"Project Type\": \"Special Needs\", \"Amount of Funds\": 2296701.0, \"State\": \"California\"}, {\"Project Name\": \"Orr Creek Commons \", \"Financing_sub_cat\": \"Bank Loan\", \"Interest Rate\": \"5.75%\", \"Funding Type\": \"Construction Financing\", \"Project Type\": \"Special Needs\", \"Amount of Funds\": 9072300.0, \"State\": \"California\"}, {\"Project Name\": \"Orr Creek Commons \", \"Financing_sub_cat\": \"Local Grant\", \"Interest Rate\": \"3.00%\", \"Funding Type\": \"Construction Financing\", \"Project Type\": \"Special Needs\", \"Amount of Funds\": 3676821.0, \"State\": \"California\"}, {\"Project Name\": \"Orr Creek Commons \", \"Financing_sub_cat\": \"Local Grant\", \"Interest Rate\": \"3.00%\", \"Funding Type\": \"Construction Financing\", \"Project Type\": \"Special Needs\", \"Amount of Funds\": 579900.0, \"State\": \"California\"}, {\"Project Name\": \"Orr Creek Commons \", \"Financing_sub_cat\": \"Bank Loan\", \"Interest Rate\": \"5.750%\", \"Funding Type\": \"Permanent Financing\", \"Project Type\": \"Special Needs\", \"Amount of Funds\": 1062900.0, \"State\": \"California\"}, {\"Project Name\": \"Orr Creek Commons \", \"Financing_sub_cat\": \"Local Grant\", \"Interest Rate\": \"3.000%\", \"Funding Type\": \"Permanent Financing\", \"Project Type\": \"Special Needs\", \"Amount of Funds\": 3676821.0, \"State\": \"California\"}, {\"Project Name\": \"Orr Creek Commons \", \"Financing_sub_cat\": \"Local Grant\", \"Interest Rate\": \"s3.000%\", \"Funding Type\": \"Permanent Financing\", \"Project Type\": \"Special Needs\", \"Amount of Funds\": 579900.0, \"State\": \"California\"}, {\"Project Name\": \"Pacific Landing\", \"Financing_sub_cat\": \"Local Grant\", \"Interest Rate\": \"3.00%\", \"Funding Type\": \"Construction Financing\", \"Project Type\": \"Large Family\", \"Amount of Funds\": 9547656.0, \"State\": \"California\"}, {\"Project Name\": \"Pacific Landing\", \"Financing_sub_cat\": \"Bank Loan\", \"Interest Rate\": \"4.48%\", \"Funding Type\": \"Construction Financing\", \"Project Type\": \"Large Family\", \"Amount of Funds\": 17377396.0, \"State\": \"California\"}, {\"Project Name\": \"Pacific Landing\", \"Financing_sub_cat\": \"Tax Credit Equity\", \"Interest Rate\": null, \"Funding Type\": \"Construction Financing\", \"Project Type\": \"Large Family\", \"Amount of Funds\": 890366.0, \"State\": \"California\"}, {\"Project Name\": \"Pacific Landing\", \"Financing_sub_cat\": \"Deferred Developer Fee\", \"Interest Rate\": null, \"Funding Type\": \"Construction Financing\", \"Project Type\": \"Large Family\", \"Amount of Funds\": 429264.0, \"State\": \"California\"}, {\"Project Name\": \"Pacific Landing\", \"Financing_sub_cat\": \"Local Grant\", \"Interest Rate\": \"3.000%\", \"Funding Type\": \"Permanent Financing\", \"Project Type\": \"Large Family\", \"Amount of Funds\": 9547656.0, \"State\": \"California\"}, {\"Project Name\": \"Pacific Landing\", \"Financing_sub_cat\": \"Bank Loan\", \"Interest Rate\": \"6.000%\", \"Funding Type\": \"Permanent Financing\", \"Project Type\": \"Large Family\", \"Amount of Funds\": 889713.0, \"State\": \"California\"}, {\"Project Name\": \"Pacific Landing\", \"Financing_sub_cat\": \"Tax Credit Equity\", \"Interest Rate\": null, \"Funding Type\": \"Permanent Financing\", \"Project Type\": \"Large Family\", \"Amount of Funds\": null, \"State\": \"California\"}, {\"Project Name\": \"Walnut Grove Villa\", \"Financing_sub_cat\": \"Bank Loan\", \"Interest Rate\": \"5.50%\", \"Funding Type\": \"Construction Financing\", \"Project Type\": \"At-Risk\", \"Amount of Funds\": 3566295.0, \"State\": \"California\"}, {\"Project Name\": \"Walnut Grove Villa\", \"Financing_sub_cat\": \"Federal Loan\", \"Interest Rate\": \"1.00%\", \"Funding Type\": \"Construction Financing\", \"Project Type\": \"At-Risk\", \"Amount of Funds\": 1199271.0, \"State\": \"California\"}, {\"Project Name\": \"Walnut Grove Villa\", \"Financing_sub_cat\": \"Federal Loan\", \"Interest Rate\": \"1.00%\", \"Funding Type\": \"Construction Financing\", \"Project Type\": \"At-Risk\", \"Amount of Funds\": 815889.0, \"State\": \"California\"}, {\"Project Name\": \"Walnut Grove Villa\", \"Financing_sub_cat\": \"Bank Loan\", \"Interest Rate\": null, \"Funding Type\": \"Construction Financing\", \"Project Type\": \"At-Risk\", \"Amount of Funds\": 1684313.0, \"State\": \"California\"}, {\"Project Name\": \"Walnut Grove Villa\", \"Financing_sub_cat\": \"Deferred Developer Fee\", \"Interest Rate\": null, \"Funding Type\": \"Construction Financing\", \"Project Type\": \"At-Risk\", \"Amount of Funds\": 78545.0, \"State\": \"California\"}, {\"Project Name\": \"Walnut Grove Villa\", \"Financing_sub_cat\": \"Deferred Developer Fee\", \"Interest Rate\": null, \"Funding Type\": \"Construction Financing\", \"Project Type\": \"At-Risk\", \"Amount of Funds\": 749926.0, \"State\": \"California\"}, {\"Project Name\": \"Walnut Grove Villa\", \"Financing_sub_cat\": \"Federal Loan\", \"Interest Rate\": \"1.000%\", \"Funding Type\": \"Permanent Financing\", \"Project Type\": \"At-Risk\", \"Amount of Funds\": 1199271.0, \"State\": \"California\"}, {\"Project Name\": \"Walnut Grove Villa\", \"Financing_sub_cat\": \"Federal Loan\", \"Interest Rate\": \"1.000%\", \"Funding Type\": \"Permanent Financing\", \"Project Type\": \"At-Risk\", \"Amount of Funds\": 815889.0, \"State\": \"California\"}, {\"Project Name\": \"Walnut Grove Villa\", \"Financing_sub_cat\": \"Deferred Developer Fee\", \"Interest Rate\": null, \"Funding Type\": \"Permanent Financing\", \"Project Type\": \"At-Risk\", \"Amount of Funds\": 48815.0, \"State\": \"California\"}, {\"Project Name\": \"Mountain View Manor\", \"Financing_sub_cat\": \"Bank Loan\", \"Interest Rate\": \"5.50%\", \"Funding Type\": \"Construction Financing\", \"Project Type\": \"Seniors\", \"Amount of Funds\": 3552053.0, \"State\": \"California\"}, {\"Project Name\": \"Mountain View Manor\", \"Financing_sub_cat\": \"Bank Loan\", \"Interest Rate\": null, \"Funding Type\": \"Construction Financing\", \"Project Type\": \"Seniors\", \"Amount of Funds\": 1151766.0, \"State\": \"California\"}, {\"Project Name\": \"Mountain View Manor\", \"Financing_sub_cat\": \"Federal Loan\", \"Interest Rate\": \"1.00%\", \"Funding Type\": \"Construction Financing\", \"Project Type\": \"Seniors\", \"Amount of Funds\": 1531917.0, \"State\": \"California\"}, {\"Project Name\": \"Mountain View Manor\", \"Financing_sub_cat\": null, \"Interest Rate\": null, \"Funding Type\": \"Construction Financing\", \"Project Type\": \"Seniors\", \"Amount of Funds\": 220000.0, \"State\": \"California\"}, {\"Project Name\": \"Mountain View Manor\", \"Financing_sub_cat\": \"Deferred Developer Fee\", \"Interest Rate\": null, \"Funding Type\": \"Construction Financing\", \"Project Type\": \"Seniors\", \"Amount of Funds\": 316500.0, \"State\": \"California\"}, {\"Project Name\": \"Mountain View Manor\", \"Financing_sub_cat\": \"Bank Loan\", \"Interest Rate\": \"5.75%\", \"Funding Type\": \"Construction Financing\", \"Project Type\": \"Seniors\", \"Amount of Funds\": 548417.0, \"State\": \"California\"}, {\"Project Name\": \"Mountain View Manor\", \"Financing_sub_cat\": \"Deferred Developer Fee\", \"Interest Rate\": null, \"Funding Type\": \"Construction Financing\", \"Project Type\": \"Seniors\", \"Amount of Funds\": 738515.0, \"State\": \"California\"}, {\"Project Name\": \"Mountain View Manor\", \"Financing_sub_cat\": \"Bank Loan\", \"Interest Rate\": \"5.750%\", \"Funding Type\": \"Permanent Financing\", \"Project Type\": \"Seniors\", \"Amount of Funds\": 548417.0, \"State\": \"California\"}, {\"Project Name\": \"Mountain View Manor\", \"Financing_sub_cat\": \"Federal Loan\", \"Interest Rate\": \"1.000%\", \"Funding Type\": \"Permanent Financing\", \"Project Type\": \"Seniors\", \"Amount of Funds\": 1531917.0, \"State\": \"California\"}, {\"Project Name\": \"Mountain View Manor\", \"Financing_sub_cat\": null, \"Interest Rate\": null, \"Funding Type\": \"Permanent Financing\", \"Project Type\": \"Seniors\", \"Amount of Funds\": 220000.0, \"State\": \"California\"}, {\"Project Name\": \"Liberty Square \", \"Financing_sub_cat\": \"Bank Loan\", \"Interest Rate\": \"4.51%\", \"Funding Type\": \"Construction Financing\", \"Project Type\": \"Large Family\", \"Amount of Funds\": 9856000.0, \"State\": \"California\"}, {\"Project Name\": \"Liberty Square \", \"Financing_sub_cat\": \"Deferred Developer Fee\", \"Interest Rate\": null, \"Funding Type\": \"Construction Financing\", \"Project Type\": \"Large Family\", \"Amount of Funds\": 1817713.0, \"State\": \"California\"}, {\"Project Name\": \"Liberty Square \", \"Financing_sub_cat\": \"Federal Credit\", \"Interest Rate\": null, \"Funding Type\": \"Construction Financing\", \"Project Type\": \"Large Family\", \"Amount of Funds\": 1026707.0, \"State\": \"California\"}, {\"Project Name\": \"Liberty Square \", \"Financing_sub_cat\": \"Deferred Developer Fee\", \"Interest Rate\": null, \"Funding Type\": \"Construction Financing\", \"Project Type\": \"Large Family\", \"Amount of Funds\": 753015.0, \"State\": \"California\"}, {\"Project Name\": \"Liberty Square \", \"Financing_sub_cat\": \"Bank Loan\", \"Interest Rate\": \"5.500%\", \"Funding Type\": \"Permanent Financing\", \"Project Type\": \"Large Family\", \"Amount of Funds\": 417000.0, \"State\": \"California\"}, {\"Project Name\": \"Liberty Square \", \"Financing_sub_cat\": \"Deferred Developer Fee\", \"Interest Rate\": null, \"Funding Type\": \"Permanent Financing\", \"Project Type\": \"Large Family\", \"Amount of Funds\": 753015.0, \"State\": \"California\"}, {\"Project Name\": \"Washington View Apartments\", \"Financing_sub_cat\": \"Bank Loan\", \"Interest Rate\": \"4.50%\", \"Funding Type\": \"Construction Financing\", \"Project Type\": \"Special Needs\", \"Amount of Funds\": 29238522.0, \"State\": \"California\"}, {\"Project Name\": \"Washington View Apartments\", \"Financing_sub_cat\": \"Local Grant\", \"Interest Rate\": \"3.00%\", \"Funding Type\": \"Construction Financing\", \"Project Type\": \"Special Needs\", \"Amount of Funds\": 12000000.0, \"State\": \"California\"}, {\"Project Name\": \"Washington View Apartments\", \"Financing_sub_cat\": \"Deferred Developer Fee\", \"Interest Rate\": null, \"Funding Type\": \"Construction Financing\", \"Project Type\": \"Special Needs\", \"Amount of Funds\": 819204.0, \"State\": \"California\"}, {\"Project Name\": \"Washington View Apartments\", \"Financing_sub_cat\": \"Tax Credit Equity\", \"Interest Rate\": null, \"Funding Type\": \"Construction Financing\", \"Project Type\": \"Special Needs\", \"Amount of Funds\": 4731168.0, \"State\": \"California\"}, {\"Project Name\": \"Washington View Apartments\", \"Financing_sub_cat\": \"Deferred Developer Fee\", \"Interest Rate\": null, \"Funding Type\": \"Construction Financing\", \"Project Type\": \"Special Needs\", \"Amount of Funds\": 2047178.0, \"State\": \"California\"}, {\"Project Name\": \"Washington View Apartments\", \"Financing_sub_cat\": \"Bank Loan\", \"Interest Rate\": \"5.800%\", \"Funding Type\": \"Permanent Financing\", \"Project Type\": \"Special Needs\", \"Amount of Funds\": 12937956.0, \"State\": \"California\"}, {\"Project Name\": \"Washington View Apartments\", \"Financing_sub_cat\": \"Local Grant\", \"Interest Rate\": \"3.000%\", \"Funding Type\": \"Permanent Financing\", \"Project Type\": \"Special Needs\", \"Amount of Funds\": 12000000.0, \"State\": \"California\"}, {\"Project Name\": \"Washington View Apartments\", \"Financing_sub_cat\": \"Deferred Developer Fee\", \"Interest Rate\": null, \"Funding Type\": \"Permanent Financing\", \"Project Type\": \"Special Needs\", \"Amount of Funds\": 242275.0, \"State\": \"California\"}, {\"Project Name\": \"Jordan Downs Phase S3\", \"Financing_sub_cat\": \"Bank Loan\", \"Interest Rate\": \"5.05%\", \"Funding Type\": \"Construction Financing\", \"Project Type\": \"Large Family\", \"Amount of Funds\": 37293077.0, \"State\": \"California\"}, {\"Project Name\": \"Jordan Downs Phase S3\", \"Financing_sub_cat\": \"Federal Credit\", \"Interest Rate\": null, \"Funding Type\": \"Construction Financing\", \"Project Type\": \"Large Family\", \"Amount of Funds\": 15056923.0, \"State\": \"California\"}, {\"Project Name\": \"Jordan Downs Phase S3\", \"Financing_sub_cat\": \"Local Grant\", \"Interest Rate\": \"4.00%\", \"Funding Type\": \"Construction Financing\", \"Project Type\": \"Large Family\", \"Amount of Funds\": 3400000.0, \"State\": \"California\"}, {\"Project Name\": \"Jordan Downs Phase S3\", \"Financing_sub_cat\": null, \"Interest Rate\": \"4.950%\", \"Funding Type\": \"Permanent Financing\", \"Project Type\": \"Large Family\", \"Amount of Funds\": 9100000.0, \"State\": \"California\"}, {\"Project Name\": \"Jordan Downs Phase S3\", \"Financing_sub_cat\": null, \"Interest Rate\": \"3.000%\", \"Funding Type\": \"Permanent Financing\", \"Project Type\": \"Large Family\", \"Amount of Funds\": 7500000.0, \"State\": \"California\"}, {\"Project Name\": \"Jordan Downs Phase S3\", \"Financing_sub_cat\": \"Local Grant\", \"Interest Rate\": \"4.000%\", \"Funding Type\": \"Permanent Financing\", \"Project Type\": \"Large Family\", \"Amount of Funds\": 3400000.0, \"State\": \"California\"}, {\"Project Name\": \"Jordan Downs Phase S3\", \"Financing_sub_cat\": \"Local Grant\", \"Interest Rate\": \"3.000%\", \"Funding Type\": \"Permanent Financing\", \"Project Type\": \"Large Family\", \"Amount of Funds\": 1100000.0, \"State\": \"California\"}, {\"Project Name\": \"Jordan Downs Phase S3\", \"Financing_sub_cat\": \"Federal Home Loan Bank\", \"Interest Rate\": \"3.000%\", \"Funding Type\": \"Permanent Financing\", \"Project Type\": \"Large Family\", \"Amount of Funds\": 503100.0, \"State\": \"California\"}, {\"Project Name\": \"Jordan Downs Phase S3\", \"Financing_sub_cat\": null, \"Interest Rate\": null, \"Funding Type\": \"Permanent Financing\", \"Project Type\": \"Large Family\", \"Amount of Funds\": 283325.0, \"State\": \"California\"}, {\"Project Name\": \"Jordan Downs Phase S3\", \"Financing_sub_cat\": \"Fee Waivers\", \"Interest Rate\": null, \"Funding Type\": \"Permanent Financing\", \"Project Type\": \"Large Family\", \"Amount of Funds\": 91000.0, \"State\": \"California\"}, {\"Project Name\": \"Donner Trail Manor\", \"Financing_sub_cat\": \"Bank Loan\", \"Interest Rate\": \"5.50%\", \"Funding Type\": \"Construction Financing\", \"Project Type\": \"At-Risk\", \"Amount of Funds\": 9250000.0, \"State\": \"California\"}, {\"Project Name\": \"Donner Trail Manor\", \"Financing_sub_cat\": \"Bank Loan\", \"Interest Rate\": null, \"Funding Type\": \"Construction Financing\", \"Project Type\": \"At-Risk\", \"Amount of Funds\": 1759613.0, \"State\": \"California\"}, {\"Project Name\": \"Donner Trail Manor\", \"Financing_sub_cat\": null, \"Interest Rate\": \"Zero\", \"Funding Type\": \"Construction Financing\", \"Project Type\": \"At-Risk\", \"Amount of Funds\": 576713.17, \"State\": \"California\"}, {\"Project Name\": \"Donner Trail Manor\", \"Financing_sub_cat\": \"Federal Loan\", \"Interest Rate\": \"1.00%\", \"Funding Type\": \"Construction Financing\", \"Project Type\": \"At-Risk\", \"Amount of Funds\": 1602453.0, \"State\": \"California\"}, {\"Project Name\": \"Donner Trail Manor\", \"Financing_sub_cat\": \"Bank Loan\", \"Interest Rate\": \"6.000%\", \"Funding Type\": \"Permanent Financing\", \"Project Type\": \"At-Risk\", \"Amount of Funds\": 2200000.0, \"State\": \"California\"}, {\"Project Name\": \"Donner Trail Manor\", \"Financing_sub_cat\": null, \"Interest Rate\": \"Zero\", \"Funding Type\": \"Permanent Financing\", \"Project Type\": \"At-Risk\", \"Amount of Funds\": 423504.0, \"State\": \"California\"}, {\"Project Name\": \"Donner Trail Manor\", \"Financing_sub_cat\": \"Federal Loan\", \"Interest Rate\": \"1.000%\", \"Funding Type\": \"Permanent Financing\", \"Project Type\": \"At-Risk\", \"Amount of Funds\": 1602453.0, \"State\": \"California\"}, {\"Project Name\": \"Donner Trail Manor\", \"Financing_sub_cat\": \"Bank Loan\", \"Interest Rate\": null, \"Funding Type\": \"Permanent Financing\", \"Project Type\": \"At-Risk\", \"Amount of Funds\": 22080.0, \"State\": \"California\"}, {\"Project Name\": \"Donner Trail Manor\", \"Financing_sub_cat\": \"Bank Loan\", \"Interest Rate\": \"sioNn/A\", \"Funding Type\": \"Permanent Financing\", \"Project Type\": \"At-Risk\", \"Amount of Funds\": 142672.0, \"State\": \"California\"}, {\"Project Name\": \"El Portal\", \"Financing_sub_cat\": \"Bank Loan\", \"Interest Rate\": \"5.50%\", \"Funding Type\": \"Construction Financing\", \"Project Type\": \"Special Needs\", \"Amount of Funds\": 9879000.0, \"State\": \"California\"}, {\"Project Name\": \"El Portal\", \"Financing_sub_cat\": \"Local Grant\", \"Interest Rate\": \"3.00%\", \"Funding Type\": \"Construction Financing\", \"Project Type\": \"Special Needs\", \"Amount of Funds\": 935000.0, \"State\": \"California\"}, {\"Project Name\": \"El Portal\", \"Financing_sub_cat\": null, \"Interest Rate\": \"3.00%\", \"Funding Type\": \"Construction Financing\", \"Project Type\": \"Special Needs\", \"Amount of Funds\": 800000.0, \"State\": \"California\"}, {\"Project Name\": \"El Portal\", \"Financing_sub_cat\": \"Local Grant\", \"Interest Rate\": null, \"Funding Type\": \"Construction Financing\", \"Project Type\": \"Special Needs\", \"Amount of Funds\": 65000.0, \"State\": \"California\"}, {\"Project Name\": \"El Portal\", \"Financing_sub_cat\": \"Deferred Developer Fee\", \"Interest Rate\": null, \"Funding Type\": \"Construction Financing\", \"Project Type\": \"Special Needs\", \"Amount of Funds\": 704489.0, \"State\": \"California\"}, {\"Project Name\": \"El Portal\", \"Financing_sub_cat\": \"Federal Credit\", \"Interest Rate\": null, \"Funding Type\": \"Construction Financing\", \"Project Type\": \"Special Needs\", \"Amount of Funds\": 209053.0, \"State\": \"California\"}, {\"Project Name\": \"El Portal\", \"Financing_sub_cat\": \"Local Grant\", \"Interest Rate\": \"5.370%\", \"Funding Type\": \"Permanent Financing\", \"Project Type\": \"Special Needs\", \"Amount of Funds\": 2704000.0, \"State\": \"California\"}, {\"Project Name\": \"El Portal\", \"Financing_sub_cat\": \"Local Grant\", \"Interest Rate\": \"3.000%\", \"Funding Type\": \"Permanent Financing\", \"Project Type\": \"Special Needs\", \"Amount of Funds\": 935000.0, \"State\": \"California\"}, {\"Project Name\": \"El Portal\", \"Financing_sub_cat\": null, \"Interest Rate\": \"3.000%\", \"Funding Type\": \"Permanent Financing\", \"Project Type\": \"Special Needs\", \"Amount of Funds\": 800000.0, \"State\": \"California\"}, {\"Project Name\": \"El Portal\", \"Financing_sub_cat\": \"Local Grant\", \"Interest Rate\": null, \"Funding Type\": \"Permanent Financing\", \"Project Type\": \"Special Needs\", \"Amount of Funds\": 65000.0, \"State\": \"California\"}, {\"Project Name\": \"Manchester-Orangewood Apartment Homes \", \"Financing_sub_cat\": \"Bank Loan\", \"Interest Rate\": \"5.00%\", \"Funding Type\": \"Construction Financing\", \"Project Type\": \"Large Family\", \"Amount of Funds\": 30500000.0, \"State\": \"California\"}, {\"Project Name\": \"Manchester-Orangewood Apartment Homes \", \"Financing_sub_cat\": \"Bank Loan\", \"Interest Rate\": null, \"Funding Type\": \"Construction Financing\", \"Project Type\": \"Large Family\", \"Amount of Funds\": 3865585.0, \"State\": \"California\"}, {\"Project Name\": \"Manchester-Orangewood Apartment Homes \", \"Financing_sub_cat\": \"Local Grant\", \"Interest Rate\": null, \"Funding Type\": \"Construction Financing\", \"Project Type\": \"Large Family\", \"Amount of Funds\": 10200000.0, \"State\": \"California\"}, {\"Project Name\": \"Manchester-Orangewood Apartment Homes \", \"Financing_sub_cat\": null, \"Interest Rate\": null, \"Funding Type\": \"Construction Financing\", \"Project Type\": \"Large Family\", \"Amount of Funds\": 150000.0, \"State\": \"California\"}, {\"Project Name\": \"Manchester-Orangewood Apartment Homes \", \"Financing_sub_cat\": \"Local Grant\", \"Interest Rate\": \"3.00%\", \"Funding Type\": \"Construction Financing\", \"Project Type\": \"Large Family\", \"Amount of Funds\": 1500000.0, \"State\": \"California\"}, {\"Project Name\": \"Manchester-Orangewood Apartment Homes \", \"Financing_sub_cat\": \"Local Grant\", \"Interest Rate\": \"3.00%\", \"Funding Type\": \"Construction Financing\", \"Project Type\": \"Large Family\", \"Amount of Funds\": 3172632.0, \"State\": \"California\"}, {\"Project Name\": \"Manchester-Orangewood Apartment Homes \", \"Financing_sub_cat\": \"Fee Waivers\", \"Interest Rate\": \"3.00%\", \"Funding Type\": \"Construction Financing\", \"Project Type\": \"Large Family\", \"Amount of Funds\": 132294.0, \"State\": \"California\"}, {\"Project Name\": \"Manchester-Orangewood Apartment Homes \", \"Financing_sub_cat\": \"Fee Waivers\", \"Interest Rate\": \"3.00%\", \"Funding Type\": \"Construction Financing\", \"Project Type\": \"Large Family\", \"Amount of Funds\": 551696.0, \"State\": \"California\"}, {\"Project Name\": \"Manchester-Orangewood Apartment Homes \", \"Financing_sub_cat\": \"Deferred Developer Fee\", \"Interest Rate\": null, \"Funding Type\": \"Construction Financing\", \"Project Type\": \"Large Family\", \"Amount of Funds\": 1429724.0, \"State\": \"California\"}, {\"Project Name\": \"Manchester-Orangewood Apartment Homes \", \"Financing_sub_cat\": \"Local Grant\", \"Interest Rate\": null, \"Funding Type\": \"Permanent Financing\", \"Project Type\": \"Large Family\", \"Amount of Funds\": 10200000.0, \"State\": \"California\"}, {\"Project Name\": \"Manchester-Orangewood Apartment Homes \", \"Financing_sub_cat\": \"Bank Loan\", \"Interest Rate\": \"6.200%\", \"Funding Type\": \"Permanent Financing\", \"Project Type\": \"Large Family\", \"Amount of Funds\": 10796738.0, \"State\": \"California\"}, {\"Project Name\": \"Manchester-Orangewood Apartment Homes \", \"Financing_sub_cat\": \"Local Grant\", \"Interest Rate\": \"3.000%\", \"Funding Type\": \"Permanent Financing\", \"Project Type\": \"Large Family\", \"Amount of Funds\": 3172632.0, \"State\": \"California\"}, {\"Project Name\": \"Manchester-Orangewood Apartment Homes \", \"Financing_sub_cat\": null, \"Interest Rate\": null, \"Funding Type\": \"Permanent Financing\", \"Project Type\": \"Large Family\", \"Amount of Funds\": 150000.0, \"State\": \"California\"}, {\"Project Name\": \"Manchester-Orangewood Apartment Homes \", \"Financing_sub_cat\": \"Fee Waivers\", \"Interest Rate\": \"3.000%\", \"Funding Type\": \"Permanent Financing\", \"Project Type\": \"Large Family\", \"Amount of Funds\": 132294.0, \"State\": \"California\"}, {\"Project Name\": \"Manchester-Orangewood Apartment Homes \", \"Financing_sub_cat\": \"Local Grant\", \"Interest Rate\": \"3.000%\", \"Funding Type\": \"Permanent Financing\", \"Project Type\": \"Large Family\", \"Amount of Funds\": 1500000.0, \"State\": \"California\"}, {\"Project Name\": \"Manchester-Orangewood Apartment Homes \", \"Financing_sub_cat\": \"Fee Waivers\", \"Interest Rate\": \"3.000%\", \"Funding Type\": \"Permanent Financing\", \"Project Type\": \"Large Family\", \"Amount of Funds\": 551696.0, \"State\": \"California\"}, {\"Project Name\": \"Manchester-Orangewood Apartment Homes \", \"Financing_sub_cat\": \"Deferred Developer Fee\", \"Interest Rate\": null, \"Funding Type\": \"Permanent Financing\", \"Project Type\": \"Large Family\", \"Amount of Funds\": 748571.0, \"State\": \"California\"}, {\"Project Name\": \"Devonshire Apartments\", \"Financing_sub_cat\": \"Bank Loan\", \"Interest Rate\": \"5.25%\", \"Funding Type\": \"Construction Financing\", \"Project Type\": \"Large Family\", \"Amount of Funds\": 5100000.0, \"State\": \"California\"}, {\"Project Name\": \"Devonshire Apartments\", \"Financing_sub_cat\": \"Local Grant\", \"Interest Rate\": null, \"Funding Type\": \"Construction Financing\", \"Project Type\": \"Large Family\", \"Amount of Funds\": 650000.0, \"State\": \"California\"}, {\"Project Name\": \"Devonshire Apartments\", \"Financing_sub_cat\": \"Local Grant\", \"Interest Rate\": \"3.00%\", \"Funding Type\": \"Construction Financing\", \"Project Type\": \"Large Family\", \"Amount of Funds\": 401090.0, \"State\": \"California\"}, {\"Project Name\": \"Devonshire Apartments\", \"Financing_sub_cat\": \"Local Grant\", \"Interest Rate\": \"3.00%\", \"Funding Type\": \"Construction Financing\", \"Project Type\": \"Large Family\", \"Amount of Funds\": 290000.0, \"State\": \"California\"}, {\"Project Name\": \"Devonshire Apartments\", \"Financing_sub_cat\": \"Local Grant\", \"Interest Rate\": \"3.00%\", \"Funding Type\": \"Construction Financing\", \"Project Type\": \"Large Family\", \"Amount of Funds\": 176000.0, \"State\": \"California\"}, {\"Project Name\": \"Devonshire Apartments\", \"Financing_sub_cat\": \"Federal Credit\", \"Interest Rate\": null, \"Funding Type\": \"Construction Financing\", \"Project Type\": \"Large Family\", \"Amount of Funds\": 506927.0, \"State\": \"California\"}, {\"Project Name\": \"Devonshire Apartments\", \"Financing_sub_cat\": \"Deferred Developer Fee\", \"Interest Rate\": null, \"Funding Type\": \"Construction Financing\", \"Project Type\": \"Large Family\", \"Amount of Funds\": 114595.0, \"State\": \"California\"}, {\"Project Name\": \"Devonshire Apartments\", \"Financing_sub_cat\": \"Deferred Developer Fee\", \"Interest Rate\": null, \"Funding Type\": \"Construction Financing\", \"Project Type\": \"Large Family\", \"Amount of Funds\": 314393.0, \"State\": \"California\"}, {\"Project Name\": \"Devonshire Apartments\", \"Financing_sub_cat\": \"Bank Loan\", \"Interest Rate\": \"5.500%\", \"Funding Type\": \"Permanent Financing\", \"Project Type\": \"Large Family\", \"Amount of Funds\": 852053.0, \"State\": \"California\"}, {\"Project Name\": \"Devonshire Apartments\", \"Financing_sub_cat\": \"Local Grant\", \"Interest Rate\": null, \"Funding Type\": \"Permanent Financing\", \"Project Type\": \"Large Family\", \"Amount of Funds\": 650000.0, \"State\": \"California\"}, {\"Project Name\": \"Devonshire Apartments\", \"Financing_sub_cat\": \"Local Grant\", \"Interest Rate\": \"3.000%\", \"Funding Type\": \"Permanent Financing\", \"Project Type\": \"Large Family\", \"Amount of Funds\": 401090.0, \"State\": \"California\"}, {\"Project Name\": \"Devonshire Apartments\", \"Financing_sub_cat\": \"Local Grant\", \"Interest Rate\": \"3.000%\", \"Funding Type\": \"Permanent Financing\", \"Project Type\": \"Large Family\", \"Amount of Funds\": 290000.0, \"State\": \"California\"}, {\"Project Name\": \"Devonshire Apartments\", \"Financing_sub_cat\": \"Local Grant\", \"Interest Rate\": \"3.000%\", \"Funding Type\": \"Permanent Financing\", \"Project Type\": \"Large Family\", \"Amount of Funds\": 176000.0, \"State\": \"California\"}, {\"Project Name\": \"Devonshire Apartments\", \"Financing_sub_cat\": \"Deferred Developer Fee\", \"Interest Rate\": null, \"Funding Type\": \"Permanent Financing\", \"Project Type\": \"Large Family\", \"Amount of Funds\": 114595.0, \"State\": \"California\"}, {\"Project Name\": \"Cedar Glen II Apartments\", \"Financing_sub_cat\": \"Bank Loan\", \"Interest Rate\": \"LIBOR + 225 bps\", \"Funding Type\": \"Construction Financing\", \"Project Type\": \"Large Family\", \"Amount of Funds\": 18696480.0, \"State\": \"California\"}, {\"Project Name\": \"Cedar Glen II Apartments\", \"Financing_sub_cat\": \"Local Grant\", \"Interest Rate\": null, \"Funding Type\": \"Construction Financing\", \"Project Type\": \"Large Family\", \"Amount of Funds\": 1339000.0, \"State\": \"California\"}, {\"Project Name\": \"Cedar Glen II Apartments\", \"Financing_sub_cat\": \"Local Grant\", \"Interest Rate\": null, \"Funding Type\": \"Construction Financing\", \"Project Type\": \"Large Family\", \"Amount of Funds\": 306700.0, \"State\": \"California\"}, {\"Project Name\": \"Cedar Glen II Apartments\", \"Financing_sub_cat\": null, \"Interest Rate\": null, \"Funding Type\": \"Construction Financing\", \"Project Type\": \"Large Family\", \"Amount of Funds\": 2828093.0, \"State\": \"California\"}, {\"Project Name\": \"Cedar Glen II Apartments\", \"Financing_sub_cat\": \"Bank Loan\", \"Interest Rate\": null, \"Funding Type\": \"Construction Financing\", \"Project Type\": \"Large Family\", \"Amount of Funds\": 1455896.0, \"State\": \"California\"}, {\"Project Name\": \"Cedar Glen II Apartments\", \"Financing_sub_cat\": \"Local Grant\", \"Interest Rate\": \"3.00%\", \"Funding Type\": \"Construction Financing\", \"Project Type\": \"Large Family\", \"Amount of Funds\": 600000.0, \"State\": \"California\"}, {\"Project Name\": \"Cedar Glen II Apartments\", \"Financing_sub_cat\": \"Bank Loan\", \"Interest Rate\": \"5.300%\", \"Funding Type\": \"Permanent Financing\", \"Project Type\": \"Large Family\", \"Amount of Funds\": 4980186.0, \"State\": \"California\"}, {\"Project Name\": \"Cedar Glen II Apartments\", \"Financing_sub_cat\": \"Local Grant\", \"Interest Rate\": null, \"Funding Type\": \"Permanent Financing\", \"Project Type\": \"Large Family\", \"Amount of Funds\": 1339000.0, \"State\": \"California\"}, {\"Project Name\": \"Cedar Glen II Apartments\", \"Financing_sub_cat\": \"Local Grant\", \"Interest Rate\": null, \"Funding Type\": \"Permanent Financing\", \"Project Type\": \"Large Family\", \"Amount of Funds\": 306700.0, \"State\": \"California\"}, {\"Project Name\": \"Cedar Glen II Apartments\", \"Financing_sub_cat\": \"Deferred Developer Fee\", \"Interest Rate\": \"AFR\", \"Funding Type\": \"Permanent Financing\", \"Project Type\": \"Large Family\", \"Amount of Funds\": 129372.0, \"State\": \"California\"}, {\"Project Name\": \"Cedar Glen II Apartments\", \"Financing_sub_cat\": \"Local Grant\", \"Interest Rate\": \"3.000%\", \"Funding Type\": \"Permanent Financing\", \"Project Type\": \"Large Family\", \"Amount of Funds\": 600000.0, \"State\": \"California\"}, {\"Project Name\": \"Cedar Glen II Apartments\", \"Financing_sub_cat\": \"State Funding\", \"Interest Rate\": \"3.000%\", \"Funding Type\": \"Permanent Financing\", \"Project Type\": \"Large Family\", \"Amount of Funds\": 3311952.0, \"State\": \"California\"}, {\"Project Name\": \"Parque Vista Apartments\", \"Financing_sub_cat\": \"Bank Loan\", \"Interest Rate\": \"4.50%\", \"Funding Type\": \"Construction Financing\", \"Project Type\": \"Large Family\", \"Amount of Funds\": 15600000.0, \"State\": \"California\"}, {\"Project Name\": \"Parque Vista Apartments\", \"Financing_sub_cat\": \"Local Grant\", \"Interest Rate\": \"4.00%\", \"Funding Type\": \"Construction Financing\", \"Project Type\": \"Large Family\", \"Amount of Funds\": 2500000.0, \"State\": \"California\"}, {\"Project Name\": \"Parque Vista Apartments\", \"Financing_sub_cat\": \"State Credit\", \"Interest Rate\": \"0%\", \"Funding Type\": \"Construction Financing\", \"Project Type\": \"Large Family\", \"Amount of Funds\": 2420051.0, \"State\": \"California\"}, {\"Project Name\": \"Parque Vista Apartments\", \"Financing_sub_cat\": null, \"Interest Rate\": null, \"Funding Type\": \"Construction Financing\", \"Project Type\": \"Large Family\", \"Amount of Funds\": 1623125.0, \"State\": \"California\"}, {\"Project Name\": \"Parque Vista Apartments\", \"Financing_sub_cat\": \"Deferred Developer Fee\", \"Interest Rate\": null, \"Funding Type\": \"Construction Financing\", \"Project Type\": \"Large Family\", \"Amount of Funds\": 2177295.0, \"State\": \"California\"}, {\"Project Name\": \"Parque Vista Apartments\", \"Financing_sub_cat\": \"Bank Loan\", \"Interest Rate\": \"6.000%\", \"Funding Type\": \"Permanent Financing\", \"Project Type\": \"Large Family\", \"Amount of Funds\": 2775000.0, \"State\": \"California\"}, {\"Project Name\": \"Parque Vista Apartments\", \"Financing_sub_cat\": \"Local Grant\", \"Interest Rate\": \"4.000%\", \"Funding Type\": \"Permanent Financing\", \"Project Type\": \"Large Family\", \"Amount of Funds\": 2500000.0, \"State\": \"California\"}, {\"Project Name\": \"Parque Vista Apartments\", \"Financing_sub_cat\": \"State Credit\", \"Interest Rate\": \"0%\", \"Funding Type\": \"Permanent Financing\", \"Project Type\": \"Large Family\", \"Amount of Funds\": 2420051.0, \"State\": \"California\"}, {\"Project Name\": \"Parque Vista Apartments\", \"Financing_sub_cat\": \"Deferred Developer Fee\", \"Interest Rate\": null, \"Funding Type\": \"Permanent Financing\", \"Project Type\": \"Large Family\", \"Amount of Funds\": 394170.0, \"State\": \"California\"}, {\"Project Name\": \"Eddy St Senior\", \"Financing_sub_cat\": \"Bank Loan\", \"Interest Rate\": \"4.25%\", \"Funding Type\": \"Construction Financing\", \"Project Type\": \"Seniors\", \"Amount of Funds\": 2417700.0, \"State\": \"California\"}, {\"Project Name\": \"Eddy St Senior\", \"Financing_sub_cat\": \"Bank Loan\", \"Interest Rate\": null, \"Funding Type\": \"Construction Financing\", \"Project Type\": \"Seniors\", \"Amount of Funds\": 13579012.0, \"State\": \"California\"}, {\"Project Name\": \"Eddy St Senior\", \"Financing_sub_cat\": null, \"Interest Rate\": null, \"Funding Type\": \"Construction Financing\", \"Project Type\": \"Seniors\", \"Amount of Funds\": 765300.0, \"State\": \"California\"}, {\"Project Name\": \"Eddy St Senior\", \"Financing_sub_cat\": \"Bank Loan\", \"Interest Rate\": \"4.250%\", \"Funding Type\": \"Permanent Financing\", \"Project Type\": \"Seniors\", \"Amount of Funds\": 2417700.0, \"State\": \"California\"}, {\"Project Name\": \"Eddy St Senior\", \"Financing_sub_cat\": null, \"Interest Rate\": \"oper Fee\", \"Funding Type\": \"Permanent Financing\", \"Project Type\": \"Seniors\", \"Amount of Funds\": 765300.0, \"State\": \"California\"}, {\"Project Name\": \"Econo Inn\", \"Financing_sub_cat\": \"Bank Loan\", \"Interest Rate\": \"6.25%\", \"Funding Type\": \"Construction Financing\", \"Project Type\": \"Special Needs\", \"Amount of Funds\": 6752678.0, \"State\": \"California\"}, {\"Project Name\": \"Econo Inn\", \"Financing_sub_cat\": \"State Grant\", \"Interest Rate\": \"3.00%\", \"Funding Type\": \"Construction Financing\", \"Project Type\": \"Special Needs\", \"Amount of Funds\": 2368706.0, \"State\": \"California\"}, {\"Project Name\": \"Econo Inn\", \"Financing_sub_cat\": \"Bank Loan\", \"Interest Rate\": null, \"Funding Type\": \"Construction Financing\", \"Project Type\": \"Special Needs\", \"Amount of Funds\": 781904.0, \"State\": \"California\"}, {\"Project Name\": \"Econo Inn\", \"Financing_sub_cat\": \"Deferred Developer Fee\", \"Interest Rate\": null, \"Funding Type\": \"Construction Financing\", \"Project Type\": \"Special Needs\", \"Amount of Funds\": 2971404.0, \"State\": \"California\"}, {\"Project Name\": \"Econo Inn\", \"Financing_sub_cat\": \"State Funding\", \"Interest Rate\": \"3.000%\", \"Funding Type\": \"Permanent Financing\", \"Project Type\": \"Special Needs\", \"Amount of Funds\": 1651942.0, \"State\": \"California\"}, {\"Project Name\": \"Econo Inn\", \"Financing_sub_cat\": \"State Grant\", \"Interest Rate\": \"3.000%\", \"Funding Type\": \"Permanent Financing\", \"Project Type\": \"Special Needs\", \"Amount of Funds\": 2368706.0, \"State\": \"California\"}, {\"Project Name\": \"PATH Villas South Gate\", \"Financing_sub_cat\": \"Bank Loan\", \"Interest Rate\": \"5.75%\", \"Funding Type\": \"Construction Financing\", \"Project Type\": \"Special Needs\", \"Amount of Funds\": 24339930.0, \"State\": \"California\"}, {\"Project Name\": \"PATH Villas South Gate\", \"Financing_sub_cat\": \"Local Grant\", \"Interest Rate\": \"3.00%\", \"Funding Type\": \"Construction Financing\", \"Project Type\": \"Special Needs\", \"Amount of Funds\": 4031000.0, \"State\": \"California\"}, {\"Project Name\": \"PATH Villas South Gate\", \"Financing_sub_cat\": \"Local Grant\", \"Interest Rate\": \"3.00%\", \"Funding Type\": \"Construction Financing\", \"Project Type\": \"Special Needs\", \"Amount of Funds\": 500000.0, \"State\": \"California\"}, {\"Project Name\": \"PATH Villas South Gate\", \"Financing_sub_cat\": \"Deferred Developer Fee\", \"Interest Rate\": null, \"Funding Type\": \"Construction Financing\", \"Project Type\": \"Special Needs\", \"Amount of Funds\": 1489409.0, \"State\": \"California\"}, {\"Project Name\": \"PATH Villas South Gate\", \"Financing_sub_cat\": null, \"Interest Rate\": null, \"Funding Type\": \"Construction Financing\", \"Project Type\": \"Special Needs\", \"Amount of Funds\": 100.0, \"State\": \"California\"}, {\"Project Name\": \"PATH Villas South Gate\", \"Financing_sub_cat\": \"Bank Loan\", \"Interest Rate\": \"5.750%\", \"Funding Type\": \"Permanent Financing\", \"Project Type\": \"Special Needs\", \"Amount of Funds\": 3819000.0, \"State\": \"California\"}, {\"Project Name\": \"PATH Villas South Gate\", \"Financing_sub_cat\": null, \"Interest Rate\": \"3.000%\", \"Funding Type\": \"Permanent Financing\", \"Project Type\": \"Special Needs\", \"Amount of Funds\": 3771436.0, \"State\": \"California\"}, {\"Project Name\": \"PATH Villas South Gate\", \"Financing_sub_cat\": \"Local Grant\", \"Interest Rate\": \"3.000%\", \"Funding Type\": \"Permanent Financing\", \"Project Type\": \"Special Needs\", \"Amount of Funds\": 4081000.0, \"State\": \"California\"}, {\"Project Name\": \"PATH Villas South Gate\", \"Financing_sub_cat\": \"Local Grant\", \"Interest Rate\": \"3.000%\", \"Funding Type\": \"Permanent Financing\", \"Project Type\": \"Special Needs\", \"Amount of Funds\": 500000.0, \"State\": \"California\"}, {\"Project Name\": \"PATH Villas South Gate\", \"Financing_sub_cat\": null, \"Interest Rate\": null, \"Funding Type\": \"Permanent Financing\", \"Project Type\": \"Special Needs\", \"Amount of Funds\": 100.0, \"State\": \"California\"}, {\"Project Name\": \"Valley Oaks Apartments\", \"Financing_sub_cat\": \"Bank Loan\", \"Interest Rate\": \"5.75%\", \"Funding Type\": \"Construction Financing\", \"Project Type\": \"At-Risk\", \"Amount of Funds\": 2822486.0, \"State\": \"California\"}, {\"Project Name\": \"Valley Oaks Apartments\", \"Financing_sub_cat\": \"Federal Loan\", \"Interest Rate\": \"1.00%\", \"Funding Type\": \"Construction Financing\", \"Project Type\": \"At-Risk\", \"Amount of Funds\": 119267.0, \"State\": \"California\"}, {\"Project Name\": \"Valley Oaks Apartments\", \"Financing_sub_cat\": \"Federal Loan\", \"Interest Rate\": \"1.00%\", \"Funding Type\": \"Construction Financing\", \"Project Type\": \"At-Risk\", \"Amount of Funds\": 1080000.0, \"State\": \"California\"}, {\"Project Name\": \"Valley Oaks Apartments\", \"Financing_sub_cat\": null, \"Interest Rate\": null, \"Funding Type\": \"Construction Financing\", \"Project Type\": \"At-Risk\", \"Amount of Funds\": 80759.0, \"State\": \"California\"}, {\"Project Name\": \"Valley Oaks Apartments\", \"Financing_sub_cat\": \"Bank Loan\", \"Interest Rate\": \"5.500%\", \"Funding Type\": \"Permanent Financing\", \"Project Type\": \"At-Risk\", \"Amount of Funds\": 216000.0, \"State\": \"California\"}, {\"Project Name\": \"Valley Oaks Apartments\", \"Financing_sub_cat\": \"Federal Loan\", \"Interest Rate\": \"1.000%\", \"Funding Type\": \"Permanent Financing\", \"Project Type\": \"At-Risk\", \"Amount of Funds\": 1080000.0, \"State\": \"California\"}, {\"Project Name\": \"Valley Oaks Apartments\", \"Financing_sub_cat\": \"Federal Loan\", \"Interest Rate\": \"1.000%\", \"Funding Type\": \"Permanent Financing\", \"Project Type\": \"At-Risk\", \"Amount of Funds\": 119267.0, \"State\": \"California\"}, {\"Project Name\": \"Valley Oaks Apartments\", \"Financing_sub_cat\": null, \"Interest Rate\": null, \"Funding Type\": \"Permanent Financing\", \"Project Type\": \"At-Risk\", \"Amount of Funds\": 80759.0, \"State\": \"California\"}, {\"Project Name\": \"Trinity Place Apartments\", \"Financing_sub_cat\": \"Bank Loan\", \"Interest Rate\": \"5.66%\", \"Funding Type\": \"Construction Financing\", \"Project Type\": \"Special Needs\", \"Amount of Funds\": 21414802.0, \"State\": \"California\"}, {\"Project Name\": \"Trinity Place Apartments\", \"Financing_sub_cat\": \"State Grant\", \"Interest Rate\": \"Loan 3.000%\", \"Funding Type\": \"Construction Financing\", \"Project Type\": \"Special Needs\", \"Amount of Funds\": 2725632.0, \"State\": \"California\"}, {\"Project Name\": \"Trinity Place Apartments\", \"Financing_sub_cat\": \"Deferred Developer Fee\", \"Interest Rate\": null, \"Funding Type\": \"Construction Financing\", \"Project Type\": \"Special Needs\", \"Amount of Funds\": 97453.0, \"State\": \"California\"}, {\"Project Name\": \"Trinity Place Apartments\", \"Financing_sub_cat\": \"City Grant\", \"Interest Rate\": \"3.00%\", \"Funding Type\": \"Construction Financing\", \"Project Type\": \"Special Needs\", \"Amount of Funds\": 500000.0, \"State\": \"California\"}, {\"Project Name\": \"Trinity Place Apartments\", \"Financing_sub_cat\": \"Deferred Developer Fee\", \"Interest Rate\": null, \"Funding Type\": \"Construction Financing\", \"Project Type\": \"Special Needs\", \"Amount of Funds\": 17877.0, \"State\": \"California\"}, {\"Project Name\": \"Trinity Place Apartments\", \"Financing_sub_cat\": \"City Grant\", \"Interest Rate\": \"3.00%\", \"Funding Type\": \"Construction Financing\", \"Project Type\": \"Special Needs\", \"Amount of Funds\": 4000000.0, \"State\": \"California\"}, {\"Project Name\": \"Trinity Place Apartments\", \"Financing_sub_cat\": \"City Grant\", \"Interest Rate\": null, \"Funding Type\": \"Construction Financing\", \"Project Type\": \"Special Needs\", \"Amount of Funds\": 143017.0, \"State\": \"California\"}, {\"Project Name\": \"Trinity Place Apartments\", \"Financing_sub_cat\": \"Fee Waivers\", \"Interest Rate\": null, \"Funding Type\": \"Construction Financing\", \"Project Type\": \"Special Needs\", \"Amount of Funds\": 168922.0, \"State\": \"California\"}, {\"Project Name\": \"Trinity Place Apartments\", \"Financing_sub_cat\": \"Deferred Developer Fee\", \"Interest Rate\": null, \"Funding Type\": \"Construction Financing\", \"Project Type\": \"Special Needs\", \"Amount of Funds\": 1029039.0, \"State\": \"California\"}, {\"Project Name\": \"Trinity Place Apartments\", \"Financing_sub_cat\": \"Local Grant\", \"Interest Rate\": \"5.400%\", \"Funding Type\": \"Permanent Financing\", \"Project Type\": \"Special Needs\", \"Amount of Funds\": 3349500.0, \"State\": \"California\"}, {\"Project Name\": \"Trinity Place Apartments\", \"Financing_sub_cat\": \"State Grant\", \"Interest Rate\": \"ty3 .o0f0 S0a%n\", \"Funding Type\": \"Permanent Financing\", \"Project Type\": \"Special Needs\", \"Amount of Funds\": 2725632.0, \"State\": \"California\"}, {\"Project Name\": \"Trinity Place Apartments\", \"Financing_sub_cat\": \"Deferred Developer Fee\", \"Interest Rate\": \"3.000%\", \"Funding Type\": \"Permanent Financing\", \"Project Type\": \"Special Needs\", \"Amount of Funds\": 97453.0, \"State\": \"California\"}, {\"Project Name\": \"Trinity Place Apartments\", \"Financing_sub_cat\": \"City Grant\", \"Interest Rate\": \"3.000%\", \"Funding Type\": \"Permanent Financing\", \"Project Type\": \"Special Needs\", \"Amount of Funds\": 700000.0, \"State\": \"California\"}, {\"Project Name\": \"Trinity Place Apartments\", \"Financing_sub_cat\": \"Deferred Developer Fee\", \"Interest Rate\": null, \"Funding Type\": \"Permanent Financing\", \"Project Type\": \"Special Needs\", \"Amount of Funds\": 17877.0, \"State\": \"California\"}, {\"Project Name\": \"Trinity Place Apartments\", \"Financing_sub_cat\": \"City Grant\", \"Interest Rate\": \"3.000%\", \"Funding Type\": \"Permanent Financing\", \"Project Type\": \"Special Needs\", \"Amount of Funds\": 4800000.0, \"State\": \"California\"}, {\"Project Name\": \"Trinity Place Apartments\", \"Financing_sub_cat\": \"City Grant\", \"Interest Rate\": null, \"Funding Type\": \"Permanent Financing\", \"Project Type\": \"Special Needs\", \"Amount of Funds\": 143017.0, \"State\": \"California\"}, {\"Project Name\": \"Trinity Place Apartments\", \"Financing_sub_cat\": \"Fee Waivers\", \"Interest Rate\": null, \"Funding Type\": \"Permanent Financing\", \"Project Type\": \"Special Needs\", \"Amount of Funds\": 168922.0, \"State\": \"California\"}, {\"Project Name\": \"Ivy Senior Apartments\", \"Financing_sub_cat\": \"Bank Loan\", \"Interest Rate\": \"5.66%\", \"Funding Type\": \"Construction Financing\", \"Project Type\": \"Special Needs\", \"Amount of Funds\": 15232170.0, \"State\": \"California\"}, {\"Project Name\": \"Ivy Senior Apartments\", \"Financing_sub_cat\": \"State Grant\", \"Interest Rate\": \"3.00%\", \"Funding Type\": \"Construction Financing\", \"Project Type\": \"Special Needs\", \"Amount of Funds\": 1059968.0, \"State\": \"California\"}, {\"Project Name\": \"Ivy Senior Apartments\", \"Financing_sub_cat\": \"Deferred Developer Fee\", \"Interest Rate\": null, \"Funding Type\": \"Construction Financing\", \"Project Type\": \"Special Needs\", \"Amount of Funds\": 39478.0, \"State\": \"California\"}, {\"Project Name\": \"Ivy Senior Apartments\", \"Financing_sub_cat\": \"City Grant\", \"Interest Rate\": \"3.00%\", \"Funding Type\": \"Construction Financing\", \"Project Type\": \"Special Needs\", \"Amount of Funds\": 5525000.0, \"State\": \"California\"}, {\"Project Name\": \"Ivy Senior Apartments\", \"Financing_sub_cat\": \"Deferred Developer Fee\", \"Interest Rate\": null, \"Funding Type\": \"Construction Financing\", \"Project Type\": \"Special Needs\", \"Amount of Funds\": 205774.0, \"State\": \"California\"}, {\"Project Name\": \"Ivy Senior Apartments\", \"Financing_sub_cat\": \"Federal Home Loan Bank\", \"Interest Rate\": null, \"Funding Type\": \"Construction Financing\", \"Project Type\": \"Special Needs\", \"Amount of Funds\": 520000.0, \"State\": \"California\"}, {\"Project Name\": \"Ivy Senior Apartments\", \"Financing_sub_cat\": \"Fee Waivers\", \"Interest Rate\": null, \"Funding Type\": \"Construction Financing\", \"Project Type\": \"Special Needs\", \"Amount of Funds\": 120328.0, \"State\": \"California\"}, {\"Project Name\": \"Ivy Senior Apartments\", \"Financing_sub_cat\": \"Deferred Developer Fee\", \"Interest Rate\": null, \"Funding Type\": \"Construction Financing\", \"Project Type\": \"Special Needs\", \"Amount of Funds\": 974275.0, \"State\": \"California\"}, {\"Project Name\": \"Ivy Senior Apartments\", \"Financing_sub_cat\": \"State Grant\", \"Interest Rate\": \"ty3 .o0f0 S0a%n\", \"Funding Type\": \"Permanent Financing\", \"Project Type\": \"Special Needs\", \"Amount of Funds\": 1059968.0, \"State\": \"California\"}, {\"Project Name\": \"Ivy Senior Apartments\", \"Financing_sub_cat\": \"Deferred Developer Fee\", \"Interest Rate\": null, \"Funding Type\": \"Permanent Financing\", \"Project Type\": \"Special Needs\", \"Amount of Funds\": 39478.0, \"State\": \"California\"}, {\"Project Name\": \"Ivy Senior Apartments\", \"Financing_sub_cat\": \"City Grant\", \"Interest Rate\": \"3.000%\", \"Funding Type\": \"Permanent Financing\", \"Project Type\": \"Special Needs\", \"Amount of Funds\": 6500000.0, \"State\": \"California\"}, {\"Project Name\": \"Ivy Senior Apartments\", \"Financing_sub_cat\": \"Deferred Developer Fee\", \"Interest Rate\": null, \"Funding Type\": \"Permanent Financing\", \"Project Type\": \"Special Needs\", \"Amount of Funds\": 205774.0, \"State\": \"California\"}, {\"Project Name\": \"Ivy Senior Apartments\", \"Financing_sub_cat\": \"Federal Home Loan Bank\", \"Interest Rate\": null, \"Funding Type\": \"Permanent Financing\", \"Project Type\": \"Special Needs\", \"Amount of Funds\": 520000.0, \"State\": \"California\"}, {\"Project Name\": \"Ivy Senior Apartments\", \"Financing_sub_cat\": \"Fee Waivers\", \"Interest Rate\": null, \"Funding Type\": \"Permanent Financing\", \"Project Type\": \"Special Needs\", \"Amount of Funds\": 120328.0, \"State\": \"California\"}, {\"Project Name\": \"Paseo Artist Village\", \"Financing_sub_cat\": \"Bank Loan\", \"Interest Rate\": \"5.66%\", \"Funding Type\": \"Construction Financing\", \"Project Type\": \"Large Family\", \"Amount of Funds\": 15760897.0, \"State\": \"California\"}, {\"Project Name\": \"Paseo Artist Village\", \"Financing_sub_cat\": \"Local Grant\", \"Interest Rate\": \"3.00%\", \"Funding Type\": \"Construction Financing\", \"Project Type\": \"Large Family\", \"Amount of Funds\": 8599980.0, \"State\": \"California\"}, {\"Project Name\": \"Paseo Artist Village\", \"Financing_sub_cat\": \"Local Grant\", \"Interest Rate\": null, \"Funding Type\": \"Construction Financing\", \"Project Type\": \"Large Family\", \"Amount of Funds\": 307487.0, \"State\": \"California\"}, {\"Project Name\": \"Paseo Artist Village\", \"Financing_sub_cat\": \"Local Grant\", \"Interest Rate\": null, \"Funding Type\": \"Construction Financing\", \"Project Type\": \"Large Family\", \"Amount of Funds\": 5080000.0, \"State\": \"California\"}, {\"Project Name\": \"Paseo Artist Village\", \"Financing_sub_cat\": \"Deferred Developer Fee\", \"Interest Rate\": null, \"Funding Type\": \"Construction Financing\", \"Project Type\": \"Large Family\", \"Amount of Funds\": 300000.0, \"State\": \"California\"}, {\"Project Name\": \"Paseo Artist Village\", \"Financing_sub_cat\": \"Deferred Developer Fee\", \"Interest Rate\": null, \"Funding Type\": \"Construction Financing\", \"Project Type\": \"Large Family\", \"Amount of Funds\": 994495.0, \"State\": \"California\"}, {\"Project Name\": \"Paseo Artist Village\", \"Financing_sub_cat\": \"Bank Loan\", \"Interest Rate\": \"5.400%\", \"Funding Type\": \"Permanent Financing\", \"Project Type\": \"Large Family\", \"Amount of Funds\": 2955700.0, \"State\": \"California\"}, {\"Project Name\": \"Paseo Artist Village\", \"Financing_sub_cat\": \"Local Grant\", \"Interest Rate\": \"3.000%\", \"Funding Type\": \"Permanent Financing\", \"Project Type\": \"Large Family\", \"Amount of Funds\": 8599980.0, \"State\": \"California\"}, {\"Project Name\": \"Paseo Artist Village\", \"Financing_sub_cat\": \"Local Grant\", \"Interest Rate\": \"rest\", \"Funding Type\": \"Permanent Financing\", \"Project Type\": \"Large Family\", \"Amount of Funds\": 307487.0, \"State\": \"California\"}, {\"Project Name\": \"Paseo Artist Village\", \"Financing_sub_cat\": \"Local Grant\", \"Interest Rate\": null, \"Funding Type\": \"Permanent Financing\", \"Project Type\": \"Large Family\", \"Amount of Funds\": 5080000.0, \"State\": \"California\"}, {\"Project Name\": \"Paseo Artist Village\", \"Financing_sub_cat\": \"Deferred Developer Fee\", \"Interest Rate\": null, \"Funding Type\": \"Permanent Financing\", \"Project Type\": \"Large Family\", \"Amount of Funds\": 300000.0, \"State\": \"California\"}, {\"Project Name\": \"West Cox Cottages\", \"Financing_sub_cat\": \"Bank Loan\", \"Interest Rate\": \"6.00%\", \"Funding Type\": \"Construction Financing\", \"Project Type\": \"Special Needs\", \"Amount of Funds\": 5315864.0, \"State\": \"California\"}, {\"Project Name\": \"West Cox Cottages\", \"Financing_sub_cat\": \"Federal Credit\", \"Interest Rate\": null, \"Funding Type\": \"Construction Financing\", \"Project Type\": \"Special Needs\", \"Amount of Funds\": 1225331.0, \"State\": \"California\"}, {\"Project Name\": \"West Cox Cottages\", \"Financing_sub_cat\": \"Local Grant\", \"Interest Rate\": \"4.00%\", \"Funding Type\": \"Construction Financing\", \"Project Type\": \"Special Needs\", \"Amount of Funds\": 2850000.0, \"State\": \"California\"}, {\"Project Name\": \"West Cox Cottages\", \"Financing_sub_cat\": \"Deferred Developer Fee\", \"Interest Rate\": null, \"Funding Type\": \"Construction Financing\", \"Project Type\": \"Special Needs\", \"Amount of Funds\": 827883.0, \"State\": \"California\"}, {\"Project Name\": \"West Cox Cottages\", \"Financing_sub_cat\": \"Local Grant\", \"Interest Rate\": \"6.250%\", \"Funding Type\": \"Permanent Financing\", \"Project Type\": \"Special Needs\", \"Amount of Funds\": 3150000.0, \"State\": \"California\"}, {\"Project Name\": \"West Cox Cottages\", \"Financing_sub_cat\": \"Local Grant\", \"Interest Rate\": \"4.000%\", \"Funding Type\": \"Permanent Financing\", \"Project Type\": \"Special Needs\", \"Amount of Funds\": 2850000.0, \"State\": \"California\"}, {\"Project Name\": \"West Cox Cottages\", \"Financing_sub_cat\": \"Deferred Developer Fee\", \"Interest Rate\": null, \"Funding Type\": \"Permanent Financing\", \"Project Type\": \"Special Needs\", \"Amount of Funds\": 6550.0, \"State\": \"California\"}, {\"Project Name\": \"West Cox Cottages\", \"Financing_sub_cat\": \"Bank Loan\", \"Interest Rate\": null, \"Funding Type\": \"Permanent Financing\", \"Project Type\": \"Special Needs\", \"Amount of Funds\": 128090.0, \"State\": \"California\"}, {\"Project Name\": \"Dutton Flats\", \"Financing_sub_cat\": \"Bank Loan\", \"Interest Rate\": \"5.00%\", \"Funding Type\": \"Construction Financing\", \"Project Type\": \"Large Family\", \"Amount of Funds\": 11360635.0, \"State\": \"California\"}, {\"Project Name\": \"Dutton Flats\", \"Financing_sub_cat\": \"Bank Loan\", \"Interest Rate\": null, \"Funding Type\": \"Construction Financing\", \"Project Type\": \"Large Family\", \"Amount of Funds\": 2361364.0, \"State\": \"California\"}, {\"Project Name\": \"Dutton Flats\", \"Financing_sub_cat\": null, \"Interest Rate\": null, \"Funding Type\": \"Construction Financing\", \"Project Type\": \"Large Family\", \"Amount of Funds\": 2173329.0, \"State\": \"California\"}, {\"Project Name\": \"Dutton Flats\", \"Financing_sub_cat\": \"Local Grant\", \"Interest Rate\": null, \"Funding Type\": \"Construction Financing\", \"Project Type\": \"Large Family\", \"Amount of Funds\": 612115.0, \"State\": \"California\"}, {\"Project Name\": \"Dutton Flats\", \"Financing_sub_cat\": \"Local Grant\", \"Interest Rate\": \"3.00%\", \"Funding Type\": \"Construction Financing\", \"Project Type\": \"Large Family\", \"Amount of Funds\": 3100000.0, \"State\": \"California\"}, {\"Project Name\": \"Dutton Flats\", \"Financing_sub_cat\": \"Bank Loan\", \"Interest Rate\": \"5.750%\", \"Funding Type\": \"Permanent Financing\", \"Project Type\": \"Large Family\", \"Amount of Funds\": 3580000.0, \"State\": \"California\"}, {\"Project Name\": \"Dutton Flats\", \"Financing_sub_cat\": \"Local Grant\", \"Interest Rate\": null, \"Funding Type\": \"Permanent Financing\", \"Project Type\": \"Large Family\", \"Amount of Funds\": 612115.0, \"State\": \"California\"}, {\"Project Name\": \"Dutton Flats\", \"Financing_sub_cat\": \"Deferred Developer Fee\", \"Interest Rate\": \"3.000%\", \"Funding Type\": \"Permanent Financing\", \"Project Type\": \"Large Family\", \"Amount of Funds\": 508509.0, \"State\": \"California\"}, {\"Project Name\": \"Dutton Flats\", \"Financing_sub_cat\": \"Local Grant\", \"Interest Rate\": \"3.000%\", \"Funding Type\": \"Permanent Financing\", \"Project Type\": \"Large Family\", \"Amount of Funds\": 3100000.0, \"State\": \"California\"}, {\"Project Name\": \"Isackson\\u2019s Multifamily Housing \", \"Financing_sub_cat\": \"Bank Loan\", \"Interest Rate\": \"4.75%\", \"Funding Type\": \"Construction Financing\", \"Project Type\": \"Large Family\", \"Amount of Funds\": 15000000.0, \"State\": \"California\"}, {\"Project Name\": \"Isackson\\u2019s Multifamily Housing \", \"Financing_sub_cat\": null, \"Interest Rate\": null, \"Funding Type\": \"Construction Financing\", \"Project Type\": \"Large Family\", \"Amount of Funds\": 2150000.0, \"State\": \"California\"}, {\"Project Name\": \"Isackson\\u2019s Multifamily Housing \", \"Financing_sub_cat\": \"Local Grant\", \"Interest Rate\": null, \"Funding Type\": \"Construction Financing\", \"Project Type\": \"Large Family\", \"Amount of Funds\": 1800000.0, \"State\": \"California\"}, {\"Project Name\": \"Isackson\\u2019s Multifamily Housing \", \"Financing_sub_cat\": \"Tax Credit Equity\", \"Interest Rate\": null, \"Funding Type\": \"Construction Financing\", \"Project Type\": \"Large Family\", \"Amount of Funds\": 2807007.0, \"State\": \"California\"}, {\"Project Name\": \"Isackson\\u2019s Multifamily Housing \", \"Financing_sub_cat\": \"Bank Loan\", \"Interest Rate\": \"5.750%\", \"Funding Type\": \"Permanent Financing\", \"Project Type\": \"Large Family\", \"Amount of Funds\": 900000.0, \"State\": \"California\"}, {\"Project Name\": \"Isackson\\u2019s Multifamily Housing \", \"Financing_sub_cat\": \"Local Grant\", \"Interest Rate\": null, \"Funding Type\": \"Permanent Financing\", \"Project Type\": \"Large Family\", \"Amount of Funds\": 1800000.0, \"State\": \"California\"}, {\"Project Name\": \"Isackson\\u2019s Multifamily Housing \", \"Financing_sub_cat\": \"Tax Credit Equity\", \"Interest Rate\": null, \"Funding Type\": \"Permanent Financing\", \"Project Type\": \"Large Family\", \"Amount of Funds\": 198000.0, \"State\": \"California\"}, {\"Project Name\": \"Isackson\\u2019s Multifamily Housing \", \"Financing_sub_cat\": null, \"Interest Rate\": \"0.420%\", \"Funding Type\": \"Permanent Financing\", \"Project Type\": \"Large Family\", \"Amount of Funds\": 2150000.0, \"State\": \"California\"}, {\"Project Name\": \"Isackson\\u2019s Multifamily Housing \", \"Financing_sub_cat\": null, \"Interest Rate\": null, \"Funding Type\": \"Permanent Financing\", \"Project Type\": \"Large Family\", \"Amount of Funds\": 209817.0, \"State\": \"California\"}, {\"Project Name\": \"Grass Valley Terrace\", \"Financing_sub_cat\": \"Bank Loan\", \"Interest Rate\": null, \"Funding Type\": \"Construction Financing\", \"Project Type\": \"Special Needs\", \"Amount of Funds\": 11000000.0, \"State\": \"California\"}, {\"Project Name\": \"Grass Valley Terrace\", \"Financing_sub_cat\": \"Federal Loan\", \"Interest Rate\": null, \"Funding Type\": \"Construction Financing\", \"Project Type\": \"Special Needs\", \"Amount of Funds\": 2288095.0, \"State\": \"California\"}, {\"Project Name\": \"Grass Valley Terrace\", \"Financing_sub_cat\": null, \"Interest Rate\": null, \"Funding Type\": \"Construction Financing\", \"Project Type\": \"Special Needs\", \"Amount of Funds\": 16496.0, \"State\": \"California\"}, {\"Project Name\": \"Grass Valley Terrace\", \"Financing_sub_cat\": \"Deferred Developer Fee\", \"Interest Rate\": null, \"Funding Type\": \"Construction Financing\", \"Project Type\": \"Special Needs\", \"Amount of Funds\": 890671.0, \"State\": \"California\"}, {\"Project Name\": \"Grass Valley Terrace\", \"Financing_sub_cat\": \"Tax Credit Equity\", \"Interest Rate\": null, \"Funding Type\": \"Construction Financing\", \"Project Type\": \"Special Needs\", \"Amount of Funds\": 1425069.0, \"State\": \"California\"}, {\"Project Name\": \"Grass Valley Terrace\", \"Financing_sub_cat\": \"Bank Loan\", \"Interest Rate\": \"4.310%\", \"Funding Type\": \"Permanent Financing\", \"Project Type\": \"Special Needs\", \"Amount of Funds\": 3300000.0, \"State\": \"California\"}, {\"Project Name\": \"Grass Valley Terrace\", \"Financing_sub_cat\": \"Federal Loan\", \"Interest Rate\": \"1.000%\", \"Funding Type\": \"Permanent Financing\", \"Project Type\": \"Special Needs\", \"Amount of Funds\": 2288095.0, \"State\": \"California\"}, {\"Project Name\": \"Grass Valley Terrace\", \"Financing_sub_cat\": null, \"Interest Rate\": null, \"Funding Type\": \"Permanent Financing\", \"Project Type\": \"Special Needs\", \"Amount of Funds\": 16496.0, \"State\": \"California\"}, {\"Project Name\": \"Grass Valley Terrace\", \"Financing_sub_cat\": \"Deferred Developer Fee\", \"Interest Rate\": null, \"Funding Type\": \"Permanent Financing\", \"Project Type\": \"Special Needs\", \"Amount of Funds\": 515278.0, \"State\": \"California\"}, {\"Project Name\": \"Martin Street Apartments II\", \"Financing_sub_cat\": \"Bank Loan\", \"Interest Rate\": \"4.00%\", \"Funding Type\": \"Construction Financing\", \"Project Type\": \"Large Family\", \"Amount of Funds\": 14421343.0, \"State\": \"California\"}, {\"Project Name\": \"Martin Street Apartments II\", \"Financing_sub_cat\": \"Local Grant\", \"Interest Rate\": \"0.00%\", \"Funding Type\": \"Construction Financing\", \"Project Type\": \"Large Family\", \"Amount of Funds\": 894351.0, \"State\": \"California\"}, {\"Project Name\": \"Martin Street Apartments II\", \"Financing_sub_cat\": \"Bank Loan\", \"Interest Rate\": \"0.00%\", \"Funding Type\": \"Construction Financing\", \"Project Type\": \"Large Family\", \"Amount of Funds\": 2200000.0, \"State\": \"California\"}, {\"Project Name\": \"Martin Street Apartments II\", \"Financing_sub_cat\": null, \"Interest Rate\": null, \"Funding Type\": \"Construction Financing\", \"Project Type\": \"Large Family\", \"Amount of Funds\": 218274.0, \"State\": \"California\"}, {\"Project Name\": \"Martin Street Apartments II\", \"Financing_sub_cat\": \"Bank Loan\", \"Interest Rate\": null, \"Funding Type\": \"Construction Financing\", \"Project Type\": \"Large Family\", \"Amount of Funds\": 3272404.0, \"State\": \"California\"}, {\"Project Name\": \"Martin Street Apartments II\", \"Financing_sub_cat\": \"Bank Loan\", \"Interest Rate\": \"6.000%\", \"Funding Type\": \"Permanent Financing\", \"Project Type\": \"Large Family\", \"Amount of Funds\": 750000.0, \"State\": \"California\"}, {\"Project Name\": \"Martin Street Apartments II\", \"Financing_sub_cat\": \"Federal Loan\", \"Interest Rate\": \"1.000%\", \"Funding Type\": \"Permanent Financing\", \"Project Type\": \"Large Family\", \"Amount of Funds\": 3000000.0, \"State\": \"California\"}, {\"Project Name\": \"Martin Street Apartments II\", \"Financing_sub_cat\": \"Local Grant\", \"Interest Rate\": \"2.000%\", \"Funding Type\": \"Permanent Financing\", \"Project Type\": \"Large Family\", \"Amount of Funds\": 894351.0, \"State\": \"California\"}, {\"Project Name\": \"Lone Oak Senior Apartments\", \"Financing_sub_cat\": \"Bank Loan\", \"Interest Rate\": \"4.00%\", \"Funding Type\": \"Construction Financing\", \"Project Type\": \"Seniors\", \"Amount of Funds\": 7487042.0, \"State\": \"California\"}, {\"Project Name\": \"Lone Oak Senior Apartments\", \"Financing_sub_cat\": \"Local Grant\", \"Interest Rate\": \"0.00%\", \"Funding Type\": \"Construction Financing\", \"Project Type\": \"Seniors\", \"Amount of Funds\": 304768.0, \"State\": \"California\"}, {\"Project Name\": \"Lone Oak Senior Apartments\", \"Financing_sub_cat\": \"Bank Loan\", \"Interest Rate\": \"0.00%\", \"Funding Type\": \"Construction Financing\", \"Project Type\": \"Seniors\", \"Amount of Funds\": 1284727.0, \"State\": \"California\"}, {\"Project Name\": \"Lone Oak Senior Apartments\", \"Financing_sub_cat\": null, \"Interest Rate\": null, \"Funding Type\": \"Construction Financing\", \"Project Type\": \"Seniors\", \"Amount of Funds\": 179090.0, \"State\": \"California\"}, {\"Project Name\": \"Lone Oak Senior Apartments\", \"Financing_sub_cat\": \"Bank Loan\", \"Interest Rate\": null, \"Funding Type\": \"Construction Financing\", \"Project Type\": \"Seniors\", \"Amount of Funds\": 1379715.0, \"State\": \"California\"}, {\"Project Name\": \"Lone Oak Senior Apartments\", \"Financing_sub_cat\": \"Bank Loan\", \"Interest Rate\": \"6.000%\", \"Funding Type\": \"Permanent Financing\", \"Project Type\": \"Seniors\", \"Amount of Funds\": 2350000.0, \"State\": \"California\"}, {\"Project Name\": \"Lone Oak Senior Apartments\", \"Financing_sub_cat\": \"Local Grant\", \"Interest Rate\": \"3.000%\", \"Funding Type\": \"Permanent Financing\", \"Project Type\": \"Seniors\", \"Amount of Funds\": 1082000.0, \"State\": \"California\"}, {\"Project Name\": \"Lone Oak Senior Apartments\", \"Financing_sub_cat\": \"Local Grant\", \"Interest Rate\": \"3.000%\", \"Funding Type\": \"Permanent Financing\", \"Project Type\": \"Seniors\", \"Amount of Funds\": 304768.0, \"State\": \"California\"}, {\"Project Name\": \"New Haven Court\", \"Financing_sub_cat\": \"Bank Loan\", \"Interest Rate\": \"4.00%\", \"Funding Type\": \"Construction Financing\", \"Project Type\": \"Special Needs\", \"Amount of Funds\": 5209342.0, \"State\": \"California\"}, {\"Project Name\": \"New Haven Court\", \"Financing_sub_cat\": \"Local Grant\", \"Interest Rate\": \"0.00%\", \"Funding Type\": \"Construction Financing\", \"Project Type\": \"Special Needs\", \"Amount of Funds\": 1547676.0, \"State\": \"California\"}, {\"Project Name\": \"New Haven Court\", \"Financing_sub_cat\": \"Local Grant\", \"Interest Rate\": \"0.00%\", \"Funding Type\": \"Construction Financing\", \"Project Type\": \"Special Needs\", \"Amount of Funds\": 200000.0, \"State\": \"California\"}, {\"Project Name\": \"New Haven Court\", \"Financing_sub_cat\": \"Local Grant\", \"Interest Rate\": \"0.00%\", \"Funding Type\": \"Construction Financing\", \"Project Type\": \"Special Needs\", \"Amount of Funds\": 800000.0, \"State\": \"California\"}, {\"Project Name\": \"New Haven Court\", \"Financing_sub_cat\": \"Local Grant\", \"Interest Rate\": \"0.00%\", \"Funding Type\": \"Construction Financing\", \"Project Type\": \"Special Needs\", \"Amount of Funds\": 690000.0, \"State\": \"California\"}, {\"Project Name\": \"New Haven Court\", \"Financing_sub_cat\": \"Local Grant\", \"Interest Rate\": \"0.00%\", \"Funding Type\": \"Construction Financing\", \"Project Type\": \"Special Needs\", \"Amount of Funds\": 560000.0, \"State\": \"California\"}, {\"Project Name\": \"New Haven Court\", \"Financing_sub_cat\": \"Local Grant\", \"Interest Rate\": \"0.00%\", \"Funding Type\": \"Construction Financing\", \"Project Type\": \"Special Needs\", \"Amount of Funds\": 18440.0, \"State\": \"California\"}, {\"Project Name\": \"New Haven Court\", \"Financing_sub_cat\": \"Local Grant\", \"Interest Rate\": \"0.00%\", \"Funding Type\": \"Construction Financing\", \"Project Type\": \"Special Needs\", \"Amount of Funds\": 103080.0, \"State\": \"California\"}, {\"Project Name\": \"New Haven Court\", \"Financing_sub_cat\": \"Local Grant\", \"Interest Rate\": \"0.00%\", \"Funding Type\": \"Construction Financing\", \"Project Type\": \"Special Needs\", \"Amount of Funds\": 54042.0, \"State\": \"California\"}, {\"Project Name\": \"New Haven Court\", \"Financing_sub_cat\": \"Bank Loan\", \"Interest Rate\": \"0.00%\", \"Funding Type\": \"Construction Financing\", \"Project Type\": \"Special Needs\", \"Amount of Funds\": 1578808.0, \"State\": \"California\"}, {\"Project Name\": \"New Haven Court\", \"Financing_sub_cat\": \"Local Grant\", \"Interest Rate\": null, \"Funding Type\": \"Construction Financing\", \"Project Type\": \"Special Needs\", \"Amount of Funds\": 781867.0, \"State\": \"California\"}, {\"Project Name\": \"New Haven Court\", \"Financing_sub_cat\": \"Bank Loan\", \"Interest Rate\": null, \"Funding Type\": \"Construction Financing\", \"Project Type\": \"Special Needs\", \"Amount of Funds\": 1618328.0, \"State\": \"California\"}, {\"Project Name\": \"New Haven Court\", \"Financing_sub_cat\": \"Local Grant\", \"Interest Rate\": \"3.000%\", \"Funding Type\": \"Permanent Financing\", \"Project Type\": \"Special Needs\", \"Amount of Funds\": 1096705.0, \"State\": \"California\"}, {\"Project Name\": \"New Haven Court\", \"Financing_sub_cat\": \"Local Grant\", \"Interest Rate\": \"3.000%\", \"Funding Type\": \"Permanent Financing\", \"Project Type\": \"Special Needs\", \"Amount of Funds\": 1547676.0, \"State\": \"California\"}, {\"Project Name\": \"New Haven Court\", \"Financing_sub_cat\": \"Local Grant\", \"Interest Rate\": \"3.000%\", \"Funding Type\": \"Permanent Financing\", \"Project Type\": \"Special Needs\", \"Amount of Funds\": 200000.0, \"State\": \"California\"}, {\"Project Name\": \"New Haven Court\", \"Financing_sub_cat\": \"Local Grant\", \"Interest Rate\": \"3.000%\", \"Funding Type\": \"Permanent Financing\", \"Project Type\": \"Special Needs\", \"Amount of Funds\": 800000.0, \"State\": \"California\"}, {\"Project Name\": \"New Haven Court\", \"Financing_sub_cat\": \"Local Grant\", \"Interest Rate\": \"3.000%\", \"Funding Type\": \"Permanent Financing\", \"Project Type\": \"Special Needs\", \"Amount of Funds\": 690000.0, \"State\": \"California\"}, {\"Project Name\": \"New Haven Court\", \"Financing_sub_cat\": \"Local Grant\", \"Interest Rate\": \"3.000%\", \"Funding Type\": \"Permanent Financing\", \"Project Type\": \"Special Needs\", \"Amount of Funds\": 560000.0, \"State\": \"California\"}, {\"Project Name\": \"New Haven Court\", \"Financing_sub_cat\": \"Local Grant\", \"Interest Rate\": \"3.000%\", \"Funding Type\": \"Permanent Financing\", \"Project Type\": \"Special Needs\", \"Amount of Funds\": 18440.0, \"State\": \"California\"}, {\"Project Name\": \"New Haven Court\", \"Financing_sub_cat\": \"Local Grant\", \"Interest Rate\": \"3.000%\", \"Funding Type\": \"Permanent Financing\", \"Project Type\": \"Special Needs\", \"Amount of Funds\": 103080.0, \"State\": \"California\"}, {\"Project Name\": \"New Haven Court\", \"Financing_sub_cat\": \"Local Grant\", \"Interest Rate\": \"3.000%\", \"Funding Type\": \"Permanent Financing\", \"Project Type\": \"Special Needs\", \"Amount of Funds\": 54042.0, \"State\": \"California\"}, {\"Project Name\": \"El Monte Metro\", \"Financing_sub_cat\": \"Bank Loan\", \"Interest Rate\": \"5.75%\", \"Funding Type\": \"Construction Financing\", \"Project Type\": \"Large Family\", \"Amount of Funds\": 12500000.0, \"State\": \"California\"}, {\"Project Name\": \"El Monte Metro\", \"Financing_sub_cat\": null, \"Interest Rate\": null, \"Funding Type\": \"Construction Financing\", \"Project Type\": \"Large Family\", \"Amount of Funds\": 1360062.0, \"State\": \"California\"}, {\"Project Name\": \"El Monte Metro\", \"Financing_sub_cat\": \"Local Grant\", \"Interest Rate\": null, \"Funding Type\": \"Construction Financing\", \"Project Type\": \"Large Family\", \"Amount of Funds\": 1489600.0, \"State\": \"California\"}, {\"Project Name\": \"El Monte Metro\", \"Financing_sub_cat\": \"Deferred Developer Fee\", \"Interest Rate\": null, \"Funding Type\": \"Construction Financing\", \"Project Type\": \"Large Family\", \"Amount of Funds\": 2110902.0, \"State\": \"California\"}, {\"Project Name\": \"El Monte Metro\", \"Financing_sub_cat\": \"Bank Loan\", \"Interest Rate\": \"6.500%\", \"Funding Type\": \"Permanent Financing\", \"Project Type\": \"Large Family\", \"Amount of Funds\": 1161274.0, \"State\": \"California\"}, {\"Project Name\": \"El Monte Metro\", \"Financing_sub_cat\": \"Local Grant\", \"Interest Rate\": null, \"Funding Type\": \"Permanent Financing\", \"Project Type\": \"Large Family\", \"Amount of Funds\": 1489600.0, \"State\": \"California\"}, {\"Project Name\": \"El Monte Metro\", \"Financing_sub_cat\": \"Local Grant\", \"Interest Rate\": null, \"Funding Type\": \"Permanent Financing\", \"Project Type\": \"Large Family\", \"Amount of Funds\": 600000.0, \"State\": \"California\"}, {\"Project Name\": \"El Monte Metro\", \"Financing_sub_cat\": \"Deferred Developer Fee\", \"Interest Rate\": null, \"Funding Type\": \"Permanent Financing\", \"Project Type\": \"Large Family\", \"Amount of Funds\": 609072.0, \"State\": \"California\"}]}}, {\"mode\": \"vega-lite\"});\n",
       "</script>"
      ],
      "text/plain": [
       "alt.Chart(...)"
      ]
     },
     "execution_count": 21,
     "metadata": {},
     "output_type": "execute_result"
    }
   ],
   "source": [
    "alt.Chart(cali_graph).mark_bar().encode(\n",
    "    x='Project Name',\n",
    "    y='Amount of Funds',\n",
    "    color='Financing_sub_cat',\n",
    "    tooltip=['Financing_sub_cat']\n",
    ")"
   ]
  },
  {
   "cell_type": "code",
   "execution_count": 22,
   "metadata": {},
   "outputs": [],
   "source": [
    "#prep virginia data for stacked bar chart \n",
    "virginia_financing[\"Amount of Funds\"].replace(regex=True, inplace=True, to_replace=r'[^0-9.\\-]', value=r'')#stip out nonnumeric charecters\n",
    "virginia_financing[\"Amount of Funds\"] = pd.to_numeric(virginia_financing[\"Amount of Funds\"], errors='coerce')\n",
    "virginia_graph = virginia_financing[california_financing[\"Amount of Funds\"] != \"\"]\n",
    "virginia_graph[\"Amount of Funds\"] = virginia_graph[\"Amount of Funds\"].astype(float)#altair wont render a stacked bar chart unless its a float\n"
   ]
  },
  {
   "cell_type": "code",
   "execution_count": 23,
   "metadata": {},
   "outputs": [
    {
     "data": {
      "text/html": [
       "\n",
       "<div id=\"altair-viz-bb888437fee74ac4918f731f5bb646e1\"></div>\n",
       "<script type=\"text/javascript\">\n",
       "  (function(spec, embedOpt){\n",
       "    const outputDiv = document.getElementById(\"altair-viz-bb888437fee74ac4918f731f5bb646e1\");\n",
       "    const paths = {\n",
       "      \"vega\": \"https://cdn.jsdelivr.net/npm//vega@5?noext\",\n",
       "      \"vega-lib\": \"https://cdn.jsdelivr.net/npm//vega-lib?noext\",\n",
       "      \"vega-lite\": \"https://cdn.jsdelivr.net/npm//vega-lite@4.0.2?noext\",\n",
       "      \"vega-embed\": \"https://cdn.jsdelivr.net/npm//vega-embed@6?noext\",\n",
       "    };\n",
       "\n",
       "    function loadScript(lib) {\n",
       "      return new Promise(function(resolve, reject) {\n",
       "        var s = document.createElement('script');\n",
       "        s.src = paths[lib];\n",
       "        s.async = true;\n",
       "        s.onload = () => resolve(paths[lib]);\n",
       "        s.onerror = () => reject(`Error loading script: ${paths[lib]}`);\n",
       "        document.getElementsByTagName(\"head\")[0].appendChild(s);\n",
       "      });\n",
       "    }\n",
       "\n",
       "    function showError(err) {\n",
       "      outputDiv.innerHTML = `<div class=\"error\" style=\"color:red;\">${err}</div>`;\n",
       "      throw err;\n",
       "    }\n",
       "\n",
       "    function displayChart(vegaEmbed) {\n",
       "      vegaEmbed(outputDiv, spec, embedOpt)\n",
       "        .catch(err => showError(`Javascript Error: ${err.message}<br>This usually means there's a typo in your chart specification. See the javascript console for the full traceback.`));\n",
       "    }\n",
       "\n",
       "    if(typeof define === \"function\" && define.amd) {\n",
       "      requirejs.config({paths});\n",
       "      require([\"vega-embed\"], displayChart, err => showError(`Error loading script: ${err.message}`));\n",
       "    } else if (typeof vegaEmbed === \"function\") {\n",
       "      displayChart(vegaEmbed);\n",
       "    } else {\n",
       "      loadScript(\"vega\")\n",
       "        .then(() => loadScript(\"vega-lite\"))\n",
       "        .then(() => loadScript(\"vega-embed\"))\n",
       "        .catch(showError)\n",
       "        .then(() => displayChart(vegaEmbed));\n",
       "    }\n",
       "  })({\"config\": {\"view\": {\"continuousWidth\": 400, \"continuousHeight\": 300}}, \"data\": {\"name\": \"data-00ca1c659753bc9e91703015b4edcfe9\"}, \"mark\": \"bar\", \"encoding\": {\"color\": {\"type\": \"nominal\", \"field\": \"Financing_sub_cat\"}, \"tooltip\": [{\"type\": \"nominal\", \"field\": \"Financing_sub_cat\"}], \"x\": {\"type\": \"nominal\", \"field\": \"Project Name\"}, \"y\": {\"type\": \"quantitative\", \"field\": \"Amount of Funds\"}}, \"$schema\": \"https://vega.github.io/schema/vega-lite/v4.0.2.json\", \"datasets\": {\"data-00ca1c659753bc9e91703015b4edcfe9\": [{\"Project Name\": \"Blairs-School\", \"Financing_sub_cat\": \"Bank Loan\", \"Funding Type\": \"Construction Financing\", \"Interest Rate\": null, \"Amount of Funds\": 6350000.0, \"State\": \"Virginia\"}, {\"Project Name\": \"Blairs-School\", \"Financing_sub_cat\": \"State Grant\", \"Funding Type\": \"Permanent Financing\", \"Interest Rate\": \"2.95%\", \"Amount of Funds\": 1000000.0, \"State\": \"Virginia\"}, {\"Project Name\": \"Blairs-School\", \"Financing_sub_cat\": \"Public Private Partnership\", \"Funding Type\": \"Permanent Financing\", \"Interest Rate\": \"6.50%\", \"Amount of Funds\": 450000.0, \"State\": \"Virginia\"}, {\"Project Name\": \"Blairs-School\", \"Financing_sub_cat\": \"Land Donation\", \"Funding Type\": \"Subsidized Financing\", \"Interest Rate\": null, \"Amount of Funds\": 530483.0, \"State\": \"Virginia\"}, {\"Project Name\": \"Fairlington-Presbyterian\", \"Financing_sub_cat\": \"Bank Loan\", \"Funding Type\": \"Permanent Financing\", \"Interest Rate\": \"4.23%\", \"Amount of Funds\": 9796000.0, \"State\": \"Virginia\"}, {\"Project Name\": \"Fairlington-Presbyterian\", \"Financing_sub_cat\": \"Local Grant\", \"Funding Type\": \"Permanent Financing\", \"Interest Rate\": \"1.00%\", \"Amount of Funds\": 7650000.0, \"State\": \"Virginia\"}, {\"Project Name\": \"Groom-School\", \"Financing_sub_cat\": \"Bank Loan\", \"Funding Type\": \"Construction Financing\", \"Interest Rate\": null, \"Amount of Funds\": 5000000.0, \"State\": \"Virginia\"}, {\"Project Name\": \"Groom-School\", \"Financing_sub_cat\": \"State Grant\", \"Funding Type\": \"Permanent Financing\", \"Interest Rate\": \"2.95%\", \"Amount of Funds\": 1200000.0, \"State\": \"Virginia\"}, {\"Project Name\": \"Groom-School\", \"Financing_sub_cat\": \"State Grant\", \"Funding Type\": \"Permanent Financing\", \"Interest Rate\": \"3.00%\", \"Amount of Funds\": 450000.0, \"State\": \"Virginia\"}, {\"Project Name\": \"Groom-School\", \"Financing_sub_cat\": \"Local Grant\", \"Funding Type\": \"Permanent Financing\", \"Interest Rate\": \"0.00%\", \"Amount of Funds\": 197500.0, \"State\": \"Virginia\"}, {\"Project Name\": \"Crescent-Halls\", \"Financing_sub_cat\": \"Other\", \"Funding Type\": \"Construction Financing\", \"Interest Rate\": null, \"Amount of Funds\": null, \"State\": \"Virginia\"}, {\"Project Name\": \"Crescent-Halls\", \"Financing_sub_cat\": \"State Grant\", \"Funding Type\": \"Permanent Financing\", \"Interest Rate\": \"0.50%\", \"Amount of Funds\": 3000000.0, \"State\": \"Virginia\"}, {\"Project Name\": \"Crescent-Halls\", \"Financing_sub_cat\": \"State Grant\", \"Funding Type\": \"Permanent Financing\", \"Interest Rate\": \"1.00%\", \"Amount of Funds\": 800000.0, \"State\": \"Virginia\"}, {\"Project Name\": \"Crescent-Halls\", \"Financing_sub_cat\": \"Federal Home Loan Bank\", \"Funding Type\": \"Permanent Financing\", \"Interest Rate\": \"0.00%\", \"Amount of Funds\": 500000.0, \"State\": \"Virginia\"}, {\"Project Name\": \"Crescent-Halls\", \"Financing_sub_cat\": \"Local Grant\", \"Funding Type\": \"Permanent Financing\", \"Interest Rate\": \"0.00%\", \"Amount of Funds\": 1875000.0, \"State\": \"Virginia\"}, {\"Project Name\": \"Crescent-Halls\", \"Financing_sub_cat\": \"Local Grant\", \"Funding Type\": \"Permanent Financing\", \"Interest Rate\": \"0.00%\", \"Amount of Funds\": 3575245.0, \"State\": \"Virginia\"}, {\"Project Name\": \"Senseny-Place\", \"Financing_sub_cat\": \"State Grant\", \"Funding Type\": \"Construction Financing\", \"Interest Rate\": null, \"Amount of Funds\": 3558904.0, \"State\": \"Virginia\"}, {\"Project Name\": \"Senseny-Place\", \"Financing_sub_cat\": \"State Grant\", \"Funding Type\": \"Permanent Financing\", \"Interest Rate\": \"5.00%\", \"Amount of Funds\": 1668904.0, \"State\": \"Virginia\"}, {\"Project Name\": \"Senseny-Place\", \"Financing_sub_cat\": \"State Grant\", \"Funding Type\": \"Permanent Financing\", \"Interest Rate\": \"2.95%\", \"Amount of Funds\": 1890000.0, \"State\": \"Virginia\"}, {\"Project Name\": \"Senseny-Place\", \"Financing_sub_cat\": \"State Grant\", \"Funding Type\": \"Permanent Financing\", \"Interest Rate\": \"1.00%\", \"Amount of Funds\": 700000.0, \"State\": \"Virginia\"}, {\"Project Name\": \"Post-West-Nine\", \"Financing_sub_cat\": \"Bank Loan\", \"Funding Type\": \"Construction Financing\", \"Interest Rate\": null, \"Amount of Funds\": 21335866.0, \"State\": \"Virginia\"}, {\"Project Name\": \"Post-West-Nine\", \"Financing_sub_cat\": \"State Grant\", \"Funding Type\": \"Permanent Financing\", \"Interest Rate\": \"4.52%\", \"Amount of Funds\": 9627187.0, \"State\": \"Virginia\"}, {\"Project Name\": \"Post-West-Nine\", \"Financing_sub_cat\": \"Local Grant\", \"Funding Type\": \"Permanent Financing\", \"Interest Rate\": \"1.00%\", \"Amount of Funds\": 5790000.0, \"State\": \"Virginia\"}, {\"Project Name\": \"Post-West-Nine\", \"Financing_sub_cat\": \"Local Grant\", \"Funding Type\": \"Permanent Financing\", \"Interest Rate\": \"3.75%\", \"Amount of Funds\": 2000000.0, \"State\": \"Virginia\"}, {\"Project Name\": \"Mt.-Sterling\", \"Financing_sub_cat\": \"Bank Loan\", \"Funding Type\": \"Construction Financing\", \"Interest Rate\": null, \"Amount of Funds\": 11685783.0, \"State\": \"Virginia\"}, {\"Project Name\": \"Mt.-Sterling\", \"Financing_sub_cat\": \"Federal Housing Credit Equity\", \"Funding Type\": \"Construction Financing\", \"Interest Rate\": null, \"Amount of Funds\": 919908.0, \"State\": \"Virginia\"}, {\"Project Name\": \"Mt.-Sterling\", \"Financing_sub_cat\": \"State Grant\", \"Funding Type\": \"Permanent Financing\", \"Interest Rate\": \"3.74%\", \"Amount of Funds\": 4996546.0, \"State\": \"Virginia\"}, {\"Project Name\": \"Mt.-Sterling\", \"Financing_sub_cat\": \"Local Grant\", \"Funding Type\": \"Permanent Financing\", \"Interest Rate\": \"2.75%\", \"Amount of Funds\": 2380000.0, \"State\": \"Virginia\"}, {\"Project Name\": \"Mt.-Sterling\", \"Financing_sub_cat\": \"Local Grant\", \"Funding Type\": \"Subsidized Financing\", \"Interest Rate\": null, \"Amount of Funds\": 65000.0, \"State\": \"Virginia\"}, {\"Project Name\": \"Lassiter-Courts\", \"Financing_sub_cat\": \"Bank Loan\", \"Funding Type\": \"Construction Financing\", \"Interest Rate\": null, \"Amount of Funds\": 5000000.0, \"State\": \"Virginia\"}, {\"Project Name\": \"Lassiter-Courts\", \"Financing_sub_cat\": \"State Grant\", \"Funding Type\": \"Permanent Financing\", \"Interest Rate\": \"1.50%\", \"Amount of Funds\": 1500000.0, \"State\": \"Virginia\"}, {\"Project Name\": \"Lassiter-Courts\", \"Financing_sub_cat\": \"State Grant\", \"Funding Type\": \"Permanent Financing\", \"Interest Rate\": \"1.50%\", \"Amount of Funds\": 800000.0, \"State\": \"Virginia\"}, {\"Project Name\": \"Lassiter-Courts\", \"Financing_sub_cat\": \"Local Grant\", \"Funding Type\": \"Permanent Financing\", \"Interest Rate\": \"0.00%\", \"Amount of Funds\": 300000.0, \"State\": \"Virginia\"}, {\"Project Name\": \"Lassiter-Courts\", \"Financing_sub_cat\": \"Local Grant\", \"Funding Type\": \"Permanent Financing\", \"Interest Rate\": \"0.00%\", \"Amount of Funds\": 600000.0, \"State\": \"Virginia\"}, {\"Project Name\": \"Lassiter-Courts\", \"Financing_sub_cat\": \"Local Grant\", \"Funding Type\": \"Permanent Financing\", \"Interest Rate\": \"0.00%\", \"Amount of Funds\": 1112703.0, \"State\": \"Virginia\"}, {\"Project Name\": \"Lassiter-Courts\", \"Financing_sub_cat\": \"Local Grant\", \"Funding Type\": \"Permanent Financing\", \"Interest Rate\": \"0.00%\", \"Amount of Funds\": 400000.0, \"State\": \"Virginia\"}, {\"Project Name\": \"Lassiter-Courts\", \"Financing_sub_cat\": \"Local Grant\", \"Funding Type\": \"Permanent Financing\", \"Interest Rate\": \"0.00%\", \"Amount of Funds\": 214785.0, \"State\": \"Virginia\"}, {\"Project Name\": \"Lassiter-Courts\", \"Financing_sub_cat\": \"Other\", \"Funding Type\": \"Subsidized Financing\", \"Interest Rate\": null, \"Amount of Funds\": null, \"State\": \"Virginia\"}, {\"Project Name\": \"Knightsbridge\", \"Financing_sub_cat\": \"Bank Loan\", \"Funding Type\": \"Permanent Financing\", \"Interest Rate\": \"4.21%\", \"Amount of Funds\": 4990000.0, \"State\": \"Virginia\"}, {\"Project Name\": \"Knightsbridge\", \"Financing_sub_cat\": \"Local Grant\", \"Funding Type\": \"Permanent Financing\", \"Interest Rate\": \"2.91%\", \"Amount of Funds\": 500000.0, \"State\": \"Virginia\"}, {\"Project Name\": \"Maury-River-Place\", \"Financing_sub_cat\": \"Other\", \"Funding Type\": \"Construction Financing\", \"Interest Rate\": null, \"Amount of Funds\": 3000000.0, \"State\": \"Virginia\"}, {\"Project Name\": \"Maury-River-Place\", \"Financing_sub_cat\": \"Federal Grant\", \"Funding Type\": \"Permanent Financing\", \"Interest Rate\": \"1.00%\", \"Amount of Funds\": 1212408.0, \"State\": \"Virginia\"}, {\"Project Name\": \"Maury-River-Place\", \"Financing_sub_cat\": \"State Grant\", \"Funding Type\": \"Permanent Financing\", \"Interest Rate\": \"2.95%\", \"Amount of Funds\": 800000.0, \"State\": \"Virginia\"}, {\"Project Name\": \"Maury-River-Place\", \"Financing_sub_cat\": \"State Grant\", \"Funding Type\": \"Permanent Financing\", \"Interest Rate\": \"5.50%\", \"Amount of Funds\": 225000.0, \"State\": \"Virginia\"}, {\"Project Name\": \"Market-Heights\", \"Financing_sub_cat\": \"State Grant\", \"Funding Type\": \"Permanent Financing\", \"Interest Rate\": \"6.03%\", \"Amount of Funds\": 2960000.0, \"State\": \"Virginia\"}, {\"Project Name\": \"Cool-Lane\", \"Financing_sub_cat\": \"Other\", \"Funding Type\": \"Construction Financing\", \"Interest Rate\": null, \"Amount of Funds\": 9000000.0, \"State\": \"Virginia\"}, {\"Project Name\": \"Cool-Lane\", \"Financing_sub_cat\": \"State Housing Credit Equity\", \"Funding Type\": \"Permanent Financing\", \"Interest Rate\": \"1.95%\", \"Amount of Funds\": 3675000.0, \"State\": \"Virginia\"}, {\"Project Name\": \"Cool-Lane\", \"Financing_sub_cat\": \"State Grant\", \"Funding Type\": \"Permanent Financing\", \"Interest Rate\": \"1.00%\", \"Amount of Funds\": 800000.0, \"State\": \"Virginia\"}, {\"Project Name\": \"Cool-Lane\", \"Financing_sub_cat\": \"State Grant\", \"Funding Type\": \"Permanent Financing\", \"Interest Rate\": \"1.00%\", \"Amount of Funds\": 800000.0, \"State\": \"Virginia\"}, {\"Project Name\": \"Cool-Lane\", \"Financing_sub_cat\": \"State Grant\", \"Funding Type\": \"Permanent Financing\", \"Interest Rate\": \"1.00%\", \"Amount of Funds\": 750000.0, \"State\": \"Virginia\"}, {\"Project Name\": \"Cool-Lane\", \"Financing_sub_cat\": \"Local Grant\", \"Funding Type\": \"Permanent Financing\", \"Interest Rate\": \"1.00%\", \"Amount of Funds\": 1000000.0, \"State\": \"Virginia\"}, {\"Project Name\": \"Cool-Lane\", \"Financing_sub_cat\": \"Local Grant\", \"Funding Type\": \"Permanent Financing\", \"Interest Rate\": \"1.00%\", \"Amount of Funds\": 600000.0, \"State\": \"Virginia\"}, {\"Project Name\": \"Cool-Lane\", \"Financing_sub_cat\": \"Local Grant\", \"Funding Type\": \"Permanent Financing\", \"Interest Rate\": \"1.00%\", \"Amount of Funds\": 250000.0, \"State\": \"Virginia\"}, {\"Project Name\": \"Cool-Lane\", \"Financing_sub_cat\": \"Bank Loan\", \"Funding Type\": \"Permanent Financing\", \"Interest Rate\": \"4.00%\", \"Amount of Funds\": 500000.0, \"State\": \"Virginia\"}, {\"Project Name\": \"Cool-Lane\", \"Financing_sub_cat\": \"Public Private Partnership\", \"Funding Type\": \"Permanent Financing\", \"Interest Rate\": \"4.00%\", \"Amount of Funds\": 300000.0, \"State\": \"Virginia\"}, {\"Project Name\": \"Cool-Lane\", \"Financing_sub_cat\": \"State Housing Credit Equity\", \"Funding Type\": \"Permanent Financing\", \"Interest Rate\": \"2.95%\", \"Amount of Funds\": 625000.0, \"State\": \"Virginia\"}, {\"Project Name\": \"Cool-Lane\", \"Financing_sub_cat\": \"Land Donation\", \"Funding Type\": \"Subsidized Financing\", \"Interest Rate\": null, \"Amount of Funds\": 2710255.0, \"State\": \"Virginia\"}, {\"Project Name\": \"Spratley-House\", \"Financing_sub_cat\": \"State Grant\", \"Funding Type\": \"Permanent Financing\", \"Interest Rate\": \"0.50%\", \"Amount of Funds\": 700000.0, \"State\": \"Virginia\"}, {\"Project Name\": \"Spratley-House\", \"Financing_sub_cat\": \"State Grant\", \"Funding Type\": \"Permanent Financing\", \"Interest Rate\": \"0.50%\", \"Amount of Funds\": 700000.0, \"State\": \"Virginia\"}, {\"Project Name\": \"Spratley-House\", \"Financing_sub_cat\": \"Local Grant\", \"Funding Type\": \"Permanent Financing\", \"Interest Rate\": \"0.00%\", \"Amount of Funds\": 1305000.0, \"State\": \"Virginia\"}, {\"Project Name\": \"Laurel-Ridge\", \"Financing_sub_cat\": \"State Grant\", \"Funding Type\": \"Permanent Financing\", \"Interest Rate\": \"5.75%\", \"Amount of Funds\": 1500000.0, \"State\": \"Virginia\"}, {\"Project Name\": \"Laurel-Ridge\", \"Financing_sub_cat\": \"State Grant\", \"Funding Type\": \"Permanent Financing\", \"Interest Rate\": \"2.95%\", \"Amount of Funds\": 1120000.0, \"State\": \"Virginia\"}, {\"Project Name\": \"Arrowbrook\", \"Financing_sub_cat\": \"Bank Loan\", \"Funding Type\": \"Construction Financing\", \"Interest Rate\": null, \"Amount of Funds\": 24700000.0, \"State\": \"Virginia\"}, {\"Project Name\": \"Arrowbrook\", \"Financing_sub_cat\": \"Bank Loan\", \"Funding Type\": \"Permanent Financing\", \"Interest Rate\": \"4.75%\", \"Amount of Funds\": 18200000.0, \"State\": \"Virginia\"}, {\"Project Name\": \"Arrowbrook\", \"Financing_sub_cat\": \"Other\", \"Funding Type\": \"Permanent Financing\", \"Interest Rate\": \"2.00%\", \"Amount of Funds\": 994000.0, \"State\": \"Virginia\"}, {\"Project Name\": \"Arrowbrook\", \"Financing_sub_cat\": \"Land Donation\", \"Funding Type\": \"Subsidized Financing\", \"Interest Rate\": null, \"Amount of Funds\": 8268000.0, \"State\": \"Virginia\"}, {\"Project Name\": \"Kilmarnock-Village\", \"Financing_sub_cat\": \"Federal Housing Credit Equity\", \"Funding Type\": \"Permanent Financing\", \"Interest Rate\": \"2.85%\", \"Amount of Funds\": 62000.0, \"State\": \"Virginia\"}, {\"Project Name\": \"Kilmarnock-Village\", \"Financing_sub_cat\": \"State Grant\", \"Funding Type\": \"Permanent Financing\", \"Interest Rate\": \"3.00%\", \"Amount of Funds\": 150000.0, \"State\": \"Virginia\"}, {\"Project Name\": \"Kilmarnock-Village\", \"Financing_sub_cat\": \"Federal Grant\", \"Funding Type\": \"Permanent Financing\", \"Interest Rate\": \"1.00%\", \"Amount of Funds\": 405179.0, \"State\": \"Virginia\"}, {\"Project Name\": \"Kilmarnock-Village\", \"Financing_sub_cat\": \"Federal Home Loan Bank\", \"Funding Type\": \"Permanent Financing\", \"Interest Rate\": \"0.00%\", \"Amount of Funds\": 300000.0, \"State\": \"Virginia\"}, {\"Project Name\": \"South-First-Street\", \"Financing_sub_cat\": \"Other\", \"Funding Type\": \"Construction Financing\", \"Interest Rate\": null, \"Amount of Funds\": null, \"State\": \"Virginia\"}, {\"Project Name\": \"South-First-Street\", \"Financing_sub_cat\": \"State Grant\", \"Funding Type\": \"Permanent Financing\", \"Interest Rate\": \"2.00%\", \"Amount of Funds\": 3000000.0, \"State\": \"Virginia\"}, {\"Project Name\": \"South-First-Street\", \"Financing_sub_cat\": \"State Grant\", \"Funding Type\": \"Permanent Financing\", \"Interest Rate\": \"1.00%\", \"Amount of Funds\": 401800.0, \"State\": \"Virginia\"}, {\"Project Name\": \"South-First-Street\", \"Financing_sub_cat\": \"Local Grant\", \"Funding Type\": \"Permanent Financing\", \"Interest Rate\": \"0.00%\", \"Amount of Funds\": 100000.0, \"State\": \"Virginia\"}, {\"Project Name\": \"South-First-Street\", \"Financing_sub_cat\": \"Local Grant\", \"Funding Type\": \"Permanent Financing\", \"Interest Rate\": \"0.00%\", \"Amount of Funds\": 1265000.0, \"State\": \"Virginia\"}, {\"Project Name\": \"South-First-Street\", \"Financing_sub_cat\": \"Local Grant\", \"Funding Type\": \"Permanent Financing\", \"Interest Rate\": \"0.00%\", \"Amount of Funds\": 1125000.0, \"State\": \"Virginia\"}, {\"Project Name\": \"Powhatan-Terrace\", \"Financing_sub_cat\": \"Other\", \"Funding Type\": \"Construction Financing\", \"Interest Rate\": null, \"Amount of Funds\": 4000000.0, \"State\": \"Virginia\"}, {\"Project Name\": \"Powhatan-Terrace\", \"Financing_sub_cat\": \"State Grant\", \"Funding Type\": \"Permanent Financing\", \"Interest Rate\": \"2.95%\", \"Amount of Funds\": 2000000.0, \"State\": \"Virginia\"}, {\"Project Name\": \"Powhatan-Terrace\", \"Financing_sub_cat\": \"State Grant\", \"Funding Type\": \"Permanent Financing\", \"Interest Rate\": \"1.00%\", \"Amount of Funds\": 700000.0, \"State\": \"Virginia\"}, {\"Project Name\": \"Powhatan-Terrace\", \"Financing_sub_cat\": \"Local Grant\", \"Funding Type\": \"Grants\", \"Interest Rate\": null, \"Amount of Funds\": 250000.0, \"State\": \"Virginia\"}, {\"Project Name\": \"Powhatan-Terrace\", \"Financing_sub_cat\": \"Federal Home Loan Bank\", \"Funding Type\": \"Subsidized Financing\", \"Interest Rate\": null, \"Amount of Funds\": 360000.0, \"State\": \"Virginia\"}, {\"Project Name\": \"Poplar-Creek\", \"Financing_sub_cat\": \"Other\", \"Funding Type\": \"Construction Financing\", \"Interest Rate\": null, \"Amount of Funds\": null, \"State\": \"Virginia\"}, {\"Project Name\": \"Poplar-Creek\", \"Financing_sub_cat\": \"State Grant\", \"Funding Type\": \"Permanent Financing\", \"Interest Rate\": \"1.95%\", \"Amount of Funds\": 158000.0, \"State\": \"Virginia\"}, {\"Project Name\": \"Poplar-Creek\", \"Financing_sub_cat\": \"State Grant\", \"Funding Type\": \"Permanent Financing\", \"Interest Rate\": \"0.50%\", \"Amount of Funds\": 700000.0, \"State\": \"Virginia\"}, {\"Project Name\": \"Poplar-Creek\", \"Financing_sub_cat\": \"Federal Home Loan Bank\", \"Funding Type\": \"Permanent Financing\", \"Interest Rate\": \"0.00%\", \"Amount of Funds\": 250000.0, \"State\": \"Virginia\"}, {\"Project Name\": \"Poplar-Creek\", \"Financing_sub_cat\": \"State Grant\", \"Funding Type\": \"Grants\", \"Interest Rate\": null, \"Amount of Funds\": 30000.0, \"State\": \"Virginia\"}, {\"Project Name\": \"Poplar-Creek\", \"Financing_sub_cat\": \"Land Donation\", \"Funding Type\": \"Subsidized Financing\", \"Interest Rate\": null, \"Amount of Funds\": 73600.0, \"State\": \"Virginia\"}, {\"Project Name\": \"Poplar-Creek\", \"Financing_sub_cat\": \"Federal Home Loan Bank\", \"Funding Type\": \"Subsidized Financing\", \"Interest Rate\": null, \"Amount of Funds\": 160000.0, \"State\": \"Virginia\"}, {\"Project Name\": \"Brook-Villas\", \"Financing_sub_cat\": \"Other\", \"Funding Type\": \"Construction Financing\", \"Interest Rate\": null, \"Amount of Funds\": 11000000.0, \"State\": \"Virginia\"}, {\"Project Name\": \"Brook-Villas\", \"Financing_sub_cat\": \"Other\", \"Funding Type\": \"Permanent Financing\", \"Interest Rate\": \"5.75%\", \"Amount of Funds\": 5950000.0, \"State\": \"Virginia\"}, {\"Project Name\": \"Cross-Creek\", \"Financing_sub_cat\": \"Bank Loan\", \"Funding Type\": \"Construction Financing\", \"Interest Rate\": null, \"Amount of Funds\": 1000000.0, \"State\": \"Virginia\"}, {\"Project Name\": \"Cross-Creek\", \"Financing_sub_cat\": \"Federal Grant\", \"Funding Type\": \"Permanent Financing\", \"Interest Rate\": \"1.00%\", \"Amount of Funds\": 660840.0, \"State\": \"Virginia\"}, {\"Project Name\": \"Cross-Creek\", \"Financing_sub_cat\": \"State Grant\", \"Funding Type\": \"Permanent Financing\", \"Interest Rate\": \"2.95%\", \"Amount of Funds\": 380000.0, \"State\": \"Virginia\"}, {\"Project Name\": \"Carlton-Views-III\", \"Financing_sub_cat\": \"Bank Loan\", \"Funding Type\": \"Construction Financing\", \"Interest Rate\": null, \"Amount of Funds\": 6500000.0, \"State\": \"Virginia\"}, {\"Project Name\": \"Carlton-Views-III\", \"Financing_sub_cat\": \"State Grant\", \"Funding Type\": \"Permanent Financing\", \"Interest Rate\": \"5.75%\", \"Amount of Funds\": 500000.0, \"State\": \"Virginia\"}, {\"Project Name\": \"Carlton-Views-III\", \"Financing_sub_cat\": \"State Grant\", \"Funding Type\": \"Permanent Financing\", \"Interest Rate\": \"2.95%\", \"Amount of Funds\": 900000.0, \"State\": \"Virginia\"}, {\"Project Name\": \"Carlton-Views-III\", \"Financing_sub_cat\": \"Public Private Partnership\", \"Funding Type\": \"Permanent Financing\", \"Interest Rate\": \"1.95%\", \"Amount of Funds\": 1440000.0, \"State\": \"Virginia\"}, {\"Project Name\": \"PABP\", \"Financing_sub_cat\": \"Other\", \"Funding Type\": \"Construction Financing\", \"Interest Rate\": null, \"Amount of Funds\": null, \"State\": \"Virginia\"}, {\"Project Name\": \"PABP\", \"Financing_sub_cat\": \"State Grant\", \"Funding Type\": \"Permanent Financing\", \"Interest Rate\": \"5.75%\", \"Amount of Funds\": 2500000.0, \"State\": \"Virginia\"}, {\"Project Name\": \"PABP\", \"Financing_sub_cat\": \"State Grant\", \"Funding Type\": \"Permanent Financing\", \"Interest Rate\": \"2.95%\", \"Amount of Funds\": 1400000.0, \"State\": \"Virginia\"}, {\"Project Name\": \"Daffodil-Gardens\", \"Financing_sub_cat\": \"Other\", \"Funding Type\": \"Construction Financing\", \"Interest Rate\": null, \"Amount of Funds\": 5000000.0, \"State\": \"Virginia\"}, {\"Project Name\": \"Daffodil-Gardens\", \"Financing_sub_cat\": \"State Grant\", \"Funding Type\": \"Permanent Financing\", \"Interest Rate\": \"1.50%\", \"Amount of Funds\": 1450000.0, \"State\": \"Virginia\"}, {\"Project Name\": \"Daffodil-Gardens\", \"Financing_sub_cat\": \"State Grant\", \"Funding Type\": \"Permanent Financing\", \"Interest Rate\": \"0.50%\", \"Amount of Funds\": 700000.0, \"State\": \"Virginia\"}, {\"Project Name\": \"Daffodil-Gardens\", \"Financing_sub_cat\": \"State Grant\", \"Funding Type\": \"Permanent Financing\", \"Interest Rate\": \"0.50%\", \"Amount of Funds\": 325000.0, \"State\": \"Virginia\"}, {\"Project Name\": \"Daffodil-Gardens\", \"Financing_sub_cat\": \"Federal Home Loan Bank\", \"Funding Type\": \"Permanent Financing\", \"Interest Rate\": \"0.00%\", \"Amount of Funds\": 160000.0, \"State\": \"Virginia\"}, {\"Project Name\": \"Daffodil-Gardens\", \"Financing_sub_cat\": \"Public Private Partnership\", \"Funding Type\": \"Grants\", \"Interest Rate\": null, \"Amount of Funds\": 500000.0, \"State\": \"Virginia\"}, {\"Project Name\": \"Daffodil-Gardens\", \"Financing_sub_cat\": \"Land Donation\", \"Funding Type\": \"Subsidized Financing\", \"Interest Rate\": null, \"Amount of Funds\": 196328.0, \"State\": \"Virginia\"}, {\"Project Name\": \"Friendship-Court\", \"Financing_sub_cat\": \"State Grant\", \"Funding Type\": \"Permanent Financing\", \"Interest Rate\": \"4.14%\", \"Amount of Funds\": 9196718.0, \"State\": \"Virginia\"}, {\"Project Name\": \"Friendship-Court\", \"Financing_sub_cat\": \"Local Grant\", \"Funding Type\": \"Permanent Financing\", \"Interest Rate\": null, \"Amount of Funds\": 5940000.0, \"State\": \"Virginia\"}, {\"Project Name\": \"Friendship-Court\", \"Financing_sub_cat\": \"Local Grant\", \"Funding Type\": \"Permanent Financing\", \"Interest Rate\": null, \"Amount of Funds\": 1000000.0, \"State\": \"Virginia\"}, {\"Project Name\": \"Holley-Point\", \"Financing_sub_cat\": \"Bank Loan\", \"Funding Type\": \"Construction Financing\", \"Interest Rate\": null, \"Amount of Funds\": 8200000.0, \"State\": \"Virginia\"}, {\"Project Name\": \"Holley-Point\", \"Financing_sub_cat\": \"Bank Loan\", \"Funding Type\": \"Permanent Financing\", \"Interest Rate\": \"6.75%\", \"Amount of Funds\": 2150000.0, \"State\": \"Virginia\"}, {\"Project Name\": \"Holley-Point\", \"Financing_sub_cat\": \"Bank Loan\", \"Funding Type\": \"Permanent Financing\", \"Interest Rate\": null, \"Amount of Funds\": 105000.0, \"State\": \"Virginia\"}, {\"Project Name\": \"Brady-Square\", \"Financing_sub_cat\": \"Bank Loan\", \"Funding Type\": \"Construction Financing\", \"Interest Rate\": null, \"Amount of Funds\": 10000000.0, \"State\": \"Virginia\"}, {\"Project Name\": \"Brady-Square\", \"Financing_sub_cat\": \"State Grant\", \"Funding Type\": \"Permanent Financing\", \"Interest Rate\": \"2.95%\", \"Amount of Funds\": 1320000.0, \"State\": \"Virginia\"}, {\"Project Name\": \"Brady-Square\", \"Financing_sub_cat\": \"Public Private Partnership\", \"Funding Type\": \"Permanent Financing\", \"Interest Rate\": \"5.50%\", \"Amount of Funds\": 2775000.0, \"State\": \"Virginia\"}, {\"Project Name\": null, \"Financing_sub_cat\": \"State Grant\", \"Funding Type\": \"Permanent Financing\", \"Interest Rate\": \"2.95%\", \"Amount of Funds\": 2000000.0, \"State\": \"Virginia\"}, {\"Project Name\": null, \"Financing_sub_cat\": \"State Grant\", \"Funding Type\": \"Permanent Financing\", \"Interest Rate\": \"5.50%\", \"Amount of Funds\": 1000000.0, \"State\": \"Virginia\"}, {\"Project Name\": null, \"Financing_sub_cat\": \"Bank Loan\", \"Funding Type\": \"Permanent Financing\", \"Interest Rate\": \"0%\", \"Amount of Funds\": 480000.0, \"State\": \"Virginia\"}, {\"Project Name\": null, \"Financing_sub_cat\": \"Federal Home Loan Bank\", \"Funding Type\": \"Permanent Financing\", \"Interest Rate\": \"0%\", \"Amount of Funds\": 686774.0, \"State\": \"Virginia\"}]}}, {\"mode\": \"vega-lite\"});\n",
       "</script>"
      ],
      "text/plain": [
       "alt.Chart(...)"
      ]
     },
     "execution_count": 23,
     "metadata": {},
     "output_type": "execute_result"
    }
   ],
   "source": [
    "alt.Chart(virginia_graph).mark_bar().encode(\n",
    "    x='Project Name',\n",
    "    y='Amount of Funds',\n",
    "    color='Financing_sub_cat',\n",
    "    tooltip=['Financing_sub_cat']\n",
    ")"
   ]
  },
  {
   "cell_type": "markdown",
   "metadata": {},
   "source": [
    "Want to break up into three groupings by number of funding sources, see if i can find differences between the groups.\n",
    "\n",
    "First want to cut to get optimal bin sizes "
   ]
  },
  {
   "cell_type": "code",
   "execution_count": 24,
   "metadata": {},
   "outputs": [],
   "source": [
    "financing_count[\"bins\"] = pd.qcut(financing_count[\"Financing_sub_cat\"],3,labels=[\"Low Number of Financing Sources\", \"Medium Number of Financing Sources\", \"High Number of Financing Sources\"])\n"
   ]
  },
  {
   "cell_type": "code",
   "execution_count": 25,
   "metadata": {},
   "outputs": [
    {
     "data": {
      "text/plain": [
       "Medium Number of Financing Sources    55\n",
       "Low Number of Financing Sources       53\n",
       "High Number of Financing Sources      39\n",
       "Name: bins, dtype: int64"
      ]
     },
     "execution_count": 25,
     "metadata": {},
     "output_type": "execute_result"
    }
   ],
   "source": [
    "#bins wont be same size cus of discrete number cuttoff, but this seems fine \n",
    "financing_count[\"bins\"].value_counts()"
   ]
  },
  {
   "cell_type": "code",
   "execution_count": 26,
   "metadata": {},
   "outputs": [],
   "source": [
    "financing_count = financing_count.rename(columns={\"Financing_sub_cat\":\"Project_Financing_Sources_Count\"})"
   ]
  },
  {
   "cell_type": "code",
   "execution_count": 27,
   "metadata": {},
   "outputs": [],
   "source": [
    "#merge the bin names onto the main dataset \n",
    "\n",
    "financing_count = financing_count.rename(columns={\"Financing_sub_cat\":\"Project_Financing_Sources_Count\"})\n",
    "source_count = financing.merge(financing_count, on=\"Project Name\")"
   ]
  },
  {
   "cell_type": "code",
   "execution_count": 28,
   "metadata": {},
   "outputs": [],
   "source": [
    "#filter to create seperate data frames for each bin \n",
    "low_source = source_count[source_count[\"bins\"] == \"Low Number of Financing Sources\"]\n",
    "medium_source = source_count[source_count[\"bins\"] == \"Medium Number of Financing Sources\"]\n",
    "high_source = source_count[source_count[\"bins\"] == \"High Number of Financing Sources\"]"
   ]
  },
  {
   "cell_type": "code",
   "execution_count": 29,
   "metadata": {},
   "outputs": [
    {
     "data": {
      "text/plain": [
       "Bank Loan                        76\n",
       "State Grant                      34\n",
       "Local Grant                      29\n",
       "Deferred Developer Fee           21\n",
       "Federal Housing Credit Equity    15\n",
       "State Housing Credit Equity      13\n",
       "Other                            10\n",
       "Federal Loan                      7\n",
       "Tax Credit                        4\n",
       "Federal Grant                     3\n",
       "Federal Home Loan Bank            3\n",
       "Public Private Partnership        3\n",
       "Federal Credit                    2\n",
       "Land Donation                     2\n",
       "Tax Credit Equity                 2\n",
       "State Funding                     1\n",
       "Name: Financing_sub_cat, dtype: int64"
      ]
     },
     "execution_count": 29,
     "metadata": {},
     "output_type": "execute_result"
    }
   ],
   "source": [
    "low_source[\"Financing_sub_cat\"].value_counts()"
   ]
  },
  {
   "cell_type": "code",
   "execution_count": 30,
   "metadata": {},
   "outputs": [
    {
     "data": {
      "text/plain": [
       "Bank Loan                        130\n",
       "Local Grant                       66\n",
       "Deferred Developer Fee            60\n",
       "State Housing Credit Equity       40\n",
       "Federal Housing Credit Equity     36\n",
       "Other                             35\n",
       "Tax Credit                        21\n",
       "Federal Loan                      11\n",
       "State Grant                        9\n",
       "Federal Credit                     8\n",
       "Federal Home Loan Bank             4\n",
       "Tax Credit Equity                  4\n",
       "State Credit                       3\n",
       "Land Donation                      2\n",
       "Federal Grant                      2\n",
       "Historic Tax Credit                1\n",
       "Public Private Partnership         1\n",
       "State Funding                      1\n",
       "Fee Waivers                        1\n",
       "Name: Financing_sub_cat, dtype: int64"
      ]
     },
     "execution_count": 30,
     "metadata": {},
     "output_type": "execute_result"
    }
   ],
   "source": [
    "medium_source[\"Financing_sub_cat\"].value_counts()"
   ]
  },
  {
   "cell_type": "code",
   "execution_count": 31,
   "metadata": {},
   "outputs": [
    {
     "data": {
      "text/plain": [
       "Local Grant                      121\n",
       "Bank Loan                        102\n",
       "Other                             81\n",
       "Deferred Developer Fee            72\n",
       "State Housing Credit Equity       32\n",
       "Tax Credit                        31\n",
       "Federal Housing Credit Equity     12\n",
       "State Grant                       11\n",
       "City Grant                         8\n",
       "Federal Credit                     8\n",
       "Fee Waivers                        8\n",
       "State Funding                      7\n",
       "Federal Home Loan Bank             6\n",
       "Public Private Partnership         3\n",
       "Historic Tax Credit                2\n",
       "Donated Land                       2\n",
       "Land Donation                      1\n",
       "Tax Credit Equity                  1\n",
       "Affordable Housing Trust           1\n",
       "Name: Financing_sub_cat, dtype: int64"
      ]
     },
     "execution_count": 31,
     "metadata": {},
     "output_type": "execute_result"
    }
   ],
   "source": [
    "high_source[\"Financing_sub_cat\"].value_counts()"
   ]
  },
  {
   "cell_type": "code",
   "execution_count": 32,
   "metadata": {},
   "outputs": [],
   "source": [
    "#make things floats that are strings \n",
    "source_count[\"Amount of Funds\"].replace(regex=True, inplace=True, to_replace=r'[^0-9.\\-]', value=r'')\n",
    "source_count[\"Amount of Funds\"] = pd.to_numeric(source_count[\"Amount of Funds\"], errors='coerce')\n",
    "source_count[\"Interest Rate\"].replace(regex=True, inplace=True, to_replace=r'[^0-9.\\-]', value=r'')\n",
    "source_count[\"Interest Rate\"] = pd.to_numeric(source_count[\"Interest Rate\"], errors='coerce')"
   ]
  },
  {
   "cell_type": "markdown",
   "metadata": {},
   "source": [
    "### What share of projects rely on deferred developer fee?"
   ]
  },
  {
   "cell_type": "markdown",
   "metadata": {},
   "source": [
    "Ill do this analysis by state "
   ]
  },
  {
   "cell_type": "code",
   "execution_count": 33,
   "metadata": {},
   "outputs": [
    {
     "data": {
      "text/plain": [
       "24"
      ]
     },
     "execution_count": 33,
     "metadata": {},
     "output_type": "execute_result"
    }
   ],
   "source": [
    "howmany_georgia = financing[financing[\"State\"]==\"Georgia\"][[\"Financing_sub_cat\",\"Project Name\"]].groupby(\"Project Name\").sum()\n",
    "len(howmany_georgia[howmany_georgia['Financing_sub_cat'].str.contains(\"Developer\")])"
   ]
  },
  {
   "cell_type": "markdown",
   "metadata": {},
   "source": [
    "24 out of thirty projects in Georgia have defered developer fees. "
   ]
  },
  {
   "cell_type": "code",
   "execution_count": 34,
   "metadata": {},
   "outputs": [
    {
     "data": {
      "text/plain": [
       "27"
      ]
     },
     "execution_count": 34,
     "metadata": {},
     "output_type": "execute_result"
    }
   ],
   "source": [
    "howmany_ohio = financing[financing[\"State\"]==\"Ohio\"][[\"Financing_sub_cat\",\"Project Name\"]].groupby(\"Project Name\").sum()\n",
    "len(howmany_ohio[howmany_ohio['Financing_sub_cat'].str.contains(\"Developer\")])"
   ]
  },
  {
   "cell_type": "markdown",
   "metadata": {},
   "source": [
    "27 out of 29 projects in ohio have deferred developer fees. "
   ]
  },
  {
   "cell_type": "code",
   "execution_count": 35,
   "metadata": {},
   "outputs": [
    {
     "data": {
      "text/plain": [
       "41"
      ]
     },
     "execution_count": 35,
     "metadata": {},
     "output_type": "execute_result"
    }
   ],
   "source": [
    "#NaNs were messing up the group by for california, need to drop them \n",
    "cali_def= financing[financing[\"State\"]==\"California\"][[\"Financing_sub_cat\",\"Project Name\"]]\n",
    "cali_def = cali_def.dropna()\n",
    "howmany_cali = cali_def.groupby(\"Project Name\").sum()\n",
    "\n",
    "len(howmany_cali[howmany_cali['Financing_sub_cat'].str.contains(\"Developer\",na=False)])"
   ]
  },
  {
   "cell_type": "markdown",
   "metadata": {},
   "source": [
    "41 out of 61 projects in California have deferred developer fees."
   ]
  },
  {
   "cell_type": "code",
   "execution_count": 36,
   "metadata": {},
   "outputs": [
    {
     "data": {
      "text/plain": [
       "0"
      ]
     },
     "execution_count": 36,
     "metadata": {},
     "output_type": "execute_result"
    }
   ],
   "source": [
    "howmany_virginia = financing[financing[\"State\"]==\"Virginia\"][[\"Financing_sub_cat\",\"Project Name\"]].groupby(\"Project Name\").sum()\n",
    "len(howmany_virginia[howmany_virginia['Financing_sub_cat'].str.contains(\"Developer\")])"
   ]
  },
  {
   "cell_type": "markdown",
   "metadata": {},
   "source": [
    "Virginia has no deffered dev fees "
   ]
  },
  {
   "cell_type": "markdown",
   "metadata": {},
   "source": [
    "### \"What are the typical amount for other forms of local government financing? (maybe more than just the mean – curious to see distribution).  I think the main question I want to answer is whether it is more typical to have one bigger local government grant, or is it more typical to have lots of smaller amounts. By geography\"\n"
   ]
  },
  {
   "cell_type": "code",
   "execution_count": 37,
   "metadata": {},
   "outputs": [],
   "source": [
    "locals_only = financing[financing[\"Financing_sub_cat\"] == 'Local Grant']"
   ]
  },
  {
   "cell_type": "code",
   "execution_count": 38,
   "metadata": {},
   "outputs": [],
   "source": [
    "#do some type casting \n",
    "locals_only[\"Amount of Funds\"].replace(regex=True, inplace=True, to_replace=r'[^0-9.\\-]', value=r'')#stip out nonnumeric charecters\n",
    "#ohio_financing[\"Amount of Funds\"] = ohio_financing[\"Amount of Funds\"].astype(int)\n",
    "locals_only[\"Amount of Funds\"] = pd.to_numeric(locals_only[\"Amount of Funds\"], errors='coerce')"
   ]
  },
  {
   "cell_type": "code",
   "execution_count": 39,
   "metadata": {},
   "outputs": [
    {
     "data": {
      "text/plain": [
       "2323618.4305555555"
      ]
     },
     "execution_count": 39,
     "metadata": {},
     "output_type": "execute_result"
    }
   ],
   "source": [
    "locals_only[\"Amount of Funds\"].mean()"
   ]
  },
  {
   "cell_type": "markdown",
   "metadata": {},
   "source": [
    "What types of projects (senior, family, special needs) have the greatest number/share of additional government funding?"
   ]
  },
  {
   "cell_type": "code",
   "execution_count": 40,
   "metadata": {},
   "outputs": [
    {
     "data": {
      "text/html": [
       "<div>\n",
       "<style scoped>\n",
       "    .dataframe tbody tr th:only-of-type {\n",
       "        vertical-align: middle;\n",
       "    }\n",
       "\n",
       "    .dataframe tbody tr th {\n",
       "        vertical-align: top;\n",
       "    }\n",
       "\n",
       "    .dataframe thead tr th {\n",
       "        text-align: left;\n",
       "    }\n",
       "\n",
       "    .dataframe thead tr:last-of-type th {\n",
       "        text-align: right;\n",
       "    }\n",
       "</style>\n",
       "<table border=\"1\" class=\"dataframe\">\n",
       "  <thead>\n",
       "    <tr>\n",
       "      <th></th>\n",
       "      <th colspan=\"8\" halign=\"left\">Gov_Grant</th>\n",
       "    </tr>\n",
       "    <tr>\n",
       "      <th></th>\n",
       "      <th>count</th>\n",
       "      <th>mean</th>\n",
       "      <th>std</th>\n",
       "      <th>min</th>\n",
       "      <th>25%</th>\n",
       "      <th>50%</th>\n",
       "      <th>75%</th>\n",
       "      <th>max</th>\n",
       "    </tr>\n",
       "    <tr>\n",
       "      <th>Project Type</th>\n",
       "      <th></th>\n",
       "      <th></th>\n",
       "      <th></th>\n",
       "      <th></th>\n",
       "      <th></th>\n",
       "      <th></th>\n",
       "      <th></th>\n",
       "      <th></th>\n",
       "    </tr>\n",
       "  </thead>\n",
       "  <tbody>\n",
       "    <tr>\n",
       "      <th>At-Risk</th>\n",
       "      <td>47.000</td>\n",
       "      <td>0.000</td>\n",
       "      <td>0.000</td>\n",
       "      <td>0.000</td>\n",
       "      <td>0.000</td>\n",
       "      <td>0.000</td>\n",
       "      <td>0.000</td>\n",
       "      <td>0.000</td>\n",
       "    </tr>\n",
       "    <tr>\n",
       "      <th>Family</th>\n",
       "      <td>635.000</td>\n",
       "      <td>0.184</td>\n",
       "      <td>0.388</td>\n",
       "      <td>0.000</td>\n",
       "      <td>0.000</td>\n",
       "      <td>0.000</td>\n",
       "      <td>0.000</td>\n",
       "      <td>1.000</td>\n",
       "    </tr>\n",
       "    <tr>\n",
       "      <th>Seniors</th>\n",
       "      <td>243.000</td>\n",
       "      <td>0.074</td>\n",
       "      <td>0.262</td>\n",
       "      <td>0.000</td>\n",
       "      <td>0.000</td>\n",
       "      <td>0.000</td>\n",
       "      <td>0.000</td>\n",
       "      <td>1.000</td>\n",
       "    </tr>\n",
       "    <tr>\n",
       "      <th>Service Enriched</th>\n",
       "      <td>35.000</td>\n",
       "      <td>0.114</td>\n",
       "      <td>0.323</td>\n",
       "      <td>0.000</td>\n",
       "      <td>0.000</td>\n",
       "      <td>0.000</td>\n",
       "      <td>0.000</td>\n",
       "      <td>1.000</td>\n",
       "    </tr>\n",
       "    <tr>\n",
       "      <th>Special Needs</th>\n",
       "      <td>152.000</td>\n",
       "      <td>0.500</td>\n",
       "      <td>0.502</td>\n",
       "      <td>0.000</td>\n",
       "      <td>0.000</td>\n",
       "      <td>0.500</td>\n",
       "      <td>1.000</td>\n",
       "      <td>1.000</td>\n",
       "    </tr>\n",
       "  </tbody>\n",
       "</table>\n",
       "</div>"
      ],
      "text/plain": [
       "                 Gov_Grant                                          \n",
       "                     count  mean   std   min   25%   50%   75%   max\n",
       "Project Type                                                        \n",
       "At-Risk             47.000 0.000 0.000 0.000 0.000 0.000 0.000 0.000\n",
       "Family             635.000 0.184 0.388 0.000 0.000 0.000 0.000 1.000\n",
       "Seniors            243.000 0.074 0.262 0.000 0.000 0.000 0.000 1.000\n",
       "Service Enriched    35.000 0.114 0.323 0.000 0.000 0.000 0.000 1.000\n",
       "Special Needs      152.000 0.500 0.502 0.000 0.000 0.500 1.000 1.000"
      ]
     },
     "execution_count": 40,
     "metadata": {},
     "output_type": "execute_result"
    }
   ],
   "source": [
    "financing[[\"Gov_Grant\",\"Project Type\",\"Project Name\"]].groupby(\"Project Type\").describe()"
   ]
  },
  {
   "cell_type": "code",
   "execution_count": 41,
   "metadata": {},
   "outputs": [
    {
     "data": {
      "text/html": [
       "<div>\n",
       "<style scoped>\n",
       "    .dataframe tbody tr th:only-of-type {\n",
       "        vertical-align: middle;\n",
       "    }\n",
       "\n",
       "    .dataframe tbody tr th {\n",
       "        vertical-align: top;\n",
       "    }\n",
       "\n",
       "    .dataframe thead tr th {\n",
       "        text-align: left;\n",
       "    }\n",
       "\n",
       "    .dataframe thead tr:last-of-type th {\n",
       "        text-align: right;\n",
       "    }\n",
       "</style>\n",
       "<table border=\"1\" class=\"dataframe\">\n",
       "  <thead>\n",
       "    <tr>\n",
       "      <th></th>\n",
       "      <th></th>\n",
       "      <th colspan=\"8\" halign=\"left\">Gov_Grant</th>\n",
       "    </tr>\n",
       "    <tr>\n",
       "      <th></th>\n",
       "      <th></th>\n",
       "      <th>count</th>\n",
       "      <th>mean</th>\n",
       "      <th>std</th>\n",
       "      <th>min</th>\n",
       "      <th>25%</th>\n",
       "      <th>50%</th>\n",
       "      <th>75%</th>\n",
       "      <th>max</th>\n",
       "    </tr>\n",
       "    <tr>\n",
       "      <th>State</th>\n",
       "      <th>Project Type</th>\n",
       "      <th></th>\n",
       "      <th></th>\n",
       "      <th></th>\n",
       "      <th></th>\n",
       "      <th></th>\n",
       "      <th></th>\n",
       "      <th></th>\n",
       "      <th></th>\n",
       "    </tr>\n",
       "  </thead>\n",
       "  <tbody>\n",
       "    <tr>\n",
       "      <th rowspan=\"4\" valign=\"top\">California</th>\n",
       "      <th>At-Risk</th>\n",
       "      <td>47.000</td>\n",
       "      <td>0.000</td>\n",
       "      <td>0.000</td>\n",
       "      <td>0.000</td>\n",
       "      <td>0.000</td>\n",
       "      <td>0.000</td>\n",
       "      <td>0.000</td>\n",
       "      <td>0.000</td>\n",
       "    </tr>\n",
       "    <tr>\n",
       "      <th>Family</th>\n",
       "      <td>315.000</td>\n",
       "      <td>0.359</td>\n",
       "      <td>0.480</td>\n",
       "      <td>0.000</td>\n",
       "      <td>0.000</td>\n",
       "      <td>0.000</td>\n",
       "      <td>1.000</td>\n",
       "      <td>1.000</td>\n",
       "    </tr>\n",
       "    <tr>\n",
       "      <th>Seniors</th>\n",
       "      <td>49.000</td>\n",
       "      <td>0.265</td>\n",
       "      <td>0.446</td>\n",
       "      <td>0.000</td>\n",
       "      <td>0.000</td>\n",
       "      <td>0.000</td>\n",
       "      <td>1.000</td>\n",
       "      <td>1.000</td>\n",
       "    </tr>\n",
       "    <tr>\n",
       "      <th>Special Needs</th>\n",
       "      <td>152.000</td>\n",
       "      <td>0.500</td>\n",
       "      <td>0.502</td>\n",
       "      <td>0.000</td>\n",
       "      <td>0.000</td>\n",
       "      <td>0.500</td>\n",
       "      <td>1.000</td>\n",
       "      <td>1.000</td>\n",
       "    </tr>\n",
       "    <tr>\n",
       "      <th rowspan=\"2\" valign=\"top\">Georgia</th>\n",
       "      <th>Family</th>\n",
       "      <td>140.000</td>\n",
       "      <td>0.014</td>\n",
       "      <td>0.119</td>\n",
       "      <td>0.000</td>\n",
       "      <td>0.000</td>\n",
       "      <td>0.000</td>\n",
       "      <td>0.000</td>\n",
       "      <td>1.000</td>\n",
       "    </tr>\n",
       "    <tr>\n",
       "      <th>Seniors</th>\n",
       "      <td>97.000</td>\n",
       "      <td>0.041</td>\n",
       "      <td>0.200</td>\n",
       "      <td>0.000</td>\n",
       "      <td>0.000</td>\n",
       "      <td>0.000</td>\n",
       "      <td>0.000</td>\n",
       "      <td>1.000</td>\n",
       "    </tr>\n",
       "    <tr>\n",
       "      <th rowspan=\"3\" valign=\"top\">Ohio</th>\n",
       "      <th>Family</th>\n",
       "      <td>180.000</td>\n",
       "      <td>0.011</td>\n",
       "      <td>0.105</td>\n",
       "      <td>0.000</td>\n",
       "      <td>0.000</td>\n",
       "      <td>0.000</td>\n",
       "      <td>0.000</td>\n",
       "      <td>1.000</td>\n",
       "    </tr>\n",
       "    <tr>\n",
       "      <th>Seniors</th>\n",
       "      <td>97.000</td>\n",
       "      <td>0.010</td>\n",
       "      <td>0.102</td>\n",
       "      <td>0.000</td>\n",
       "      <td>0.000</td>\n",
       "      <td>0.000</td>\n",
       "      <td>0.000</td>\n",
       "      <td>1.000</td>\n",
       "    </tr>\n",
       "    <tr>\n",
       "      <th>Service Enriched</th>\n",
       "      <td>35.000</td>\n",
       "      <td>0.114</td>\n",
       "      <td>0.323</td>\n",
       "      <td>0.000</td>\n",
       "      <td>0.000</td>\n",
       "      <td>0.000</td>\n",
       "      <td>0.000</td>\n",
       "      <td>1.000</td>\n",
       "    </tr>\n",
       "  </tbody>\n",
       "</table>\n",
       "</div>"
      ],
      "text/plain": [
       "                            Gov_Grant                                      \\\n",
       "                                count  mean   std   min   25%   50%   75%   \n",
       "State      Project Type                                                     \n",
       "California At-Risk             47.000 0.000 0.000 0.000 0.000 0.000 0.000   \n",
       "           Family             315.000 0.359 0.480 0.000 0.000 0.000 1.000   \n",
       "           Seniors             49.000 0.265 0.446 0.000 0.000 0.000 1.000   \n",
       "           Special Needs      152.000 0.500 0.502 0.000 0.000 0.500 1.000   \n",
       "Georgia    Family             140.000 0.014 0.119 0.000 0.000 0.000 0.000   \n",
       "           Seniors             97.000 0.041 0.200 0.000 0.000 0.000 0.000   \n",
       "Ohio       Family             180.000 0.011 0.105 0.000 0.000 0.000 0.000   \n",
       "           Seniors             97.000 0.010 0.102 0.000 0.000 0.000 0.000   \n",
       "           Service Enriched    35.000 0.114 0.323 0.000 0.000 0.000 0.000   \n",
       "\n",
       "                                   \n",
       "                              max  \n",
       "State      Project Type            \n",
       "California At-Risk          0.000  \n",
       "           Family           1.000  \n",
       "           Seniors          1.000  \n",
       "           Special Needs    1.000  \n",
       "Georgia    Family           1.000  \n",
       "           Seniors          1.000  \n",
       "Ohio       Family           1.000  \n",
       "           Seniors          1.000  \n",
       "           Service Enriched 1.000  "
      ]
     },
     "execution_count": 41,
     "metadata": {},
     "output_type": "execute_result"
    }
   ],
   "source": [
    "financing[[\"Gov_Grant\",\"Project Type\",\"Project Name\",\"State\"]].groupby([\"State\",\"Project Type\"]).describe()"
   ]
  },
  {
   "cell_type": "markdown",
   "metadata": {},
   "source": [
    "Average amount of a “Local Grant” by state:"
   ]
  },
  {
   "cell_type": "code",
   "execution_count": 42,
   "metadata": {},
   "outputs": [
    {
     "data": {
      "text/html": [
       "<div>\n",
       "<style scoped>\n",
       "    .dataframe tbody tr th:only-of-type {\n",
       "        vertical-align: middle;\n",
       "    }\n",
       "\n",
       "    .dataframe tbody tr th {\n",
       "        vertical-align: top;\n",
       "    }\n",
       "\n",
       "    .dataframe thead th {\n",
       "        text-align: right;\n",
       "    }\n",
       "</style>\n",
       "<table border=\"1\" class=\"dataframe\">\n",
       "  <thead>\n",
       "    <tr style=\"text-align: right;\">\n",
       "      <th></th>\n",
       "      <th>Amount of Funds</th>\n",
       "    </tr>\n",
       "    <tr>\n",
       "      <th>State</th>\n",
       "      <th></th>\n",
       "    </tr>\n",
       "  </thead>\n",
       "  <tbody>\n",
       "    <tr>\n",
       "      <th>California</th>\n",
       "      <td>2529526.785</td>\n",
       "    </tr>\n",
       "    <tr>\n",
       "      <th>Georgia</th>\n",
       "      <td>230000.000</td>\n",
       "    </tr>\n",
       "    <tr>\n",
       "      <th>Ohio</th>\n",
       "      <td>520285.714</td>\n",
       "    </tr>\n",
       "    <tr>\n",
       "      <th>Virginia</th>\n",
       "      <td>1645634.708</td>\n",
       "    </tr>\n",
       "  </tbody>\n",
       "</table>\n",
       "</div>"
      ],
      "text/plain": [
       "            Amount of Funds\n",
       "State                      \n",
       "California      2529526.785\n",
       "Georgia          230000.000\n",
       "Ohio             520285.714\n",
       "Virginia        1645634.708"
      ]
     },
     "execution_count": 42,
     "metadata": {},
     "output_type": "execute_result"
    }
   ],
   "source": [
    "locals_only[[\"Amount of Funds\",\"State\"]].groupby(\"State\").mean()"
   ]
  },
  {
   "cell_type": "markdown",
   "metadata": {},
   "source": [
    "### What are the typical interest rates for bank loans? (maybe more than just the mean – curious to see distribution)\n",
    "Construction v. permanent financing?\n",
    "Across project types?\n",
    "By geographies (I’m especially interested if CA cities, Atlanta, other big cities have lower interest rates on average compared to other places, due to CRA)\n"
   ]
  },
  {
   "cell_type": "code",
   "execution_count": 43,
   "metadata": {},
   "outputs": [
    {
     "data": {
      "text/plain": [
       "count   512.000\n",
       "mean      3.603\n",
       "std      10.023\n",
       "min       0.000\n",
       "25%       1.000\n",
       "50%       3.000\n",
       "75%       5.231\n",
       "max     225.000\n",
       "Name: Interest Rate, dtype: float64"
      ]
     },
     "execution_count": 43,
     "metadata": {},
     "output_type": "execute_result"
    }
   ],
   "source": [
    "financing = financing[financing[\"Interest Rate\"] != 225]#would have to imagine that the 225 figure is incorrect, drop\n",
    "financing[\"Interest Rate\"].replace(regex=True, inplace=True, to_replace=r'[^0-9.\\-]', value=r'')\n",
    "#overall distribution of interest rates \n",
    "financing[\"Interest Rate\"] = pd.to_numeric(financing[\"Interest Rate\"], errors='coerce')\n",
    "\n",
    "financing[\"Interest Rate\"].describe()"
   ]
  },
  {
   "cell_type": "markdown",
   "metadata": {},
   "source": [
    "Average interest rates are notably higher in Georgia than in Virginia or California (Ohio does not report). Data is thin in that Virginia did not report interest rate for construction financing so can't compare, but construction financing is significantly more expensive in Georgia and Slightly more expensive in California and permenant financing in California and Georgia. "
   ]
  },
  {
   "cell_type": "code",
   "execution_count": 44,
   "metadata": {},
   "outputs": [],
   "source": [
    "#drop zero percent interest rates \n",
    "pos_interest_financing = financing[financing[\"Interest Rate\"] != 0]"
   ]
  },
  {
   "cell_type": "code",
   "execution_count": 45,
   "metadata": {},
   "outputs": [],
   "source": [
    "pos_interest_financing = pos_interest_financing[pos_interest_financing[\"Project Type\"]!=\"Service Enriched\"]#there are no interest bearing loans in this category \n",
    "pos_interest_financing = pos_interest_financing[pos_interest_financing[\"Interest Rate\"] < 8] #this drops exaclty one outlier "
   ]
  },
  {
   "cell_type": "code",
   "execution_count": 46,
   "metadata": {},
   "outputs": [
    {
     "data": {
      "text/html": [
       "<div>\n",
       "<style scoped>\n",
       "    .dataframe tbody tr th:only-of-type {\n",
       "        vertical-align: middle;\n",
       "    }\n",
       "\n",
       "    .dataframe tbody tr th {\n",
       "        vertical-align: top;\n",
       "    }\n",
       "\n",
       "    .dataframe thead tr th {\n",
       "        text-align: left;\n",
       "    }\n",
       "\n",
       "    .dataframe thead tr:last-of-type th {\n",
       "        text-align: right;\n",
       "    }\n",
       "</style>\n",
       "<table border=\"1\" class=\"dataframe\">\n",
       "  <thead>\n",
       "    <tr>\n",
       "      <th></th>\n",
       "      <th colspan=\"8\" halign=\"left\">Interest Rate</th>\n",
       "    </tr>\n",
       "    <tr>\n",
       "      <th></th>\n",
       "      <th>count</th>\n",
       "      <th>mean</th>\n",
       "      <th>std</th>\n",
       "      <th>min</th>\n",
       "      <th>25%</th>\n",
       "      <th>50%</th>\n",
       "      <th>75%</th>\n",
       "      <th>max</th>\n",
       "    </tr>\n",
       "    <tr>\n",
       "      <th>Project Type</th>\n",
       "      <th></th>\n",
       "      <th></th>\n",
       "      <th></th>\n",
       "      <th></th>\n",
       "      <th></th>\n",
       "      <th></th>\n",
       "      <th></th>\n",
       "      <th></th>\n",
       "    </tr>\n",
       "  </thead>\n",
       "  <tbody>\n",
       "    <tr>\n",
       "      <th>At-Risk</th>\n",
       "      <td>26.000</td>\n",
       "      <td>3.244</td>\n",
       "      <td>2.164</td>\n",
       "      <td>1.000</td>\n",
       "      <td>1.000</td>\n",
       "      <td>4.350</td>\n",
       "      <td>5.350</td>\n",
       "      <td>6.000</td>\n",
       "    </tr>\n",
       "    <tr>\n",
       "      <th>Family</th>\n",
       "      <td>200.000</td>\n",
       "      <td>4.092</td>\n",
       "      <td>1.625</td>\n",
       "      <td>0.420</td>\n",
       "      <td>3.000</td>\n",
       "      <td>4.000</td>\n",
       "      <td>5.653</td>\n",
       "      <td>7.750</td>\n",
       "    </tr>\n",
       "    <tr>\n",
       "      <th>Seniors</th>\n",
       "      <td>48.000</td>\n",
       "      <td>4.145</td>\n",
       "      <td>1.906</td>\n",
       "      <td>1.000</td>\n",
       "      <td>2.938</td>\n",
       "      <td>4.812</td>\n",
       "      <td>5.835</td>\n",
       "      <td>6.500</td>\n",
       "    </tr>\n",
       "    <tr>\n",
       "      <th>Special Needs</th>\n",
       "      <td>89.000</td>\n",
       "      <td>3.672</td>\n",
       "      <td>1.155</td>\n",
       "      <td>1.000</td>\n",
       "      <td>3.000</td>\n",
       "      <td>3.000</td>\n",
       "      <td>4.000</td>\n",
       "      <td>6.250</td>\n",
       "    </tr>\n",
       "  </tbody>\n",
       "</table>\n",
       "</div>"
      ],
      "text/plain": [
       "              Interest Rate                                          \n",
       "                      count  mean   std   min   25%   50%   75%   max\n",
       "Project Type                                                         \n",
       "At-Risk              26.000 3.244 2.164 1.000 1.000 4.350 5.350 6.000\n",
       "Family              200.000 4.092 1.625 0.420 3.000 4.000 5.653 7.750\n",
       "Seniors              48.000 4.145 1.906 1.000 2.938 4.812 5.835 6.500\n",
       "Special Needs        89.000 3.672 1.155 1.000 3.000 3.000 4.000 6.250"
      ]
     },
     "execution_count": 46,
     "metadata": {},
     "output_type": "execute_result"
    }
   ],
   "source": [
    "pos_interest_financing[[\"Project Type\",\"Interest Rate\"]].groupby([\"Project Type\"]).describe()"
   ]
  },
  {
   "cell_type": "code",
   "execution_count": 47,
   "metadata": {},
   "outputs": [
    {
     "data": {
      "text/html": [
       "<div>\n",
       "<style scoped>\n",
       "    .dataframe tbody tr th:only-of-type {\n",
       "        vertical-align: middle;\n",
       "    }\n",
       "\n",
       "    .dataframe tbody tr th {\n",
       "        vertical-align: top;\n",
       "    }\n",
       "\n",
       "    .dataframe thead tr th {\n",
       "        text-align: left;\n",
       "    }\n",
       "\n",
       "    .dataframe thead tr:last-of-type th {\n",
       "        text-align: right;\n",
       "    }\n",
       "</style>\n",
       "<table border=\"1\" class=\"dataframe\">\n",
       "  <thead>\n",
       "    <tr>\n",
       "      <th></th>\n",
       "      <th></th>\n",
       "      <th colspan=\"8\" halign=\"left\">Interest Rate</th>\n",
       "    </tr>\n",
       "    <tr>\n",
       "      <th></th>\n",
       "      <th></th>\n",
       "      <th>count</th>\n",
       "      <th>mean</th>\n",
       "      <th>std</th>\n",
       "      <th>min</th>\n",
       "      <th>25%</th>\n",
       "      <th>50%</th>\n",
       "      <th>75%</th>\n",
       "      <th>max</th>\n",
       "    </tr>\n",
       "    <tr>\n",
       "      <th>State</th>\n",
       "      <th>Funding Type</th>\n",
       "      <th></th>\n",
       "      <th></th>\n",
       "      <th></th>\n",
       "      <th></th>\n",
       "      <th></th>\n",
       "      <th></th>\n",
       "      <th></th>\n",
       "      <th></th>\n",
       "    </tr>\n",
       "  </thead>\n",
       "  <tbody>\n",
       "    <tr>\n",
       "      <th rowspan=\"2\" valign=\"top\">California</th>\n",
       "      <th>Construction Financing</th>\n",
       "      <td>133.000</td>\n",
       "      <td>3.849</td>\n",
       "      <td>1.440</td>\n",
       "      <td>1.000</td>\n",
       "      <td>3.000</td>\n",
       "      <td>4.000</td>\n",
       "      <td>5.020</td>\n",
       "      <td>6.250</td>\n",
       "    </tr>\n",
       "    <tr>\n",
       "      <th>Permanent Financing</th>\n",
       "      <td>164.000</td>\n",
       "      <td>3.777</td>\n",
       "      <td>1.578</td>\n",
       "      <td>0.420</td>\n",
       "      <td>3.000</td>\n",
       "      <td>3.000</td>\n",
       "      <td>5.500</td>\n",
       "      <td>6.500</td>\n",
       "    </tr>\n",
       "    <tr>\n",
       "      <th rowspan=\"2\" valign=\"top\">Georgia</th>\n",
       "      <th>Construction Financing</th>\n",
       "      <td>34.000</td>\n",
       "      <td>5.283</td>\n",
       "      <td>1.296</td>\n",
       "      <td>2.000</td>\n",
       "      <td>5.048</td>\n",
       "      <td>5.500</td>\n",
       "      <td>6.000</td>\n",
       "      <td>7.750</td>\n",
       "    </tr>\n",
       "    <tr>\n",
       "      <th>Permanent Financing</th>\n",
       "      <td>32.000</td>\n",
       "      <td>3.671</td>\n",
       "      <td>2.216</td>\n",
       "      <td>1.000</td>\n",
       "      <td>1.000</td>\n",
       "      <td>3.000</td>\n",
       "      <td>5.625</td>\n",
       "      <td>7.000</td>\n",
       "    </tr>\n",
       "    <tr>\n",
       "      <th>Virginia</th>\n",
       "      <th>Permanent Financing</th>\n",
       "      <td>66.000</td>\n",
       "      <td>2.778</td>\n",
       "      <td>1.788</td>\n",
       "      <td>0.500</td>\n",
       "      <td>1.000</td>\n",
       "      <td>2.950</td>\n",
       "      <td>4.000</td>\n",
       "      <td>6.750</td>\n",
       "    </tr>\n",
       "  </tbody>\n",
       "</table>\n",
       "</div>"
      ],
      "text/plain": [
       "                                  Interest Rate                                \\\n",
       "                                          count  mean   std   min   25%   50%   \n",
       "State      Funding Type                                                         \n",
       "California Construction Financing       133.000 3.849 1.440 1.000 3.000 4.000   \n",
       "           Permanent Financing          164.000 3.777 1.578 0.420 3.000 3.000   \n",
       "Georgia    Construction Financing        34.000 5.283 1.296 2.000 5.048 5.500   \n",
       "           Permanent Financing           32.000 3.671 2.216 1.000 1.000 3.000   \n",
       "Virginia   Permanent Financing           66.000 2.778 1.788 0.500 1.000 2.950   \n",
       "\n",
       "                                               \n",
       "                                    75%   max  \n",
       "State      Funding Type                        \n",
       "California Construction Financing 5.020 6.250  \n",
       "           Permanent Financing    5.500 6.500  \n",
       "Georgia    Construction Financing 6.000 7.750  \n",
       "           Permanent Financing    5.625 7.000  \n",
       "Virginia   Permanent Financing    4.000 6.750  "
      ]
     },
     "execution_count": 47,
     "metadata": {},
     "output_type": "execute_result"
    }
   ],
   "source": [
    "pos_interest_financing[[\"State\",\"Interest Rate\",\"Funding Type\"]].groupby([\"State\",\"Funding Type\"]).describe()"
   ]
  },
  {
   "cell_type": "markdown",
   "metadata": {},
   "source": [
    "Interest rates across project types"
   ]
  },
  {
   "cell_type": "code",
   "execution_count": 48,
   "metadata": {},
   "outputs": [],
   "source": [
    "pos_interest_financing[\"Interest Rate\"].replace(regex=True, inplace=True, to_replace=r'[^0-9.\\-]', value=r'')\n",
    "#overall distribution of interest rates \n",
    "pos_interest_financing[\"Interest Rate\"] = pd.to_numeric(pos_interest_financing[\"Interest Rate\"], errors='coerce')\n",
    "#standardize project type names across states\n",
    "pos_interest_financing = pos_interest_financing.replace({\"Elderly\": \"Seniors\", \"HFOP\": \"Seniors\",\"Families\":\"Family\",\"Large Family\":\"Family\"})"
   ]
  },
  {
   "cell_type": "code",
   "execution_count": 49,
   "metadata": {},
   "outputs": [
    {
     "data": {
      "text/html": [
       "<div>\n",
       "<style scoped>\n",
       "    .dataframe tbody tr th:only-of-type {\n",
       "        vertical-align: middle;\n",
       "    }\n",
       "\n",
       "    .dataframe tbody tr th {\n",
       "        vertical-align: top;\n",
       "    }\n",
       "\n",
       "    .dataframe thead tr th {\n",
       "        text-align: left;\n",
       "    }\n",
       "\n",
       "    .dataframe thead tr:last-of-type th {\n",
       "        text-align: right;\n",
       "    }\n",
       "</style>\n",
       "<table border=\"1\" class=\"dataframe\">\n",
       "  <thead>\n",
       "    <tr>\n",
       "      <th></th>\n",
       "      <th colspan=\"8\" halign=\"left\">Interest Rate</th>\n",
       "    </tr>\n",
       "    <tr>\n",
       "      <th></th>\n",
       "      <th>count</th>\n",
       "      <th>mean</th>\n",
       "      <th>std</th>\n",
       "      <th>min</th>\n",
       "      <th>25%</th>\n",
       "      <th>50%</th>\n",
       "      <th>75%</th>\n",
       "      <th>max</th>\n",
       "    </tr>\n",
       "    <tr>\n",
       "      <th>Project Type</th>\n",
       "      <th></th>\n",
       "      <th></th>\n",
       "      <th></th>\n",
       "      <th></th>\n",
       "      <th></th>\n",
       "      <th></th>\n",
       "      <th></th>\n",
       "      <th></th>\n",
       "    </tr>\n",
       "  </thead>\n",
       "  <tbody>\n",
       "    <tr>\n",
       "      <th>At-Risk</th>\n",
       "      <td>26.000</td>\n",
       "      <td>3.244</td>\n",
       "      <td>2.164</td>\n",
       "      <td>1.000</td>\n",
       "      <td>1.000</td>\n",
       "      <td>4.350</td>\n",
       "      <td>5.350</td>\n",
       "      <td>6.000</td>\n",
       "    </tr>\n",
       "    <tr>\n",
       "      <th>Family</th>\n",
       "      <td>200.000</td>\n",
       "      <td>4.092</td>\n",
       "      <td>1.625</td>\n",
       "      <td>0.420</td>\n",
       "      <td>3.000</td>\n",
       "      <td>4.000</td>\n",
       "      <td>5.653</td>\n",
       "      <td>7.750</td>\n",
       "    </tr>\n",
       "    <tr>\n",
       "      <th>Seniors</th>\n",
       "      <td>48.000</td>\n",
       "      <td>4.145</td>\n",
       "      <td>1.906</td>\n",
       "      <td>1.000</td>\n",
       "      <td>2.938</td>\n",
       "      <td>4.812</td>\n",
       "      <td>5.835</td>\n",
       "      <td>6.500</td>\n",
       "    </tr>\n",
       "    <tr>\n",
       "      <th>Special Needs</th>\n",
       "      <td>89.000</td>\n",
       "      <td>3.672</td>\n",
       "      <td>1.155</td>\n",
       "      <td>1.000</td>\n",
       "      <td>3.000</td>\n",
       "      <td>3.000</td>\n",
       "      <td>4.000</td>\n",
       "      <td>6.250</td>\n",
       "    </tr>\n",
       "  </tbody>\n",
       "</table>\n",
       "</div>"
      ],
      "text/plain": [
       "              Interest Rate                                          \n",
       "                      count  mean   std   min   25%   50%   75%   max\n",
       "Project Type                                                         \n",
       "At-Risk              26.000 3.244 2.164 1.000 1.000 4.350 5.350 6.000\n",
       "Family              200.000 4.092 1.625 0.420 3.000 4.000 5.653 7.750\n",
       "Seniors              48.000 4.145 1.906 1.000 2.938 4.812 5.835 6.500\n",
       "Special Needs        89.000 3.672 1.155 1.000 3.000 3.000 4.000 6.250"
      ]
     },
     "execution_count": 49,
     "metadata": {},
     "output_type": "execute_result"
    }
   ],
   "source": [
    "pos_interest_financing[[\"Project Type\",\"Interest Rate\"]].groupby([\"Project Type\"]).describe()"
   ]
  },
  {
   "cell_type": "markdown",
   "metadata": {},
   "source": [
    "### What share of permanent financing is debt, and does this differ by project type (senior, family, special needs) or geography (are there differences across states)?\n"
   ]
  },
  {
   "cell_type": "code",
   "execution_count": 50,
   "metadata": {},
   "outputs": [],
   "source": [
    "#count number of projects \n",
    "num_projects = financing.drop_duplicates(subset=['Project Name'])\n",
    "num_projects = num_projects.groupby([\"Project Type\"]).count().reset_index()[[\"Project Type\",\"Project Name\"]]"
   ]
  },
  {
   "cell_type": "code",
   "execution_count": 51,
   "metadata": {},
   "outputs": [],
   "source": [
    "#should we keep federal loan? seems to be USDA loans with 1% interest that are meant to promote housing in rural areas \n",
    "\n",
    "debt = ['Bank Loan','Federal Loan']\n",
    "#not_debt is not used for any analysis, just to be able to visualize all the categories in one place \n",
    "\n",
    "not_debt = ['Tax Credit','Federal Credit','State Credit','Federal Home Loan Bank','State Housing Credit Equity', 'Historic Tax Credit','Local Grant','State Funding',\n",
    "            'State Grant','City Grant','Land Donation','Public Private Partnership', \n",
    "            'Federal Grant','Fee Waivers','Federal Housing Credit Equity','Deferred Developer Fee','Affordable Housing Trust']\n",
    "\n",
    "#label whether not a source of funding is gov financing \n",
    "def label_debt_type(x):\n",
    "    if x[\"Financing_sub_cat\"] in debt:\n",
    "        return 1\n",
    "    if x[\"Financing_sub_cat\"] in not_debt:\n",
    "        return 0 \n",
    "    else:\n",
    "        return np.NaN"
   ]
  },
  {
   "cell_type": "code",
   "execution_count": 52,
   "metadata": {},
   "outputs": [],
   "source": [
    "#count number of projects \n",
    "num_projects = financing.drop_duplicates(subset=['Project Name'])\n",
    "num_projects = num_projects.groupby([\"Project Type\"]).count().reset_index()[[\"Project Type\",\"Project Name\"]]"
   ]
  },
  {
   "cell_type": "code",
   "execution_count": 53,
   "metadata": {},
   "outputs": [],
   "source": [
    "financing[\"debt_financing\"] = financing.apply(lambda x: label_debt_type(x),axis=1)"
   ]
  },
  {
   "cell_type": "code",
   "execution_count": 54,
   "metadata": {},
   "outputs": [
    {
     "data": {
      "text/plain": [
       "0.000    711\n",
       "1.000    327\n",
       "Name: debt_financing, dtype: int64"
      ]
     },
     "execution_count": 54,
     "metadata": {},
     "output_type": "execute_result"
    }
   ],
   "source": [
    "financing[\"debt_financing\"].value_counts()"
   ]
  },
  {
   "cell_type": "code",
   "execution_count": 55,
   "metadata": {},
   "outputs": [
    {
     "data": {
      "text/plain": [
       "0.3152804642166344"
      ]
     },
     "execution_count": 55,
     "metadata": {},
     "output_type": "execute_result"
    }
   ],
   "source": [
    "#31.5 percent of financing is debt financing \n",
    "326/(326+708)"
   ]
  },
  {
   "cell_type": "markdown",
   "metadata": {},
   "source": [
    "Does debt financing differ by state? "
   ]
  },
  {
   "cell_type": "code",
   "execution_count": 56,
   "metadata": {},
   "outputs": [
    {
     "data": {
      "text/html": [
       "<div>\n",
       "<style scoped>\n",
       "    .dataframe tbody tr th:only-of-type {\n",
       "        vertical-align: middle;\n",
       "    }\n",
       "\n",
       "    .dataframe tbody tr th {\n",
       "        vertical-align: top;\n",
       "    }\n",
       "\n",
       "    .dataframe thead th {\n",
       "        text-align: right;\n",
       "    }\n",
       "</style>\n",
       "<table border=\"1\" class=\"dataframe\">\n",
       "  <thead>\n",
       "    <tr style=\"text-align: right;\">\n",
       "      <th></th>\n",
       "      <th>State</th>\n",
       "      <th>debt_financing</th>\n",
       "      <th>Amount of Funds</th>\n",
       "    </tr>\n",
       "  </thead>\n",
       "  <tbody>\n",
       "    <tr>\n",
       "      <th>0</th>\n",
       "      <td>California</td>\n",
       "      <td>0.337</td>\n",
       "      <td>3565371.628</td>\n",
       "    </tr>\n",
       "    <tr>\n",
       "      <th>1</th>\n",
       "      <td>Georgia</td>\n",
       "      <td>0.342</td>\n",
       "      <td>3140492.974</td>\n",
       "    </tr>\n",
       "    <tr>\n",
       "      <th>2</th>\n",
       "      <td>Ohio</td>\n",
       "      <td>0.313</td>\n",
       "      <td>2003198.191</td>\n",
       "    </tr>\n",
       "    <tr>\n",
       "      <th>3</th>\n",
       "      <td>Virginia</td>\n",
       "      <td>0.157</td>\n",
       "      <td>2713136.661</td>\n",
       "    </tr>\n",
       "  </tbody>\n",
       "</table>\n",
       "</div>"
      ],
      "text/plain": [
       "        State  debt_financing  Amount of Funds\n",
       "0  California           0.337      3565371.628\n",
       "1     Georgia           0.342      3140492.974\n",
       "2        Ohio           0.313      2003198.191\n",
       "3    Virginia           0.157      2713136.661"
      ]
     },
     "execution_count": 56,
     "metadata": {},
     "output_type": "execute_result"
    }
   ],
   "source": [
    "state_debt_size = financing[[\"debt_financing\",\"State\",\"Amount of Funds\"]].groupby(\"State\").mean().reset_index()\n",
    "state_debt_size"
   ]
  },
  {
   "cell_type": "code",
   "execution_count": 57,
   "metadata": {},
   "outputs": [
    {
     "data": {
      "text/plain": [
       "State\n",
       "California   0.398\n",
       "Georgia      0.301\n",
       "Ohio         0.312\n",
       "Virginia     0.157\n",
       "Name: debt_financing, dtype: float64"
      ]
     },
     "execution_count": 57,
     "metadata": {},
     "output_type": "execute_result"
    }
   ],
   "source": [
    "#Virinia projects, on average, use notably less debt financing \n",
    "financing.groupby(['Project Name', 'State',\"Amount of Funds\"]).debt_financing.mean().groupby('State').mean()"
   ]
  },
  {
   "cell_type": "markdown",
   "metadata": {},
   "source": [
    "Does debt financing differ by project type?"
   ]
  },
  {
   "cell_type": "code",
   "execution_count": 58,
   "metadata": {},
   "outputs": [
    {
     "data": {
      "text/html": [
       "<div>\n",
       "<style scoped>\n",
       "    .dataframe tbody tr th:only-of-type {\n",
       "        vertical-align: middle;\n",
       "    }\n",
       "\n",
       "    .dataframe tbody tr th {\n",
       "        vertical-align: top;\n",
       "    }\n",
       "\n",
       "    .dataframe thead th {\n",
       "        text-align: right;\n",
       "    }\n",
       "</style>\n",
       "<table border=\"1\" class=\"dataframe\">\n",
       "  <thead>\n",
       "    <tr style=\"text-align: right;\">\n",
       "      <th></th>\n",
       "      <th>Project Type</th>\n",
       "      <th>debt_financing</th>\n",
       "      <th>Amount of Funds</th>\n",
       "      <th>Project Count</th>\n",
       "    </tr>\n",
       "  </thead>\n",
       "  <tbody>\n",
       "    <tr>\n",
       "      <th>0</th>\n",
       "      <td>At-Risk</td>\n",
       "      <td>0.795</td>\n",
       "      <td>2967885.621</td>\n",
       "      <td>7</td>\n",
       "    </tr>\n",
       "    <tr>\n",
       "      <th>1</th>\n",
       "      <td>Family</td>\n",
       "      <td>0.328</td>\n",
       "      <td>3276329.759</td>\n",
       "      <td>68</td>\n",
       "    </tr>\n",
       "    <tr>\n",
       "      <th>2</th>\n",
       "      <td>Seniors</td>\n",
       "      <td>0.379</td>\n",
       "      <td>2645403.917</td>\n",
       "      <td>29</td>\n",
       "    </tr>\n",
       "    <tr>\n",
       "      <th>3</th>\n",
       "      <td>Service Enriched</td>\n",
       "      <td>0.174</td>\n",
       "      <td>1409896.737</td>\n",
       "      <td>2</td>\n",
       "    </tr>\n",
       "    <tr>\n",
       "      <th>4</th>\n",
       "      <td>Special Needs</td>\n",
       "      <td>0.190</td>\n",
       "      <td>3053751.954</td>\n",
       "      <td>14</td>\n",
       "    </tr>\n",
       "  </tbody>\n",
       "</table>\n",
       "</div>"
      ],
      "text/plain": [
       "       Project Type  debt_financing  Amount of Funds  Project Count\n",
       "0           At-Risk           0.795      2967885.621              7\n",
       "1            Family           0.328      3276329.759             68\n",
       "2           Seniors           0.379      2645403.917             29\n",
       "3  Service Enriched           0.174      1409896.737              2\n",
       "4     Special Needs           0.190      3053751.954             14"
      ]
     },
     "execution_count": 58,
     "metadata": {},
     "output_type": "execute_result"
    }
   ],
   "source": [
    "project_type_debt_size = financing[[\"debt_financing\",\"Project Type\",\"Amount of Funds\"]].groupby(\"Project Type\").mean().reset_index()\n",
    "project_type_debt_size.merge(num_projects,on=\"Project Type\").rename(columns={\"Project Name\":\"Project Count\"})"
   ]
  },
  {
   "cell_type": "code",
   "execution_count": 59,
   "metadata": {},
   "outputs": [
    {
     "data": {
      "text/html": [
       "<div>\n",
       "<style scoped>\n",
       "    .dataframe tbody tr th:only-of-type {\n",
       "        vertical-align: middle;\n",
       "    }\n",
       "\n",
       "    .dataframe tbody tr th {\n",
       "        vertical-align: top;\n",
       "    }\n",
       "\n",
       "    .dataframe thead th {\n",
       "        text-align: right;\n",
       "    }\n",
       "</style>\n",
       "<table border=\"1\" class=\"dataframe\">\n",
       "  <thead>\n",
       "    <tr style=\"text-align: right;\">\n",
       "      <th></th>\n",
       "      <th>debt_financing</th>\n",
       "      <th>Amount of Funds</th>\n",
       "    </tr>\n",
       "    <tr>\n",
       "      <th>Project Type</th>\n",
       "      <th></th>\n",
       "      <th></th>\n",
       "    </tr>\n",
       "  </thead>\n",
       "  <tbody>\n",
       "    <tr>\n",
       "      <th>At-Risk</th>\n",
       "      <td>0.820</td>\n",
       "      <td>3364943.831</td>\n",
       "    </tr>\n",
       "    <tr>\n",
       "      <th>Family</th>\n",
       "      <td>0.366</td>\n",
       "      <td>3505532.119</td>\n",
       "    </tr>\n",
       "    <tr>\n",
       "      <th>Seniors</th>\n",
       "      <td>0.387</td>\n",
       "      <td>3013701.172</td>\n",
       "    </tr>\n",
       "    <tr>\n",
       "      <th>Service Enriched</th>\n",
       "      <td>0.202</td>\n",
       "      <td>1415297.380</td>\n",
       "    </tr>\n",
       "    <tr>\n",
       "      <th>Special Needs</th>\n",
       "      <td>0.231</td>\n",
       "      <td>3380216.766</td>\n",
       "    </tr>\n",
       "  </tbody>\n",
       "</table>\n",
       "</div>"
      ],
      "text/plain": [
       "                  debt_financing  Amount of Funds\n",
       "Project Type                                     \n",
       "At-Risk                    0.820      3364943.831\n",
       "Family                     0.366      3505532.119\n",
       "Seniors                    0.387      3013701.172\n",
       "Service Enriched           0.202      1415297.380\n",
       "Special Needs              0.231      3380216.766"
      ]
     },
     "execution_count": 59,
     "metadata": {},
     "output_type": "execute_result"
    }
   ],
   "source": [
    "#if we aggregate at both project and project type level numbers change a bit, but not substantially \n",
    "project_level_project_type = financing[[\"debt_financing\",\"Project Type\",\"Amount of Funds\",'Project Name']].groupby(['Project Name',\"Project Type\"]).mean().groupby(\"Project Type\").mean()\n",
    "project_level_project_type"
   ]
  },
  {
   "cell_type": "code",
   "execution_count": 60,
   "metadata": {},
   "outputs": [
    {
     "data": {
      "text/plain": [
       "State\n",
       "California   0.398\n",
       "Georgia      0.301\n",
       "Ohio         0.312\n",
       "Virginia     0.157\n",
       "Name: debt_financing, dtype: float64"
      ]
     },
     "execution_count": 60,
     "metadata": {},
     "output_type": "execute_result"
    }
   ],
   "source": [
    "financing.groupby(['Project Name', 'State',\"Amount of Funds\"]).debt_financing.mean().groupby('State').mean()"
   ]
  },
  {
   "cell_type": "markdown",
   "metadata": {},
   "source": [
    "### Look at California deferened dev projects, see if difference between those with and without  "
   ]
  },
  {
   "cell_type": "code",
   "execution_count": 61,
   "metadata": {},
   "outputs": [],
   "source": [
    "#add number of funding sources as a column \n",
    "financing_funding_count = financing.groupby(\"Project Name\").count().reset_index()[[\"Project Name\",\"Financing_sub_cat\"]]\n",
    "financing =financing.merge(financing_funding_count,on=\"Project Name\")\n",
    "financing = financing.rename(columns ={\"Financing_sub_cat_x\":\"Financing_sub_cat\",\"Financing_sub_cat_y\":\"Funding_count\"} )"
   ]
  },
  {
   "cell_type": "code",
   "execution_count": 62,
   "metadata": {},
   "outputs": [],
   "source": [
    "#need to fill nan values in Financing_sub_cats or else function will break \n",
    "financing.Financing_sub_cat = financing.Financing_sub_cat.fillna(value=\"Other\")"
   ]
  },
  {
   "cell_type": "code",
   "execution_count": 63,
   "metadata": {},
   "outputs": [],
   "source": [
    "#want to generate string of names to find which projects have def dev fees and which dont \n",
    "def_project = financing[[\"Project Name\",\"Financing_sub_cat\"]].groupby(\"Project Name\").sum().reset_index()"
   ]
  },
  {
   "cell_type": "code",
   "execution_count": 64,
   "metadata": {},
   "outputs": [],
   "source": [
    "#create a function to label them \n",
    "def label_def(x):\n",
    "    if \"Developer\" in x[\"Financing_sub_cat\"]:\n",
    "        return 1\n",
    "    else:\n",
    "        return 0 "
   ]
  },
  {
   "cell_type": "code",
   "execution_count": 65,
   "metadata": {},
   "outputs": [],
   "source": [
    "#now run function and merge results back onto financing \n",
    "def_project[\"def_project\"] = def_project.apply(lambda x: label_def(x),axis=1)\n",
    "def_project = def_project[[\"Project Name\",\"def_project\"]]\n",
    "financing = financing.merge(def_project,on=\"Project Name\")"
   ]
  },
  {
   "cell_type": "code",
   "execution_count": 66,
   "metadata": {},
   "outputs": [],
   "source": [
    "#now filter for just california \n",
    "cali_finacing = financing[financing[\"State\"] == \"California\"]"
   ]
  },
  {
   "cell_type": "code",
   "execution_count": 67,
   "metadata": {},
   "outputs": [],
   "source": [
    "#keep only cols we want to compare \n",
    "#cali_finacing=cali_finacing[['Project Name', 'Financing_sub_cat', 'Interest Rate',\"Funding_count\"]]"
   ]
  },
  {
   "cell_type": "code",
   "execution_count": 68,
   "metadata": {},
   "outputs": [],
   "source": [
    "#drop state housing equity col, group by project \n",
    "def_proj_dif1 = cali_finacing.groupby(\"def_project\").mean().reset_index()"
   ]
  },
  {
   "cell_type": "markdown",
   "metadata": {},
   "source": [
    "### If you have def developer fees, what percentage of the project do these fees represent?"
   ]
  },
  {
   "cell_type": "code",
   "execution_count": 69,
   "metadata": {},
   "outputs": [],
   "source": [
    "#get total funding raised per project in cali \n",
    "total_cali_funds_per_project = cali_finacing[[\"Project Name\",\"Financing_sub_cat\",\"Amount of Funds\"]].groupby(\"Project Name\").sum().reset_index()"
   ]
  },
  {
   "cell_type": "code",
   "execution_count": 70,
   "metadata": {},
   "outputs": [],
   "source": [
    "#get cost for def dev fees in cali \n",
    "cali_def_cost_per_project = cali_finacing[cali_finacing[\"Financing_sub_cat\"]=='Deferred Developer Fee'][[\"Project Name\",\"Amount of Funds\"]].groupby(\"Project Name\").sum()"
   ]
  },
  {
   "cell_type": "code",
   "execution_count": 71,
   "metadata": {},
   "outputs": [],
   "source": [
    "#merge these onto each other and then divide\n",
    "def_fees_cali = total_cali_funds_per_project.merge(cali_def_cost_per_project,on=\"Project Name\")\n",
    "def_fees_cali[\"def_fees_percentage_of_total_cost\"] = def_fees_cali[\"Amount of Funds_y\"] / def_fees_cali[\"Amount of Funds_x\"]"
   ]
  },
  {
   "cell_type": "code",
   "execution_count": 72,
   "metadata": {},
   "outputs": [
    {
     "data": {
      "text/plain": [
       "count   41.000\n",
       "mean     0.059\n",
       "std      0.059\n",
       "min      0.004\n",
       "25%      0.025\n",
       "50%      0.041\n",
       "75%      0.067\n",
       "max      0.296\n",
       "Name: def_fees_percentage_of_total_cost, dtype: float64"
      ]
     },
     "execution_count": 72,
     "metadata": {},
     "output_type": "execute_result"
    }
   ],
   "source": [
    "#on average, six percent of total funds raised are deferred dev fees \n",
    "def_fees_cali[\"def_fees_percentage_of_total_cost\"].describe()"
   ]
  },
  {
   "cell_type": "markdown",
   "metadata": {},
   "source": [
    "### Examine Gov Grant funding "
   ]
  },
  {
   "cell_type": "code",
   "execution_count": 73,
   "metadata": {},
   "outputs": [],
   "source": [
    "#create same bins of number of funding sources as above, by for the financing dataframe \n",
    "financing[\"bins\"] = pd.qcut(financing[\"Funding_count\"],3,labels=[\"Low Number of Financing Sources\", \"Medium Number of Financing Sources\", \"High Number of Financing Sources\"])\n"
   ]
  },
  {
   "cell_type": "code",
   "execution_count": 74,
   "metadata": {},
   "outputs": [
    {
     "data": {
      "text/html": [
       "<div>\n",
       "<style scoped>\n",
       "    .dataframe tbody tr th:only-of-type {\n",
       "        vertical-align: middle;\n",
       "    }\n",
       "\n",
       "    .dataframe tbody tr th {\n",
       "        vertical-align: top;\n",
       "    }\n",
       "\n",
       "    .dataframe thead th {\n",
       "        text-align: right;\n",
       "    }\n",
       "</style>\n",
       "<table border=\"1\" class=\"dataframe\">\n",
       "  <thead>\n",
       "    <tr style=\"text-align: right;\">\n",
       "      <th></th>\n",
       "      <th></th>\n",
       "      <th>Amount of Funds</th>\n",
       "      <th>Gov_Grant</th>\n",
       "    </tr>\n",
       "    <tr>\n",
       "      <th>bins</th>\n",
       "      <th>State</th>\n",
       "      <th></th>\n",
       "      <th></th>\n",
       "    </tr>\n",
       "  </thead>\n",
       "  <tbody>\n",
       "    <tr>\n",
       "      <th rowspan=\"4\" valign=\"top\">Low Number of Financing Sources</th>\n",
       "      <th>California</th>\n",
       "      <td>4256494.997</td>\n",
       "      <td>0.231</td>\n",
       "    </tr>\n",
       "    <tr>\n",
       "      <th>Georgia</th>\n",
       "      <td>3281901.380</td>\n",
       "      <td>0.000</td>\n",
       "    </tr>\n",
       "    <tr>\n",
       "      <th>Ohio</th>\n",
       "      <td>2909201.865</td>\n",
       "      <td>0.000</td>\n",
       "    </tr>\n",
       "    <tr>\n",
       "      <th>Virginia</th>\n",
       "      <td>3042925.264</td>\n",
       "      <td>0.579</td>\n",
       "    </tr>\n",
       "    <tr>\n",
       "      <th rowspan=\"4\" valign=\"top\">Medium Number of Financing Sources</th>\n",
       "      <th>California</th>\n",
       "      <td>3362591.495</td>\n",
       "      <td>0.431</td>\n",
       "    </tr>\n",
       "    <tr>\n",
       "      <th>Georgia</th>\n",
       "      <td>2906372.029</td>\n",
       "      <td>0.069</td>\n",
       "    </tr>\n",
       "    <tr>\n",
       "      <th>Ohio</th>\n",
       "      <td>2179641.776</td>\n",
       "      <td>0.026</td>\n",
       "    </tr>\n",
       "    <tr>\n",
       "      <th>Virginia</th>\n",
       "      <td>1240936.000</td>\n",
       "      <td>0.778</td>\n",
       "    </tr>\n",
       "    <tr>\n",
       "      <th rowspan=\"4\" valign=\"top\">High Number of Financing Sources</th>\n",
       "      <th>California</th>\n",
       "      <td>2612563.633</td>\n",
       "      <td>0.514</td>\n",
       "    </tr>\n",
       "    <tr>\n",
       "      <th>Georgia</th>\n",
       "      <td>3211673.167</td>\n",
       "      <td>0.000</td>\n",
       "    </tr>\n",
       "    <tr>\n",
       "      <th>Ohio</th>\n",
       "      <td>1580391.459</td>\n",
       "      <td>0.029</td>\n",
       "    </tr>\n",
       "    <tr>\n",
       "      <th>Virginia</th>\n",
       "      <td>1750854.583</td>\n",
       "      <td>0.500</td>\n",
       "    </tr>\n",
       "  </tbody>\n",
       "</table>\n",
       "</div>"
      ],
      "text/plain": [
       "                                               Amount of Funds  Gov_Grant\n",
       "bins                               State                                 \n",
       "Low Number of Financing Sources    California      4256494.997      0.231\n",
       "                                   Georgia         3281901.380      0.000\n",
       "                                   Ohio            2909201.865      0.000\n",
       "                                   Virginia        3042925.264      0.579\n",
       "Medium Number of Financing Sources California      3362591.495      0.431\n",
       "                                   Georgia         2906372.029      0.069\n",
       "                                   Ohio            2179641.776      0.026\n",
       "                                   Virginia        1240936.000      0.778\n",
       "High Number of Financing Sources   California      2612563.633      0.514\n",
       "                                   Georgia         3211673.167      0.000\n",
       "                                   Ohio            1580391.459      0.029\n",
       "                                   Virginia        1750854.583      0.500"
      ]
     },
     "execution_count": 74,
     "metadata": {},
     "output_type": "execute_result"
    }
   ],
   "source": [
    "state_bin = financing[[\"bins\",\"State\",\"Amount of Funds\",\"Gov_Grant\"]].groupby([\"bins\",\"State\"]).mean()\n",
    "state_bin"
   ]
  },
  {
   "cell_type": "code",
   "execution_count": 75,
   "metadata": {},
   "outputs": [
    {
     "data": {
      "text/html": [
       "<div>\n",
       "<style scoped>\n",
       "    .dataframe tbody tr th:only-of-type {\n",
       "        vertical-align: middle;\n",
       "    }\n",
       "\n",
       "    .dataframe tbody tr th {\n",
       "        vertical-align: top;\n",
       "    }\n",
       "\n",
       "    .dataframe thead th {\n",
       "        text-align: right;\n",
       "    }\n",
       "</style>\n",
       "<table border=\"1\" class=\"dataframe\">\n",
       "  <thead>\n",
       "    <tr style=\"text-align: right;\">\n",
       "      <th></th>\n",
       "      <th></th>\n",
       "      <th>Amount of Funds</th>\n",
       "      <th>Gov_Grant</th>\n",
       "    </tr>\n",
       "    <tr>\n",
       "      <th>bins</th>\n",
       "      <th>State</th>\n",
       "      <th></th>\n",
       "      <th></th>\n",
       "    </tr>\n",
       "  </thead>\n",
       "  <tbody>\n",
       "    <tr>\n",
       "      <th rowspan=\"4\" valign=\"top\">Low Number of Financing Sources</th>\n",
       "      <th>California</th>\n",
       "      <td>4449854.312</td>\n",
       "      <td>0.219</td>\n",
       "    </tr>\n",
       "    <tr>\n",
       "      <th>Georgia</th>\n",
       "      <td>3273260.031</td>\n",
       "      <td>0.000</td>\n",
       "    </tr>\n",
       "    <tr>\n",
       "      <th>Ohio</th>\n",
       "      <td>2958827.825</td>\n",
       "      <td>0.000</td>\n",
       "    </tr>\n",
       "    <tr>\n",
       "      <th>Virginia</th>\n",
       "      <td>3347087.595</td>\n",
       "      <td>0.589</td>\n",
       "    </tr>\n",
       "    <tr>\n",
       "      <th rowspan=\"4\" valign=\"top\">Medium Number of Financing Sources</th>\n",
       "      <th>California</th>\n",
       "      <td>3363724.663</td>\n",
       "      <td>0.435</td>\n",
       "    </tr>\n",
       "    <tr>\n",
       "      <th>Georgia</th>\n",
       "      <td>2937567.756</td>\n",
       "      <td>0.072</td>\n",
       "    </tr>\n",
       "    <tr>\n",
       "      <th>Ohio</th>\n",
       "      <td>2210445.828</td>\n",
       "      <td>0.028</td>\n",
       "    </tr>\n",
       "    <tr>\n",
       "      <th>Virginia</th>\n",
       "      <td>1240936.000</td>\n",
       "      <td>0.778</td>\n",
       "    </tr>\n",
       "    <tr>\n",
       "      <th rowspan=\"4\" valign=\"top\">High Number of Financing Sources</th>\n",
       "      <th>California</th>\n",
       "      <td>2650199.576</td>\n",
       "      <td>0.506</td>\n",
       "    </tr>\n",
       "    <tr>\n",
       "      <th>Georgia</th>\n",
       "      <td>3211673.167</td>\n",
       "      <td>0.000</td>\n",
       "    </tr>\n",
       "    <tr>\n",
       "      <th>Ohio</th>\n",
       "      <td>1605844.944</td>\n",
       "      <td>0.027</td>\n",
       "    </tr>\n",
       "    <tr>\n",
       "      <th>Virginia</th>\n",
       "      <td>1750854.583</td>\n",
       "      <td>0.500</td>\n",
       "    </tr>\n",
       "  </tbody>\n",
       "</table>\n",
       "</div>"
      ],
      "text/plain": [
       "                                               Amount of Funds  Gov_Grant\n",
       "bins                               State                                 \n",
       "Low Number of Financing Sources    California      4449854.312      0.219\n",
       "                                   Georgia         3273260.031      0.000\n",
       "                                   Ohio            2958827.825      0.000\n",
       "                                   Virginia        3347087.595      0.589\n",
       "Medium Number of Financing Sources California      3363724.663      0.435\n",
       "                                   Georgia         2937567.756      0.072\n",
       "                                   Ohio            2210445.828      0.028\n",
       "                                   Virginia        1240936.000      0.778\n",
       "High Number of Financing Sources   California      2650199.576      0.506\n",
       "                                   Georgia         3211673.167      0.000\n",
       "                                   Ohio            1605844.944      0.027\n",
       "                                   Virginia        1750854.583      0.500"
      ]
     },
     "execution_count": 75,
     "metadata": {},
     "output_type": "execute_result"
    }
   ],
   "source": [
    "#same analysis as above but first aggregating by individual project before aggregating by state \n",
    "# the results will be similar, but worth see the variation \n",
    "state_bin_by_project = financing[[\"bins\",\"State\",\"Amount of Funds\",\"Gov_Grant\",\"Project Name\"]].groupby([\"bins\",\"State\",\"Project Name\"]).mean().groupby([\"bins\",\"State\"]).mean()\n",
    "state_bin_by_project"
   ]
  },
  {
   "cell_type": "code",
   "execution_count": 76,
   "metadata": {},
   "outputs": [],
   "source": [
    "state_bin[\"key\"] = state_bin.reset_index()[\"bins\"].astype(str) + state_bin.reset_index()[\"State\"].astype(str)"
   ]
  },
  {
   "cell_type": "code",
   "execution_count": 77,
   "metadata": {},
   "outputs": [
    {
     "data": {
      "text/html": [
       "<div>\n",
       "<style scoped>\n",
       "    .dataframe tbody tr th:only-of-type {\n",
       "        vertical-align: middle;\n",
       "    }\n",
       "\n",
       "    .dataframe tbody tr th {\n",
       "        vertical-align: top;\n",
       "    }\n",
       "\n",
       "    .dataframe thead th {\n",
       "        text-align: right;\n",
       "    }\n",
       "</style>\n",
       "<table border=\"1\" class=\"dataframe\">\n",
       "  <thead>\n",
       "    <tr style=\"text-align: right;\">\n",
       "      <th></th>\n",
       "      <th></th>\n",
       "      <th>Amount of Funds</th>\n",
       "      <th>Gov_Grant</th>\n",
       "    </tr>\n",
       "    <tr>\n",
       "      <th>bins</th>\n",
       "      <th>State</th>\n",
       "      <th></th>\n",
       "      <th></th>\n",
       "    </tr>\n",
       "  </thead>\n",
       "  <tbody>\n",
       "    <tr>\n",
       "      <th rowspan=\"4\" valign=\"top\">Low Number of Financing Sources</th>\n",
       "      <th>California</th>\n",
       "      <td>276</td>\n",
       "      <td>277</td>\n",
       "    </tr>\n",
       "    <tr>\n",
       "      <th>Georgia</th>\n",
       "      <td>138</td>\n",
       "      <td>138</td>\n",
       "    </tr>\n",
       "    <tr>\n",
       "      <th>Ohio</th>\n",
       "      <td>65</td>\n",
       "      <td>65</td>\n",
       "    </tr>\n",
       "    <tr>\n",
       "      <th>Virginia</th>\n",
       "      <td>91</td>\n",
       "      <td>95</td>\n",
       "    </tr>\n",
       "    <tr>\n",
       "      <th rowspan=\"4\" valign=\"top\">Medium Number of Financing Sources</th>\n",
       "      <th>California</th>\n",
       "      <td>109</td>\n",
       "      <td>109</td>\n",
       "    </tr>\n",
       "    <tr>\n",
       "      <th>Georgia</th>\n",
       "      <td>87</td>\n",
       "      <td>87</td>\n",
       "    </tr>\n",
       "    <tr>\n",
       "      <th>Ohio</th>\n",
       "      <td>76</td>\n",
       "      <td>76</td>\n",
       "    </tr>\n",
       "    <tr>\n",
       "      <th>Virginia</th>\n",
       "      <td>8</td>\n",
       "      <td>9</td>\n",
       "    </tr>\n",
       "    <tr>\n",
       "      <th rowspan=\"4\" valign=\"top\">High Number of Financing Sources</th>\n",
       "      <th>California</th>\n",
       "      <td>177</td>\n",
       "      <td>177</td>\n",
       "    </tr>\n",
       "    <tr>\n",
       "      <th>Georgia</th>\n",
       "      <td>12</td>\n",
       "      <td>12</td>\n",
       "    </tr>\n",
       "    <tr>\n",
       "      <th>Ohio</th>\n",
       "      <td>171</td>\n",
       "      <td>171</td>\n",
       "    </tr>\n",
       "    <tr>\n",
       "      <th>Virginia</th>\n",
       "      <td>12</td>\n",
       "      <td>12</td>\n",
       "    </tr>\n",
       "  </tbody>\n",
       "</table>\n",
       "</div>"
      ],
      "text/plain": [
       "                                               Amount of Funds  Gov_Grant\n",
       "bins                               State                                 \n",
       "Low Number of Financing Sources    California              276        277\n",
       "                                   Georgia                 138        138\n",
       "                                   Ohio                     65         65\n",
       "                                   Virginia                 91         95\n",
       "Medium Number of Financing Sources California              109        109\n",
       "                                   Georgia                  87         87\n",
       "                                   Ohio                     76         76\n",
       "                                   Virginia                  8          9\n",
       "High Number of Financing Sources   California              177        177\n",
       "                                   Georgia                  12         12\n",
       "                                   Ohio                    171        171\n",
       "                                   Virginia                 12         12"
      ]
     },
     "execution_count": 77,
     "metadata": {},
     "output_type": "execute_result"
    }
   ],
   "source": [
    "# Do groupby but with count\n",
    "# we notice that Virginia has few medium and high, and georgia has \n",
    "# few high \n",
    "financing[[\"bins\",\"State\",\"Amount of Funds\",\"Gov_Grant\"]].groupby([\"bins\",\"State\"]).count()"
   ]
  },
  {
   "cell_type": "code",
   "execution_count": 78,
   "metadata": {},
   "outputs": [
    {
     "data": {
      "text/html": [
       "<div>\n",
       "<style scoped>\n",
       "    .dataframe tbody tr th:only-of-type {\n",
       "        vertical-align: middle;\n",
       "    }\n",
       "\n",
       "    .dataframe tbody tr th {\n",
       "        vertical-align: top;\n",
       "    }\n",
       "\n",
       "    .dataframe thead th {\n",
       "        text-align: right;\n",
       "    }\n",
       "</style>\n",
       "<table border=\"1\" class=\"dataframe\">\n",
       "  <thead>\n",
       "    <tr style=\"text-align: right;\">\n",
       "      <th></th>\n",
       "      <th>Amount of Funds</th>\n",
       "      <th>Gov_Grant</th>\n",
       "    </tr>\n",
       "    <tr>\n",
       "      <th>bins</th>\n",
       "      <th></th>\n",
       "      <th></th>\n",
       "    </tr>\n",
       "  </thead>\n",
       "  <tbody>\n",
       "    <tr>\n",
       "      <th>Low Number of Financing Sources</th>\n",
       "      <td>3763468.228</td>\n",
       "      <td>0.250</td>\n",
       "    </tr>\n",
       "    <tr>\n",
       "      <th>Medium Number of Financing Sources</th>\n",
       "      <td>2821423.538</td>\n",
       "      <td>0.214</td>\n",
       "    </tr>\n",
       "    <tr>\n",
       "      <th>High Number of Financing Sources</th>\n",
       "      <td>2135394.496</td>\n",
       "      <td>0.256</td>\n",
       "    </tr>\n",
       "  </tbody>\n",
       "</table>\n",
       "</div>"
      ],
      "text/plain": [
       "                                    Amount of Funds  Gov_Grant\n",
       "bins                                                          \n",
       "Low Number of Financing Sources         3763468.228      0.250\n",
       "Medium Number of Financing Sources      2821423.538      0.214\n",
       "High Number of Financing Sources        2135394.496      0.256"
      ]
     },
     "execution_count": 78,
     "metadata": {},
     "output_type": "execute_result"
    }
   ],
   "source": [
    "#by project \n",
    "financing[[\"bins\",\"State\",\"Amount of Funds\",\"Gov_Grant\",\"Project Name\"]].groupby([\"bins\",\"Project Name\"]).mean().groupby([\"bins\"]).mean()"
   ]
  },
  {
   "cell_type": "markdown",
   "metadata": {},
   "source": [
    "### Can we break out projects with State Housing Credit Equity?"
   ]
  },
  {
   "cell_type": "code",
   "execution_count": 79,
   "metadata": {},
   "outputs": [],
   "source": [
    "#label state housing credit equity \n",
    "financing = financing.rename(columns={\"Financing_sub_cat_x\":\"Financing_sub_cat\"})\n",
    "state_housing_credit_equity = ['State Housing Credit Equity']\n",
    "\n",
    "def label_shce(x):\n",
    "    if x[\"Financing_sub_cat\"] in state_housing_credit_equity:\n",
    "        return 1\n",
    "    else:\n",
    "        return 0 \n",
    "financing[\"State_Housing_Credit_Equity\"] = financing.apply(lambda x: label_shce(x),axis=1)"
   ]
  },
  {
   "cell_type": "code",
   "execution_count": 80,
   "metadata": {},
   "outputs": [
    {
     "data": {
      "text/html": [
       "<div>\n",
       "<style scoped>\n",
       "    .dataframe tbody tr th:only-of-type {\n",
       "        vertical-align: middle;\n",
       "    }\n",
       "\n",
       "    .dataframe tbody tr th {\n",
       "        vertical-align: top;\n",
       "    }\n",
       "\n",
       "    .dataframe thead th {\n",
       "        text-align: right;\n",
       "    }\n",
       "</style>\n",
       "<table border=\"1\" class=\"dataframe\">\n",
       "  <thead>\n",
       "    <tr style=\"text-align: right;\">\n",
       "      <th></th>\n",
       "      <th>Amount of Funds</th>\n",
       "    </tr>\n",
       "    <tr>\n",
       "      <th>State_Housing_Credit_Equity</th>\n",
       "      <th></th>\n",
       "    </tr>\n",
       "  </thead>\n",
       "  <tbody>\n",
       "    <tr>\n",
       "      <th>0</th>\n",
       "      <td>3503854357.900</td>\n",
       "    </tr>\n",
       "    <tr>\n",
       "      <th>1</th>\n",
       "      <td>177023109.900</td>\n",
       "    </tr>\n",
       "  </tbody>\n",
       "</table>\n",
       "</div>"
      ],
      "text/plain": [
       "                             Amount of Funds\n",
       "State_Housing_Credit_Equity                 \n",
       "0                             3503854357.900\n",
       "1                              177023109.900"
      ]
     },
     "execution_count": 80,
     "metadata": {},
     "output_type": "execute_result"
    }
   ],
   "source": [
    "financing[[\"State_Housing_Credit_Equity\",\"Amount of Funds\"]].groupby(\"State_Housing_Credit_Equity\").sum()"
   ]
  },
  {
   "cell_type": "code",
   "execution_count": 81,
   "metadata": {},
   "outputs": [
    {
     "data": {
      "text/plain": [
       "0.04809263862994163"
      ]
     },
     "execution_count": 81,
     "metadata": {},
     "output_type": "execute_result"
    }
   ],
   "source": [
    "#4.8% of total funding \n",
    "177023109.90/(3503854357.90+177023109.90)"
   ]
  },
  {
   "cell_type": "code",
   "execution_count": 82,
   "metadata": {},
   "outputs": [
    {
     "data": {
      "text/plain": [
       "0    1143\n",
       "1      85\n",
       "Name: State_Housing_Credit_Equity, dtype: int64"
      ]
     },
     "execution_count": 82,
     "metadata": {},
     "output_type": "execute_result"
    }
   ],
   "source": [
    "financing[\"State_Housing_Credit_Equity\"].value_counts()"
   ]
  },
  {
   "cell_type": "code",
   "execution_count": 83,
   "metadata": {},
   "outputs": [
    {
     "data": {
      "text/html": [
       "<div>\n",
       "<style scoped>\n",
       "    .dataframe tbody tr th:only-of-type {\n",
       "        vertical-align: middle;\n",
       "    }\n",
       "\n",
       "    .dataframe tbody tr th {\n",
       "        vertical-align: top;\n",
       "    }\n",
       "\n",
       "    .dataframe thead th {\n",
       "        text-align: right;\n",
       "    }\n",
       "</style>\n",
       "<table border=\"1\" class=\"dataframe\">\n",
       "  <thead>\n",
       "    <tr style=\"text-align: right;\">\n",
       "      <th></th>\n",
       "      <th></th>\n",
       "      <th>Gov_Grant</th>\n",
       "      <th>Amount of Funds</th>\n",
       "      <th>Funding_count</th>\n",
       "    </tr>\n",
       "    <tr>\n",
       "      <th>State</th>\n",
       "      <th>State_Housing_Credit_Equity</th>\n",
       "      <th></th>\n",
       "      <th></th>\n",
       "      <th></th>\n",
       "    </tr>\n",
       "  </thead>\n",
       "  <tbody>\n",
       "    <tr>\n",
       "      <th>California</th>\n",
       "      <th>0</th>\n",
       "      <td>0.359</td>\n",
       "      <td>3565371.628</td>\n",
       "      <td>10.030</td>\n",
       "    </tr>\n",
       "    <tr>\n",
       "      <th rowspan=\"2\" valign=\"top\">Georgia</th>\n",
       "      <th>0</th>\n",
       "      <td>0.034</td>\n",
       "      <td>3297634.801</td>\n",
       "      <td>8.358</td>\n",
       "    </tr>\n",
       "    <tr>\n",
       "      <th>1</th>\n",
       "      <td>0.000</td>\n",
       "      <td>2687100.162</td>\n",
       "      <td>8.066</td>\n",
       "    </tr>\n",
       "    <tr>\n",
       "      <th rowspan=\"2\" valign=\"top\">Ohio</th>\n",
       "      <th>0</th>\n",
       "      <td>0.024</td>\n",
       "      <td>2124785.640</td>\n",
       "      <td>11.952</td>\n",
       "    </tr>\n",
       "    <tr>\n",
       "      <th>1</th>\n",
       "      <td>0.000</td>\n",
       "      <td>400454.545</td>\n",
       "      <td>12.182</td>\n",
       "    </tr>\n",
       "    <tr>\n",
       "      <th rowspan=\"2\" valign=\"top\">Virginia</th>\n",
       "      <th>0</th>\n",
       "      <td>0.596</td>\n",
       "      <td>2784806.807</td>\n",
       "      <td>5.439</td>\n",
       "    </tr>\n",
       "    <tr>\n",
       "      <th>1</th>\n",
       "      <td>0.000</td>\n",
       "      <td>2150000.000</td>\n",
       "      <td>12.000</td>\n",
       "    </tr>\n",
       "  </tbody>\n",
       "</table>\n",
       "</div>"
      ],
      "text/plain": [
       "                                        Gov_Grant  Amount of Funds  \\\n",
       "State      State_Housing_Credit_Equity                               \n",
       "California 0                                0.359      3565371.628   \n",
       "Georgia    0                                0.034      3297634.801   \n",
       "           1                                0.000      2687100.162   \n",
       "Ohio       0                                0.024      2124785.640   \n",
       "           1                                0.000       400454.545   \n",
       "Virginia   0                                0.596      2784806.807   \n",
       "           1                                0.000      2150000.000   \n",
       "\n",
       "                                        Funding_count  \n",
       "State      State_Housing_Credit_Equity                 \n",
       "California 0                                   10.030  \n",
       "Georgia    0                                    8.358  \n",
       "           1                                    8.066  \n",
       "Ohio       0                                   11.952  \n",
       "           1                                   12.182  \n",
       "Virginia   0                                    5.439  \n",
       "           1                                   12.000  "
      ]
     },
     "execution_count": 83,
     "metadata": {},
     "output_type": "execute_result"
    }
   ],
   "source": [
    "financing.groupby([\"State\",'State_Housing_Credit_Equity']).mean()[[\"Gov_Grant\",\"Amount of Funds\",\"Funding_count\"]]"
   ]
  },
  {
   "cell_type": "code",
   "execution_count": 84,
   "metadata": {},
   "outputs": [
    {
     "data": {
      "text/html": [
       "<div>\n",
       "<style scoped>\n",
       "    .dataframe tbody tr th:only-of-type {\n",
       "        vertical-align: middle;\n",
       "    }\n",
       "\n",
       "    .dataframe tbody tr th {\n",
       "        vertical-align: top;\n",
       "    }\n",
       "\n",
       "    .dataframe thead th {\n",
       "        text-align: right;\n",
       "    }\n",
       "</style>\n",
       "<table border=\"1\" class=\"dataframe\">\n",
       "  <thead>\n",
       "    <tr style=\"text-align: right;\">\n",
       "      <th></th>\n",
       "      <th></th>\n",
       "      <th>Gov_Grant</th>\n",
       "      <th>Amount of Funds</th>\n",
       "      <th>Funding_count</th>\n",
       "    </tr>\n",
       "    <tr>\n",
       "      <th>State</th>\n",
       "      <th>State_Housing_Credit_Equity</th>\n",
       "      <th></th>\n",
       "      <th></th>\n",
       "      <th></th>\n",
       "    </tr>\n",
       "  </thead>\n",
       "  <tbody>\n",
       "    <tr>\n",
       "      <th>California</th>\n",
       "      <th>0</th>\n",
       "      <td>0.359</td>\n",
       "      <td>3565371.628</td>\n",
       "      <td>10.030</td>\n",
       "    </tr>\n",
       "    <tr>\n",
       "      <th rowspan=\"2\" valign=\"top\">Georgia</th>\n",
       "      <th>0</th>\n",
       "      <td>0.034</td>\n",
       "      <td>3297634.801</td>\n",
       "      <td>8.358</td>\n",
       "    </tr>\n",
       "    <tr>\n",
       "      <th>1</th>\n",
       "      <td>0.000</td>\n",
       "      <td>2687100.162</td>\n",
       "      <td>8.066</td>\n",
       "    </tr>\n",
       "    <tr>\n",
       "      <th rowspan=\"2\" valign=\"top\">Ohio</th>\n",
       "      <th>0</th>\n",
       "      <td>0.024</td>\n",
       "      <td>2124785.640</td>\n",
       "      <td>11.952</td>\n",
       "    </tr>\n",
       "    <tr>\n",
       "      <th>1</th>\n",
       "      <td>0.000</td>\n",
       "      <td>400454.545</td>\n",
       "      <td>12.182</td>\n",
       "    </tr>\n",
       "    <tr>\n",
       "      <th rowspan=\"2\" valign=\"top\">Virginia</th>\n",
       "      <th>0</th>\n",
       "      <td>0.637</td>\n",
       "      <td>2963268.122</td>\n",
       "      <td>5.304</td>\n",
       "    </tr>\n",
       "    <tr>\n",
       "      <th>1</th>\n",
       "      <td>0.000</td>\n",
       "      <td>2150000.000</td>\n",
       "      <td>12.000</td>\n",
       "    </tr>\n",
       "  </tbody>\n",
       "</table>\n",
       "</div>"
      ],
      "text/plain": [
       "                                        Gov_Grant  Amount of Funds  \\\n",
       "State      State_Housing_Credit_Equity                               \n",
       "California 0                                0.359      3565371.628   \n",
       "Georgia    0                                0.034      3297634.801   \n",
       "           1                                0.000      2687100.162   \n",
       "Ohio       0                                0.024      2124785.640   \n",
       "           1                                0.000       400454.545   \n",
       "Virginia   0                                0.637      2963268.122   \n",
       "           1                                0.000      2150000.000   \n",
       "\n",
       "                                        Funding_count  \n",
       "State      State_Housing_Credit_Equity                 \n",
       "California 0                                   10.030  \n",
       "Georgia    0                                    8.358  \n",
       "           1                                    8.066  \n",
       "Ohio       0                                   11.952  \n",
       "           1                                   12.182  \n",
       "Virginia   0                                    5.304  \n",
       "           1                                   12.000  "
      ]
     },
     "execution_count": 84,
     "metadata": {},
     "output_type": "execute_result"
    }
   ],
   "source": [
    "financing_type = financing[(financing[\"Funding Type\"] != \"Grants\")&(financing[\"Funding Type\"] != \"Subsidized Financing\")]\n",
    "financing_type.groupby([\"State\",'State_Housing_Credit_Equity']).mean()[[\"Gov_Grant\",\"Amount of Funds\",\"Funding_count\"]]"
   ]
  },
  {
   "cell_type": "code",
   "execution_count": 85,
   "metadata": {},
   "outputs": [
    {
     "data": {
      "text/html": [
       "<div>\n",
       "<style scoped>\n",
       "    .dataframe tbody tr th:only-of-type {\n",
       "        vertical-align: middle;\n",
       "    }\n",
       "\n",
       "    .dataframe tbody tr th {\n",
       "        vertical-align: top;\n",
       "    }\n",
       "\n",
       "    .dataframe thead th {\n",
       "        text-align: right;\n",
       "    }\n",
       "</style>\n",
       "<table border=\"1\" class=\"dataframe\">\n",
       "  <thead>\n",
       "    <tr style=\"text-align: right;\">\n",
       "      <th></th>\n",
       "      <th></th>\n",
       "      <th></th>\n",
       "      <th>Gov_Grant</th>\n",
       "      <th>Amount of Funds</th>\n",
       "      <th>Funding_count</th>\n",
       "    </tr>\n",
       "    <tr>\n",
       "      <th>State</th>\n",
       "      <th>State_Housing_Credit_Equity</th>\n",
       "      <th>Funding Type</th>\n",
       "      <th></th>\n",
       "      <th></th>\n",
       "      <th></th>\n",
       "    </tr>\n",
       "  </thead>\n",
       "  <tbody>\n",
       "    <tr>\n",
       "      <th rowspan=\"2\" valign=\"top\">California</th>\n",
       "      <th rowspan=\"2\" valign=\"top\">0</th>\n",
       "      <th>Construction Financing</th>\n",
       "      <td>0.303</td>\n",
       "      <td>4645243.841</td>\n",
       "      <td>9.911</td>\n",
       "    </tr>\n",
       "    <tr>\n",
       "      <th>Permanent Financing</th>\n",
       "      <td>0.430</td>\n",
       "      <td>2198114.069</td>\n",
       "      <td>10.181</td>\n",
       "    </tr>\n",
       "    <tr>\n",
       "      <th rowspan=\"4\" valign=\"top\">Georgia</th>\n",
       "      <th rowspan=\"2\" valign=\"top\">0</th>\n",
       "      <th>Construction Financing</th>\n",
       "      <td>0.037</td>\n",
       "      <td>3717147.297</td>\n",
       "      <td>8.390</td>\n",
       "    </tr>\n",
       "    <tr>\n",
       "      <th>Permanent Financing</th>\n",
       "      <td>0.032</td>\n",
       "      <td>2931677.093</td>\n",
       "      <td>8.330</td>\n",
       "    </tr>\n",
       "    <tr>\n",
       "      <th rowspan=\"2\" valign=\"top\">1</th>\n",
       "      <th>Construction Financing</th>\n",
       "      <td>0.000</td>\n",
       "      <td>1451176.797</td>\n",
       "      <td>8.100</td>\n",
       "    </tr>\n",
       "    <tr>\n",
       "      <th>Permanent Financing</th>\n",
       "      <td>0.000</td>\n",
       "      <td>3883155.032</td>\n",
       "      <td>8.032</td>\n",
       "    </tr>\n",
       "    <tr>\n",
       "      <th rowspan=\"4\" valign=\"top\">Ohio</th>\n",
       "      <th rowspan=\"2\" valign=\"top\">0</th>\n",
       "      <th>Construction Financing</th>\n",
       "      <td>0.013</td>\n",
       "      <td>2010117.555</td>\n",
       "      <td>11.961</td>\n",
       "    </tr>\n",
       "    <tr>\n",
       "      <th>Permanent Financing</th>\n",
       "      <td>0.036</td>\n",
       "      <td>2251086.720</td>\n",
       "      <td>11.942</td>\n",
       "    </tr>\n",
       "    <tr>\n",
       "      <th rowspan=\"2\" valign=\"top\">1</th>\n",
       "      <th>Construction Financing</th>\n",
       "      <td>0.000</td>\n",
       "      <td>391818.182</td>\n",
       "      <td>12.182</td>\n",
       "    </tr>\n",
       "    <tr>\n",
       "      <th>Permanent Financing</th>\n",
       "      <td>0.000</td>\n",
       "      <td>409090.909</td>\n",
       "      <td>12.182</td>\n",
       "    </tr>\n",
       "    <tr>\n",
       "      <th rowspan=\"3\" valign=\"top\">Virginia</th>\n",
       "      <th rowspan=\"2\" valign=\"top\">0</th>\n",
       "      <th>Construction Financing</th>\n",
       "      <td>0.048</td>\n",
       "      <td>8014733.000</td>\n",
       "      <td>4.952</td>\n",
       "    </tr>\n",
       "    <tr>\n",
       "      <th>Permanent Financing</th>\n",
       "      <td>0.790</td>\n",
       "      <td>1903084.136</td>\n",
       "      <td>5.395</td>\n",
       "    </tr>\n",
       "    <tr>\n",
       "      <th>1</th>\n",
       "      <th>Permanent Financing</th>\n",
       "      <td>0.000</td>\n",
       "      <td>2150000.000</td>\n",
       "      <td>12.000</td>\n",
       "    </tr>\n",
       "  </tbody>\n",
       "</table>\n",
       "</div>"
      ],
      "text/plain": [
       "                                                               Gov_Grant  \\\n",
       "State      State_Housing_Credit_Equity Funding Type                        \n",
       "California 0                           Construction Financing      0.303   \n",
       "                                       Permanent Financing         0.430   \n",
       "Georgia    0                           Construction Financing      0.037   \n",
       "                                       Permanent Financing         0.032   \n",
       "           1                           Construction Financing      0.000   \n",
       "                                       Permanent Financing         0.000   \n",
       "Ohio       0                           Construction Financing      0.013   \n",
       "                                       Permanent Financing         0.036   \n",
       "           1                           Construction Financing      0.000   \n",
       "                                       Permanent Financing         0.000   \n",
       "Virginia   0                           Construction Financing      0.048   \n",
       "                                       Permanent Financing         0.790   \n",
       "           1                           Permanent Financing         0.000   \n",
       "\n",
       "                                                               Amount of Funds  \\\n",
       "State      State_Housing_Credit_Equity Funding Type                              \n",
       "California 0                           Construction Financing      4645243.841   \n",
       "                                       Permanent Financing         2198114.069   \n",
       "Georgia    0                           Construction Financing      3717147.297   \n",
       "                                       Permanent Financing         2931677.093   \n",
       "           1                           Construction Financing      1451176.797   \n",
       "                                       Permanent Financing         3883155.032   \n",
       "Ohio       0                           Construction Financing      2010117.555   \n",
       "                                       Permanent Financing         2251086.720   \n",
       "           1                           Construction Financing       391818.182   \n",
       "                                       Permanent Financing          409090.909   \n",
       "Virginia   0                           Construction Financing      8014733.000   \n",
       "                                       Permanent Financing         1903084.136   \n",
       "           1                           Permanent Financing         2150000.000   \n",
       "\n",
       "                                                               Funding_count  \n",
       "State      State_Housing_Credit_Equity Funding Type                           \n",
       "California 0                           Construction Financing          9.911  \n",
       "                                       Permanent Financing            10.181  \n",
       "Georgia    0                           Construction Financing          8.390  \n",
       "                                       Permanent Financing             8.330  \n",
       "           1                           Construction Financing          8.100  \n",
       "                                       Permanent Financing             8.032  \n",
       "Ohio       0                           Construction Financing         11.961  \n",
       "                                       Permanent Financing            11.942  \n",
       "           1                           Construction Financing         12.182  \n",
       "                                       Permanent Financing            12.182  \n",
       "Virginia   0                           Construction Financing          4.952  \n",
       "                                       Permanent Financing             5.395  \n",
       "           1                           Permanent Financing            12.000  "
      ]
     },
     "execution_count": 85,
     "metadata": {},
     "output_type": "execute_result"
    }
   ],
   "source": [
    "financing_type.groupby([\"State\",'State_Housing_Credit_Equity',\"Funding Type\"]).mean()[[\"Gov_Grant\",\"Amount of Funds\",\"Funding_count\"]]"
   ]
  },
  {
   "cell_type": "markdown",
   "metadata": {},
   "source": [
    "### Below here is Various scratch work from QU, will eventually delete. "
   ]
  },
  {
   "cell_type": "code",
   "execution_count": 86,
   "metadata": {},
   "outputs": [
    {
     "data": {
      "text/html": [
       "<div>\n",
       "<style scoped>\n",
       "    .dataframe tbody tr th:only-of-type {\n",
       "        vertical-align: middle;\n",
       "    }\n",
       "\n",
       "    .dataframe tbody tr th {\n",
       "        vertical-align: top;\n",
       "    }\n",
       "\n",
       "    .dataframe thead th {\n",
       "        text-align: right;\n",
       "    }\n",
       "</style>\n",
       "<table border=\"1\" class=\"dataframe\">\n",
       "  <thead>\n",
       "    <tr style=\"text-align: right;\">\n",
       "      <th></th>\n",
       "      <th>Project Type</th>\n",
       "      <th>Gov_Grant</th>\n",
       "    </tr>\n",
       "  </thead>\n",
       "  <tbody>\n",
       "    <tr>\n",
       "      <th>1</th>\n",
       "      <td>Family</td>\n",
       "      <td>0.184</td>\n",
       "    </tr>\n",
       "    <tr>\n",
       "      <th>2</th>\n",
       "      <td>Seniors</td>\n",
       "      <td>0.074</td>\n",
       "    </tr>\n",
       "    <tr>\n",
       "      <th>3</th>\n",
       "      <td>Service Enriched</td>\n",
       "      <td>0.114</td>\n",
       "    </tr>\n",
       "    <tr>\n",
       "      <th>4</th>\n",
       "      <td>Special Needs</td>\n",
       "      <td>0.500</td>\n",
       "    </tr>\n",
       "  </tbody>\n",
       "</table>\n",
       "</div>"
      ],
      "text/plain": [
       "       Project Type  Gov_Grant\n",
       "1            Family      0.184\n",
       "2           Seniors      0.074\n",
       "3  Service Enriched      0.114\n",
       "4     Special Needs      0.500"
      ]
     },
     "execution_count": 86,
     "metadata": {},
     "output_type": "execute_result"
    }
   ],
   "source": [
    "financing[[\"Gov_Grant\",\"Project Type\"]].groupby(\"Project Type\").mean().reset_index()[1:]"
   ]
  },
  {
   "cell_type": "code",
   "execution_count": 87,
   "metadata": {},
   "outputs": [
    {
     "data": {
      "text/plain": [
       "0    945\n",
       "1    283\n",
       "Name: Gov_Grant, dtype: int64"
      ]
     },
     "execution_count": 87,
     "metadata": {},
     "output_type": "execute_result"
    }
   ],
   "source": [
    "financing[\"Gov_Grant\"].value_counts()"
   ]
  },
  {
   "cell_type": "code",
   "execution_count": 88,
   "metadata": {},
   "outputs": [
    {
     "data": {
      "text/html": [
       "<div>\n",
       "<style scoped>\n",
       "    .dataframe tbody tr th:only-of-type {\n",
       "        vertical-align: middle;\n",
       "    }\n",
       "\n",
       "    .dataframe tbody tr th {\n",
       "        vertical-align: top;\n",
       "    }\n",
       "\n",
       "    .dataframe thead th {\n",
       "        text-align: right;\n",
       "    }\n",
       "</style>\n",
       "<table border=\"1\" class=\"dataframe\">\n",
       "  <thead>\n",
       "    <tr style=\"text-align: right;\">\n",
       "      <th></th>\n",
       "      <th>Amount of Funds</th>\n",
       "    </tr>\n",
       "    <tr>\n",
       "      <th>Gov_Grant</th>\n",
       "      <th></th>\n",
       "    </tr>\n",
       "  </thead>\n",
       "  <tbody>\n",
       "    <tr>\n",
       "      <th>0</th>\n",
       "      <td>3056441134.800</td>\n",
       "    </tr>\n",
       "    <tr>\n",
       "      <th>1</th>\n",
       "      <td>624436333.000</td>\n",
       "    </tr>\n",
       "  </tbody>\n",
       "</table>\n",
       "</div>"
      ],
      "text/plain": [
       "           Amount of Funds\n",
       "Gov_Grant                 \n",
       "0           3056441134.800\n",
       "1            624436333.000"
      ]
     },
     "execution_count": 88,
     "metadata": {},
     "output_type": "execute_result"
    }
   ],
   "source": [
    "financing[[\"Gov_Grant\",\"Amount of Funds\"]].groupby(\"Gov_Grant\").sum()"
   ]
  },
  {
   "cell_type": "code",
   "execution_count": 89,
   "metadata": {},
   "outputs": [
    {
     "data": {
      "text/html": [
       "<div>\n",
       "<style scoped>\n",
       "    .dataframe tbody tr th:only-of-type {\n",
       "        vertical-align: middle;\n",
       "    }\n",
       "\n",
       "    .dataframe tbody tr th {\n",
       "        vertical-align: top;\n",
       "    }\n",
       "\n",
       "    .dataframe thead th {\n",
       "        text-align: right;\n",
       "    }\n",
       "</style>\n",
       "<table border=\"1\" class=\"dataframe\">\n",
       "  <thead>\n",
       "    <tr style=\"text-align: right;\">\n",
       "      <th></th>\n",
       "      <th>Amount of Funds</th>\n",
       "    </tr>\n",
       "    <tr>\n",
       "      <th>debt_financing</th>\n",
       "      <th></th>\n",
       "    </tr>\n",
       "  </thead>\n",
       "  <tbody>\n",
       "    <tr>\n",
       "      <th>0.000</th>\n",
       "      <td>1614802253.420</td>\n",
       "    </tr>\n",
       "    <tr>\n",
       "      <th>1.000</th>\n",
       "      <td>1830620383.810</td>\n",
       "    </tr>\n",
       "  </tbody>\n",
       "</table>\n",
       "</div>"
      ],
      "text/plain": [
       "                Amount of Funds\n",
       "debt_financing                 \n",
       "0.000            1614802253.420\n",
       "1.000            1830620383.810"
      ]
     },
     "execution_count": 89,
     "metadata": {},
     "output_type": "execute_result"
    }
   ],
   "source": [
    "financing[[\"debt_financing\",\"Amount of Funds\"]].groupby(\"debt_financing\").sum()"
   ]
  },
  {
   "cell_type": "code",
   "execution_count": 90,
   "metadata": {
    "scrolled": true
   },
   "outputs": [],
   "source": [
    "financing_type = financing[(financing[\"Funding Type\"] != \"Grants\")&(financing[\"Funding Type\"] != \"Subsidized Financing\")]"
   ]
  },
  {
   "cell_type": "code",
   "execution_count": 91,
   "metadata": {
    "scrolled": true
   },
   "outputs": [
    {
     "data": {
      "text/html": [
       "<div>\n",
       "<style scoped>\n",
       "    .dataframe tbody tr th:only-of-type {\n",
       "        vertical-align: middle;\n",
       "    }\n",
       "\n",
       "    .dataframe tbody tr th {\n",
       "        vertical-align: top;\n",
       "    }\n",
       "\n",
       "    .dataframe thead th {\n",
       "        text-align: right;\n",
       "    }\n",
       "</style>\n",
       "<table border=\"1\" class=\"dataframe\">\n",
       "  <thead>\n",
       "    <tr style=\"text-align: right;\">\n",
       "      <th></th>\n",
       "      <th></th>\n",
       "      <th>Amount of Funds</th>\n",
       "    </tr>\n",
       "    <tr>\n",
       "      <th>debt_financing</th>\n",
       "      <th>Funding Type</th>\n",
       "      <th></th>\n",
       "    </tr>\n",
       "  </thead>\n",
       "  <tbody>\n",
       "    <tr>\n",
       "      <th rowspan=\"2\" valign=\"top\">0.000</th>\n",
       "      <th>Construction Financing</th>\n",
       "      <td>592243928.370</td>\n",
       "    </tr>\n",
       "    <tr>\n",
       "      <th>Permanent Financing</th>\n",
       "      <td>1009414659.050</td>\n",
       "    </tr>\n",
       "    <tr>\n",
       "      <th rowspan=\"2\" valign=\"top\">1.000</th>\n",
       "      <th>Construction Financing</th>\n",
       "      <td>1496950545.810</td>\n",
       "    </tr>\n",
       "    <tr>\n",
       "      <th>Permanent Financing</th>\n",
       "      <td>333669838.000</td>\n",
       "    </tr>\n",
       "  </tbody>\n",
       "</table>\n",
       "</div>"
      ],
      "text/plain": [
       "                                       Amount of Funds\n",
       "debt_financing Funding Type                           \n",
       "0.000          Construction Financing    592243928.370\n",
       "               Permanent Financing      1009414659.050\n",
       "1.000          Construction Financing   1496950545.810\n",
       "               Permanent Financing       333669838.000"
      ]
     },
     "execution_count": 91,
     "metadata": {},
     "output_type": "execute_result"
    }
   ],
   "source": [
    "financing_type[[\"debt_financing\",\"Amount of Funds\",\"Funding Type\"]].groupby([\"debt_financing\",\"Funding Type\"]).sum()"
   ]
  },
  {
   "cell_type": "code",
   "execution_count": 92,
   "metadata": {},
   "outputs": [
    {
     "data": {
      "text/plain": [
       "Funding Type\n",
       "Construction Financing   0.021\n",
       "Permanent Financing      0.091\n",
       "dtype: float64"
      ]
     },
     "execution_count": 92,
     "metadata": {},
     "output_type": "execute_result"
    }
   ],
   "source": [
    "financing_type[financing_type.State_Housing_Credit_Equity.notnull()].groupby('Funding Type').apply(lambda x: \n",
    "                                             np.nansum(x.State_Housing_Credit_Equity*x['Amount of Funds'])/np.nansum(x['Amount of Funds']))"
   ]
  },
  {
   "cell_type": "code",
   "execution_count": 93,
   "metadata": {},
   "outputs": [
    {
     "data": {
      "text/plain": [
       "Funding Type\n",
       "Construction Financing   0.108\n",
       "Permanent Financing      0.269\n",
       "dtype: float64"
      ]
     },
     "execution_count": 93,
     "metadata": {},
     "output_type": "execute_result"
    }
   ],
   "source": [
    "financing_type[financing_type.Gov_Grant.notnull()].groupby('Funding Type').apply(lambda x: \n",
    "                                             np.nansum(x.Gov_Grant*x['Amount of Funds'])/np.nansum(x['Amount of Funds']))"
   ]
  },
  {
   "cell_type": "code",
   "execution_count": 94,
   "metadata": {},
   "outputs": [
    {
     "data": {
      "text/plain": [
       "Funding Type\n",
       "Construction Financing   0.717\n",
       "Permanent Financing      0.248\n",
       "dtype: float64"
      ]
     },
     "execution_count": 94,
     "metadata": {},
     "output_type": "execute_result"
    }
   ],
   "source": [
    "financing_type[financing_type.debt_financing.notnull()].groupby('Funding Type').apply(lambda x: \n",
    "                                             np.nansum(x.debt_financing*x['Amount of Funds'])/np.nansum(x['Amount of Funds']))"
   ]
  },
  {
   "cell_type": "code",
   "execution_count": 95,
   "metadata": {},
   "outputs": [
    {
     "data": {
      "text/plain": [
       "0.7165204409213971"
      ]
     },
     "execution_count": 95,
     "metadata": {},
     "output_type": "execute_result"
    }
   ],
   "source": [
    "#Construction Financing \n",
    "1496950545.810/(1496950545.810+592243928.370)"
   ]
  },
  {
   "cell_type": "code",
   "execution_count": 96,
   "metadata": {},
   "outputs": [
    {
     "data": {
      "text/plain": [
       "0.24843547724129394"
      ]
     },
     "execution_count": 96,
     "metadata": {},
     "output_type": "execute_result"
    }
   ],
   "source": [
    "#Permanent Finacing \n",
    "333669838.000/(333669838.000+1009414659.050)"
   ]
  },
  {
   "cell_type": "code",
   "execution_count": 97,
   "metadata": {},
   "outputs": [],
   "source": [
    "#grants is just virginia and just three. and subsidized financing is just 9 things in virginia  \n",
    "financing[\"Funding Type\"] = financing[\"Funding Type\"].replace({\"Permanent Financing Sources\": 'Permanent Financing',\n",
    "                                   'Construction Financing Sources':\"Construction Financing\"})"
   ]
  },
  {
   "cell_type": "code",
   "execution_count": 98,
   "metadata": {},
   "outputs": [
    {
     "data": {
      "text/plain": [
       "0.5313195437996411"
      ]
     },
     "execution_count": 98,
     "metadata": {},
     "output_type": "execute_result"
    }
   ],
   "source": [
    "#total percentage of financing that is debt financing.\n",
    "#should break this down by construction and perm \n",
    "1830620383.810/(1830620383.810+1614802253.420)"
   ]
  },
  {
   "cell_type": "code",
   "execution_count": 99,
   "metadata": {},
   "outputs": [
    {
     "data": {
      "text/plain": [
       "0.1696433359878223"
      ]
     },
     "execution_count": 99,
     "metadata": {},
     "output_type": "execute_result"
    }
   ],
   "source": [
    "624436333.00/(624436333.00+3056441134.80)"
   ]
  },
  {
   "cell_type": "code",
   "execution_count": 100,
   "metadata": {},
   "outputs": [
    {
     "data": {
      "text/plain": [
       "1228"
      ]
     },
     "execution_count": 100,
     "metadata": {},
     "output_type": "execute_result"
    }
   ],
   "source": [
    "945+283"
   ]
  },
  {
   "cell_type": "code",
   "execution_count": 101,
   "metadata": {},
   "outputs": [
    {
     "data": {
      "text/html": [
       "<div>\n",
       "<style scoped>\n",
       "    .dataframe tbody tr th:only-of-type {\n",
       "        vertical-align: middle;\n",
       "    }\n",
       "\n",
       "    .dataframe tbody tr th {\n",
       "        vertical-align: top;\n",
       "    }\n",
       "\n",
       "    .dataframe thead th {\n",
       "        text-align: right;\n",
       "    }\n",
       "</style>\n",
       "<table border=\"1\" class=\"dataframe\">\n",
       "  <thead>\n",
       "    <tr style=\"text-align: right;\">\n",
       "      <th></th>\n",
       "      <th>Amount of Funds</th>\n",
       "    </tr>\n",
       "    <tr>\n",
       "      <th>State_Housing_Credit_Equity</th>\n",
       "      <th></th>\n",
       "    </tr>\n",
       "  </thead>\n",
       "  <tbody>\n",
       "    <tr>\n",
       "      <th>0</th>\n",
       "      <td>3503854357.900</td>\n",
       "    </tr>\n",
       "    <tr>\n",
       "      <th>1</th>\n",
       "      <td>177023109.900</td>\n",
       "    </tr>\n",
       "  </tbody>\n",
       "</table>\n",
       "</div>"
      ],
      "text/plain": [
       "                             Amount of Funds\n",
       "State_Housing_Credit_Equity                 \n",
       "0                             3503854357.900\n",
       "1                              177023109.900"
      ]
     },
     "execution_count": 101,
     "metadata": {},
     "output_type": "execute_result"
    }
   ],
   "source": [
    "financing[[\"State_Housing_Credit_Equity\",\"Amount of Funds\"]].groupby(\"State_Housing_Credit_Equity\").sum()"
   ]
  },
  {
   "cell_type": "code",
   "execution_count": 102,
   "metadata": {},
   "outputs": [
    {
     "data": {
      "text/plain": [
       "0.04809263862994163"
      ]
     },
     "execution_count": 102,
     "metadata": {},
     "output_type": "execute_result"
    }
   ],
   "source": [
    "177023109.90/(3503854357.90+177023109.90)"
   ]
  },
  {
   "cell_type": "code",
   "execution_count": 103,
   "metadata": {},
   "outputs": [
    {
     "data": {
      "text/plain": [
       "0    1143\n",
       "1      85\n",
       "Name: State_Housing_Credit_Equity, dtype: int64"
      ]
     },
     "execution_count": 103,
     "metadata": {},
     "output_type": "execute_result"
    }
   ],
   "source": [
    "financing[\"State_Housing_Credit_Equity\"].value_counts()"
   ]
  },
  {
   "cell_type": "code",
   "execution_count": 104,
   "metadata": {},
   "outputs": [],
   "source": [
    "perm_financing = financing[financing[\"Funding Type\"] ==\"Permanent Financing\"]"
   ]
  },
  {
   "cell_type": "code",
   "execution_count": 105,
   "metadata": {},
   "outputs": [],
   "source": [
    "perm_by_state = perm_financing[[\"debt_financing\",\"Amount of Funds\",\"State\"]].groupby([\"debt_financing\",\"State\"]).count()"
   ]
  },
  {
   "cell_type": "code",
   "execution_count": 106,
   "metadata": {},
   "outputs": [],
   "source": [
    "perm_by_type = perm_financing[[\"debt_financing\",\"Amount of Funds\",\"Project Type\"]].groupby([\"debt_financing\",\"Project Type\"]).count()"
   ]
  },
  {
   "cell_type": "code",
   "execution_count": 107,
   "metadata": {},
   "outputs": [
    {
     "data": {
      "text/html": [
       "<div>\n",
       "<style scoped>\n",
       "    .dataframe tbody tr th:only-of-type {\n",
       "        vertical-align: middle;\n",
       "    }\n",
       "\n",
       "    .dataframe tbody tr th {\n",
       "        vertical-align: top;\n",
       "    }\n",
       "\n",
       "    .dataframe thead th {\n",
       "        text-align: right;\n",
       "    }\n",
       "</style>\n",
       "<table border=\"1\" class=\"dataframe\">\n",
       "  <thead>\n",
       "    <tr style=\"text-align: right;\">\n",
       "      <th></th>\n",
       "      <th></th>\n",
       "      <th>Amount of Funds</th>\n",
       "    </tr>\n",
       "    <tr>\n",
       "      <th>debt_financing</th>\n",
       "      <th>Project Type</th>\n",
       "      <th></th>\n",
       "    </tr>\n",
       "  </thead>\n",
       "  <tbody>\n",
       "    <tr>\n",
       "      <th rowspan=\"5\" valign=\"top\">0.000</th>\n",
       "      <th>At-Risk</th>\n",
       "      <td>3</td>\n",
       "    </tr>\n",
       "    <tr>\n",
       "      <th>Family</th>\n",
       "      <td>189</td>\n",
       "    </tr>\n",
       "    <tr>\n",
       "      <th>Seniors</th>\n",
       "      <td>66</td>\n",
       "    </tr>\n",
       "    <tr>\n",
       "      <th>Service Enriched</th>\n",
       "      <td>10</td>\n",
       "    </tr>\n",
       "    <tr>\n",
       "      <th>Special Needs</th>\n",
       "      <td>54</td>\n",
       "    </tr>\n",
       "    <tr>\n",
       "      <th rowspan=\"5\" valign=\"top\">1.000</th>\n",
       "      <th>At-Risk</th>\n",
       "      <td>14</td>\n",
       "    </tr>\n",
       "    <tr>\n",
       "      <th>Family</th>\n",
       "      <td>79</td>\n",
       "    </tr>\n",
       "    <tr>\n",
       "      <th>Seniors</th>\n",
       "      <td>29</td>\n",
       "    </tr>\n",
       "    <tr>\n",
       "      <th>Service Enriched</th>\n",
       "      <td>2</td>\n",
       "    </tr>\n",
       "    <tr>\n",
       "      <th>Special Needs</th>\n",
       "      <td>8</td>\n",
       "    </tr>\n",
       "  </tbody>\n",
       "</table>\n",
       "</div>"
      ],
      "text/plain": [
       "                                 Amount of Funds\n",
       "debt_financing Project Type                     \n",
       "0.000          At-Risk                         3\n",
       "               Family                        189\n",
       "               Seniors                        66\n",
       "               Service Enriched               10\n",
       "               Special Needs                  54\n",
       "1.000          At-Risk                        14\n",
       "               Family                         79\n",
       "               Seniors                        29\n",
       "               Service Enriched                2\n",
       "               Special Needs                   8"
      ]
     },
     "execution_count": 107,
     "metadata": {},
     "output_type": "execute_result"
    }
   ],
   "source": [
    "perm_by_type"
   ]
  },
  {
   "cell_type": "code",
   "execution_count": 108,
   "metadata": {},
   "outputs": [],
   "source": [
    "perm_by_type = perm_by_type.reset_index()"
   ]
  },
  {
   "cell_type": "code",
   "execution_count": 109,
   "metadata": {},
   "outputs": [
    {
     "data": {
      "text/plain": [
       "0.12903225806451613"
      ]
     },
     "execution_count": 109,
     "metadata": {},
     "output_type": "execute_result"
    }
   ],
   "source": [
    "#special needs\n",
    "8/(8+54)"
   ]
  },
  {
   "cell_type": "code",
   "execution_count": 110,
   "metadata": {},
   "outputs": [
    {
     "data": {
      "text/plain": [
       "0.2923076923076923"
      ]
     },
     "execution_count": 110,
     "metadata": {},
     "output_type": "execute_result"
    }
   ],
   "source": [
    "#seniors \n",
    "19/(19+46)"
   ]
  },
  {
   "cell_type": "code",
   "execution_count": 111,
   "metadata": {},
   "outputs": [
    {
     "data": {
      "text/plain": [
       "0.29207920792079206"
      ]
     },
     "execution_count": 111,
     "metadata": {},
     "output_type": "execute_result"
    }
   ],
   "source": [
    "#family \n",
    "59/(59+143)"
   ]
  },
  {
   "cell_type": "code",
   "execution_count": 112,
   "metadata": {},
   "outputs": [
    {
     "data": {
      "text/plain": [
       "0.8235294117647058"
      ]
     },
     "execution_count": 112,
     "metadata": {},
     "output_type": "execute_result"
    }
   ],
   "source": [
    "#at risk \n",
    "14/(14+3)"
   ]
  },
  {
   "cell_type": "code",
   "execution_count": 113,
   "metadata": {},
   "outputs": [],
   "source": [
    "#special needs\n",
    "\n",
    "#seniords \n",
    "\n",
    "#family "
   ]
  },
  {
   "cell_type": "code",
   "execution_count": 114,
   "metadata": {},
   "outputs": [
    {
     "data": {
      "text/html": [
       "<div>\n",
       "<style scoped>\n",
       "    .dataframe tbody tr th:only-of-type {\n",
       "        vertical-align: middle;\n",
       "    }\n",
       "\n",
       "    .dataframe tbody tr th {\n",
       "        vertical-align: top;\n",
       "    }\n",
       "\n",
       "    .dataframe thead th {\n",
       "        text-align: right;\n",
       "    }\n",
       "</style>\n",
       "<table border=\"1\" class=\"dataframe\">\n",
       "  <thead>\n",
       "    <tr style=\"text-align: right;\">\n",
       "      <th></th>\n",
       "      <th>Amount of Funds</th>\n",
       "    </tr>\n",
       "    <tr>\n",
       "      <th>debt_financing</th>\n",
       "      <th></th>\n",
       "    </tr>\n",
       "  </thead>\n",
       "  <tbody>\n",
       "    <tr>\n",
       "      <th>0.000</th>\n",
       "      <td>397</td>\n",
       "    </tr>\n",
       "    <tr>\n",
       "      <th>1.000</th>\n",
       "      <td>138</td>\n",
       "    </tr>\n",
       "  </tbody>\n",
       "</table>\n",
       "</div>"
      ],
      "text/plain": [
       "                Amount of Funds\n",
       "debt_financing                 \n",
       "0.000                       397\n",
       "1.000                       138"
      ]
     },
     "execution_count": 114,
     "metadata": {},
     "output_type": "execute_result"
    }
   ],
   "source": [
    "perm_financing[[\"debt_financing\",\"Amount of Funds\"]].groupby([\"debt_financing\"]).count()"
   ]
  },
  {
   "cell_type": "code",
   "execution_count": 115,
   "metadata": {},
   "outputs": [
    {
     "data": {
      "text/plain": [
       "0.24390243902439024"
      ]
     },
     "execution_count": 115,
     "metadata": {},
     "output_type": "execute_result"
    }
   ],
   "source": [
    "100/(100+310)"
   ]
  },
  {
   "cell_type": "code",
   "execution_count": 116,
   "metadata": {},
   "outputs": [
    {
     "data": {
      "text/html": [
       "<div>\n",
       "<style scoped>\n",
       "    .dataframe tbody tr th:only-of-type {\n",
       "        vertical-align: middle;\n",
       "    }\n",
       "\n",
       "    .dataframe tbody tr th {\n",
       "        vertical-align: top;\n",
       "    }\n",
       "\n",
       "    .dataframe thead th {\n",
       "        text-align: right;\n",
       "    }\n",
       "</style>\n",
       "<table border=\"1\" class=\"dataframe\">\n",
       "  <thead>\n",
       "    <tr style=\"text-align: right;\">\n",
       "      <th></th>\n",
       "      <th></th>\n",
       "      <th>Amount of Funds</th>\n",
       "    </tr>\n",
       "    <tr>\n",
       "      <th>debt_financing</th>\n",
       "      <th>State</th>\n",
       "      <th></th>\n",
       "    </tr>\n",
       "  </thead>\n",
       "  <tbody>\n",
       "    <tr>\n",
       "      <th rowspan=\"4\" valign=\"top\">0.000</th>\n",
       "      <th>California</th>\n",
       "      <td>155</td>\n",
       "    </tr>\n",
       "    <tr>\n",
       "      <th>Georgia</th>\n",
       "      <td>91</td>\n",
       "    </tr>\n",
       "    <tr>\n",
       "      <th>Ohio</th>\n",
       "      <td>76</td>\n",
       "    </tr>\n",
       "    <tr>\n",
       "      <th>Virginia</th>\n",
       "      <td>75</td>\n",
       "    </tr>\n",
       "    <tr>\n",
       "      <th rowspan=\"4\" valign=\"top\">1.000</th>\n",
       "      <th>California</th>\n",
       "      <td>66</td>\n",
       "    </tr>\n",
       "    <tr>\n",
       "      <th>Georgia</th>\n",
       "      <td>34</td>\n",
       "    </tr>\n",
       "    <tr>\n",
       "      <th>Ohio</th>\n",
       "      <td>32</td>\n",
       "    </tr>\n",
       "    <tr>\n",
       "      <th>Virginia</th>\n",
       "      <td>6</td>\n",
       "    </tr>\n",
       "  </tbody>\n",
       "</table>\n",
       "</div>"
      ],
      "text/plain": [
       "                           Amount of Funds\n",
       "debt_financing State                      \n",
       "0.000          California              155\n",
       "               Georgia                  91\n",
       "               Ohio                     76\n",
       "               Virginia                 75\n",
       "1.000          California               66\n",
       "               Georgia                  34\n",
       "               Ohio                     32\n",
       "               Virginia                  6"
      ]
     },
     "execution_count": 116,
     "metadata": {},
     "output_type": "execute_result"
    }
   ],
   "source": [
    "perm_by_state"
   ]
  },
  {
   "cell_type": "code",
   "execution_count": 117,
   "metadata": {},
   "outputs": [
    {
     "data": {
      "text/plain": [
       "0.12345679012345678"
      ]
     },
     "execution_count": 117,
     "metadata": {},
     "output_type": "execute_result"
    }
   ],
   "source": [
    "#virginia by state \n",
    "10/(10+71)"
   ]
  },
  {
   "cell_type": "code",
   "execution_count": 118,
   "metadata": {},
   "outputs": [
    {
     "data": {
      "text/plain": [
       "0.272"
      ]
     },
     "execution_count": 118,
     "metadata": {},
     "output_type": "execute_result"
    }
   ],
   "source": [
    "34/(34+91)"
   ]
  },
  {
   "cell_type": "code",
   "execution_count": 119,
   "metadata": {},
   "outputs": [
    {
     "data": {
      "text/plain": [
       "0.27450980392156865"
      ]
     },
     "execution_count": 119,
     "metadata": {},
     "output_type": "execute_result"
    }
   ],
   "source": [
    "56/(56+148)"
   ]
  },
  {
   "cell_type": "code",
   "execution_count": 120,
   "metadata": {},
   "outputs": [
    {
     "data": {
      "text/plain": [
       "array(['California', 'Virginia', 'Ohio', 'Georgia'], dtype=object)"
      ]
     },
     "execution_count": 120,
     "metadata": {},
     "output_type": "execute_result"
    }
   ],
   "source": [
    "perm_financing[\"State\"].unique()"
   ]
  },
  {
   "cell_type": "code",
   "execution_count": 121,
   "metadata": {},
   "outputs": [
    {
     "data": {
      "text/plain": [
       "0.27266867781614357"
      ]
     },
     "execution_count": 121,
     "metadata": {},
     "output_type": "execute_result"
    }
   ],
   "source": [
    "284339584.00/(284339584.00+758462934.71)"
   ]
  },
  {
   "cell_type": "code",
   "execution_count": 122,
   "metadata": {},
   "outputs": [
    {
     "data": {
      "text/html": [
       "<div>\n",
       "<style scoped>\n",
       "    .dataframe tbody tr th:only-of-type {\n",
       "        vertical-align: middle;\n",
       "    }\n",
       "\n",
       "    .dataframe tbody tr th {\n",
       "        vertical-align: top;\n",
       "    }\n",
       "\n",
       "    .dataframe thead th {\n",
       "        text-align: right;\n",
       "    }\n",
       "</style>\n",
       "<table border=\"1\" class=\"dataframe\">\n",
       "  <thead>\n",
       "    <tr style=\"text-align: right;\">\n",
       "      <th></th>\n",
       "      <th>Interest Rate</th>\n",
       "      <th>Amount of Funds</th>\n",
       "      <th>Gov_Grant</th>\n",
       "      <th>Funding_count</th>\n",
       "      <th>def_project</th>\n",
       "      <th>State_Housing_Credit_Equity</th>\n",
       "    </tr>\n",
       "    <tr>\n",
       "      <th>debt_financing</th>\n",
       "      <th></th>\n",
       "      <th></th>\n",
       "      <th></th>\n",
       "      <th></th>\n",
       "      <th></th>\n",
       "      <th></th>\n",
       "    </tr>\n",
       "  </thead>\n",
       "  <tbody>\n",
       "    <tr>\n",
       "      <th>0.000</th>\n",
       "      <td>455.860</td>\n",
       "      <td>1009414659.050</td>\n",
       "      <td>179</td>\n",
       "      <td>3812</td>\n",
       "      <td>273</td>\n",
       "      <td>44</td>\n",
       "    </tr>\n",
       "    <tr>\n",
       "      <th>1.000</th>\n",
       "      <td>423.856</td>\n",
       "      <td>333669838.000</td>\n",
       "      <td>0</td>\n",
       "      <td>1237</td>\n",
       "      <td>96</td>\n",
       "      <td>0</td>\n",
       "    </tr>\n",
       "  </tbody>\n",
       "</table>\n",
       "</div>"
      ],
      "text/plain": [
       "                Interest Rate  Amount of Funds  Gov_Grant  Funding_count  \\\n",
       "debt_financing                                                             \n",
       "0.000                 455.860   1009414659.050        179           3812   \n",
       "1.000                 423.856    333669838.000          0           1237   \n",
       "\n",
       "                def_project  State_Housing_Credit_Equity  \n",
       "debt_financing                                            \n",
       "0.000                   273                           44  \n",
       "1.000                    96                            0  "
      ]
     },
     "execution_count": 122,
     "metadata": {},
     "output_type": "execute_result"
    }
   ],
   "source": [
    "perm_financing.groupby([\"debt_financing\"]).sum()"
   ]
  },
  {
   "cell_type": "code",
   "execution_count": 123,
   "metadata": {},
   "outputs": [
    {
     "data": {
      "text/plain": [
       "0.2677462203921339"
      ]
     },
     "execution_count": 123,
     "metadata": {},
     "output_type": "execute_result"
    }
   ],
   "source": [
    "279206433.000/(279206433.000+763596085.710)"
   ]
  },
  {
   "cell_type": "code",
   "execution_count": 124,
   "metadata": {},
   "outputs": [
    {
     "data": {
      "text/plain": [
       "0.000    397\n",
       "1.000    138\n",
       "Name: debt_financing, dtype: int64"
      ]
     },
     "execution_count": 124,
     "metadata": {},
     "output_type": "execute_result"
    }
   ],
   "source": [
    "perm_financing[\"debt_financing\"].value_counts()"
   ]
  },
  {
   "cell_type": "code",
   "execution_count": 125,
   "metadata": {},
   "outputs": [
    {
     "data": {
      "text/plain": [
       "0.24824355971896955"
      ]
     },
     "execution_count": 125,
     "metadata": {},
     "output_type": "execute_result"
    }
   ],
   "source": [
    "#24.8% of all permanent financing is debt financing, which represents 27.2% of the total amount of permanent financing. \n",
    "106/(106+321)"
   ]
  },
  {
   "cell_type": "code",
   "execution_count": 126,
   "metadata": {},
   "outputs": [],
   "source": [
    "perm_financing = perm_financing[perm_financing[\"Project Type\"]!=\"At-Risk\"]"
   ]
  },
  {
   "cell_type": "code",
   "execution_count": 127,
   "metadata": {},
   "outputs": [
    {
     "data": {
      "text/html": [
       "<div>\n",
       "<style scoped>\n",
       "    .dataframe tbody tr th:only-of-type {\n",
       "        vertical-align: middle;\n",
       "    }\n",
       "\n",
       "    .dataframe tbody tr th {\n",
       "        vertical-align: top;\n",
       "    }\n",
       "\n",
       "    .dataframe thead th {\n",
       "        text-align: right;\n",
       "    }\n",
       "</style>\n",
       "<table border=\"1\" class=\"dataframe\">\n",
       "  <thead>\n",
       "    <tr style=\"text-align: right;\">\n",
       "      <th></th>\n",
       "      <th></th>\n",
       "      <th>Project Name</th>\n",
       "      <th>Financing_sub_cat</th>\n",
       "      <th>Interest Rate</th>\n",
       "      <th>Funding Type</th>\n",
       "      <th>Project Type</th>\n",
       "      <th>Amount of Funds</th>\n",
       "      <th>Gov_Grant</th>\n",
       "      <th>Funding_count</th>\n",
       "      <th>def_project</th>\n",
       "      <th>bins</th>\n",
       "      <th>State_Housing_Credit_Equity</th>\n",
       "    </tr>\n",
       "    <tr>\n",
       "      <th>debt_financing</th>\n",
       "      <th>State</th>\n",
       "      <th></th>\n",
       "      <th></th>\n",
       "      <th></th>\n",
       "      <th></th>\n",
       "      <th></th>\n",
       "      <th></th>\n",
       "      <th></th>\n",
       "      <th></th>\n",
       "      <th></th>\n",
       "      <th></th>\n",
       "      <th></th>\n",
       "    </tr>\n",
       "  </thead>\n",
       "  <tbody>\n",
       "    <tr>\n",
       "      <th rowspan=\"4\" valign=\"top\">0.000</th>\n",
       "      <th>California</th>\n",
       "      <td>152</td>\n",
       "      <td>152</td>\n",
       "      <td>99</td>\n",
       "      <td>152</td>\n",
       "      <td>152</td>\n",
       "      <td>152</td>\n",
       "      <td>152</td>\n",
       "      <td>152</td>\n",
       "      <td>152</td>\n",
       "      <td>152</td>\n",
       "      <td>152</td>\n",
       "    </tr>\n",
       "    <tr>\n",
       "      <th>Georgia</th>\n",
       "      <td>91</td>\n",
       "      <td>91</td>\n",
       "      <td>21</td>\n",
       "      <td>91</td>\n",
       "      <td>91</td>\n",
       "      <td>91</td>\n",
       "      <td>91</td>\n",
       "      <td>91</td>\n",
       "      <td>91</td>\n",
       "      <td>91</td>\n",
       "      <td>91</td>\n",
       "    </tr>\n",
       "    <tr>\n",
       "      <th>Ohio</th>\n",
       "      <td>76</td>\n",
       "      <td>76</td>\n",
       "      <td>0</td>\n",
       "      <td>76</td>\n",
       "      <td>76</td>\n",
       "      <td>76</td>\n",
       "      <td>76</td>\n",
       "      <td>76</td>\n",
       "      <td>76</td>\n",
       "      <td>76</td>\n",
       "      <td>76</td>\n",
       "    </tr>\n",
       "    <tr>\n",
       "      <th>Virginia</th>\n",
       "      <td>75</td>\n",
       "      <td>75</td>\n",
       "      <td>73</td>\n",
       "      <td>75</td>\n",
       "      <td>0</td>\n",
       "      <td>75</td>\n",
       "      <td>75</td>\n",
       "      <td>75</td>\n",
       "      <td>75</td>\n",
       "      <td>75</td>\n",
       "      <td>75</td>\n",
       "    </tr>\n",
       "    <tr>\n",
       "      <th rowspan=\"4\" valign=\"top\">1.000</th>\n",
       "      <th>California</th>\n",
       "      <td>52</td>\n",
       "      <td>52</td>\n",
       "      <td>48</td>\n",
       "      <td>52</td>\n",
       "      <td>52</td>\n",
       "      <td>52</td>\n",
       "      <td>52</td>\n",
       "      <td>52</td>\n",
       "      <td>52</td>\n",
       "      <td>52</td>\n",
       "      <td>52</td>\n",
       "    </tr>\n",
       "    <tr>\n",
       "      <th>Georgia</th>\n",
       "      <td>34</td>\n",
       "      <td>34</td>\n",
       "      <td>34</td>\n",
       "      <td>34</td>\n",
       "      <td>34</td>\n",
       "      <td>34</td>\n",
       "      <td>34</td>\n",
       "      <td>34</td>\n",
       "      <td>34</td>\n",
       "      <td>34</td>\n",
       "      <td>34</td>\n",
       "    </tr>\n",
       "    <tr>\n",
       "      <th>Ohio</th>\n",
       "      <td>32</td>\n",
       "      <td>32</td>\n",
       "      <td>0</td>\n",
       "      <td>32</td>\n",
       "      <td>32</td>\n",
       "      <td>32</td>\n",
       "      <td>32</td>\n",
       "      <td>32</td>\n",
       "      <td>32</td>\n",
       "      <td>32</td>\n",
       "      <td>32</td>\n",
       "    </tr>\n",
       "    <tr>\n",
       "      <th>Virginia</th>\n",
       "      <td>6</td>\n",
       "      <td>6</td>\n",
       "      <td>5</td>\n",
       "      <td>6</td>\n",
       "      <td>0</td>\n",
       "      <td>6</td>\n",
       "      <td>6</td>\n",
       "      <td>6</td>\n",
       "      <td>6</td>\n",
       "      <td>6</td>\n",
       "      <td>6</td>\n",
       "    </tr>\n",
       "  </tbody>\n",
       "</table>\n",
       "</div>"
      ],
      "text/plain": [
       "                           Project Name  Financing_sub_cat  Interest Rate  \\\n",
       "debt_financing State                                                        \n",
       "0.000          California           152                152             99   \n",
       "               Georgia               91                 91             21   \n",
       "               Ohio                  76                 76              0   \n",
       "               Virginia              75                 75             73   \n",
       "1.000          California            52                 52             48   \n",
       "               Georgia               34                 34             34   \n",
       "               Ohio                  32                 32              0   \n",
       "               Virginia               6                  6              5   \n",
       "\n",
       "                           Funding Type  Project Type  Amount of Funds  \\\n",
       "debt_financing State                                                     \n",
       "0.000          California           152           152              152   \n",
       "               Georgia               91            91               91   \n",
       "               Ohio                  76            76               76   \n",
       "               Virginia              75             0               75   \n",
       "1.000          California            52            52               52   \n",
       "               Georgia               34            34               34   \n",
       "               Ohio                  32            32               32   \n",
       "               Virginia               6             0                6   \n",
       "\n",
       "                           Gov_Grant  Funding_count  def_project  bins  \\\n",
       "debt_financing State                                                     \n",
       "0.000          California        152            152          152   152   \n",
       "               Georgia            91             91           91    91   \n",
       "               Ohio               76             76           76    76   \n",
       "               Virginia           75             75           75    75   \n",
       "1.000          California         52             52           52    52   \n",
       "               Georgia            34             34           34    34   \n",
       "               Ohio               32             32           32    32   \n",
       "               Virginia            6              6            6     6   \n",
       "\n",
       "                           State_Housing_Credit_Equity  \n",
       "debt_financing State                                    \n",
       "0.000          California                          152  \n",
       "               Georgia                              91  \n",
       "               Ohio                                 76  \n",
       "               Virginia                             75  \n",
       "1.000          California                           52  \n",
       "               Georgia                              34  \n",
       "               Ohio                                 32  \n",
       "               Virginia                              6  "
      ]
     },
     "execution_count": 127,
     "metadata": {},
     "output_type": "execute_result"
    }
   ],
   "source": [
    "perm_financing.groupby([\"debt_financing\",\"State\"]).count()"
   ]
  },
  {
   "cell_type": "code",
   "execution_count": 128,
   "metadata": {},
   "outputs": [
    {
     "data": {
      "text/html": [
       "<div>\n",
       "<style scoped>\n",
       "    .dataframe tbody tr th:only-of-type {\n",
       "        vertical-align: middle;\n",
       "    }\n",
       "\n",
       "    .dataframe tbody tr th {\n",
       "        vertical-align: top;\n",
       "    }\n",
       "\n",
       "    .dataframe thead th {\n",
       "        text-align: right;\n",
       "    }\n",
       "</style>\n",
       "<table border=\"1\" class=\"dataframe\">\n",
       "  <thead>\n",
       "    <tr style=\"text-align: right;\">\n",
       "      <th></th>\n",
       "      <th></th>\n",
       "      <th>Interest Rate</th>\n",
       "      <th>Amount of Funds</th>\n",
       "      <th>Gov_Grant</th>\n",
       "      <th>Funding_count</th>\n",
       "      <th>def_project</th>\n",
       "    </tr>\n",
       "    <tr>\n",
       "      <th>debt_financing</th>\n",
       "      <th>State</th>\n",
       "      <th></th>\n",
       "      <th></th>\n",
       "      <th></th>\n",
       "      <th></th>\n",
       "      <th></th>\n",
       "    </tr>\n",
       "  </thead>\n",
       "  <tbody>\n",
       "    <tr>\n",
       "      <th rowspan=\"4\" valign=\"top\">0.000</th>\n",
       "      <th>California</th>\n",
       "      <td>3.019</td>\n",
       "      <td>1996461.737</td>\n",
       "      <td>0.704</td>\n",
       "      <td>11.579</td>\n",
       "      <td>0.776</td>\n",
       "    </tr>\n",
       "    <tr>\n",
       "      <th>Georgia</th>\n",
       "      <td>0.655</td>\n",
       "      <td>3775201.700</td>\n",
       "      <td>0.033</td>\n",
       "      <td>8.154</td>\n",
       "      <td>0.857</td>\n",
       "    </tr>\n",
       "    <tr>\n",
       "      <th>Ohio</th>\n",
       "      <td>nan</td>\n",
       "      <td>3234454.912</td>\n",
       "      <td>0.066</td>\n",
       "      <td>11.329</td>\n",
       "      <td>0.974</td>\n",
       "    </tr>\n",
       "    <tr>\n",
       "      <th>Virginia</th>\n",
       "      <td>1.962</td>\n",
       "      <td>1543530.867</td>\n",
       "      <td>0.853</td>\n",
       "      <td>5.720</td>\n",
       "      <td>0.000</td>\n",
       "    </tr>\n",
       "    <tr>\n",
       "      <th rowspan=\"4\" valign=\"top\">1.000</th>\n",
       "      <th>California</th>\n",
       "      <td>5.243</td>\n",
       "      <td>2910434.673</td>\n",
       "      <td>0.000</td>\n",
       "      <td>8.846</td>\n",
       "      <td>0.692</td>\n",
       "    </tr>\n",
       "    <tr>\n",
       "      <th>Georgia</th>\n",
       "      <td>3.286</td>\n",
       "      <td>1541532.294</td>\n",
       "      <td>0.000</td>\n",
       "      <td>8.529</td>\n",
       "      <td>0.735</td>\n",
       "    </tr>\n",
       "    <tr>\n",
       "      <th>Ohio</th>\n",
       "      <td>nan</td>\n",
       "      <td>1701981.406</td>\n",
       "      <td>0.000</td>\n",
       "      <td>11.656</td>\n",
       "      <td>0.938</td>\n",
       "    </tr>\n",
       "    <tr>\n",
       "      <th>Virginia</th>\n",
       "      <td>4.788</td>\n",
       "      <td>5956833.333</td>\n",
       "      <td>0.000</td>\n",
       "      <td>4.333</td>\n",
       "      <td>0.000</td>\n",
       "    </tr>\n",
       "  </tbody>\n",
       "</table>\n",
       "</div>"
      ],
      "text/plain": [
       "                           Interest Rate  Amount of Funds  Gov_Grant  \\\n",
       "debt_financing State                                                   \n",
       "0.000          California          3.019      1996461.737      0.704   \n",
       "               Georgia             0.655      3775201.700      0.033   \n",
       "               Ohio                  nan      3234454.912      0.066   \n",
       "               Virginia            1.962      1543530.867      0.853   \n",
       "1.000          California          5.243      2910434.673      0.000   \n",
       "               Georgia             3.286      1541532.294      0.000   \n",
       "               Ohio                  nan      1701981.406      0.000   \n",
       "               Virginia            4.788      5956833.333      0.000   \n",
       "\n",
       "                           Funding_count  def_project  \n",
       "debt_financing State                                   \n",
       "0.000          California         11.579        0.776  \n",
       "               Georgia             8.154        0.857  \n",
       "               Ohio               11.329        0.974  \n",
       "               Virginia            5.720        0.000  \n",
       "1.000          California          8.846        0.692  \n",
       "               Georgia             8.529        0.735  \n",
       "               Ohio               11.656        0.938  \n",
       "               Virginia            4.333        0.000  "
      ]
     },
     "execution_count": 128,
     "metadata": {},
     "output_type": "execute_result"
    }
   ],
   "source": [
    "perm_financing.groupby([\"debt_financing\",\"State\"]).mean().drop(columns={\"State_Housing_Credit_Equity\"})"
   ]
  },
  {
   "cell_type": "code",
   "execution_count": 129,
   "metadata": {},
   "outputs": [
    {
     "data": {
      "text/plain": [
       "0.26697892271662765"
      ]
     },
     "execution_count": 129,
     "metadata": {},
     "output_type": "execute_result"
    }
   ],
   "source": [
    "114/(114+313)"
   ]
  },
  {
   "cell_type": "code",
   "execution_count": 130,
   "metadata": {},
   "outputs": [
    {
     "data": {
      "text/plain": [
       "0.06921824104234528"
      ]
     },
     "execution_count": 130,
     "metadata": {},
     "output_type": "execute_result"
    }
   ],
   "source": [
    "85/(85+1143)"
   ]
  },
  {
   "cell_type": "code",
   "execution_count": 131,
   "metadata": {},
   "outputs": [
    {
     "data": {
      "text/plain": [
       "0.04809263862994163"
      ]
     },
     "execution_count": 131,
     "metadata": {},
     "output_type": "execute_result"
    }
   ],
   "source": [
    "177023109.90/(177023109.90+3503854357.90)"
   ]
  },
  {
   "cell_type": "markdown",
   "metadata": {},
   "source": [
    "Differences between perm and construction financing"
   ]
  },
  {
   "cell_type": "code",
   "execution_count": 132,
   "metadata": {},
   "outputs": [
    {
     "data": {
      "text/html": [
       "\n",
       "<div id=\"altair-viz-ef3f5e34bfe04fcf87c221c41d2b7466\"></div>\n",
       "<script type=\"text/javascript\">\n",
       "  (function(spec, embedOpt){\n",
       "    const outputDiv = document.getElementById(\"altair-viz-ef3f5e34bfe04fcf87c221c41d2b7466\");\n",
       "    const paths = {\n",
       "      \"vega\": \"https://cdn.jsdelivr.net/npm//vega@5?noext\",\n",
       "      \"vega-lib\": \"https://cdn.jsdelivr.net/npm//vega-lib?noext\",\n",
       "      \"vega-lite\": \"https://cdn.jsdelivr.net/npm//vega-lite@4.0.2?noext\",\n",
       "      \"vega-embed\": \"https://cdn.jsdelivr.net/npm//vega-embed@6?noext\",\n",
       "    };\n",
       "\n",
       "    function loadScript(lib) {\n",
       "      return new Promise(function(resolve, reject) {\n",
       "        var s = document.createElement('script');\n",
       "        s.src = paths[lib];\n",
       "        s.async = true;\n",
       "        s.onload = () => resolve(paths[lib]);\n",
       "        s.onerror = () => reject(`Error loading script: ${paths[lib]}`);\n",
       "        document.getElementsByTagName(\"head\")[0].appendChild(s);\n",
       "      });\n",
       "    }\n",
       "\n",
       "    function showError(err) {\n",
       "      outputDiv.innerHTML = `<div class=\"error\" style=\"color:red;\">${err}</div>`;\n",
       "      throw err;\n",
       "    }\n",
       "\n",
       "    function displayChart(vegaEmbed) {\n",
       "      vegaEmbed(outputDiv, spec, embedOpt)\n",
       "        .catch(err => showError(`Javascript Error: ${err.message}<br>This usually means there's a typo in your chart specification. See the javascript console for the full traceback.`));\n",
       "    }\n",
       "\n",
       "    if(typeof define === \"function\" && define.amd) {\n",
       "      requirejs.config({paths});\n",
       "      require([\"vega-embed\"], displayChart, err => showError(`Error loading script: ${err.message}`));\n",
       "    } else if (typeof vegaEmbed === \"function\") {\n",
       "      displayChart(vegaEmbed);\n",
       "    } else {\n",
       "      loadScript(\"vega\")\n",
       "        .then(() => loadScript(\"vega-lite\"))\n",
       "        .then(() => loadScript(\"vega-embed\"))\n",
       "        .catch(showError)\n",
       "        .then(() => displayChart(vegaEmbed));\n",
       "    }\n",
       "  })({\"config\": {\"view\": {\"continuousWidth\": 400, \"continuousHeight\": 300}}, \"data\": {\"name\": \"data-069231f3f8cfc5500726e50a5d65660c\"}, \"mark\": \"bar\", \"encoding\": {\"color\": {\"type\": \"nominal\", \"field\": \"Financing_sub_cat\", \"scale\": {\"scheme\": \"pastel2\"}}, \"tooltip\": [{\"type\": \"nominal\", \"field\": \"Financing_sub_cat\"}], \"x\": {\"type\": \"nominal\", \"field\": \"Funding Type\"}, \"y\": {\"type\": \"quantitative\", \"field\": \"Amount of Funds\"}}, \"$schema\": \"https://vega.github.io/schema/vega-lite/v4.0.2.json\", \"datasets\": {\"data-069231f3f8cfc5500726e50a5d65660c\": [{\"Project Name\": \"Vista Ballona\", \"Financing_sub_cat\": \"Bank Loan\", \"Interest Rate\": 4.8, \"Funding Type\": \"Construction Financing\", \"Project Type\": \"Family\", \"Amount of Funds\": 20301005.0, \"State\": \"California\", \"Gov_Grant\": 0, \"debt_financing\": 1.0, \"Funding_count\": 9, \"def_project\": 1, \"bins\": \"Medium Number of Financing Sources\", \"State_Housing_Credit_Equity\": 0}, {\"Project Name\": \"Vista Ballona\", \"Financing_sub_cat\": \"Local Grant\", \"Interest Rate\": 4.0, \"Funding Type\": \"Construction Financing\", \"Project Type\": \"Family\", \"Amount of Funds\": 3982669.0, \"State\": \"California\", \"Gov_Grant\": 1, \"debt_financing\": 0.0, \"Funding_count\": 9, \"def_project\": 1, \"bins\": \"Medium Number of Financing Sources\", \"State_Housing_Credit_Equity\": 0}, {\"Project Name\": \"Vista Ballona\", \"Financing_sub_cat\": \"Federal Credit\", \"Interest Rate\": null, \"Funding Type\": \"Construction Financing\", \"Project Type\": \"Family\", \"Amount of Funds\": 6248750.0, \"State\": \"California\", \"Gov_Grant\": 0, \"debt_financing\": 0.0, \"Funding_count\": 9, \"def_project\": 1, \"bins\": \"Medium Number of Financing Sources\", \"State_Housing_Credit_Equity\": 0}, {\"Project Name\": \"Vista Ballona\", \"Financing_sub_cat\": \"Local Grant\", \"Interest Rate\": 3.0, \"Funding Type\": \"Construction Financing\", \"Project Type\": \"Family\", \"Amount of Funds\": 2000000.0, \"State\": \"California\", \"Gov_Grant\": 1, \"debt_financing\": 0.0, \"Funding_count\": 9, \"def_project\": 1, \"bins\": \"Medium Number of Financing Sources\", \"State_Housing_Credit_Equity\": 0}, {\"Project Name\": \"Vista Ballona\", \"Financing_sub_cat\": \"Deferred Developer Fee\", \"Interest Rate\": null, \"Funding Type\": \"Construction Financing\", \"Project Type\": \"Family\", \"Amount of Funds\": 1302412.0, \"State\": \"California\", \"Gov_Grant\": 0, \"debt_financing\": 0.0, \"Funding_count\": 9, \"def_project\": 1, \"bins\": \"Medium Number of Financing Sources\", \"State_Housing_Credit_Equity\": 0}, {\"Project Name\": \"Vista Ballona\", \"Financing_sub_cat\": \"Bank Loan\", \"Interest Rate\": 5.85, \"Funding Type\": \"Permanent Financing\", \"Project Type\": \"Family\", \"Amount of Funds\": 2440101.0, \"State\": \"California\", \"Gov_Grant\": 0, \"debt_financing\": 1.0, \"Funding_count\": 9, \"def_project\": 1, \"bins\": \"Medium Number of Financing Sources\", \"State_Housing_Credit_Equity\": 0}, {\"Project Name\": \"Vista Ballona\", \"Financing_sub_cat\": \"Local Grant\", \"Interest Rate\": 3.0, \"Funding Type\": \"Permanent Financing\", \"Project Type\": \"Family\", \"Amount of Funds\": 2000000.0, \"State\": \"California\", \"Gov_Grant\": 1, \"debt_financing\": 0.0, \"Funding_count\": 9, \"def_project\": 1, \"bins\": \"Medium Number of Financing Sources\", \"State_Housing_Credit_Equity\": 0}, {\"Project Name\": \"Vista Ballona\", \"Financing_sub_cat\": \"Local Grant\", \"Interest Rate\": 4.0, \"Funding Type\": \"Permanent Financing\", \"Project Type\": \"Family\", \"Amount of Funds\": 3982669.0, \"State\": \"California\", \"Gov_Grant\": 1, \"debt_financing\": 0.0, \"Funding_count\": 9, \"def_project\": 1, \"bins\": \"Medium Number of Financing Sources\", \"State_Housing_Credit_Equity\": 0}, {\"Project Name\": \"Vista Ballona\", \"Financing_sub_cat\": \"Deferred Developer Fee\", \"Interest Rate\": null, \"Funding Type\": \"Permanent Financing\", \"Project Type\": \"Family\", \"Amount of Funds\": 417066.0, \"State\": \"California\", \"Gov_Grant\": 0, \"debt_financing\": 0.0, \"Funding_count\": 9, \"def_project\": 1, \"bins\": \"Medium Number of Financing Sources\", \"State_Housing_Credit_Equity\": 0}, {\"Project Name\": \"Mariposa Oaks\", \"Financing_sub_cat\": \"Bank Loan\", \"Interest Rate\": 6.0, \"Funding Type\": \"Construction Financing\", \"Project Type\": \"At-Risk\", \"Amount of Funds\": 3498366.0, \"State\": \"California\", \"Gov_Grant\": 0, \"debt_financing\": 1.0, \"Funding_count\": 3, \"def_project\": 0, \"bins\": \"Low Number of Financing Sources\", \"State_Housing_Credit_Equity\": 0}, {\"Project Name\": \"Mariposa Oaks\", \"Financing_sub_cat\": \"Federal Loan\", \"Interest Rate\": 1.0, \"Funding Type\": \"Construction Financing\", \"Project Type\": \"At-Risk\", \"Amount of Funds\": 1500000.0, \"State\": \"California\", \"Gov_Grant\": 0, \"debt_financing\": 1.0, \"Funding_count\": 3, \"def_project\": 0, \"bins\": \"Low Number of Financing Sources\", \"State_Housing_Credit_Equity\": 0}, {\"Project Name\": \"Mariposa Oaks\", \"Financing_sub_cat\": \"Federal Loan\", \"Interest Rate\": 1.0, \"Funding Type\": \"Permanent Financing\", \"Project Type\": \"At-Risk\", \"Amount of Funds\": 1500000.0, \"State\": \"California\", \"Gov_Grant\": 0, \"debt_financing\": 1.0, \"Funding_count\": 3, \"def_project\": 0, \"bins\": \"Low Number of Financing Sources\", \"State_Housing_Credit_Equity\": 0}, {\"Project Name\": \"Woo-Mehl LIHTC Homes\", \"Financing_sub_cat\": \"Bank Loan\", \"Interest Rate\": null, \"Funding Type\": \"Construction Financing\", \"Project Type\": \"Family\", \"Amount of Funds\": 6533003.0, \"State\": \"California\", \"Gov_Grant\": 0, \"debt_financing\": 1.0, \"Funding_count\": 3, \"def_project\": 0, \"bins\": \"Low Number of Financing Sources\", \"State_Housing_Credit_Equity\": 0}, {\"Project Name\": \"Woo-Mehl LIHTC Homes\", \"Financing_sub_cat\": \"Bank Loan\", \"Interest Rate\": null, \"Funding Type\": \"Construction Financing\", \"Project Type\": \"Family\", \"Amount of Funds\": 47686.0, \"State\": \"California\", \"Gov_Grant\": 0, \"debt_financing\": 1.0, \"Funding_count\": 3, \"def_project\": 0, \"bins\": \"Low Number of Financing Sources\", \"State_Housing_Credit_Equity\": 0}, {\"Project Name\": \"Woo-Mehl LIHTC Homes\", \"Financing_sub_cat\": \"Bank Loan\", \"Interest Rate\": null, \"Funding Type\": \"Permanent Financing\", \"Project Type\": \"Family\", \"Amount of Funds\": 47686.0, \"State\": \"California\", \"Gov_Grant\": 0, \"debt_financing\": 1.0, \"Funding_count\": 3, \"def_project\": 0, \"bins\": \"Low Number of Financing Sources\", \"State_Housing_Credit_Equity\": 0}, {\"Project Name\": \"QHA Homes II\", \"Financing_sub_cat\": \"Bank Loan\", \"Interest Rate\": null, \"Funding Type\": \"Construction Financing\", \"Project Type\": \"Family\", \"Amount of Funds\": 8475296.0, \"State\": \"California\", \"Gov_Grant\": 0, \"debt_financing\": 1.0, \"Funding_count\": 4, \"def_project\": 0, \"bins\": \"Low Number of Financing Sources\", \"State_Housing_Credit_Equity\": 0}, {\"Project Name\": \"QHA Homes II\", \"Financing_sub_cat\": \"Bank Loan\", \"Interest Rate\": null, \"Funding Type\": \"Construction Financing\", \"Project Type\": \"Family\", \"Amount of Funds\": 145323.0, \"State\": \"California\", \"Gov_Grant\": 0, \"debt_financing\": 1.0, \"Funding_count\": 4, \"def_project\": 0, \"bins\": \"Low Number of Financing Sources\", \"State_Housing_Credit_Equity\": 0}, {\"Project Name\": \"QHA Homes II\", \"Financing_sub_cat\": \"Bank Loan\", \"Interest Rate\": null, \"Funding Type\": \"Construction Financing\", \"Project Type\": \"Family\", \"Amount of Funds\": 1776039.0, \"State\": \"California\", \"Gov_Grant\": 0, \"debt_financing\": 1.0, \"Funding_count\": 4, \"def_project\": 0, \"bins\": \"Low Number of Financing Sources\", \"State_Housing_Credit_Equity\": 0}, {\"Project Name\": \"QHA Homes II\", \"Financing_sub_cat\": \"Bank Loan\", \"Interest Rate\": null, \"Funding Type\": \"Permanent Financing\", \"Project Type\": \"Family\", \"Amount of Funds\": 145323.0, \"State\": \"California\", \"Gov_Grant\": 0, \"debt_financing\": 1.0, \"Funding_count\": 4, \"def_project\": 0, \"bins\": \"Low Number of Financing Sources\", \"State_Housing_Credit_Equity\": 0}, {\"Project Name\": \"Cameron Villa Apartments\", \"Financing_sub_cat\": \"Bank Loan\", \"Interest Rate\": 5.0, \"Funding Type\": \"Construction Financing\", \"Project Type\": \"At-Risk\", \"Amount of Funds\": 10000000.0, \"State\": \"California\", \"Gov_Grant\": 0, \"debt_financing\": 1.0, \"Funding_count\": 4, \"def_project\": 1, \"bins\": \"Low Number of Financing Sources\", \"State_Housing_Credit_Equity\": 0}, {\"Project Name\": \"Cameron Villa Apartments\", \"Financing_sub_cat\": \"Federal Credit\", \"Interest Rate\": null, \"Funding Type\": \"Construction Financing\", \"Project Type\": \"At-Risk\", \"Amount of Funds\": 7356169.0, \"State\": \"California\", \"Gov_Grant\": 0, \"debt_financing\": 0.0, \"Funding_count\": 4, \"def_project\": 1, \"bins\": \"Low Number of Financing Sources\", \"State_Housing_Credit_Equity\": 0}, {\"Project Name\": \"Cameron Villa Apartments\", \"Financing_sub_cat\": \"Bank Loan\", \"Interest Rate\": 5.0, \"Funding Type\": \"Permanent Financing\", \"Project Type\": \"At-Risk\", \"Amount of Funds\": 10000000.0, \"State\": \"California\", \"Gov_Grant\": 0, \"debt_financing\": 1.0, \"Funding_count\": 4, \"def_project\": 1, \"bins\": \"Low Number of Financing Sources\", \"State_Housing_Credit_Equity\": 0}, {\"Project Name\": \"Cameron Villa Apartments\", \"Financing_sub_cat\": \"Deferred Developer Fee\", \"Interest Rate\": null, \"Funding Type\": \"Permanent Financing\", \"Project Type\": \"At-Risk\", \"Amount of Funds\": 497246.0, \"State\": \"California\", \"Gov_Grant\": 0, \"debt_financing\": 0.0, \"Funding_count\": 4, \"def_project\": 1, \"bins\": \"Low Number of Financing Sources\", \"State_Housing_Credit_Equity\": 0}, {\"Project Name\": \"Truckee Artist Lofts\", \"Financing_sub_cat\": \"Bank Loan\", \"Interest Rate\": 6.0, \"Funding Type\": \"Construction Financing\", \"Project Type\": \"Family\", \"Amount of Funds\": 21597123.0, \"State\": \"California\", \"Gov_Grant\": 0, \"debt_financing\": 1.0, \"Funding_count\": 10, \"def_project\": 1, \"bins\": \"Medium Number of Financing Sources\", \"State_Housing_Credit_Equity\": 0}, {\"Project Name\": \"Truckee Artist Lofts\", \"Financing_sub_cat\": \"Other\", \"Interest Rate\": null, \"Funding Type\": \"Construction Financing\", \"Project Type\": \"Family\", \"Amount of Funds\": 1649000.0, \"State\": \"California\", \"Gov_Grant\": 0, \"debt_financing\": null, \"Funding_count\": 10, \"def_project\": 1, \"bins\": \"Medium Number of Financing Sources\", \"State_Housing_Credit_Equity\": 0}, {\"Project Name\": \"Truckee Artist Lofts\", \"Financing_sub_cat\": \"Deferred Developer Fee\", \"Interest Rate\": null, \"Funding Type\": \"Construction Financing\", \"Project Type\": \"Family\", \"Amount of Funds\": 2183421.0, \"State\": \"California\", \"Gov_Grant\": 0, \"debt_financing\": 0.0, \"Funding_count\": 10, \"def_project\": 1, \"bins\": \"Medium Number of Financing Sources\", \"State_Housing_Credit_Equity\": 0}, {\"Project Name\": \"Truckee Artist Lofts\", \"Financing_sub_cat\": \"Bank Loan\", \"Interest Rate\": null, \"Funding Type\": \"Construction Financing\", \"Project Type\": \"Family\", \"Amount of Funds\": 6763420.0, \"State\": \"California\", \"Gov_Grant\": 0, \"debt_financing\": 1.0, \"Funding_count\": 10, \"def_project\": 1, \"bins\": \"Medium Number of Financing Sources\", \"State_Housing_Credit_Equity\": 0}, {\"Project Name\": \"Truckee Artist Lofts\", \"Financing_sub_cat\": \"Local Grant\", \"Interest Rate\": 1.0, \"Funding Type\": \"Construction Financing\", \"Project Type\": \"Family\", \"Amount of Funds\": 1650000.0, \"State\": \"California\", \"Gov_Grant\": 1, \"debt_financing\": 0.0, \"Funding_count\": 10, \"def_project\": 1, \"bins\": \"Medium Number of Financing Sources\", \"State_Housing_Credit_Equity\": 0}, {\"Project Name\": \"Truckee Artist Lofts\", \"Financing_sub_cat\": \"Deferred Developer Fee\", \"Interest Rate\": null, \"Funding Type\": \"Construction Financing\", \"Project Type\": \"Family\", \"Amount of Funds\": 205849.0, \"State\": \"California\", \"Gov_Grant\": 0, \"debt_financing\": 0.0, \"Funding_count\": 10, \"def_project\": 1, \"bins\": \"Medium Number of Financing Sources\", \"State_Housing_Credit_Equity\": 0}, {\"Project Name\": \"Truckee Artist Lofts\", \"Financing_sub_cat\": \"State Funding\", \"Interest Rate\": null, \"Funding Type\": \"Construction Financing\", \"Project Type\": \"Family\", \"Amount of Funds\": 1281600.0, \"State\": \"California\", \"Gov_Grant\": 0, \"debt_financing\": 0.0, \"Funding_count\": 10, \"def_project\": 1, \"bins\": \"Medium Number of Financing Sources\", \"State_Housing_Credit_Equity\": 0}, {\"Project Name\": \"Truckee Artist Lofts\", \"Financing_sub_cat\": \"Other\", \"Interest Rate\": 1.0, \"Funding Type\": \"Construction Financing\", \"Project Type\": \"Family\", \"Amount of Funds\": 500000.0, \"State\": \"California\", \"Gov_Grant\": 0, \"debt_financing\": null, \"Funding_count\": 10, \"def_project\": 1, \"bins\": \"Medium Number of Financing Sources\", \"State_Housing_Credit_Equity\": 0}, {\"Project Name\": \"Truckee Artist Lofts\", \"Financing_sub_cat\": \"Bank Loan\", \"Interest Rate\": 5.17, \"Funding Type\": \"Permanent Financing\", \"Project Type\": \"Family\", \"Amount of Funds\": 5671457.0, \"State\": \"California\", \"Gov_Grant\": 0, \"debt_financing\": 1.0, \"Funding_count\": 10, \"def_project\": 1, \"bins\": \"Medium Number of Financing Sources\", \"State_Housing_Credit_Equity\": 0}, {\"Project Name\": \"Truckee Artist Lofts\", \"Financing_sub_cat\": \"Local Grant\", \"Interest Rate\": 1.0, \"Funding Type\": \"Permanent Financing\", \"Project Type\": \"Family\", \"Amount of Funds\": 1650000.0, \"State\": \"California\", \"Gov_Grant\": 1, \"debt_financing\": 0.0, \"Funding_count\": 10, \"def_project\": 1, \"bins\": \"Medium Number of Financing Sources\", \"State_Housing_Credit_Equity\": 0}, {\"Project Name\": \"Truckee Artist Lofts\", \"Financing_sub_cat\": \"Other\", \"Interest Rate\": null, \"Funding Type\": \"Permanent Financing\", \"Project Type\": \"Family\", \"Amount of Funds\": 1649000.0, \"State\": \"California\", \"Gov_Grant\": 0, \"debt_financing\": null, \"Funding_count\": 10, \"def_project\": 1, \"bins\": \"Medium Number of Financing Sources\", \"State_Housing_Credit_Equity\": 0}, {\"Project Name\": \"Truckee Artist Lofts\", \"Financing_sub_cat\": \"Deferred Developer Fee\", \"Interest Rate\": null, \"Funding Type\": \"Permanent Financing\", \"Project Type\": \"Family\", \"Amount of Funds\": 883622.0, \"State\": \"California\", \"Gov_Grant\": 0, \"debt_financing\": 0.0, \"Funding_count\": 10, \"def_project\": 1, \"bins\": \"Medium Number of Financing Sources\", \"State_Housing_Credit_Equity\": 0}, {\"Project Name\": \"Truckee Artist Lofts\", \"Financing_sub_cat\": \"State Funding\", \"Interest Rate\": null, \"Funding Type\": \"Permanent Financing\", \"Project Type\": \"Family\", \"Amount of Funds\": 1281600.0, \"State\": \"California\", \"Gov_Grant\": 0, \"debt_financing\": 0.0, \"Funding_count\": 10, \"def_project\": 1, \"bins\": \"Medium Number of Financing Sources\", \"State_Housing_Credit_Equity\": 0}, {\"Project Name\": \"Truckee Artist Lofts\", \"Financing_sub_cat\": \"Other\", \"Interest Rate\": 3.0, \"Funding Type\": \"Permanent Financing\", \"Project Type\": \"Family\", \"Amount of Funds\": 1650000.0, \"State\": \"California\", \"Gov_Grant\": 0, \"debt_financing\": null, \"Funding_count\": 10, \"def_project\": 1, \"bins\": \"Medium Number of Financing Sources\", \"State_Housing_Credit_Equity\": 0}, {\"Project Name\": \"Truckee Artist Lofts\", \"Financing_sub_cat\": \"Other\", \"Interest Rate\": 1.0, \"Funding Type\": \"Permanent Financing\", \"Project Type\": \"Family\", \"Amount of Funds\": 500000.0, \"State\": \"California\", \"Gov_Grant\": 0, \"debt_financing\": null, \"Funding_count\": 10, \"def_project\": 1, \"bins\": \"Medium Number of Financing Sources\", \"State_Housing_Credit_Equity\": 0}, {\"Project Name\": \"Kennett Court Apartments\", \"Financing_sub_cat\": \"Bank Loan\", \"Interest Rate\": 4.5, \"Funding Type\": \"Construction Financing\", \"Project Type\": \"Family\", \"Amount of Funds\": 13350867.0, \"State\": \"California\", \"Gov_Grant\": 0, \"debt_financing\": 1.0, \"Funding_count\": 10, \"def_project\": 1, \"bins\": \"Medium Number of Financing Sources\", \"State_Housing_Credit_Equity\": 0}, {\"Project Name\": \"Kennett Court Apartments\", \"Financing_sub_cat\": \"Local Grant\", \"Interest Rate\": 1.0, \"Funding Type\": \"Construction Financing\", \"Project Type\": \"Family\", \"Amount of Funds\": 700000.0, \"State\": \"California\", \"Gov_Grant\": 1, \"debt_financing\": 0.0, \"Funding_count\": 10, \"def_project\": 1, \"bins\": \"Medium Number of Financing Sources\", \"State_Housing_Credit_Equity\": 0}, {\"Project Name\": \"Kennett Court Apartments\", \"Financing_sub_cat\": \"Local Grant\", \"Interest Rate\": 1.0, \"Funding Type\": \"Construction Financing\", \"Project Type\": \"Family\", \"Amount of Funds\": 750000.0, \"State\": \"California\", \"Gov_Grant\": 1, \"debt_financing\": 0.0, \"Funding_count\": 10, \"def_project\": 1, \"bins\": \"Medium Number of Financing Sources\", \"State_Housing_Credit_Equity\": 0}, {\"Project Name\": \"Kennett Court Apartments\", \"Financing_sub_cat\": \"Deferred Developer Fee\", \"Interest Rate\": null, \"Funding Type\": \"Construction Financing\", \"Project Type\": \"Family\", \"Amount of Funds\": 119924.0, \"State\": \"California\", \"Gov_Grant\": 0, \"debt_financing\": 0.0, \"Funding_count\": 10, \"def_project\": 1, \"bins\": \"Medium Number of Financing Sources\", \"State_Housing_Credit_Equity\": 0}, {\"Project Name\": \"Kennett Court Apartments\", \"Financing_sub_cat\": \"Federal Credit\", \"Interest Rate\": null, \"Funding Type\": \"Construction Financing\", \"Project Type\": \"Family\", \"Amount of Funds\": 2847228.0, \"State\": \"California\", \"Gov_Grant\": 0, \"debt_financing\": 0.0, \"Funding_count\": 10, \"def_project\": 1, \"bins\": \"Medium Number of Financing Sources\", \"State_Housing_Credit_Equity\": 0}, {\"Project Name\": \"Kennett Court Apartments\", \"Financing_sub_cat\": \"Deferred Developer Fee\", \"Interest Rate\": null, \"Funding Type\": \"Construction Financing\", \"Project Type\": \"Family\", \"Amount of Funds\": 2240700.0, \"State\": \"California\", \"Gov_Grant\": 0, \"debt_financing\": 0.0, \"Funding_count\": 10, \"def_project\": 1, \"bins\": \"Medium Number of Financing Sources\", \"State_Housing_Credit_Equity\": 0}, {\"Project Name\": \"Kennett Court Apartments\", \"Financing_sub_cat\": \"Bank Loan\", \"Interest Rate\": 5.4, \"Funding Type\": \"Permanent Financing\", \"Project Type\": \"Family\", \"Amount of Funds\": 3554700.0, \"State\": \"California\", \"Gov_Grant\": 0, \"debt_financing\": 1.0, \"Funding_count\": 10, \"def_project\": 1, \"bins\": \"Medium Number of Financing Sources\", \"State_Housing_Credit_Equity\": 0}, {\"Project Name\": \"Kennett Court Apartments\", \"Financing_sub_cat\": \"Local Grant\", \"Interest Rate\": 1.0, \"Funding Type\": \"Permanent Financing\", \"Project Type\": \"Family\", \"Amount of Funds\": 700000.0, \"State\": \"California\", \"Gov_Grant\": 1, \"debt_financing\": 0.0, \"Funding_count\": 10, \"def_project\": 1, \"bins\": \"Medium Number of Financing Sources\", \"State_Housing_Credit_Equity\": 0}, {\"Project Name\": \"Kennett Court Apartments\", \"Financing_sub_cat\": \"Local Grant\", \"Interest Rate\": 1.0, \"Funding Type\": \"Permanent Financing\", \"Project Type\": \"Family\", \"Amount of Funds\": 750000.0, \"State\": \"California\", \"Gov_Grant\": 1, \"debt_financing\": 0.0, \"Funding_count\": 10, \"def_project\": 1, \"bins\": \"Medium Number of Financing Sources\", \"State_Housing_Credit_Equity\": 0}, {\"Project Name\": \"Kennett Court Apartments\", \"Financing_sub_cat\": \"Deferred Developer Fee\", \"Interest Rate\": null, \"Funding Type\": \"Permanent Financing\", \"Project Type\": \"Family\", \"Amount of Funds\": 767879.0, \"State\": \"California\", \"Gov_Grant\": 0, \"debt_financing\": 0.0, \"Funding_count\": 10, \"def_project\": 1, \"bins\": \"Medium Number of Financing Sources\", \"State_Housing_Credit_Equity\": 0}, {\"Project Name\": \"Sierra Avenue Family Apartments\", \"Financing_sub_cat\": \"Bank Loan\", \"Interest Rate\": 5.25, \"Funding Type\": \"Construction Financing\", \"Project Type\": \"Family\", \"Amount of Funds\": 9400000.0, \"State\": \"California\", \"Gov_Grant\": 0, \"debt_financing\": 1.0, \"Funding_count\": 13, \"def_project\": 1, \"bins\": \"High Number of Financing Sources\", \"State_Housing_Credit_Equity\": 0}, {\"Project Name\": \"Sierra Avenue Family Apartments\", \"Financing_sub_cat\": \"Local Grant\", \"Interest Rate\": 3.0, \"Funding Type\": \"Construction Financing\", \"Project Type\": \"Family\", \"Amount of Funds\": 3475000.0, \"State\": \"California\", \"Gov_Grant\": 1, \"debt_financing\": 0.0, \"Funding_count\": 13, \"def_project\": 1, \"bins\": \"High Number of Financing Sources\", \"State_Housing_Credit_Equity\": 0}, {\"Project Name\": \"Sierra Avenue Family Apartments\", \"Financing_sub_cat\": \"Local Grant\", \"Interest Rate\": 3.0, \"Funding Type\": \"Construction Financing\", \"Project Type\": \"Family\", \"Amount of Funds\": 1625000.0, \"State\": \"California\", \"Gov_Grant\": 1, \"debt_financing\": 0.0, \"Funding_count\": 13, \"def_project\": 1, \"bins\": \"High Number of Financing Sources\", \"State_Housing_Credit_Equity\": 0}, {\"Project Name\": \"Sierra Avenue Family Apartments\", \"Financing_sub_cat\": \"Local Grant\", \"Interest Rate\": 3.0, \"Funding Type\": \"Construction Financing\", \"Project Type\": \"Family\", \"Amount of Funds\": 1000000.0, \"State\": \"California\", \"Gov_Grant\": 1, \"debt_financing\": 0.0, \"Funding_count\": 13, \"def_project\": 1, \"bins\": \"High Number of Financing Sources\", \"State_Housing_Credit_Equity\": 0}, {\"Project Name\": \"Sierra Avenue Family Apartments\", \"Financing_sub_cat\": \"Federal Credit\", \"Interest Rate\": null, \"Funding Type\": \"Construction Financing\", \"Project Type\": \"Family\", \"Amount of Funds\": 5973003.0, \"State\": \"California\", \"Gov_Grant\": 0, \"debt_financing\": 0.0, \"Funding_count\": 13, \"def_project\": 1, \"bins\": \"High Number of Financing Sources\", \"State_Housing_Credit_Equity\": 0}, {\"Project Name\": \"Sierra Avenue Family Apartments\", \"Financing_sub_cat\": \"Deferred Developer Fee\", \"Interest Rate\": null, \"Funding Type\": \"Construction Financing\", \"Project Type\": \"Family\", \"Amount of Funds\": 1023325.0, \"State\": \"California\", \"Gov_Grant\": 0, \"debt_financing\": 0.0, \"Funding_count\": 13, \"def_project\": 1, \"bins\": \"High Number of Financing Sources\", \"State_Housing_Credit_Equity\": 0}, {\"Project Name\": \"Sierra Avenue Family Apartments\", \"Financing_sub_cat\": \"Bank Loan\", \"Interest Rate\": 6.0, \"Funding Type\": \"Construction Financing\", \"Project Type\": \"Family\", \"Amount of Funds\": 500000.0, \"State\": \"California\", \"Gov_Grant\": 0, \"debt_financing\": 1.0, \"Funding_count\": 13, \"def_project\": 1, \"bins\": \"High Number of Financing Sources\", \"State_Housing_Credit_Equity\": 0}, {\"Project Name\": \"Sierra Avenue Family Apartments\", \"Financing_sub_cat\": \"Bank Loan\", \"Interest Rate\": 6.15, \"Funding Type\": \"Permanent Financing\", \"Project Type\": \"Family\", \"Amount of Funds\": 1311879.0, \"State\": \"California\", \"Gov_Grant\": 0, \"debt_financing\": 1.0, \"Funding_count\": 13, \"def_project\": 1, \"bins\": \"High Number of Financing Sources\", \"State_Housing_Credit_Equity\": 0}, {\"Project Name\": \"Sierra Avenue Family Apartments\", \"Financing_sub_cat\": \"Local Grant\", \"Interest Rate\": 3.0, \"Funding Type\": \"Permanent Financing\", \"Project Type\": \"Family\", \"Amount of Funds\": 3475000.0, \"State\": \"California\", \"Gov_Grant\": 1, \"debt_financing\": 0.0, \"Funding_count\": 13, \"def_project\": 1, \"bins\": \"High Number of Financing Sources\", \"State_Housing_Credit_Equity\": 0}, {\"Project Name\": \"Sierra Avenue Family Apartments\", \"Financing_sub_cat\": \"Local Grant\", \"Interest Rate\": 3.0, \"Funding Type\": \"Permanent Financing\", \"Project Type\": \"Family\", \"Amount of Funds\": 1625000.0, \"State\": \"California\", \"Gov_Grant\": 1, \"debt_financing\": 0.0, \"Funding_count\": 13, \"def_project\": 1, \"bins\": \"High Number of Financing Sources\", \"State_Housing_Credit_Equity\": 0}, {\"Project Name\": \"Sierra Avenue Family Apartments\", \"Financing_sub_cat\": \"Local Grant\", \"Interest Rate\": 3.0, \"Funding Type\": \"Permanent Financing\", \"Project Type\": \"Family\", \"Amount of Funds\": 1000000.0, \"State\": \"California\", \"Gov_Grant\": 1, \"debt_financing\": 0.0, \"Funding_count\": 13, \"def_project\": 1, \"bins\": \"High Number of Financing Sources\", \"State_Housing_Credit_Equity\": 0}, {\"Project Name\": \"Sierra Avenue Family Apartments\", \"Financing_sub_cat\": \"Deferred Developer Fee\", \"Interest Rate\": null, \"Funding Type\": \"Permanent Financing\", \"Project Type\": \"Family\", \"Amount of Funds\": 151941.0, \"State\": \"California\", \"Gov_Grant\": 0, \"debt_financing\": 0.0, \"Funding_count\": 13, \"def_project\": 1, \"bins\": \"High Number of Financing Sources\", \"State_Housing_Credit_Equity\": 0}, {\"Project Name\": \"Sierra Avenue Family Apartments\", \"Financing_sub_cat\": \"Bank Loan\", \"Interest Rate\": 6.0, \"Funding Type\": \"Permanent Financing\", \"Project Type\": \"Family\", \"Amount of Funds\": 500000.0, \"State\": \"California\", \"Gov_Grant\": 0, \"debt_financing\": 1.0, \"Funding_count\": 13, \"def_project\": 1, \"bins\": \"High Number of Financing Sources\", \"State_Housing_Credit_Equity\": 0}, {\"Project Name\": \"Arminta Square Apartments\", \"Financing_sub_cat\": \"Bank Loan\", \"Interest Rate\": 4.9, \"Funding Type\": \"Construction Financing\", \"Project Type\": \"Family\", \"Amount of Funds\": 41000000.0, \"State\": \"California\", \"Gov_Grant\": 0, \"debt_financing\": 1.0, \"Funding_count\": 7, \"def_project\": 1, \"bins\": \"Low Number of Financing Sources\", \"State_Housing_Credit_Equity\": 0}, {\"Project Name\": \"Arminta Square Apartments\", \"Financing_sub_cat\": \"Federal Credit\", \"Interest Rate\": null, \"Funding Type\": \"Construction Financing\", \"Project Type\": \"Family\", \"Amount of Funds\": 7275000.0, \"State\": \"California\", \"Gov_Grant\": 0, \"debt_financing\": 0.0, \"Funding_count\": 7, \"def_project\": 1, \"bins\": \"Low Number of Financing Sources\", \"State_Housing_Credit_Equity\": 0}, {\"Project Name\": \"Arminta Square Apartments\", \"Financing_sub_cat\": \"State Credit\", \"Interest Rate\": null, \"Funding Type\": \"Construction Financing\", \"Project Type\": \"Family\", \"Amount of Funds\": 2925819.0, \"State\": \"California\", \"Gov_Grant\": 0, \"debt_financing\": 0.0, \"Funding_count\": 7, \"def_project\": 1, \"bins\": \"Low Number of Financing Sources\", \"State_Housing_Credit_Equity\": 0}, {\"Project Name\": \"Arminta Square Apartments\", \"Financing_sub_cat\": \"Deferred Developer Fee\", \"Interest Rate\": null, \"Funding Type\": \"Construction Financing\", \"Project Type\": \"Family\", \"Amount of Funds\": 2066762.0, \"State\": \"California\", \"Gov_Grant\": 0, \"debt_financing\": 0.0, \"Funding_count\": 7, \"def_project\": 1, \"bins\": \"Low Number of Financing Sources\", \"State_Housing_Credit_Equity\": 0}, {\"Project Name\": \"Arminta Square Apartments\", \"Financing_sub_cat\": \"Bank Loan\", \"Interest Rate\": 5.75, \"Funding Type\": \"Permanent Financing\", \"Project Type\": \"Family\", \"Amount of Funds\": 9988694.0, \"State\": \"California\", \"Gov_Grant\": 0, \"debt_financing\": 1.0, \"Funding_count\": 7, \"def_project\": 1, \"bins\": \"Low Number of Financing Sources\", \"State_Housing_Credit_Equity\": 0}, {\"Project Name\": \"Arminta Square Apartments\", \"Financing_sub_cat\": \"Bank Loan\", \"Interest Rate\": 5.75, \"Funding Type\": \"Permanent Financing\", \"Project Type\": \"Family\", \"Amount of Funds\": 9231894.0, \"State\": \"California\", \"Gov_Grant\": 0, \"debt_financing\": 1.0, \"Funding_count\": 7, \"def_project\": 1, \"bins\": \"Low Number of Financing Sources\", \"State_Housing_Credit_Equity\": 0}, {\"Project Name\": \"Arminta Square Apartments\", \"Financing_sub_cat\": \"Deferred Developer Fee\", \"Interest Rate\": null, \"Funding Type\": \"Permanent Financing\", \"Project Type\": \"Family\", \"Amount of Funds\": 44263.0, \"State\": \"California\", \"Gov_Grant\": 0, \"debt_financing\": 0.0, \"Funding_count\": 7, \"def_project\": 1, \"bins\": \"Low Number of Financing Sources\", \"State_Housing_Credit_Equity\": 0}, {\"Project Name\": \"Long Beach Villas \", \"Financing_sub_cat\": \"Bank Loan\", \"Interest Rate\": 4.4, \"Funding Type\": \"Construction Financing\", \"Project Type\": \"Family\", \"Amount of Funds\": 5489950.0, \"State\": \"California\", \"Gov_Grant\": 0, \"debt_financing\": 1.0, \"Funding_count\": 3, \"def_project\": 0, \"bins\": \"Low Number of Financing Sources\", \"State_Housing_Credit_Equity\": 0}, {\"Project Name\": \"Long Beach Villas \", \"Financing_sub_cat\": \"Bank Loan\", \"Interest Rate\": null, \"Funding Type\": \"Construction Financing\", \"Project Type\": \"Family\", \"Amount of Funds\": 22694873.0, \"State\": \"California\", \"Gov_Grant\": 0, \"debt_financing\": 1.0, \"Funding_count\": 3, \"def_project\": 0, \"bins\": \"Low Number of Financing Sources\", \"State_Housing_Credit_Equity\": 0}, {\"Project Name\": \"Long Beach Villas \", \"Financing_sub_cat\": \"Other\", \"Interest Rate\": null, \"Funding Type\": \"Construction Financing\", \"Project Type\": \"Family\", \"Amount of Funds\": 1100000.0, \"State\": \"California\", \"Gov_Grant\": 0, \"debt_financing\": null, \"Funding_count\": 3, \"def_project\": 0, \"bins\": \"Low Number of Financing Sources\", \"State_Housing_Credit_Equity\": 0}, {\"Project Name\": \"Long Beach Villas \", \"Financing_sub_cat\": \"Bank Loan\", \"Interest Rate\": 4.4, \"Funding Type\": \"Permanent Financing\", \"Project Type\": \"Family\", \"Amount of Funds\": 5489950.0, \"State\": \"California\", \"Gov_Grant\": 0, \"debt_financing\": 1.0, \"Funding_count\": 3, \"def_project\": 0, \"bins\": \"Low Number of Financing Sources\", \"State_Housing_Credit_Equity\": 0}, {\"Project Name\": \"Long Beach Villas \", \"Financing_sub_cat\": \"Other\", \"Interest Rate\": null, \"Funding Type\": \"Permanent Financing\", \"Project Type\": \"Family\", \"Amount of Funds\": 1100000.0, \"State\": \"California\", \"Gov_Grant\": 0, \"debt_financing\": null, \"Funding_count\": 3, \"def_project\": 0, \"bins\": \"Low Number of Financing Sources\", \"State_Housing_Credit_Equity\": 0}, {\"Project Name\": \"Kingsburg Seniors Housing \", \"Financing_sub_cat\": \"Bank Loan\", \"Interest Rate\": 5.25, \"Funding Type\": \"Construction Financing\", \"Project Type\": \"Seniors\", \"Amount of Funds\": 12301881.0, \"State\": \"California\", \"Gov_Grant\": 0, \"debt_financing\": 1.0, \"Funding_count\": 10, \"def_project\": 1, \"bins\": \"Medium Number of Financing Sources\", \"State_Housing_Credit_Equity\": 0}, {\"Project Name\": \"Kingsburg Seniors Housing \", \"Financing_sub_cat\": \"Local Grant\", \"Interest Rate\": null, \"Funding Type\": \"Construction Financing\", \"Project Type\": \"Seniors\", \"Amount of Funds\": 1001000.0, \"State\": \"California\", \"Gov_Grant\": 1, \"debt_financing\": 0.0, \"Funding_count\": 10, \"def_project\": 1, \"bins\": \"Medium Number of Financing Sources\", \"State_Housing_Credit_Equity\": 0}, {\"Project Name\": \"Kingsburg Seniors Housing \", \"Financing_sub_cat\": \"Local Grant\", \"Interest Rate\": 1.0, \"Funding Type\": \"Construction Financing\", \"Project Type\": \"Seniors\", \"Amount of Funds\": 390460.0, \"State\": \"California\", \"Gov_Grant\": 1, \"debt_financing\": 0.0, \"Funding_count\": 10, \"def_project\": 1, \"bins\": \"Medium Number of Financing Sources\", \"State_Housing_Credit_Equity\": 0}, {\"Project Name\": \"Kingsburg Seniors Housing \", \"Financing_sub_cat\": \"Federal Credit\", \"Interest Rate\": null, \"Funding Type\": \"Construction Financing\", \"Project Type\": \"Seniors\", \"Amount of Funds\": 1459116.0, \"State\": \"California\", \"Gov_Grant\": 0, \"debt_financing\": 0.0, \"Funding_count\": 10, \"def_project\": 1, \"bins\": \"Medium Number of Financing Sources\", \"State_Housing_Credit_Equity\": 0}, {\"Project Name\": \"Kingsburg Seniors Housing \", \"Financing_sub_cat\": \"Other\", \"Interest Rate\": 4.0, \"Funding Type\": \"Construction Financing\", \"Project Type\": \"Seniors\", \"Amount of Funds\": 1950000.0, \"State\": \"California\", \"Gov_Grant\": 0, \"debt_financing\": null, \"Funding_count\": 10, \"def_project\": 1, \"bins\": \"Medium Number of Financing Sources\", \"State_Housing_Credit_Equity\": 0}, {\"Project Name\": \"Kingsburg Seniors Housing \", \"Financing_sub_cat\": \"Local Grant\", \"Interest Rate\": 0.0, \"Funding Type\": \"Construction Financing\", \"Project Type\": \"Seniors\", \"Amount of Funds\": 1000000.0, \"State\": \"California\", \"Gov_Grant\": 1, \"debt_financing\": 0.0, \"Funding_count\": 10, \"def_project\": 1, \"bins\": \"Medium Number of Financing Sources\", \"State_Housing_Credit_Equity\": 0}, {\"Project Name\": \"Kingsburg Seniors Housing \", \"Financing_sub_cat\": \"Deferred Developer Fee\", \"Interest Rate\": null, \"Funding Type\": \"Construction Financing\", \"Project Type\": \"Seniors\", \"Amount of Funds\": 1709159.0, \"State\": \"California\", \"Gov_Grant\": 0, \"debt_financing\": 0.0, \"Funding_count\": 10, \"def_project\": 1, \"bins\": \"Medium Number of Financing Sources\", \"State_Housing_Credit_Equity\": 0}, {\"Project Name\": \"Kingsburg Seniors Housing \", \"Financing_sub_cat\": \"Local Grant\", \"Interest Rate\": null, \"Funding Type\": \"Permanent Financing\", \"Project Type\": \"Seniors\", \"Amount of Funds\": 1001000.0, \"State\": \"California\", \"Gov_Grant\": 1, \"debt_financing\": 0.0, \"Funding_count\": 10, \"def_project\": 1, \"bins\": \"Medium Number of Financing Sources\", \"State_Housing_Credit_Equity\": 0}, {\"Project Name\": \"Kingsburg Seniors Housing \", \"Financing_sub_cat\": \"Local Grant\", \"Interest Rate\": 1.0, \"Funding Type\": \"Permanent Financing\", \"Project Type\": \"Seniors\", \"Amount of Funds\": 390460.0, \"State\": \"California\", \"Gov_Grant\": 1, \"debt_financing\": 0.0, \"Funding_count\": 10, \"def_project\": 1, \"bins\": \"Medium Number of Financing Sources\", \"State_Housing_Credit_Equity\": 0}, {\"Project Name\": \"Kingsburg Seniors Housing \", \"Financing_sub_cat\": \"Bank Loan\", \"Interest Rate\": 6.0, \"Funding Type\": \"Permanent Financing\", \"Project Type\": \"Seniors\", \"Amount of Funds\": 879000.0, \"State\": \"California\", \"Gov_Grant\": 0, \"debt_financing\": 1.0, \"Funding_count\": 10, \"def_project\": 1, \"bins\": \"Medium Number of Financing Sources\", \"State_Housing_Credit_Equity\": 0}, {\"Project Name\": \"Kingsburg Seniors Housing \", \"Financing_sub_cat\": \"Other\", \"Interest Rate\": 4.0, \"Funding Type\": \"Permanent Financing\", \"Project Type\": \"Seniors\", \"Amount of Funds\": 1950000.0, \"State\": \"California\", \"Gov_Grant\": 0, \"debt_financing\": null, \"Funding_count\": 10, \"def_project\": 1, \"bins\": \"Medium Number of Financing Sources\", \"State_Housing_Credit_Equity\": 0}, {\"Project Name\": \"Kingsburg Seniors Housing \", \"Financing_sub_cat\": \"Local Grant\", \"Interest Rate\": 0.0, \"Funding Type\": \"Permanent Financing\", \"Project Type\": \"Seniors\", \"Amount of Funds\": 1000000.0, \"State\": \"California\", \"Gov_Grant\": 1, \"debt_financing\": 0.0, \"Funding_count\": 10, \"def_project\": 1, \"bins\": \"Medium Number of Financing Sources\", \"State_Housing_Credit_Equity\": 0}, {\"Project Name\": \"Renaissance at Cincotta\", \"Financing_sub_cat\": \"Bank Loan\", \"Interest Rate\": 6.25, \"Funding Type\": \"Construction Financing\", \"Project Type\": \"Special Needs\", \"Amount of Funds\": 4483977.0, \"State\": \"California\", \"Gov_Grant\": 0, \"debt_financing\": 1.0, \"Funding_count\": 4, \"def_project\": 1, \"bins\": \"Low Number of Financing Sources\", \"State_Housing_Credit_Equity\": 0}, {\"Project Name\": \"Renaissance at Cincotta\", \"Financing_sub_cat\": \"State Grant\", \"Interest Rate\": 3.0, \"Funding Type\": \"Construction Financing\", \"Project Type\": \"Special Needs\", \"Amount of Funds\": 2870000.0, \"State\": \"California\", \"Gov_Grant\": 1, \"debt_financing\": 0.0, \"Funding_count\": 4, \"def_project\": 1, \"bins\": \"Low Number of Financing Sources\", \"State_Housing_Credit_Equity\": 0}, {\"Project Name\": \"Renaissance at Cincotta\", \"Financing_sub_cat\": \"Deferred Developer Fee\", \"Interest Rate\": null, \"Funding Type\": \"Construction Financing\", \"Project Type\": \"Special Needs\", \"Amount of Funds\": 4291520.0, \"State\": \"California\", \"Gov_Grant\": 0, \"debt_financing\": 0.0, \"Funding_count\": 4, \"def_project\": 1, \"bins\": \"Low Number of Financing Sources\", \"State_Housing_Credit_Equity\": 0}, {\"Project Name\": \"Renaissance at Cincotta\", \"Financing_sub_cat\": \"State Grant\", \"Interest Rate\": 3.0, \"Funding Type\": \"Permanent Financing\", \"Project Type\": \"Special Needs\", \"Amount of Funds\": 2870000.0, \"State\": \"California\", \"Gov_Grant\": 1, \"debt_financing\": 0.0, \"Funding_count\": 4, \"def_project\": 1, \"bins\": \"Low Number of Financing Sources\", \"State_Housing_Credit_Equity\": 0}, {\"Project Name\": \"Willow & Alluvial Family Apartments\", \"Financing_sub_cat\": \"Bank Loan\", \"Interest Rate\": 5.25, \"Funding Type\": \"Construction Financing\", \"Project Type\": \"Family\", \"Amount of Funds\": 18987731.0, \"State\": \"California\", \"Gov_Grant\": 0, \"debt_financing\": 1.0, \"Funding_count\": 3, \"def_project\": 1, \"bins\": \"Low Number of Financing Sources\", \"State_Housing_Credit_Equity\": 0}, {\"Project Name\": \"Willow & Alluvial Family Apartments\", \"Financing_sub_cat\": \"Other\", \"Interest Rate\": 4.0, \"Funding Type\": \"Construction Financing\", \"Project Type\": \"Family\", \"Amount of Funds\": 4250000.0, \"State\": \"California\", \"Gov_Grant\": 0, \"debt_financing\": null, \"Funding_count\": 3, \"def_project\": 1, \"bins\": \"Low Number of Financing Sources\", \"State_Housing_Credit_Equity\": 0}, {\"Project Name\": \"Willow & Alluvial Family Apartments\", \"Financing_sub_cat\": \"Deferred Developer Fee\", \"Interest Rate\": null, \"Funding Type\": \"Construction Financing\", \"Project Type\": \"Family\", \"Amount of Funds\": 1653922.0, \"State\": \"California\", \"Gov_Grant\": 0, \"debt_financing\": 0.0, \"Funding_count\": 3, \"def_project\": 1, \"bins\": \"Low Number of Financing Sources\", \"State_Housing_Credit_Equity\": 0}, {\"Project Name\": \"Willow & Alluvial Family Apartments\", \"Financing_sub_cat\": \"Bank Loan\", \"Interest Rate\": 5.85, \"Funding Type\": \"Permanent Financing\", \"Project Type\": \"Family\", \"Amount of Funds\": 1070000.0, \"State\": \"California\", \"Gov_Grant\": 0, \"debt_financing\": 1.0, \"Funding_count\": 3, \"def_project\": 1, \"bins\": \"Low Number of Financing Sources\", \"State_Housing_Credit_Equity\": 0}, {\"Project Name\": \"Willow & Alluvial Family Apartments\", \"Financing_sub_cat\": \"Other\", \"Interest Rate\": 4.0, \"Funding Type\": \"Permanent Financing\", \"Project Type\": \"Family\", \"Amount of Funds\": 4250000.0, \"State\": \"California\", \"Gov_Grant\": 0, \"debt_financing\": null, \"Funding_count\": 3, \"def_project\": 1, \"bins\": \"Low Number of Financing Sources\", \"State_Housing_Credit_Equity\": 0}, {\"Project Name\": \"Sutter Village Apartments\", \"Financing_sub_cat\": \"Bank Loan\", \"Interest Rate\": 5.35, \"Funding Type\": \"Construction Financing\", \"Project Type\": \"At-Risk\", \"Amount of Funds\": 10750000.0, \"State\": \"California\", \"Gov_Grant\": 0, \"debt_financing\": 1.0, \"Funding_count\": 3, \"def_project\": 0, \"bins\": \"Low Number of Financing Sources\", \"State_Housing_Credit_Equity\": 0}, {\"Project Name\": \"Sutter Village Apartments\", \"Financing_sub_cat\": \"Bank Loan\", \"Interest Rate\": null, \"Funding Type\": \"Construction Financing\", \"Project Type\": \"At-Risk\", \"Amount of Funds\": 11285815.0, \"State\": \"California\", \"Gov_Grant\": 0, \"debt_financing\": 1.0, \"Funding_count\": 3, \"def_project\": 0, \"bins\": \"Low Number of Financing Sources\", \"State_Housing_Credit_Equity\": 0}, {\"Project Name\": \"Sutter Village Apartments\", \"Financing_sub_cat\": \"Other\", \"Interest Rate\": null, \"Funding Type\": \"Construction Financing\", \"Project Type\": \"At-Risk\", \"Amount of Funds\": 349292.0, \"State\": \"California\", \"Gov_Grant\": 0, \"debt_financing\": null, \"Funding_count\": 3, \"def_project\": 0, \"bins\": \"Low Number of Financing Sources\", \"State_Housing_Credit_Equity\": 0}, {\"Project Name\": \"Sutter Village Apartments\", \"Financing_sub_cat\": \"Bank Loan\", \"Interest Rate\": 5.35, \"Funding Type\": \"Permanent Financing\", \"Project Type\": \"At-Risk\", \"Amount of Funds\": 7250000.0, \"State\": \"California\", \"Gov_Grant\": 0, \"debt_financing\": 1.0, \"Funding_count\": 3, \"def_project\": 0, \"bins\": \"Low Number of Financing Sources\", \"State_Housing_Credit_Equity\": 0}, {\"Project Name\": \"Sutter Village Apartments\", \"Financing_sub_cat\": \"Other\", \"Interest Rate\": null, \"Funding Type\": \"Permanent Financing\", \"Project Type\": \"At-Risk\", \"Amount of Funds\": 349292.0, \"State\": \"California\", \"Gov_Grant\": 0, \"debt_financing\": null, \"Funding_count\": 3, \"def_project\": 0, \"bins\": \"Low Number of Financing Sources\", \"State_Housing_Credit_Equity\": 0}, {\"Project Name\": \"Veterans Park Apartments\", \"Financing_sub_cat\": \"Bank Loan\", \"Interest Rate\": null, \"Funding Type\": \"Construction Financing\", \"Project Type\": \"Family\", \"Amount of Funds\": 23707303.0, \"State\": \"California\", \"Gov_Grant\": 0, \"debt_financing\": 1.0, \"Funding_count\": 7, \"def_project\": 1, \"bins\": \"Low Number of Financing Sources\", \"State_Housing_Credit_Equity\": 0}, {\"Project Name\": \"Veterans Park Apartments\", \"Financing_sub_cat\": \"Deferred Developer Fee\", \"Interest Rate\": null, \"Funding Type\": \"Construction Financing\", \"Project Type\": \"Family\", \"Amount of Funds\": 260000.0, \"State\": \"California\", \"Gov_Grant\": 0, \"debt_financing\": 0.0, \"Funding_count\": 7, \"def_project\": 1, \"bins\": \"Low Number of Financing Sources\", \"State_Housing_Credit_Equity\": 0}, {\"Project Name\": \"Veterans Park Apartments\", \"Financing_sub_cat\": \"Other\", \"Interest Rate\": 3.0, \"Funding Type\": \"Construction Financing\", \"Project Type\": \"Family\", \"Amount of Funds\": 5122000.0, \"State\": \"California\", \"Gov_Grant\": 0, \"debt_financing\": null, \"Funding_count\": 7, \"def_project\": 1, \"bins\": \"Low Number of Financing Sources\", \"State_Housing_Credit_Equity\": 0}, {\"Project Name\": \"Veterans Park Apartments\", \"Financing_sub_cat\": \"Federal Credit\", \"Interest Rate\": null, \"Funding Type\": \"Construction Financing\", \"Project Type\": \"Family\", \"Amount of Funds\": 3587709.0, \"State\": \"California\", \"Gov_Grant\": 0, \"debt_financing\": 0.0, \"Funding_count\": 7, \"def_project\": 1, \"bins\": \"Low Number of Financing Sources\", \"State_Housing_Credit_Equity\": 0}, {\"Project Name\": \"Veterans Park Apartments\", \"Financing_sub_cat\": \"Bank Loan\", \"Interest Rate\": 6.0, \"Funding Type\": \"Permanent Financing\", \"Project Type\": \"Family\", \"Amount of Funds\": 3198726.0, \"State\": \"California\", \"Gov_Grant\": 0, \"debt_financing\": 1.0, \"Funding_count\": 7, \"def_project\": 1, \"bins\": \"Low Number of Financing Sources\", \"State_Housing_Credit_Equity\": 0}, {\"Project Name\": \"Veterans Park Apartments\", \"Financing_sub_cat\": \"Deferred Developer Fee\", \"Interest Rate\": null, \"Funding Type\": \"Permanent Financing\", \"Project Type\": \"Family\", \"Amount of Funds\": 0.0, \"State\": \"California\", \"Gov_Grant\": 0, \"debt_financing\": 0.0, \"Funding_count\": 7, \"def_project\": 1, \"bins\": \"Low Number of Financing Sources\", \"State_Housing_Credit_Equity\": 0}, {\"Project Name\": \"Veterans Park Apartments\", \"Financing_sub_cat\": \"State Funding\", \"Interest Rate\": 3.0, \"Funding Type\": \"Permanent Financing\", \"Project Type\": \"Family\", \"Amount of Funds\": 6613415.0, \"State\": \"California\", \"Gov_Grant\": 0, \"debt_financing\": 0.0, \"Funding_count\": 7, \"def_project\": 1, \"bins\": \"Low Number of Financing Sources\", \"State_Housing_Credit_Equity\": 0}, {\"Project Name\": \"Veterans Park Apartments\", \"Financing_sub_cat\": \"Local Grant\", \"Interest Rate\": 3.0, \"Funding Type\": \"Permanent Financing\", \"Project Type\": \"Family\", \"Amount of Funds\": 5200000.0, \"State\": \"California\", \"Gov_Grant\": 1, \"debt_financing\": 0.0, \"Funding_count\": 7, \"def_project\": 1, \"bins\": \"Low Number of Financing Sources\", \"State_Housing_Credit_Equity\": 0}, {\"Project Name\": \"Gateway Villas\", \"Financing_sub_cat\": \"Bank Loan\", \"Interest Rate\": 4.5, \"Funding Type\": \"Construction Financing\", \"Project Type\": \"Family\", \"Amount of Funds\": 10000000.0, \"State\": \"California\", \"Gov_Grant\": 0, \"debt_financing\": 1.0, \"Funding_count\": 9, \"def_project\": 0, \"bins\": \"Medium Number of Financing Sources\", \"State_Housing_Credit_Equity\": 0}, {\"Project Name\": \"Gateway Villas\", \"Financing_sub_cat\": \"Local Grant\", \"Interest Rate\": null, \"Funding Type\": \"Construction Financing\", \"Project Type\": \"Family\", \"Amount of Funds\": 1310000.0, \"State\": \"California\", \"Gov_Grant\": 1, \"debt_financing\": 0.0, \"Funding_count\": 9, \"def_project\": 0, \"bins\": \"Medium Number of Financing Sources\", \"State_Housing_Credit_Equity\": 0}, {\"Project Name\": \"Gateway Villas\", \"Financing_sub_cat\": \"Local Grant\", \"Interest Rate\": null, \"Funding Type\": \"Construction Financing\", \"Project Type\": \"Family\", \"Amount of Funds\": 1500000.0, \"State\": \"California\", \"Gov_Grant\": 1, \"debt_financing\": 0.0, \"Funding_count\": 9, \"def_project\": 0, \"bins\": \"Medium Number of Financing Sources\", \"State_Housing_Credit_Equity\": 0}, {\"Project Name\": \"Gateway Villas\", \"Financing_sub_cat\": \"Local Grant\", \"Interest Rate\": 1.0, \"Funding Type\": \"Construction Financing\", \"Project Type\": \"Family\", \"Amount of Funds\": 980000.0, \"State\": \"California\", \"Gov_Grant\": 1, \"debt_financing\": 0.0, \"Funding_count\": 9, \"def_project\": 0, \"bins\": \"Medium Number of Financing Sources\", \"State_Housing_Credit_Equity\": 0}, {\"Project Name\": \"Gateway Villas\", \"Financing_sub_cat\": \"Local Grant\", \"Interest Rate\": null, \"Funding Type\": \"Construction Financing\", \"Project Type\": \"Family\", \"Amount of Funds\": 612848.0, \"State\": \"California\", \"Gov_Grant\": 1, \"debt_financing\": 0.0, \"Funding_count\": 9, \"def_project\": 0, \"bins\": \"Medium Number of Financing Sources\", \"State_Housing_Credit_Equity\": 0}, {\"Project Name\": \"Gateway Villas\", \"Financing_sub_cat\": \"Other\", \"Interest Rate\": null, \"Funding Type\": \"Construction Financing\", \"Project Type\": \"Family\", \"Amount of Funds\": 423844.0, \"State\": \"California\", \"Gov_Grant\": 0, \"debt_financing\": null, \"Funding_count\": 9, \"def_project\": 0, \"bins\": \"Medium Number of Financing Sources\", \"State_Housing_Credit_Equity\": 0}, {\"Project Name\": \"Gateway Villas\", \"Financing_sub_cat\": \"Bank Loan\", \"Interest Rate\": 5.25, \"Funding Type\": \"Permanent Financing\", \"Project Type\": \"Family\", \"Amount of Funds\": 1800000.0, \"State\": \"California\", \"Gov_Grant\": 0, \"debt_financing\": 1.0, \"Funding_count\": 9, \"def_project\": 0, \"bins\": \"Medium Number of Financing Sources\", \"State_Housing_Credit_Equity\": 0}, {\"Project Name\": \"Gateway Villas\", \"Financing_sub_cat\": \"Local Grant\", \"Interest Rate\": null, \"Funding Type\": \"Permanent Financing\", \"Project Type\": \"Family\", \"Amount of Funds\": 1310000.0, \"State\": \"California\", \"Gov_Grant\": 1, \"debt_financing\": 0.0, \"Funding_count\": 9, \"def_project\": 0, \"bins\": \"Medium Number of Financing Sources\", \"State_Housing_Credit_Equity\": 0}, {\"Project Name\": \"Gateway Villas\", \"Financing_sub_cat\": \"Local Grant\", \"Interest Rate\": 1.0, \"Funding Type\": \"Permanent Financing\", \"Project Type\": \"Family\", \"Amount of Funds\": 980000.0, \"State\": \"California\", \"Gov_Grant\": 1, \"debt_financing\": 0.0, \"Funding_count\": 9, \"def_project\": 0, \"bins\": \"Medium Number of Financing Sources\", \"State_Housing_Credit_Equity\": 0}, {\"Project Name\": \"Gateway Villas\", \"Financing_sub_cat\": \"Local Grant\", \"Interest Rate\": null, \"Funding Type\": \"Permanent Financing\", \"Project Type\": \"Family\", \"Amount of Funds\": 612848.0, \"State\": \"California\", \"Gov_Grant\": 1, \"debt_financing\": 0.0, \"Funding_count\": 9, \"def_project\": 0, \"bins\": \"Medium Number of Financing Sources\", \"State_Housing_Credit_Equity\": 0}, {\"Project Name\": \"Fairview Heights Apartments\", \"Financing_sub_cat\": \"Bank Loan\", \"Interest Rate\": 4.25, \"Funding Type\": \"Construction Financing\", \"Project Type\": \"Family\", \"Amount of Funds\": 29101004.0, \"State\": \"California\", \"Gov_Grant\": 0, \"debt_financing\": 1.0, \"Funding_count\": 5, \"def_project\": 1, \"bins\": \"Low Number of Financing Sources\", \"State_Housing_Credit_Equity\": 0}, {\"Project Name\": \"Fairview Heights Apartments\", \"Financing_sub_cat\": \"Other\", \"Interest Rate\": null, \"Funding Type\": \"Construction Financing\", \"Project Type\": \"Family\", \"Amount of Funds\": 5325000.0, \"State\": \"California\", \"Gov_Grant\": 0, \"debt_financing\": null, \"Funding_count\": 5, \"def_project\": 1, \"bins\": \"Low Number of Financing Sources\", \"State_Housing_Credit_Equity\": 0}, {\"Project Name\": \"Fairview Heights Apartments\", \"Financing_sub_cat\": \"Local Grant\", \"Interest Rate\": 3.0, \"Funding Type\": \"Construction Financing\", \"Project Type\": \"Family\", \"Amount of Funds\": 9318100.0, \"State\": \"California\", \"Gov_Grant\": 1, \"debt_financing\": 0.0, \"Funding_count\": 5, \"def_project\": 1, \"bins\": \"Low Number of Financing Sources\", \"State_Housing_Credit_Equity\": 0}, {\"Project Name\": \"Fairview Heights Apartments\", \"Financing_sub_cat\": \"Other\", \"Interest Rate\": null, \"Funding Type\": \"Construction Financing\", \"Project Type\": \"Family\", \"Amount of Funds\": 2000000.0, \"State\": \"California\", \"Gov_Grant\": 0, \"debt_financing\": null, \"Funding_count\": 5, \"def_project\": 1, \"bins\": \"Low Number of Financing Sources\", \"State_Housing_Credit_Equity\": 0}, {\"Project Name\": \"Fairview Heights Apartments\", \"Financing_sub_cat\": \"Deferred Developer Fee\", \"Interest Rate\": null, \"Funding Type\": \"Construction Financing\", \"Project Type\": \"Family\", \"Amount of Funds\": 1273459.0, \"State\": \"California\", \"Gov_Grant\": 0, \"debt_financing\": 0.0, \"Funding_count\": 5, \"def_project\": 1, \"bins\": \"Low Number of Financing Sources\", \"State_Housing_Credit_Equity\": 0}, {\"Project Name\": \"Fairview Heights Apartments\", \"Financing_sub_cat\": \"Bank Loan\", \"Interest Rate\": 6.25, \"Funding Type\": \"Permanent Financing\", \"Project Type\": \"Family\", \"Amount of Funds\": 10812188.0, \"State\": \"California\", \"Gov_Grant\": 0, \"debt_financing\": 1.0, \"Funding_count\": 5, \"def_project\": 1, \"bins\": \"Low Number of Financing Sources\", \"State_Housing_Credit_Equity\": 0}, {\"Project Name\": \"Fairview Heights Apartments\", \"Financing_sub_cat\": \"Other\", \"Interest Rate\": 3.0, \"Funding Type\": \"Permanent Financing\", \"Project Type\": \"Family\", \"Amount of Funds\": 5325000.0, \"State\": \"California\", \"Gov_Grant\": 0, \"debt_financing\": null, \"Funding_count\": 5, \"def_project\": 1, \"bins\": \"Low Number of Financing Sources\", \"State_Housing_Credit_Equity\": 0}, {\"Project Name\": \"Fairview Heights Apartments\", \"Financing_sub_cat\": \"Local Grant\", \"Interest Rate\": 3.0, \"Funding Type\": \"Permanent Financing\", \"Project Type\": \"Family\", \"Amount of Funds\": 9460000.0, \"State\": \"California\", \"Gov_Grant\": 1, \"debt_financing\": 0.0, \"Funding_count\": 5, \"def_project\": 1, \"bins\": \"Low Number of Financing Sources\", \"State_Housing_Credit_Equity\": 0}, {\"Project Name\": \"Fairview Heights Apartments\", \"Financing_sub_cat\": \"Other\", \"Interest Rate\": null, \"Funding Type\": \"Permanent Financing\", \"Project Type\": \"Family\", \"Amount of Funds\": 2000000.0, \"State\": \"California\", \"Gov_Grant\": 0, \"debt_financing\": null, \"Funding_count\": 5, \"def_project\": 1, \"bins\": \"Low Number of Financing Sources\", \"State_Housing_Credit_Equity\": 0}, {\"Project Name\": \"Stonegate Village Phase II\", \"Financing_sub_cat\": \"Bank Loan\", \"Interest Rate\": 5.75, \"Funding Type\": \"Construction Financing\", \"Project Type\": \"Family\", \"Amount of Funds\": 22325123.0, \"State\": \"California\", \"Gov_Grant\": 0, \"debt_financing\": 1.0, \"Funding_count\": 3, \"def_project\": 1, \"bins\": \"Low Number of Financing Sources\", \"State_Housing_Credit_Equity\": 0}, {\"Project Name\": \"Stonegate Village Phase II\", \"Financing_sub_cat\": \"Local Grant\", \"Interest Rate\": 5.7, \"Funding Type\": \"Permanent Financing\", \"Project Type\": \"Family\", \"Amount of Funds\": 2326000.0, \"State\": \"California\", \"Gov_Grant\": 1, \"debt_financing\": 0.0, \"Funding_count\": 3, \"def_project\": 1, \"bins\": \"Low Number of Financing Sources\", \"State_Housing_Credit_Equity\": 0}, {\"Project Name\": \"Stonegate Village Phase II\", \"Financing_sub_cat\": \"Deferred Developer Fee\", \"Interest Rate\": null, \"Funding Type\": \"Permanent Financing\", \"Project Type\": \"Family\", \"Amount of Funds\": 375000.0, \"State\": \"California\", \"Gov_Grant\": 0, \"debt_financing\": 0.0, \"Funding_count\": 3, \"def_project\": 1, \"bins\": \"Low Number of Financing Sources\", \"State_Housing_Credit_Equity\": 0}, {\"Project Name\": \"Jordan Downs Area H (Phase II) \", \"Financing_sub_cat\": \"Bank Loan\", \"Interest Rate\": 5.0, \"Funding Type\": \"Construction Financing\", \"Project Type\": \"Family\", \"Amount of Funds\": 31306659.0, \"State\": \"California\", \"Gov_Grant\": 0, \"debt_financing\": 1.0, \"Funding_count\": 10, \"def_project\": 1, \"bins\": \"Medium Number of Financing Sources\", \"State_Housing_Credit_Equity\": 0}, {\"Project Name\": \"Jordan Downs Area H (Phase II) \", \"Financing_sub_cat\": \"Federal Credit\", \"Interest Rate\": null, \"Funding Type\": \"Construction Financing\", \"Project Type\": \"Family\", \"Amount of Funds\": 4108992.0, \"State\": \"California\", \"Gov_Grant\": 0, \"debt_financing\": 0.0, \"Funding_count\": 10, \"def_project\": 1, \"bins\": \"Medium Number of Financing Sources\", \"State_Housing_Credit_Equity\": 0}, {\"Project Name\": \"Jordan Downs Area H (Phase II) \", \"Financing_sub_cat\": \"Local Grant\", \"Interest Rate\": 4.0, \"Funding Type\": \"Construction Financing\", \"Project Type\": \"Family\", \"Amount of Funds\": 2800000.0, \"State\": \"California\", \"Gov_Grant\": 1, \"debt_financing\": 0.0, \"Funding_count\": 10, \"def_project\": 1, \"bins\": \"Medium Number of Financing Sources\", \"State_Housing_Credit_Equity\": 0}, {\"Project Name\": \"Jordan Downs Area H (Phase II) \", \"Financing_sub_cat\": \"Deferred Developer Fee\", \"Interest Rate\": null, \"Funding Type\": \"Construction Financing\", \"Project Type\": \"Family\", \"Amount of Funds\": 883955.0, \"State\": \"California\", \"Gov_Grant\": 0, \"debt_financing\": 0.0, \"Funding_count\": 10, \"def_project\": 1, \"bins\": \"Medium Number of Financing Sources\", \"State_Housing_Credit_Equity\": 0}, {\"Project Name\": \"Jordan Downs Area H (Phase II) \", \"Financing_sub_cat\": \"Local Grant\", \"Interest Rate\": 3.0, \"Funding Type\": \"Construction Financing\", \"Project Type\": \"Family\", \"Amount of Funds\": 1750000.0, \"State\": \"California\", \"Gov_Grant\": 1, \"debt_financing\": 0.0, \"Funding_count\": 10, \"def_project\": 1, \"bins\": \"Medium Number of Financing Sources\", \"State_Housing_Credit_Equity\": 0}, {\"Project Name\": \"Jordan Downs Area H (Phase II) \", \"Financing_sub_cat\": \"Deferred Developer Fee\", \"Interest Rate\": null, \"Funding Type\": \"Construction Financing\", \"Project Type\": \"Family\", \"Amount of Funds\": 220000.0, \"State\": \"California\", \"Gov_Grant\": 0, \"debt_financing\": 0.0, \"Funding_count\": 10, \"def_project\": 1, \"bins\": \"Medium Number of Financing Sources\", \"State_Housing_Credit_Equity\": 0}, {\"Project Name\": \"Jordan Downs Area H (Phase II) \", \"Financing_sub_cat\": \"Bank Loan\", \"Interest Rate\": 5.74, \"Funding Type\": \"Permanent Financing\", \"Project Type\": \"Family\", \"Amount of Funds\": 8063000.0, \"State\": \"California\", \"Gov_Grant\": 0, \"debt_financing\": 1.0, \"Funding_count\": 10, \"def_project\": 1, \"bins\": \"Medium Number of Financing Sources\", \"State_Housing_Credit_Equity\": 0}, {\"Project Name\": \"Jordan Downs Area H (Phase II) \", \"Financing_sub_cat\": \"Local Grant\", \"Interest Rate\": 4.0, \"Funding Type\": \"Permanent Financing\", \"Project Type\": \"Family\", \"Amount of Funds\": 2800000.0, \"State\": \"California\", \"Gov_Grant\": 1, \"debt_financing\": 0.0, \"Funding_count\": 10, \"def_project\": 1, \"bins\": \"Medium Number of Financing Sources\", \"State_Housing_Credit_Equity\": 0}, {\"Project Name\": \"Jordan Downs Area H (Phase II) \", \"Financing_sub_cat\": \"Local Grant\", \"Interest Rate\": 3.0, \"Funding Type\": \"Permanent Financing\", \"Project Type\": \"Family\", \"Amount of Funds\": 1750000.0, \"State\": \"California\", \"Gov_Grant\": 1, \"debt_financing\": 0.0, \"Funding_count\": 10, \"def_project\": 1, \"bins\": \"Medium Number of Financing Sources\", \"State_Housing_Credit_Equity\": 0}, {\"Project Name\": \"Jordan Downs Area H (Phase II) \", \"Financing_sub_cat\": \"Deferred Developer Fee\", \"Interest Rate\": null, \"Funding Type\": \"Permanent Financing\", \"Project Type\": \"Family\", \"Amount of Funds\": 220000.0, \"State\": \"California\", \"Gov_Grant\": 0, \"debt_financing\": 0.0, \"Funding_count\": 10, \"def_project\": 1, \"bins\": \"Medium Number of Financing Sources\", \"State_Housing_Credit_Equity\": 0}, {\"Project Name\": \"Nupchi Xo'oy (Mulberry Project)\", \"Financing_sub_cat\": \"Bank Loan\", \"Interest Rate\": 6.0, \"Funding Type\": \"Construction Financing\", \"Project Type\": \"Family\", \"Amount of Funds\": 12691412.0, \"State\": \"California\", \"Gov_Grant\": 0, \"debt_financing\": 1.0, \"Funding_count\": 8, \"def_project\": 1, \"bins\": \"Low Number of Financing Sources\", \"State_Housing_Credit_Equity\": 0}, {\"Project Name\": \"Nupchi Xo'oy (Mulberry Project)\", \"Financing_sub_cat\": \"Local Grant\", \"Interest Rate\": 3.0, \"Funding Type\": \"Construction Financing\", \"Project Type\": \"Family\", \"Amount of Funds\": 600000.0, \"State\": \"California\", \"Gov_Grant\": 1, \"debt_financing\": 0.0, \"Funding_count\": 8, \"def_project\": 1, \"bins\": \"Low Number of Financing Sources\", \"State_Housing_Credit_Equity\": 0}, {\"Project Name\": \"Nupchi Xo'oy (Mulberry Project)\", \"Financing_sub_cat\": \"Local Grant\", \"Interest Rate\": 3.0, \"Funding Type\": \"Construction Financing\", \"Project Type\": \"Family\", \"Amount of Funds\": 300000.0, \"State\": \"California\", \"Gov_Grant\": 1, \"debt_financing\": 0.0, \"Funding_count\": 8, \"def_project\": 1, \"bins\": \"Low Number of Financing Sources\", \"State_Housing_Credit_Equity\": 0}, {\"Project Name\": \"Nupchi Xo'oy (Mulberry Project)\", \"Financing_sub_cat\": \"Bank Loan\", \"Interest Rate\": 6.0, \"Funding Type\": \"Permanent Financing\", \"Project Type\": \"Family\", \"Amount of Funds\": 1554000.0, \"State\": \"California\", \"Gov_Grant\": 0, \"debt_financing\": 1.0, \"Funding_count\": 8, \"def_project\": 1, \"bins\": \"Low Number of Financing Sources\", \"State_Housing_Credit_Equity\": 0}, {\"Project Name\": \"Nupchi Xo'oy (Mulberry Project)\", \"Financing_sub_cat\": \"Bank Loan\", \"Interest Rate\": 6.16, \"Funding Type\": \"Permanent Financing\", \"Project Type\": \"Family\", \"Amount of Funds\": 2701259.0, \"State\": \"California\", \"Gov_Grant\": 0, \"debt_financing\": 1.0, \"Funding_count\": 8, \"def_project\": 1, \"bins\": \"Low Number of Financing Sources\", \"State_Housing_Credit_Equity\": 0}, {\"Project Name\": \"Nupchi Xo'oy (Mulberry Project)\", \"Financing_sub_cat\": \"Local Grant\", \"Interest Rate\": 3.0, \"Funding Type\": \"Permanent Financing\", \"Project Type\": \"Family\", \"Amount of Funds\": 300000.0, \"State\": \"California\", \"Gov_Grant\": 1, \"debt_financing\": 0.0, \"Funding_count\": 8, \"def_project\": 1, \"bins\": \"Low Number of Financing Sources\", \"State_Housing_Credit_Equity\": 0}, {\"Project Name\": \"Nupchi Xo'oy (Mulberry Project)\", \"Financing_sub_cat\": \"Local Grant\", \"Interest Rate\": 3.0, \"Funding Type\": \"Permanent Financing\", \"Project Type\": \"Family\", \"Amount of Funds\": 600000.0, \"State\": \"California\", \"Gov_Grant\": 1, \"debt_financing\": 0.0, \"Funding_count\": 8, \"def_project\": 1, \"bins\": \"Low Number of Financing Sources\", \"State_Housing_Credit_Equity\": 0}, {\"Project Name\": \"Nupchi Xo'oy (Mulberry Project)\", \"Financing_sub_cat\": \"Deferred Developer Fee\", \"Interest Rate\": null, \"Funding Type\": \"Permanent Financing\", \"Project Type\": \"Family\", \"Amount of Funds\": 117624.0, \"State\": \"California\", \"Gov_Grant\": 0, \"debt_financing\": 0.0, \"Funding_count\": 8, \"def_project\": 1, \"bins\": \"Low Number of Financing Sources\", \"State_Housing_Credit_Equity\": 0}, {\"Project Name\": \"Westminster Crossing\", \"Financing_sub_cat\": \"Bank Loan\", \"Interest Rate\": 4.9, \"Funding Type\": \"Construction Financing\", \"Project Type\": \"Family\", \"Amount of Funds\": 26500000.0, \"State\": \"California\", \"Gov_Grant\": 0, \"debt_financing\": 1.0, \"Funding_count\": 12, \"def_project\": 1, \"bins\": \"High Number of Financing Sources\", \"State_Housing_Credit_Equity\": 0}, {\"Project Name\": \"Westminster Crossing\", \"Financing_sub_cat\": \"Local Grant\", \"Interest Rate\": 3.0, \"Funding Type\": \"Construction Financing\", \"Project Type\": \"Family\", \"Amount of Funds\": 5500000.0, \"State\": \"California\", \"Gov_Grant\": 1, \"debt_financing\": 0.0, \"Funding_count\": 12, \"def_project\": 1, \"bins\": \"High Number of Financing Sources\", \"State_Housing_Credit_Equity\": 0}, {\"Project Name\": \"Westminster Crossing\", \"Financing_sub_cat\": \"State Grant\", \"Interest Rate\": 3.0, \"Funding Type\": \"Construction Financing\", \"Project Type\": \"Family\", \"Amount of Funds\": 2184000.0, \"State\": \"California\", \"Gov_Grant\": 1, \"debt_financing\": 0.0, \"Funding_count\": 12, \"def_project\": 1, \"bins\": \"High Number of Financing Sources\", \"State_Housing_Credit_Equity\": 0}, {\"Project Name\": \"Westminster Crossing\", \"Financing_sub_cat\": \"Tax Credit Equity\", \"Interest Rate\": null, \"Funding Type\": \"Construction Financing\", \"Project Type\": \"Family\", \"Amount of Funds\": 3395025.0, \"State\": \"California\", \"Gov_Grant\": 0, \"debt_financing\": null, \"Funding_count\": 12, \"def_project\": 1, \"bins\": \"High Number of Financing Sources\", \"State_Housing_Credit_Equity\": 0}, {\"Project Name\": \"Westminster Crossing\", \"Financing_sub_cat\": \"Deferred Developer Fee\", \"Interest Rate\": null, \"Funding Type\": \"Construction Financing\", \"Project Type\": \"Family\", \"Amount of Funds\": 242248.0, \"State\": \"California\", \"Gov_Grant\": 0, \"debt_financing\": 0.0, \"Funding_count\": 12, \"def_project\": 1, \"bins\": \"High Number of Financing Sources\", \"State_Housing_Credit_Equity\": 0}, {\"Project Name\": \"Westminster Crossing\", \"Financing_sub_cat\": \"Deferred Developer Fee\", \"Interest Rate\": null, \"Funding Type\": \"Construction Financing\", \"Project Type\": \"Family\", \"Amount of Funds\": 1047388.0, \"State\": \"California\", \"Gov_Grant\": 0, \"debt_financing\": 0.0, \"Funding_count\": 12, \"def_project\": 1, \"bins\": \"High Number of Financing Sources\", \"State_Housing_Credit_Equity\": 0}, {\"Project Name\": \"Westminster Crossing\", \"Financing_sub_cat\": \"Local Grant\", \"Interest Rate\": 5.75, \"Funding Type\": \"Permanent Financing\", \"Project Type\": \"Family\", \"Amount of Funds\": 5269940.0, \"State\": \"California\", \"Gov_Grant\": 1, \"debt_financing\": 0.0, \"Funding_count\": 12, \"def_project\": 1, \"bins\": \"High Number of Financing Sources\", \"State_Housing_Credit_Equity\": 0}, {\"Project Name\": \"Westminster Crossing\", \"Financing_sub_cat\": \"Local Grant\", \"Interest Rate\": 5.75, \"Funding Type\": \"Permanent Financing\", \"Project Type\": \"Family\", \"Amount of Funds\": 2322946.0, \"State\": \"California\", \"Gov_Grant\": 1, \"debt_financing\": 0.0, \"Funding_count\": 12, \"def_project\": 1, \"bins\": \"High Number of Financing Sources\", \"State_Housing_Credit_Equity\": 0}, {\"Project Name\": \"Westminster Crossing\", \"Financing_sub_cat\": \"Local Grant\", \"Interest Rate\": 3.0, \"Funding Type\": \"Permanent Financing\", \"Project Type\": \"Family\", \"Amount of Funds\": 5500000.0, \"State\": \"California\", \"Gov_Grant\": 1, \"debt_financing\": 0.0, \"Funding_count\": 12, \"def_project\": 1, \"bins\": \"High Number of Financing Sources\", \"State_Housing_Credit_Equity\": 0}, {\"Project Name\": \"Westminster Crossing\", \"Financing_sub_cat\": \"State Grant\", \"Interest Rate\": 3.0, \"Funding Type\": \"Permanent Financing\", \"Project Type\": \"Family\", \"Amount of Funds\": 2184000.0, \"State\": \"California\", \"Gov_Grant\": 1, \"debt_financing\": 0.0, \"Funding_count\": 12, \"def_project\": 1, \"bins\": \"High Number of Financing Sources\", \"State_Housing_Credit_Equity\": 0}, {\"Project Name\": \"Westminster Crossing\", \"Financing_sub_cat\": \"Local Grant\", \"Interest Rate\": 3.0, \"Funding Type\": \"Permanent Financing\", \"Project Type\": \"Family\", \"Amount of Funds\": 850500.0, \"State\": \"California\", \"Gov_Grant\": 1, \"debt_financing\": 0.0, \"Funding_count\": 12, \"def_project\": 1, \"bins\": \"High Number of Financing Sources\", \"State_Housing_Credit_Equity\": 0}, {\"Project Name\": \"Westminster Crossing\", \"Financing_sub_cat\": \"Deferred Developer Fee\", \"Interest Rate\": null, \"Funding Type\": \"Permanent Financing\", \"Project Type\": \"Family\", \"Amount of Funds\": 107775.0, \"State\": \"California\", \"Gov_Grant\": 0, \"debt_financing\": 0.0, \"Funding_count\": 12, \"def_project\": 1, \"bins\": \"High Number of Financing Sources\", \"State_Housing_Credit_Equity\": 0}, {\"Project Name\": \"Arboleda Apartments\", \"Financing_sub_cat\": \"Bank Loan\", \"Interest Rate\": 5.25, \"Funding Type\": \"Construction Financing\", \"Project Type\": \"Seniors\", \"Amount of Funds\": 14500000.0, \"State\": \"California\", \"Gov_Grant\": 0, \"debt_financing\": 1.0, \"Funding_count\": 6, \"def_project\": 1, \"bins\": \"Low Number of Financing Sources\", \"State_Housing_Credit_Equity\": 0}, {\"Project Name\": \"Arboleda Apartments\", \"Financing_sub_cat\": \"Bank Loan\", \"Interest Rate\": null, \"Funding Type\": \"Construction Financing\", \"Project Type\": \"Seniors\", \"Amount of Funds\": 9882622.0, \"State\": \"California\", \"Gov_Grant\": 0, \"debt_financing\": 1.0, \"Funding_count\": 6, \"def_project\": 1, \"bins\": \"Low Number of Financing Sources\", \"State_Housing_Credit_Equity\": 0}, {\"Project Name\": \"Arboleda Apartments\", \"Financing_sub_cat\": \"Bank Loan\", \"Interest Rate\": null, \"Funding Type\": \"Construction Financing\", \"Project Type\": \"Seniors\", \"Amount of Funds\": 2774069.0, \"State\": \"California\", \"Gov_Grant\": 0, \"debt_financing\": 1.0, \"Funding_count\": 6, \"def_project\": 1, \"bins\": \"Low Number of Financing Sources\", \"State_Housing_Credit_Equity\": 0}, {\"Project Name\": \"Arboleda Apartments\", \"Financing_sub_cat\": \"Deferred Developer Fee\", \"Interest Rate\": null, \"Funding Type\": \"Construction Financing\", \"Project Type\": \"Seniors\", \"Amount of Funds\": 1513902.0, \"State\": \"California\", \"Gov_Grant\": 0, \"debt_financing\": 0.0, \"Funding_count\": 6, \"def_project\": 1, \"bins\": \"Low Number of Financing Sources\", \"State_Housing_Credit_Equity\": 0}, {\"Project Name\": \"Arboleda Apartments\", \"Financing_sub_cat\": \"Bank Loan\", \"Interest Rate\": 5.8, \"Funding Type\": \"Permanent Financing\", \"Project Type\": \"Seniors\", \"Amount of Funds\": 3165470.0, \"State\": \"California\", \"Gov_Grant\": 0, \"debt_financing\": 1.0, \"Funding_count\": 6, \"def_project\": 1, \"bins\": \"Low Number of Financing Sources\", \"State_Housing_Credit_Equity\": 0}, {\"Project Name\": \"Arboleda Apartments\", \"Financing_sub_cat\": \"Deferred Developer Fee\", \"Interest Rate\": null, \"Funding Type\": \"Permanent Financing\", \"Project Type\": \"Seniors\", \"Amount of Funds\": 191741.0, \"State\": \"California\", \"Gov_Grant\": 0, \"debt_financing\": 0.0, \"Funding_count\": 6, \"def_project\": 1, \"bins\": \"Low Number of Financing Sources\", \"State_Housing_Credit_Equity\": 0}, {\"Project Name\": \"LAMP Lodge\", \"Financing_sub_cat\": \"Bank Loan\", \"Interest Rate\": 6.0, \"Funding Type\": \"Construction Financing\", \"Project Type\": \"Special Needs\", \"Amount of Funds\": 7000000.0, \"State\": \"California\", \"Gov_Grant\": 0, \"debt_financing\": 1.0, \"Funding_count\": 20, \"def_project\": 1, \"bins\": \"High Number of Financing Sources\", \"State_Housing_Credit_Equity\": 0}, {\"Project Name\": \"LAMP Lodge\", \"Financing_sub_cat\": \"Local Grant\", \"Interest Rate\": null, \"Funding Type\": \"Construction Financing\", \"Project Type\": \"Special Needs\", \"Amount of Funds\": 1825379.0, \"State\": \"California\", \"Gov_Grant\": 1, \"debt_financing\": 0.0, \"Funding_count\": 20, \"def_project\": 1, \"bins\": \"High Number of Financing Sources\", \"State_Housing_Credit_Equity\": 0}, {\"Project Name\": \"LAMP Lodge\", \"Financing_sub_cat\": \"Local Grant\", \"Interest Rate\": 3.0, \"Funding Type\": \"Construction Financing\", \"Project Type\": \"Special Needs\", \"Amount of Funds\": 1970000.0, \"State\": \"California\", \"Gov_Grant\": 1, \"debt_financing\": 0.0, \"Funding_count\": 20, \"def_project\": 1, \"bins\": \"High Number of Financing Sources\", \"State_Housing_Credit_Equity\": 0}, {\"Project Name\": \"LAMP Lodge\", \"Financing_sub_cat\": \"Local Grant\", \"Interest Rate\": 3.0, \"Funding Type\": \"Construction Financing\", \"Project Type\": \"Special Needs\", \"Amount of Funds\": 2955000.0, \"State\": \"California\", \"Gov_Grant\": 1, \"debt_financing\": 0.0, \"Funding_count\": 20, \"def_project\": 1, \"bins\": \"High Number of Financing Sources\", \"State_Housing_Credit_Equity\": 0}, {\"Project Name\": \"LAMP Lodge\", \"Financing_sub_cat\": \"Bank Loan\", \"Interest Rate\": null, \"Funding Type\": \"Construction Financing\", \"Project Type\": \"Special Needs\", \"Amount of Funds\": 810000.0, \"State\": \"California\", \"Gov_Grant\": 0, \"debt_financing\": 1.0, \"Funding_count\": 20, \"def_project\": 1, \"bins\": \"High Number of Financing Sources\", \"State_Housing_Credit_Equity\": 0}, {\"Project Name\": \"LAMP Lodge\", \"Financing_sub_cat\": \"Local Grant\", \"Interest Rate\": 4.0, \"Funding Type\": \"Construction Financing\", \"Project Type\": \"Special Needs\", \"Amount of Funds\": 1470740.0, \"State\": \"California\", \"Gov_Grant\": 1, \"debt_financing\": 0.0, \"Funding_count\": 20, \"def_project\": 1, \"bins\": \"High Number of Financing Sources\", \"State_Housing_Credit_Equity\": 0}, {\"Project Name\": \"LAMP Lodge\", \"Financing_sub_cat\": \"Local Grant\", \"Interest Rate\": 4.0, \"Funding Type\": \"Construction Financing\", \"Project Type\": \"Special Needs\", \"Amount of Funds\": 2600000.0, \"State\": \"California\", \"Gov_Grant\": 1, \"debt_financing\": 0.0, \"Funding_count\": 20, \"def_project\": 1, \"bins\": \"High Number of Financing Sources\", \"State_Housing_Credit_Equity\": 0}, {\"Project Name\": \"LAMP Lodge\", \"Financing_sub_cat\": \"Federal Credit\", \"Interest Rate\": null, \"Funding Type\": \"Construction Financing\", \"Project Type\": \"Special Needs\", \"Amount of Funds\": 18535336.0, \"State\": \"California\", \"Gov_Grant\": 0, \"debt_financing\": 0.0, \"Funding_count\": 20, \"def_project\": 1, \"bins\": \"High Number of Financing Sources\", \"State_Housing_Credit_Equity\": 0}, {\"Project Name\": \"LAMP Lodge\", \"Financing_sub_cat\": \"State Funding\", \"Interest Rate\": 3.0, \"Funding Type\": \"Construction Financing\", \"Project Type\": \"Special Needs\", \"Amount of Funds\": 1834621.0, \"State\": \"California\", \"Gov_Grant\": 0, \"debt_financing\": 0.0, \"Funding_count\": 20, \"def_project\": 1, \"bins\": \"High Number of Financing Sources\", \"State_Housing_Credit_Equity\": 0}, {\"Project Name\": \"LAMP Lodge\", \"Financing_sub_cat\": \"Deferred Developer Fee\", \"Interest Rate\": null, \"Funding Type\": \"Construction Financing\", \"Project Type\": \"Special Needs\", \"Amount of Funds\": 1560009.0, \"State\": \"California\", \"Gov_Grant\": 0, \"debt_financing\": 0.0, \"Funding_count\": 20, \"def_project\": 1, \"bins\": \"High Number of Financing Sources\", \"State_Housing_Credit_Equity\": 0}, {\"Project Name\": \"LAMP Lodge\", \"Financing_sub_cat\": \"Deferred Developer Fee\", \"Interest Rate\": null, \"Funding Type\": \"Construction Financing\", \"Project Type\": \"Special Needs\", \"Amount of Funds\": 924318.0, \"State\": \"California\", \"Gov_Grant\": 0, \"debt_financing\": 0.0, \"Funding_count\": 20, \"def_project\": 1, \"bins\": \"High Number of Financing Sources\", \"State_Housing_Credit_Equity\": 0}, {\"Project Name\": \"LAMP Lodge\", \"Financing_sub_cat\": \"Bank Loan\", \"Interest Rate\": 6.0, \"Funding Type\": \"Permanent Financing\", \"Project Type\": \"Special Needs\", \"Amount of Funds\": 3167765.0, \"State\": \"California\", \"Gov_Grant\": 0, \"debt_financing\": 1.0, \"Funding_count\": 20, \"def_project\": 1, \"bins\": \"High Number of Financing Sources\", \"State_Housing_Credit_Equity\": 0}, {\"Project Name\": \"LAMP Lodge\", \"Financing_sub_cat\": \"Local Grant\", \"Interest Rate\": null, \"Funding Type\": \"Permanent Financing\", \"Project Type\": \"Special Needs\", \"Amount of Funds\": 1825379.0, \"State\": \"California\", \"Gov_Grant\": 1, \"debt_financing\": 0.0, \"Funding_count\": 20, \"def_project\": 1, \"bins\": \"High Number of Financing Sources\", \"State_Housing_Credit_Equity\": 0}, {\"Project Name\": \"LAMP Lodge\", \"Financing_sub_cat\": \"Local Grant\", \"Interest Rate\": 3.0, \"Funding Type\": \"Permanent Financing\", \"Project Type\": \"Special Needs\", \"Amount of Funds\": 2000000.0, \"State\": \"California\", \"Gov_Grant\": 1, \"debt_financing\": 0.0, \"Funding_count\": 20, \"def_project\": 1, \"bins\": \"High Number of Financing Sources\", \"State_Housing_Credit_Equity\": 0}, {\"Project Name\": \"LAMP Lodge\", \"Financing_sub_cat\": \"Local Grant\", \"Interest Rate\": 3.0, \"Funding Type\": \"Permanent Financing\", \"Project Type\": \"Special Needs\", \"Amount of Funds\": 3000000.0, \"State\": \"California\", \"Gov_Grant\": 1, \"debt_financing\": 0.0, \"Funding_count\": 20, \"def_project\": 1, \"bins\": \"High Number of Financing Sources\", \"State_Housing_Credit_Equity\": 0}, {\"Project Name\": \"LAMP Lodge\", \"Financing_sub_cat\": \"Bank Loan\", \"Interest Rate\": null, \"Funding Type\": \"Permanent Financing\", \"Project Type\": \"Special Needs\", \"Amount of Funds\": 810000.0, \"State\": \"California\", \"Gov_Grant\": 0, \"debt_financing\": 1.0, \"Funding_count\": 20, \"def_project\": 1, \"bins\": \"High Number of Financing Sources\", \"State_Housing_Credit_Equity\": 0}, {\"Project Name\": \"LAMP Lodge\", \"Financing_sub_cat\": \"Local Grant\", \"Interest Rate\": 4.0, \"Funding Type\": \"Permanent Financing\", \"Project Type\": \"Special Needs\", \"Amount of Funds\": 1470740.0, \"State\": \"California\", \"Gov_Grant\": 1, \"debt_financing\": 0.0, \"Funding_count\": 20, \"def_project\": 1, \"bins\": \"High Number of Financing Sources\", \"State_Housing_Credit_Equity\": 0}, {\"Project Name\": \"LAMP Lodge\", \"Financing_sub_cat\": \"Local Grant\", \"Interest Rate\": 4.0, \"Funding Type\": \"Permanent Financing\", \"Project Type\": \"Special Needs\", \"Amount of Funds\": 2600000.0, \"State\": \"California\", \"Gov_Grant\": 1, \"debt_financing\": 0.0, \"Funding_count\": 20, \"def_project\": 1, \"bins\": \"High Number of Financing Sources\", \"State_Housing_Credit_Equity\": 0}, {\"Project Name\": \"LAMP Lodge\", \"Financing_sub_cat\": \"State Funding\", \"Interest Rate\": 3.0, \"Funding Type\": \"Permanent Financing\", \"Project Type\": \"Special Needs\", \"Amount of Funds\": 1834621.0, \"State\": \"California\", \"Gov_Grant\": 0, \"debt_financing\": 0.0, \"Funding_count\": 20, \"def_project\": 1, \"bins\": \"High Number of Financing Sources\", \"State_Housing_Credit_Equity\": 0}, {\"Project Name\": \"LAMP Lodge\", \"Financing_sub_cat\": \"Deferred Developer Fee\", \"Interest Rate\": null, \"Funding Type\": \"Permanent Financing\", \"Project Type\": \"Special Needs\", \"Amount of Funds\": 63117.0, \"State\": \"California\", \"Gov_Grant\": 0, \"debt_financing\": 0.0, \"Funding_count\": 20, \"def_project\": 1, \"bins\": \"High Number of Financing Sources\", \"State_Housing_Credit_Equity\": 0}, {\"Project Name\": \"Altamira Family Apartments\", \"Financing_sub_cat\": \"Bank Loan\", \"Interest Rate\": 5.02, \"Funding Type\": \"Construction Financing\", \"Project Type\": \"Family\", \"Amount of Funds\": 19411000.0, \"State\": \"California\", \"Gov_Grant\": 0, \"debt_financing\": 1.0, \"Funding_count\": 14, \"def_project\": 1, \"bins\": \"High Number of Financing Sources\", \"State_Housing_Credit_Equity\": 0}, {\"Project Name\": \"Altamira Family Apartments\", \"Financing_sub_cat\": \"Local Grant\", \"Interest Rate\": 3.0, \"Funding Type\": \"Construction Financing\", \"Project Type\": \"Family\", \"Amount of Funds\": 293107.0, \"State\": \"California\", \"Gov_Grant\": 1, \"debt_financing\": 0.0, \"Funding_count\": 14, \"def_project\": 1, \"bins\": \"High Number of Financing Sources\", \"State_Housing_Credit_Equity\": 0}, {\"Project Name\": \"Altamira Family Apartments\", \"Financing_sub_cat\": \"Local Grant\", \"Interest Rate\": 3.0, \"Funding Type\": \"Construction Financing\", \"Project Type\": \"Family\", \"Amount of Funds\": 2000000.0, \"State\": \"California\", \"Gov_Grant\": 1, \"debt_financing\": 0.0, \"Funding_count\": 14, \"def_project\": 1, \"bins\": \"High Number of Financing Sources\", \"State_Housing_Credit_Equity\": 0}, {\"Project Name\": \"Altamira Family Apartments\", \"Financing_sub_cat\": \"Local Grant\", \"Interest Rate\": 3.0, \"Funding Type\": \"Construction Financing\", \"Project Type\": \"Family\", \"Amount of Funds\": 2000000.0, \"State\": \"California\", \"Gov_Grant\": 1, \"debt_financing\": 0.0, \"Funding_count\": 14, \"def_project\": 1, \"bins\": \"High Number of Financing Sources\", \"State_Housing_Credit_Equity\": 0}, {\"Project Name\": \"Altamira Family Apartments\", \"Financing_sub_cat\": \"Local Grant\", \"Interest Rate\": 3.0, \"Funding Type\": \"Construction Financing\", \"Project Type\": \"Family\", \"Amount of Funds\": 1483000.0, \"State\": \"California\", \"Gov_Grant\": 1, \"debt_financing\": 0.0, \"Funding_count\": 14, \"def_project\": 1, \"bins\": \"High Number of Financing Sources\", \"State_Housing_Credit_Equity\": 0}, {\"Project Name\": \"Altamira Family Apartments\", \"Financing_sub_cat\": \"Federal Home Loan Bank\", \"Interest Rate\": null, \"Funding Type\": \"Construction Financing\", \"Project Type\": \"Family\", \"Amount of Funds\": 480000.0, \"State\": \"California\", \"Gov_Grant\": 0, \"debt_financing\": 0.0, \"Funding_count\": 14, \"def_project\": 1, \"bins\": \"High Number of Financing Sources\", \"State_Housing_Credit_Equity\": 0}, {\"Project Name\": \"Altamira Family Apartments\", \"Financing_sub_cat\": \"Deferred Developer Fee\", \"Interest Rate\": null, \"Funding Type\": \"Construction Financing\", \"Project Type\": \"Family\", \"Amount of Funds\": 1292935.0, \"State\": \"California\", \"Gov_Grant\": 0, \"debt_financing\": 0.0, \"Funding_count\": 14, \"def_project\": 1, \"bins\": \"High Number of Financing Sources\", \"State_Housing_Credit_Equity\": 0}, {\"Project Name\": \"Altamira Family Apartments\", \"Financing_sub_cat\": \"Bank Loan\", \"Interest Rate\": 5.813, \"Funding Type\": \"Permanent Financing\", \"Project Type\": \"Family\", \"Amount of Funds\": 421106.0, \"State\": \"California\", \"Gov_Grant\": 0, \"debt_financing\": 1.0, \"Funding_count\": 14, \"def_project\": 1, \"bins\": \"High Number of Financing Sources\", \"State_Housing_Credit_Equity\": 0}, {\"Project Name\": \"Altamira Family Apartments\", \"Financing_sub_cat\": \"Bank Loan\", \"Interest Rate\": 5.813, \"Funding Type\": \"Permanent Financing\", \"Project Type\": \"Family\", \"Amount of Funds\": 2642666.0, \"State\": \"California\", \"Gov_Grant\": 0, \"debt_financing\": 1.0, \"Funding_count\": 14, \"def_project\": 1, \"bins\": \"High Number of Financing Sources\", \"State_Housing_Credit_Equity\": 0}, {\"Project Name\": \"Altamira Family Apartments\", \"Financing_sub_cat\": \"Local Grant\", \"Interest Rate\": 3.0, \"Funding Type\": \"Permanent Financing\", \"Project Type\": \"Family\", \"Amount of Funds\": 293107.0, \"State\": \"California\", \"Gov_Grant\": 1, \"debt_financing\": 0.0, \"Funding_count\": 14, \"def_project\": 1, \"bins\": \"High Number of Financing Sources\", \"State_Housing_Credit_Equity\": 0}, {\"Project Name\": \"Altamira Family Apartments\", \"Financing_sub_cat\": \"Local Grant\", \"Interest Rate\": 3.0, \"Funding Type\": \"Permanent Financing\", \"Project Type\": \"Family\", \"Amount of Funds\": 2000000.0, \"State\": \"California\", \"Gov_Grant\": 1, \"debt_financing\": 0.0, \"Funding_count\": 14, \"def_project\": 1, \"bins\": \"High Number of Financing Sources\", \"State_Housing_Credit_Equity\": 0}, {\"Project Name\": \"Altamira Family Apartments\", \"Financing_sub_cat\": \"Local Grant\", \"Interest Rate\": 3.0, \"Funding Type\": \"Permanent Financing\", \"Project Type\": \"Family\", \"Amount of Funds\": 2000000.0, \"State\": \"California\", \"Gov_Grant\": 1, \"debt_financing\": 0.0, \"Funding_count\": 14, \"def_project\": 1, \"bins\": \"High Number of Financing Sources\", \"State_Housing_Credit_Equity\": 0}, {\"Project Name\": \"Altamira Family Apartments\", \"Financing_sub_cat\": \"Local Grant\", \"Interest Rate\": 3.0, \"Funding Type\": \"Permanent Financing\", \"Project Type\": \"Family\", \"Amount of Funds\": 1483000.0, \"State\": \"California\", \"Gov_Grant\": 1, \"debt_financing\": 0.0, \"Funding_count\": 14, \"def_project\": 1, \"bins\": \"High Number of Financing Sources\", \"State_Housing_Credit_Equity\": 0}, {\"Project Name\": \"Altamira Family Apartments\", \"Financing_sub_cat\": \"Federal Home Loan Bank\", \"Interest Rate\": null, \"Funding Type\": \"Permanent Financing\", \"Project Type\": \"Family\", \"Amount of Funds\": 480000.0, \"State\": \"California\", \"Gov_Grant\": 0, \"debt_financing\": 0.0, \"Funding_count\": 14, \"def_project\": 1, \"bins\": \"High Number of Financing Sources\", \"State_Housing_Credit_Equity\": 0}, {\"Project Name\": \"Fern Crossing Apartments\", \"Financing_sub_cat\": \"Bank Loan\", \"Interest Rate\": 4.0, \"Funding Type\": \"Construction Financing\", \"Project Type\": \"Family\", \"Amount of Funds\": 11869515.0, \"State\": \"California\", \"Gov_Grant\": 0, \"debt_financing\": 1.0, \"Funding_count\": 5, \"def_project\": 0, \"bins\": \"Low Number of Financing Sources\", \"State_Housing_Credit_Equity\": 0}, {\"Project Name\": \"Fern Crossing Apartments\", \"Financing_sub_cat\": \"Bank Loan\", \"Interest Rate\": 0.0, \"Funding Type\": \"Construction Financing\", \"Project Type\": \"Family\", \"Amount of Funds\": 2200000.0, \"State\": \"California\", \"Gov_Grant\": 0, \"debt_financing\": 1.0, \"Funding_count\": 5, \"def_project\": 0, \"bins\": \"Low Number of Financing Sources\", \"State_Housing_Credit_Equity\": 0}, {\"Project Name\": \"Fern Crossing Apartments\", \"Financing_sub_cat\": \"Other\", \"Interest Rate\": null, \"Funding Type\": \"Construction Financing\", \"Project Type\": \"Family\", \"Amount of Funds\": 177591.0, \"State\": \"California\", \"Gov_Grant\": 0, \"debt_financing\": null, \"Funding_count\": 5, \"def_project\": 0, \"bins\": \"Low Number of Financing Sources\", \"State_Housing_Credit_Equity\": 0}, {\"Project Name\": \"Fern Crossing Apartments\", \"Financing_sub_cat\": \"Bank Loan\", \"Interest Rate\": null, \"Funding Type\": \"Construction Financing\", \"Project Type\": \"Family\", \"Amount of Funds\": 2724277.0, \"State\": \"California\", \"Gov_Grant\": 0, \"debt_financing\": 1.0, \"Funding_count\": 5, \"def_project\": 0, \"bins\": \"Low Number of Financing Sources\", \"State_Housing_Credit_Equity\": 0}, {\"Project Name\": \"Fern Crossing Apartments\", \"Financing_sub_cat\": \"Bank Loan\", \"Interest Rate\": 6.0, \"Funding Type\": \"Permanent Financing\", \"Project Type\": \"Family\", \"Amount of Funds\": 350000.0, \"State\": \"California\", \"Gov_Grant\": 0, \"debt_financing\": 1.0, \"Funding_count\": 5, \"def_project\": 0, \"bins\": \"Low Number of Financing Sources\", \"State_Housing_Credit_Equity\": 0}, {\"Project Name\": \"Fern Crossing Apartments\", \"Financing_sub_cat\": \"Federal Loan\", \"Interest Rate\": 1.0, \"Funding Type\": \"Permanent Financing\", \"Project Type\": \"Family\", \"Amount of Funds\": 3000000.0, \"State\": \"California\", \"Gov_Grant\": 0, \"debt_financing\": 1.0, \"Funding_count\": 5, \"def_project\": 0, \"bins\": \"Low Number of Financing Sources\", \"State_Housing_Credit_Equity\": 0}, {\"Project Name\": \"The Gardens at Quail Run\", \"Financing_sub_cat\": \"Bank Loan\", \"Interest Rate\": 4.0, \"Funding Type\": \"Construction Financing\", \"Project Type\": \"Family\", \"Amount of Funds\": 15895036.0, \"State\": \"California\", \"Gov_Grant\": 0, \"debt_financing\": 1.0, \"Funding_count\": 8, \"def_project\": 0, \"bins\": \"Low Number of Financing Sources\", \"State_Housing_Credit_Equity\": 0}, {\"Project Name\": \"The Gardens at Quail Run\", \"Financing_sub_cat\": \"Local Grant\", \"Interest Rate\": 0.0, \"Funding Type\": \"Construction Financing\", \"Project Type\": \"Family\", \"Amount of Funds\": 5000000.0, \"State\": \"California\", \"Gov_Grant\": 1, \"debt_financing\": 0.0, \"Funding_count\": 8, \"def_project\": 0, \"bins\": \"Low Number of Financing Sources\", \"State_Housing_Credit_Equity\": 0}, {\"Project Name\": \"The Gardens at Quail Run\", \"Financing_sub_cat\": \"Local Grant\", \"Interest Rate\": null, \"Funding Type\": \"Construction Financing\", \"Project Type\": \"Family\", \"Amount of Funds\": 1203120.0, \"State\": \"California\", \"Gov_Grant\": 1, \"debt_financing\": 0.0, \"Funding_count\": 8, \"def_project\": 0, \"bins\": \"Low Number of Financing Sources\", \"State_Housing_Credit_Equity\": 0}, {\"Project Name\": \"The Gardens at Quail Run\", \"Financing_sub_cat\": \"Bank Loan\", \"Interest Rate\": 0.0, \"Funding Type\": \"Construction Financing\", \"Project Type\": \"Family\", \"Amount of Funds\": 2200000.0, \"State\": \"California\", \"Gov_Grant\": 0, \"debt_financing\": 1.0, \"Funding_count\": 8, \"def_project\": 0, \"bins\": \"Low Number of Financing Sources\", \"State_Housing_Credit_Equity\": 0}, {\"Project Name\": \"The Gardens at Quail Run\", \"Financing_sub_cat\": \"Other\", \"Interest Rate\": null, \"Funding Type\": \"Construction Financing\", \"Project Type\": \"Family\", \"Amount of Funds\": 310555.0, \"State\": \"California\", \"Gov_Grant\": 0, \"debt_financing\": null, \"Funding_count\": 8, \"def_project\": 0, \"bins\": \"Low Number of Financing Sources\", \"State_Housing_Credit_Equity\": 0}, {\"Project Name\": \"The Gardens at Quail Run\", \"Financing_sub_cat\": \"Bank Loan\", \"Interest Rate\": null, \"Funding Type\": \"Construction Financing\", \"Project Type\": \"Family\", \"Amount of Funds\": 3751398.0, \"State\": \"California\", \"Gov_Grant\": 0, \"debt_financing\": 1.0, \"Funding_count\": 8, \"def_project\": 0, \"bins\": \"Low Number of Financing Sources\", \"State_Housing_Credit_Equity\": 0}, {\"Project Name\": \"The Gardens at Quail Run\", \"Financing_sub_cat\": \"Bank Loan\", \"Interest Rate\": 5.5, \"Funding Type\": \"Permanent Financing\", \"Project Type\": \"Family\", \"Amount of Funds\": 3400000.0, \"State\": \"California\", \"Gov_Grant\": 0, \"debt_financing\": 1.0, \"Funding_count\": 8, \"def_project\": 0, \"bins\": \"Low Number of Financing Sources\", \"State_Housing_Credit_Equity\": 0}, {\"Project Name\": \"The Gardens at Quail Run\", \"Financing_sub_cat\": \"Local Grant\", \"Interest Rate\": 4.0, \"Funding Type\": \"Permanent Financing\", \"Project Type\": \"Family\", \"Amount of Funds\": 5000000.0, \"State\": \"California\", \"Gov_Grant\": 1, \"debt_financing\": 0.0, \"Funding_count\": 8, \"def_project\": 0, \"bins\": \"Low Number of Financing Sources\", \"State_Housing_Credit_Equity\": 0}, {\"Project Name\": \"The Gardens at Quail Run\", \"Financing_sub_cat\": \"Local Grant\", \"Interest Rate\": null, \"Funding Type\": \"Permanent Financing\", \"Project Type\": \"Family\", \"Amount of Funds\": 1203120.0, \"State\": \"California\", \"Gov_Grant\": 1, \"debt_financing\": 0.0, \"Funding_count\": 8, \"def_project\": 0, \"bins\": \"Low Number of Financing Sources\", \"State_Housing_Credit_Equity\": 0}, {\"Project Name\": \"Hollister Apartments\", \"Financing_sub_cat\": \"Bank Loan\", \"Interest Rate\": 5.0, \"Funding Type\": \"Construction Financing\", \"Project Type\": \"Special Needs\", \"Amount of Funds\": 11722670.0, \"State\": \"California\", \"Gov_Grant\": 0, \"debt_financing\": 1.0, \"Funding_count\": 8, \"def_project\": 1, \"bins\": \"Low Number of Financing Sources\", \"State_Housing_Credit_Equity\": 0}, {\"Project Name\": \"Hollister Apartments\", \"Financing_sub_cat\": \"Local Grant\", \"Interest Rate\": 3.0, \"Funding Type\": \"Construction Financing\", \"Project Type\": \"Special Needs\", \"Amount of Funds\": 2880000.0, \"State\": \"California\", \"Gov_Grant\": 1, \"debt_financing\": 0.0, \"Funding_count\": 8, \"def_project\": 1, \"bins\": \"Low Number of Financing Sources\", \"State_Housing_Credit_Equity\": 0}, {\"Project Name\": \"Hollister Apartments\", \"Financing_sub_cat\": \"Local Grant\", \"Interest Rate\": 4.0, \"Funding Type\": \"Construction Financing\", \"Project Type\": \"Special Needs\", \"Amount of Funds\": 4617000.0, \"State\": \"California\", \"Gov_Grant\": 1, \"debt_financing\": 0.0, \"Funding_count\": 8, \"def_project\": 1, \"bins\": \"Low Number of Financing Sources\", \"State_Housing_Credit_Equity\": 0}, {\"Project Name\": \"Hollister Apartments\", \"Financing_sub_cat\": \"Federal Credit\", \"Interest Rate\": null, \"Funding Type\": \"Construction Financing\", \"Project Type\": \"Special Needs\", \"Amount of Funds\": 1248327.0, \"State\": \"California\", \"Gov_Grant\": 0, \"debt_financing\": 0.0, \"Funding_count\": 8, \"def_project\": 1, \"bins\": \"Low Number of Financing Sources\", \"State_Housing_Credit_Equity\": 0}, {\"Project Name\": \"Hollister Apartments\", \"Financing_sub_cat\": \"Deferred Developer Fee\", \"Interest Rate\": null, \"Funding Type\": \"Construction Financing\", \"Project Type\": \"Special Needs\", \"Amount of Funds\": 3530278.0, \"State\": \"California\", \"Gov_Grant\": 0, \"debt_financing\": 0.0, \"Funding_count\": 8, \"def_project\": 1, \"bins\": \"Low Number of Financing Sources\", \"State_Housing_Credit_Equity\": 0}, {\"Project Name\": \"Hollister Apartments\", \"Financing_sub_cat\": \"Local Grant\", \"Interest Rate\": 3.0, \"Funding Type\": \"Permanent Financing\", \"Project Type\": \"Special Needs\", \"Amount of Funds\": 2880000.0, \"State\": \"California\", \"Gov_Grant\": 1, \"debt_financing\": 0.0, \"Funding_count\": 8, \"def_project\": 1, \"bins\": \"Low Number of Financing Sources\", \"State_Housing_Credit_Equity\": 0}, {\"Project Name\": \"Hollister Apartments\", \"Financing_sub_cat\": \"Local Grant\", \"Interest Rate\": 4.0, \"Funding Type\": \"Permanent Financing\", \"Project Type\": \"Special Needs\", \"Amount of Funds\": 4860000.0, \"State\": \"California\", \"Gov_Grant\": 1, \"debt_financing\": 0.0, \"Funding_count\": 8, \"def_project\": 1, \"bins\": \"Low Number of Financing Sources\", \"State_Housing_Credit_Equity\": 0}, {\"Project Name\": \"Hollister Apartments\", \"Financing_sub_cat\": \"State Grant\", \"Interest Rate\": 3.0, \"Funding Type\": \"Permanent Financing\", \"Project Type\": \"Special Needs\", \"Amount of Funds\": 3775000.0, \"State\": \"California\", \"Gov_Grant\": 1, \"debt_financing\": 0.0, \"Funding_count\": 8, \"def_project\": 1, \"bins\": \"Low Number of Financing Sources\", \"State_Housing_Credit_Equity\": 0}, {\"Project Name\": \"Avena Bella, Phase 2\", \"Financing_sub_cat\": \"Bank Loan\", \"Interest Rate\": 5.75, \"Funding Type\": \"Construction Financing\", \"Project Type\": \"Family\", \"Amount of Funds\": 10063967.0, \"State\": \"California\", \"Gov_Grant\": 0, \"debt_financing\": 1.0, \"Funding_count\": 17, \"def_project\": 1, \"bins\": \"High Number of Financing Sources\", \"State_Housing_Credit_Equity\": 0}, {\"Project Name\": \"Avena Bella, Phase 2\", \"Financing_sub_cat\": \"Local Grant\", \"Interest Rate\": 3.0, \"Funding Type\": \"Construction Financing\", \"Project Type\": \"Family\", \"Amount of Funds\": 4000000.0, \"State\": \"California\", \"Gov_Grant\": 1, \"debt_financing\": 0.0, \"Funding_count\": 17, \"def_project\": 1, \"bins\": \"High Number of Financing Sources\", \"State_Housing_Credit_Equity\": 0}, {\"Project Name\": \"Avena Bella, Phase 2\", \"Financing_sub_cat\": \"Local Grant\", \"Interest Rate\": 3.0, \"Funding Type\": \"Construction Financing\", \"Project Type\": \"Family\", \"Amount of Funds\": 2200000.0, \"State\": \"California\", \"Gov_Grant\": 1, \"debt_financing\": 0.0, \"Funding_count\": 17, \"def_project\": 1, \"bins\": \"High Number of Financing Sources\", \"State_Housing_Credit_Equity\": 0}, {\"Project Name\": \"Avena Bella, Phase 2\", \"Financing_sub_cat\": \"Bank Loan\", \"Interest Rate\": 0.0, \"Funding Type\": \"Construction Financing\", \"Project Type\": \"Family\", \"Amount of Funds\": 600000.0, \"State\": \"California\", \"Gov_Grant\": 0, \"debt_financing\": 1.0, \"Funding_count\": 17, \"def_project\": 1, \"bins\": \"High Number of Financing Sources\", \"State_Housing_Credit_Equity\": 0}, {\"Project Name\": \"Avena Bella, Phase 2\", \"Financing_sub_cat\": \"Donated Land\", \"Interest Rate\": null, \"Funding Type\": \"Construction Financing\", \"Project Type\": \"Family\", \"Amount of Funds\": 885000.0, \"State\": \"California\", \"Gov_Grant\": 0, \"debt_financing\": null, \"Funding_count\": 17, \"def_project\": 1, \"bins\": \"High Number of Financing Sources\", \"State_Housing_Credit_Equity\": 0}, {\"Project Name\": \"Avena Bella, Phase 2\", \"Financing_sub_cat\": \"Local Grant\", \"Interest Rate\": 0.0, \"Funding Type\": \"Construction Financing\", \"Project Type\": \"Family\", \"Amount of Funds\": 300913.0, \"State\": \"California\", \"Gov_Grant\": 1, \"debt_financing\": 0.0, \"Funding_count\": 17, \"def_project\": 1, \"bins\": \"High Number of Financing Sources\", \"State_Housing_Credit_Equity\": 0}, {\"Project Name\": \"Avena Bella, Phase 2\", \"Financing_sub_cat\": \"Federal Credit\", \"Interest Rate\": null, \"Funding Type\": \"Construction Financing\", \"Project Type\": \"Family\", \"Amount of Funds\": 104263.0, \"State\": \"California\", \"Gov_Grant\": 0, \"debt_financing\": 0.0, \"Funding_count\": 17, \"def_project\": 1, \"bins\": \"High Number of Financing Sources\", \"State_Housing_Credit_Equity\": 0}, {\"Project Name\": \"Avena Bella, Phase 2\", \"Financing_sub_cat\": \"Deferred Developer Fee\", \"Interest Rate\": null, \"Funding Type\": \"Construction Financing\", \"Project Type\": \"Family\", \"Amount of Funds\": 807826.0, \"State\": \"California\", \"Gov_Grant\": 0, \"debt_financing\": 0.0, \"Funding_count\": 17, \"def_project\": 1, \"bins\": \"High Number of Financing Sources\", \"State_Housing_Credit_Equity\": 0}, {\"Project Name\": \"Avena Bella, Phase 2\", \"Financing_sub_cat\": \"Local Grant\", \"Interest Rate\": 5.65, \"Funding Type\": \"Permanent Financing\", \"Project Type\": \"Family\", \"Amount of Funds\": 445000.0, \"State\": \"California\", \"Gov_Grant\": 1, \"debt_financing\": 0.0, \"Funding_count\": 17, \"def_project\": 1, \"bins\": \"High Number of Financing Sources\", \"State_Housing_Credit_Equity\": 0}, {\"Project Name\": \"Avena Bella, Phase 2\", \"Financing_sub_cat\": \"State Funding\", \"Interest Rate\": 3.0, \"Funding Type\": \"Permanent Financing\", \"Project Type\": \"Family\", \"Amount of Funds\": 1661667.0, \"State\": \"California\", \"Gov_Grant\": 0, \"debt_financing\": 0.0, \"Funding_count\": 17, \"def_project\": 1, \"bins\": \"High Number of Financing Sources\", \"State_Housing_Credit_Equity\": 0}, {\"Project Name\": \"Avena Bella, Phase 2\", \"Financing_sub_cat\": \"Local Grant\", \"Interest Rate\": 3.0, \"Funding Type\": \"Permanent Financing\", \"Project Type\": \"Family\", \"Amount of Funds\": 4000000.0, \"State\": \"California\", \"Gov_Grant\": 1, \"debt_financing\": 0.0, \"Funding_count\": 17, \"def_project\": 1, \"bins\": \"High Number of Financing Sources\", \"State_Housing_Credit_Equity\": 0}, {\"Project Name\": \"Avena Bella, Phase 2\", \"Financing_sub_cat\": \"Local Grant\", \"Interest Rate\": 3.0, \"Funding Type\": \"Permanent Financing\", \"Project Type\": \"Family\", \"Amount of Funds\": 2200000.0, \"State\": \"California\", \"Gov_Grant\": 1, \"debt_financing\": 0.0, \"Funding_count\": 17, \"def_project\": 1, \"bins\": \"High Number of Financing Sources\", \"State_Housing_Credit_Equity\": 0}, {\"Project Name\": \"Avena Bella, Phase 2\", \"Financing_sub_cat\": \"Bank Loan\", \"Interest Rate\": 0.0, \"Funding Type\": \"Permanent Financing\", \"Project Type\": \"Family\", \"Amount of Funds\": 600000.0, \"State\": \"California\", \"Gov_Grant\": 0, \"debt_financing\": 1.0, \"Funding_count\": 17, \"def_project\": 1, \"bins\": \"High Number of Financing Sources\", \"State_Housing_Credit_Equity\": 0}, {\"Project Name\": \"Avena Bella, Phase 2\", \"Financing_sub_cat\": \"Donated Land\", \"Interest Rate\": null, \"Funding Type\": \"Permanent Financing\", \"Project Type\": \"Family\", \"Amount of Funds\": 885000.0, \"State\": \"California\", \"Gov_Grant\": 0, \"debt_financing\": null, \"Funding_count\": 17, \"def_project\": 1, \"bins\": \"High Number of Financing Sources\", \"State_Housing_Credit_Equity\": 0}, {\"Project Name\": \"Avena Bella, Phase 2\", \"Financing_sub_cat\": \"Local Grant\", \"Interest Rate\": 0.0, \"Funding Type\": \"Permanent Financing\", \"Project Type\": \"Family\", \"Amount of Funds\": 300913.0, \"State\": \"California\", \"Gov_Grant\": 1, \"debt_financing\": 0.0, \"Funding_count\": 17, \"def_project\": 1, \"bins\": \"High Number of Financing Sources\", \"State_Housing_Credit_Equity\": 0}, {\"Project Name\": \"Avena Bella, Phase 2\", \"Financing_sub_cat\": \"Deferred Developer Fee\", \"Interest Rate\": null, \"Funding Type\": \"Permanent Financing\", \"Project Type\": \"Family\", \"Amount of Funds\": 210996.0, \"State\": \"California\", \"Gov_Grant\": 0, \"debt_financing\": 0.0, \"Funding_count\": 17, \"def_project\": 1, \"bins\": \"High Number of Financing Sources\", \"State_Housing_Credit_Equity\": 0}, {\"Project Name\": \"Avena Bella, Phase 2\", \"Financing_sub_cat\": \"Federal Credit\", \"Interest Rate\": null, \"Funding Type\": \"Permanent Financing\", \"Project Type\": \"Family\", \"Amount of Funds\": 104263.0, \"State\": \"California\", \"Gov_Grant\": 0, \"debt_financing\": 0.0, \"Funding_count\": 17, \"def_project\": 1, \"bins\": \"High Number of Financing Sources\", \"State_Housing_Credit_Equity\": 0}, {\"Project Name\": \"Casa de la Mision\", \"Financing_sub_cat\": \"Bank Loan\", \"Interest Rate\": 6.0, \"Funding Type\": \"Construction Financing\", \"Project Type\": \"Seniors\", \"Amount of Funds\": 20460264.0, \"State\": \"California\", \"Gov_Grant\": 0, \"debt_financing\": 1.0, \"Funding_count\": 4, \"def_project\": 0, \"bins\": \"Low Number of Financing Sources\", \"State_Housing_Credit_Equity\": 0}, {\"Project Name\": \"Casa de la Mision\", \"Financing_sub_cat\": \"Local Grant\", \"Interest Rate\": null, \"Funding Type\": \"Construction Financing\", \"Project Type\": \"Seniors\", \"Amount of Funds\": 5000000.0, \"State\": \"California\", \"Gov_Grant\": 1, \"debt_financing\": 0.0, \"Funding_count\": 4, \"def_project\": 0, \"bins\": \"Low Number of Financing Sources\", \"State_Housing_Credit_Equity\": 0}, {\"Project Name\": \"Casa de la Mision\", \"Financing_sub_cat\": \"Bank Loan\", \"Interest Rate\": null, \"Funding Type\": \"Construction Financing\", \"Project Type\": \"Seniors\", \"Amount of Funds\": 2450000.0, \"State\": \"California\", \"Gov_Grant\": 0, \"debt_financing\": 1.0, \"Funding_count\": 4, \"def_project\": 0, \"bins\": \"Low Number of Financing Sources\", \"State_Housing_Credit_Equity\": 0}, {\"Project Name\": \"Casa de la Mision\", \"Financing_sub_cat\": \"Local Grant\", \"Interest Rate\": null, \"Funding Type\": \"Permanent Financing\", \"Project Type\": \"Seniors\", \"Amount of Funds\": 5000000.0, \"State\": \"California\", \"Gov_Grant\": 1, \"debt_financing\": 0.0, \"Funding_count\": 4, \"def_project\": 0, \"bins\": \"Low Number of Financing Sources\", \"State_Housing_Credit_Equity\": 0}, {\"Project Name\": \"Villa Raintree\", \"Financing_sub_cat\": \"Bank Loan\", \"Interest Rate\": 4.35, \"Funding Type\": \"Construction Financing\", \"Project Type\": \"At-Risk\", \"Amount of Funds\": 7294738.0, \"State\": \"California\", \"Gov_Grant\": 0, \"debt_financing\": 1.0, \"Funding_count\": 7, \"def_project\": 1, \"bins\": \"Low Number of Financing Sources\", \"State_Housing_Credit_Equity\": 0}, {\"Project Name\": \"Villa Raintree\", \"Financing_sub_cat\": \"Bank Loan\", \"Interest Rate\": 4.35, \"Funding Type\": \"Construction Financing\", \"Project Type\": \"At-Risk\", \"Amount of Funds\": 6268362.0, \"State\": \"California\", \"Gov_Grant\": 0, \"debt_financing\": 1.0, \"Funding_count\": 7, \"def_project\": 1, \"bins\": \"Low Number of Financing Sources\", \"State_Housing_Credit_Equity\": 0}, {\"Project Name\": \"Villa Raintree\", \"Financing_sub_cat\": \"Other\", \"Interest Rate\": null, \"Funding Type\": \"Construction Financing\", \"Project Type\": \"At-Risk\", \"Amount of Funds\": 640487.0, \"State\": \"California\", \"Gov_Grant\": 0, \"debt_financing\": null, \"Funding_count\": 7, \"def_project\": 1, \"bins\": \"Low Number of Financing Sources\", \"State_Housing_Credit_Equity\": 0}, {\"Project Name\": \"Villa Raintree\", \"Financing_sub_cat\": \"Federal Credit\", \"Interest Rate\": null, \"Funding Type\": \"Construction Financing\", \"Project Type\": \"At-Risk\", \"Amount of Funds\": 11131359.0, \"State\": \"California\", \"Gov_Grant\": 0, \"debt_financing\": 0.0, \"Funding_count\": 7, \"def_project\": 1, \"bins\": \"Low Number of Financing Sources\", \"State_Housing_Credit_Equity\": 0}, {\"Project Name\": \"Villa Raintree\", \"Financing_sub_cat\": \"Deferred Developer Fee\", \"Interest Rate\": null, \"Funding Type\": \"Construction Financing\", \"Project Type\": \"At-Risk\", \"Amount of Funds\": 2000000.0, \"State\": \"California\", \"Gov_Grant\": 0, \"debt_financing\": 0.0, \"Funding_count\": 7, \"def_project\": 1, \"bins\": \"Low Number of Financing Sources\", \"State_Housing_Credit_Equity\": 0}, {\"Project Name\": \"Villa Raintree\", \"Financing_sub_cat\": \"Bank Loan\", \"Interest Rate\": 4.35, \"Funding Type\": \"Permanent Financing\", \"Project Type\": \"At-Risk\", \"Amount of Funds\": 7294738.0, \"State\": \"California\", \"Gov_Grant\": 0, \"debt_financing\": 1.0, \"Funding_count\": 7, \"def_project\": 1, \"bins\": \"Low Number of Financing Sources\", \"State_Housing_Credit_Equity\": 0}, {\"Project Name\": \"Villa Raintree\", \"Financing_sub_cat\": \"Bank Loan\", \"Interest Rate\": 4.35, \"Funding Type\": \"Permanent Financing\", \"Project Type\": \"At-Risk\", \"Amount of Funds\": 6268362.0, \"State\": \"California\", \"Gov_Grant\": 0, \"debt_financing\": 1.0, \"Funding_count\": 7, \"def_project\": 1, \"bins\": \"Low Number of Financing Sources\", \"State_Housing_Credit_Equity\": 0}, {\"Project Name\": \"Villa Raintree\", \"Financing_sub_cat\": \"Other\", \"Interest Rate\": null, \"Funding Type\": \"Permanent Financing\", \"Project Type\": \"At-Risk\", \"Amount of Funds\": 640487.0, \"State\": \"California\", \"Gov_Grant\": 0, \"debt_financing\": null, \"Funding_count\": 7, \"def_project\": 1, \"bins\": \"Low Number of Financing Sources\", \"State_Housing_Credit_Equity\": 0}, {\"Project Name\": \"Villa Raintree\", \"Financing_sub_cat\": \"Deferred Developer Fee\", \"Interest Rate\": null, \"Funding Type\": \"Permanent Financing\", \"Project Type\": \"At-Risk\", \"Amount of Funds\": 279671.0, \"State\": \"California\", \"Gov_Grant\": 0, \"debt_financing\": 0.0, \"Funding_count\": 7, \"def_project\": 1, \"bins\": \"Low Number of Financing Sources\", \"State_Housing_Credit_Equity\": 0}, {\"Project Name\": \"Bloomington Housing Phase III\", \"Financing_sub_cat\": \"Other\", \"Interest Rate\": null, \"Funding Type\": \"Construction Financing\", \"Project Type\": \"Family\", \"Amount of Funds\": 2489160.0, \"State\": \"California\", \"Gov_Grant\": 0, \"debt_financing\": null, \"Funding_count\": 12, \"def_project\": 0, \"bins\": \"High Number of Financing Sources\", \"State_Housing_Credit_Equity\": 0}, {\"Project Name\": \"Bloomington Housing Phase III\", \"Financing_sub_cat\": \"Bank Loan\", \"Interest Rate\": 5.75, \"Funding Type\": \"Construction Financing\", \"Project Type\": \"Family\", \"Amount of Funds\": 22638447.0, \"State\": \"California\", \"Gov_Grant\": 0, \"debt_financing\": 1.0, \"Funding_count\": 12, \"def_project\": 0, \"bins\": \"High Number of Financing Sources\", \"State_Housing_Credit_Equity\": 0}, {\"Project Name\": \"Bloomington Housing Phase III\", \"Financing_sub_cat\": \"Local Grant\", \"Interest Rate\": 0.0, \"Funding Type\": \"Construction Financing\", \"Project Type\": \"Family\", \"Amount of Funds\": 8850000.0, \"State\": \"California\", \"Gov_Grant\": 1, \"debt_financing\": 0.0, \"Funding_count\": 12, \"def_project\": 0, \"bins\": \"High Number of Financing Sources\", \"State_Housing_Credit_Equity\": 0}, {\"Project Name\": \"Bloomington Housing Phase III\", \"Financing_sub_cat\": \"Local Grant\", \"Interest Rate\": null, \"Funding Type\": \"Construction Financing\", \"Project Type\": \"Family\", \"Amount of Funds\": 8700000.0, \"State\": \"California\", \"Gov_Grant\": 1, \"debt_financing\": 0.0, \"Funding_count\": 12, \"def_project\": 0, \"bins\": \"High Number of Financing Sources\", \"State_Housing_Credit_Equity\": 0}, {\"Project Name\": \"Bloomington Housing Phase III\", \"Financing_sub_cat\": \"State Grant\", \"Interest Rate\": 0.0, \"Funding Type\": \"Construction Financing\", \"Project Type\": \"Family\", \"Amount of Funds\": 1574810.0, \"State\": \"California\", \"Gov_Grant\": 1, \"debt_financing\": 0.0, \"Funding_count\": 12, \"def_project\": 0, \"bins\": \"High Number of Financing Sources\", \"State_Housing_Credit_Equity\": 0}, {\"Project Name\": \"Bloomington Housing Phase III\", \"Financing_sub_cat\": \"Local Grant\", \"Interest Rate\": null, \"Funding Type\": \"Construction Financing\", \"Project Type\": \"Family\", \"Amount of Funds\": 2100000.0, \"State\": \"California\", \"Gov_Grant\": 1, \"debt_financing\": 0.0, \"Funding_count\": 12, \"def_project\": 0, \"bins\": \"High Number of Financing Sources\", \"State_Housing_Credit_Equity\": 0}, {\"Project Name\": \"Bloomington Housing Phase III\", \"Financing_sub_cat\": \"Other\", \"Interest Rate\": null, \"Funding Type\": \"Construction Financing\", \"Project Type\": \"Family\", \"Amount of Funds\": 1050000.0, \"State\": \"California\", \"Gov_Grant\": 0, \"debt_financing\": null, \"Funding_count\": 12, \"def_project\": 0, \"bins\": \"High Number of Financing Sources\", \"State_Housing_Credit_Equity\": 0}, {\"Project Name\": \"Bloomington Housing Phase III\", \"Financing_sub_cat\": \"Other\", \"Interest Rate\": null, \"Funding Type\": \"Construction Financing\", \"Project Type\": \"Family\", \"Amount of Funds\": 207997.0, \"State\": \"California\", \"Gov_Grant\": 0, \"debt_financing\": null, \"Funding_count\": 12, \"def_project\": 0, \"bins\": \"High Number of Financing Sources\", \"State_Housing_Credit_Equity\": 0}, {\"Project Name\": \"Bloomington Housing Phase III\", \"Financing_sub_cat\": \"Other\", \"Interest Rate\": null, \"Funding Type\": \"Construction Financing\", \"Project Type\": \"Family\", \"Amount of Funds\": 40000.0, \"State\": \"California\", \"Gov_Grant\": 0, \"debt_financing\": null, \"Funding_count\": 12, \"def_project\": 0, \"bins\": \"High Number of Financing Sources\", \"State_Housing_Credit_Equity\": 0}, {\"Project Name\": \"Bloomington Housing Phase III\", \"Financing_sub_cat\": \"Other\", \"Interest Rate\": null, \"Funding Type\": \"Construction Financing\", \"Project Type\": \"Family\", \"Amount of Funds\": 100000.0, \"State\": \"California\", \"Gov_Grant\": 0, \"debt_financing\": null, \"Funding_count\": 12, \"def_project\": 0, \"bins\": \"High Number of Financing Sources\", \"State_Housing_Credit_Equity\": 0}, {\"Project Name\": \"Bloomington Housing Phase III\", \"Financing_sub_cat\": \"Other\", \"Interest Rate\": null, \"Funding Type\": \"Construction Financing\", \"Project Type\": \"Family\", \"Amount of Funds\": 250000.0, \"State\": \"California\", \"Gov_Grant\": 0, \"debt_financing\": null, \"Funding_count\": 12, \"def_project\": 0, \"bins\": \"High Number of Financing Sources\", \"State_Housing_Credit_Equity\": 0}, {\"Project Name\": \"Bloomington Housing Phase III\", \"Financing_sub_cat\": \"Bank Loan\", \"Interest Rate\": 6.5, \"Funding Type\": \"Permanent Financing\", \"Project Type\": \"Family\", \"Amount of Funds\": 1107000.0, \"State\": \"California\", \"Gov_Grant\": 0, \"debt_financing\": 1.0, \"Funding_count\": 12, \"def_project\": 0, \"bins\": \"High Number of Financing Sources\", \"State_Housing_Credit_Equity\": 0}, {\"Project Name\": \"Bloomington Housing Phase III\", \"Financing_sub_cat\": \"Bank Loan\", \"Interest Rate\": 6.5, \"Funding Type\": \"Permanent Financing\", \"Project Type\": \"Family\", \"Amount of Funds\": 386000.0, \"State\": \"California\", \"Gov_Grant\": 0, \"debt_financing\": 1.0, \"Funding_count\": 12, \"def_project\": 0, \"bins\": \"High Number of Financing Sources\", \"State_Housing_Credit_Equity\": 0}, {\"Project Name\": \"Bloomington Housing Phase III\", \"Financing_sub_cat\": \"Bank Loan\", \"Interest Rate\": 6.5, \"Funding Type\": \"Permanent Financing\", \"Project Type\": \"Family\", \"Amount of Funds\": 391000.0, \"State\": \"California\", \"Gov_Grant\": 0, \"debt_financing\": 1.0, \"Funding_count\": 12, \"def_project\": 0, \"bins\": \"High Number of Financing Sources\", \"State_Housing_Credit_Equity\": 0}, {\"Project Name\": \"Bloomington Housing Phase III\", \"Financing_sub_cat\": \"Local Grant\", \"Interest Rate\": 0.0, \"Funding Type\": \"Permanent Financing\", \"Project Type\": \"Family\", \"Amount of Funds\": 8850000.0, \"State\": \"California\", \"Gov_Grant\": 1, \"debt_financing\": 0.0, \"Funding_count\": 12, \"def_project\": 0, \"bins\": \"High Number of Financing Sources\", \"State_Housing_Credit_Equity\": 0}, {\"Project Name\": \"Bloomington Housing Phase III\", \"Financing_sub_cat\": \"Local Grant\", \"Interest Rate\": null, \"Funding Type\": \"Permanent Financing\", \"Project Type\": \"Family\", \"Amount of Funds\": 8700000.0, \"State\": \"California\", \"Gov_Grant\": 1, \"debt_financing\": 0.0, \"Funding_count\": 12, \"def_project\": 0, \"bins\": \"High Number of Financing Sources\", \"State_Housing_Credit_Equity\": 0}, {\"Project Name\": \"Bloomington Housing Phase III\", \"Financing_sub_cat\": \"State Grant\", \"Interest Rate\": 0.0, \"Funding Type\": \"Permanent Financing\", \"Project Type\": \"Family\", \"Amount of Funds\": 1574810.0, \"State\": \"California\", \"Gov_Grant\": 1, \"debt_financing\": 0.0, \"Funding_count\": 12, \"def_project\": 0, \"bins\": \"High Number of Financing Sources\", \"State_Housing_Credit_Equity\": 0}, {\"Project Name\": \"Bloomington Housing Phase III\", \"Financing_sub_cat\": \"Local Grant\", \"Interest Rate\": null, \"Funding Type\": \"Permanent Financing\", \"Project Type\": \"Family\", \"Amount of Funds\": 2100000.0, \"State\": \"California\", \"Gov_Grant\": 1, \"debt_financing\": 0.0, \"Funding_count\": 12, \"def_project\": 0, \"bins\": \"High Number of Financing Sources\", \"State_Housing_Credit_Equity\": 0}, {\"Project Name\": \"Magnolia Villas\", \"Financing_sub_cat\": \"Bank Loan\", \"Interest Rate\": 5.98, \"Funding Type\": \"Construction Financing\", \"Project Type\": \"Seniors\", \"Amount of Funds\": 10243182.0, \"State\": \"California\", \"Gov_Grant\": 0, \"debt_financing\": 1.0, \"Funding_count\": 4, \"def_project\": 1, \"bins\": \"Low Number of Financing Sources\", \"State_Housing_Credit_Equity\": 0}, {\"Project Name\": \"Magnolia Villas\", \"Financing_sub_cat\": \"Local Grant\", \"Interest Rate\": 3.0, \"Funding Type\": \"Construction Financing\", \"Project Type\": \"Seniors\", \"Amount of Funds\": 11400000.0, \"State\": \"California\", \"Gov_Grant\": 1, \"debt_financing\": 0.0, \"Funding_count\": 4, \"def_project\": 1, \"bins\": \"Low Number of Financing Sources\", \"State_Housing_Credit_Equity\": 0}, {\"Project Name\": \"Magnolia Villas\", \"Financing_sub_cat\": \"Deferred Developer Fee\", \"Interest Rate\": null, \"Funding Type\": \"Construction Financing\", \"Project Type\": \"Seniors\", \"Amount of Funds\": 385953.0, \"State\": \"California\", \"Gov_Grant\": 0, \"debt_financing\": 0.0, \"Funding_count\": 4, \"def_project\": 1, \"bins\": \"Low Number of Financing Sources\", \"State_Housing_Credit_Equity\": 0}, {\"Project Name\": \"Magnolia Villas\", \"Financing_sub_cat\": \"Local Grant\", \"Interest Rate\": 3.0, \"Funding Type\": \"Permanent Financing\", \"Project Type\": \"Seniors\", \"Amount of Funds\": 11400000.0, \"State\": \"California\", \"Gov_Grant\": 1, \"debt_financing\": 0.0, \"Funding_count\": 4, \"def_project\": 1, \"bins\": \"Low Number of Financing Sources\", \"State_Housing_Credit_Equity\": 0}, {\"Project Name\": \"City Center Apartments  \", \"Financing_sub_cat\": \"Bank Loan\", \"Interest Rate\": 5.85, \"Funding Type\": \"Construction Financing\", \"Project Type\": \"Special Needs\", \"Amount of Funds\": 21423705.0, \"State\": \"California\", \"Gov_Grant\": 0, \"debt_financing\": 1.0, \"Funding_count\": 10, \"def_project\": 0, \"bins\": \"Medium Number of Financing Sources\", \"State_Housing_Credit_Equity\": 0}, {\"Project Name\": \"City Center Apartments  \", \"Financing_sub_cat\": \"Local Grant\", \"Interest Rate\": 3.0, \"Funding Type\": \"Construction Financing\", \"Project Type\": \"Special Needs\", \"Amount of Funds\": 6757321.0, \"State\": \"California\", \"Gov_Grant\": 1, \"debt_financing\": 0.0, \"Funding_count\": 10, \"def_project\": 0, \"bins\": \"Medium Number of Financing Sources\", \"State_Housing_Credit_Equity\": 0}, {\"Project Name\": \"City Center Apartments  \", \"Financing_sub_cat\": \"Local Grant\", \"Interest Rate\": 3.0, \"Funding Type\": \"Construction Financing\", \"Project Type\": \"Special Needs\", \"Amount of Funds\": 4818364.0, \"State\": \"California\", \"Gov_Grant\": 1, \"debt_financing\": 0.0, \"Funding_count\": 10, \"def_project\": 0, \"bins\": \"Medium Number of Financing Sources\", \"State_Housing_Credit_Equity\": 0}, {\"Project Name\": \"City Center Apartments  \", \"Financing_sub_cat\": \"Local Grant\", \"Interest Rate\": 3.0, \"Funding Type\": \"Construction Financing\", \"Project Type\": \"Special Needs\", \"Amount of Funds\": 2350000.0, \"State\": \"California\", \"Gov_Grant\": 1, \"debt_financing\": 0.0, \"Funding_count\": 10, \"def_project\": 0, \"bins\": \"Medium Number of Financing Sources\", \"State_Housing_Credit_Equity\": 0}, {\"Project Name\": \"City Center Apartments  \", \"Financing_sub_cat\": \"Local Grant\", \"Interest Rate\": 3.0, \"Funding Type\": \"Construction Financing\", \"Project Type\": \"Special Needs\", \"Amount of Funds\": 376636.0, \"State\": \"California\", \"Gov_Grant\": 1, \"debt_financing\": 0.0, \"Funding_count\": 10, \"def_project\": 0, \"bins\": \"Medium Number of Financing Sources\", \"State_Housing_Credit_Equity\": 0}, {\"Project Name\": \"City Center Apartments  \", \"Financing_sub_cat\": \"Local Grant\", \"Interest Rate\": 3.0, \"Funding Type\": \"Permanent Financing\", \"Project Type\": \"Special Needs\", \"Amount of Funds\": 6757321.0, \"State\": \"California\", \"Gov_Grant\": 1, \"debt_financing\": 0.0, \"Funding_count\": 10, \"def_project\": 0, \"bins\": \"Medium Number of Financing Sources\", \"State_Housing_Credit_Equity\": 0}, {\"Project Name\": \"City Center Apartments  \", \"Financing_sub_cat\": \"Local Grant\", \"Interest Rate\": 3.0, \"Funding Type\": \"Permanent Financing\", \"Project Type\": \"Special Needs\", \"Amount of Funds\": 4818364.0, \"State\": \"California\", \"Gov_Grant\": 1, \"debt_financing\": 0.0, \"Funding_count\": 10, \"def_project\": 0, \"bins\": \"Medium Number of Financing Sources\", \"State_Housing_Credit_Equity\": 0}, {\"Project Name\": \"City Center Apartments  \", \"Financing_sub_cat\": \"Local Grant\", \"Interest Rate\": 3.0, \"Funding Type\": \"Permanent Financing\", \"Project Type\": \"Special Needs\", \"Amount of Funds\": 2350000.0, \"State\": \"California\", \"Gov_Grant\": 1, \"debt_financing\": 0.0, \"Funding_count\": 10, \"def_project\": 0, \"bins\": \"Medium Number of Financing Sources\", \"State_Housing_Credit_Equity\": 0}, {\"Project Name\": \"City Center Apartments  \", \"Financing_sub_cat\": \"Local Grant\", \"Interest Rate\": 3.0, \"Funding Type\": \"Permanent Financing\", \"Project Type\": \"Special Needs\", \"Amount of Funds\": 376636.0, \"State\": \"California\", \"Gov_Grant\": 1, \"debt_financing\": 0.0, \"Funding_count\": 10, \"def_project\": 0, \"bins\": \"Medium Number of Financing Sources\", \"State_Housing_Credit_Equity\": 0}, {\"Project Name\": \"City Center Apartments  \", \"Financing_sub_cat\": \"Other\", \"Interest Rate\": 3.0, \"Funding Type\": \"Permanent Financing\", \"Project Type\": \"Special Needs\", \"Amount of Funds\": 3823522.0, \"State\": \"California\", \"Gov_Grant\": 0, \"debt_financing\": null, \"Funding_count\": 10, \"def_project\": 0, \"bins\": \"Medium Number of Financing Sources\", \"State_Housing_Credit_Equity\": 0}, {\"Project Name\": \"City Center Apartments  \", \"Financing_sub_cat\": \"State Funding\", \"Interest Rate\": 3.0, \"Funding Type\": \"Permanent Financing\", \"Project Type\": \"Special Needs\", \"Amount of Funds\": 2296701.0, \"State\": \"California\", \"Gov_Grant\": 0, \"debt_financing\": 0.0, \"Funding_count\": 10, \"def_project\": 0, \"bins\": \"Medium Number of Financing Sources\", \"State_Housing_Credit_Equity\": 0}, {\"Project Name\": \"Orr Creek Commons \", \"Financing_sub_cat\": \"Bank Loan\", \"Interest Rate\": 5.75, \"Funding Type\": \"Construction Financing\", \"Project Type\": \"Special Needs\", \"Amount of Funds\": 9072300.0, \"State\": \"California\", \"Gov_Grant\": 0, \"debt_financing\": 1.0, \"Funding_count\": 6, \"def_project\": 0, \"bins\": \"Low Number of Financing Sources\", \"State_Housing_Credit_Equity\": 0}, {\"Project Name\": \"Orr Creek Commons \", \"Financing_sub_cat\": \"Local Grant\", \"Interest Rate\": 3.0, \"Funding Type\": \"Construction Financing\", \"Project Type\": \"Special Needs\", \"Amount of Funds\": 3676821.0, \"State\": \"California\", \"Gov_Grant\": 1, \"debt_financing\": 0.0, \"Funding_count\": 6, \"def_project\": 0, \"bins\": \"Low Number of Financing Sources\", \"State_Housing_Credit_Equity\": 0}, {\"Project Name\": \"Orr Creek Commons \", \"Financing_sub_cat\": \"Local Grant\", \"Interest Rate\": 3.0, \"Funding Type\": \"Construction Financing\", \"Project Type\": \"Special Needs\", \"Amount of Funds\": 579900.0, \"State\": \"California\", \"Gov_Grant\": 1, \"debt_financing\": 0.0, \"Funding_count\": 6, \"def_project\": 0, \"bins\": \"Low Number of Financing Sources\", \"State_Housing_Credit_Equity\": 0}, {\"Project Name\": \"Orr Creek Commons \", \"Financing_sub_cat\": \"Bank Loan\", \"Interest Rate\": 5.75, \"Funding Type\": \"Permanent Financing\", \"Project Type\": \"Special Needs\", \"Amount of Funds\": 1062900.0, \"State\": \"California\", \"Gov_Grant\": 0, \"debt_financing\": 1.0, \"Funding_count\": 6, \"def_project\": 0, \"bins\": \"Low Number of Financing Sources\", \"State_Housing_Credit_Equity\": 0}, {\"Project Name\": \"Orr Creek Commons \", \"Financing_sub_cat\": \"Local Grant\", \"Interest Rate\": 3.0, \"Funding Type\": \"Permanent Financing\", \"Project Type\": \"Special Needs\", \"Amount of Funds\": 3676821.0, \"State\": \"California\", \"Gov_Grant\": 1, \"debt_financing\": 0.0, \"Funding_count\": 6, \"def_project\": 0, \"bins\": \"Low Number of Financing Sources\", \"State_Housing_Credit_Equity\": 0}, {\"Project Name\": \"Orr Creek Commons \", \"Financing_sub_cat\": \"Local Grant\", \"Interest Rate\": 3.0, \"Funding Type\": \"Permanent Financing\", \"Project Type\": \"Special Needs\", \"Amount of Funds\": 579900.0, \"State\": \"California\", \"Gov_Grant\": 1, \"debt_financing\": 0.0, \"Funding_count\": 6, \"def_project\": 0, \"bins\": \"Low Number of Financing Sources\", \"State_Housing_Credit_Equity\": 0}, {\"Project Name\": \"Pacific Landing\", \"Financing_sub_cat\": \"Local Grant\", \"Interest Rate\": 3.0, \"Funding Type\": \"Construction Financing\", \"Project Type\": \"Family\", \"Amount of Funds\": 9547656.0, \"State\": \"California\", \"Gov_Grant\": 1, \"debt_financing\": 0.0, \"Funding_count\": 7, \"def_project\": 1, \"bins\": \"Low Number of Financing Sources\", \"State_Housing_Credit_Equity\": 0}, {\"Project Name\": \"Pacific Landing\", \"Financing_sub_cat\": \"Bank Loan\", \"Interest Rate\": 4.48, \"Funding Type\": \"Construction Financing\", \"Project Type\": \"Family\", \"Amount of Funds\": 17377396.0, \"State\": \"California\", \"Gov_Grant\": 0, \"debt_financing\": 1.0, \"Funding_count\": 7, \"def_project\": 1, \"bins\": \"Low Number of Financing Sources\", \"State_Housing_Credit_Equity\": 0}, {\"Project Name\": \"Pacific Landing\", \"Financing_sub_cat\": \"Tax Credit Equity\", \"Interest Rate\": null, \"Funding Type\": \"Construction Financing\", \"Project Type\": \"Family\", \"Amount of Funds\": 890366.0, \"State\": \"California\", \"Gov_Grant\": 0, \"debt_financing\": null, \"Funding_count\": 7, \"def_project\": 1, \"bins\": \"Low Number of Financing Sources\", \"State_Housing_Credit_Equity\": 0}, {\"Project Name\": \"Pacific Landing\", \"Financing_sub_cat\": \"Deferred Developer Fee\", \"Interest Rate\": null, \"Funding Type\": \"Construction Financing\", \"Project Type\": \"Family\", \"Amount of Funds\": 429264.0, \"State\": \"California\", \"Gov_Grant\": 0, \"debt_financing\": 0.0, \"Funding_count\": 7, \"def_project\": 1, \"bins\": \"Low Number of Financing Sources\", \"State_Housing_Credit_Equity\": 0}, {\"Project Name\": \"Pacific Landing\", \"Financing_sub_cat\": \"Local Grant\", \"Interest Rate\": 3.0, \"Funding Type\": \"Permanent Financing\", \"Project Type\": \"Family\", \"Amount of Funds\": 9547656.0, \"State\": \"California\", \"Gov_Grant\": 1, \"debt_financing\": 0.0, \"Funding_count\": 7, \"def_project\": 1, \"bins\": \"Low Number of Financing Sources\", \"State_Housing_Credit_Equity\": 0}, {\"Project Name\": \"Pacific Landing\", \"Financing_sub_cat\": \"Bank Loan\", \"Interest Rate\": 6.0, \"Funding Type\": \"Permanent Financing\", \"Project Type\": \"Family\", \"Amount of Funds\": 889713.0, \"State\": \"California\", \"Gov_Grant\": 0, \"debt_financing\": 1.0, \"Funding_count\": 7, \"def_project\": 1, \"bins\": \"Low Number of Financing Sources\", \"State_Housing_Credit_Equity\": 0}, {\"Project Name\": \"Pacific Landing\", \"Financing_sub_cat\": \"Tax Credit Equity\", \"Interest Rate\": null, \"Funding Type\": \"Permanent Financing\", \"Project Type\": \"Family\", \"Amount of Funds\": null, \"State\": \"California\", \"Gov_Grant\": 0, \"debt_financing\": null, \"Funding_count\": 7, \"def_project\": 1, \"bins\": \"Low Number of Financing Sources\", \"State_Housing_Credit_Equity\": 0}, {\"Project Name\": \"Walnut Grove Villa\", \"Financing_sub_cat\": \"Bank Loan\", \"Interest Rate\": 5.5, \"Funding Type\": \"Construction Financing\", \"Project Type\": \"At-Risk\", \"Amount of Funds\": 3566295.0, \"State\": \"California\", \"Gov_Grant\": 0, \"debt_financing\": 1.0, \"Funding_count\": 9, \"def_project\": 1, \"bins\": \"Medium Number of Financing Sources\", \"State_Housing_Credit_Equity\": 0}, {\"Project Name\": \"Walnut Grove Villa\", \"Financing_sub_cat\": \"Federal Loan\", \"Interest Rate\": 1.0, \"Funding Type\": \"Construction Financing\", \"Project Type\": \"At-Risk\", \"Amount of Funds\": 1199271.0, \"State\": \"California\", \"Gov_Grant\": 0, \"debt_financing\": 1.0, \"Funding_count\": 9, \"def_project\": 1, \"bins\": \"Medium Number of Financing Sources\", \"State_Housing_Credit_Equity\": 0}, {\"Project Name\": \"Walnut Grove Villa\", \"Financing_sub_cat\": \"Federal Loan\", \"Interest Rate\": 1.0, \"Funding Type\": \"Construction Financing\", \"Project Type\": \"At-Risk\", \"Amount of Funds\": 815889.0, \"State\": \"California\", \"Gov_Grant\": 0, \"debt_financing\": 1.0, \"Funding_count\": 9, \"def_project\": 1, \"bins\": \"Medium Number of Financing Sources\", \"State_Housing_Credit_Equity\": 0}, {\"Project Name\": \"Walnut Grove Villa\", \"Financing_sub_cat\": \"Bank Loan\", \"Interest Rate\": null, \"Funding Type\": \"Construction Financing\", \"Project Type\": \"At-Risk\", \"Amount of Funds\": 1684313.0, \"State\": \"California\", \"Gov_Grant\": 0, \"debt_financing\": 1.0, \"Funding_count\": 9, \"def_project\": 1, \"bins\": \"Medium Number of Financing Sources\", \"State_Housing_Credit_Equity\": 0}, {\"Project Name\": \"Walnut Grove Villa\", \"Financing_sub_cat\": \"Deferred Developer Fee\", \"Interest Rate\": null, \"Funding Type\": \"Construction Financing\", \"Project Type\": \"At-Risk\", \"Amount of Funds\": 78545.0, \"State\": \"California\", \"Gov_Grant\": 0, \"debt_financing\": 0.0, \"Funding_count\": 9, \"def_project\": 1, \"bins\": \"Medium Number of Financing Sources\", \"State_Housing_Credit_Equity\": 0}, {\"Project Name\": \"Walnut Grove Villa\", \"Financing_sub_cat\": \"Deferred Developer Fee\", \"Interest Rate\": null, \"Funding Type\": \"Construction Financing\", \"Project Type\": \"At-Risk\", \"Amount of Funds\": 749926.0, \"State\": \"California\", \"Gov_Grant\": 0, \"debt_financing\": 0.0, \"Funding_count\": 9, \"def_project\": 1, \"bins\": \"Medium Number of Financing Sources\", \"State_Housing_Credit_Equity\": 0}, {\"Project Name\": \"Walnut Grove Villa\", \"Financing_sub_cat\": \"Federal Loan\", \"Interest Rate\": 1.0, \"Funding Type\": \"Permanent Financing\", \"Project Type\": \"At-Risk\", \"Amount of Funds\": 1199271.0, \"State\": \"California\", \"Gov_Grant\": 0, \"debt_financing\": 1.0, \"Funding_count\": 9, \"def_project\": 1, \"bins\": \"Medium Number of Financing Sources\", \"State_Housing_Credit_Equity\": 0}, {\"Project Name\": \"Walnut Grove Villa\", \"Financing_sub_cat\": \"Federal Loan\", \"Interest Rate\": 1.0, \"Funding Type\": \"Permanent Financing\", \"Project Type\": \"At-Risk\", \"Amount of Funds\": 815889.0, \"State\": \"California\", \"Gov_Grant\": 0, \"debt_financing\": 1.0, \"Funding_count\": 9, \"def_project\": 1, \"bins\": \"Medium Number of Financing Sources\", \"State_Housing_Credit_Equity\": 0}, {\"Project Name\": \"Walnut Grove Villa\", \"Financing_sub_cat\": \"Deferred Developer Fee\", \"Interest Rate\": null, \"Funding Type\": \"Permanent Financing\", \"Project Type\": \"At-Risk\", \"Amount of Funds\": 48815.0, \"State\": \"California\", \"Gov_Grant\": 0, \"debt_financing\": 0.0, \"Funding_count\": 9, \"def_project\": 1, \"bins\": \"Medium Number of Financing Sources\", \"State_Housing_Credit_Equity\": 0}, {\"Project Name\": \"Mountain View Manor\", \"Financing_sub_cat\": \"Bank Loan\", \"Interest Rate\": 5.5, \"Funding Type\": \"Construction Financing\", \"Project Type\": \"Seniors\", \"Amount of Funds\": 3552053.0, \"State\": \"California\", \"Gov_Grant\": 0, \"debt_financing\": 1.0, \"Funding_count\": 8, \"def_project\": 1, \"bins\": \"Low Number of Financing Sources\", \"State_Housing_Credit_Equity\": 0}, {\"Project Name\": \"Mountain View Manor\", \"Financing_sub_cat\": \"Bank Loan\", \"Interest Rate\": null, \"Funding Type\": \"Construction Financing\", \"Project Type\": \"Seniors\", \"Amount of Funds\": 1151766.0, \"State\": \"California\", \"Gov_Grant\": 0, \"debt_financing\": 1.0, \"Funding_count\": 8, \"def_project\": 1, \"bins\": \"Low Number of Financing Sources\", \"State_Housing_Credit_Equity\": 0}, {\"Project Name\": \"Mountain View Manor\", \"Financing_sub_cat\": \"Federal Loan\", \"Interest Rate\": 1.0, \"Funding Type\": \"Construction Financing\", \"Project Type\": \"Seniors\", \"Amount of Funds\": 1531917.0, \"State\": \"California\", \"Gov_Grant\": 0, \"debt_financing\": 1.0, \"Funding_count\": 8, \"def_project\": 1, \"bins\": \"Low Number of Financing Sources\", \"State_Housing_Credit_Equity\": 0}, {\"Project Name\": \"Mountain View Manor\", \"Financing_sub_cat\": \"Other\", \"Interest Rate\": null, \"Funding Type\": \"Construction Financing\", \"Project Type\": \"Seniors\", \"Amount of Funds\": 220000.0, \"State\": \"California\", \"Gov_Grant\": 0, \"debt_financing\": null, \"Funding_count\": 8, \"def_project\": 1, \"bins\": \"Low Number of Financing Sources\", \"State_Housing_Credit_Equity\": 0}, {\"Project Name\": \"Mountain View Manor\", \"Financing_sub_cat\": \"Deferred Developer Fee\", \"Interest Rate\": null, \"Funding Type\": \"Construction Financing\", \"Project Type\": \"Seniors\", \"Amount of Funds\": 316500.0, \"State\": \"California\", \"Gov_Grant\": 0, \"debt_financing\": 0.0, \"Funding_count\": 8, \"def_project\": 1, \"bins\": \"Low Number of Financing Sources\", \"State_Housing_Credit_Equity\": 0}, {\"Project Name\": \"Mountain View Manor\", \"Financing_sub_cat\": \"Bank Loan\", \"Interest Rate\": 5.75, \"Funding Type\": \"Construction Financing\", \"Project Type\": \"Seniors\", \"Amount of Funds\": 548417.0, \"State\": \"California\", \"Gov_Grant\": 0, \"debt_financing\": 1.0, \"Funding_count\": 8, \"def_project\": 1, \"bins\": \"Low Number of Financing Sources\", \"State_Housing_Credit_Equity\": 0}, {\"Project Name\": \"Mountain View Manor\", \"Financing_sub_cat\": \"Deferred Developer Fee\", \"Interest Rate\": null, \"Funding Type\": \"Construction Financing\", \"Project Type\": \"Seniors\", \"Amount of Funds\": 738515.0, \"State\": \"California\", \"Gov_Grant\": 0, \"debt_financing\": 0.0, \"Funding_count\": 8, \"def_project\": 1, \"bins\": \"Low Number of Financing Sources\", \"State_Housing_Credit_Equity\": 0}, {\"Project Name\": \"Mountain View Manor\", \"Financing_sub_cat\": \"Bank Loan\", \"Interest Rate\": 5.75, \"Funding Type\": \"Permanent Financing\", \"Project Type\": \"Seniors\", \"Amount of Funds\": 548417.0, \"State\": \"California\", \"Gov_Grant\": 0, \"debt_financing\": 1.0, \"Funding_count\": 8, \"def_project\": 1, \"bins\": \"Low Number of Financing Sources\", \"State_Housing_Credit_Equity\": 0}, {\"Project Name\": \"Mountain View Manor\", \"Financing_sub_cat\": \"Federal Loan\", \"Interest Rate\": 1.0, \"Funding Type\": \"Permanent Financing\", \"Project Type\": \"Seniors\", \"Amount of Funds\": 1531917.0, \"State\": \"California\", \"Gov_Grant\": 0, \"debt_financing\": 1.0, \"Funding_count\": 8, \"def_project\": 1, \"bins\": \"Low Number of Financing Sources\", \"State_Housing_Credit_Equity\": 0}, {\"Project Name\": \"Mountain View Manor\", \"Financing_sub_cat\": \"Other\", \"Interest Rate\": null, \"Funding Type\": \"Permanent Financing\", \"Project Type\": \"Seniors\", \"Amount of Funds\": 220000.0, \"State\": \"California\", \"Gov_Grant\": 0, \"debt_financing\": null, \"Funding_count\": 8, \"def_project\": 1, \"bins\": \"Low Number of Financing Sources\", \"State_Housing_Credit_Equity\": 0}, {\"Project Name\": \"Liberty Square \", \"Financing_sub_cat\": \"Bank Loan\", \"Interest Rate\": 4.51, \"Funding Type\": \"Construction Financing\", \"Project Type\": \"Family\", \"Amount of Funds\": 9856000.0, \"State\": \"California\", \"Gov_Grant\": 0, \"debt_financing\": 1.0, \"Funding_count\": 6, \"def_project\": 1, \"bins\": \"Low Number of Financing Sources\", \"State_Housing_Credit_Equity\": 0}, {\"Project Name\": \"Liberty Square \", \"Financing_sub_cat\": \"Deferred Developer Fee\", \"Interest Rate\": null, \"Funding Type\": \"Construction Financing\", \"Project Type\": \"Family\", \"Amount of Funds\": 1817713.0, \"State\": \"California\", \"Gov_Grant\": 0, \"debt_financing\": 0.0, \"Funding_count\": 6, \"def_project\": 1, \"bins\": \"Low Number of Financing Sources\", \"State_Housing_Credit_Equity\": 0}, {\"Project Name\": \"Liberty Square \", \"Financing_sub_cat\": \"Federal Credit\", \"Interest Rate\": null, \"Funding Type\": \"Construction Financing\", \"Project Type\": \"Family\", \"Amount of Funds\": 1026707.0, \"State\": \"California\", \"Gov_Grant\": 0, \"debt_financing\": 0.0, \"Funding_count\": 6, \"def_project\": 1, \"bins\": \"Low Number of Financing Sources\", \"State_Housing_Credit_Equity\": 0}, {\"Project Name\": \"Liberty Square \", \"Financing_sub_cat\": \"Deferred Developer Fee\", \"Interest Rate\": null, \"Funding Type\": \"Construction Financing\", \"Project Type\": \"Family\", \"Amount of Funds\": 753015.0, \"State\": \"California\", \"Gov_Grant\": 0, \"debt_financing\": 0.0, \"Funding_count\": 6, \"def_project\": 1, \"bins\": \"Low Number of Financing Sources\", \"State_Housing_Credit_Equity\": 0}, {\"Project Name\": \"Liberty Square \", \"Financing_sub_cat\": \"Bank Loan\", \"Interest Rate\": 5.5, \"Funding Type\": \"Permanent Financing\", \"Project Type\": \"Family\", \"Amount of Funds\": 417000.0, \"State\": \"California\", \"Gov_Grant\": 0, \"debt_financing\": 1.0, \"Funding_count\": 6, \"def_project\": 1, \"bins\": \"Low Number of Financing Sources\", \"State_Housing_Credit_Equity\": 0}, {\"Project Name\": \"Liberty Square \", \"Financing_sub_cat\": \"Deferred Developer Fee\", \"Interest Rate\": null, \"Funding Type\": \"Permanent Financing\", \"Project Type\": \"Family\", \"Amount of Funds\": 753015.0, \"State\": \"California\", \"Gov_Grant\": 0, \"debt_financing\": 0.0, \"Funding_count\": 6, \"def_project\": 1, \"bins\": \"Low Number of Financing Sources\", \"State_Housing_Credit_Equity\": 0}, {\"Project Name\": \"Washington View Apartments\", \"Financing_sub_cat\": \"Bank Loan\", \"Interest Rate\": 4.5, \"Funding Type\": \"Construction Financing\", \"Project Type\": \"Special Needs\", \"Amount of Funds\": 29238522.0, \"State\": \"California\", \"Gov_Grant\": 0, \"debt_financing\": 1.0, \"Funding_count\": 8, \"def_project\": 1, \"bins\": \"Low Number of Financing Sources\", \"State_Housing_Credit_Equity\": 0}, {\"Project Name\": \"Washington View Apartments\", \"Financing_sub_cat\": \"Local Grant\", \"Interest Rate\": 3.0, \"Funding Type\": \"Construction Financing\", \"Project Type\": \"Special Needs\", \"Amount of Funds\": 12000000.0, \"State\": \"California\", \"Gov_Grant\": 1, \"debt_financing\": 0.0, \"Funding_count\": 8, \"def_project\": 1, \"bins\": \"Low Number of Financing Sources\", \"State_Housing_Credit_Equity\": 0}, {\"Project Name\": \"Washington View Apartments\", \"Financing_sub_cat\": \"Deferred Developer Fee\", \"Interest Rate\": null, \"Funding Type\": \"Construction Financing\", \"Project Type\": \"Special Needs\", \"Amount of Funds\": 819204.0, \"State\": \"California\", \"Gov_Grant\": 0, \"debt_financing\": 0.0, \"Funding_count\": 8, \"def_project\": 1, \"bins\": \"Low Number of Financing Sources\", \"State_Housing_Credit_Equity\": 0}, {\"Project Name\": \"Washington View Apartments\", \"Financing_sub_cat\": \"Tax Credit Equity\", \"Interest Rate\": null, \"Funding Type\": \"Construction Financing\", \"Project Type\": \"Special Needs\", \"Amount of Funds\": 4731168.0, \"State\": \"California\", \"Gov_Grant\": 0, \"debt_financing\": null, \"Funding_count\": 8, \"def_project\": 1, \"bins\": \"Low Number of Financing Sources\", \"State_Housing_Credit_Equity\": 0}, {\"Project Name\": \"Washington View Apartments\", \"Financing_sub_cat\": \"Deferred Developer Fee\", \"Interest Rate\": null, \"Funding Type\": \"Construction Financing\", \"Project Type\": \"Special Needs\", \"Amount of Funds\": 2047178.0, \"State\": \"California\", \"Gov_Grant\": 0, \"debt_financing\": 0.0, \"Funding_count\": 8, \"def_project\": 1, \"bins\": \"Low Number of Financing Sources\", \"State_Housing_Credit_Equity\": 0}, {\"Project Name\": \"Washington View Apartments\", \"Financing_sub_cat\": \"Bank Loan\", \"Interest Rate\": 5.8, \"Funding Type\": \"Permanent Financing\", \"Project Type\": \"Special Needs\", \"Amount of Funds\": 12937956.0, \"State\": \"California\", \"Gov_Grant\": 0, \"debt_financing\": 1.0, \"Funding_count\": 8, \"def_project\": 1, \"bins\": \"Low Number of Financing Sources\", \"State_Housing_Credit_Equity\": 0}, {\"Project Name\": \"Washington View Apartments\", \"Financing_sub_cat\": \"Local Grant\", \"Interest Rate\": 3.0, \"Funding Type\": \"Permanent Financing\", \"Project Type\": \"Special Needs\", \"Amount of Funds\": 12000000.0, \"State\": \"California\", \"Gov_Grant\": 1, \"debt_financing\": 0.0, \"Funding_count\": 8, \"def_project\": 1, \"bins\": \"Low Number of Financing Sources\", \"State_Housing_Credit_Equity\": 0}, {\"Project Name\": \"Washington View Apartments\", \"Financing_sub_cat\": \"Deferred Developer Fee\", \"Interest Rate\": null, \"Funding Type\": \"Permanent Financing\", \"Project Type\": \"Special Needs\", \"Amount of Funds\": 242275.0, \"State\": \"California\", \"Gov_Grant\": 0, \"debt_financing\": 0.0, \"Funding_count\": 8, \"def_project\": 1, \"bins\": \"Low Number of Financing Sources\", \"State_Housing_Credit_Equity\": 0}, {\"Project Name\": \"Jordan Downs Phase S3\", \"Financing_sub_cat\": \"Bank Loan\", \"Interest Rate\": 5.05, \"Funding Type\": \"Construction Financing\", \"Project Type\": \"Family\", \"Amount of Funds\": 37293077.0, \"State\": \"California\", \"Gov_Grant\": 0, \"debt_financing\": 1.0, \"Funding_count\": 7, \"def_project\": 0, \"bins\": \"Low Number of Financing Sources\", \"State_Housing_Credit_Equity\": 0}, {\"Project Name\": \"Jordan Downs Phase S3\", \"Financing_sub_cat\": \"Federal Credit\", \"Interest Rate\": null, \"Funding Type\": \"Construction Financing\", \"Project Type\": \"Family\", \"Amount of Funds\": 15056923.0, \"State\": \"California\", \"Gov_Grant\": 0, \"debt_financing\": 0.0, \"Funding_count\": 7, \"def_project\": 0, \"bins\": \"Low Number of Financing Sources\", \"State_Housing_Credit_Equity\": 0}, {\"Project Name\": \"Jordan Downs Phase S3\", \"Financing_sub_cat\": \"Local Grant\", \"Interest Rate\": 4.0, \"Funding Type\": \"Construction Financing\", \"Project Type\": \"Family\", \"Amount of Funds\": 3400000.0, \"State\": \"California\", \"Gov_Grant\": 1, \"debt_financing\": 0.0, \"Funding_count\": 7, \"def_project\": 0, \"bins\": \"Low Number of Financing Sources\", \"State_Housing_Credit_Equity\": 0}, {\"Project Name\": \"Jordan Downs Phase S3\", \"Financing_sub_cat\": \"Other\", \"Interest Rate\": 4.95, \"Funding Type\": \"Permanent Financing\", \"Project Type\": \"Family\", \"Amount of Funds\": 9100000.0, \"State\": \"California\", \"Gov_Grant\": 0, \"debt_financing\": null, \"Funding_count\": 7, \"def_project\": 0, \"bins\": \"Low Number of Financing Sources\", \"State_Housing_Credit_Equity\": 0}, {\"Project Name\": \"Jordan Downs Phase S3\", \"Financing_sub_cat\": \"Other\", \"Interest Rate\": 3.0, \"Funding Type\": \"Permanent Financing\", \"Project Type\": \"Family\", \"Amount of Funds\": 7500000.0, \"State\": \"California\", \"Gov_Grant\": 0, \"debt_financing\": null, \"Funding_count\": 7, \"def_project\": 0, \"bins\": \"Low Number of Financing Sources\", \"State_Housing_Credit_Equity\": 0}, {\"Project Name\": \"Jordan Downs Phase S3\", \"Financing_sub_cat\": \"Local Grant\", \"Interest Rate\": 4.0, \"Funding Type\": \"Permanent Financing\", \"Project Type\": \"Family\", \"Amount of Funds\": 3400000.0, \"State\": \"California\", \"Gov_Grant\": 1, \"debt_financing\": 0.0, \"Funding_count\": 7, \"def_project\": 0, \"bins\": \"Low Number of Financing Sources\", \"State_Housing_Credit_Equity\": 0}, {\"Project Name\": \"Jordan Downs Phase S3\", \"Financing_sub_cat\": \"Local Grant\", \"Interest Rate\": 3.0, \"Funding Type\": \"Permanent Financing\", \"Project Type\": \"Family\", \"Amount of Funds\": 1100000.0, \"State\": \"California\", \"Gov_Grant\": 1, \"debt_financing\": 0.0, \"Funding_count\": 7, \"def_project\": 0, \"bins\": \"Low Number of Financing Sources\", \"State_Housing_Credit_Equity\": 0}, {\"Project Name\": \"Jordan Downs Phase S3\", \"Financing_sub_cat\": \"Federal Home Loan Bank\", \"Interest Rate\": 3.0, \"Funding Type\": \"Permanent Financing\", \"Project Type\": \"Family\", \"Amount of Funds\": 503100.0, \"State\": \"California\", \"Gov_Grant\": 0, \"debt_financing\": 0.0, \"Funding_count\": 7, \"def_project\": 0, \"bins\": \"Low Number of Financing Sources\", \"State_Housing_Credit_Equity\": 0}, {\"Project Name\": \"Jordan Downs Phase S3\", \"Financing_sub_cat\": \"Other\", \"Interest Rate\": null, \"Funding Type\": \"Permanent Financing\", \"Project Type\": \"Family\", \"Amount of Funds\": 283325.0, \"State\": \"California\", \"Gov_Grant\": 0, \"debt_financing\": null, \"Funding_count\": 7, \"def_project\": 0, \"bins\": \"Low Number of Financing Sources\", \"State_Housing_Credit_Equity\": 0}, {\"Project Name\": \"Jordan Downs Phase S3\", \"Financing_sub_cat\": \"Fee Waivers\", \"Interest Rate\": null, \"Funding Type\": \"Permanent Financing\", \"Project Type\": \"Family\", \"Amount of Funds\": 91000.0, \"State\": \"California\", \"Gov_Grant\": 0, \"debt_financing\": 0.0, \"Funding_count\": 7, \"def_project\": 0, \"bins\": \"Low Number of Financing Sources\", \"State_Housing_Credit_Equity\": 0}, {\"Project Name\": \"Donner Trail Manor\", \"Financing_sub_cat\": \"Bank Loan\", \"Interest Rate\": 5.5, \"Funding Type\": \"Construction Financing\", \"Project Type\": \"At-Risk\", \"Amount of Funds\": 9250000.0, \"State\": \"California\", \"Gov_Grant\": 0, \"debt_financing\": 1.0, \"Funding_count\": 7, \"def_project\": 0, \"bins\": \"Low Number of Financing Sources\", \"State_Housing_Credit_Equity\": 0}, {\"Project Name\": \"Donner Trail Manor\", \"Financing_sub_cat\": \"Bank Loan\", \"Interest Rate\": null, \"Funding Type\": \"Construction Financing\", \"Project Type\": \"At-Risk\", \"Amount of Funds\": 1759613.0, \"State\": \"California\", \"Gov_Grant\": 0, \"debt_financing\": 1.0, \"Funding_count\": 7, \"def_project\": 0, \"bins\": \"Low Number of Financing Sources\", \"State_Housing_Credit_Equity\": 0}, {\"Project Name\": \"Donner Trail Manor\", \"Financing_sub_cat\": \"Other\", \"Interest Rate\": null, \"Funding Type\": \"Construction Financing\", \"Project Type\": \"At-Risk\", \"Amount of Funds\": 576713.17, \"State\": \"California\", \"Gov_Grant\": 0, \"debt_financing\": null, \"Funding_count\": 7, \"def_project\": 0, \"bins\": \"Low Number of Financing Sources\", \"State_Housing_Credit_Equity\": 0}, {\"Project Name\": \"Donner Trail Manor\", \"Financing_sub_cat\": \"Federal Loan\", \"Interest Rate\": 1.0, \"Funding Type\": \"Construction Financing\", \"Project Type\": \"At-Risk\", \"Amount of Funds\": 1602453.0, \"State\": \"California\", \"Gov_Grant\": 0, \"debt_financing\": 1.0, \"Funding_count\": 7, \"def_project\": 0, \"bins\": \"Low Number of Financing Sources\", \"State_Housing_Credit_Equity\": 0}, {\"Project Name\": \"Donner Trail Manor\", \"Financing_sub_cat\": \"Bank Loan\", \"Interest Rate\": 6.0, \"Funding Type\": \"Permanent Financing\", \"Project Type\": \"At-Risk\", \"Amount of Funds\": 2200000.0, \"State\": \"California\", \"Gov_Grant\": 0, \"debt_financing\": 1.0, \"Funding_count\": 7, \"def_project\": 0, \"bins\": \"Low Number of Financing Sources\", \"State_Housing_Credit_Equity\": 0}, {\"Project Name\": \"Donner Trail Manor\", \"Financing_sub_cat\": \"Other\", \"Interest Rate\": null, \"Funding Type\": \"Permanent Financing\", \"Project Type\": \"At-Risk\", \"Amount of Funds\": 423504.0, \"State\": \"California\", \"Gov_Grant\": 0, \"debt_financing\": null, \"Funding_count\": 7, \"def_project\": 0, \"bins\": \"Low Number of Financing Sources\", \"State_Housing_Credit_Equity\": 0}, {\"Project Name\": \"Donner Trail Manor\", \"Financing_sub_cat\": \"Federal Loan\", \"Interest Rate\": 1.0, \"Funding Type\": \"Permanent Financing\", \"Project Type\": \"At-Risk\", \"Amount of Funds\": 1602453.0, \"State\": \"California\", \"Gov_Grant\": 0, \"debt_financing\": 1.0, \"Funding_count\": 7, \"def_project\": 0, \"bins\": \"Low Number of Financing Sources\", \"State_Housing_Credit_Equity\": 0}, {\"Project Name\": \"Donner Trail Manor\", \"Financing_sub_cat\": \"Bank Loan\", \"Interest Rate\": null, \"Funding Type\": \"Permanent Financing\", \"Project Type\": \"At-Risk\", \"Amount of Funds\": 22080.0, \"State\": \"California\", \"Gov_Grant\": 0, \"debt_financing\": 1.0, \"Funding_count\": 7, \"def_project\": 0, \"bins\": \"Low Number of Financing Sources\", \"State_Housing_Credit_Equity\": 0}, {\"Project Name\": \"Donner Trail Manor\", \"Financing_sub_cat\": \"Bank Loan\", \"Interest Rate\": null, \"Funding Type\": \"Permanent Financing\", \"Project Type\": \"At-Risk\", \"Amount of Funds\": 142672.0, \"State\": \"California\", \"Gov_Grant\": 0, \"debt_financing\": 1.0, \"Funding_count\": 7, \"def_project\": 0, \"bins\": \"Low Number of Financing Sources\", \"State_Housing_Credit_Equity\": 0}, {\"Project Name\": \"El Portal\", \"Financing_sub_cat\": \"Bank Loan\", \"Interest Rate\": 5.5, \"Funding Type\": \"Construction Financing\", \"Project Type\": \"Special Needs\", \"Amount of Funds\": 9879000.0, \"State\": \"California\", \"Gov_Grant\": 0, \"debt_financing\": 1.0, \"Funding_count\": 8, \"def_project\": 1, \"bins\": \"Low Number of Financing Sources\", \"State_Housing_Credit_Equity\": 0}, {\"Project Name\": \"El Portal\", \"Financing_sub_cat\": \"Local Grant\", \"Interest Rate\": 3.0, \"Funding Type\": \"Construction Financing\", \"Project Type\": \"Special Needs\", \"Amount of Funds\": 935000.0, \"State\": \"California\", \"Gov_Grant\": 1, \"debt_financing\": 0.0, \"Funding_count\": 8, \"def_project\": 1, \"bins\": \"Low Number of Financing Sources\", \"State_Housing_Credit_Equity\": 0}, {\"Project Name\": \"El Portal\", \"Financing_sub_cat\": \"Other\", \"Interest Rate\": 3.0, \"Funding Type\": \"Construction Financing\", \"Project Type\": \"Special Needs\", \"Amount of Funds\": 800000.0, \"State\": \"California\", \"Gov_Grant\": 0, \"debt_financing\": null, \"Funding_count\": 8, \"def_project\": 1, \"bins\": \"Low Number of Financing Sources\", \"State_Housing_Credit_Equity\": 0}, {\"Project Name\": \"El Portal\", \"Financing_sub_cat\": \"Local Grant\", \"Interest Rate\": null, \"Funding Type\": \"Construction Financing\", \"Project Type\": \"Special Needs\", \"Amount of Funds\": 65000.0, \"State\": \"California\", \"Gov_Grant\": 1, \"debt_financing\": 0.0, \"Funding_count\": 8, \"def_project\": 1, \"bins\": \"Low Number of Financing Sources\", \"State_Housing_Credit_Equity\": 0}, {\"Project Name\": \"El Portal\", \"Financing_sub_cat\": \"Deferred Developer Fee\", \"Interest Rate\": null, \"Funding Type\": \"Construction Financing\", \"Project Type\": \"Special Needs\", \"Amount of Funds\": 704489.0, \"State\": \"California\", \"Gov_Grant\": 0, \"debt_financing\": 0.0, \"Funding_count\": 8, \"def_project\": 1, \"bins\": \"Low Number of Financing Sources\", \"State_Housing_Credit_Equity\": 0}, {\"Project Name\": \"El Portal\", \"Financing_sub_cat\": \"Federal Credit\", \"Interest Rate\": null, \"Funding Type\": \"Construction Financing\", \"Project Type\": \"Special Needs\", \"Amount of Funds\": 209053.0, \"State\": \"California\", \"Gov_Grant\": 0, \"debt_financing\": 0.0, \"Funding_count\": 8, \"def_project\": 1, \"bins\": \"Low Number of Financing Sources\", \"State_Housing_Credit_Equity\": 0}, {\"Project Name\": \"El Portal\", \"Financing_sub_cat\": \"Local Grant\", \"Interest Rate\": 5.37, \"Funding Type\": \"Permanent Financing\", \"Project Type\": \"Special Needs\", \"Amount of Funds\": 2704000.0, \"State\": \"California\", \"Gov_Grant\": 1, \"debt_financing\": 0.0, \"Funding_count\": 8, \"def_project\": 1, \"bins\": \"Low Number of Financing Sources\", \"State_Housing_Credit_Equity\": 0}, {\"Project Name\": \"El Portal\", \"Financing_sub_cat\": \"Local Grant\", \"Interest Rate\": 3.0, \"Funding Type\": \"Permanent Financing\", \"Project Type\": \"Special Needs\", \"Amount of Funds\": 935000.0, \"State\": \"California\", \"Gov_Grant\": 1, \"debt_financing\": 0.0, \"Funding_count\": 8, \"def_project\": 1, \"bins\": \"Low Number of Financing Sources\", \"State_Housing_Credit_Equity\": 0}, {\"Project Name\": \"El Portal\", \"Financing_sub_cat\": \"Other\", \"Interest Rate\": 3.0, \"Funding Type\": \"Permanent Financing\", \"Project Type\": \"Special Needs\", \"Amount of Funds\": 800000.0, \"State\": \"California\", \"Gov_Grant\": 0, \"debt_financing\": null, \"Funding_count\": 8, \"def_project\": 1, \"bins\": \"Low Number of Financing Sources\", \"State_Housing_Credit_Equity\": 0}, {\"Project Name\": \"El Portal\", \"Financing_sub_cat\": \"Local Grant\", \"Interest Rate\": null, \"Funding Type\": \"Permanent Financing\", \"Project Type\": \"Special Needs\", \"Amount of Funds\": 65000.0, \"State\": \"California\", \"Gov_Grant\": 1, \"debt_financing\": 0.0, \"Funding_count\": 8, \"def_project\": 1, \"bins\": \"Low Number of Financing Sources\", \"State_Housing_Credit_Equity\": 0}, {\"Project Name\": \"Manchester-Orangewood Apartment Homes \", \"Financing_sub_cat\": \"Bank Loan\", \"Interest Rate\": 5.0, \"Funding Type\": \"Construction Financing\", \"Project Type\": \"Family\", \"Amount of Funds\": 30500000.0, \"State\": \"California\", \"Gov_Grant\": 0, \"debt_financing\": 1.0, \"Funding_count\": 15, \"def_project\": 1, \"bins\": \"High Number of Financing Sources\", \"State_Housing_Credit_Equity\": 0}, {\"Project Name\": \"Manchester-Orangewood Apartment Homes \", \"Financing_sub_cat\": \"Bank Loan\", \"Interest Rate\": null, \"Funding Type\": \"Construction Financing\", \"Project Type\": \"Family\", \"Amount of Funds\": 3865585.0, \"State\": \"California\", \"Gov_Grant\": 0, \"debt_financing\": 1.0, \"Funding_count\": 15, \"def_project\": 1, \"bins\": \"High Number of Financing Sources\", \"State_Housing_Credit_Equity\": 0}, {\"Project Name\": \"Manchester-Orangewood Apartment Homes \", \"Financing_sub_cat\": \"Local Grant\", \"Interest Rate\": null, \"Funding Type\": \"Construction Financing\", \"Project Type\": \"Family\", \"Amount of Funds\": 10200000.0, \"State\": \"California\", \"Gov_Grant\": 1, \"debt_financing\": 0.0, \"Funding_count\": 15, \"def_project\": 1, \"bins\": \"High Number of Financing Sources\", \"State_Housing_Credit_Equity\": 0}, {\"Project Name\": \"Manchester-Orangewood Apartment Homes \", \"Financing_sub_cat\": \"Other\", \"Interest Rate\": null, \"Funding Type\": \"Construction Financing\", \"Project Type\": \"Family\", \"Amount of Funds\": 150000.0, \"State\": \"California\", \"Gov_Grant\": 0, \"debt_financing\": null, \"Funding_count\": 15, \"def_project\": 1, \"bins\": \"High Number of Financing Sources\", \"State_Housing_Credit_Equity\": 0}, {\"Project Name\": \"Manchester-Orangewood Apartment Homes \", \"Financing_sub_cat\": \"Local Grant\", \"Interest Rate\": 3.0, \"Funding Type\": \"Construction Financing\", \"Project Type\": \"Family\", \"Amount of Funds\": 1500000.0, \"State\": \"California\", \"Gov_Grant\": 1, \"debt_financing\": 0.0, \"Funding_count\": 15, \"def_project\": 1, \"bins\": \"High Number of Financing Sources\", \"State_Housing_Credit_Equity\": 0}, {\"Project Name\": \"Manchester-Orangewood Apartment Homes \", \"Financing_sub_cat\": \"Local Grant\", \"Interest Rate\": 3.0, \"Funding Type\": \"Construction Financing\", \"Project Type\": \"Family\", \"Amount of Funds\": 3172632.0, \"State\": \"California\", \"Gov_Grant\": 1, \"debt_financing\": 0.0, \"Funding_count\": 15, \"def_project\": 1, \"bins\": \"High Number of Financing Sources\", \"State_Housing_Credit_Equity\": 0}, {\"Project Name\": \"Manchester-Orangewood Apartment Homes \", \"Financing_sub_cat\": \"Fee Waivers\", \"Interest Rate\": 3.0, \"Funding Type\": \"Construction Financing\", \"Project Type\": \"Family\", \"Amount of Funds\": 132294.0, \"State\": \"California\", \"Gov_Grant\": 0, \"debt_financing\": 0.0, \"Funding_count\": 15, \"def_project\": 1, \"bins\": \"High Number of Financing Sources\", \"State_Housing_Credit_Equity\": 0}, {\"Project Name\": \"Manchester-Orangewood Apartment Homes \", \"Financing_sub_cat\": \"Fee Waivers\", \"Interest Rate\": 3.0, \"Funding Type\": \"Construction Financing\", \"Project Type\": \"Family\", \"Amount of Funds\": 551696.0, \"State\": \"California\", \"Gov_Grant\": 0, \"debt_financing\": 0.0, \"Funding_count\": 15, \"def_project\": 1, \"bins\": \"High Number of Financing Sources\", \"State_Housing_Credit_Equity\": 0}, {\"Project Name\": \"Manchester-Orangewood Apartment Homes \", \"Financing_sub_cat\": \"Deferred Developer Fee\", \"Interest Rate\": null, \"Funding Type\": \"Construction Financing\", \"Project Type\": \"Family\", \"Amount of Funds\": 1429724.0, \"State\": \"California\", \"Gov_Grant\": 0, \"debt_financing\": 0.0, \"Funding_count\": 15, \"def_project\": 1, \"bins\": \"High Number of Financing Sources\", \"State_Housing_Credit_Equity\": 0}, {\"Project Name\": \"Manchester-Orangewood Apartment Homes \", \"Financing_sub_cat\": \"Local Grant\", \"Interest Rate\": null, \"Funding Type\": \"Permanent Financing\", \"Project Type\": \"Family\", \"Amount of Funds\": 10200000.0, \"State\": \"California\", \"Gov_Grant\": 1, \"debt_financing\": 0.0, \"Funding_count\": 15, \"def_project\": 1, \"bins\": \"High Number of Financing Sources\", \"State_Housing_Credit_Equity\": 0}, {\"Project Name\": \"Manchester-Orangewood Apartment Homes \", \"Financing_sub_cat\": \"Bank Loan\", \"Interest Rate\": 6.2, \"Funding Type\": \"Permanent Financing\", \"Project Type\": \"Family\", \"Amount of Funds\": 10796738.0, \"State\": \"California\", \"Gov_Grant\": 0, \"debt_financing\": 1.0, \"Funding_count\": 15, \"def_project\": 1, \"bins\": \"High Number of Financing Sources\", \"State_Housing_Credit_Equity\": 0}, {\"Project Name\": \"Manchester-Orangewood Apartment Homes \", \"Financing_sub_cat\": \"Local Grant\", \"Interest Rate\": 3.0, \"Funding Type\": \"Permanent Financing\", \"Project Type\": \"Family\", \"Amount of Funds\": 3172632.0, \"State\": \"California\", \"Gov_Grant\": 1, \"debt_financing\": 0.0, \"Funding_count\": 15, \"def_project\": 1, \"bins\": \"High Number of Financing Sources\", \"State_Housing_Credit_Equity\": 0}, {\"Project Name\": \"Manchester-Orangewood Apartment Homes \", \"Financing_sub_cat\": \"Other\", \"Interest Rate\": null, \"Funding Type\": \"Permanent Financing\", \"Project Type\": \"Family\", \"Amount of Funds\": 150000.0, \"State\": \"California\", \"Gov_Grant\": 0, \"debt_financing\": null, \"Funding_count\": 15, \"def_project\": 1, \"bins\": \"High Number of Financing Sources\", \"State_Housing_Credit_Equity\": 0}, {\"Project Name\": \"Manchester-Orangewood Apartment Homes \", \"Financing_sub_cat\": \"Fee Waivers\", \"Interest Rate\": 3.0, \"Funding Type\": \"Permanent Financing\", \"Project Type\": \"Family\", \"Amount of Funds\": 132294.0, \"State\": \"California\", \"Gov_Grant\": 0, \"debt_financing\": 0.0, \"Funding_count\": 15, \"def_project\": 1, \"bins\": \"High Number of Financing Sources\", \"State_Housing_Credit_Equity\": 0}, {\"Project Name\": \"Manchester-Orangewood Apartment Homes \", \"Financing_sub_cat\": \"Local Grant\", \"Interest Rate\": 3.0, \"Funding Type\": \"Permanent Financing\", \"Project Type\": \"Family\", \"Amount of Funds\": 1500000.0, \"State\": \"California\", \"Gov_Grant\": 1, \"debt_financing\": 0.0, \"Funding_count\": 15, \"def_project\": 1, \"bins\": \"High Number of Financing Sources\", \"State_Housing_Credit_Equity\": 0}, {\"Project Name\": \"Manchester-Orangewood Apartment Homes \", \"Financing_sub_cat\": \"Fee Waivers\", \"Interest Rate\": 3.0, \"Funding Type\": \"Permanent Financing\", \"Project Type\": \"Family\", \"Amount of Funds\": 551696.0, \"State\": \"California\", \"Gov_Grant\": 0, \"debt_financing\": 0.0, \"Funding_count\": 15, \"def_project\": 1, \"bins\": \"High Number of Financing Sources\", \"State_Housing_Credit_Equity\": 0}, {\"Project Name\": \"Manchester-Orangewood Apartment Homes \", \"Financing_sub_cat\": \"Deferred Developer Fee\", \"Interest Rate\": null, \"Funding Type\": \"Permanent Financing\", \"Project Type\": \"Family\", \"Amount of Funds\": 748571.0, \"State\": \"California\", \"Gov_Grant\": 0, \"debt_financing\": 0.0, \"Funding_count\": 15, \"def_project\": 1, \"bins\": \"High Number of Financing Sources\", \"State_Housing_Credit_Equity\": 0}, {\"Project Name\": \"Devonshire Apartments\", \"Financing_sub_cat\": \"Bank Loan\", \"Interest Rate\": 5.25, \"Funding Type\": \"Construction Financing\", \"Project Type\": \"Family\", \"Amount of Funds\": 5100000.0, \"State\": \"California\", \"Gov_Grant\": 0, \"debt_financing\": 1.0, \"Funding_count\": 14, \"def_project\": 1, \"bins\": \"High Number of Financing Sources\", \"State_Housing_Credit_Equity\": 0}, {\"Project Name\": \"Devonshire Apartments\", \"Financing_sub_cat\": \"Local Grant\", \"Interest Rate\": null, \"Funding Type\": \"Construction Financing\", \"Project Type\": \"Family\", \"Amount of Funds\": 650000.0, \"State\": \"California\", \"Gov_Grant\": 1, \"debt_financing\": 0.0, \"Funding_count\": 14, \"def_project\": 1, \"bins\": \"High Number of Financing Sources\", \"State_Housing_Credit_Equity\": 0}, {\"Project Name\": \"Devonshire Apartments\", \"Financing_sub_cat\": \"Local Grant\", \"Interest Rate\": 3.0, \"Funding Type\": \"Construction Financing\", \"Project Type\": \"Family\", \"Amount of Funds\": 401090.0, \"State\": \"California\", \"Gov_Grant\": 1, \"debt_financing\": 0.0, \"Funding_count\": 14, \"def_project\": 1, \"bins\": \"High Number of Financing Sources\", \"State_Housing_Credit_Equity\": 0}, {\"Project Name\": \"Devonshire Apartments\", \"Financing_sub_cat\": \"Local Grant\", \"Interest Rate\": 3.0, \"Funding Type\": \"Construction Financing\", \"Project Type\": \"Family\", \"Amount of Funds\": 290000.0, \"State\": \"California\", \"Gov_Grant\": 1, \"debt_financing\": 0.0, \"Funding_count\": 14, \"def_project\": 1, \"bins\": \"High Number of Financing Sources\", \"State_Housing_Credit_Equity\": 0}, {\"Project Name\": \"Devonshire Apartments\", \"Financing_sub_cat\": \"Local Grant\", \"Interest Rate\": 3.0, \"Funding Type\": \"Construction Financing\", \"Project Type\": \"Family\", \"Amount of Funds\": 176000.0, \"State\": \"California\", \"Gov_Grant\": 1, \"debt_financing\": 0.0, \"Funding_count\": 14, \"def_project\": 1, \"bins\": \"High Number of Financing Sources\", \"State_Housing_Credit_Equity\": 0}, {\"Project Name\": \"Devonshire Apartments\", \"Financing_sub_cat\": \"Federal Credit\", \"Interest Rate\": null, \"Funding Type\": \"Construction Financing\", \"Project Type\": \"Family\", \"Amount of Funds\": 506927.0, \"State\": \"California\", \"Gov_Grant\": 0, \"debt_financing\": 0.0, \"Funding_count\": 14, \"def_project\": 1, \"bins\": \"High Number of Financing Sources\", \"State_Housing_Credit_Equity\": 0}, {\"Project Name\": \"Devonshire Apartments\", \"Financing_sub_cat\": \"Deferred Developer Fee\", \"Interest Rate\": null, \"Funding Type\": \"Construction Financing\", \"Project Type\": \"Family\", \"Amount of Funds\": 114595.0, \"State\": \"California\", \"Gov_Grant\": 0, \"debt_financing\": 0.0, \"Funding_count\": 14, \"def_project\": 1, \"bins\": \"High Number of Financing Sources\", \"State_Housing_Credit_Equity\": 0}, {\"Project Name\": \"Devonshire Apartments\", \"Financing_sub_cat\": \"Deferred Developer Fee\", \"Interest Rate\": null, \"Funding Type\": \"Construction Financing\", \"Project Type\": \"Family\", \"Amount of Funds\": 314393.0, \"State\": \"California\", \"Gov_Grant\": 0, \"debt_financing\": 0.0, \"Funding_count\": 14, \"def_project\": 1, \"bins\": \"High Number of Financing Sources\", \"State_Housing_Credit_Equity\": 0}, {\"Project Name\": \"Devonshire Apartments\", \"Financing_sub_cat\": \"Bank Loan\", \"Interest Rate\": 5.5, \"Funding Type\": \"Permanent Financing\", \"Project Type\": \"Family\", \"Amount of Funds\": 852053.0, \"State\": \"California\", \"Gov_Grant\": 0, \"debt_financing\": 1.0, \"Funding_count\": 14, \"def_project\": 1, \"bins\": \"High Number of Financing Sources\", \"State_Housing_Credit_Equity\": 0}, {\"Project Name\": \"Devonshire Apartments\", \"Financing_sub_cat\": \"Local Grant\", \"Interest Rate\": null, \"Funding Type\": \"Permanent Financing\", \"Project Type\": \"Family\", \"Amount of Funds\": 650000.0, \"State\": \"California\", \"Gov_Grant\": 1, \"debt_financing\": 0.0, \"Funding_count\": 14, \"def_project\": 1, \"bins\": \"High Number of Financing Sources\", \"State_Housing_Credit_Equity\": 0}, {\"Project Name\": \"Devonshire Apartments\", \"Financing_sub_cat\": \"Local Grant\", \"Interest Rate\": 3.0, \"Funding Type\": \"Permanent Financing\", \"Project Type\": \"Family\", \"Amount of Funds\": 401090.0, \"State\": \"California\", \"Gov_Grant\": 1, \"debt_financing\": 0.0, \"Funding_count\": 14, \"def_project\": 1, \"bins\": \"High Number of Financing Sources\", \"State_Housing_Credit_Equity\": 0}, {\"Project Name\": \"Devonshire Apartments\", \"Financing_sub_cat\": \"Local Grant\", \"Interest Rate\": 3.0, \"Funding Type\": \"Permanent Financing\", \"Project Type\": \"Family\", \"Amount of Funds\": 290000.0, \"State\": \"California\", \"Gov_Grant\": 1, \"debt_financing\": 0.0, \"Funding_count\": 14, \"def_project\": 1, \"bins\": \"High Number of Financing Sources\", \"State_Housing_Credit_Equity\": 0}, {\"Project Name\": \"Devonshire Apartments\", \"Financing_sub_cat\": \"Local Grant\", \"Interest Rate\": 3.0, \"Funding Type\": \"Permanent Financing\", \"Project Type\": \"Family\", \"Amount of Funds\": 176000.0, \"State\": \"California\", \"Gov_Grant\": 1, \"debt_financing\": 0.0, \"Funding_count\": 14, \"def_project\": 1, \"bins\": \"High Number of Financing Sources\", \"State_Housing_Credit_Equity\": 0}, {\"Project Name\": \"Devonshire Apartments\", \"Financing_sub_cat\": \"Deferred Developer Fee\", \"Interest Rate\": null, \"Funding Type\": \"Permanent Financing\", \"Project Type\": \"Family\", \"Amount of Funds\": 114595.0, \"State\": \"California\", \"Gov_Grant\": 0, \"debt_financing\": 0.0, \"Funding_count\": 14, \"def_project\": 1, \"bins\": \"High Number of Financing Sources\", \"State_Housing_Credit_Equity\": 0}, {\"Project Name\": \"Cedar Glen II Apartments\", \"Financing_sub_cat\": \"Bank Loan\", \"Interest Rate\": 225.0, \"Funding Type\": \"Construction Financing\", \"Project Type\": \"Family\", \"Amount of Funds\": 18696480.0, \"State\": \"California\", \"Gov_Grant\": 0, \"debt_financing\": 1.0, \"Funding_count\": 11, \"def_project\": 1, \"bins\": \"Medium Number of Financing Sources\", \"State_Housing_Credit_Equity\": 0}, {\"Project Name\": \"Cedar Glen II Apartments\", \"Financing_sub_cat\": \"Local Grant\", \"Interest Rate\": null, \"Funding Type\": \"Construction Financing\", \"Project Type\": \"Family\", \"Amount of Funds\": 1339000.0, \"State\": \"California\", \"Gov_Grant\": 1, \"debt_financing\": 0.0, \"Funding_count\": 11, \"def_project\": 1, \"bins\": \"Medium Number of Financing Sources\", \"State_Housing_Credit_Equity\": 0}, {\"Project Name\": \"Cedar Glen II Apartments\", \"Financing_sub_cat\": \"Local Grant\", \"Interest Rate\": null, \"Funding Type\": \"Construction Financing\", \"Project Type\": \"Family\", \"Amount of Funds\": 306700.0, \"State\": \"California\", \"Gov_Grant\": 1, \"debt_financing\": 0.0, \"Funding_count\": 11, \"def_project\": 1, \"bins\": \"Medium Number of Financing Sources\", \"State_Housing_Credit_Equity\": 0}, {\"Project Name\": \"Cedar Glen II Apartments\", \"Financing_sub_cat\": \"Other\", \"Interest Rate\": null, \"Funding Type\": \"Construction Financing\", \"Project Type\": \"Family\", \"Amount of Funds\": 2828093.0, \"State\": \"California\", \"Gov_Grant\": 0, \"debt_financing\": null, \"Funding_count\": 11, \"def_project\": 1, \"bins\": \"Medium Number of Financing Sources\", \"State_Housing_Credit_Equity\": 0}, {\"Project Name\": \"Cedar Glen II Apartments\", \"Financing_sub_cat\": \"Bank Loan\", \"Interest Rate\": null, \"Funding Type\": \"Construction Financing\", \"Project Type\": \"Family\", \"Amount of Funds\": 1455896.0, \"State\": \"California\", \"Gov_Grant\": 0, \"debt_financing\": 1.0, \"Funding_count\": 11, \"def_project\": 1, \"bins\": \"Medium Number of Financing Sources\", \"State_Housing_Credit_Equity\": 0}, {\"Project Name\": \"Cedar Glen II Apartments\", \"Financing_sub_cat\": \"Local Grant\", \"Interest Rate\": 3.0, \"Funding Type\": \"Construction Financing\", \"Project Type\": \"Family\", \"Amount of Funds\": 600000.0, \"State\": \"California\", \"Gov_Grant\": 1, \"debt_financing\": 0.0, \"Funding_count\": 11, \"def_project\": 1, \"bins\": \"Medium Number of Financing Sources\", \"State_Housing_Credit_Equity\": 0}, {\"Project Name\": \"Cedar Glen II Apartments\", \"Financing_sub_cat\": \"Bank Loan\", \"Interest Rate\": 5.3, \"Funding Type\": \"Permanent Financing\", \"Project Type\": \"Family\", \"Amount of Funds\": 4980186.0, \"State\": \"California\", \"Gov_Grant\": 0, \"debt_financing\": 1.0, \"Funding_count\": 11, \"def_project\": 1, \"bins\": \"Medium Number of Financing Sources\", \"State_Housing_Credit_Equity\": 0}, {\"Project Name\": \"Cedar Glen II Apartments\", \"Financing_sub_cat\": \"Local Grant\", \"Interest Rate\": null, \"Funding Type\": \"Permanent Financing\", \"Project Type\": \"Family\", \"Amount of Funds\": 1339000.0, \"State\": \"California\", \"Gov_Grant\": 1, \"debt_financing\": 0.0, \"Funding_count\": 11, \"def_project\": 1, \"bins\": \"Medium Number of Financing Sources\", \"State_Housing_Credit_Equity\": 0}, {\"Project Name\": \"Cedar Glen II Apartments\", \"Financing_sub_cat\": \"Local Grant\", \"Interest Rate\": null, \"Funding Type\": \"Permanent Financing\", \"Project Type\": \"Family\", \"Amount of Funds\": 306700.0, \"State\": \"California\", \"Gov_Grant\": 1, \"debt_financing\": 0.0, \"Funding_count\": 11, \"def_project\": 1, \"bins\": \"Medium Number of Financing Sources\", \"State_Housing_Credit_Equity\": 0}, {\"Project Name\": \"Cedar Glen II Apartments\", \"Financing_sub_cat\": \"Deferred Developer Fee\", \"Interest Rate\": null, \"Funding Type\": \"Permanent Financing\", \"Project Type\": \"Family\", \"Amount of Funds\": 129372.0, \"State\": \"California\", \"Gov_Grant\": 0, \"debt_financing\": 0.0, \"Funding_count\": 11, \"def_project\": 1, \"bins\": \"Medium Number of Financing Sources\", \"State_Housing_Credit_Equity\": 0}, {\"Project Name\": \"Cedar Glen II Apartments\", \"Financing_sub_cat\": \"Local Grant\", \"Interest Rate\": 3.0, \"Funding Type\": \"Permanent Financing\", \"Project Type\": \"Family\", \"Amount of Funds\": 600000.0, \"State\": \"California\", \"Gov_Grant\": 1, \"debt_financing\": 0.0, \"Funding_count\": 11, \"def_project\": 1, \"bins\": \"Medium Number of Financing Sources\", \"State_Housing_Credit_Equity\": 0}, {\"Project Name\": \"Cedar Glen II Apartments\", \"Financing_sub_cat\": \"State Funding\", \"Interest Rate\": 3.0, \"Funding Type\": \"Permanent Financing\", \"Project Type\": \"Family\", \"Amount of Funds\": 3311952.0, \"State\": \"California\", \"Gov_Grant\": 0, \"debt_financing\": 0.0, \"Funding_count\": 11, \"def_project\": 1, \"bins\": \"Medium Number of Financing Sources\", \"State_Housing_Credit_Equity\": 0}, {\"Project Name\": \"Parque Vista Apartments\", \"Financing_sub_cat\": \"Bank Loan\", \"Interest Rate\": 4.5, \"Funding Type\": \"Construction Financing\", \"Project Type\": \"Family\", \"Amount of Funds\": 15600000.0, \"State\": \"California\", \"Gov_Grant\": 0, \"debt_financing\": 1.0, \"Funding_count\": 8, \"def_project\": 1, \"bins\": \"Low Number of Financing Sources\", \"State_Housing_Credit_Equity\": 0}, {\"Project Name\": \"Parque Vista Apartments\", \"Financing_sub_cat\": \"Local Grant\", \"Interest Rate\": 4.0, \"Funding Type\": \"Construction Financing\", \"Project Type\": \"Family\", \"Amount of Funds\": 2500000.0, \"State\": \"California\", \"Gov_Grant\": 1, \"debt_financing\": 0.0, \"Funding_count\": 8, \"def_project\": 1, \"bins\": \"Low Number of Financing Sources\", \"State_Housing_Credit_Equity\": 0}, {\"Project Name\": \"Parque Vista Apartments\", \"Financing_sub_cat\": \"State Credit\", \"Interest Rate\": 0.0, \"Funding Type\": \"Construction Financing\", \"Project Type\": \"Family\", \"Amount of Funds\": 2420051.0, \"State\": \"California\", \"Gov_Grant\": 0, \"debt_financing\": 0.0, \"Funding_count\": 8, \"def_project\": 1, \"bins\": \"Low Number of Financing Sources\", \"State_Housing_Credit_Equity\": 0}, {\"Project Name\": \"Parque Vista Apartments\", \"Financing_sub_cat\": \"Other\", \"Interest Rate\": null, \"Funding Type\": \"Construction Financing\", \"Project Type\": \"Family\", \"Amount of Funds\": 1623125.0, \"State\": \"California\", \"Gov_Grant\": 0, \"debt_financing\": null, \"Funding_count\": 8, \"def_project\": 1, \"bins\": \"Low Number of Financing Sources\", \"State_Housing_Credit_Equity\": 0}, {\"Project Name\": \"Parque Vista Apartments\", \"Financing_sub_cat\": \"Deferred Developer Fee\", \"Interest Rate\": null, \"Funding Type\": \"Construction Financing\", \"Project Type\": \"Family\", \"Amount of Funds\": 2177295.0, \"State\": \"California\", \"Gov_Grant\": 0, \"debt_financing\": 0.0, \"Funding_count\": 8, \"def_project\": 1, \"bins\": \"Low Number of Financing Sources\", \"State_Housing_Credit_Equity\": 0}, {\"Project Name\": \"Parque Vista Apartments\", \"Financing_sub_cat\": \"Bank Loan\", \"Interest Rate\": 6.0, \"Funding Type\": \"Permanent Financing\", \"Project Type\": \"Family\", \"Amount of Funds\": 2775000.0, \"State\": \"California\", \"Gov_Grant\": 0, \"debt_financing\": 1.0, \"Funding_count\": 8, \"def_project\": 1, \"bins\": \"Low Number of Financing Sources\", \"State_Housing_Credit_Equity\": 0}, {\"Project Name\": \"Parque Vista Apartments\", \"Financing_sub_cat\": \"Local Grant\", \"Interest Rate\": 4.0, \"Funding Type\": \"Permanent Financing\", \"Project Type\": \"Family\", \"Amount of Funds\": 2500000.0, \"State\": \"California\", \"Gov_Grant\": 1, \"debt_financing\": 0.0, \"Funding_count\": 8, \"def_project\": 1, \"bins\": \"Low Number of Financing Sources\", \"State_Housing_Credit_Equity\": 0}, {\"Project Name\": \"Parque Vista Apartments\", \"Financing_sub_cat\": \"State Credit\", \"Interest Rate\": 0.0, \"Funding Type\": \"Permanent Financing\", \"Project Type\": \"Family\", \"Amount of Funds\": 2420051.0, \"State\": \"California\", \"Gov_Grant\": 0, \"debt_financing\": 0.0, \"Funding_count\": 8, \"def_project\": 1, \"bins\": \"Low Number of Financing Sources\", \"State_Housing_Credit_Equity\": 0}, {\"Project Name\": \"Parque Vista Apartments\", \"Financing_sub_cat\": \"Deferred Developer Fee\", \"Interest Rate\": null, \"Funding Type\": \"Permanent Financing\", \"Project Type\": \"Family\", \"Amount of Funds\": 394170.0, \"State\": \"California\", \"Gov_Grant\": 0, \"debt_financing\": 0.0, \"Funding_count\": 8, \"def_project\": 1, \"bins\": \"Low Number of Financing Sources\", \"State_Housing_Credit_Equity\": 0}, {\"Project Name\": \"Eddy St Senior\", \"Financing_sub_cat\": \"Bank Loan\", \"Interest Rate\": 4.25, \"Funding Type\": \"Construction Financing\", \"Project Type\": \"Seniors\", \"Amount of Funds\": 2417700.0, \"State\": \"California\", \"Gov_Grant\": 0, \"debt_financing\": 1.0, \"Funding_count\": 3, \"def_project\": 0, \"bins\": \"Low Number of Financing Sources\", \"State_Housing_Credit_Equity\": 0}, {\"Project Name\": \"Eddy St Senior\", \"Financing_sub_cat\": \"Bank Loan\", \"Interest Rate\": null, \"Funding Type\": \"Construction Financing\", \"Project Type\": \"Seniors\", \"Amount of Funds\": 13579012.0, \"State\": \"California\", \"Gov_Grant\": 0, \"debt_financing\": 1.0, \"Funding_count\": 3, \"def_project\": 0, \"bins\": \"Low Number of Financing Sources\", \"State_Housing_Credit_Equity\": 0}, {\"Project Name\": \"Eddy St Senior\", \"Financing_sub_cat\": \"Other\", \"Interest Rate\": null, \"Funding Type\": \"Construction Financing\", \"Project Type\": \"Seniors\", \"Amount of Funds\": 765300.0, \"State\": \"California\", \"Gov_Grant\": 0, \"debt_financing\": null, \"Funding_count\": 3, \"def_project\": 0, \"bins\": \"Low Number of Financing Sources\", \"State_Housing_Credit_Equity\": 0}, {\"Project Name\": \"Eddy St Senior\", \"Financing_sub_cat\": \"Bank Loan\", \"Interest Rate\": 4.25, \"Funding Type\": \"Permanent Financing\", \"Project Type\": \"Seniors\", \"Amount of Funds\": 2417700.0, \"State\": \"California\", \"Gov_Grant\": 0, \"debt_financing\": 1.0, \"Funding_count\": 3, \"def_project\": 0, \"bins\": \"Low Number of Financing Sources\", \"State_Housing_Credit_Equity\": 0}, {\"Project Name\": \"Eddy St Senior\", \"Financing_sub_cat\": \"Other\", \"Interest Rate\": null, \"Funding Type\": \"Permanent Financing\", \"Project Type\": \"Seniors\", \"Amount of Funds\": 765300.0, \"State\": \"California\", \"Gov_Grant\": 0, \"debt_financing\": null, \"Funding_count\": 3, \"def_project\": 0, \"bins\": \"Low Number of Financing Sources\", \"State_Housing_Credit_Equity\": 0}, {\"Project Name\": \"Econo Inn\", \"Financing_sub_cat\": \"Bank Loan\", \"Interest Rate\": 6.25, \"Funding Type\": \"Construction Financing\", \"Project Type\": \"Special Needs\", \"Amount of Funds\": 6752678.0, \"State\": \"California\", \"Gov_Grant\": 0, \"debt_financing\": 1.0, \"Funding_count\": 6, \"def_project\": 1, \"bins\": \"Low Number of Financing Sources\", \"State_Housing_Credit_Equity\": 0}, {\"Project Name\": \"Econo Inn\", \"Financing_sub_cat\": \"State Grant\", \"Interest Rate\": 3.0, \"Funding Type\": \"Construction Financing\", \"Project Type\": \"Special Needs\", \"Amount of Funds\": 2368706.0, \"State\": \"California\", \"Gov_Grant\": 1, \"debt_financing\": 0.0, \"Funding_count\": 6, \"def_project\": 1, \"bins\": \"Low Number of Financing Sources\", \"State_Housing_Credit_Equity\": 0}, {\"Project Name\": \"Econo Inn\", \"Financing_sub_cat\": \"Bank Loan\", \"Interest Rate\": null, \"Funding Type\": \"Construction Financing\", \"Project Type\": \"Special Needs\", \"Amount of Funds\": 781904.0, \"State\": \"California\", \"Gov_Grant\": 0, \"debt_financing\": 1.0, \"Funding_count\": 6, \"def_project\": 1, \"bins\": \"Low Number of Financing Sources\", \"State_Housing_Credit_Equity\": 0}, {\"Project Name\": \"Econo Inn\", \"Financing_sub_cat\": \"Deferred Developer Fee\", \"Interest Rate\": null, \"Funding Type\": \"Construction Financing\", \"Project Type\": \"Special Needs\", \"Amount of Funds\": 2971404.0, \"State\": \"California\", \"Gov_Grant\": 0, \"debt_financing\": 0.0, \"Funding_count\": 6, \"def_project\": 1, \"bins\": \"Low Number of Financing Sources\", \"State_Housing_Credit_Equity\": 0}, {\"Project Name\": \"Econo Inn\", \"Financing_sub_cat\": \"State Funding\", \"Interest Rate\": 3.0, \"Funding Type\": \"Permanent Financing\", \"Project Type\": \"Special Needs\", \"Amount of Funds\": 1651942.0, \"State\": \"California\", \"Gov_Grant\": 0, \"debt_financing\": 0.0, \"Funding_count\": 6, \"def_project\": 1, \"bins\": \"Low Number of Financing Sources\", \"State_Housing_Credit_Equity\": 0}, {\"Project Name\": \"Econo Inn\", \"Financing_sub_cat\": \"State Grant\", \"Interest Rate\": 3.0, \"Funding Type\": \"Permanent Financing\", \"Project Type\": \"Special Needs\", \"Amount of Funds\": 2368706.0, \"State\": \"California\", \"Gov_Grant\": 1, \"debt_financing\": 0.0, \"Funding_count\": 6, \"def_project\": 1, \"bins\": \"Low Number of Financing Sources\", \"State_Housing_Credit_Equity\": 0}, {\"Project Name\": \"PATH Villas South Gate\", \"Financing_sub_cat\": \"Bank Loan\", \"Interest Rate\": 5.75, \"Funding Type\": \"Construction Financing\", \"Project Type\": \"Special Needs\", \"Amount of Funds\": 24339930.0, \"State\": \"California\", \"Gov_Grant\": 0, \"debt_financing\": 1.0, \"Funding_count\": 7, \"def_project\": 1, \"bins\": \"Low Number of Financing Sources\", \"State_Housing_Credit_Equity\": 0}, {\"Project Name\": \"PATH Villas South Gate\", \"Financing_sub_cat\": \"Local Grant\", \"Interest Rate\": 3.0, \"Funding Type\": \"Construction Financing\", \"Project Type\": \"Special Needs\", \"Amount of Funds\": 4031000.0, \"State\": \"California\", \"Gov_Grant\": 1, \"debt_financing\": 0.0, \"Funding_count\": 7, \"def_project\": 1, \"bins\": \"Low Number of Financing Sources\", \"State_Housing_Credit_Equity\": 0}, {\"Project Name\": \"PATH Villas South Gate\", \"Financing_sub_cat\": \"Local Grant\", \"Interest Rate\": 3.0, \"Funding Type\": \"Construction Financing\", \"Project Type\": \"Special Needs\", \"Amount of Funds\": 500000.0, \"State\": \"California\", \"Gov_Grant\": 1, \"debt_financing\": 0.0, \"Funding_count\": 7, \"def_project\": 1, \"bins\": \"Low Number of Financing Sources\", \"State_Housing_Credit_Equity\": 0}, {\"Project Name\": \"PATH Villas South Gate\", \"Financing_sub_cat\": \"Deferred Developer Fee\", \"Interest Rate\": null, \"Funding Type\": \"Construction Financing\", \"Project Type\": \"Special Needs\", \"Amount of Funds\": 1489409.0, \"State\": \"California\", \"Gov_Grant\": 0, \"debt_financing\": 0.0, \"Funding_count\": 7, \"def_project\": 1, \"bins\": \"Low Number of Financing Sources\", \"State_Housing_Credit_Equity\": 0}, {\"Project Name\": \"PATH Villas South Gate\", \"Financing_sub_cat\": \"Other\", \"Interest Rate\": null, \"Funding Type\": \"Construction Financing\", \"Project Type\": \"Special Needs\", \"Amount of Funds\": 100.0, \"State\": \"California\", \"Gov_Grant\": 0, \"debt_financing\": null, \"Funding_count\": 7, \"def_project\": 1, \"bins\": \"Low Number of Financing Sources\", \"State_Housing_Credit_Equity\": 0}, {\"Project Name\": \"PATH Villas South Gate\", \"Financing_sub_cat\": \"Bank Loan\", \"Interest Rate\": 5.75, \"Funding Type\": \"Permanent Financing\", \"Project Type\": \"Special Needs\", \"Amount of Funds\": 3819000.0, \"State\": \"California\", \"Gov_Grant\": 0, \"debt_financing\": 1.0, \"Funding_count\": 7, \"def_project\": 1, \"bins\": \"Low Number of Financing Sources\", \"State_Housing_Credit_Equity\": 0}, {\"Project Name\": \"PATH Villas South Gate\", \"Financing_sub_cat\": \"Other\", \"Interest Rate\": 3.0, \"Funding Type\": \"Permanent Financing\", \"Project Type\": \"Special Needs\", \"Amount of Funds\": 3771436.0, \"State\": \"California\", \"Gov_Grant\": 0, \"debt_financing\": null, \"Funding_count\": 7, \"def_project\": 1, \"bins\": \"Low Number of Financing Sources\", \"State_Housing_Credit_Equity\": 0}, {\"Project Name\": \"PATH Villas South Gate\", \"Financing_sub_cat\": \"Local Grant\", \"Interest Rate\": 3.0, \"Funding Type\": \"Permanent Financing\", \"Project Type\": \"Special Needs\", \"Amount of Funds\": 4081000.0, \"State\": \"California\", \"Gov_Grant\": 1, \"debt_financing\": 0.0, \"Funding_count\": 7, \"def_project\": 1, \"bins\": \"Low Number of Financing Sources\", \"State_Housing_Credit_Equity\": 0}, {\"Project Name\": \"PATH Villas South Gate\", \"Financing_sub_cat\": \"Local Grant\", \"Interest Rate\": 3.0, \"Funding Type\": \"Permanent Financing\", \"Project Type\": \"Special Needs\", \"Amount of Funds\": 500000.0, \"State\": \"California\", \"Gov_Grant\": 1, \"debt_financing\": 0.0, \"Funding_count\": 7, \"def_project\": 1, \"bins\": \"Low Number of Financing Sources\", \"State_Housing_Credit_Equity\": 0}, {\"Project Name\": \"PATH Villas South Gate\", \"Financing_sub_cat\": \"Other\", \"Interest Rate\": null, \"Funding Type\": \"Permanent Financing\", \"Project Type\": \"Special Needs\", \"Amount of Funds\": 100.0, \"State\": \"California\", \"Gov_Grant\": 0, \"debt_financing\": null, \"Funding_count\": 7, \"def_project\": 1, \"bins\": \"Low Number of Financing Sources\", \"State_Housing_Credit_Equity\": 0}, {\"Project Name\": \"Valley Oaks Apartments\", \"Financing_sub_cat\": \"Bank Loan\", \"Interest Rate\": 5.75, \"Funding Type\": \"Construction Financing\", \"Project Type\": \"At-Risk\", \"Amount of Funds\": 2822486.0, \"State\": \"California\", \"Gov_Grant\": 0, \"debt_financing\": 1.0, \"Funding_count\": 6, \"def_project\": 0, \"bins\": \"Low Number of Financing Sources\", \"State_Housing_Credit_Equity\": 0}, {\"Project Name\": \"Valley Oaks Apartments\", \"Financing_sub_cat\": \"Federal Loan\", \"Interest Rate\": 1.0, \"Funding Type\": \"Construction Financing\", \"Project Type\": \"At-Risk\", \"Amount of Funds\": 119267.0, \"State\": \"California\", \"Gov_Grant\": 0, \"debt_financing\": 1.0, \"Funding_count\": 6, \"def_project\": 0, \"bins\": \"Low Number of Financing Sources\", \"State_Housing_Credit_Equity\": 0}, {\"Project Name\": \"Valley Oaks Apartments\", \"Financing_sub_cat\": \"Federal Loan\", \"Interest Rate\": 1.0, \"Funding Type\": \"Construction Financing\", \"Project Type\": \"At-Risk\", \"Amount of Funds\": 1080000.0, \"State\": \"California\", \"Gov_Grant\": 0, \"debt_financing\": 1.0, \"Funding_count\": 6, \"def_project\": 0, \"bins\": \"Low Number of Financing Sources\", \"State_Housing_Credit_Equity\": 0}, {\"Project Name\": \"Valley Oaks Apartments\", \"Financing_sub_cat\": \"Other\", \"Interest Rate\": null, \"Funding Type\": \"Construction Financing\", \"Project Type\": \"At-Risk\", \"Amount of Funds\": 80759.0, \"State\": \"California\", \"Gov_Grant\": 0, \"debt_financing\": null, \"Funding_count\": 6, \"def_project\": 0, \"bins\": \"Low Number of Financing Sources\", \"State_Housing_Credit_Equity\": 0}, {\"Project Name\": \"Valley Oaks Apartments\", \"Financing_sub_cat\": \"Bank Loan\", \"Interest Rate\": 5.5, \"Funding Type\": \"Permanent Financing\", \"Project Type\": \"At-Risk\", \"Amount of Funds\": 216000.0, \"State\": \"California\", \"Gov_Grant\": 0, \"debt_financing\": 1.0, \"Funding_count\": 6, \"def_project\": 0, \"bins\": \"Low Number of Financing Sources\", \"State_Housing_Credit_Equity\": 0}, {\"Project Name\": \"Valley Oaks Apartments\", \"Financing_sub_cat\": \"Federal Loan\", \"Interest Rate\": 1.0, \"Funding Type\": \"Permanent Financing\", \"Project Type\": \"At-Risk\", \"Amount of Funds\": 1080000.0, \"State\": \"California\", \"Gov_Grant\": 0, \"debt_financing\": 1.0, \"Funding_count\": 6, \"def_project\": 0, \"bins\": \"Low Number of Financing Sources\", \"State_Housing_Credit_Equity\": 0}, {\"Project Name\": \"Valley Oaks Apartments\", \"Financing_sub_cat\": \"Federal Loan\", \"Interest Rate\": 1.0, \"Funding Type\": \"Permanent Financing\", \"Project Type\": \"At-Risk\", \"Amount of Funds\": 119267.0, \"State\": \"California\", \"Gov_Grant\": 0, \"debt_financing\": 1.0, \"Funding_count\": 6, \"def_project\": 0, \"bins\": \"Low Number of Financing Sources\", \"State_Housing_Credit_Equity\": 0}, {\"Project Name\": \"Valley Oaks Apartments\", \"Financing_sub_cat\": \"Other\", \"Interest Rate\": null, \"Funding Type\": \"Permanent Financing\", \"Project Type\": \"At-Risk\", \"Amount of Funds\": 80759.0, \"State\": \"California\", \"Gov_Grant\": 0, \"debt_financing\": null, \"Funding_count\": 6, \"def_project\": 0, \"bins\": \"Low Number of Financing Sources\", \"State_Housing_Credit_Equity\": 0}, {\"Project Name\": \"Trinity Place Apartments\", \"Financing_sub_cat\": \"Bank Loan\", \"Interest Rate\": 5.66, \"Funding Type\": \"Construction Financing\", \"Project Type\": \"Special Needs\", \"Amount of Funds\": 21414802.0, \"State\": \"California\", \"Gov_Grant\": 0, \"debt_financing\": 1.0, \"Funding_count\": 17, \"def_project\": 1, \"bins\": \"High Number of Financing Sources\", \"State_Housing_Credit_Equity\": 0}, {\"Project Name\": \"Trinity Place Apartments\", \"Financing_sub_cat\": \"State Grant\", \"Interest Rate\": 3.0, \"Funding Type\": \"Construction Financing\", \"Project Type\": \"Special Needs\", \"Amount of Funds\": 2725632.0, \"State\": \"California\", \"Gov_Grant\": 1, \"debt_financing\": 0.0, \"Funding_count\": 17, \"def_project\": 1, \"bins\": \"High Number of Financing Sources\", \"State_Housing_Credit_Equity\": 0}, {\"Project Name\": \"Trinity Place Apartments\", \"Financing_sub_cat\": \"Deferred Developer Fee\", \"Interest Rate\": null, \"Funding Type\": \"Construction Financing\", \"Project Type\": \"Special Needs\", \"Amount of Funds\": 97453.0, \"State\": \"California\", \"Gov_Grant\": 0, \"debt_financing\": 0.0, \"Funding_count\": 17, \"def_project\": 1, \"bins\": \"High Number of Financing Sources\", \"State_Housing_Credit_Equity\": 0}, {\"Project Name\": \"Trinity Place Apartments\", \"Financing_sub_cat\": \"City Grant\", \"Interest Rate\": 3.0, \"Funding Type\": \"Construction Financing\", \"Project Type\": \"Special Needs\", \"Amount of Funds\": 500000.0, \"State\": \"California\", \"Gov_Grant\": 1, \"debt_financing\": 0.0, \"Funding_count\": 17, \"def_project\": 1, \"bins\": \"High Number of Financing Sources\", \"State_Housing_Credit_Equity\": 0}, {\"Project Name\": \"Trinity Place Apartments\", \"Financing_sub_cat\": \"Deferred Developer Fee\", \"Interest Rate\": null, \"Funding Type\": \"Construction Financing\", \"Project Type\": \"Special Needs\", \"Amount of Funds\": 17877.0, \"State\": \"California\", \"Gov_Grant\": 0, \"debt_financing\": 0.0, \"Funding_count\": 17, \"def_project\": 1, \"bins\": \"High Number of Financing Sources\", \"State_Housing_Credit_Equity\": 0}, {\"Project Name\": \"Trinity Place Apartments\", \"Financing_sub_cat\": \"City Grant\", \"Interest Rate\": 3.0, \"Funding Type\": \"Construction Financing\", \"Project Type\": \"Special Needs\", \"Amount of Funds\": 4000000.0, \"State\": \"California\", \"Gov_Grant\": 1, \"debt_financing\": 0.0, \"Funding_count\": 17, \"def_project\": 1, \"bins\": \"High Number of Financing Sources\", \"State_Housing_Credit_Equity\": 0}, {\"Project Name\": \"Trinity Place Apartments\", \"Financing_sub_cat\": \"City Grant\", \"Interest Rate\": null, \"Funding Type\": \"Construction Financing\", \"Project Type\": \"Special Needs\", \"Amount of Funds\": 143017.0, \"State\": \"California\", \"Gov_Grant\": 1, \"debt_financing\": 0.0, \"Funding_count\": 17, \"def_project\": 1, \"bins\": \"High Number of Financing Sources\", \"State_Housing_Credit_Equity\": 0}, {\"Project Name\": \"Trinity Place Apartments\", \"Financing_sub_cat\": \"Fee Waivers\", \"Interest Rate\": null, \"Funding Type\": \"Construction Financing\", \"Project Type\": \"Special Needs\", \"Amount of Funds\": 168922.0, \"State\": \"California\", \"Gov_Grant\": 0, \"debt_financing\": 0.0, \"Funding_count\": 17, \"def_project\": 1, \"bins\": \"High Number of Financing Sources\", \"State_Housing_Credit_Equity\": 0}, {\"Project Name\": \"Trinity Place Apartments\", \"Financing_sub_cat\": \"Deferred Developer Fee\", \"Interest Rate\": null, \"Funding Type\": \"Construction Financing\", \"Project Type\": \"Special Needs\", \"Amount of Funds\": 1029039.0, \"State\": \"California\", \"Gov_Grant\": 0, \"debt_financing\": 0.0, \"Funding_count\": 17, \"def_project\": 1, \"bins\": \"High Number of Financing Sources\", \"State_Housing_Credit_Equity\": 0}, {\"Project Name\": \"Trinity Place Apartments\", \"Financing_sub_cat\": \"Local Grant\", \"Interest Rate\": 5.4, \"Funding Type\": \"Permanent Financing\", \"Project Type\": \"Special Needs\", \"Amount of Funds\": 3349500.0, \"State\": \"California\", \"Gov_Grant\": 1, \"debt_financing\": 0.0, \"Funding_count\": 17, \"def_project\": 1, \"bins\": \"High Number of Financing Sources\", \"State_Housing_Credit_Equity\": 0}, {\"Project Name\": \"Trinity Place Apartments\", \"Financing_sub_cat\": \"State Grant\", \"Interest Rate\": 3.0, \"Funding Type\": \"Permanent Financing\", \"Project Type\": \"Special Needs\", \"Amount of Funds\": 2725632.0, \"State\": \"California\", \"Gov_Grant\": 1, \"debt_financing\": 0.0, \"Funding_count\": 17, \"def_project\": 1, \"bins\": \"High Number of Financing Sources\", \"State_Housing_Credit_Equity\": 0}, {\"Project Name\": \"Trinity Place Apartments\", \"Financing_sub_cat\": \"Deferred Developer Fee\", \"Interest Rate\": 3.0, \"Funding Type\": \"Permanent Financing\", \"Project Type\": \"Special Needs\", \"Amount of Funds\": 97453.0, \"State\": \"California\", \"Gov_Grant\": 0, \"debt_financing\": 0.0, \"Funding_count\": 17, \"def_project\": 1, \"bins\": \"High Number of Financing Sources\", \"State_Housing_Credit_Equity\": 0}, {\"Project Name\": \"Trinity Place Apartments\", \"Financing_sub_cat\": \"City Grant\", \"Interest Rate\": 3.0, \"Funding Type\": \"Permanent Financing\", \"Project Type\": \"Special Needs\", \"Amount of Funds\": 700000.0, \"State\": \"California\", \"Gov_Grant\": 1, \"debt_financing\": 0.0, \"Funding_count\": 17, \"def_project\": 1, \"bins\": \"High Number of Financing Sources\", \"State_Housing_Credit_Equity\": 0}, {\"Project Name\": \"Trinity Place Apartments\", \"Financing_sub_cat\": \"Deferred Developer Fee\", \"Interest Rate\": null, \"Funding Type\": \"Permanent Financing\", \"Project Type\": \"Special Needs\", \"Amount of Funds\": 17877.0, \"State\": \"California\", \"Gov_Grant\": 0, \"debt_financing\": 0.0, \"Funding_count\": 17, \"def_project\": 1, \"bins\": \"High Number of Financing Sources\", \"State_Housing_Credit_Equity\": 0}, {\"Project Name\": \"Trinity Place Apartments\", \"Financing_sub_cat\": \"City Grant\", \"Interest Rate\": 3.0, \"Funding Type\": \"Permanent Financing\", \"Project Type\": \"Special Needs\", \"Amount of Funds\": 4800000.0, \"State\": \"California\", \"Gov_Grant\": 1, \"debt_financing\": 0.0, \"Funding_count\": 17, \"def_project\": 1, \"bins\": \"High Number of Financing Sources\", \"State_Housing_Credit_Equity\": 0}, {\"Project Name\": \"Trinity Place Apartments\", \"Financing_sub_cat\": \"City Grant\", \"Interest Rate\": null, \"Funding Type\": \"Permanent Financing\", \"Project Type\": \"Special Needs\", \"Amount of Funds\": 143017.0, \"State\": \"California\", \"Gov_Grant\": 1, \"debt_financing\": 0.0, \"Funding_count\": 17, \"def_project\": 1, \"bins\": \"High Number of Financing Sources\", \"State_Housing_Credit_Equity\": 0}, {\"Project Name\": \"Trinity Place Apartments\", \"Financing_sub_cat\": \"Fee Waivers\", \"Interest Rate\": null, \"Funding Type\": \"Permanent Financing\", \"Project Type\": \"Special Needs\", \"Amount of Funds\": 168922.0, \"State\": \"California\", \"Gov_Grant\": 0, \"debt_financing\": 0.0, \"Funding_count\": 17, \"def_project\": 1, \"bins\": \"High Number of Financing Sources\", \"State_Housing_Credit_Equity\": 0}, {\"Project Name\": \"Ivy Senior Apartments\", \"Financing_sub_cat\": \"Bank Loan\", \"Interest Rate\": 5.66, \"Funding Type\": \"Construction Financing\", \"Project Type\": \"Special Needs\", \"Amount of Funds\": 15232170.0, \"State\": \"California\", \"Gov_Grant\": 0, \"debt_financing\": 1.0, \"Funding_count\": 14, \"def_project\": 1, \"bins\": \"High Number of Financing Sources\", \"State_Housing_Credit_Equity\": 0}, {\"Project Name\": \"Ivy Senior Apartments\", \"Financing_sub_cat\": \"State Grant\", \"Interest Rate\": 3.0, \"Funding Type\": \"Construction Financing\", \"Project Type\": \"Special Needs\", \"Amount of Funds\": 1059968.0, \"State\": \"California\", \"Gov_Grant\": 1, \"debt_financing\": 0.0, \"Funding_count\": 14, \"def_project\": 1, \"bins\": \"High Number of Financing Sources\", \"State_Housing_Credit_Equity\": 0}, {\"Project Name\": \"Ivy Senior Apartments\", \"Financing_sub_cat\": \"Deferred Developer Fee\", \"Interest Rate\": null, \"Funding Type\": \"Construction Financing\", \"Project Type\": \"Special Needs\", \"Amount of Funds\": 39478.0, \"State\": \"California\", \"Gov_Grant\": 0, \"debt_financing\": 0.0, \"Funding_count\": 14, \"def_project\": 1, \"bins\": \"High Number of Financing Sources\", \"State_Housing_Credit_Equity\": 0}, {\"Project Name\": \"Ivy Senior Apartments\", \"Financing_sub_cat\": \"City Grant\", \"Interest Rate\": 3.0, \"Funding Type\": \"Construction Financing\", \"Project Type\": \"Special Needs\", \"Amount of Funds\": 5525000.0, \"State\": \"California\", \"Gov_Grant\": 1, \"debt_financing\": 0.0, \"Funding_count\": 14, \"def_project\": 1, \"bins\": \"High Number of Financing Sources\", \"State_Housing_Credit_Equity\": 0}, {\"Project Name\": \"Ivy Senior Apartments\", \"Financing_sub_cat\": \"Deferred Developer Fee\", \"Interest Rate\": null, \"Funding Type\": \"Construction Financing\", \"Project Type\": \"Special Needs\", \"Amount of Funds\": 205774.0, \"State\": \"California\", \"Gov_Grant\": 0, \"debt_financing\": 0.0, \"Funding_count\": 14, \"def_project\": 1, \"bins\": \"High Number of Financing Sources\", \"State_Housing_Credit_Equity\": 0}, {\"Project Name\": \"Ivy Senior Apartments\", \"Financing_sub_cat\": \"Federal Home Loan Bank\", \"Interest Rate\": null, \"Funding Type\": \"Construction Financing\", \"Project Type\": \"Special Needs\", \"Amount of Funds\": 520000.0, \"State\": \"California\", \"Gov_Grant\": 0, \"debt_financing\": 0.0, \"Funding_count\": 14, \"def_project\": 1, \"bins\": \"High Number of Financing Sources\", \"State_Housing_Credit_Equity\": 0}, {\"Project Name\": \"Ivy Senior Apartments\", \"Financing_sub_cat\": \"Fee Waivers\", \"Interest Rate\": null, \"Funding Type\": \"Construction Financing\", \"Project Type\": \"Special Needs\", \"Amount of Funds\": 120328.0, \"State\": \"California\", \"Gov_Grant\": 0, \"debt_financing\": 0.0, \"Funding_count\": 14, \"def_project\": 1, \"bins\": \"High Number of Financing Sources\", \"State_Housing_Credit_Equity\": 0}, {\"Project Name\": \"Ivy Senior Apartments\", \"Financing_sub_cat\": \"Deferred Developer Fee\", \"Interest Rate\": null, \"Funding Type\": \"Construction Financing\", \"Project Type\": \"Special Needs\", \"Amount of Funds\": 974275.0, \"State\": \"California\", \"Gov_Grant\": 0, \"debt_financing\": 0.0, \"Funding_count\": 14, \"def_project\": 1, \"bins\": \"High Number of Financing Sources\", \"State_Housing_Credit_Equity\": 0}, {\"Project Name\": \"Ivy Senior Apartments\", \"Financing_sub_cat\": \"State Grant\", \"Interest Rate\": 3.0, \"Funding Type\": \"Permanent Financing\", \"Project Type\": \"Special Needs\", \"Amount of Funds\": 1059968.0, \"State\": \"California\", \"Gov_Grant\": 1, \"debt_financing\": 0.0, \"Funding_count\": 14, \"def_project\": 1, \"bins\": \"High Number of Financing Sources\", \"State_Housing_Credit_Equity\": 0}, {\"Project Name\": \"Ivy Senior Apartments\", \"Financing_sub_cat\": \"Deferred Developer Fee\", \"Interest Rate\": null, \"Funding Type\": \"Permanent Financing\", \"Project Type\": \"Special Needs\", \"Amount of Funds\": 39478.0, \"State\": \"California\", \"Gov_Grant\": 0, \"debt_financing\": 0.0, \"Funding_count\": 14, \"def_project\": 1, \"bins\": \"High Number of Financing Sources\", \"State_Housing_Credit_Equity\": 0}, {\"Project Name\": \"Ivy Senior Apartments\", \"Financing_sub_cat\": \"City Grant\", \"Interest Rate\": 3.0, \"Funding Type\": \"Permanent Financing\", \"Project Type\": \"Special Needs\", \"Amount of Funds\": 6500000.0, \"State\": \"California\", \"Gov_Grant\": 1, \"debt_financing\": 0.0, \"Funding_count\": 14, \"def_project\": 1, \"bins\": \"High Number of Financing Sources\", \"State_Housing_Credit_Equity\": 0}, {\"Project Name\": \"Ivy Senior Apartments\", \"Financing_sub_cat\": \"Deferred Developer Fee\", \"Interest Rate\": null, \"Funding Type\": \"Permanent Financing\", \"Project Type\": \"Special Needs\", \"Amount of Funds\": 205774.0, \"State\": \"California\", \"Gov_Grant\": 0, \"debt_financing\": 0.0, \"Funding_count\": 14, \"def_project\": 1, \"bins\": \"High Number of Financing Sources\", \"State_Housing_Credit_Equity\": 0}, {\"Project Name\": \"Ivy Senior Apartments\", \"Financing_sub_cat\": \"Federal Home Loan Bank\", \"Interest Rate\": null, \"Funding Type\": \"Permanent Financing\", \"Project Type\": \"Special Needs\", \"Amount of Funds\": 520000.0, \"State\": \"California\", \"Gov_Grant\": 0, \"debt_financing\": 0.0, \"Funding_count\": 14, \"def_project\": 1, \"bins\": \"High Number of Financing Sources\", \"State_Housing_Credit_Equity\": 0}, {\"Project Name\": \"Ivy Senior Apartments\", \"Financing_sub_cat\": \"Fee Waivers\", \"Interest Rate\": null, \"Funding Type\": \"Permanent Financing\", \"Project Type\": \"Special Needs\", \"Amount of Funds\": 120328.0, \"State\": \"California\", \"Gov_Grant\": 0, \"debt_financing\": 0.0, \"Funding_count\": 14, \"def_project\": 1, \"bins\": \"High Number of Financing Sources\", \"State_Housing_Credit_Equity\": 0}, {\"Project Name\": \"Paseo Artist Village\", \"Financing_sub_cat\": \"Bank Loan\", \"Interest Rate\": 5.66, \"Funding Type\": \"Construction Financing\", \"Project Type\": \"Family\", \"Amount of Funds\": 15760897.0, \"State\": \"California\", \"Gov_Grant\": 0, \"debt_financing\": 1.0, \"Funding_count\": 11, \"def_project\": 1, \"bins\": \"Medium Number of Financing Sources\", \"State_Housing_Credit_Equity\": 0}, {\"Project Name\": \"Paseo Artist Village\", \"Financing_sub_cat\": \"Local Grant\", \"Interest Rate\": 3.0, \"Funding Type\": \"Construction Financing\", \"Project Type\": \"Family\", \"Amount of Funds\": 8599980.0, \"State\": \"California\", \"Gov_Grant\": 1, \"debt_financing\": 0.0, \"Funding_count\": 11, \"def_project\": 1, \"bins\": \"Medium Number of Financing Sources\", \"State_Housing_Credit_Equity\": 0}, {\"Project Name\": \"Paseo Artist Village\", \"Financing_sub_cat\": \"Local Grant\", \"Interest Rate\": null, \"Funding Type\": \"Construction Financing\", \"Project Type\": \"Family\", \"Amount of Funds\": 307487.0, \"State\": \"California\", \"Gov_Grant\": 1, \"debt_financing\": 0.0, \"Funding_count\": 11, \"def_project\": 1, \"bins\": \"Medium Number of Financing Sources\", \"State_Housing_Credit_Equity\": 0}, {\"Project Name\": \"Paseo Artist Village\", \"Financing_sub_cat\": \"Local Grant\", \"Interest Rate\": null, \"Funding Type\": \"Construction Financing\", \"Project Type\": \"Family\", \"Amount of Funds\": 5080000.0, \"State\": \"California\", \"Gov_Grant\": 1, \"debt_financing\": 0.0, \"Funding_count\": 11, \"def_project\": 1, \"bins\": \"Medium Number of Financing Sources\", \"State_Housing_Credit_Equity\": 0}, {\"Project Name\": \"Paseo Artist Village\", \"Financing_sub_cat\": \"Deferred Developer Fee\", \"Interest Rate\": null, \"Funding Type\": \"Construction Financing\", \"Project Type\": \"Family\", \"Amount of Funds\": 300000.0, \"State\": \"California\", \"Gov_Grant\": 0, \"debt_financing\": 0.0, \"Funding_count\": 11, \"def_project\": 1, \"bins\": \"Medium Number of Financing Sources\", \"State_Housing_Credit_Equity\": 0}, {\"Project Name\": \"Paseo Artist Village\", \"Financing_sub_cat\": \"Deferred Developer Fee\", \"Interest Rate\": null, \"Funding Type\": \"Construction Financing\", \"Project Type\": \"Family\", \"Amount of Funds\": 994495.0, \"State\": \"California\", \"Gov_Grant\": 0, \"debt_financing\": 0.0, \"Funding_count\": 11, \"def_project\": 1, \"bins\": \"Medium Number of Financing Sources\", \"State_Housing_Credit_Equity\": 0}, {\"Project Name\": \"Paseo Artist Village\", \"Financing_sub_cat\": \"Bank Loan\", \"Interest Rate\": 5.4, \"Funding Type\": \"Permanent Financing\", \"Project Type\": \"Family\", \"Amount of Funds\": 2955700.0, \"State\": \"California\", \"Gov_Grant\": 0, \"debt_financing\": 1.0, \"Funding_count\": 11, \"def_project\": 1, \"bins\": \"Medium Number of Financing Sources\", \"State_Housing_Credit_Equity\": 0}, {\"Project Name\": \"Paseo Artist Village\", \"Financing_sub_cat\": \"Local Grant\", \"Interest Rate\": 3.0, \"Funding Type\": \"Permanent Financing\", \"Project Type\": \"Family\", \"Amount of Funds\": 8599980.0, \"State\": \"California\", \"Gov_Grant\": 1, \"debt_financing\": 0.0, \"Funding_count\": 11, \"def_project\": 1, \"bins\": \"Medium Number of Financing Sources\", \"State_Housing_Credit_Equity\": 0}, {\"Project Name\": \"Paseo Artist Village\", \"Financing_sub_cat\": \"Local Grant\", \"Interest Rate\": null, \"Funding Type\": \"Permanent Financing\", \"Project Type\": \"Family\", \"Amount of Funds\": 307487.0, \"State\": \"California\", \"Gov_Grant\": 1, \"debt_financing\": 0.0, \"Funding_count\": 11, \"def_project\": 1, \"bins\": \"Medium Number of Financing Sources\", \"State_Housing_Credit_Equity\": 0}, {\"Project Name\": \"Paseo Artist Village\", \"Financing_sub_cat\": \"Local Grant\", \"Interest Rate\": null, \"Funding Type\": \"Permanent Financing\", \"Project Type\": \"Family\", \"Amount of Funds\": 5080000.0, \"State\": \"California\", \"Gov_Grant\": 1, \"debt_financing\": 0.0, \"Funding_count\": 11, \"def_project\": 1, \"bins\": \"Medium Number of Financing Sources\", \"State_Housing_Credit_Equity\": 0}, {\"Project Name\": \"Paseo Artist Village\", \"Financing_sub_cat\": \"Deferred Developer Fee\", \"Interest Rate\": null, \"Funding Type\": \"Permanent Financing\", \"Project Type\": \"Family\", \"Amount of Funds\": 300000.0, \"State\": \"California\", \"Gov_Grant\": 0, \"debt_financing\": 0.0, \"Funding_count\": 11, \"def_project\": 1, \"bins\": \"Medium Number of Financing Sources\", \"State_Housing_Credit_Equity\": 0}, {\"Project Name\": \"West Cox Cottages\", \"Financing_sub_cat\": \"Bank Loan\", \"Interest Rate\": 6.0, \"Funding Type\": \"Construction Financing\", \"Project Type\": \"Special Needs\", \"Amount of Funds\": 5315864.0, \"State\": \"California\", \"Gov_Grant\": 0, \"debt_financing\": 1.0, \"Funding_count\": 8, \"def_project\": 1, \"bins\": \"Low Number of Financing Sources\", \"State_Housing_Credit_Equity\": 0}, {\"Project Name\": \"West Cox Cottages\", \"Financing_sub_cat\": \"Federal Credit\", \"Interest Rate\": null, \"Funding Type\": \"Construction Financing\", \"Project Type\": \"Special Needs\", \"Amount of Funds\": 1225331.0, \"State\": \"California\", \"Gov_Grant\": 0, \"debt_financing\": 0.0, \"Funding_count\": 8, \"def_project\": 1, \"bins\": \"Low Number of Financing Sources\", \"State_Housing_Credit_Equity\": 0}, {\"Project Name\": \"West Cox Cottages\", \"Financing_sub_cat\": \"Local Grant\", \"Interest Rate\": 4.0, \"Funding Type\": \"Construction Financing\", \"Project Type\": \"Special Needs\", \"Amount of Funds\": 2850000.0, \"State\": \"California\", \"Gov_Grant\": 1, \"debt_financing\": 0.0, \"Funding_count\": 8, \"def_project\": 1, \"bins\": \"Low Number of Financing Sources\", \"State_Housing_Credit_Equity\": 0}, {\"Project Name\": \"West Cox Cottages\", \"Financing_sub_cat\": \"Deferred Developer Fee\", \"Interest Rate\": null, \"Funding Type\": \"Construction Financing\", \"Project Type\": \"Special Needs\", \"Amount of Funds\": 827883.0, \"State\": \"California\", \"Gov_Grant\": 0, \"debt_financing\": 0.0, \"Funding_count\": 8, \"def_project\": 1, \"bins\": \"Low Number of Financing Sources\", \"State_Housing_Credit_Equity\": 0}, {\"Project Name\": \"West Cox Cottages\", \"Financing_sub_cat\": \"Local Grant\", \"Interest Rate\": 6.25, \"Funding Type\": \"Permanent Financing\", \"Project Type\": \"Special Needs\", \"Amount of Funds\": 3150000.0, \"State\": \"California\", \"Gov_Grant\": 1, \"debt_financing\": 0.0, \"Funding_count\": 8, \"def_project\": 1, \"bins\": \"Low Number of Financing Sources\", \"State_Housing_Credit_Equity\": 0}, {\"Project Name\": \"West Cox Cottages\", \"Financing_sub_cat\": \"Local Grant\", \"Interest Rate\": 4.0, \"Funding Type\": \"Permanent Financing\", \"Project Type\": \"Special Needs\", \"Amount of Funds\": 2850000.0, \"State\": \"California\", \"Gov_Grant\": 1, \"debt_financing\": 0.0, \"Funding_count\": 8, \"def_project\": 1, \"bins\": \"Low Number of Financing Sources\", \"State_Housing_Credit_Equity\": 0}, {\"Project Name\": \"West Cox Cottages\", \"Financing_sub_cat\": \"Deferred Developer Fee\", \"Interest Rate\": null, \"Funding Type\": \"Permanent Financing\", \"Project Type\": \"Special Needs\", \"Amount of Funds\": 6550.0, \"State\": \"California\", \"Gov_Grant\": 0, \"debt_financing\": 0.0, \"Funding_count\": 8, \"def_project\": 1, \"bins\": \"Low Number of Financing Sources\", \"State_Housing_Credit_Equity\": 0}, {\"Project Name\": \"West Cox Cottages\", \"Financing_sub_cat\": \"Bank Loan\", \"Interest Rate\": null, \"Funding Type\": \"Permanent Financing\", \"Project Type\": \"Special Needs\", \"Amount of Funds\": 128090.0, \"State\": \"California\", \"Gov_Grant\": 0, \"debt_financing\": 1.0, \"Funding_count\": 8, \"def_project\": 1, \"bins\": \"Low Number of Financing Sources\", \"State_Housing_Credit_Equity\": 0}, {\"Project Name\": \"Dutton Flats\", \"Financing_sub_cat\": \"Bank Loan\", \"Interest Rate\": 5.0, \"Funding Type\": \"Construction Financing\", \"Project Type\": \"Family\", \"Amount of Funds\": 11360635.0, \"State\": \"California\", \"Gov_Grant\": 0, \"debt_financing\": 1.0, \"Funding_count\": 8, \"def_project\": 1, \"bins\": \"Low Number of Financing Sources\", \"State_Housing_Credit_Equity\": 0}, {\"Project Name\": \"Dutton Flats\", \"Financing_sub_cat\": \"Bank Loan\", \"Interest Rate\": null, \"Funding Type\": \"Construction Financing\", \"Project Type\": \"Family\", \"Amount of Funds\": 2361364.0, \"State\": \"California\", \"Gov_Grant\": 0, \"debt_financing\": 1.0, \"Funding_count\": 8, \"def_project\": 1, \"bins\": \"Low Number of Financing Sources\", \"State_Housing_Credit_Equity\": 0}, {\"Project Name\": \"Dutton Flats\", \"Financing_sub_cat\": \"Other\", \"Interest Rate\": null, \"Funding Type\": \"Construction Financing\", \"Project Type\": \"Family\", \"Amount of Funds\": 2173329.0, \"State\": \"California\", \"Gov_Grant\": 0, \"debt_financing\": null, \"Funding_count\": 8, \"def_project\": 1, \"bins\": \"Low Number of Financing Sources\", \"State_Housing_Credit_Equity\": 0}, {\"Project Name\": \"Dutton Flats\", \"Financing_sub_cat\": \"Local Grant\", \"Interest Rate\": null, \"Funding Type\": \"Construction Financing\", \"Project Type\": \"Family\", \"Amount of Funds\": 612115.0, \"State\": \"California\", \"Gov_Grant\": 1, \"debt_financing\": 0.0, \"Funding_count\": 8, \"def_project\": 1, \"bins\": \"Low Number of Financing Sources\", \"State_Housing_Credit_Equity\": 0}, {\"Project Name\": \"Dutton Flats\", \"Financing_sub_cat\": \"Local Grant\", \"Interest Rate\": 3.0, \"Funding Type\": \"Construction Financing\", \"Project Type\": \"Family\", \"Amount of Funds\": 3100000.0, \"State\": \"California\", \"Gov_Grant\": 1, \"debt_financing\": 0.0, \"Funding_count\": 8, \"def_project\": 1, \"bins\": \"Low Number of Financing Sources\", \"State_Housing_Credit_Equity\": 0}, {\"Project Name\": \"Dutton Flats\", \"Financing_sub_cat\": \"Bank Loan\", \"Interest Rate\": 5.75, \"Funding Type\": \"Permanent Financing\", \"Project Type\": \"Family\", \"Amount of Funds\": 3580000.0, \"State\": \"California\", \"Gov_Grant\": 0, \"debt_financing\": 1.0, \"Funding_count\": 8, \"def_project\": 1, \"bins\": \"Low Number of Financing Sources\", \"State_Housing_Credit_Equity\": 0}, {\"Project Name\": \"Dutton Flats\", \"Financing_sub_cat\": \"Local Grant\", \"Interest Rate\": null, \"Funding Type\": \"Permanent Financing\", \"Project Type\": \"Family\", \"Amount of Funds\": 612115.0, \"State\": \"California\", \"Gov_Grant\": 1, \"debt_financing\": 0.0, \"Funding_count\": 8, \"def_project\": 1, \"bins\": \"Low Number of Financing Sources\", \"State_Housing_Credit_Equity\": 0}, {\"Project Name\": \"Dutton Flats\", \"Financing_sub_cat\": \"Deferred Developer Fee\", \"Interest Rate\": 3.0, \"Funding Type\": \"Permanent Financing\", \"Project Type\": \"Family\", \"Amount of Funds\": 508509.0, \"State\": \"California\", \"Gov_Grant\": 0, \"debt_financing\": 0.0, \"Funding_count\": 8, \"def_project\": 1, \"bins\": \"Low Number of Financing Sources\", \"State_Housing_Credit_Equity\": 0}, {\"Project Name\": \"Dutton Flats\", \"Financing_sub_cat\": \"Local Grant\", \"Interest Rate\": 3.0, \"Funding Type\": \"Permanent Financing\", \"Project Type\": \"Family\", \"Amount of Funds\": 3100000.0, \"State\": \"California\", \"Gov_Grant\": 1, \"debt_financing\": 0.0, \"Funding_count\": 8, \"def_project\": 1, \"bins\": \"Low Number of Financing Sources\", \"State_Housing_Credit_Equity\": 0}, {\"Project Name\": \"Isackson\\u2019s Multifamily Housing \", \"Financing_sub_cat\": \"Bank Loan\", \"Interest Rate\": 4.75, \"Funding Type\": \"Construction Financing\", \"Project Type\": \"Family\", \"Amount of Funds\": 15000000.0, \"State\": \"California\", \"Gov_Grant\": 0, \"debt_financing\": 1.0, \"Funding_count\": 6, \"def_project\": 0, \"bins\": \"Low Number of Financing Sources\", \"State_Housing_Credit_Equity\": 0}, {\"Project Name\": \"Isackson\\u2019s Multifamily Housing \", \"Financing_sub_cat\": \"Other\", \"Interest Rate\": null, \"Funding Type\": \"Construction Financing\", \"Project Type\": \"Family\", \"Amount of Funds\": 2150000.0, \"State\": \"California\", \"Gov_Grant\": 0, \"debt_financing\": null, \"Funding_count\": 6, \"def_project\": 0, \"bins\": \"Low Number of Financing Sources\", \"State_Housing_Credit_Equity\": 0}, {\"Project Name\": \"Isackson\\u2019s Multifamily Housing \", \"Financing_sub_cat\": \"Local Grant\", \"Interest Rate\": null, \"Funding Type\": \"Construction Financing\", \"Project Type\": \"Family\", \"Amount of Funds\": 1800000.0, \"State\": \"California\", \"Gov_Grant\": 1, \"debt_financing\": 0.0, \"Funding_count\": 6, \"def_project\": 0, \"bins\": \"Low Number of Financing Sources\", \"State_Housing_Credit_Equity\": 0}, {\"Project Name\": \"Isackson\\u2019s Multifamily Housing \", \"Financing_sub_cat\": \"Tax Credit Equity\", \"Interest Rate\": null, \"Funding Type\": \"Construction Financing\", \"Project Type\": \"Family\", \"Amount of Funds\": 2807007.0, \"State\": \"California\", \"Gov_Grant\": 0, \"debt_financing\": null, \"Funding_count\": 6, \"def_project\": 0, \"bins\": \"Low Number of Financing Sources\", \"State_Housing_Credit_Equity\": 0}, {\"Project Name\": \"Isackson\\u2019s Multifamily Housing \", \"Financing_sub_cat\": \"Bank Loan\", \"Interest Rate\": 5.75, \"Funding Type\": \"Permanent Financing\", \"Project Type\": \"Family\", \"Amount of Funds\": 900000.0, \"State\": \"California\", \"Gov_Grant\": 0, \"debt_financing\": 1.0, \"Funding_count\": 6, \"def_project\": 0, \"bins\": \"Low Number of Financing Sources\", \"State_Housing_Credit_Equity\": 0}, {\"Project Name\": \"Isackson\\u2019s Multifamily Housing \", \"Financing_sub_cat\": \"Local Grant\", \"Interest Rate\": null, \"Funding Type\": \"Permanent Financing\", \"Project Type\": \"Family\", \"Amount of Funds\": 1800000.0, \"State\": \"California\", \"Gov_Grant\": 1, \"debt_financing\": 0.0, \"Funding_count\": 6, \"def_project\": 0, \"bins\": \"Low Number of Financing Sources\", \"State_Housing_Credit_Equity\": 0}, {\"Project Name\": \"Isackson\\u2019s Multifamily Housing \", \"Financing_sub_cat\": \"Tax Credit Equity\", \"Interest Rate\": null, \"Funding Type\": \"Permanent Financing\", \"Project Type\": \"Family\", \"Amount of Funds\": 198000.0, \"State\": \"California\", \"Gov_Grant\": 0, \"debt_financing\": null, \"Funding_count\": 6, \"def_project\": 0, \"bins\": \"Low Number of Financing Sources\", \"State_Housing_Credit_Equity\": 0}, {\"Project Name\": \"Isackson\\u2019s Multifamily Housing \", \"Financing_sub_cat\": \"Other\", \"Interest Rate\": 0.42, \"Funding Type\": \"Permanent Financing\", \"Project Type\": \"Family\", \"Amount of Funds\": 2150000.0, \"State\": \"California\", \"Gov_Grant\": 0, \"debt_financing\": null, \"Funding_count\": 6, \"def_project\": 0, \"bins\": \"Low Number of Financing Sources\", \"State_Housing_Credit_Equity\": 0}, {\"Project Name\": \"Isackson\\u2019s Multifamily Housing \", \"Financing_sub_cat\": \"Other\", \"Interest Rate\": null, \"Funding Type\": \"Permanent Financing\", \"Project Type\": \"Family\", \"Amount of Funds\": 209817.0, \"State\": \"California\", \"Gov_Grant\": 0, \"debt_financing\": null, \"Funding_count\": 6, \"def_project\": 0, \"bins\": \"Low Number of Financing Sources\", \"State_Housing_Credit_Equity\": 0}, {\"Project Name\": \"Grass Valley Terrace\", \"Financing_sub_cat\": \"Bank Loan\", \"Interest Rate\": null, \"Funding Type\": \"Construction Financing\", \"Project Type\": \"Special Needs\", \"Amount of Funds\": 11000000.0, \"State\": \"California\", \"Gov_Grant\": 0, \"debt_financing\": 1.0, \"Funding_count\": 7, \"def_project\": 1, \"bins\": \"Low Number of Financing Sources\", \"State_Housing_Credit_Equity\": 0}, {\"Project Name\": \"Grass Valley Terrace\", \"Financing_sub_cat\": \"Federal Loan\", \"Interest Rate\": null, \"Funding Type\": \"Construction Financing\", \"Project Type\": \"Special Needs\", \"Amount of Funds\": 2288095.0, \"State\": \"California\", \"Gov_Grant\": 0, \"debt_financing\": 1.0, \"Funding_count\": 7, \"def_project\": 1, \"bins\": \"Low Number of Financing Sources\", \"State_Housing_Credit_Equity\": 0}, {\"Project Name\": \"Grass Valley Terrace\", \"Financing_sub_cat\": \"Other\", \"Interest Rate\": null, \"Funding Type\": \"Construction Financing\", \"Project Type\": \"Special Needs\", \"Amount of Funds\": 16496.0, \"State\": \"California\", \"Gov_Grant\": 0, \"debt_financing\": null, \"Funding_count\": 7, \"def_project\": 1, \"bins\": \"Low Number of Financing Sources\", \"State_Housing_Credit_Equity\": 0}, {\"Project Name\": \"Grass Valley Terrace\", \"Financing_sub_cat\": \"Deferred Developer Fee\", \"Interest Rate\": null, \"Funding Type\": \"Construction Financing\", \"Project Type\": \"Special Needs\", \"Amount of Funds\": 890671.0, \"State\": \"California\", \"Gov_Grant\": 0, \"debt_financing\": 0.0, \"Funding_count\": 7, \"def_project\": 1, \"bins\": \"Low Number of Financing Sources\", \"State_Housing_Credit_Equity\": 0}, {\"Project Name\": \"Grass Valley Terrace\", \"Financing_sub_cat\": \"Tax Credit Equity\", \"Interest Rate\": null, \"Funding Type\": \"Construction Financing\", \"Project Type\": \"Special Needs\", \"Amount of Funds\": 1425069.0, \"State\": \"California\", \"Gov_Grant\": 0, \"debt_financing\": null, \"Funding_count\": 7, \"def_project\": 1, \"bins\": \"Low Number of Financing Sources\", \"State_Housing_Credit_Equity\": 0}, {\"Project Name\": \"Grass Valley Terrace\", \"Financing_sub_cat\": \"Bank Loan\", \"Interest Rate\": 4.31, \"Funding Type\": \"Permanent Financing\", \"Project Type\": \"Special Needs\", \"Amount of Funds\": 3300000.0, \"State\": \"California\", \"Gov_Grant\": 0, \"debt_financing\": 1.0, \"Funding_count\": 7, \"def_project\": 1, \"bins\": \"Low Number of Financing Sources\", \"State_Housing_Credit_Equity\": 0}, {\"Project Name\": \"Grass Valley Terrace\", \"Financing_sub_cat\": \"Federal Loan\", \"Interest Rate\": 1.0, \"Funding Type\": \"Permanent Financing\", \"Project Type\": \"Special Needs\", \"Amount of Funds\": 2288095.0, \"State\": \"California\", \"Gov_Grant\": 0, \"debt_financing\": 1.0, \"Funding_count\": 7, \"def_project\": 1, \"bins\": \"Low Number of Financing Sources\", \"State_Housing_Credit_Equity\": 0}, {\"Project Name\": \"Grass Valley Terrace\", \"Financing_sub_cat\": \"Other\", \"Interest Rate\": null, \"Funding Type\": \"Permanent Financing\", \"Project Type\": \"Special Needs\", \"Amount of Funds\": 16496.0, \"State\": \"California\", \"Gov_Grant\": 0, \"debt_financing\": null, \"Funding_count\": 7, \"def_project\": 1, \"bins\": \"Low Number of Financing Sources\", \"State_Housing_Credit_Equity\": 0}, {\"Project Name\": \"Grass Valley Terrace\", \"Financing_sub_cat\": \"Deferred Developer Fee\", \"Interest Rate\": null, \"Funding Type\": \"Permanent Financing\", \"Project Type\": \"Special Needs\", \"Amount of Funds\": 515278.0, \"State\": \"California\", \"Gov_Grant\": 0, \"debt_financing\": 0.0, \"Funding_count\": 7, \"def_project\": 1, \"bins\": \"Low Number of Financing Sources\", \"State_Housing_Credit_Equity\": 0}, {\"Project Name\": \"Martin Street Apartments II\", \"Financing_sub_cat\": \"Bank Loan\", \"Interest Rate\": 4.0, \"Funding Type\": \"Construction Financing\", \"Project Type\": \"Family\", \"Amount of Funds\": 14421343.0, \"State\": \"California\", \"Gov_Grant\": 0, \"debt_financing\": 1.0, \"Funding_count\": 7, \"def_project\": 0, \"bins\": \"Low Number of Financing Sources\", \"State_Housing_Credit_Equity\": 0}, {\"Project Name\": \"Martin Street Apartments II\", \"Financing_sub_cat\": \"Local Grant\", \"Interest Rate\": 0.0, \"Funding Type\": \"Construction Financing\", \"Project Type\": \"Family\", \"Amount of Funds\": 894351.0, \"State\": \"California\", \"Gov_Grant\": 1, \"debt_financing\": 0.0, \"Funding_count\": 7, \"def_project\": 0, \"bins\": \"Low Number of Financing Sources\", \"State_Housing_Credit_Equity\": 0}, {\"Project Name\": \"Martin Street Apartments II\", \"Financing_sub_cat\": \"Bank Loan\", \"Interest Rate\": 0.0, \"Funding Type\": \"Construction Financing\", \"Project Type\": \"Family\", \"Amount of Funds\": 2200000.0, \"State\": \"California\", \"Gov_Grant\": 0, \"debt_financing\": 1.0, \"Funding_count\": 7, \"def_project\": 0, \"bins\": \"Low Number of Financing Sources\", \"State_Housing_Credit_Equity\": 0}, {\"Project Name\": \"Martin Street Apartments II\", \"Financing_sub_cat\": \"Other\", \"Interest Rate\": null, \"Funding Type\": \"Construction Financing\", \"Project Type\": \"Family\", \"Amount of Funds\": 218274.0, \"State\": \"California\", \"Gov_Grant\": 0, \"debt_financing\": null, \"Funding_count\": 7, \"def_project\": 0, \"bins\": \"Low Number of Financing Sources\", \"State_Housing_Credit_Equity\": 0}, {\"Project Name\": \"Martin Street Apartments II\", \"Financing_sub_cat\": \"Bank Loan\", \"Interest Rate\": null, \"Funding Type\": \"Construction Financing\", \"Project Type\": \"Family\", \"Amount of Funds\": 3272404.0, \"State\": \"California\", \"Gov_Grant\": 0, \"debt_financing\": 1.0, \"Funding_count\": 7, \"def_project\": 0, \"bins\": \"Low Number of Financing Sources\", \"State_Housing_Credit_Equity\": 0}, {\"Project Name\": \"Martin Street Apartments II\", \"Financing_sub_cat\": \"Bank Loan\", \"Interest Rate\": 6.0, \"Funding Type\": \"Permanent Financing\", \"Project Type\": \"Family\", \"Amount of Funds\": 750000.0, \"State\": \"California\", \"Gov_Grant\": 0, \"debt_financing\": 1.0, \"Funding_count\": 7, \"def_project\": 0, \"bins\": \"Low Number of Financing Sources\", \"State_Housing_Credit_Equity\": 0}, {\"Project Name\": \"Martin Street Apartments II\", \"Financing_sub_cat\": \"Federal Loan\", \"Interest Rate\": 1.0, \"Funding Type\": \"Permanent Financing\", \"Project Type\": \"Family\", \"Amount of Funds\": 3000000.0, \"State\": \"California\", \"Gov_Grant\": 0, \"debt_financing\": 1.0, \"Funding_count\": 7, \"def_project\": 0, \"bins\": \"Low Number of Financing Sources\", \"State_Housing_Credit_Equity\": 0}, {\"Project Name\": \"Martin Street Apartments II\", \"Financing_sub_cat\": \"Local Grant\", \"Interest Rate\": 2.0, \"Funding Type\": \"Permanent Financing\", \"Project Type\": \"Family\", \"Amount of Funds\": 894351.0, \"State\": \"California\", \"Gov_Grant\": 1, \"debt_financing\": 0.0, \"Funding_count\": 7, \"def_project\": 0, \"bins\": \"Low Number of Financing Sources\", \"State_Housing_Credit_Equity\": 0}, {\"Project Name\": \"Lone Oak Senior Apartments\", \"Financing_sub_cat\": \"Bank Loan\", \"Interest Rate\": 4.0, \"Funding Type\": \"Construction Financing\", \"Project Type\": \"Seniors\", \"Amount of Funds\": 7487042.0, \"State\": \"California\", \"Gov_Grant\": 0, \"debt_financing\": 1.0, \"Funding_count\": 7, \"def_project\": 0, \"bins\": \"Low Number of Financing Sources\", \"State_Housing_Credit_Equity\": 0}, {\"Project Name\": \"Lone Oak Senior Apartments\", \"Financing_sub_cat\": \"Local Grant\", \"Interest Rate\": 0.0, \"Funding Type\": \"Construction Financing\", \"Project Type\": \"Seniors\", \"Amount of Funds\": 304768.0, \"State\": \"California\", \"Gov_Grant\": 1, \"debt_financing\": 0.0, \"Funding_count\": 7, \"def_project\": 0, \"bins\": \"Low Number of Financing Sources\", \"State_Housing_Credit_Equity\": 0}, {\"Project Name\": \"Lone Oak Senior Apartments\", \"Financing_sub_cat\": \"Bank Loan\", \"Interest Rate\": 0.0, \"Funding Type\": \"Construction Financing\", \"Project Type\": \"Seniors\", \"Amount of Funds\": 1284727.0, \"State\": \"California\", \"Gov_Grant\": 0, \"debt_financing\": 1.0, \"Funding_count\": 7, \"def_project\": 0, \"bins\": \"Low Number of Financing Sources\", \"State_Housing_Credit_Equity\": 0}, {\"Project Name\": \"Lone Oak Senior Apartments\", \"Financing_sub_cat\": \"Other\", \"Interest Rate\": null, \"Funding Type\": \"Construction Financing\", \"Project Type\": \"Seniors\", \"Amount of Funds\": 179090.0, \"State\": \"California\", \"Gov_Grant\": 0, \"debt_financing\": null, \"Funding_count\": 7, \"def_project\": 0, \"bins\": \"Low Number of Financing Sources\", \"State_Housing_Credit_Equity\": 0}, {\"Project Name\": \"Lone Oak Senior Apartments\", \"Financing_sub_cat\": \"Bank Loan\", \"Interest Rate\": null, \"Funding Type\": \"Construction Financing\", \"Project Type\": \"Seniors\", \"Amount of Funds\": 1379715.0, \"State\": \"California\", \"Gov_Grant\": 0, \"debt_financing\": 1.0, \"Funding_count\": 7, \"def_project\": 0, \"bins\": \"Low Number of Financing Sources\", \"State_Housing_Credit_Equity\": 0}, {\"Project Name\": \"Lone Oak Senior Apartments\", \"Financing_sub_cat\": \"Bank Loan\", \"Interest Rate\": 6.0, \"Funding Type\": \"Permanent Financing\", \"Project Type\": \"Seniors\", \"Amount of Funds\": 2350000.0, \"State\": \"California\", \"Gov_Grant\": 0, \"debt_financing\": 1.0, \"Funding_count\": 7, \"def_project\": 0, \"bins\": \"Low Number of Financing Sources\", \"State_Housing_Credit_Equity\": 0}, {\"Project Name\": \"Lone Oak Senior Apartments\", \"Financing_sub_cat\": \"Local Grant\", \"Interest Rate\": 3.0, \"Funding Type\": \"Permanent Financing\", \"Project Type\": \"Seniors\", \"Amount of Funds\": 1082000.0, \"State\": \"California\", \"Gov_Grant\": 1, \"debt_financing\": 0.0, \"Funding_count\": 7, \"def_project\": 0, \"bins\": \"Low Number of Financing Sources\", \"State_Housing_Credit_Equity\": 0}, {\"Project Name\": \"Lone Oak Senior Apartments\", \"Financing_sub_cat\": \"Local Grant\", \"Interest Rate\": 3.0, \"Funding Type\": \"Permanent Financing\", \"Project Type\": \"Seniors\", \"Amount of Funds\": 304768.0, \"State\": \"California\", \"Gov_Grant\": 1, \"debt_financing\": 0.0, \"Funding_count\": 7, \"def_project\": 0, \"bins\": \"Low Number of Financing Sources\", \"State_Housing_Credit_Equity\": 0}, {\"Project Name\": \"New Haven Court\", \"Financing_sub_cat\": \"Bank Loan\", \"Interest Rate\": 4.0, \"Funding Type\": \"Construction Financing\", \"Project Type\": \"Special Needs\", \"Amount of Funds\": 5209342.0, \"State\": \"California\", \"Gov_Grant\": 0, \"debt_financing\": 1.0, \"Funding_count\": 21, \"def_project\": 0, \"bins\": \"High Number of Financing Sources\", \"State_Housing_Credit_Equity\": 0}, {\"Project Name\": \"New Haven Court\", \"Financing_sub_cat\": \"Local Grant\", \"Interest Rate\": 0.0, \"Funding Type\": \"Construction Financing\", \"Project Type\": \"Special Needs\", \"Amount of Funds\": 1547676.0, \"State\": \"California\", \"Gov_Grant\": 1, \"debt_financing\": 0.0, \"Funding_count\": 21, \"def_project\": 0, \"bins\": \"High Number of Financing Sources\", \"State_Housing_Credit_Equity\": 0}, {\"Project Name\": \"New Haven Court\", \"Financing_sub_cat\": \"Local Grant\", \"Interest Rate\": 0.0, \"Funding Type\": \"Construction Financing\", \"Project Type\": \"Special Needs\", \"Amount of Funds\": 200000.0, \"State\": \"California\", \"Gov_Grant\": 1, \"debt_financing\": 0.0, \"Funding_count\": 21, \"def_project\": 0, \"bins\": \"High Number of Financing Sources\", \"State_Housing_Credit_Equity\": 0}, {\"Project Name\": \"New Haven Court\", \"Financing_sub_cat\": \"Local Grant\", \"Interest Rate\": 0.0, \"Funding Type\": \"Construction Financing\", \"Project Type\": \"Special Needs\", \"Amount of Funds\": 800000.0, \"State\": \"California\", \"Gov_Grant\": 1, \"debt_financing\": 0.0, \"Funding_count\": 21, \"def_project\": 0, \"bins\": \"High Number of Financing Sources\", \"State_Housing_Credit_Equity\": 0}, {\"Project Name\": \"New Haven Court\", \"Financing_sub_cat\": \"Local Grant\", \"Interest Rate\": 0.0, \"Funding Type\": \"Construction Financing\", \"Project Type\": \"Special Needs\", \"Amount of Funds\": 690000.0, \"State\": \"California\", \"Gov_Grant\": 1, \"debt_financing\": 0.0, \"Funding_count\": 21, \"def_project\": 0, \"bins\": \"High Number of Financing Sources\", \"State_Housing_Credit_Equity\": 0}, {\"Project Name\": \"New Haven Court\", \"Financing_sub_cat\": \"Local Grant\", \"Interest Rate\": 0.0, \"Funding Type\": \"Construction Financing\", \"Project Type\": \"Special Needs\", \"Amount of Funds\": 560000.0, \"State\": \"California\", \"Gov_Grant\": 1, \"debt_financing\": 0.0, \"Funding_count\": 21, \"def_project\": 0, \"bins\": \"High Number of Financing Sources\", \"State_Housing_Credit_Equity\": 0}, {\"Project Name\": \"New Haven Court\", \"Financing_sub_cat\": \"Local Grant\", \"Interest Rate\": 0.0, \"Funding Type\": \"Construction Financing\", \"Project Type\": \"Special Needs\", \"Amount of Funds\": 18440.0, \"State\": \"California\", \"Gov_Grant\": 1, \"debt_financing\": 0.0, \"Funding_count\": 21, \"def_project\": 0, \"bins\": \"High Number of Financing Sources\", \"State_Housing_Credit_Equity\": 0}, {\"Project Name\": \"New Haven Court\", \"Financing_sub_cat\": \"Local Grant\", \"Interest Rate\": 0.0, \"Funding Type\": \"Construction Financing\", \"Project Type\": \"Special Needs\", \"Amount of Funds\": 103080.0, \"State\": \"California\", \"Gov_Grant\": 1, \"debt_financing\": 0.0, \"Funding_count\": 21, \"def_project\": 0, \"bins\": \"High Number of Financing Sources\", \"State_Housing_Credit_Equity\": 0}, {\"Project Name\": \"New Haven Court\", \"Financing_sub_cat\": \"Local Grant\", \"Interest Rate\": 0.0, \"Funding Type\": \"Construction Financing\", \"Project Type\": \"Special Needs\", \"Amount of Funds\": 54042.0, \"State\": \"California\", \"Gov_Grant\": 1, \"debt_financing\": 0.0, \"Funding_count\": 21, \"def_project\": 0, \"bins\": \"High Number of Financing Sources\", \"State_Housing_Credit_Equity\": 0}, {\"Project Name\": \"New Haven Court\", \"Financing_sub_cat\": \"Bank Loan\", \"Interest Rate\": 0.0, \"Funding Type\": \"Construction Financing\", \"Project Type\": \"Special Needs\", \"Amount of Funds\": 1578808.0, \"State\": \"California\", \"Gov_Grant\": 0, \"debt_financing\": 1.0, \"Funding_count\": 21, \"def_project\": 0, \"bins\": \"High Number of Financing Sources\", \"State_Housing_Credit_Equity\": 0}, {\"Project Name\": \"New Haven Court\", \"Financing_sub_cat\": \"Local Grant\", \"Interest Rate\": null, \"Funding Type\": \"Construction Financing\", \"Project Type\": \"Special Needs\", \"Amount of Funds\": 781867.0, \"State\": \"California\", \"Gov_Grant\": 1, \"debt_financing\": 0.0, \"Funding_count\": 21, \"def_project\": 0, \"bins\": \"High Number of Financing Sources\", \"State_Housing_Credit_Equity\": 0}, {\"Project Name\": \"New Haven Court\", \"Financing_sub_cat\": \"Bank Loan\", \"Interest Rate\": null, \"Funding Type\": \"Construction Financing\", \"Project Type\": \"Special Needs\", \"Amount of Funds\": 1618328.0, \"State\": \"California\", \"Gov_Grant\": 0, \"debt_financing\": 1.0, \"Funding_count\": 21, \"def_project\": 0, \"bins\": \"High Number of Financing Sources\", \"State_Housing_Credit_Equity\": 0}, {\"Project Name\": \"New Haven Court\", \"Financing_sub_cat\": \"Local Grant\", \"Interest Rate\": 3.0, \"Funding Type\": \"Permanent Financing\", \"Project Type\": \"Special Needs\", \"Amount of Funds\": 1096705.0, \"State\": \"California\", \"Gov_Grant\": 1, \"debt_financing\": 0.0, \"Funding_count\": 21, \"def_project\": 0, \"bins\": \"High Number of Financing Sources\", \"State_Housing_Credit_Equity\": 0}, {\"Project Name\": \"New Haven Court\", \"Financing_sub_cat\": \"Local Grant\", \"Interest Rate\": 3.0, \"Funding Type\": \"Permanent Financing\", \"Project Type\": \"Special Needs\", \"Amount of Funds\": 1547676.0, \"State\": \"California\", \"Gov_Grant\": 1, \"debt_financing\": 0.0, \"Funding_count\": 21, \"def_project\": 0, \"bins\": \"High Number of Financing Sources\", \"State_Housing_Credit_Equity\": 0}, {\"Project Name\": \"New Haven Court\", \"Financing_sub_cat\": \"Local Grant\", \"Interest Rate\": 3.0, \"Funding Type\": \"Permanent Financing\", \"Project Type\": \"Special Needs\", \"Amount of Funds\": 200000.0, \"State\": \"California\", \"Gov_Grant\": 1, \"debt_financing\": 0.0, \"Funding_count\": 21, \"def_project\": 0, \"bins\": \"High Number of Financing Sources\", \"State_Housing_Credit_Equity\": 0}, {\"Project Name\": \"New Haven Court\", \"Financing_sub_cat\": \"Local Grant\", \"Interest Rate\": 3.0, \"Funding Type\": \"Permanent Financing\", \"Project Type\": \"Special Needs\", \"Amount of Funds\": 800000.0, \"State\": \"California\", \"Gov_Grant\": 1, \"debt_financing\": 0.0, \"Funding_count\": 21, \"def_project\": 0, \"bins\": \"High Number of Financing Sources\", \"State_Housing_Credit_Equity\": 0}, {\"Project Name\": \"New Haven Court\", \"Financing_sub_cat\": \"Local Grant\", \"Interest Rate\": 3.0, \"Funding Type\": \"Permanent Financing\", \"Project Type\": \"Special Needs\", \"Amount of Funds\": 690000.0, \"State\": \"California\", \"Gov_Grant\": 1, \"debt_financing\": 0.0, \"Funding_count\": 21, \"def_project\": 0, \"bins\": \"High Number of Financing Sources\", \"State_Housing_Credit_Equity\": 0}, {\"Project Name\": \"New Haven Court\", \"Financing_sub_cat\": \"Local Grant\", \"Interest Rate\": 3.0, \"Funding Type\": \"Permanent Financing\", \"Project Type\": \"Special Needs\", \"Amount of Funds\": 560000.0, \"State\": \"California\", \"Gov_Grant\": 1, \"debt_financing\": 0.0, \"Funding_count\": 21, \"def_project\": 0, \"bins\": \"High Number of Financing Sources\", \"State_Housing_Credit_Equity\": 0}, {\"Project Name\": \"New Haven Court\", \"Financing_sub_cat\": \"Local Grant\", \"Interest Rate\": 3.0, \"Funding Type\": \"Permanent Financing\", \"Project Type\": \"Special Needs\", \"Amount of Funds\": 18440.0, \"State\": \"California\", \"Gov_Grant\": 1, \"debt_financing\": 0.0, \"Funding_count\": 21, \"def_project\": 0, \"bins\": \"High Number of Financing Sources\", \"State_Housing_Credit_Equity\": 0}, {\"Project Name\": \"New Haven Court\", \"Financing_sub_cat\": \"Local Grant\", \"Interest Rate\": 3.0, \"Funding Type\": \"Permanent Financing\", \"Project Type\": \"Special Needs\", \"Amount of Funds\": 103080.0, \"State\": \"California\", \"Gov_Grant\": 1, \"debt_financing\": 0.0, \"Funding_count\": 21, \"def_project\": 0, \"bins\": \"High Number of Financing Sources\", \"State_Housing_Credit_Equity\": 0}, {\"Project Name\": \"New Haven Court\", \"Financing_sub_cat\": \"Local Grant\", \"Interest Rate\": 3.0, \"Funding Type\": \"Permanent Financing\", \"Project Type\": \"Special Needs\", \"Amount of Funds\": 54042.0, \"State\": \"California\", \"Gov_Grant\": 1, \"debt_financing\": 0.0, \"Funding_count\": 21, \"def_project\": 0, \"bins\": \"High Number of Financing Sources\", \"State_Housing_Credit_Equity\": 0}, {\"Project Name\": \"El Monte Metro\", \"Financing_sub_cat\": \"Bank Loan\", \"Interest Rate\": 5.75, \"Funding Type\": \"Construction Financing\", \"Project Type\": \"Family\", \"Amount of Funds\": 12500000.0, \"State\": \"California\", \"Gov_Grant\": 0, \"debt_financing\": 1.0, \"Funding_count\": 7, \"def_project\": 1, \"bins\": \"Low Number of Financing Sources\", \"State_Housing_Credit_Equity\": 0}, {\"Project Name\": \"El Monte Metro\", \"Financing_sub_cat\": \"Other\", \"Interest Rate\": null, \"Funding Type\": \"Construction Financing\", \"Project Type\": \"Family\", \"Amount of Funds\": 1360062.0, \"State\": \"California\", \"Gov_Grant\": 0, \"debt_financing\": null, \"Funding_count\": 7, \"def_project\": 1, \"bins\": \"Low Number of Financing Sources\", \"State_Housing_Credit_Equity\": 0}, {\"Project Name\": \"El Monte Metro\", \"Financing_sub_cat\": \"Local Grant\", \"Interest Rate\": null, \"Funding Type\": \"Construction Financing\", \"Project Type\": \"Family\", \"Amount of Funds\": 1489600.0, \"State\": \"California\", \"Gov_Grant\": 1, \"debt_financing\": 0.0, \"Funding_count\": 7, \"def_project\": 1, \"bins\": \"Low Number of Financing Sources\", \"State_Housing_Credit_Equity\": 0}, {\"Project Name\": \"El Monte Metro\", \"Financing_sub_cat\": \"Deferred Developer Fee\", \"Interest Rate\": null, \"Funding Type\": \"Construction Financing\", \"Project Type\": \"Family\", \"Amount of Funds\": 2110902.0, \"State\": \"California\", \"Gov_Grant\": 0, \"debt_financing\": 0.0, \"Funding_count\": 7, \"def_project\": 1, \"bins\": \"Low Number of Financing Sources\", \"State_Housing_Credit_Equity\": 0}, {\"Project Name\": \"El Monte Metro\", \"Financing_sub_cat\": \"Bank Loan\", \"Interest Rate\": 6.5, \"Funding Type\": \"Permanent Financing\", \"Project Type\": \"Family\", \"Amount of Funds\": 1161274.0, \"State\": \"California\", \"Gov_Grant\": 0, \"debt_financing\": 1.0, \"Funding_count\": 7, \"def_project\": 1, \"bins\": \"Low Number of Financing Sources\", \"State_Housing_Credit_Equity\": 0}, {\"Project Name\": \"El Monte Metro\", \"Financing_sub_cat\": \"Local Grant\", \"Interest Rate\": null, \"Funding Type\": \"Permanent Financing\", \"Project Type\": \"Family\", \"Amount of Funds\": 1489600.0, \"State\": \"California\", \"Gov_Grant\": 1, \"debt_financing\": 0.0, \"Funding_count\": 7, \"def_project\": 1, \"bins\": \"Low Number of Financing Sources\", \"State_Housing_Credit_Equity\": 0}, {\"Project Name\": \"El Monte Metro\", \"Financing_sub_cat\": \"Local Grant\", \"Interest Rate\": null, \"Funding Type\": \"Permanent Financing\", \"Project Type\": \"Family\", \"Amount of Funds\": 600000.0, \"State\": \"California\", \"Gov_Grant\": 1, \"debt_financing\": 0.0, \"Funding_count\": 7, \"def_project\": 1, \"bins\": \"Low Number of Financing Sources\", \"State_Housing_Credit_Equity\": 0}, {\"Project Name\": \"El Monte Metro\", \"Financing_sub_cat\": \"Deferred Developer Fee\", \"Interest Rate\": null, \"Funding Type\": \"Permanent Financing\", \"Project Type\": \"Family\", \"Amount of Funds\": 609072.0, \"State\": \"California\", \"Gov_Grant\": 0, \"debt_financing\": 0.0, \"Funding_count\": 7, \"def_project\": 1, \"bins\": \"Low Number of Financing Sources\", \"State_Housing_Credit_Equity\": 0}, {\"Project Name\": \"Blairs-School\", \"Financing_sub_cat\": \"Bank Loan\", \"Interest Rate\": null, \"Funding Type\": \"Construction Financing\", \"Project Type\": null, \"Amount of Funds\": 6350000.0, \"State\": \"Virginia\", \"Gov_Grant\": 0, \"debt_financing\": 1.0, \"Funding_count\": 4, \"def_project\": 0, \"bins\": \"Low Number of Financing Sources\", \"State_Housing_Credit_Equity\": 0}, {\"Project Name\": \"Blairs-School\", \"Financing_sub_cat\": \"State Grant\", \"Interest Rate\": 2.95, \"Funding Type\": \"Permanent Financing\", \"Project Type\": null, \"Amount of Funds\": 1000000.0, \"State\": \"Virginia\", \"Gov_Grant\": 1, \"debt_financing\": 0.0, \"Funding_count\": 4, \"def_project\": 0, \"bins\": \"Low Number of Financing Sources\", \"State_Housing_Credit_Equity\": 0}, {\"Project Name\": \"Blairs-School\", \"Financing_sub_cat\": \"Public Private Partnership\", \"Interest Rate\": 6.5, \"Funding Type\": \"Permanent Financing\", \"Project Type\": null, \"Amount of Funds\": 450000.0, \"State\": \"Virginia\", \"Gov_Grant\": 0, \"debt_financing\": 0.0, \"Funding_count\": 4, \"def_project\": 0, \"bins\": \"Low Number of Financing Sources\", \"State_Housing_Credit_Equity\": 0}, {\"Project Name\": \"Blairs-School\", \"Financing_sub_cat\": \"Land Donation\", \"Interest Rate\": null, \"Funding Type\": \"Subsidized Financing\", \"Project Type\": null, \"Amount of Funds\": 530483.0, \"State\": \"Virginia\", \"Gov_Grant\": 0, \"debt_financing\": 0.0, \"Funding_count\": 4, \"def_project\": 0, \"bins\": \"Low Number of Financing Sources\", \"State_Housing_Credit_Equity\": 0}, {\"Project Name\": \"Fairlington-Presbyterian\", \"Financing_sub_cat\": \"Bank Loan\", \"Interest Rate\": 4.23, \"Funding Type\": \"Permanent Financing\", \"Project Type\": null, \"Amount of Funds\": 9796000.0, \"State\": \"Virginia\", \"Gov_Grant\": 0, \"debt_financing\": 1.0, \"Funding_count\": 2, \"def_project\": 0, \"bins\": \"Low Number of Financing Sources\", \"State_Housing_Credit_Equity\": 0}, {\"Project Name\": \"Fairlington-Presbyterian\", \"Financing_sub_cat\": \"Local Grant\", \"Interest Rate\": 1.0, \"Funding Type\": \"Permanent Financing\", \"Project Type\": null, \"Amount of Funds\": 7650000.0, \"State\": \"Virginia\", \"Gov_Grant\": 1, \"debt_financing\": 0.0, \"Funding_count\": 2, \"def_project\": 0, \"bins\": \"Low Number of Financing Sources\", \"State_Housing_Credit_Equity\": 0}, {\"Project Name\": \"Groom-School\", \"Financing_sub_cat\": \"Bank Loan\", \"Interest Rate\": null, \"Funding Type\": \"Construction Financing\", \"Project Type\": null, \"Amount of Funds\": 5000000.0, \"State\": \"Virginia\", \"Gov_Grant\": 0, \"debt_financing\": 1.0, \"Funding_count\": 4, \"def_project\": 0, \"bins\": \"Low Number of Financing Sources\", \"State_Housing_Credit_Equity\": 0}, {\"Project Name\": \"Groom-School\", \"Financing_sub_cat\": \"State Grant\", \"Interest Rate\": 2.95, \"Funding Type\": \"Permanent Financing\", \"Project Type\": null, \"Amount of Funds\": 1200000.0, \"State\": \"Virginia\", \"Gov_Grant\": 1, \"debt_financing\": 0.0, \"Funding_count\": 4, \"def_project\": 0, \"bins\": \"Low Number of Financing Sources\", \"State_Housing_Credit_Equity\": 0}, {\"Project Name\": \"Groom-School\", \"Financing_sub_cat\": \"State Grant\", \"Interest Rate\": 3.0, \"Funding Type\": \"Permanent Financing\", \"Project Type\": null, \"Amount of Funds\": 450000.0, \"State\": \"Virginia\", \"Gov_Grant\": 1, \"debt_financing\": 0.0, \"Funding_count\": 4, \"def_project\": 0, \"bins\": \"Low Number of Financing Sources\", \"State_Housing_Credit_Equity\": 0}, {\"Project Name\": \"Groom-School\", \"Financing_sub_cat\": \"Local Grant\", \"Interest Rate\": 0.0, \"Funding Type\": \"Permanent Financing\", \"Project Type\": null, \"Amount of Funds\": 197500.0, \"State\": \"Virginia\", \"Gov_Grant\": 1, \"debt_financing\": 0.0, \"Funding_count\": 4, \"def_project\": 0, \"bins\": \"Low Number of Financing Sources\", \"State_Housing_Credit_Equity\": 0}, {\"Project Name\": \"Crescent-Halls\", \"Financing_sub_cat\": \"Other\", \"Interest Rate\": null, \"Funding Type\": \"Construction Financing\", \"Project Type\": null, \"Amount of Funds\": null, \"State\": \"Virginia\", \"Gov_Grant\": 0, \"debt_financing\": null, \"Funding_count\": 6, \"def_project\": 0, \"bins\": \"Low Number of Financing Sources\", \"State_Housing_Credit_Equity\": 0}, {\"Project Name\": \"Crescent-Halls\", \"Financing_sub_cat\": \"State Grant\", \"Interest Rate\": 0.5, \"Funding Type\": \"Permanent Financing\", \"Project Type\": null, \"Amount of Funds\": 3000000.0, \"State\": \"Virginia\", \"Gov_Grant\": 1, \"debt_financing\": 0.0, \"Funding_count\": 6, \"def_project\": 0, \"bins\": \"Low Number of Financing Sources\", \"State_Housing_Credit_Equity\": 0}, {\"Project Name\": \"Crescent-Halls\", \"Financing_sub_cat\": \"State Grant\", \"Interest Rate\": 1.0, \"Funding Type\": \"Permanent Financing\", \"Project Type\": null, \"Amount of Funds\": 800000.0, \"State\": \"Virginia\", \"Gov_Grant\": 1, \"debt_financing\": 0.0, \"Funding_count\": 6, \"def_project\": 0, \"bins\": \"Low Number of Financing Sources\", \"State_Housing_Credit_Equity\": 0}, {\"Project Name\": \"Crescent-Halls\", \"Financing_sub_cat\": \"Federal Home Loan Bank\", \"Interest Rate\": 0.0, \"Funding Type\": \"Permanent Financing\", \"Project Type\": null, \"Amount of Funds\": 500000.0, \"State\": \"Virginia\", \"Gov_Grant\": 0, \"debt_financing\": 0.0, \"Funding_count\": 6, \"def_project\": 0, \"bins\": \"Low Number of Financing Sources\", \"State_Housing_Credit_Equity\": 0}, {\"Project Name\": \"Crescent-Halls\", \"Financing_sub_cat\": \"Local Grant\", \"Interest Rate\": 0.0, \"Funding Type\": \"Permanent Financing\", \"Project Type\": null, \"Amount of Funds\": 1875000.0, \"State\": \"Virginia\", \"Gov_Grant\": 1, \"debt_financing\": 0.0, \"Funding_count\": 6, \"def_project\": 0, \"bins\": \"Low Number of Financing Sources\", \"State_Housing_Credit_Equity\": 0}, {\"Project Name\": \"Crescent-Halls\", \"Financing_sub_cat\": \"Local Grant\", \"Interest Rate\": 0.0, \"Funding Type\": \"Permanent Financing\", \"Project Type\": null, \"Amount of Funds\": 3575245.0, \"State\": \"Virginia\", \"Gov_Grant\": 1, \"debt_financing\": 0.0, \"Funding_count\": 6, \"def_project\": 0, \"bins\": \"Low Number of Financing Sources\", \"State_Housing_Credit_Equity\": 0}, {\"Project Name\": \"Senseny-Place\", \"Financing_sub_cat\": \"State Grant\", \"Interest Rate\": null, \"Funding Type\": \"Construction Financing\", \"Project Type\": null, \"Amount of Funds\": 3558904.0, \"State\": \"Virginia\", \"Gov_Grant\": 1, \"debt_financing\": 0.0, \"Funding_count\": 4, \"def_project\": 0, \"bins\": \"Low Number of Financing Sources\", \"State_Housing_Credit_Equity\": 0}, {\"Project Name\": \"Senseny-Place\", \"Financing_sub_cat\": \"State Grant\", \"Interest Rate\": 5.0, \"Funding Type\": \"Permanent Financing\", \"Project Type\": null, \"Amount of Funds\": 1668904.0, \"State\": \"Virginia\", \"Gov_Grant\": 1, \"debt_financing\": 0.0, \"Funding_count\": 4, \"def_project\": 0, \"bins\": \"Low Number of Financing Sources\", \"State_Housing_Credit_Equity\": 0}, {\"Project Name\": \"Senseny-Place\", \"Financing_sub_cat\": \"State Grant\", \"Interest Rate\": 2.95, \"Funding Type\": \"Permanent Financing\", \"Project Type\": null, \"Amount of Funds\": 1890000.0, \"State\": \"Virginia\", \"Gov_Grant\": 1, \"debt_financing\": 0.0, \"Funding_count\": 4, \"def_project\": 0, \"bins\": \"Low Number of Financing Sources\", \"State_Housing_Credit_Equity\": 0}, {\"Project Name\": \"Senseny-Place\", \"Financing_sub_cat\": \"State Grant\", \"Interest Rate\": 1.0, \"Funding Type\": \"Permanent Financing\", \"Project Type\": null, \"Amount of Funds\": 700000.0, \"State\": \"Virginia\", \"Gov_Grant\": 1, \"debt_financing\": 0.0, \"Funding_count\": 4, \"def_project\": 0, \"bins\": \"Low Number of Financing Sources\", \"State_Housing_Credit_Equity\": 0}, {\"Project Name\": \"Post-West-Nine\", \"Financing_sub_cat\": \"Bank Loan\", \"Interest Rate\": null, \"Funding Type\": \"Construction Financing\", \"Project Type\": null, \"Amount of Funds\": 21335866.0, \"State\": \"Virginia\", \"Gov_Grant\": 0, \"debt_financing\": 1.0, \"Funding_count\": 4, \"def_project\": 0, \"bins\": \"Low Number of Financing Sources\", \"State_Housing_Credit_Equity\": 0}, {\"Project Name\": \"Post-West-Nine\", \"Financing_sub_cat\": \"State Grant\", \"Interest Rate\": 4.52, \"Funding Type\": \"Permanent Financing\", \"Project Type\": null, \"Amount of Funds\": 9627187.0, \"State\": \"Virginia\", \"Gov_Grant\": 1, \"debt_financing\": 0.0, \"Funding_count\": 4, \"def_project\": 0, \"bins\": \"Low Number of Financing Sources\", \"State_Housing_Credit_Equity\": 0}, {\"Project Name\": \"Post-West-Nine\", \"Financing_sub_cat\": \"Local Grant\", \"Interest Rate\": 1.0, \"Funding Type\": \"Permanent Financing\", \"Project Type\": null, \"Amount of Funds\": 5790000.0, \"State\": \"Virginia\", \"Gov_Grant\": 1, \"debt_financing\": 0.0, \"Funding_count\": 4, \"def_project\": 0, \"bins\": \"Low Number of Financing Sources\", \"State_Housing_Credit_Equity\": 0}, {\"Project Name\": \"Post-West-Nine\", \"Financing_sub_cat\": \"Local Grant\", \"Interest Rate\": 3.75, \"Funding Type\": \"Permanent Financing\", \"Project Type\": null, \"Amount of Funds\": 2000000.0, \"State\": \"Virginia\", \"Gov_Grant\": 1, \"debt_financing\": 0.0, \"Funding_count\": 4, \"def_project\": 0, \"bins\": \"Low Number of Financing Sources\", \"State_Housing_Credit_Equity\": 0}, {\"Project Name\": \"Mt.-Sterling\", \"Financing_sub_cat\": \"Bank Loan\", \"Interest Rate\": null, \"Funding Type\": \"Construction Financing\", \"Project Type\": null, \"Amount of Funds\": 11685783.0, \"State\": \"Virginia\", \"Gov_Grant\": 0, \"debt_financing\": 1.0, \"Funding_count\": 5, \"def_project\": 0, \"bins\": \"Low Number of Financing Sources\", \"State_Housing_Credit_Equity\": 0}, {\"Project Name\": \"Mt.-Sterling\", \"Financing_sub_cat\": \"Federal Housing Credit Equity\", \"Interest Rate\": null, \"Funding Type\": \"Construction Financing\", \"Project Type\": null, \"Amount of Funds\": 919908.0, \"State\": \"Virginia\", \"Gov_Grant\": 0, \"debt_financing\": 0.0, \"Funding_count\": 5, \"def_project\": 0, \"bins\": \"Low Number of Financing Sources\", \"State_Housing_Credit_Equity\": 0}, {\"Project Name\": \"Mt.-Sterling\", \"Financing_sub_cat\": \"State Grant\", \"Interest Rate\": 3.74, \"Funding Type\": \"Permanent Financing\", \"Project Type\": null, \"Amount of Funds\": 4996546.0, \"State\": \"Virginia\", \"Gov_Grant\": 1, \"debt_financing\": 0.0, \"Funding_count\": 5, \"def_project\": 0, \"bins\": \"Low Number of Financing Sources\", \"State_Housing_Credit_Equity\": 0}, {\"Project Name\": \"Mt.-Sterling\", \"Financing_sub_cat\": \"Local Grant\", \"Interest Rate\": 2.75, \"Funding Type\": \"Permanent Financing\", \"Project Type\": null, \"Amount of Funds\": 2380000.0, \"State\": \"Virginia\", \"Gov_Grant\": 1, \"debt_financing\": 0.0, \"Funding_count\": 5, \"def_project\": 0, \"bins\": \"Low Number of Financing Sources\", \"State_Housing_Credit_Equity\": 0}, {\"Project Name\": \"Mt.-Sterling\", \"Financing_sub_cat\": \"Local Grant\", \"Interest Rate\": null, \"Funding Type\": \"Subsidized Financing\", \"Project Type\": null, \"Amount of Funds\": 65000.0, \"State\": \"Virginia\", \"Gov_Grant\": 1, \"debt_financing\": 0.0, \"Funding_count\": 5, \"def_project\": 0, \"bins\": \"Low Number of Financing Sources\", \"State_Housing_Credit_Equity\": 0}, {\"Project Name\": \"Lassiter-Courts\", \"Financing_sub_cat\": \"Bank Loan\", \"Interest Rate\": null, \"Funding Type\": \"Construction Financing\", \"Project Type\": null, \"Amount of Funds\": 5000000.0, \"State\": \"Virginia\", \"Gov_Grant\": 0, \"debt_financing\": 1.0, \"Funding_count\": 9, \"def_project\": 0, \"bins\": \"Medium Number of Financing Sources\", \"State_Housing_Credit_Equity\": 0}, {\"Project Name\": \"Lassiter-Courts\", \"Financing_sub_cat\": \"State Grant\", \"Interest Rate\": 1.5, \"Funding Type\": \"Permanent Financing\", \"Project Type\": null, \"Amount of Funds\": 1500000.0, \"State\": \"Virginia\", \"Gov_Grant\": 1, \"debt_financing\": 0.0, \"Funding_count\": 9, \"def_project\": 0, \"bins\": \"Medium Number of Financing Sources\", \"State_Housing_Credit_Equity\": 0}, {\"Project Name\": \"Lassiter-Courts\", \"Financing_sub_cat\": \"State Grant\", \"Interest Rate\": 1.5, \"Funding Type\": \"Permanent Financing\", \"Project Type\": null, \"Amount of Funds\": 800000.0, \"State\": \"Virginia\", \"Gov_Grant\": 1, \"debt_financing\": 0.0, \"Funding_count\": 9, \"def_project\": 0, \"bins\": \"Medium Number of Financing Sources\", \"State_Housing_Credit_Equity\": 0}, {\"Project Name\": \"Lassiter-Courts\", \"Financing_sub_cat\": \"Local Grant\", \"Interest Rate\": 0.0, \"Funding Type\": \"Permanent Financing\", \"Project Type\": null, \"Amount of Funds\": 300000.0, \"State\": \"Virginia\", \"Gov_Grant\": 1, \"debt_financing\": 0.0, \"Funding_count\": 9, \"def_project\": 0, \"bins\": \"Medium Number of Financing Sources\", \"State_Housing_Credit_Equity\": 0}, {\"Project Name\": \"Lassiter-Courts\", \"Financing_sub_cat\": \"Local Grant\", \"Interest Rate\": 0.0, \"Funding Type\": \"Permanent Financing\", \"Project Type\": null, \"Amount of Funds\": 600000.0, \"State\": \"Virginia\", \"Gov_Grant\": 1, \"debt_financing\": 0.0, \"Funding_count\": 9, \"def_project\": 0, \"bins\": \"Medium Number of Financing Sources\", \"State_Housing_Credit_Equity\": 0}, {\"Project Name\": \"Lassiter-Courts\", \"Financing_sub_cat\": \"Local Grant\", \"Interest Rate\": 0.0, \"Funding Type\": \"Permanent Financing\", \"Project Type\": null, \"Amount of Funds\": 1112703.0, \"State\": \"Virginia\", \"Gov_Grant\": 1, \"debt_financing\": 0.0, \"Funding_count\": 9, \"def_project\": 0, \"bins\": \"Medium Number of Financing Sources\", \"State_Housing_Credit_Equity\": 0}, {\"Project Name\": \"Lassiter-Courts\", \"Financing_sub_cat\": \"Local Grant\", \"Interest Rate\": 0.0, \"Funding Type\": \"Permanent Financing\", \"Project Type\": null, \"Amount of Funds\": 400000.0, \"State\": \"Virginia\", \"Gov_Grant\": 1, \"debt_financing\": 0.0, \"Funding_count\": 9, \"def_project\": 0, \"bins\": \"Medium Number of Financing Sources\", \"State_Housing_Credit_Equity\": 0}, {\"Project Name\": \"Lassiter-Courts\", \"Financing_sub_cat\": \"Local Grant\", \"Interest Rate\": 0.0, \"Funding Type\": \"Permanent Financing\", \"Project Type\": null, \"Amount of Funds\": 214785.0, \"State\": \"Virginia\", \"Gov_Grant\": 1, \"debt_financing\": 0.0, \"Funding_count\": 9, \"def_project\": 0, \"bins\": \"Medium Number of Financing Sources\", \"State_Housing_Credit_Equity\": 0}, {\"Project Name\": \"Lassiter-Courts\", \"Financing_sub_cat\": \"Other\", \"Interest Rate\": null, \"Funding Type\": \"Subsidized Financing\", \"Project Type\": null, \"Amount of Funds\": null, \"State\": \"Virginia\", \"Gov_Grant\": 0, \"debt_financing\": null, \"Funding_count\": 9, \"def_project\": 0, \"bins\": \"Medium Number of Financing Sources\", \"State_Housing_Credit_Equity\": 0}, {\"Project Name\": \"Knightsbridge\", \"Financing_sub_cat\": \"Bank Loan\", \"Interest Rate\": 4.21, \"Funding Type\": \"Permanent Financing\", \"Project Type\": null, \"Amount of Funds\": 4990000.0, \"State\": \"Virginia\", \"Gov_Grant\": 0, \"debt_financing\": 1.0, \"Funding_count\": 2, \"def_project\": 0, \"bins\": \"Low Number of Financing Sources\", \"State_Housing_Credit_Equity\": 0}, {\"Project Name\": \"Knightsbridge\", \"Financing_sub_cat\": \"Local Grant\", \"Interest Rate\": 2.91, \"Funding Type\": \"Permanent Financing\", \"Project Type\": null, \"Amount of Funds\": 500000.0, \"State\": \"Virginia\", \"Gov_Grant\": 1, \"debt_financing\": 0.0, \"Funding_count\": 2, \"def_project\": 0, \"bins\": \"Low Number of Financing Sources\", \"State_Housing_Credit_Equity\": 0}, {\"Project Name\": \"Maury-River-Place\", \"Financing_sub_cat\": \"Other\", \"Interest Rate\": null, \"Funding Type\": \"Construction Financing\", \"Project Type\": null, \"Amount of Funds\": 3000000.0, \"State\": \"Virginia\", \"Gov_Grant\": 0, \"debt_financing\": null, \"Funding_count\": 4, \"def_project\": 0, \"bins\": \"Low Number of Financing Sources\", \"State_Housing_Credit_Equity\": 0}, {\"Project Name\": \"Maury-River-Place\", \"Financing_sub_cat\": \"Federal Grant\", \"Interest Rate\": 1.0, \"Funding Type\": \"Permanent Financing\", \"Project Type\": null, \"Amount of Funds\": 1212408.0, \"State\": \"Virginia\", \"Gov_Grant\": 1, \"debt_financing\": 0.0, \"Funding_count\": 4, \"def_project\": 0, \"bins\": \"Low Number of Financing Sources\", \"State_Housing_Credit_Equity\": 0}, {\"Project Name\": \"Maury-River-Place\", \"Financing_sub_cat\": \"State Grant\", \"Interest Rate\": 2.95, \"Funding Type\": \"Permanent Financing\", \"Project Type\": null, \"Amount of Funds\": 800000.0, \"State\": \"Virginia\", \"Gov_Grant\": 1, \"debt_financing\": 0.0, \"Funding_count\": 4, \"def_project\": 0, \"bins\": \"Low Number of Financing Sources\", \"State_Housing_Credit_Equity\": 0}, {\"Project Name\": \"Maury-River-Place\", \"Financing_sub_cat\": \"State Grant\", \"Interest Rate\": 5.5, \"Funding Type\": \"Permanent Financing\", \"Project Type\": null, \"Amount of Funds\": 225000.0, \"State\": \"Virginia\", \"Gov_Grant\": 1, \"debt_financing\": 0.0, \"Funding_count\": 4, \"def_project\": 0, \"bins\": \"Low Number of Financing Sources\", \"State_Housing_Credit_Equity\": 0}, {\"Project Name\": \"Market-Heights\", \"Financing_sub_cat\": \"State Grant\", \"Interest Rate\": 6.03, \"Funding Type\": \"Permanent Financing\", \"Project Type\": null, \"Amount of Funds\": 2960000.0, \"State\": \"Virginia\", \"Gov_Grant\": 1, \"debt_financing\": 0.0, \"Funding_count\": 1, \"def_project\": 0, \"bins\": \"Low Number of Financing Sources\", \"State_Housing_Credit_Equity\": 0}, {\"Project Name\": \"Cool-Lane\", \"Financing_sub_cat\": \"Other\", \"Interest Rate\": null, \"Funding Type\": \"Construction Financing\", \"Project Type\": null, \"Amount of Funds\": 9000000.0, \"State\": \"Virginia\", \"Gov_Grant\": 0, \"debt_financing\": null, \"Funding_count\": 12, \"def_project\": 0, \"bins\": \"High Number of Financing Sources\", \"State_Housing_Credit_Equity\": 0}, {\"Project Name\": \"Cool-Lane\", \"Financing_sub_cat\": \"State Housing Credit Equity\", \"Interest Rate\": 1.95, \"Funding Type\": \"Permanent Financing\", \"Project Type\": null, \"Amount of Funds\": 3675000.0, \"State\": \"Virginia\", \"Gov_Grant\": 0, \"debt_financing\": 0.0, \"Funding_count\": 12, \"def_project\": 0, \"bins\": \"High Number of Financing Sources\", \"State_Housing_Credit_Equity\": 1}, {\"Project Name\": \"Cool-Lane\", \"Financing_sub_cat\": \"State Grant\", \"Interest Rate\": 1.0, \"Funding Type\": \"Permanent Financing\", \"Project Type\": null, \"Amount of Funds\": 800000.0, \"State\": \"Virginia\", \"Gov_Grant\": 1, \"debt_financing\": 0.0, \"Funding_count\": 12, \"def_project\": 0, \"bins\": \"High Number of Financing Sources\", \"State_Housing_Credit_Equity\": 0}, {\"Project Name\": \"Cool-Lane\", \"Financing_sub_cat\": \"State Grant\", \"Interest Rate\": 1.0, \"Funding Type\": \"Permanent Financing\", \"Project Type\": null, \"Amount of Funds\": 800000.0, \"State\": \"Virginia\", \"Gov_Grant\": 1, \"debt_financing\": 0.0, \"Funding_count\": 12, \"def_project\": 0, \"bins\": \"High Number of Financing Sources\", \"State_Housing_Credit_Equity\": 0}, {\"Project Name\": \"Cool-Lane\", \"Financing_sub_cat\": \"State Grant\", \"Interest Rate\": 1.0, \"Funding Type\": \"Permanent Financing\", \"Project Type\": null, \"Amount of Funds\": 750000.0, \"State\": \"Virginia\", \"Gov_Grant\": 1, \"debt_financing\": 0.0, \"Funding_count\": 12, \"def_project\": 0, \"bins\": \"High Number of Financing Sources\", \"State_Housing_Credit_Equity\": 0}, {\"Project Name\": \"Cool-Lane\", \"Financing_sub_cat\": \"Local Grant\", \"Interest Rate\": 1.0, \"Funding Type\": \"Permanent Financing\", \"Project Type\": null, \"Amount of Funds\": 1000000.0, \"State\": \"Virginia\", \"Gov_Grant\": 1, \"debt_financing\": 0.0, \"Funding_count\": 12, \"def_project\": 0, \"bins\": \"High Number of Financing Sources\", \"State_Housing_Credit_Equity\": 0}, {\"Project Name\": \"Cool-Lane\", \"Financing_sub_cat\": \"Local Grant\", \"Interest Rate\": 1.0, \"Funding Type\": \"Permanent Financing\", \"Project Type\": null, \"Amount of Funds\": 600000.0, \"State\": \"Virginia\", \"Gov_Grant\": 1, \"debt_financing\": 0.0, \"Funding_count\": 12, \"def_project\": 0, \"bins\": \"High Number of Financing Sources\", \"State_Housing_Credit_Equity\": 0}, {\"Project Name\": \"Cool-Lane\", \"Financing_sub_cat\": \"Local Grant\", \"Interest Rate\": 1.0, \"Funding Type\": \"Permanent Financing\", \"Project Type\": null, \"Amount of Funds\": 250000.0, \"State\": \"Virginia\", \"Gov_Grant\": 1, \"debt_financing\": 0.0, \"Funding_count\": 12, \"def_project\": 0, \"bins\": \"High Number of Financing Sources\", \"State_Housing_Credit_Equity\": 0}, {\"Project Name\": \"Cool-Lane\", \"Financing_sub_cat\": \"Bank Loan\", \"Interest Rate\": 4.0, \"Funding Type\": \"Permanent Financing\", \"Project Type\": null, \"Amount of Funds\": 500000.0, \"State\": \"Virginia\", \"Gov_Grant\": 0, \"debt_financing\": 1.0, \"Funding_count\": 12, \"def_project\": 0, \"bins\": \"High Number of Financing Sources\", \"State_Housing_Credit_Equity\": 0}, {\"Project Name\": \"Cool-Lane\", \"Financing_sub_cat\": \"Public Private Partnership\", \"Interest Rate\": 4.0, \"Funding Type\": \"Permanent Financing\", \"Project Type\": null, \"Amount of Funds\": 300000.0, \"State\": \"Virginia\", \"Gov_Grant\": 0, \"debt_financing\": 0.0, \"Funding_count\": 12, \"def_project\": 0, \"bins\": \"High Number of Financing Sources\", \"State_Housing_Credit_Equity\": 0}, {\"Project Name\": \"Cool-Lane\", \"Financing_sub_cat\": \"State Housing Credit Equity\", \"Interest Rate\": 2.95, \"Funding Type\": \"Permanent Financing\", \"Project Type\": null, \"Amount of Funds\": 625000.0, \"State\": \"Virginia\", \"Gov_Grant\": 0, \"debt_financing\": 0.0, \"Funding_count\": 12, \"def_project\": 0, \"bins\": \"High Number of Financing Sources\", \"State_Housing_Credit_Equity\": 1}, {\"Project Name\": \"Cool-Lane\", \"Financing_sub_cat\": \"Land Donation\", \"Interest Rate\": null, \"Funding Type\": \"Subsidized Financing\", \"Project Type\": null, \"Amount of Funds\": 2710255.0, \"State\": \"Virginia\", \"Gov_Grant\": 0, \"debt_financing\": 0.0, \"Funding_count\": 12, \"def_project\": 0, \"bins\": \"High Number of Financing Sources\", \"State_Housing_Credit_Equity\": 0}, {\"Project Name\": \"Spratley-House\", \"Financing_sub_cat\": \"State Grant\", \"Interest Rate\": 0.5, \"Funding Type\": \"Permanent Financing\", \"Project Type\": null, \"Amount of Funds\": 700000.0, \"State\": \"Virginia\", \"Gov_Grant\": 1, \"debt_financing\": 0.0, \"Funding_count\": 3, \"def_project\": 0, \"bins\": \"Low Number of Financing Sources\", \"State_Housing_Credit_Equity\": 0}, {\"Project Name\": \"Spratley-House\", \"Financing_sub_cat\": \"State Grant\", \"Interest Rate\": 0.5, \"Funding Type\": \"Permanent Financing\", \"Project Type\": null, \"Amount of Funds\": 700000.0, \"State\": \"Virginia\", \"Gov_Grant\": 1, \"debt_financing\": 0.0, \"Funding_count\": 3, \"def_project\": 0, \"bins\": \"Low Number of Financing Sources\", \"State_Housing_Credit_Equity\": 0}, {\"Project Name\": \"Spratley-House\", \"Financing_sub_cat\": \"Local Grant\", \"Interest Rate\": 0.0, \"Funding Type\": \"Permanent Financing\", \"Project Type\": null, \"Amount of Funds\": 1305000.0, \"State\": \"Virginia\", \"Gov_Grant\": 1, \"debt_financing\": 0.0, \"Funding_count\": 3, \"def_project\": 0, \"bins\": \"Low Number of Financing Sources\", \"State_Housing_Credit_Equity\": 0}, {\"Project Name\": \"Laurel-Ridge\", \"Financing_sub_cat\": \"State Grant\", \"Interest Rate\": 5.75, \"Funding Type\": \"Permanent Financing\", \"Project Type\": null, \"Amount of Funds\": 1500000.0, \"State\": \"Virginia\", \"Gov_Grant\": 1, \"debt_financing\": 0.0, \"Funding_count\": 2, \"def_project\": 0, \"bins\": \"Low Number of Financing Sources\", \"State_Housing_Credit_Equity\": 0}, {\"Project Name\": \"Laurel-Ridge\", \"Financing_sub_cat\": \"State Grant\", \"Interest Rate\": 2.95, \"Funding Type\": \"Permanent Financing\", \"Project Type\": null, \"Amount of Funds\": 1120000.0, \"State\": \"Virginia\", \"Gov_Grant\": 1, \"debt_financing\": 0.0, \"Funding_count\": 2, \"def_project\": 0, \"bins\": \"Low Number of Financing Sources\", \"State_Housing_Credit_Equity\": 0}, {\"Project Name\": \"Arrowbrook\", \"Financing_sub_cat\": \"Bank Loan\", \"Interest Rate\": null, \"Funding Type\": \"Construction Financing\", \"Project Type\": null, \"Amount of Funds\": 24700000.0, \"State\": \"Virginia\", \"Gov_Grant\": 0, \"debt_financing\": 1.0, \"Funding_count\": 4, \"def_project\": 0, \"bins\": \"Low Number of Financing Sources\", \"State_Housing_Credit_Equity\": 0}, {\"Project Name\": \"Arrowbrook\", \"Financing_sub_cat\": \"Bank Loan\", \"Interest Rate\": 4.75, \"Funding Type\": \"Permanent Financing\", \"Project Type\": null, \"Amount of Funds\": 18200000.0, \"State\": \"Virginia\", \"Gov_Grant\": 0, \"debt_financing\": 1.0, \"Funding_count\": 4, \"def_project\": 0, \"bins\": \"Low Number of Financing Sources\", \"State_Housing_Credit_Equity\": 0}, {\"Project Name\": \"Arrowbrook\", \"Financing_sub_cat\": \"Other\", \"Interest Rate\": 2.0, \"Funding Type\": \"Permanent Financing\", \"Project Type\": null, \"Amount of Funds\": 994000.0, \"State\": \"Virginia\", \"Gov_Grant\": 0, \"debt_financing\": null, \"Funding_count\": 4, \"def_project\": 0, \"bins\": \"Low Number of Financing Sources\", \"State_Housing_Credit_Equity\": 0}, {\"Project Name\": \"Arrowbrook\", \"Financing_sub_cat\": \"Land Donation\", \"Interest Rate\": null, \"Funding Type\": \"Subsidized Financing\", \"Project Type\": null, \"Amount of Funds\": 8268000.0, \"State\": \"Virginia\", \"Gov_Grant\": 0, \"debt_financing\": 0.0, \"Funding_count\": 4, \"def_project\": 0, \"bins\": \"Low Number of Financing Sources\", \"State_Housing_Credit_Equity\": 0}, {\"Project Name\": \"Kilmarnock-Village\", \"Financing_sub_cat\": \"Federal Housing Credit Equity\", \"Interest Rate\": 2.85, \"Funding Type\": \"Permanent Financing\", \"Project Type\": null, \"Amount of Funds\": 62000.0, \"State\": \"Virginia\", \"Gov_Grant\": 0, \"debt_financing\": 0.0, \"Funding_count\": 4, \"def_project\": 0, \"bins\": \"Low Number of Financing Sources\", \"State_Housing_Credit_Equity\": 0}, {\"Project Name\": \"Kilmarnock-Village\", \"Financing_sub_cat\": \"State Grant\", \"Interest Rate\": 3.0, \"Funding Type\": \"Permanent Financing\", \"Project Type\": null, \"Amount of Funds\": 150000.0, \"State\": \"Virginia\", \"Gov_Grant\": 1, \"debt_financing\": 0.0, \"Funding_count\": 4, \"def_project\": 0, \"bins\": \"Low Number of Financing Sources\", \"State_Housing_Credit_Equity\": 0}, {\"Project Name\": \"Kilmarnock-Village\", \"Financing_sub_cat\": \"Federal Grant\", \"Interest Rate\": 1.0, \"Funding Type\": \"Permanent Financing\", \"Project Type\": null, \"Amount of Funds\": 405179.0, \"State\": \"Virginia\", \"Gov_Grant\": 1, \"debt_financing\": 0.0, \"Funding_count\": 4, \"def_project\": 0, \"bins\": \"Low Number of Financing Sources\", \"State_Housing_Credit_Equity\": 0}, {\"Project Name\": \"Kilmarnock-Village\", \"Financing_sub_cat\": \"Federal Home Loan Bank\", \"Interest Rate\": 0.0, \"Funding Type\": \"Permanent Financing\", \"Project Type\": null, \"Amount of Funds\": 300000.0, \"State\": \"Virginia\", \"Gov_Grant\": 0, \"debt_financing\": 0.0, \"Funding_count\": 4, \"def_project\": 0, \"bins\": \"Low Number of Financing Sources\", \"State_Housing_Credit_Equity\": 0}, {\"Project Name\": \"South-First-Street\", \"Financing_sub_cat\": \"Other\", \"Interest Rate\": null, \"Funding Type\": \"Construction Financing\", \"Project Type\": null, \"Amount of Funds\": null, \"State\": \"Virginia\", \"Gov_Grant\": 0, \"debt_financing\": null, \"Funding_count\": 6, \"def_project\": 0, \"bins\": \"Low Number of Financing Sources\", \"State_Housing_Credit_Equity\": 0}, {\"Project Name\": \"South-First-Street\", \"Financing_sub_cat\": \"State Grant\", \"Interest Rate\": 2.0, \"Funding Type\": \"Permanent Financing\", \"Project Type\": null, \"Amount of Funds\": 3000000.0, \"State\": \"Virginia\", \"Gov_Grant\": 1, \"debt_financing\": 0.0, \"Funding_count\": 6, \"def_project\": 0, \"bins\": \"Low Number of Financing Sources\", \"State_Housing_Credit_Equity\": 0}, {\"Project Name\": \"South-First-Street\", \"Financing_sub_cat\": \"State Grant\", \"Interest Rate\": 1.0, \"Funding Type\": \"Permanent Financing\", \"Project Type\": null, \"Amount of Funds\": 401800.0, \"State\": \"Virginia\", \"Gov_Grant\": 1, \"debt_financing\": 0.0, \"Funding_count\": 6, \"def_project\": 0, \"bins\": \"Low Number of Financing Sources\", \"State_Housing_Credit_Equity\": 0}, {\"Project Name\": \"South-First-Street\", \"Financing_sub_cat\": \"Local Grant\", \"Interest Rate\": 0.0, \"Funding Type\": \"Permanent Financing\", \"Project Type\": null, \"Amount of Funds\": 100000.0, \"State\": \"Virginia\", \"Gov_Grant\": 1, \"debt_financing\": 0.0, \"Funding_count\": 6, \"def_project\": 0, \"bins\": \"Low Number of Financing Sources\", \"State_Housing_Credit_Equity\": 0}, {\"Project Name\": \"South-First-Street\", \"Financing_sub_cat\": \"Local Grant\", \"Interest Rate\": 0.0, \"Funding Type\": \"Permanent Financing\", \"Project Type\": null, \"Amount of Funds\": 1265000.0, \"State\": \"Virginia\", \"Gov_Grant\": 1, \"debt_financing\": 0.0, \"Funding_count\": 6, \"def_project\": 0, \"bins\": \"Low Number of Financing Sources\", \"State_Housing_Credit_Equity\": 0}, {\"Project Name\": \"South-First-Street\", \"Financing_sub_cat\": \"Local Grant\", \"Interest Rate\": 0.0, \"Funding Type\": \"Permanent Financing\", \"Project Type\": null, \"Amount of Funds\": 1125000.0, \"State\": \"Virginia\", \"Gov_Grant\": 1, \"debt_financing\": 0.0, \"Funding_count\": 6, \"def_project\": 0, \"bins\": \"Low Number of Financing Sources\", \"State_Housing_Credit_Equity\": 0}, {\"Project Name\": \"Powhatan-Terrace\", \"Financing_sub_cat\": \"Other\", \"Interest Rate\": null, \"Funding Type\": \"Construction Financing\", \"Project Type\": null, \"Amount of Funds\": 4000000.0, \"State\": \"Virginia\", \"Gov_Grant\": 0, \"debt_financing\": null, \"Funding_count\": 5, \"def_project\": 0, \"bins\": \"Low Number of Financing Sources\", \"State_Housing_Credit_Equity\": 0}, {\"Project Name\": \"Powhatan-Terrace\", \"Financing_sub_cat\": \"State Grant\", \"Interest Rate\": 2.95, \"Funding Type\": \"Permanent Financing\", \"Project Type\": null, \"Amount of Funds\": 2000000.0, \"State\": \"Virginia\", \"Gov_Grant\": 1, \"debt_financing\": 0.0, \"Funding_count\": 5, \"def_project\": 0, \"bins\": \"Low Number of Financing Sources\", \"State_Housing_Credit_Equity\": 0}, {\"Project Name\": \"Powhatan-Terrace\", \"Financing_sub_cat\": \"State Grant\", \"Interest Rate\": 1.0, \"Funding Type\": \"Permanent Financing\", \"Project Type\": null, \"Amount of Funds\": 700000.0, \"State\": \"Virginia\", \"Gov_Grant\": 1, \"debt_financing\": 0.0, \"Funding_count\": 5, \"def_project\": 0, \"bins\": \"Low Number of Financing Sources\", \"State_Housing_Credit_Equity\": 0}, {\"Project Name\": \"Powhatan-Terrace\", \"Financing_sub_cat\": \"Local Grant\", \"Interest Rate\": null, \"Funding Type\": \"Grants\", \"Project Type\": null, \"Amount of Funds\": 250000.0, \"State\": \"Virginia\", \"Gov_Grant\": 1, \"debt_financing\": 0.0, \"Funding_count\": 5, \"def_project\": 0, \"bins\": \"Low Number of Financing Sources\", \"State_Housing_Credit_Equity\": 0}, {\"Project Name\": \"Powhatan-Terrace\", \"Financing_sub_cat\": \"Federal Home Loan Bank\", \"Interest Rate\": null, \"Funding Type\": \"Subsidized Financing\", \"Project Type\": null, \"Amount of Funds\": 360000.0, \"State\": \"Virginia\", \"Gov_Grant\": 0, \"debt_financing\": 0.0, \"Funding_count\": 5, \"def_project\": 0, \"bins\": \"Low Number of Financing Sources\", \"State_Housing_Credit_Equity\": 0}, {\"Project Name\": \"Poplar-Creek\", \"Financing_sub_cat\": \"Other\", \"Interest Rate\": null, \"Funding Type\": \"Construction Financing\", \"Project Type\": null, \"Amount of Funds\": null, \"State\": \"Virginia\", \"Gov_Grant\": 0, \"debt_financing\": null, \"Funding_count\": 7, \"def_project\": 0, \"bins\": \"Low Number of Financing Sources\", \"State_Housing_Credit_Equity\": 0}, {\"Project Name\": \"Poplar-Creek\", \"Financing_sub_cat\": \"State Grant\", \"Interest Rate\": 1.95, \"Funding Type\": \"Permanent Financing\", \"Project Type\": null, \"Amount of Funds\": 158000.0, \"State\": \"Virginia\", \"Gov_Grant\": 1, \"debt_financing\": 0.0, \"Funding_count\": 7, \"def_project\": 0, \"bins\": \"Low Number of Financing Sources\", \"State_Housing_Credit_Equity\": 0}, {\"Project Name\": \"Poplar-Creek\", \"Financing_sub_cat\": \"State Grant\", \"Interest Rate\": 0.5, \"Funding Type\": \"Permanent Financing\", \"Project Type\": null, \"Amount of Funds\": 700000.0, \"State\": \"Virginia\", \"Gov_Grant\": 1, \"debt_financing\": 0.0, \"Funding_count\": 7, \"def_project\": 0, \"bins\": \"Low Number of Financing Sources\", \"State_Housing_Credit_Equity\": 0}, {\"Project Name\": \"Poplar-Creek\", \"Financing_sub_cat\": \"Federal Home Loan Bank\", \"Interest Rate\": 0.0, \"Funding Type\": \"Permanent Financing\", \"Project Type\": null, \"Amount of Funds\": 250000.0, \"State\": \"Virginia\", \"Gov_Grant\": 0, \"debt_financing\": 0.0, \"Funding_count\": 7, \"def_project\": 0, \"bins\": \"Low Number of Financing Sources\", \"State_Housing_Credit_Equity\": 0}, {\"Project Name\": \"Poplar-Creek\", \"Financing_sub_cat\": \"State Grant\", \"Interest Rate\": null, \"Funding Type\": \"Grants\", \"Project Type\": null, \"Amount of Funds\": 30000.0, \"State\": \"Virginia\", \"Gov_Grant\": 1, \"debt_financing\": 0.0, \"Funding_count\": 7, \"def_project\": 0, \"bins\": \"Low Number of Financing Sources\", \"State_Housing_Credit_Equity\": 0}, {\"Project Name\": \"Poplar-Creek\", \"Financing_sub_cat\": \"Land Donation\", \"Interest Rate\": null, \"Funding Type\": \"Subsidized Financing\", \"Project Type\": null, \"Amount of Funds\": 73600.0, \"State\": \"Virginia\", \"Gov_Grant\": 0, \"debt_financing\": 0.0, \"Funding_count\": 7, \"def_project\": 0, \"bins\": \"Low Number of Financing Sources\", \"State_Housing_Credit_Equity\": 0}, {\"Project Name\": \"Poplar-Creek\", \"Financing_sub_cat\": \"Federal Home Loan Bank\", \"Interest Rate\": null, \"Funding Type\": \"Subsidized Financing\", \"Project Type\": null, \"Amount of Funds\": 160000.0, \"State\": \"Virginia\", \"Gov_Grant\": 0, \"debt_financing\": 0.0, \"Funding_count\": 7, \"def_project\": 0, \"bins\": \"Low Number of Financing Sources\", \"State_Housing_Credit_Equity\": 0}, {\"Project Name\": \"Brook-Villas\", \"Financing_sub_cat\": \"Other\", \"Interest Rate\": null, \"Funding Type\": \"Construction Financing\", \"Project Type\": null, \"Amount of Funds\": 11000000.0, \"State\": \"Virginia\", \"Gov_Grant\": 0, \"debt_financing\": null, \"Funding_count\": 2, \"def_project\": 0, \"bins\": \"Low Number of Financing Sources\", \"State_Housing_Credit_Equity\": 0}, {\"Project Name\": \"Brook-Villas\", \"Financing_sub_cat\": \"Other\", \"Interest Rate\": 5.75, \"Funding Type\": \"Permanent Financing\", \"Project Type\": null, \"Amount of Funds\": 5950000.0, \"State\": \"Virginia\", \"Gov_Grant\": 0, \"debt_financing\": null, \"Funding_count\": 2, \"def_project\": 0, \"bins\": \"Low Number of Financing Sources\", \"State_Housing_Credit_Equity\": 0}, {\"Project Name\": \"Cross-Creek\", \"Financing_sub_cat\": \"Bank Loan\", \"Interest Rate\": null, \"Funding Type\": \"Construction Financing\", \"Project Type\": null, \"Amount of Funds\": 1000000.0, \"State\": \"Virginia\", \"Gov_Grant\": 0, \"debt_financing\": 1.0, \"Funding_count\": 3, \"def_project\": 0, \"bins\": \"Low Number of Financing Sources\", \"State_Housing_Credit_Equity\": 0}, {\"Project Name\": \"Cross-Creek\", \"Financing_sub_cat\": \"Federal Grant\", \"Interest Rate\": 1.0, \"Funding Type\": \"Permanent Financing\", \"Project Type\": null, \"Amount of Funds\": 660840.0, \"State\": \"Virginia\", \"Gov_Grant\": 1, \"debt_financing\": 0.0, \"Funding_count\": 3, \"def_project\": 0, \"bins\": \"Low Number of Financing Sources\", \"State_Housing_Credit_Equity\": 0}, {\"Project Name\": \"Cross-Creek\", \"Financing_sub_cat\": \"State Grant\", \"Interest Rate\": 2.95, \"Funding Type\": \"Permanent Financing\", \"Project Type\": null, \"Amount of Funds\": 380000.0, \"State\": \"Virginia\", \"Gov_Grant\": 1, \"debt_financing\": 0.0, \"Funding_count\": 3, \"def_project\": 0, \"bins\": \"Low Number of Financing Sources\", \"State_Housing_Credit_Equity\": 0}, {\"Project Name\": \"Carlton-Views-III\", \"Financing_sub_cat\": \"Bank Loan\", \"Interest Rate\": null, \"Funding Type\": \"Construction Financing\", \"Project Type\": null, \"Amount of Funds\": 6500000.0, \"State\": \"Virginia\", \"Gov_Grant\": 0, \"debt_financing\": 1.0, \"Funding_count\": 4, \"def_project\": 0, \"bins\": \"Low Number of Financing Sources\", \"State_Housing_Credit_Equity\": 0}, {\"Project Name\": \"Carlton-Views-III\", \"Financing_sub_cat\": \"State Grant\", \"Interest Rate\": 5.75, \"Funding Type\": \"Permanent Financing\", \"Project Type\": null, \"Amount of Funds\": 500000.0, \"State\": \"Virginia\", \"Gov_Grant\": 1, \"debt_financing\": 0.0, \"Funding_count\": 4, \"def_project\": 0, \"bins\": \"Low Number of Financing Sources\", \"State_Housing_Credit_Equity\": 0}, {\"Project Name\": \"Carlton-Views-III\", \"Financing_sub_cat\": \"State Grant\", \"Interest Rate\": 2.95, \"Funding Type\": \"Permanent Financing\", \"Project Type\": null, \"Amount of Funds\": 900000.0, \"State\": \"Virginia\", \"Gov_Grant\": 1, \"debt_financing\": 0.0, \"Funding_count\": 4, \"def_project\": 0, \"bins\": \"Low Number of Financing Sources\", \"State_Housing_Credit_Equity\": 0}, {\"Project Name\": \"Carlton-Views-III\", \"Financing_sub_cat\": \"Public Private Partnership\", \"Interest Rate\": 1.95, \"Funding Type\": \"Permanent Financing\", \"Project Type\": null, \"Amount of Funds\": 1440000.0, \"State\": \"Virginia\", \"Gov_Grant\": 0, \"debt_financing\": 0.0, \"Funding_count\": 4, \"def_project\": 0, \"bins\": \"Low Number of Financing Sources\", \"State_Housing_Credit_Equity\": 0}, {\"Project Name\": \"PABP\", \"Financing_sub_cat\": \"Other\", \"Interest Rate\": null, \"Funding Type\": \"Construction Financing\", \"Project Type\": null, \"Amount of Funds\": null, \"State\": \"Virginia\", \"Gov_Grant\": 0, \"debt_financing\": null, \"Funding_count\": 3, \"def_project\": 0, \"bins\": \"Low Number of Financing Sources\", \"State_Housing_Credit_Equity\": 0}, {\"Project Name\": \"PABP\", \"Financing_sub_cat\": \"State Grant\", \"Interest Rate\": 5.75, \"Funding Type\": \"Permanent Financing\", \"Project Type\": null, \"Amount of Funds\": 2500000.0, \"State\": \"Virginia\", \"Gov_Grant\": 1, \"debt_financing\": 0.0, \"Funding_count\": 3, \"def_project\": 0, \"bins\": \"Low Number of Financing Sources\", \"State_Housing_Credit_Equity\": 0}, {\"Project Name\": \"PABP\", \"Financing_sub_cat\": \"State Grant\", \"Interest Rate\": 2.95, \"Funding Type\": \"Permanent Financing\", \"Project Type\": null, \"Amount of Funds\": 1400000.0, \"State\": \"Virginia\", \"Gov_Grant\": 1, \"debt_financing\": 0.0, \"Funding_count\": 3, \"def_project\": 0, \"bins\": \"Low Number of Financing Sources\", \"State_Housing_Credit_Equity\": 0}, {\"Project Name\": \"Daffodil-Gardens\", \"Financing_sub_cat\": \"Other\", \"Interest Rate\": null, \"Funding Type\": \"Construction Financing\", \"Project Type\": null, \"Amount of Funds\": 5000000.0, \"State\": \"Virginia\", \"Gov_Grant\": 0, \"debt_financing\": null, \"Funding_count\": 7, \"def_project\": 0, \"bins\": \"Low Number of Financing Sources\", \"State_Housing_Credit_Equity\": 0}, {\"Project Name\": \"Daffodil-Gardens\", \"Financing_sub_cat\": \"State Grant\", \"Interest Rate\": 1.5, \"Funding Type\": \"Permanent Financing\", \"Project Type\": null, \"Amount of Funds\": 1450000.0, \"State\": \"Virginia\", \"Gov_Grant\": 1, \"debt_financing\": 0.0, \"Funding_count\": 7, \"def_project\": 0, \"bins\": \"Low Number of Financing Sources\", \"State_Housing_Credit_Equity\": 0}, {\"Project Name\": \"Daffodil-Gardens\", \"Financing_sub_cat\": \"State Grant\", \"Interest Rate\": 0.5, \"Funding Type\": \"Permanent Financing\", \"Project Type\": null, \"Amount of Funds\": 700000.0, \"State\": \"Virginia\", \"Gov_Grant\": 1, \"debt_financing\": 0.0, \"Funding_count\": 7, \"def_project\": 0, \"bins\": \"Low Number of Financing Sources\", \"State_Housing_Credit_Equity\": 0}, {\"Project Name\": \"Daffodil-Gardens\", \"Financing_sub_cat\": \"State Grant\", \"Interest Rate\": 0.5, \"Funding Type\": \"Permanent Financing\", \"Project Type\": null, \"Amount of Funds\": 325000.0, \"State\": \"Virginia\", \"Gov_Grant\": 1, \"debt_financing\": 0.0, \"Funding_count\": 7, \"def_project\": 0, \"bins\": \"Low Number of Financing Sources\", \"State_Housing_Credit_Equity\": 0}, {\"Project Name\": \"Daffodil-Gardens\", \"Financing_sub_cat\": \"Federal Home Loan Bank\", \"Interest Rate\": 0.0, \"Funding Type\": \"Permanent Financing\", \"Project Type\": null, \"Amount of Funds\": 160000.0, \"State\": \"Virginia\", \"Gov_Grant\": 0, \"debt_financing\": 0.0, \"Funding_count\": 7, \"def_project\": 0, \"bins\": \"Low Number of Financing Sources\", \"State_Housing_Credit_Equity\": 0}, {\"Project Name\": \"Daffodil-Gardens\", \"Financing_sub_cat\": \"Public Private Partnership\", \"Interest Rate\": null, \"Funding Type\": \"Grants\", \"Project Type\": null, \"Amount of Funds\": 500000.0, \"State\": \"Virginia\", \"Gov_Grant\": 0, \"debt_financing\": 0.0, \"Funding_count\": 7, \"def_project\": 0, \"bins\": \"Low Number of Financing Sources\", \"State_Housing_Credit_Equity\": 0}, {\"Project Name\": \"Daffodil-Gardens\", \"Financing_sub_cat\": \"Land Donation\", \"Interest Rate\": null, \"Funding Type\": \"Subsidized Financing\", \"Project Type\": null, \"Amount of Funds\": 196328.0, \"State\": \"Virginia\", \"Gov_Grant\": 0, \"debt_financing\": 0.0, \"Funding_count\": 7, \"def_project\": 0, \"bins\": \"Low Number of Financing Sources\", \"State_Housing_Credit_Equity\": 0}, {\"Project Name\": \"Friendship-Court\", \"Financing_sub_cat\": \"State Grant\", \"Interest Rate\": 4.14, \"Funding Type\": \"Permanent Financing\", \"Project Type\": null, \"Amount of Funds\": 9196718.0, \"State\": \"Virginia\", \"Gov_Grant\": 1, \"debt_financing\": 0.0, \"Funding_count\": 3, \"def_project\": 0, \"bins\": \"Low Number of Financing Sources\", \"State_Housing_Credit_Equity\": 0}, {\"Project Name\": \"Friendship-Court\", \"Financing_sub_cat\": \"Local Grant\", \"Interest Rate\": null, \"Funding Type\": \"Permanent Financing\", \"Project Type\": null, \"Amount of Funds\": 5940000.0, \"State\": \"Virginia\", \"Gov_Grant\": 1, \"debt_financing\": 0.0, \"Funding_count\": 3, \"def_project\": 0, \"bins\": \"Low Number of Financing Sources\", \"State_Housing_Credit_Equity\": 0}, {\"Project Name\": \"Friendship-Court\", \"Financing_sub_cat\": \"Local Grant\", \"Interest Rate\": null, \"Funding Type\": \"Permanent Financing\", \"Project Type\": null, \"Amount of Funds\": 1000000.0, \"State\": \"Virginia\", \"Gov_Grant\": 1, \"debt_financing\": 0.0, \"Funding_count\": 3, \"def_project\": 0, \"bins\": \"Low Number of Financing Sources\", \"State_Housing_Credit_Equity\": 0}, {\"Project Name\": \"Holley-Point\", \"Financing_sub_cat\": \"Bank Loan\", \"Interest Rate\": null, \"Funding Type\": \"Construction Financing\", \"Project Type\": null, \"Amount of Funds\": 8200000.0, \"State\": \"Virginia\", \"Gov_Grant\": 0, \"debt_financing\": 1.0, \"Funding_count\": 3, \"def_project\": 0, \"bins\": \"Low Number of Financing Sources\", \"State_Housing_Credit_Equity\": 0}, {\"Project Name\": \"Holley-Point\", \"Financing_sub_cat\": \"Bank Loan\", \"Interest Rate\": 6.75, \"Funding Type\": \"Permanent Financing\", \"Project Type\": null, \"Amount of Funds\": 2150000.0, \"State\": \"Virginia\", \"Gov_Grant\": 0, \"debt_financing\": 1.0, \"Funding_count\": 3, \"def_project\": 0, \"bins\": \"Low Number of Financing Sources\", \"State_Housing_Credit_Equity\": 0}, {\"Project Name\": \"Holley-Point\", \"Financing_sub_cat\": \"Bank Loan\", \"Interest Rate\": null, \"Funding Type\": \"Permanent Financing\", \"Project Type\": null, \"Amount of Funds\": 105000.0, \"State\": \"Virginia\", \"Gov_Grant\": 0, \"debt_financing\": 1.0, \"Funding_count\": 3, \"def_project\": 0, \"bins\": \"Low Number of Financing Sources\", \"State_Housing_Credit_Equity\": 0}, {\"Project Name\": \"Brady-Square\", \"Financing_sub_cat\": \"Bank Loan\", \"Interest Rate\": null, \"Funding Type\": \"Construction Financing\", \"Project Type\": null, \"Amount of Funds\": 10000000.0, \"State\": \"Virginia\", \"Gov_Grant\": 0, \"debt_financing\": 1.0, \"Funding_count\": 3, \"def_project\": 0, \"bins\": \"Low Number of Financing Sources\", \"State_Housing_Credit_Equity\": 0}, {\"Project Name\": \"Brady-Square\", \"Financing_sub_cat\": \"State Grant\", \"Interest Rate\": 2.95, \"Funding Type\": \"Permanent Financing\", \"Project Type\": null, \"Amount of Funds\": 1320000.0, \"State\": \"Virginia\", \"Gov_Grant\": 1, \"debt_financing\": 0.0, \"Funding_count\": 3, \"def_project\": 0, \"bins\": \"Low Number of Financing Sources\", \"State_Housing_Credit_Equity\": 0}, {\"Project Name\": \"Brady-Square\", \"Financing_sub_cat\": \"Public Private Partnership\", \"Interest Rate\": 5.5, \"Funding Type\": \"Permanent Financing\", \"Project Type\": null, \"Amount of Funds\": 2775000.0, \"State\": \"Virginia\", \"Gov_Grant\": 0, \"debt_financing\": 0.0, \"Funding_count\": 3, \"def_project\": 0, \"bins\": \"Low Number of Financing Sources\", \"State_Housing_Credit_Equity\": 0}, {\"Project Name\": \"SheltonGardens\", \"Financing_sub_cat\": \"Tax Credit\", \"Interest Rate\": null, \"Funding Type\": \"Construction Financing\", \"Project Type\": \"Family\", \"Amount of Funds\": 4135172.8, \"State\": \"Ohio\", \"Gov_Grant\": 0, \"debt_financing\": 0.0, \"Funding_count\": 8, \"def_project\": 1, \"bins\": \"Low Number of Financing Sources\", \"State_Housing_Credit_Equity\": 0}, {\"Project Name\": \"SheltonGardens\", \"Financing_sub_cat\": \"Deferred Developer Fee\", \"Interest Rate\": null, \"Funding Type\": \"Construction Financing\", \"Project Type\": \"Family\", \"Amount of Funds\": 1800000.0, \"State\": \"Ohio\", \"Gov_Grant\": 0, \"debt_financing\": 0.0, \"Funding_count\": 8, \"def_project\": 1, \"bins\": \"Low Number of Financing Sources\", \"State_Housing_Credit_Equity\": 0}, {\"Project Name\": \"SheltonGardens\", \"Financing_sub_cat\": \"Bank Loan\", \"Interest Rate\": null, \"Funding Type\": \"Construction Financing\", \"Project Type\": \"Family\", \"Amount of Funds\": 5200000.0, \"State\": \"Ohio\", \"Gov_Grant\": 0, \"debt_financing\": 1.0, \"Funding_count\": 8, \"def_project\": 1, \"bins\": \"Low Number of Financing Sources\", \"State_Housing_Credit_Equity\": 0}, {\"Project Name\": \"SheltonGardens\", \"Financing_sub_cat\": \"Other\", \"Interest Rate\": null, \"Funding Type\": \"Construction Financing\", \"Project Type\": \"Family\", \"Amount of Funds\": 599442.2, \"State\": \"Ohio\", \"Gov_Grant\": 0, \"debt_financing\": null, \"Funding_count\": 8, \"def_project\": 1, \"bins\": \"Low Number of Financing Sources\", \"State_Housing_Credit_Equity\": 0}, {\"Project Name\": \"SheltonGardens\", \"Financing_sub_cat\": \"Other\", \"Interest Rate\": null, \"Funding Type\": \"Construction Financing\", \"Project Type\": \"Family\", \"Amount of Funds\": 1250000.0, \"State\": \"Ohio\", \"Gov_Grant\": 0, \"debt_financing\": null, \"Funding_count\": 8, \"def_project\": 1, \"bins\": \"Low Number of Financing Sources\", \"State_Housing_Credit_Equity\": 0}, {\"Project Name\": \"SheltonGardens\", \"Financing_sub_cat\": \"Tax Credit\", \"Interest Rate\": null, \"Funding Type\": \"Permanent Financing\", \"Project Type\": \"Family\", \"Amount of Funds\": 7518496.0, \"State\": \"Ohio\", \"Gov_Grant\": 0, \"debt_financing\": 0.0, \"Funding_count\": 8, \"def_project\": 1, \"bins\": \"Low Number of Financing Sources\", \"State_Housing_Credit_Equity\": 0}, {\"Project Name\": \"SheltonGardens\", \"Financing_sub_cat\": \"Deferred Developer Fee\", \"Interest Rate\": null, \"Funding Type\": \"Permanent Financing\", \"Project Type\": \"Family\", \"Amount of Funds\": 266119.0, \"State\": \"Ohio\", \"Gov_Grant\": 0, \"debt_financing\": 0.0, \"Funding_count\": 8, \"def_project\": 1, \"bins\": \"Low Number of Financing Sources\", \"State_Housing_Credit_Equity\": 0}, {\"Project Name\": \"SheltonGardens\", \"Financing_sub_cat\": \"Bank Loan\", \"Interest Rate\": null, \"Funding Type\": \"Permanent Financing\", \"Project Type\": \"Family\", \"Amount of Funds\": 5200000.0, \"State\": \"Ohio\", \"Gov_Grant\": 0, \"debt_financing\": 1.0, \"Funding_count\": 8, \"def_project\": 1, \"bins\": \"Low Number of Financing Sources\", \"State_Housing_Credit_Equity\": 0}, {\"Project Name\": \"JenkinsStreetLofts\", \"Financing_sub_cat\": \"Tax Credit\", \"Interest Rate\": null, \"Funding Type\": \"Construction Financing\", \"Project Type\": \"Family\", \"Amount of Funds\": 279220.0, \"State\": \"Ohio\", \"Gov_Grant\": 0, \"debt_financing\": 0.0, \"Funding_count\": 12, \"def_project\": 1, \"bins\": \"High Number of Financing Sources\", \"State_Housing_Credit_Equity\": 0}, {\"Project Name\": \"JenkinsStreetLofts\", \"Financing_sub_cat\": \"State Housing Credit Equity\", \"Interest Rate\": null, \"Funding Type\": \"Construction Financing\", \"Project Type\": \"Family\", \"Amount of Funds\": 300000.0, \"State\": \"Ohio\", \"Gov_Grant\": 0, \"debt_financing\": 0.0, \"Funding_count\": 12, \"def_project\": 1, \"bins\": \"High Number of Financing Sources\", \"State_Housing_Credit_Equity\": 1}, {\"Project Name\": \"JenkinsStreetLofts\", \"Financing_sub_cat\": \"Deferred Developer Fee\", \"Interest Rate\": null, \"Funding Type\": \"Construction Financing\", \"Project Type\": \"Family\", \"Amount of Funds\": 1709563.0, \"State\": \"Ohio\", \"Gov_Grant\": 0, \"debt_financing\": 0.0, \"Funding_count\": 12, \"def_project\": 1, \"bins\": \"High Number of Financing Sources\", \"State_Housing_Credit_Equity\": 0}, {\"Project Name\": \"JenkinsStreetLofts\", \"Financing_sub_cat\": \"Bank Loan\", \"Interest Rate\": null, \"Funding Type\": \"Construction Financing\", \"Project Type\": \"Family\", \"Amount of Funds\": 5960000.0, \"State\": \"Ohio\", \"Gov_Grant\": 0, \"debt_financing\": 1.0, \"Funding_count\": 12, \"def_project\": 1, \"bins\": \"High Number of Financing Sources\", \"State_Housing_Credit_Equity\": 0}, {\"Project Name\": \"JenkinsStreetLofts\", \"Financing_sub_cat\": \"Other\", \"Interest Rate\": null, \"Funding Type\": \"Construction Financing\", \"Project Type\": \"Family\", \"Amount of Funds\": 500000.0, \"State\": \"Ohio\", \"Gov_Grant\": 0, \"debt_financing\": null, \"Funding_count\": 12, \"def_project\": 1, \"bins\": \"High Number of Financing Sources\", \"State_Housing_Credit_Equity\": 0}, {\"Project Name\": \"JenkinsStreetLofts\", \"Financing_sub_cat\": \"Other\", \"Interest Rate\": null, \"Funding Type\": \"Construction Financing\", \"Project Type\": \"Family\", \"Amount of Funds\": 1250000.0, \"State\": \"Ohio\", \"Gov_Grant\": 0, \"debt_financing\": null, \"Funding_count\": 12, \"def_project\": 1, \"bins\": \"High Number of Financing Sources\", \"State_Housing_Credit_Equity\": 0}, {\"Project Name\": \"JenkinsStreetLofts\", \"Financing_sub_cat\": \"Other\", \"Interest Rate\": null, \"Funding Type\": \"Construction Financing\", \"Project Type\": \"Family\", \"Amount of Funds\": 2000000.0, \"State\": \"Ohio\", \"Gov_Grant\": 0, \"debt_financing\": null, \"Funding_count\": 12, \"def_project\": 1, \"bins\": \"High Number of Financing Sources\", \"State_Housing_Credit_Equity\": 0}, {\"Project Name\": \"JenkinsStreetLofts\", \"Financing_sub_cat\": \"Tax Credit\", \"Interest Rate\": null, \"Funding Type\": \"Permanent Financing\", \"Project Type\": \"Family\", \"Amount of Funds\": 8717639.0, \"State\": \"Ohio\", \"Gov_Grant\": 0, \"debt_financing\": 0.0, \"Funding_count\": 12, \"def_project\": 1, \"bins\": \"High Number of Financing Sources\", \"State_Housing_Credit_Equity\": 0}, {\"Project Name\": \"JenkinsStreetLofts\", \"Financing_sub_cat\": \"State Housing Credit Equity\", \"Interest Rate\": null, \"Funding Type\": \"Permanent Financing\", \"Project Type\": \"Family\", \"Amount of Funds\": 300000.0, \"State\": \"Ohio\", \"Gov_Grant\": 0, \"debt_financing\": 0.0, \"Funding_count\": 12, \"def_project\": 1, \"bins\": \"High Number of Financing Sources\", \"State_Housing_Credit_Equity\": 1}, {\"Project Name\": \"JenkinsStreetLofts\", \"Financing_sub_cat\": \"Deferred Developer Fee\", \"Interest Rate\": null, \"Funding Type\": \"Permanent Financing\", \"Project Type\": \"Family\", \"Amount of Funds\": 56144.0, \"State\": \"Ohio\", \"Gov_Grant\": 0, \"debt_financing\": 0.0, \"Funding_count\": 12, \"def_project\": 1, \"bins\": \"High Number of Financing Sources\", \"State_Housing_Credit_Equity\": 0}, {\"Project Name\": \"JenkinsStreetLofts\", \"Financing_sub_cat\": \"Bank Loan\", \"Interest Rate\": null, \"Funding Type\": \"Permanent Financing\", \"Project Type\": \"Family\", \"Amount of Funds\": 2425000.0, \"State\": \"Ohio\", \"Gov_Grant\": 0, \"debt_financing\": 1.0, \"Funding_count\": 12, \"def_project\": 1, \"bins\": \"High Number of Financing Sources\", \"State_Housing_Credit_Equity\": 0}, {\"Project Name\": \"JenkinsStreetLofts\", \"Financing_sub_cat\": \"Other\", \"Interest Rate\": null, \"Funding Type\": \"Permanent Financing\", \"Project Type\": \"Family\", \"Amount of Funds\": 500000.0, \"State\": \"Ohio\", \"Gov_Grant\": 0, \"debt_financing\": null, \"Funding_count\": 12, \"def_project\": 1, \"bins\": \"High Number of Financing Sources\", \"State_Housing_Credit_Equity\": 0}, {\"Project Name\": \"EasternWoodsSenior\", \"Financing_sub_cat\": \"Tax Credit\", \"Interest Rate\": null, \"Funding Type\": \"Construction Financing\", \"Project Type\": \"Seniors\", \"Amount of Funds\": 2941056.0, \"State\": \"Ohio\", \"Gov_Grant\": 0, \"debt_financing\": 0.0, \"Funding_count\": 8, \"def_project\": 0, \"bins\": \"Low Number of Financing Sources\", \"State_Housing_Credit_Equity\": 0}, {\"Project Name\": \"EasternWoodsSenior\", \"Financing_sub_cat\": \"Bank Loan\", \"Interest Rate\": null, \"Funding Type\": \"Construction Financing\", \"Project Type\": \"Seniors\", \"Amount of Funds\": 2919229.0, \"State\": \"Ohio\", \"Gov_Grant\": 0, \"debt_financing\": 1.0, \"Funding_count\": 8, \"def_project\": 0, \"bins\": \"Low Number of Financing Sources\", \"State_Housing_Credit_Equity\": 0}, {\"Project Name\": \"EasternWoodsSenior\", \"Financing_sub_cat\": \"Other\", \"Interest Rate\": null, \"Funding Type\": \"Construction Financing\", \"Project Type\": \"Seniors\", \"Amount of Funds\": 500000.0, \"State\": \"Ohio\", \"Gov_Grant\": 0, \"debt_financing\": null, \"Funding_count\": 8, \"def_project\": 0, \"bins\": \"Low Number of Financing Sources\", \"State_Housing_Credit_Equity\": 0}, {\"Project Name\": \"EasternWoodsSenior\", \"Financing_sub_cat\": \"Other\", \"Interest Rate\": null, \"Funding Type\": \"Construction Financing\", \"Project Type\": \"Seniors\", \"Amount of Funds\": 1250000.0, \"State\": \"Ohio\", \"Gov_Grant\": 0, \"debt_financing\": null, \"Funding_count\": 8, \"def_project\": 0, \"bins\": \"Low Number of Financing Sources\", \"State_Housing_Credit_Equity\": 0}, {\"Project Name\": \"EasternWoodsSenior\", \"Financing_sub_cat\": \"Other\", \"Interest Rate\": null, \"Funding Type\": \"Construction Financing\", \"Project Type\": \"Seniors\", \"Amount of Funds\": 1268935.0, \"State\": \"Ohio\", \"Gov_Grant\": 0, \"debt_financing\": null, \"Funding_count\": 8, \"def_project\": 0, \"bins\": \"Low Number of Financing Sources\", \"State_Housing_Credit_Equity\": 0}, {\"Project Name\": \"EasternWoodsSenior\", \"Financing_sub_cat\": \"Tax Credit\", \"Interest Rate\": null, \"Funding Type\": \"Permanent Financing\", \"Project Type\": \"Seniors\", \"Amount of Funds\": 7352640.0, \"State\": \"Ohio\", \"Gov_Grant\": 0, \"debt_financing\": 0.0, \"Funding_count\": 8, \"def_project\": 0, \"bins\": \"Low Number of Financing Sources\", \"State_Housing_Credit_Equity\": 0}, {\"Project Name\": \"EasternWoodsSenior\", \"Financing_sub_cat\": \"Bank Loan\", \"Interest Rate\": null, \"Funding Type\": \"Permanent Financing\", \"Project Type\": \"Seniors\", \"Amount of Funds\": 1026580.0, \"State\": \"Ohio\", \"Gov_Grant\": 0, \"debt_financing\": 1.0, \"Funding_count\": 8, \"def_project\": 0, \"bins\": \"Low Number of Financing Sources\", \"State_Housing_Credit_Equity\": 0}, {\"Project Name\": \"EasternWoodsSenior\", \"Financing_sub_cat\": \"Other\", \"Interest Rate\": null, \"Funding Type\": \"Permanent Financing\", \"Project Type\": \"Seniors\", \"Amount of Funds\": 500000.0, \"State\": \"Ohio\", \"Gov_Grant\": 0, \"debt_financing\": null, \"Funding_count\": 8, \"def_project\": 0, \"bins\": \"Low Number of Financing Sources\", \"State_Housing_Credit_Equity\": 0}, {\"Project Name\": \"CarpenterHall\", \"Financing_sub_cat\": \"Tax Credit\", \"Interest Rate\": null, \"Funding Type\": \"Construction Financing\", \"Project Type\": \"Family\", \"Amount of Funds\": 130505.0, \"State\": \"Ohio\", \"Gov_Grant\": 0, \"debt_financing\": 0.0, \"Funding_count\": 20, \"def_project\": 1, \"bins\": \"High Number of Financing Sources\", \"State_Housing_Credit_Equity\": 0}, {\"Project Name\": \"CarpenterHall\", \"Financing_sub_cat\": \"Deferred Developer Fee\", \"Interest Rate\": null, \"Funding Type\": \"Construction Financing\", \"Project Type\": \"Family\", \"Amount of Funds\": 1187000.0, \"State\": \"Ohio\", \"Gov_Grant\": 0, \"debt_financing\": 0.0, \"Funding_count\": 20, \"def_project\": 1, \"bins\": \"High Number of Financing Sources\", \"State_Housing_Credit_Equity\": 0}, {\"Project Name\": \"CarpenterHall\", \"Financing_sub_cat\": \"Bank Loan\", \"Interest Rate\": null, \"Funding Type\": \"Construction Financing\", \"Project Type\": \"Family\", \"Amount of Funds\": 4500000.0, \"State\": \"Ohio\", \"Gov_Grant\": 0, \"debt_financing\": 1.0, \"Funding_count\": 20, \"def_project\": 1, \"bins\": \"High Number of Financing Sources\", \"State_Housing_Credit_Equity\": 0}, {\"Project Name\": \"CarpenterHall\", \"Financing_sub_cat\": \"Other\", \"Interest Rate\": null, \"Funding Type\": \"Construction Financing\", \"Project Type\": \"Family\", \"Amount of Funds\": 500000.0, \"State\": \"Ohio\", \"Gov_Grant\": 0, \"debt_financing\": null, \"Funding_count\": 20, \"def_project\": 1, \"bins\": \"High Number of Financing Sources\", \"State_Housing_Credit_Equity\": 0}, {\"Project Name\": \"CarpenterHall\", \"Financing_sub_cat\": \"Other\", \"Interest Rate\": null, \"Funding Type\": \"Construction Financing\", \"Project Type\": \"Family\", \"Amount of Funds\": 132500.0, \"State\": \"Ohio\", \"Gov_Grant\": 0, \"debt_financing\": null, \"Funding_count\": 20, \"def_project\": 1, \"bins\": \"High Number of Financing Sources\", \"State_Housing_Credit_Equity\": 0}, {\"Project Name\": \"CarpenterHall\", \"Financing_sub_cat\": \"Other\", \"Interest Rate\": null, \"Funding Type\": \"Construction Financing\", \"Project Type\": \"Family\", \"Amount of Funds\": 1250000.0, \"State\": \"Ohio\", \"Gov_Grant\": 0, \"debt_financing\": null, \"Funding_count\": 20, \"def_project\": 1, \"bins\": \"High Number of Financing Sources\", \"State_Housing_Credit_Equity\": 0}, {\"Project Name\": \"CarpenterHall\", \"Financing_sub_cat\": \"Tax Credit\", \"Interest Rate\": null, \"Funding Type\": \"Permanent Financing\", \"Project Type\": \"Family\", \"Amount of Funds\": 4920005.0, \"State\": \"Ohio\", \"Gov_Grant\": 0, \"debt_financing\": 0.0, \"Funding_count\": 20, \"def_project\": 1, \"bins\": \"High Number of Financing Sources\", \"State_Housing_Credit_Equity\": 0}, {\"Project Name\": \"CarpenterHall\", \"Financing_sub_cat\": \"Bank Loan\", \"Interest Rate\": null, \"Funding Type\": \"Permanent Financing\", \"Project Type\": \"Family\", \"Amount of Funds\": 1750000.0, \"State\": \"Ohio\", \"Gov_Grant\": 0, \"debt_financing\": 1.0, \"Funding_count\": 20, \"def_project\": 1, \"bins\": \"High Number of Financing Sources\", \"State_Housing_Credit_Equity\": 0}, {\"Project Name\": \"CarpenterHall\", \"Financing_sub_cat\": \"Other\", \"Interest Rate\": null, \"Funding Type\": \"Permanent Financing\", \"Project Type\": \"Family\", \"Amount of Funds\": 500000.0, \"State\": \"Ohio\", \"Gov_Grant\": 0, \"debt_financing\": null, \"Funding_count\": 20, \"def_project\": 1, \"bins\": \"High Number of Financing Sources\", \"State_Housing_Credit_Equity\": 0}, {\"Project Name\": \"CarpenterHall\", \"Financing_sub_cat\": \"Other\", \"Interest Rate\": null, \"Funding Type\": \"Permanent Financing\", \"Project Type\": \"Family\", \"Amount of Funds\": 530000.0, \"State\": \"Ohio\", \"Gov_Grant\": 0, \"debt_financing\": null, \"Funding_count\": 20, \"def_project\": 1, \"bins\": \"High Number of Financing Sources\", \"State_Housing_Credit_Equity\": 0}, {\"Project Name\": \"CarpenterHall\", \"Financing_sub_cat\": \"Tax Credit\", \"Interest Rate\": null, \"Funding Type\": \"Construction Financing\", \"Project Type\": \"Family\", \"Amount of Funds\": 130505.0, \"State\": \"Ohio\", \"Gov_Grant\": 0, \"debt_financing\": 0.0, \"Funding_count\": 20, \"def_project\": 1, \"bins\": \"High Number of Financing Sources\", \"State_Housing_Credit_Equity\": 0}, {\"Project Name\": \"CarpenterHall\", \"Financing_sub_cat\": \"Deferred Developer Fee\", \"Interest Rate\": null, \"Funding Type\": \"Construction Financing\", \"Project Type\": \"Family\", \"Amount of Funds\": 1187000.0, \"State\": \"Ohio\", \"Gov_Grant\": 0, \"debt_financing\": 0.0, \"Funding_count\": 20, \"def_project\": 1, \"bins\": \"High Number of Financing Sources\", \"State_Housing_Credit_Equity\": 0}, {\"Project Name\": \"CarpenterHall\", \"Financing_sub_cat\": \"Bank Loan\", \"Interest Rate\": null, \"Funding Type\": \"Construction Financing\", \"Project Type\": \"Family\", \"Amount of Funds\": 4500000.0, \"State\": \"Ohio\", \"Gov_Grant\": 0, \"debt_financing\": 1.0, \"Funding_count\": 20, \"def_project\": 1, \"bins\": \"High Number of Financing Sources\", \"State_Housing_Credit_Equity\": 0}, {\"Project Name\": \"CarpenterHall\", \"Financing_sub_cat\": \"Other\", \"Interest Rate\": null, \"Funding Type\": \"Construction Financing\", \"Project Type\": \"Family\", \"Amount of Funds\": 500000.0, \"State\": \"Ohio\", \"Gov_Grant\": 0, \"debt_financing\": null, \"Funding_count\": 20, \"def_project\": 1, \"bins\": \"High Number of Financing Sources\", \"State_Housing_Credit_Equity\": 0}, {\"Project Name\": \"CarpenterHall\", \"Financing_sub_cat\": \"Other\", \"Interest Rate\": null, \"Funding Type\": \"Construction Financing\", \"Project Type\": \"Family\", \"Amount of Funds\": 132500.0, \"State\": \"Ohio\", \"Gov_Grant\": 0, \"debt_financing\": null, \"Funding_count\": 20, \"def_project\": 1, \"bins\": \"High Number of Financing Sources\", \"State_Housing_Credit_Equity\": 0}, {\"Project Name\": \"CarpenterHall\", \"Financing_sub_cat\": \"Other\", \"Interest Rate\": null, \"Funding Type\": \"Construction Financing\", \"Project Type\": \"Family\", \"Amount of Funds\": 1250000.0, \"State\": \"Ohio\", \"Gov_Grant\": 0, \"debt_financing\": null, \"Funding_count\": 20, \"def_project\": 1, \"bins\": \"High Number of Financing Sources\", \"State_Housing_Credit_Equity\": 0}, {\"Project Name\": \"CarpenterHall\", \"Financing_sub_cat\": \"Tax Credit\", \"Interest Rate\": null, \"Funding Type\": \"Permanent Financing\", \"Project Type\": \"Family\", \"Amount of Funds\": 4920005.0, \"State\": \"Ohio\", \"Gov_Grant\": 0, \"debt_financing\": 0.0, \"Funding_count\": 20, \"def_project\": 1, \"bins\": \"High Number of Financing Sources\", \"State_Housing_Credit_Equity\": 0}, {\"Project Name\": \"CarpenterHall\", \"Financing_sub_cat\": \"Bank Loan\", \"Interest Rate\": null, \"Funding Type\": \"Permanent Financing\", \"Project Type\": \"Family\", \"Amount of Funds\": 1750000.0, \"State\": \"Ohio\", \"Gov_Grant\": 0, \"debt_financing\": 1.0, \"Funding_count\": 20, \"def_project\": 1, \"bins\": \"High Number of Financing Sources\", \"State_Housing_Credit_Equity\": 0}, {\"Project Name\": \"CarpenterHall\", \"Financing_sub_cat\": \"Other\", \"Interest Rate\": null, \"Funding Type\": \"Permanent Financing\", \"Project Type\": \"Family\", \"Amount of Funds\": 500000.0, \"State\": \"Ohio\", \"Gov_Grant\": 0, \"debt_financing\": null, \"Funding_count\": 20, \"def_project\": 1, \"bins\": \"High Number of Financing Sources\", \"State_Housing_Credit_Equity\": 0}, {\"Project Name\": \"CarpenterHall\", \"Financing_sub_cat\": \"Other\", \"Interest Rate\": null, \"Funding Type\": \"Permanent Financing\", \"Project Type\": \"Family\", \"Amount of Funds\": 530000.0, \"State\": \"Ohio\", \"Gov_Grant\": 0, \"debt_financing\": null, \"Funding_count\": 20, \"def_project\": 1, \"bins\": \"High Number of Financing Sources\", \"State_Housing_Credit_Equity\": 0}, {\"Project Name\": \"LongfellowSchool\", \"Financing_sub_cat\": \"Tax Credit\", \"Interest Rate\": null, \"Funding Type\": \"Construction Financing\", \"Project Type\": \"Seniors\", \"Amount of Funds\": 2400000.0, \"State\": \"Ohio\", \"Gov_Grant\": 0, \"debt_financing\": 0.0, \"Funding_count\": 12, \"def_project\": 1, \"bins\": \"High Number of Financing Sources\", \"State_Housing_Credit_Equity\": 0}, {\"Project Name\": \"LongfellowSchool\", \"Financing_sub_cat\": \"Deferred Developer Fee\", \"Interest Rate\": null, \"Funding Type\": \"Construction Financing\", \"Project Type\": \"Seniors\", \"Amount of Funds\": 1565548.0, \"State\": \"Ohio\", \"Gov_Grant\": 0, \"debt_financing\": 0.0, \"Funding_count\": 12, \"def_project\": 1, \"bins\": \"High Number of Financing Sources\", \"State_Housing_Credit_Equity\": 0}, {\"Project Name\": \"LongfellowSchool\", \"Financing_sub_cat\": \"Bank Loan\", \"Interest Rate\": null, \"Funding Type\": \"Construction Financing\", \"Project Type\": \"Seniors\", \"Amount of Funds\": 3604500.0, \"State\": \"Ohio\", \"Gov_Grant\": 0, \"debt_financing\": 1.0, \"Funding_count\": 12, \"def_project\": 1, \"bins\": \"High Number of Financing Sources\", \"State_Housing_Credit_Equity\": 0}, {\"Project Name\": \"LongfellowSchool\", \"Financing_sub_cat\": \"Other\", \"Interest Rate\": null, \"Funding Type\": \"Construction Financing\", \"Project Type\": \"Seniors\", \"Amount of Funds\": 11644281.0, \"State\": \"Ohio\", \"Gov_Grant\": 0, \"debt_financing\": null, \"Funding_count\": 12, \"def_project\": 1, \"bins\": \"High Number of Financing Sources\", \"State_Housing_Credit_Equity\": 0}, {\"Project Name\": \"LongfellowSchool\", \"Financing_sub_cat\": \"Other\", \"Interest Rate\": null, \"Funding Type\": \"Construction Financing\", \"Project Type\": \"Seniors\", \"Amount of Funds\": 1250000.0, \"State\": \"Ohio\", \"Gov_Grant\": 0, \"debt_financing\": null, \"Funding_count\": 12, \"def_project\": 1, \"bins\": \"High Number of Financing Sources\", \"State_Housing_Credit_Equity\": 0}, {\"Project Name\": \"LongfellowSchool\", \"Financing_sub_cat\": \"Tax Credit\", \"Interest Rate\": null, \"Funding Type\": \"Permanent Financing\", \"Project Type\": \"Seniors\", \"Amount of Funds\": 11873813.0, \"State\": \"Ohio\", \"Gov_Grant\": 0, \"debt_financing\": 0.0, \"Funding_count\": 12, \"def_project\": 1, \"bins\": \"High Number of Financing Sources\", \"State_Housing_Credit_Equity\": 0}, {\"Project Name\": \"LongfellowSchool\", \"Financing_sub_cat\": \"Historic Tax Credit\", \"Interest Rate\": null, \"Funding Type\": \"Permanent Financing\", \"Project Type\": \"Seniors\", \"Amount of Funds\": 1723018.0, \"State\": \"Ohio\", \"Gov_Grant\": 0, \"debt_financing\": 0.0, \"Funding_count\": 12, \"def_project\": 1, \"bins\": \"High Number of Financing Sources\", \"State_Housing_Credit_Equity\": 0}, {\"Project Name\": \"LongfellowSchool\", \"Financing_sub_cat\": \"Deferred Developer Fee\", \"Interest Rate\": null, \"Funding Type\": \"Permanent Financing\", \"Project Type\": \"Seniors\", \"Amount of Funds\": 386318.0, \"State\": \"Ohio\", \"Gov_Grant\": 0, \"debt_financing\": 0.0, \"Funding_count\": 12, \"def_project\": 1, \"bins\": \"High Number of Financing Sources\", \"State_Housing_Credit_Equity\": 0}, {\"Project Name\": \"LongfellowSchool\", \"Financing_sub_cat\": \"Bank Loan\", \"Interest Rate\": null, \"Funding Type\": \"Permanent Financing\", \"Project Type\": \"Seniors\", \"Amount of Funds\": 3604500.0, \"State\": \"Ohio\", \"Gov_Grant\": 0, \"debt_financing\": 1.0, \"Funding_count\": 12, \"def_project\": 1, \"bins\": \"High Number of Financing Sources\", \"State_Housing_Credit_Equity\": 0}, {\"Project Name\": \"LongfellowSchool\", \"Financing_sub_cat\": \"Other\", \"Interest Rate\": null, \"Funding Type\": \"Permanent Financing\", \"Project Type\": \"Seniors\", \"Amount of Funds\": 242562.0, \"State\": \"Ohio\", \"Gov_Grant\": 0, \"debt_financing\": null, \"Funding_count\": 12, \"def_project\": 1, \"bins\": \"High Number of Financing Sources\", \"State_Housing_Credit_Equity\": 0}, {\"Project Name\": \"LongfellowSchool\", \"Financing_sub_cat\": \"Other\", \"Interest Rate\": null, \"Funding Type\": \"Permanent Financing\", \"Project Type\": \"Seniors\", \"Amount of Funds\": 2034118.0, \"State\": \"Ohio\", \"Gov_Grant\": 0, \"debt_financing\": null, \"Funding_count\": 12, \"def_project\": 1, \"bins\": \"High Number of Financing Sources\", \"State_Housing_Credit_Equity\": 0}, {\"Project Name\": \"LongfellowSchool\", \"Financing_sub_cat\": \"Other\", \"Interest Rate\": null, \"Funding Type\": \"Permanent Financing\", \"Project Type\": \"Seniors\", \"Amount of Funds\": 600000.0, \"State\": \"Ohio\", \"Gov_Grant\": 0, \"debt_financing\": null, \"Funding_count\": 12, \"def_project\": 1, \"bins\": \"High Number of Financing Sources\", \"State_Housing_Credit_Equity\": 0}, {\"Project Name\": \"WoodStreetLofts\", \"Financing_sub_cat\": \"Tax Credit\", \"Interest Rate\": null, \"Funding Type\": \"Construction Financing\", \"Project Type\": \"Family\", \"Amount of Funds\": 704295.0, \"State\": \"Ohio\", \"Gov_Grant\": 0, \"debt_financing\": 0.0, \"Funding_count\": 13, \"def_project\": 1, \"bins\": \"High Number of Financing Sources\", \"State_Housing_Credit_Equity\": 0}, {\"Project Name\": \"WoodStreetLofts\", \"Financing_sub_cat\": \"State Housing Credit Equity\", \"Interest Rate\": null, \"Funding Type\": \"Construction Financing\", \"Project Type\": \"Family\", \"Amount of Funds\": 600000.0, \"State\": \"Ohio\", \"Gov_Grant\": 0, \"debt_financing\": 0.0, \"Funding_count\": 13, \"def_project\": 1, \"bins\": \"High Number of Financing Sources\", \"State_Housing_Credit_Equity\": 1}, {\"Project Name\": \"WoodStreetLofts\", \"Financing_sub_cat\": \"Deferred Developer Fee\", \"Interest Rate\": null, \"Funding Type\": \"Construction Financing\", \"Project Type\": \"Family\", \"Amount of Funds\": 217500.0, \"State\": \"Ohio\", \"Gov_Grant\": 0, \"debt_financing\": 0.0, \"Funding_count\": 13, \"def_project\": 1, \"bins\": \"High Number of Financing Sources\", \"State_Housing_Credit_Equity\": 0}, {\"Project Name\": \"WoodStreetLofts\", \"Financing_sub_cat\": \"Bank Loan\", \"Interest Rate\": null, \"Funding Type\": \"Construction Financing\", \"Project Type\": \"Family\", \"Amount of Funds\": 6250000.0, \"State\": \"Ohio\", \"Gov_Grant\": 0, \"debt_financing\": 1.0, \"Funding_count\": 13, \"def_project\": 1, \"bins\": \"High Number of Financing Sources\", \"State_Housing_Credit_Equity\": 0}, {\"Project Name\": \"WoodStreetLofts\", \"Financing_sub_cat\": \"Other\", \"Interest Rate\": null, \"Funding Type\": \"Construction Financing\", \"Project Type\": \"Family\", \"Amount of Funds\": 1250000.0, \"State\": \"Ohio\", \"Gov_Grant\": 0, \"debt_financing\": null, \"Funding_count\": 13, \"def_project\": 1, \"bins\": \"High Number of Financing Sources\", \"State_Housing_Credit_Equity\": 0}, {\"Project Name\": \"WoodStreetLofts\", \"Financing_sub_cat\": \"Other\", \"Interest Rate\": null, \"Funding Type\": \"Construction Financing\", \"Project Type\": \"Family\", \"Amount of Funds\": 893014.0, \"State\": \"Ohio\", \"Gov_Grant\": 0, \"debt_financing\": null, \"Funding_count\": 13, \"def_project\": 1, \"bins\": \"High Number of Financing Sources\", \"State_Housing_Credit_Equity\": 0}, {\"Project Name\": \"WoodStreetLofts\", \"Financing_sub_cat\": \"Tax Credit\", \"Interest Rate\": null, \"Funding Type\": \"Permanent Financing\", \"Project Type\": \"Family\", \"Amount of Funds\": 7042950.0, \"State\": \"Ohio\", \"Gov_Grant\": 0, \"debt_financing\": 0.0, \"Funding_count\": 13, \"def_project\": 1, \"bins\": \"High Number of Financing Sources\", \"State_Housing_Credit_Equity\": 0}, {\"Project Name\": \"WoodStreetLofts\", \"Financing_sub_cat\": \"State Housing Credit Equity\", \"Interest Rate\": null, \"Funding Type\": \"Permanent Financing\", \"Project Type\": \"Family\", \"Amount of Funds\": 600000.0, \"State\": \"Ohio\", \"Gov_Grant\": 0, \"debt_financing\": 0.0, \"Funding_count\": 13, \"def_project\": 1, \"bins\": \"High Number of Financing Sources\", \"State_Housing_Credit_Equity\": 1}, {\"Project Name\": \"WoodStreetLofts\", \"Financing_sub_cat\": \"Deferred Developer Fee\", \"Interest Rate\": null, \"Funding Type\": \"Permanent Financing\", \"Project Type\": \"Family\", \"Amount of Funds\": 217500.0, \"State\": \"Ohio\", \"Gov_Grant\": 0, \"debt_financing\": 0.0, \"Funding_count\": 13, \"def_project\": 1, \"bins\": \"High Number of Financing Sources\", \"State_Housing_Credit_Equity\": 0}, {\"Project Name\": \"WoodStreetLofts\", \"Financing_sub_cat\": \"Bank Loan\", \"Interest Rate\": null, \"Funding Type\": \"Permanent Financing\", \"Project Type\": \"Family\", \"Amount of Funds\": 1450000.0, \"State\": \"Ohio\", \"Gov_Grant\": 0, \"debt_financing\": 1.0, \"Funding_count\": 13, \"def_project\": 1, \"bins\": \"High Number of Financing Sources\", \"State_Housing_Credit_Equity\": 0}, {\"Project Name\": \"WoodStreetLofts\", \"Financing_sub_cat\": \"Bank Loan\", \"Interest Rate\": null, \"Funding Type\": \"Permanent Financing\", \"Project Type\": \"Family\", \"Amount of Funds\": 325000.0, \"State\": \"Ohio\", \"Gov_Grant\": 0, \"debt_financing\": 1.0, \"Funding_count\": 13, \"def_project\": 1, \"bins\": \"High Number of Financing Sources\", \"State_Housing_Credit_Equity\": 0}, {\"Project Name\": \"WoodStreetLofts\", \"Financing_sub_cat\": \"Other\", \"Interest Rate\": null, \"Funding Type\": \"Permanent Financing\", \"Project Type\": \"Family\", \"Amount of Funds\": 10000.0, \"State\": \"Ohio\", \"Gov_Grant\": 0, \"debt_financing\": null, \"Funding_count\": 13, \"def_project\": 1, \"bins\": \"High Number of Financing Sources\", \"State_Housing_Credit_Equity\": 0}, {\"Project Name\": \"WoodStreetLofts\", \"Financing_sub_cat\": \"Other\", \"Interest Rate\": null, \"Funding Type\": \"Permanent Financing\", \"Project Type\": \"Family\", \"Amount of Funds\": 269359.0, \"State\": \"Ohio\", \"Gov_Grant\": 0, \"debt_financing\": null, \"Funding_count\": 13, \"def_project\": 1, \"bins\": \"High Number of Financing Sources\", \"State_Housing_Credit_Equity\": 0}, {\"Project Name\": \"CreeksidePlaceApartments\", \"Financing_sub_cat\": \"Tax Credit\", \"Interest Rate\": null, \"Funding Type\": \"Construction Financing\", \"Project Type\": \"Service Enriched\", \"Amount of Funds\": 85000.0, \"State\": \"Ohio\", \"Gov_Grant\": 0, \"debt_financing\": 0.0, \"Funding_count\": 16, \"def_project\": 1, \"bins\": \"High Number of Financing Sources\", \"State_Housing_Credit_Equity\": 0}, {\"Project Name\": \"CreeksidePlaceApartments\", \"Financing_sub_cat\": \"State Housing Credit Equity\", \"Interest Rate\": null, \"Funding Type\": \"Construction Financing\", \"Project Type\": \"Service Enriched\", \"Amount of Funds\": 300000.0, \"State\": \"Ohio\", \"Gov_Grant\": 0, \"debt_financing\": 0.0, \"Funding_count\": 16, \"def_project\": 1, \"bins\": \"High Number of Financing Sources\", \"State_Housing_Credit_Equity\": 1}, {\"Project Name\": \"CreeksidePlaceApartments\", \"Financing_sub_cat\": \"Deferred Developer Fee\", \"Interest Rate\": null, \"Funding Type\": \"Construction Financing\", \"Project Type\": \"Service Enriched\", \"Amount of Funds\": 701439.0, \"State\": \"Ohio\", \"Gov_Grant\": 0, \"debt_financing\": 0.0, \"Funding_count\": 16, \"def_project\": 1, \"bins\": \"High Number of Financing Sources\", \"State_Housing_Credit_Equity\": 0}, {\"Project Name\": \"CreeksidePlaceApartments\", \"Financing_sub_cat\": \"Bank Loan\", \"Interest Rate\": null, \"Funding Type\": \"Construction Financing\", \"Project Type\": \"Service Enriched\", \"Amount of Funds\": 3550000.0, \"State\": \"Ohio\", \"Gov_Grant\": 0, \"debt_financing\": 1.0, \"Funding_count\": 16, \"def_project\": 1, \"bins\": \"High Number of Financing Sources\", \"State_Housing_Credit_Equity\": 0}, {\"Project Name\": \"CreeksidePlaceApartments\", \"Financing_sub_cat\": \"Affordable Housing Trust\", \"Interest Rate\": null, \"Funding Type\": \"Construction Financing\", \"Project Type\": \"Service Enriched\", \"Amount of Funds\": 3000000.0, \"State\": \"Ohio\", \"Gov_Grant\": 0, \"debt_financing\": 0.0, \"Funding_count\": 16, \"def_project\": 1, \"bins\": \"High Number of Financing Sources\", \"State_Housing_Credit_Equity\": 0}, {\"Project Name\": \"CreeksidePlaceApartments\", \"Financing_sub_cat\": \"Other\", \"Interest Rate\": null, \"Funding Type\": \"Construction Financing\", \"Project Type\": \"Service Enriched\", \"Amount of Funds\": 2250000.0, \"State\": \"Ohio\", \"Gov_Grant\": 0, \"debt_financing\": null, \"Funding_count\": 16, \"def_project\": 1, \"bins\": \"High Number of Financing Sources\", \"State_Housing_Credit_Equity\": 0}, {\"Project Name\": \"CreeksidePlaceApartments\", \"Financing_sub_cat\": \"Federal Home Loan Bank\", \"Interest Rate\": null, \"Funding Type\": \"Construction Financing\", \"Project Type\": \"Service Enriched\", \"Amount of Funds\": 189000.0, \"State\": \"Ohio\", \"Gov_Grant\": 0, \"debt_financing\": 0.0, \"Funding_count\": 16, \"def_project\": 1, \"bins\": \"High Number of Financing Sources\", \"State_Housing_Credit_Equity\": 0}, {\"Project Name\": \"CreeksidePlaceApartments\", \"Financing_sub_cat\": \"Local Grant\", \"Interest Rate\": null, \"Funding Type\": \"Construction Financing\", \"Project Type\": \"Service Enriched\", \"Amount of Funds\": 1000.0, \"State\": \"Ohio\", \"Gov_Grant\": 1, \"debt_financing\": 0.0, \"Funding_count\": 16, \"def_project\": 1, \"bins\": \"High Number of Financing Sources\", \"State_Housing_Credit_Equity\": 0}, {\"Project Name\": \"CreeksidePlaceApartments\", \"Financing_sub_cat\": \"Other\", \"Interest Rate\": null, \"Funding Type\": \"Construction Financing\", \"Project Type\": \"Service Enriched\", \"Amount of Funds\": 1750000.0, \"State\": \"Ohio\", \"Gov_Grant\": 0, \"debt_financing\": null, \"Funding_count\": 16, \"def_project\": 1, \"bins\": \"High Number of Financing Sources\", \"State_Housing_Credit_Equity\": 0}, {\"Project Name\": \"CreeksidePlaceApartments\", \"Financing_sub_cat\": \"Tax Credit\", \"Interest Rate\": null, \"Funding Type\": \"Permanent Financing\", \"Project Type\": \"Service Enriched\", \"Amount of Funds\": 8505000.0, \"State\": \"Ohio\", \"Gov_Grant\": 0, \"debt_financing\": 0.0, \"Funding_count\": 16, \"def_project\": 1, \"bins\": \"High Number of Financing Sources\", \"State_Housing_Credit_Equity\": 0}, {\"Project Name\": \"CreeksidePlaceApartments\", \"Financing_sub_cat\": \"State Housing Credit Equity\", \"Interest Rate\": null, \"Funding Type\": \"Permanent Financing\", \"Project Type\": \"Service Enriched\", \"Amount of Funds\": 300000.0, \"State\": \"Ohio\", \"Gov_Grant\": 0, \"debt_financing\": 0.0, \"Funding_count\": 16, \"def_project\": 1, \"bins\": \"High Number of Financing Sources\", \"State_Housing_Credit_Equity\": 1}, {\"Project Name\": \"CreeksidePlaceApartments\", \"Financing_sub_cat\": \"Deferred Developer Fee\", \"Interest Rate\": null, \"Funding Type\": \"Permanent Financing\", \"Project Type\": \"Service Enriched\", \"Amount of Funds\": 14439.0, \"State\": \"Ohio\", \"Gov_Grant\": 0, \"debt_financing\": 0.0, \"Funding_count\": 16, \"def_project\": 1, \"bins\": \"High Number of Financing Sources\", \"State_Housing_Credit_Equity\": 0}, {\"Project Name\": \"CreeksidePlaceApartments\", \"Financing_sub_cat\": \"Local Grant\", \"Interest Rate\": null, \"Funding Type\": \"Permanent Financing\", \"Project Type\": \"Service Enriched\", \"Amount of Funds\": 2000000.0, \"State\": \"Ohio\", \"Gov_Grant\": 1, \"debt_financing\": 0.0, \"Funding_count\": 16, \"def_project\": 1, \"bins\": \"High Number of Financing Sources\", \"State_Housing_Credit_Equity\": 0}, {\"Project Name\": \"CreeksidePlaceApartments\", \"Financing_sub_cat\": \"Local Grant\", \"Interest Rate\": null, \"Funding Type\": \"Permanent Financing\", \"Project Type\": \"Service Enriched\", \"Amount of Funds\": 250000.0, \"State\": \"Ohio\", \"Gov_Grant\": 1, \"debt_financing\": 0.0, \"Funding_count\": 16, \"def_project\": 1, \"bins\": \"High Number of Financing Sources\", \"State_Housing_Credit_Equity\": 0}, {\"Project Name\": \"CreeksidePlaceApartments\", \"Financing_sub_cat\": \"Federal Home Loan Bank\", \"Interest Rate\": null, \"Funding Type\": \"Permanent Financing\", \"Project Type\": \"Service Enriched\", \"Amount of Funds\": 756000.0, \"State\": \"Ohio\", \"Gov_Grant\": 0, \"debt_financing\": 0.0, \"Funding_count\": 16, \"def_project\": 1, \"bins\": \"High Number of Financing Sources\", \"State_Housing_Credit_Equity\": 0}, {\"Project Name\": \"CreeksidePlaceApartments\", \"Financing_sub_cat\": \"Local Grant\", \"Interest Rate\": null, \"Funding Type\": \"Permanent Financing\", \"Project Type\": \"Service Enriched\", \"Amount of Funds\": 1000.0, \"State\": \"Ohio\", \"Gov_Grant\": 1, \"debt_financing\": 0.0, \"Funding_count\": 16, \"def_project\": 1, \"bins\": \"High Number of Financing Sources\", \"State_Housing_Credit_Equity\": 0}, {\"Project Name\": \"MontgomeryCrossing\", \"Financing_sub_cat\": \"Tax Credit\", \"Interest Rate\": null, \"Funding Type\": \"Construction Financing\", \"Project Type\": \"Family\", \"Amount of Funds\": 209574.0, \"State\": \"Ohio\", \"Gov_Grant\": 0, \"debt_financing\": 0.0, \"Funding_count\": 10, \"def_project\": 1, \"bins\": \"Medium Number of Financing Sources\", \"State_Housing_Credit_Equity\": 0}, {\"Project Name\": \"MontgomeryCrossing\", \"Financing_sub_cat\": \"State Housing Credit Equity\", \"Interest Rate\": null, \"Funding Type\": \"Construction Financing\", \"Project Type\": \"Family\", \"Amount of Funds\": 300000.0, \"State\": \"Ohio\", \"Gov_Grant\": 0, \"debt_financing\": 0.0, \"Funding_count\": 10, \"def_project\": 1, \"bins\": \"Medium Number of Financing Sources\", \"State_Housing_Credit_Equity\": 1}, {\"Project Name\": \"MontgomeryCrossing\", \"Financing_sub_cat\": \"Deferred Developer Fee\", \"Interest Rate\": null, \"Funding Type\": \"Construction Financing\", \"Project Type\": \"Family\", \"Amount of Funds\": 1116549.0, \"State\": \"Ohio\", \"Gov_Grant\": 0, \"debt_financing\": 0.0, \"Funding_count\": 10, \"def_project\": 1, \"bins\": \"Medium Number of Financing Sources\", \"State_Housing_Credit_Equity\": 0}, {\"Project Name\": \"MontgomeryCrossing\", \"Financing_sub_cat\": \"Bank Loan\", \"Interest Rate\": null, \"Funding Type\": \"Construction Financing\", \"Project Type\": \"Family\", \"Amount of Funds\": 5370000.0, \"State\": \"Ohio\", \"Gov_Grant\": 0, \"debt_financing\": 1.0, \"Funding_count\": 10, \"def_project\": 1, \"bins\": \"Medium Number of Financing Sources\", \"State_Housing_Credit_Equity\": 0}, {\"Project Name\": \"MontgomeryCrossing\", \"Financing_sub_cat\": \"Other\", \"Interest Rate\": null, \"Funding Type\": \"Construction Financing\", \"Project Type\": \"Family\", \"Amount of Funds\": 1250000.0, \"State\": \"Ohio\", \"Gov_Grant\": 0, \"debt_financing\": null, \"Funding_count\": 10, \"def_project\": 1, \"bins\": \"Medium Number of Financing Sources\", \"State_Housing_Credit_Equity\": 0}, {\"Project Name\": \"MontgomeryCrossing\", \"Financing_sub_cat\": \"Tax Credit\", \"Interest Rate\": null, \"Funding Type\": \"Permanent Financing\", \"Project Type\": \"Family\", \"Amount of Funds\": 6842497.0, \"State\": \"Ohio\", \"Gov_Grant\": 0, \"debt_financing\": 0.0, \"Funding_count\": 10, \"def_project\": 1, \"bins\": \"Medium Number of Financing Sources\", \"State_Housing_Credit_Equity\": 0}, {\"Project Name\": \"MontgomeryCrossing\", \"Financing_sub_cat\": \"State Housing Credit Equity\", \"Interest Rate\": null, \"Funding Type\": \"Permanent Financing\", \"Project Type\": \"Family\", \"Amount of Funds\": 300000.0, \"State\": \"Ohio\", \"Gov_Grant\": 0, \"debt_financing\": 0.0, \"Funding_count\": 10, \"def_project\": 1, \"bins\": \"Medium Number of Financing Sources\", \"State_Housing_Credit_Equity\": 1}, {\"Project Name\": \"MontgomeryCrossing\", \"Financing_sub_cat\": \"Deferred Developer Fee\", \"Interest Rate\": null, \"Funding Type\": \"Permanent Financing\", \"Project Type\": \"Family\", \"Amount of Funds\": 78526.0, \"State\": \"Ohio\", \"Gov_Grant\": 0, \"debt_financing\": 0.0, \"Funding_count\": 10, \"def_project\": 1, \"bins\": \"Medium Number of Financing Sources\", \"State_Housing_Credit_Equity\": 0}, {\"Project Name\": \"MontgomeryCrossing\", \"Financing_sub_cat\": \"Bank Loan\", \"Interest Rate\": null, \"Funding Type\": \"Permanent Financing\", \"Project Type\": \"Family\", \"Amount of Funds\": 1025000.0, \"State\": \"Ohio\", \"Gov_Grant\": 0, \"debt_financing\": 1.0, \"Funding_count\": 10, \"def_project\": 1, \"bins\": \"Medium Number of Financing Sources\", \"State_Housing_Credit_Equity\": 0}, {\"Project Name\": \"MontgomeryCrossing\", \"Financing_sub_cat\": \"Other\", \"Interest Rate\": null, \"Funding Type\": \"Permanent Financing\", \"Project Type\": \"Family\", \"Amount of Funds\": 100.0, \"State\": \"Ohio\", \"Gov_Grant\": 0, \"debt_financing\": null, \"Funding_count\": 10, \"def_project\": 1, \"bins\": \"Medium Number of Financing Sources\", \"State_Housing_Credit_Equity\": 0}, {\"Project Name\": \"CasaNuevaApartments\", \"Financing_sub_cat\": \"Tax Credit\", \"Interest Rate\": null, \"Funding Type\": \"Construction Financing\", \"Project Type\": \"Family\", \"Amount of Funds\": 4019168.0, \"State\": \"Ohio\", \"Gov_Grant\": 0, \"debt_financing\": 0.0, \"Funding_count\": 11, \"def_project\": 1, \"bins\": \"Medium Number of Financing Sources\", \"State_Housing_Credit_Equity\": 0}, {\"Project Name\": \"CasaNuevaApartments\", \"Financing_sub_cat\": \"Bank Loan\", \"Interest Rate\": null, \"Funding Type\": \"Construction Financing\", \"Project Type\": \"Family\", \"Amount of Funds\": 2075793.0, \"State\": \"Ohio\", \"Gov_Grant\": 0, \"debt_financing\": 1.0, \"Funding_count\": 11, \"def_project\": 1, \"bins\": \"Medium Number of Financing Sources\", \"State_Housing_Credit_Equity\": 0}, {\"Project Name\": \"CasaNuevaApartments\", \"Financing_sub_cat\": \"Other\", \"Interest Rate\": null, \"Funding Type\": \"Construction Financing\", \"Project Type\": \"Family\", \"Amount of Funds\": 42980.0, \"State\": \"Ohio\", \"Gov_Grant\": 0, \"debt_financing\": null, \"Funding_count\": 11, \"def_project\": 1, \"bins\": \"Medium Number of Financing Sources\", \"State_Housing_Credit_Equity\": 0}, {\"Project Name\": \"CasaNuevaApartments\", \"Financing_sub_cat\": \"Other\", \"Interest Rate\": null, \"Funding Type\": \"Construction Financing\", \"Project Type\": \"Family\", \"Amount of Funds\": 13897.0, \"State\": \"Ohio\", \"Gov_Grant\": 0, \"debt_financing\": null, \"Funding_count\": 11, \"def_project\": 1, \"bins\": \"Medium Number of Financing Sources\", \"State_Housing_Credit_Equity\": 0}, {\"Project Name\": \"CasaNuevaApartments\", \"Financing_sub_cat\": \"Other\", \"Interest Rate\": null, \"Funding Type\": \"Construction Financing\", \"Project Type\": \"Family\", \"Amount of Funds\": 1425403.0, \"State\": \"Ohio\", \"Gov_Grant\": 0, \"debt_financing\": null, \"Funding_count\": 11, \"def_project\": 1, \"bins\": \"Medium Number of Financing Sources\", \"State_Housing_Credit_Equity\": 0}, {\"Project Name\": \"CasaNuevaApartments\", \"Financing_sub_cat\": \"Other\", \"Interest Rate\": null, \"Funding Type\": \"Construction Financing\", \"Project Type\": \"Family\", \"Amount of Funds\": 1250000.0, \"State\": \"Ohio\", \"Gov_Grant\": 0, \"debt_financing\": null, \"Funding_count\": 11, \"def_project\": 1, \"bins\": \"Medium Number of Financing Sources\", \"State_Housing_Credit_Equity\": 0}, {\"Project Name\": \"CasaNuevaApartments\", \"Financing_sub_cat\": \"Tax Credit\", \"Interest Rate\": null, \"Funding Type\": \"Permanent Financing\", \"Project Type\": \"Family\", \"Amount of Funds\": 6363630.0, \"State\": \"Ohio\", \"Gov_Grant\": 0, \"debt_financing\": 0.0, \"Funding_count\": 11, \"def_project\": 1, \"bins\": \"Medium Number of Financing Sources\", \"State_Housing_Credit_Equity\": 0}, {\"Project Name\": \"CasaNuevaApartments\", \"Financing_sub_cat\": \"Deferred Developer Fee\", \"Interest Rate\": null, \"Funding Type\": \"Permanent Financing\", \"Project Type\": \"Family\", \"Amount of Funds\": 330941.0, \"State\": \"Ohio\", \"Gov_Grant\": 0, \"debt_financing\": 0.0, \"Funding_count\": 11, \"def_project\": 1, \"bins\": \"Medium Number of Financing Sources\", \"State_Housing_Credit_Equity\": 0}, {\"Project Name\": \"CasaNuevaApartments\", \"Financing_sub_cat\": \"Bank Loan\", \"Interest Rate\": null, \"Funding Type\": \"Permanent Financing\", \"Project Type\": \"Family\", \"Amount of Funds\": 2075793.0, \"State\": \"Ohio\", \"Gov_Grant\": 0, \"debt_financing\": 1.0, \"Funding_count\": 11, \"def_project\": 1, \"bins\": \"Medium Number of Financing Sources\", \"State_Housing_Credit_Equity\": 0}, {\"Project Name\": \"CasaNuevaApartments\", \"Financing_sub_cat\": \"Other\", \"Interest Rate\": null, \"Funding Type\": \"Permanent Financing\", \"Project Type\": \"Family\", \"Amount of Funds\": 42980.0, \"State\": \"Ohio\", \"Gov_Grant\": 0, \"debt_financing\": null, \"Funding_count\": 11, \"def_project\": 1, \"bins\": \"Medium Number of Financing Sources\", \"State_Housing_Credit_Equity\": 0}, {\"Project Name\": \"CasaNuevaApartments\", \"Financing_sub_cat\": \"Other\", \"Interest Rate\": null, \"Funding Type\": \"Permanent Financing\", \"Project Type\": \"Family\", \"Amount of Funds\": 13897.0, \"State\": \"Ohio\", \"Gov_Grant\": 0, \"debt_financing\": null, \"Funding_count\": 11, \"def_project\": 1, \"bins\": \"Medium Number of Financing Sources\", \"State_Housing_Credit_Equity\": 0}, {\"Project Name\": \"TiffinPointeII\", \"Financing_sub_cat\": \"Tax Credit\", \"Interest Rate\": null, \"Funding Type\": \"Construction Financing\", \"Project Type\": \"Family\", \"Amount of Funds\": 1458092.0, \"State\": \"Ohio\", \"Gov_Grant\": 0, \"debt_financing\": 0.0, \"Funding_count\": 5, \"def_project\": 1, \"bins\": \"Low Number of Financing Sources\", \"State_Housing_Credit_Equity\": 0}, {\"Project Name\": \"TiffinPointeII\", \"Financing_sub_cat\": \"Bank Loan\", \"Interest Rate\": null, \"Funding Type\": \"Construction Financing\", \"Project Type\": \"Family\", \"Amount of Funds\": 6600000.0, \"State\": \"Ohio\", \"Gov_Grant\": 0, \"debt_financing\": 1.0, \"Funding_count\": 5, \"def_project\": 1, \"bins\": \"Low Number of Financing Sources\", \"State_Housing_Credit_Equity\": 0}, {\"Project Name\": \"TiffinPointeII\", \"Financing_sub_cat\": \"Tax Credit\", \"Interest Rate\": null, \"Funding Type\": \"Permanent Financing\", \"Project Type\": \"Family\", \"Amount of Funds\": 7290462.0, \"State\": \"Ohio\", \"Gov_Grant\": 0, \"debt_financing\": 0.0, \"Funding_count\": 5, \"def_project\": 1, \"bins\": \"Low Number of Financing Sources\", \"State_Housing_Credit_Equity\": 0}, {\"Project Name\": \"TiffinPointeII\", \"Financing_sub_cat\": \"Deferred Developer Fee\", \"Interest Rate\": null, \"Funding Type\": \"Permanent Financing\", \"Project Type\": \"Family\", \"Amount of Funds\": 193020.0, \"State\": \"Ohio\", \"Gov_Grant\": 0, \"debt_financing\": 0.0, \"Funding_count\": 5, \"def_project\": 1, \"bins\": \"Low Number of Financing Sources\", \"State_Housing_Credit_Equity\": 0}, {\"Project Name\": \"TiffinPointeII\", \"Financing_sub_cat\": \"Bank Loan\", \"Interest Rate\": null, \"Funding Type\": \"Permanent Financing\", \"Project Type\": \"Family\", \"Amount of Funds\": 1825000.0, \"State\": \"Ohio\", \"Gov_Grant\": 0, \"debt_financing\": 1.0, \"Funding_count\": 5, \"def_project\": 1, \"bins\": \"Low Number of Financing Sources\", \"State_Housing_Credit_Equity\": 0}, {\"Project Name\": \"WoosterLofts\", \"Financing_sub_cat\": \"Tax Credit\", \"Interest Rate\": null, \"Funding Type\": \"Construction Financing\", \"Project Type\": \"Family\", \"Amount of Funds\": 737162.0, \"State\": \"Ohio\", \"Gov_Grant\": 0, \"debt_financing\": 0.0, \"Funding_count\": 12, \"def_project\": 1, \"bins\": \"High Number of Financing Sources\", \"State_Housing_Credit_Equity\": 0}, {\"Project Name\": \"WoosterLofts\", \"Financing_sub_cat\": \"State Housing Credit Equity\", \"Interest Rate\": null, \"Funding Type\": \"Construction Financing\", \"Project Type\": \"Family\", \"Amount of Funds\": 300000.0, \"State\": \"Ohio\", \"Gov_Grant\": 0, \"debt_financing\": 0.0, \"Funding_count\": 12, \"def_project\": 1, \"bins\": \"High Number of Financing Sources\", \"State_Housing_Credit_Equity\": 1}, {\"Project Name\": \"WoosterLofts\", \"Financing_sub_cat\": \"Deferred Developer Fee\", \"Interest Rate\": null, \"Funding Type\": \"Construction Financing\", \"Project Type\": \"Family\", \"Amount of Funds\": 77487.0, \"State\": \"Ohio\", \"Gov_Grant\": 0, \"debt_financing\": 0.0, \"Funding_count\": 12, \"def_project\": 1, \"bins\": \"High Number of Financing Sources\", \"State_Housing_Credit_Equity\": 0}, {\"Project Name\": \"WoosterLofts\", \"Financing_sub_cat\": \"Bank Loan\", \"Interest Rate\": null, \"Funding Type\": \"Construction Financing\", \"Project Type\": \"Family\", \"Amount of Funds\": 6250000.0, \"State\": \"Ohio\", \"Gov_Grant\": 0, \"debt_financing\": 1.0, \"Funding_count\": 12, \"def_project\": 1, \"bins\": \"High Number of Financing Sources\", \"State_Housing_Credit_Equity\": 0}, {\"Project Name\": \"WoosterLofts\", \"Financing_sub_cat\": \"Other\", \"Interest Rate\": null, \"Funding Type\": \"Construction Financing\", \"Project Type\": \"Family\", \"Amount of Funds\": 1250000.0, \"State\": \"Ohio\", \"Gov_Grant\": 0, \"debt_financing\": null, \"Funding_count\": 12, \"def_project\": 1, \"bins\": \"High Number of Financing Sources\", \"State_Housing_Credit_Equity\": 0}, {\"Project Name\": \"WoosterLofts\", \"Financing_sub_cat\": \"Other\", \"Interest Rate\": null, \"Funding Type\": \"Construction Financing\", \"Project Type\": \"Family\", \"Amount of Funds\": 744459.0, \"State\": \"Ohio\", \"Gov_Grant\": 0, \"debt_financing\": null, \"Funding_count\": 12, \"def_project\": 1, \"bins\": \"High Number of Financing Sources\", \"State_Housing_Credit_Equity\": 0}, {\"Project Name\": \"WoosterLofts\", \"Financing_sub_cat\": \"Tax Credit\", \"Interest Rate\": null, \"Funding Type\": \"Permanent Financing\", \"Project Type\": \"Family\", \"Amount of Funds\": 7371621.0, \"State\": \"Ohio\", \"Gov_Grant\": 0, \"debt_financing\": 0.0, \"Funding_count\": 12, \"def_project\": 1, \"bins\": \"High Number of Financing Sources\", \"State_Housing_Credit_Equity\": 0}, {\"Project Name\": \"WoosterLofts\", \"Financing_sub_cat\": \"State Housing Credit Equity\", \"Interest Rate\": null, \"Funding Type\": \"Permanent Financing\", \"Project Type\": \"Family\", \"Amount of Funds\": 300000.0, \"State\": \"Ohio\", \"Gov_Grant\": 0, \"debt_financing\": 0.0, \"Funding_count\": 12, \"def_project\": 1, \"bins\": \"High Number of Financing Sources\", \"State_Housing_Credit_Equity\": 1}, {\"Project Name\": \"WoosterLofts\", \"Financing_sub_cat\": \"Deferred Developer Fee\", \"Interest Rate\": null, \"Funding Type\": \"Permanent Financing\", \"Project Type\": \"Family\", \"Amount of Funds\": 77487.0, \"State\": \"Ohio\", \"Gov_Grant\": 0, \"debt_financing\": 0.0, \"Funding_count\": 12, \"def_project\": 1, \"bins\": \"High Number of Financing Sources\", \"State_Housing_Credit_Equity\": 0}, {\"Project Name\": \"WoosterLofts\", \"Financing_sub_cat\": \"Bank Loan\", \"Interest Rate\": null, \"Funding Type\": \"Permanent Financing\", \"Project Type\": \"Family\", \"Amount of Funds\": 1350000.0, \"State\": \"Ohio\", \"Gov_Grant\": 0, \"debt_financing\": 1.0, \"Funding_count\": 12, \"def_project\": 1, \"bins\": \"High Number of Financing Sources\", \"State_Housing_Credit_Equity\": 0}, {\"Project Name\": \"WoosterLofts\", \"Financing_sub_cat\": \"Bank Loan\", \"Interest Rate\": null, \"Funding Type\": \"Permanent Financing\", \"Project Type\": \"Family\", \"Amount of Funds\": 250000.0, \"State\": \"Ohio\", \"Gov_Grant\": 0, \"debt_financing\": 1.0, \"Funding_count\": 12, \"def_project\": 1, \"bins\": \"High Number of Financing Sources\", \"State_Housing_Credit_Equity\": 0}, {\"Project Name\": \"WoosterLofts\", \"Financing_sub_cat\": \"Other\", \"Interest Rate\": null, \"Funding Type\": \"Permanent Financing\", \"Project Type\": \"Family\", \"Amount of Funds\": 10000.0, \"State\": \"Ohio\", \"Gov_Grant\": 0, \"debt_financing\": null, \"Funding_count\": 12, \"def_project\": 1, \"bins\": \"High Number of Financing Sources\", \"State_Housing_Credit_Equity\": 0}, {\"Project Name\": \"Perseverance\", \"Financing_sub_cat\": \"Tax Credit\", \"Interest Rate\": null, \"Funding Type\": \"Construction Financing\", \"Project Type\": \"Family\", \"Amount of Funds\": 131653.0, \"State\": \"Ohio\", \"Gov_Grant\": 0, \"debt_financing\": 0.0, \"Funding_count\": 12, \"def_project\": 1, \"bins\": \"High Number of Financing Sources\", \"State_Housing_Credit_Equity\": 0}, {\"Project Name\": \"Perseverance\", \"Financing_sub_cat\": \"State Housing Credit Equity\", \"Interest Rate\": null, \"Funding Type\": \"Construction Financing\", \"Project Type\": \"Family\", \"Amount of Funds\": 540000.0, \"State\": \"Ohio\", \"Gov_Grant\": 0, \"debt_financing\": 0.0, \"Funding_count\": 12, \"def_project\": 1, \"bins\": \"High Number of Financing Sources\", \"State_Housing_Credit_Equity\": 1}, {\"Project Name\": \"Perseverance\", \"Financing_sub_cat\": \"Deferred Developer Fee\", \"Interest Rate\": null, \"Funding Type\": \"Construction Financing\", \"Project Type\": \"Family\", \"Amount of Funds\": 508389.82, \"State\": \"Ohio\", \"Gov_Grant\": 0, \"debt_financing\": 0.0, \"Funding_count\": 12, \"def_project\": 1, \"bins\": \"High Number of Financing Sources\", \"State_Housing_Credit_Equity\": 0}, {\"Project Name\": \"Perseverance\", \"Financing_sub_cat\": \"Bank Loan\", \"Interest Rate\": null, \"Funding Type\": \"Construction Financing\", \"Project Type\": \"Family\", \"Amount of Funds\": 3718742.0, \"State\": \"Ohio\", \"Gov_Grant\": 0, \"debt_financing\": 1.0, \"Funding_count\": 12, \"def_project\": 1, \"bins\": \"High Number of Financing Sources\", \"State_Housing_Credit_Equity\": 0}, {\"Project Name\": \"Perseverance\", \"Financing_sub_cat\": \"Other\", \"Interest Rate\": null, \"Funding Type\": \"Construction Financing\", \"Project Type\": \"Family\", \"Amount of Funds\": 675000.0, \"State\": \"Ohio\", \"Gov_Grant\": 0, \"debt_financing\": null, \"Funding_count\": 12, \"def_project\": 1, \"bins\": \"High Number of Financing Sources\", \"State_Housing_Credit_Equity\": 0}, {\"Project Name\": \"Perseverance\", \"Financing_sub_cat\": \"Other\", \"Interest Rate\": null, \"Funding Type\": \"Construction Financing\", \"Project Type\": \"Family\", \"Amount of Funds\": 1250000.0, \"State\": \"Ohio\", \"Gov_Grant\": 0, \"debt_financing\": null, \"Funding_count\": 12, \"def_project\": 1, \"bins\": \"High Number of Financing Sources\", \"State_Housing_Credit_Equity\": 0}, {\"Project Name\": \"Perseverance\", \"Financing_sub_cat\": \"Other\", \"Interest Rate\": null, \"Funding Type\": \"Construction Financing\", \"Project Type\": \"Family\", \"Amount of Funds\": 1123150.0, \"State\": \"Ohio\", \"Gov_Grant\": 0, \"debt_financing\": null, \"Funding_count\": 12, \"def_project\": 1, \"bins\": \"High Number of Financing Sources\", \"State_Housing_Credit_Equity\": 0}, {\"Project Name\": \"Perseverance\", \"Financing_sub_cat\": \"Tax Credit\", \"Interest Rate\": null, \"Funding Type\": \"Permanent Financing\", \"Project Type\": \"Family\", \"Amount of Funds\": 5236358.0, \"State\": \"Ohio\", \"Gov_Grant\": 0, \"debt_financing\": 0.0, \"Funding_count\": 12, \"def_project\": 1, \"bins\": \"High Number of Financing Sources\", \"State_Housing_Credit_Equity\": 0}, {\"Project Name\": \"Perseverance\", \"Financing_sub_cat\": \"State Housing Credit Equity\", \"Interest Rate\": null, \"Funding Type\": \"Permanent Financing\", \"Project Type\": \"Family\", \"Amount of Funds\": 600000.0, \"State\": \"Ohio\", \"Gov_Grant\": 0, \"debt_financing\": 0.0, \"Funding_count\": 12, \"def_project\": 1, \"bins\": \"High Number of Financing Sources\", \"State_Housing_Credit_Equity\": 1}, {\"Project Name\": \"Perseverance\", \"Financing_sub_cat\": \"Historic Tax Credit\", \"Interest Rate\": null, \"Funding Type\": \"Permanent Financing\", \"Project Type\": \"Family\", \"Amount of Funds\": 852187.0, \"State\": \"Ohio\", \"Gov_Grant\": 0, \"debt_financing\": 0.0, \"Funding_count\": 12, \"def_project\": 1, \"bins\": \"High Number of Financing Sources\", \"State_Housing_Credit_Equity\": 0}, {\"Project Name\": \"Perseverance\", \"Financing_sub_cat\": \"Deferred Developer Fee\", \"Interest Rate\": null, \"Funding Type\": \"Permanent Financing\", \"Project Type\": \"Family\", \"Amount of Funds\": 508389.82, \"State\": \"Ohio\", \"Gov_Grant\": 0, \"debt_financing\": 0.0, \"Funding_count\": 12, \"def_project\": 1, \"bins\": \"High Number of Financing Sources\", \"State_Housing_Credit_Equity\": 0}, {\"Project Name\": \"Perseverance\", \"Financing_sub_cat\": \"Other\", \"Interest Rate\": null, \"Funding Type\": \"Permanent Financing\", \"Project Type\": \"Family\", \"Amount of Funds\": 750000.0, \"State\": \"Ohio\", \"Gov_Grant\": 0, \"debt_financing\": null, \"Funding_count\": 12, \"def_project\": 1, \"bins\": \"High Number of Financing Sources\", \"State_Housing_Credit_Equity\": 0}, {\"Project Name\": \"OxfordPlace\", \"Financing_sub_cat\": \"Tax Credit\", \"Interest Rate\": null, \"Funding Type\": \"Construction Financing\", \"Project Type\": \"Seniors\", \"Amount of Funds\": 7025886.0, \"State\": \"Ohio\", \"Gov_Grant\": 0, \"debt_financing\": 0.0, \"Funding_count\": 9, \"def_project\": 1, \"bins\": \"Medium Number of Financing Sources\", \"State_Housing_Credit_Equity\": 0}, {\"Project Name\": \"OxfordPlace\", \"Financing_sub_cat\": \"Bank Loan\", \"Interest Rate\": null, \"Funding Type\": \"Construction Financing\", \"Project Type\": \"Seniors\", \"Amount of Funds\": 5000000.0, \"State\": \"Ohio\", \"Gov_Grant\": 0, \"debt_financing\": 1.0, \"Funding_count\": 9, \"def_project\": 1, \"bins\": \"Medium Number of Financing Sources\", \"State_Housing_Credit_Equity\": 0}, {\"Project Name\": \"OxfordPlace\", \"Financing_sub_cat\": \"Other\", \"Interest Rate\": null, \"Funding Type\": \"Construction Financing\", \"Project Type\": \"Seniors\", \"Amount of Funds\": 700000.0, \"State\": \"Ohio\", \"Gov_Grant\": 0, \"debt_financing\": null, \"Funding_count\": 9, \"def_project\": 1, \"bins\": \"Medium Number of Financing Sources\", \"State_Housing_Credit_Equity\": 0}, {\"Project Name\": \"OxfordPlace\", \"Financing_sub_cat\": \"Other\", \"Interest Rate\": null, \"Funding Type\": \"Construction Financing\", \"Project Type\": \"Seniors\", \"Amount of Funds\": 897648.0, \"State\": \"Ohio\", \"Gov_Grant\": 0, \"debt_financing\": null, \"Funding_count\": 9, \"def_project\": 1, \"bins\": \"Medium Number of Financing Sources\", \"State_Housing_Credit_Equity\": 0}, {\"Project Name\": \"OxfordPlace\", \"Financing_sub_cat\": \"Other\", \"Interest Rate\": null, \"Funding Type\": \"Construction Financing\", \"Project Type\": \"Seniors\", \"Amount of Funds\": 1250000.0, \"State\": \"Ohio\", \"Gov_Grant\": 0, \"debt_financing\": null, \"Funding_count\": 9, \"def_project\": 1, \"bins\": \"Medium Number of Financing Sources\", \"State_Housing_Credit_Equity\": 0}, {\"Project Name\": \"OxfordPlace\", \"Financing_sub_cat\": \"Tax Credit\", \"Interest Rate\": null, \"Funding Type\": \"Permanent Financing\", \"Project Type\": \"Seniors\", \"Amount of Funds\": 9199080.0, \"State\": \"Ohio\", \"Gov_Grant\": 0, \"debt_financing\": 0.0, \"Funding_count\": 9, \"def_project\": 1, \"bins\": \"Medium Number of Financing Sources\", \"State_Housing_Credit_Equity\": 0}, {\"Project Name\": \"OxfordPlace\", \"Financing_sub_cat\": \"Historic Tax Credit\", \"Interest Rate\": null, \"Funding Type\": \"Permanent Financing\", \"Project Type\": \"Seniors\", \"Amount of Funds\": 4660947.0, \"State\": \"Ohio\", \"Gov_Grant\": 0, \"debt_financing\": 0.0, \"Funding_count\": 9, \"def_project\": 1, \"bins\": \"Medium Number of Financing Sources\", \"State_Housing_Credit_Equity\": 0}, {\"Project Name\": \"OxfordPlace\", \"Financing_sub_cat\": \"Deferred Developer Fee\", \"Interest Rate\": null, \"Funding Type\": \"Permanent Financing\", \"Project Type\": \"Seniors\", \"Amount of Funds\": 313507.0, \"State\": \"Ohio\", \"Gov_Grant\": 0, \"debt_financing\": 0.0, \"Funding_count\": 9, \"def_project\": 1, \"bins\": \"Medium Number of Financing Sources\", \"State_Housing_Credit_Equity\": 0}, {\"Project Name\": \"OxfordPlace\", \"Financing_sub_cat\": \"Other\", \"Interest Rate\": null, \"Funding Type\": \"Permanent Financing\", \"Project Type\": \"Seniors\", \"Amount of Funds\": 700000.0, \"State\": \"Ohio\", \"Gov_Grant\": 0, \"debt_financing\": null, \"Funding_count\": 9, \"def_project\": 1, \"bins\": \"Medium Number of Financing Sources\", \"State_Housing_Credit_Equity\": 0}, {\"Project Name\": \"SanteeLanding\", \"Financing_sub_cat\": \"Tax Credit\", \"Interest Rate\": null, \"Funding Type\": \"Construction Financing\", \"Project Type\": \"Family\", \"Amount of Funds\": 1170000.0, \"State\": \"Ohio\", \"Gov_Grant\": 0, \"debt_financing\": 0.0, \"Funding_count\": 9, \"def_project\": 1, \"bins\": \"Medium Number of Financing Sources\", \"State_Housing_Credit_Equity\": 0}, {\"Project Name\": \"SanteeLanding\", \"Financing_sub_cat\": \"State Housing Credit Equity\", \"Interest Rate\": null, \"Funding Type\": \"Construction Financing\", \"Project Type\": \"Family\", \"Amount of Funds\": 270000.0, \"State\": \"Ohio\", \"Gov_Grant\": 0, \"debt_financing\": 0.0, \"Funding_count\": 9, \"def_project\": 1, \"bins\": \"Medium Number of Financing Sources\", \"State_Housing_Credit_Equity\": 1}, {\"Project Name\": \"SanteeLanding\", \"Financing_sub_cat\": \"Bank Loan\", \"Interest Rate\": null, \"Funding Type\": \"Construction Financing\", \"Project Type\": \"Family\", \"Amount of Funds\": 7385000.0, \"State\": \"Ohio\", \"Gov_Grant\": 0, \"debt_financing\": 1.0, \"Funding_count\": 9, \"def_project\": 1, \"bins\": \"Medium Number of Financing Sources\", \"State_Housing_Credit_Equity\": 0}, {\"Project Name\": \"SanteeLanding\", \"Financing_sub_cat\": \"Other\", \"Interest Rate\": null, \"Funding Type\": \"Construction Financing\", \"Project Type\": \"Family\", \"Amount of Funds\": 1250000.0, \"State\": \"Ohio\", \"Gov_Grant\": 0, \"debt_financing\": null, \"Funding_count\": 9, \"def_project\": 1, \"bins\": \"Medium Number of Financing Sources\", \"State_Housing_Credit_Equity\": 0}, {\"Project Name\": \"SanteeLanding\", \"Financing_sub_cat\": \"Tax Credit\", \"Interest Rate\": null, \"Funding Type\": \"Permanent Financing\", \"Project Type\": \"Family\", \"Amount of Funds\": 9200000.0, \"State\": \"Ohio\", \"Gov_Grant\": 0, \"debt_financing\": 0.0, \"Funding_count\": 9, \"def_project\": 1, \"bins\": \"Medium Number of Financing Sources\", \"State_Housing_Credit_Equity\": 0}, {\"Project Name\": \"SanteeLanding\", \"Financing_sub_cat\": \"State Housing Credit Equity\", \"Interest Rate\": null, \"Funding Type\": \"Permanent Financing\", \"Project Type\": \"Family\", \"Amount of Funds\": 300000.0, \"State\": \"Ohio\", \"Gov_Grant\": 0, \"debt_financing\": 0.0, \"Funding_count\": 9, \"def_project\": 1, \"bins\": \"Medium Number of Financing Sources\", \"State_Housing_Credit_Equity\": 1}, {\"Project Name\": \"SanteeLanding\", \"Financing_sub_cat\": \"Deferred Developer Fee\", \"Interest Rate\": null, \"Funding Type\": \"Permanent Financing\", \"Project Type\": \"Family\", \"Amount of Funds\": 172837.0, \"State\": \"Ohio\", \"Gov_Grant\": 0, \"debt_financing\": 0.0, \"Funding_count\": 9, \"def_project\": 1, \"bins\": \"Medium Number of Financing Sources\", \"State_Housing_Credit_Equity\": 0}, {\"Project Name\": \"SanteeLanding\", \"Financing_sub_cat\": \"Bank Loan\", \"Interest Rate\": null, \"Funding Type\": \"Permanent Financing\", \"Project Type\": \"Family\", \"Amount of Funds\": 1052939.0, \"State\": \"Ohio\", \"Gov_Grant\": 0, \"debt_financing\": 1.0, \"Funding_count\": 9, \"def_project\": 1, \"bins\": \"Medium Number of Financing Sources\", \"State_Housing_Credit_Equity\": 0}, {\"Project Name\": \"SanteeLanding\", \"Financing_sub_cat\": \"Other\", \"Interest Rate\": null, \"Funding Type\": \"Permanent Financing\", \"Project Type\": \"Family\", \"Amount of Funds\": 245000.0, \"State\": \"Ohio\", \"Gov_Grant\": 0, \"debt_financing\": null, \"Funding_count\": 9, \"def_project\": 1, \"bins\": \"Medium Number of Financing Sources\", \"State_Housing_Credit_Equity\": 0}, {\"Project Name\": \"HamiltonCrossingAnnex\", \"Financing_sub_cat\": \"Deferred Developer Fee\", \"Interest Rate\": null, \"Funding Type\": \"Construction Financing\", \"Project Type\": \"Seniors\", \"Amount of Funds\": 1144300.0, \"State\": \"Ohio\", \"Gov_Grant\": 0, \"debt_financing\": 0.0, \"Funding_count\": 8, \"def_project\": 1, \"bins\": \"Low Number of Financing Sources\", \"State_Housing_Credit_Equity\": 0}, {\"Project Name\": \"HamiltonCrossingAnnex\", \"Financing_sub_cat\": \"Bank Loan\", \"Interest Rate\": null, \"Funding Type\": \"Construction Financing\", \"Project Type\": \"Seniors\", \"Amount of Funds\": 3560000.0, \"State\": \"Ohio\", \"Gov_Grant\": 0, \"debt_financing\": 1.0, \"Funding_count\": 8, \"def_project\": 1, \"bins\": \"Low Number of Financing Sources\", \"State_Housing_Credit_Equity\": 0}, {\"Project Name\": \"HamiltonCrossingAnnex\", \"Financing_sub_cat\": \"Other\", \"Interest Rate\": null, \"Funding Type\": \"Construction Financing\", \"Project Type\": \"Seniors\", \"Amount of Funds\": 200000.0, \"State\": \"Ohio\", \"Gov_Grant\": 0, \"debt_financing\": null, \"Funding_count\": 8, \"def_project\": 1, \"bins\": \"Low Number of Financing Sources\", \"State_Housing_Credit_Equity\": 0}, {\"Project Name\": \"HamiltonCrossingAnnex\", \"Financing_sub_cat\": \"Other\", \"Interest Rate\": null, \"Funding Type\": \"Construction Financing\", \"Project Type\": \"Seniors\", \"Amount of Funds\": 1250000.0, \"State\": \"Ohio\", \"Gov_Grant\": 0, \"debt_financing\": null, \"Funding_count\": 8, \"def_project\": 1, \"bins\": \"Low Number of Financing Sources\", \"State_Housing_Credit_Equity\": 0}, {\"Project Name\": \"HamiltonCrossingAnnex\", \"Financing_sub_cat\": \"Tax Credit\", \"Interest Rate\": null, \"Funding Type\": \"Permanent Financing\", \"Project Type\": \"Seniors\", \"Amount of Funds\": 5214300.0, \"State\": \"Ohio\", \"Gov_Grant\": 0, \"debt_financing\": 0.0, \"Funding_count\": 8, \"def_project\": 1, \"bins\": \"Low Number of Financing Sources\", \"State_Housing_Credit_Equity\": 0}, {\"Project Name\": \"HamiltonCrossingAnnex\", \"Financing_sub_cat\": \"Deferred Developer Fee\", \"Interest Rate\": null, \"Funding Type\": \"Permanent Financing\", \"Project Type\": \"Seniors\", \"Amount of Funds\": 40000.0, \"State\": \"Ohio\", \"Gov_Grant\": 0, \"debt_financing\": 0.0, \"Funding_count\": 8, \"def_project\": 1, \"bins\": \"Low Number of Financing Sources\", \"State_Housing_Credit_Equity\": 0}, {\"Project Name\": \"HamiltonCrossingAnnex\", \"Financing_sub_cat\": \"Bank Loan\", \"Interest Rate\": null, \"Funding Type\": \"Permanent Financing\", \"Project Type\": \"Seniors\", \"Amount of Funds\": 700000.0, \"State\": \"Ohio\", \"Gov_Grant\": 0, \"debt_financing\": 1.0, \"Funding_count\": 8, \"def_project\": 1, \"bins\": \"Low Number of Financing Sources\", \"State_Housing_Credit_Equity\": 0}, {\"Project Name\": \"HamiltonCrossingAnnex\", \"Financing_sub_cat\": \"Other\", \"Interest Rate\": null, \"Funding Type\": \"Permanent Financing\", \"Project Type\": \"Seniors\", \"Amount of Funds\": 200000.0, \"State\": \"Ohio\", \"Gov_Grant\": 0, \"debt_financing\": null, \"Funding_count\": 8, \"def_project\": 1, \"bins\": \"Low Number of Financing Sources\", \"State_Housing_Credit_Equity\": 0}, {\"Project Name\": \"SidneyCrossing\", \"Financing_sub_cat\": \"Tax Credit\", \"Interest Rate\": null, \"Funding Type\": \"Construction Financing\", \"Project Type\": \"Family\", \"Amount of Funds\": 250000.0, \"State\": \"Ohio\", \"Gov_Grant\": 0, \"debt_financing\": 0.0, \"Funding_count\": 9, \"def_project\": 1, \"bins\": \"Medium Number of Financing Sources\", \"State_Housing_Credit_Equity\": 0}, {\"Project Name\": \"SidneyCrossing\", \"Financing_sub_cat\": \"State Housing Credit Equity\", \"Interest Rate\": null, \"Funding Type\": \"Construction Financing\", \"Project Type\": \"Family\", \"Amount of Funds\": 260000.0, \"State\": \"Ohio\", \"Gov_Grant\": 0, \"debt_financing\": 0.0, \"Funding_count\": 9, \"def_project\": 1, \"bins\": \"Medium Number of Financing Sources\", \"State_Housing_Credit_Equity\": 1}, {\"Project Name\": \"SidneyCrossing\", \"Financing_sub_cat\": \"Deferred Developer Fee\", \"Interest Rate\": null, \"Funding Type\": \"Construction Financing\", \"Project Type\": \"Family\", \"Amount of Funds\": 800000.0, \"State\": \"Ohio\", \"Gov_Grant\": 0, \"debt_financing\": 0.0, \"Funding_count\": 9, \"def_project\": 1, \"bins\": \"Medium Number of Financing Sources\", \"State_Housing_Credit_Equity\": 0}, {\"Project Name\": \"SidneyCrossing\", \"Financing_sub_cat\": \"Bank Loan\", \"Interest Rate\": null, \"Funding Type\": \"Construction Financing\", \"Project Type\": \"Family\", \"Amount of Funds\": 6463690.0, \"State\": \"Ohio\", \"Gov_Grant\": 0, \"debt_financing\": 1.0, \"Funding_count\": 9, \"def_project\": 1, \"bins\": \"Medium Number of Financing Sources\", \"State_Housing_Credit_Equity\": 0}, {\"Project Name\": \"SidneyCrossing\", \"Financing_sub_cat\": \"Other\", \"Interest Rate\": null, \"Funding Type\": \"Construction Financing\", \"Project Type\": \"Family\", \"Amount of Funds\": 1250000.0, \"State\": \"Ohio\", \"Gov_Grant\": 0, \"debt_financing\": null, \"Funding_count\": 9, \"def_project\": 1, \"bins\": \"Medium Number of Financing Sources\", \"State_Housing_Credit_Equity\": 0}, {\"Project Name\": \"SidneyCrossing\", \"Financing_sub_cat\": \"Tax Credit\", \"Interest Rate\": null, \"Funding Type\": \"Permanent Financing\", \"Project Type\": \"Family\", \"Amount of Funds\": 7221278.0, \"State\": \"Ohio\", \"Gov_Grant\": 0, \"debt_financing\": 0.0, \"Funding_count\": 9, \"def_project\": 1, \"bins\": \"Medium Number of Financing Sources\", \"State_Housing_Credit_Equity\": 0}, {\"Project Name\": \"SidneyCrossing\", \"Financing_sub_cat\": \"State Housing Credit Equity\", \"Interest Rate\": null, \"Funding Type\": \"Permanent Financing\", \"Project Type\": \"Family\", \"Amount of Funds\": 300000.0, \"State\": \"Ohio\", \"Gov_Grant\": 0, \"debt_financing\": 0.0, \"Funding_count\": 9, \"def_project\": 1, \"bins\": \"Medium Number of Financing Sources\", \"State_Housing_Credit_Equity\": 1}, {\"Project Name\": \"SidneyCrossing\", \"Financing_sub_cat\": \"Deferred Developer Fee\", \"Interest Rate\": null, \"Funding Type\": \"Permanent Financing\", \"Project Type\": \"Family\", \"Amount of Funds\": 162412.0, \"State\": \"Ohio\", \"Gov_Grant\": 0, \"debt_financing\": 0.0, \"Funding_count\": 9, \"def_project\": 1, \"bins\": \"Medium Number of Financing Sources\", \"State_Housing_Credit_Equity\": 0}, {\"Project Name\": \"SidneyCrossing\", \"Financing_sub_cat\": \"Bank Loan\", \"Interest Rate\": null, \"Funding Type\": \"Permanent Financing\", \"Project Type\": \"Family\", \"Amount of Funds\": 1340000.0, \"State\": \"Ohio\", \"Gov_Grant\": 0, \"debt_financing\": 1.0, \"Funding_count\": 9, \"def_project\": 1, \"bins\": \"Medium Number of Financing Sources\", \"State_Housing_Credit_Equity\": 0}, {\"Project Name\": \"FranklinManorSouth\", \"Financing_sub_cat\": \"Tax Credit\", \"Interest Rate\": null, \"Funding Type\": \"Construction Financing\", \"Project Type\": \"Family\", \"Amount of Funds\": 2290500.0, \"State\": \"Ohio\", \"Gov_Grant\": 0, \"debt_financing\": 0.0, \"Funding_count\": 8, \"def_project\": 0, \"bins\": \"Low Number of Financing Sources\", \"State_Housing_Credit_Equity\": 0}, {\"Project Name\": \"FranklinManorSouth\", \"Financing_sub_cat\": \"Bank Loan\", \"Interest Rate\": null, \"Funding Type\": \"Construction Financing\", \"Project Type\": \"Family\", \"Amount of Funds\": 7423117.0, \"State\": \"Ohio\", \"Gov_Grant\": 0, \"debt_financing\": 1.0, \"Funding_count\": 8, \"def_project\": 0, \"bins\": \"Low Number of Financing Sources\", \"State_Housing_Credit_Equity\": 0}, {\"Project Name\": \"FranklinManorSouth\", \"Financing_sub_cat\": \"Other\", \"Interest Rate\": null, \"Funding Type\": \"Construction Financing\", \"Project Type\": \"Family\", \"Amount of Funds\": 250000.0, \"State\": \"Ohio\", \"Gov_Grant\": 0, \"debt_financing\": null, \"Funding_count\": 8, \"def_project\": 0, \"bins\": \"Low Number of Financing Sources\", \"State_Housing_Credit_Equity\": 0}, {\"Project Name\": \"FranklinManorSouth\", \"Financing_sub_cat\": \"Other\", \"Interest Rate\": null, \"Funding Type\": \"Construction Financing\", \"Project Type\": \"Family\", \"Amount of Funds\": 6750000.0, \"State\": \"Ohio\", \"Gov_Grant\": 0, \"debt_financing\": null, \"Funding_count\": 8, \"def_project\": 0, \"bins\": \"Low Number of Financing Sources\", \"State_Housing_Credit_Equity\": 0}, {\"Project Name\": \"FranklinManorSouth\", \"Financing_sub_cat\": \"Other\", \"Interest Rate\": null, \"Funding Type\": \"Construction Financing\", \"Project Type\": \"Family\", \"Amount of Funds\": 2489130.0, \"State\": \"Ohio\", \"Gov_Grant\": 0, \"debt_financing\": null, \"Funding_count\": 8, \"def_project\": 0, \"bins\": \"Low Number of Financing Sources\", \"State_Housing_Credit_Equity\": 0}, {\"Project Name\": \"FranklinManorSouth\", \"Financing_sub_cat\": \"Tax Credit\", \"Interest Rate\": null, \"Funding Type\": \"Permanent Financing\", \"Project Type\": \"Family\", \"Amount of Funds\": 11452747.0, \"State\": \"Ohio\", \"Gov_Grant\": 0, \"debt_financing\": 0.0, \"Funding_count\": 8, \"def_project\": 0, \"bins\": \"Low Number of Financing Sources\", \"State_Housing_Credit_Equity\": 0}, {\"Project Name\": \"FranklinManorSouth\", \"Financing_sub_cat\": \"Bank Loan\", \"Interest Rate\": null, \"Funding Type\": \"Permanent Financing\", \"Project Type\": \"Family\", \"Amount of Funds\": 7500000.0, \"State\": \"Ohio\", \"Gov_Grant\": 0, \"debt_financing\": 1.0, \"Funding_count\": 8, \"def_project\": 0, \"bins\": \"Low Number of Financing Sources\", \"State_Housing_Credit_Equity\": 0}, {\"Project Name\": \"FranklinManorSouth\", \"Financing_sub_cat\": \"Other\", \"Interest Rate\": null, \"Funding Type\": \"Permanent Financing\", \"Project Type\": \"Family\", \"Amount of Funds\": 250000.0, \"State\": \"Ohio\", \"Gov_Grant\": 0, \"debt_financing\": null, \"Funding_count\": 8, \"def_project\": 0, \"bins\": \"Low Number of Financing Sources\", \"State_Housing_Credit_Equity\": 0}, {\"Project Name\": \"OverlookApartments\", \"Financing_sub_cat\": \"Tax Credit\", \"Interest Rate\": null, \"Funding Type\": \"Construction Financing\", \"Project Type\": \"Family\", \"Amount of Funds\": 1376705.0, \"State\": \"Ohio\", \"Gov_Grant\": 0, \"debt_financing\": 0.0, \"Funding_count\": 10, \"def_project\": 1, \"bins\": \"Medium Number of Financing Sources\", \"State_Housing_Credit_Equity\": 0}, {\"Project Name\": \"OverlookApartments\", \"Financing_sub_cat\": \"State Housing Credit Equity\", \"Interest Rate\": null, \"Funding Type\": \"Construction Financing\", \"Project Type\": \"Family\", \"Amount of Funds\": 600000.0, \"State\": \"Ohio\", \"Gov_Grant\": 0, \"debt_financing\": 0.0, \"Funding_count\": 10, \"def_project\": 1, \"bins\": \"Medium Number of Financing Sources\", \"State_Housing_Credit_Equity\": 1}, {\"Project Name\": \"OverlookApartments\", \"Financing_sub_cat\": \"Bank Loan\", \"Interest Rate\": null, \"Funding Type\": \"Construction Financing\", \"Project Type\": \"Family\", \"Amount of Funds\": 4269130.0, \"State\": \"Ohio\", \"Gov_Grant\": 0, \"debt_financing\": 1.0, \"Funding_count\": 10, \"def_project\": 1, \"bins\": \"Medium Number of Financing Sources\", \"State_Housing_Credit_Equity\": 0}, {\"Project Name\": \"OverlookApartments\", \"Financing_sub_cat\": \"Other\", \"Interest Rate\": null, \"Funding Type\": \"Construction Financing\", \"Project Type\": \"Family\", \"Amount of Funds\": 500.0, \"State\": \"Ohio\", \"Gov_Grant\": 0, \"debt_financing\": null, \"Funding_count\": 10, \"def_project\": 1, \"bins\": \"Medium Number of Financing Sources\", \"State_Housing_Credit_Equity\": 0}, {\"Project Name\": \"OverlookApartments\", \"Financing_sub_cat\": \"Other\", \"Interest Rate\": null, \"Funding Type\": \"Construction Financing\", \"Project Type\": \"Family\", \"Amount of Funds\": 1250000.0, \"State\": \"Ohio\", \"Gov_Grant\": 0, \"debt_financing\": null, \"Funding_count\": 10, \"def_project\": 1, \"bins\": \"Medium Number of Financing Sources\", \"State_Housing_Credit_Equity\": 0}, {\"Project Name\": \"OverlookApartments\", \"Financing_sub_cat\": \"Tax Credit\", \"Interest Rate\": null, \"Funding Type\": \"Permanent Financing\", \"Project Type\": \"Family\", \"Amount of Funds\": 7519248.0, \"State\": \"Ohio\", \"Gov_Grant\": 0, \"debt_financing\": 0.0, \"Funding_count\": 10, \"def_project\": 1, \"bins\": \"Medium Number of Financing Sources\", \"State_Housing_Credit_Equity\": 0}, {\"Project Name\": \"OverlookApartments\", \"Financing_sub_cat\": \"State Housing Credit Equity\", \"Interest Rate\": null, \"Funding Type\": \"Permanent Financing\", \"Project Type\": \"Family\", \"Amount of Funds\": 600000.0, \"State\": \"Ohio\", \"Gov_Grant\": 0, \"debt_financing\": 0.0, \"Funding_count\": 10, \"def_project\": 1, \"bins\": \"Medium Number of Financing Sources\", \"State_Housing_Credit_Equity\": 1}, {\"Project Name\": \"OverlookApartments\", \"Financing_sub_cat\": \"Deferred Developer Fee\", \"Interest Rate\": null, \"Funding Type\": \"Permanent Financing\", \"Project Type\": \"Family\", \"Amount of Funds\": 174367.0, \"State\": \"Ohio\", \"Gov_Grant\": 0, \"debt_financing\": 0.0, \"Funding_count\": 10, \"def_project\": 1, \"bins\": \"Medium Number of Financing Sources\", \"State_Housing_Credit_Equity\": 0}, {\"Project Name\": \"OverlookApartments\", \"Financing_sub_cat\": \"Bank Loan\", \"Interest Rate\": null, \"Funding Type\": \"Permanent Financing\", \"Project Type\": \"Family\", \"Amount of Funds\": 625000.0, \"State\": \"Ohio\", \"Gov_Grant\": 0, \"debt_financing\": 1.0, \"Funding_count\": 10, \"def_project\": 1, \"bins\": \"Medium Number of Financing Sources\", \"State_Housing_Credit_Equity\": 0}, {\"Project Name\": \"OverlookApartments\", \"Financing_sub_cat\": \"Other\", \"Interest Rate\": null, \"Funding Type\": \"Permanent Financing\", \"Project Type\": \"Family\", \"Amount of Funds\": 500.0, \"State\": \"Ohio\", \"Gov_Grant\": 0, \"debt_financing\": null, \"Funding_count\": 10, \"def_project\": 1, \"bins\": \"Medium Number of Financing Sources\", \"State_Housing_Credit_Equity\": 0}, {\"Project Name\": \"RachelCourt\", \"Financing_sub_cat\": \"Tax Credit\", \"Interest Rate\": null, \"Funding Type\": \"Construction Financing\", \"Project Type\": \"Seniors\", \"Amount of Funds\": 127752.0, \"State\": \"Ohio\", \"Gov_Grant\": 0, \"debt_financing\": 0.0, \"Funding_count\": 14, \"def_project\": 1, \"bins\": \"High Number of Financing Sources\", \"State_Housing_Credit_Equity\": 0}, {\"Project Name\": \"RachelCourt\", \"Financing_sub_cat\": \"Bank Loan\", \"Interest Rate\": null, \"Funding Type\": \"Construction Financing\", \"Project Type\": \"Seniors\", \"Amount of Funds\": 3378097.0, \"State\": \"Ohio\", \"Gov_Grant\": 0, \"debt_financing\": 1.0, \"Funding_count\": 14, \"def_project\": 1, \"bins\": \"High Number of Financing Sources\", \"State_Housing_Credit_Equity\": 0}, {\"Project Name\": \"RachelCourt\", \"Financing_sub_cat\": \"Other\", \"Interest Rate\": null, \"Funding Type\": \"Construction Financing\", \"Project Type\": \"Seniors\", \"Amount of Funds\": 1250000.0, \"State\": \"Ohio\", \"Gov_Grant\": 0, \"debt_financing\": null, \"Funding_count\": 14, \"def_project\": 1, \"bins\": \"High Number of Financing Sources\", \"State_Housing_Credit_Equity\": 0}, {\"Project Name\": \"RachelCourt\", \"Financing_sub_cat\": \"Other\", \"Interest Rate\": null, \"Funding Type\": \"Construction Financing\", \"Project Type\": \"Seniors\", \"Amount of Funds\": 327718.0, \"State\": \"Ohio\", \"Gov_Grant\": 0, \"debt_financing\": null, \"Funding_count\": 14, \"def_project\": 1, \"bins\": \"High Number of Financing Sources\", \"State_Housing_Credit_Equity\": 0}, {\"Project Name\": \"RachelCourt\", \"Financing_sub_cat\": \"Other\", \"Interest Rate\": null, \"Funding Type\": \"Construction Financing\", \"Project Type\": \"Seniors\", \"Amount of Funds\": 251000.0, \"State\": \"Ohio\", \"Gov_Grant\": 0, \"debt_financing\": null, \"Funding_count\": 14, \"def_project\": 1, \"bins\": \"High Number of Financing Sources\", \"State_Housing_Credit_Equity\": 0}, {\"Project Name\": \"RachelCourt\", \"Financing_sub_cat\": \"Other\", \"Interest Rate\": null, \"Funding Type\": \"Construction Financing\", \"Project Type\": \"Seniors\", \"Amount of Funds\": 112282.0, \"State\": \"Ohio\", \"Gov_Grant\": 0, \"debt_financing\": null, \"Funding_count\": 14, \"def_project\": 1, \"bins\": \"High Number of Financing Sources\", \"State_Housing_Credit_Equity\": 0}, {\"Project Name\": \"RachelCourt\", \"Financing_sub_cat\": \"Other\", \"Interest Rate\": null, \"Funding Type\": \"Construction Financing\", \"Project Type\": \"Seniors\", \"Amount of Funds\": 827608.0, \"State\": \"Ohio\", \"Gov_Grant\": 0, \"debt_financing\": null, \"Funding_count\": 14, \"def_project\": 1, \"bins\": \"High Number of Financing Sources\", \"State_Housing_Credit_Equity\": 0}, {\"Project Name\": \"RachelCourt\", \"Financing_sub_cat\": \"Tax Credit\", \"Interest Rate\": null, \"Funding Type\": \"Permanent Financing\", \"Project Type\": \"Seniors\", \"Amount of Funds\": 4476263.0, \"State\": \"Ohio\", \"Gov_Grant\": 0, \"debt_financing\": 0.0, \"Funding_count\": 14, \"def_project\": 1, \"bins\": \"High Number of Financing Sources\", \"State_Housing_Credit_Equity\": 0}, {\"Project Name\": \"RachelCourt\", \"Financing_sub_cat\": \"Deferred Developer Fee\", \"Interest Rate\": null, \"Funding Type\": \"Permanent Financing\", \"Project Type\": \"Seniors\", \"Amount of Funds\": 208994.0, \"State\": \"Ohio\", \"Gov_Grant\": 0, \"debt_financing\": 0.0, \"Funding_count\": 14, \"def_project\": 1, \"bins\": \"High Number of Financing Sources\", \"State_Housing_Credit_Equity\": 0}, {\"Project Name\": \"RachelCourt\", \"Financing_sub_cat\": \"Bank Loan\", \"Interest Rate\": null, \"Funding Type\": \"Permanent Financing\", \"Project Type\": \"Seniors\", \"Amount of Funds\": 327718.0, \"State\": \"Ohio\", \"Gov_Grant\": 0, \"debt_financing\": 1.0, \"Funding_count\": 14, \"def_project\": 1, \"bins\": \"High Number of Financing Sources\", \"State_Housing_Credit_Equity\": 0}, {\"Project Name\": \"RachelCourt\", \"Financing_sub_cat\": \"Bank Loan\", \"Interest Rate\": null, \"Funding Type\": \"Permanent Financing\", \"Project Type\": \"Seniors\", \"Amount of Funds\": 112282.0, \"State\": \"Ohio\", \"Gov_Grant\": 0, \"debt_financing\": 1.0, \"Funding_count\": 14, \"def_project\": 1, \"bins\": \"High Number of Financing Sources\", \"State_Housing_Credit_Equity\": 0}, {\"Project Name\": \"RachelCourt\", \"Financing_sub_cat\": \"Other\", \"Interest Rate\": null, \"Funding Type\": \"Permanent Financing\", \"Project Type\": \"Seniors\", \"Amount of Funds\": 1000000.0, \"State\": \"Ohio\", \"Gov_Grant\": 0, \"debt_financing\": null, \"Funding_count\": 14, \"def_project\": 1, \"bins\": \"High Number of Financing Sources\", \"State_Housing_Credit_Equity\": 0}, {\"Project Name\": \"RachelCourt\", \"Financing_sub_cat\": \"Other\", \"Interest Rate\": null, \"Funding Type\": \"Permanent Financing\", \"Project Type\": \"Seniors\", \"Amount of Funds\": 1000.0, \"State\": \"Ohio\", \"Gov_Grant\": 0, \"debt_financing\": null, \"Funding_count\": 14, \"def_project\": 1, \"bins\": \"High Number of Financing Sources\", \"State_Housing_Credit_Equity\": 0}, {\"Project Name\": \"RachelCourt\", \"Financing_sub_cat\": \"Other\", \"Interest Rate\": null, \"Funding Type\": \"Permanent Financing\", \"Project Type\": \"Seniors\", \"Amount of Funds\": 148200.0, \"State\": \"Ohio\", \"Gov_Grant\": 0, \"debt_financing\": null, \"Funding_count\": 14, \"def_project\": 1, \"bins\": \"High Number of Financing Sources\", \"State_Housing_Credit_Equity\": 0}, {\"Project Name\": \"BridgePointeCommons\", \"Financing_sub_cat\": \"Tax Credit\", \"Interest Rate\": null, \"Funding Type\": \"Construction Financing\", \"Project Type\": \"Service Enriched\", \"Amount of Funds\": 2819718.0, \"State\": \"Ohio\", \"Gov_Grant\": 0, \"debt_financing\": 0.0, \"Funding_count\": 19, \"def_project\": 1, \"bins\": \"High Number of Financing Sources\", \"State_Housing_Credit_Equity\": 0}, {\"Project Name\": \"BridgePointeCommons\", \"Financing_sub_cat\": \"State Housing Credit Equity\", \"Interest Rate\": null, \"Funding Type\": \"Construction Financing\", \"Project Type\": \"Service Enriched\", \"Amount of Funds\": 540000.0, \"State\": \"Ohio\", \"Gov_Grant\": 0, \"debt_financing\": 0.0, \"Funding_count\": 19, \"def_project\": 1, \"bins\": \"High Number of Financing Sources\", \"State_Housing_Credit_Equity\": 1}, {\"Project Name\": \"BridgePointeCommons\", \"Financing_sub_cat\": \"Deferred Developer Fee\", \"Interest Rate\": null, \"Funding Type\": \"Construction Financing\", \"Project Type\": \"Service Enriched\", \"Amount of Funds\": 1386035.9, \"State\": \"Ohio\", \"Gov_Grant\": 0, \"debt_financing\": 0.0, \"Funding_count\": 19, \"def_project\": 1, \"bins\": \"High Number of Financing Sources\", \"State_Housing_Credit_Equity\": 0}, {\"Project Name\": \"BridgePointeCommons\", \"Financing_sub_cat\": \"Bank Loan\", \"Interest Rate\": null, \"Funding Type\": \"Construction Financing\", \"Project Type\": \"Service Enriched\", \"Amount of Funds\": 7000000.0, \"State\": \"Ohio\", \"Gov_Grant\": 0, \"debt_financing\": 1.0, \"Funding_count\": 19, \"def_project\": 1, \"bins\": \"High Number of Financing Sources\", \"State_Housing_Credit_Equity\": 0}, {\"Project Name\": \"BridgePointeCommons\", \"Financing_sub_cat\": \"Other\", \"Interest Rate\": null, \"Funding Type\": \"Construction Financing\", \"Project Type\": \"Service Enriched\", \"Amount of Funds\": 250000.0, \"State\": \"Ohio\", \"Gov_Grant\": 0, \"debt_financing\": null, \"Funding_count\": 19, \"def_project\": 1, \"bins\": \"High Number of Financing Sources\", \"State_Housing_Credit_Equity\": 0}, {\"Project Name\": \"BridgePointeCommons\", \"Financing_sub_cat\": \"Other\", \"Interest Rate\": null, \"Funding Type\": \"Construction Financing\", \"Project Type\": \"Service Enriched\", \"Amount of Funds\": 500000.0, \"State\": \"Ohio\", \"Gov_Grant\": 0, \"debt_financing\": null, \"Funding_count\": 19, \"def_project\": 1, \"bins\": \"High Number of Financing Sources\", \"State_Housing_Credit_Equity\": 0}, {\"Project Name\": \"BridgePointeCommons\", \"Financing_sub_cat\": \"Other\", \"Interest Rate\": null, \"Funding Type\": \"Construction Financing\", \"Project Type\": \"Service Enriched\", \"Amount of Funds\": 250000.0, \"State\": \"Ohio\", \"Gov_Grant\": 0, \"debt_financing\": null, \"Funding_count\": 19, \"def_project\": 1, \"bins\": \"High Number of Financing Sources\", \"State_Housing_Credit_Equity\": 0}, {\"Project Name\": \"BridgePointeCommons\", \"Financing_sub_cat\": \"Other\", \"Interest Rate\": null, \"Funding Type\": \"Construction Financing\", \"Project Type\": \"Service Enriched\", \"Amount of Funds\": 100000.0, \"State\": \"Ohio\", \"Gov_Grant\": 0, \"debt_financing\": null, \"Funding_count\": 19, \"def_project\": 1, \"bins\": \"High Number of Financing Sources\", \"State_Housing_Credit_Equity\": 0}, {\"Project Name\": \"BridgePointeCommons\", \"Financing_sub_cat\": \"Other\", \"Interest Rate\": null, \"Funding Type\": \"Construction Financing\", \"Project Type\": \"Service Enriched\", \"Amount of Funds\": 1000.0, \"State\": \"Ohio\", \"Gov_Grant\": 0, \"debt_financing\": null, \"Funding_count\": 19, \"def_project\": 1, \"bins\": \"High Number of Financing Sources\", \"State_Housing_Credit_Equity\": 0}, {\"Project Name\": \"BridgePointeCommons\", \"Financing_sub_cat\": \"Tax Credit\", \"Interest Rate\": null, \"Funding Type\": \"Permanent Financing\", \"Project Type\": \"Service Enriched\", \"Amount of Funds\": 9399060.0, \"State\": \"Ohio\", \"Gov_Grant\": 0, \"debt_financing\": 0.0, \"Funding_count\": 19, \"def_project\": 1, \"bins\": \"High Number of Financing Sources\", \"State_Housing_Credit_Equity\": 0}, {\"Project Name\": \"BridgePointeCommons\", \"Financing_sub_cat\": \"State Housing Credit Equity\", \"Interest Rate\": null, \"Funding Type\": \"Permanent Financing\", \"Project Type\": \"Service Enriched\", \"Amount of Funds\": 600000.0, \"State\": \"Ohio\", \"Gov_Grant\": 0, \"debt_financing\": 0.0, \"Funding_count\": 19, \"def_project\": 1, \"bins\": \"High Number of Financing Sources\", \"State_Housing_Credit_Equity\": 1}, {\"Project Name\": \"BridgePointeCommons\", \"Financing_sub_cat\": \"Deferred Developer Fee\", \"Interest Rate\": null, \"Funding Type\": \"Permanent Financing\", \"Project Type\": \"Service Enriched\", \"Amount of Funds\": 741693.9, \"State\": \"Ohio\", \"Gov_Grant\": 0, \"debt_financing\": 0.0, \"Funding_count\": 19, \"def_project\": 1, \"bins\": \"High Number of Financing Sources\", \"State_Housing_Credit_Equity\": 0}, {\"Project Name\": \"BridgePointeCommons\", \"Financing_sub_cat\": \"Bank Loan\", \"Interest Rate\": null, \"Funding Type\": \"Permanent Financing\", \"Project Type\": \"Service Enriched\", \"Amount of Funds\": 85000.0, \"State\": \"Ohio\", \"Gov_Grant\": 0, \"debt_financing\": 1.0, \"Funding_count\": 19, \"def_project\": 1, \"bins\": \"High Number of Financing Sources\", \"State_Housing_Credit_Equity\": 0}, {\"Project Name\": \"BridgePointeCommons\", \"Financing_sub_cat\": \"Bank Loan\", \"Interest Rate\": null, \"Funding Type\": \"Permanent Financing\", \"Project Type\": \"Service Enriched\", \"Amount of Funds\": 170000.0, \"State\": \"Ohio\", \"Gov_Grant\": 0, \"debt_financing\": 1.0, \"Funding_count\": 19, \"def_project\": 1, \"bins\": \"High Number of Financing Sources\", \"State_Housing_Credit_Equity\": 0}, {\"Project Name\": \"BridgePointeCommons\", \"Financing_sub_cat\": \"Other\", \"Interest Rate\": null, \"Funding Type\": \"Permanent Financing\", \"Project Type\": \"Service Enriched\", \"Amount of Funds\": 1000000.0, \"State\": \"Ohio\", \"Gov_Grant\": 0, \"debt_financing\": null, \"Funding_count\": 19, \"def_project\": 1, \"bins\": \"High Number of Financing Sources\", \"State_Housing_Credit_Equity\": 0}, {\"Project Name\": \"BridgePointeCommons\", \"Financing_sub_cat\": \"Other\", \"Interest Rate\": null, \"Funding Type\": \"Permanent Financing\", \"Project Type\": \"Service Enriched\", \"Amount of Funds\": 500000.0, \"State\": \"Ohio\", \"Gov_Grant\": 0, \"debt_financing\": null, \"Funding_count\": 19, \"def_project\": 1, \"bins\": \"High Number of Financing Sources\", \"State_Housing_Credit_Equity\": 0}, {\"Project Name\": \"BridgePointeCommons\", \"Financing_sub_cat\": \"Other\", \"Interest Rate\": null, \"Funding Type\": \"Permanent Financing\", \"Project Type\": \"Service Enriched\", \"Amount of Funds\": 250000.0, \"State\": \"Ohio\", \"Gov_Grant\": 0, \"debt_financing\": null, \"Funding_count\": 19, \"def_project\": 1, \"bins\": \"High Number of Financing Sources\", \"State_Housing_Credit_Equity\": 0}, {\"Project Name\": \"BridgePointeCommons\", \"Financing_sub_cat\": \"Other\", \"Interest Rate\": null, \"Funding Type\": \"Permanent Financing\", \"Project Type\": \"Service Enriched\", \"Amount of Funds\": 100000.0, \"State\": \"Ohio\", \"Gov_Grant\": 0, \"debt_financing\": null, \"Funding_count\": 19, \"def_project\": 1, \"bins\": \"High Number of Financing Sources\", \"State_Housing_Credit_Equity\": 0}, {\"Project Name\": \"BridgePointeCommons\", \"Financing_sub_cat\": \"Other\", \"Interest Rate\": null, \"Funding Type\": \"Permanent Financing\", \"Project Type\": \"Service Enriched\", \"Amount of Funds\": 1000.0, \"State\": \"Ohio\", \"Gov_Grant\": 0, \"debt_financing\": null, \"Funding_count\": 19, \"def_project\": 1, \"bins\": \"High Number of Financing Sources\", \"State_Housing_Credit_Equity\": 0}, {\"Project Name\": \"PrairieViewApartments\", \"Financing_sub_cat\": \"Tax Credit\", \"Interest Rate\": null, \"Funding Type\": \"Construction Financing\", \"Project Type\": \"Seniors\", \"Amount of Funds\": 187828.0, \"State\": \"Ohio\", \"Gov_Grant\": 0, \"debt_financing\": 0.0, \"Funding_count\": 9, \"def_project\": 1, \"bins\": \"Medium Number of Financing Sources\", \"State_Housing_Credit_Equity\": 0}, {\"Project Name\": \"PrairieViewApartments\", \"Financing_sub_cat\": \"Bank Loan\", \"Interest Rate\": null, \"Funding Type\": \"Construction Financing\", \"Project Type\": \"Seniors\", \"Amount of Funds\": 4709536.0, \"State\": \"Ohio\", \"Gov_Grant\": 0, \"debt_financing\": 1.0, \"Funding_count\": 9, \"def_project\": 1, \"bins\": \"Medium Number of Financing Sources\", \"State_Housing_Credit_Equity\": 0}, {\"Project Name\": \"PrairieViewApartments\", \"Financing_sub_cat\": \"Other\", \"Interest Rate\": null, \"Funding Type\": \"Construction Financing\", \"Project Type\": \"Seniors\", \"Amount of Funds\": 1250000.0, \"State\": \"Ohio\", \"Gov_Grant\": 0, \"debt_financing\": null, \"Funding_count\": 9, \"def_project\": 1, \"bins\": \"Medium Number of Financing Sources\", \"State_Housing_Credit_Equity\": 0}, {\"Project Name\": \"PrairieViewApartments\", \"Financing_sub_cat\": \"Other\", \"Interest Rate\": null, \"Funding Type\": \"Construction Financing\", \"Project Type\": \"Seniors\", \"Amount of Funds\": 249750.0, \"State\": \"Ohio\", \"Gov_Grant\": 0, \"debt_financing\": null, \"Funding_count\": 9, \"def_project\": 1, \"bins\": \"Medium Number of Financing Sources\", \"State_Housing_Credit_Equity\": 0}, {\"Project Name\": \"PrairieViewApartments\", \"Financing_sub_cat\": \"Other\", \"Interest Rate\": null, \"Funding Type\": \"Construction Financing\", \"Project Type\": \"Seniors\", \"Amount of Funds\": 1275733.0, \"State\": \"Ohio\", \"Gov_Grant\": 0, \"debt_financing\": null, \"Funding_count\": 9, \"def_project\": 1, \"bins\": \"Medium Number of Financing Sources\", \"State_Housing_Credit_Equity\": 0}, {\"Project Name\": \"PrairieViewApartments\", \"Financing_sub_cat\": \"Tax Credit\", \"Interest Rate\": null, \"Funding Type\": \"Permanent Financing\", \"Project Type\": \"Seniors\", \"Amount of Funds\": 6363630.0, \"State\": \"Ohio\", \"Gov_Grant\": 0, \"debt_financing\": 0.0, \"Funding_count\": 9, \"def_project\": 1, \"bins\": \"Medium Number of Financing Sources\", \"State_Housing_Credit_Equity\": 0}, {\"Project Name\": \"PrairieViewApartments\", \"Financing_sub_cat\": \"Deferred Developer Fee\", \"Interest Rate\": null, \"Funding Type\": \"Permanent Financing\", \"Project Type\": \"Seniors\", \"Amount of Funds\": 165217.0, \"State\": \"Ohio\", \"Gov_Grant\": 0, \"debt_financing\": 0.0, \"Funding_count\": 9, \"def_project\": 1, \"bins\": \"Medium Number of Financing Sources\", \"State_Housing_Credit_Equity\": 0}, {\"Project Name\": \"PrairieViewApartments\", \"Financing_sub_cat\": \"Other\", \"Interest Rate\": null, \"Funding Type\": \"Permanent Financing\", \"Project Type\": \"Seniors\", \"Amount of Funds\": 999000.0, \"State\": \"Ohio\", \"Gov_Grant\": 0, \"debt_financing\": null, \"Funding_count\": 9, \"def_project\": 1, \"bins\": \"Medium Number of Financing Sources\", \"State_Housing_Credit_Equity\": 0}, {\"Project Name\": \"PrairieViewApartments\", \"Financing_sub_cat\": \"Other\", \"Interest Rate\": null, \"Funding Type\": \"Permanent Financing\", \"Project Type\": \"Seniors\", \"Amount of Funds\": 145000.0, \"State\": \"Ohio\", \"Gov_Grant\": 0, \"debt_financing\": null, \"Funding_count\": 9, \"def_project\": 1, \"bins\": \"Medium Number of Financing Sources\", \"State_Housing_Credit_Equity\": 0}, {\"Project Name\": \"CampbellLandingApartments\", \"Financing_sub_cat\": \"Deferred Developer Fee\", \"Interest Rate\": null, \"Funding Type\": \"Construction Financing\", \"Project Type\": \"Family\", \"Amount of Funds\": 1660175.09, \"State\": \"Ohio\", \"Gov_Grant\": 0, \"debt_financing\": 0.0, \"Funding_count\": 6, \"def_project\": 1, \"bins\": \"Low Number of Financing Sources\", \"State_Housing_Credit_Equity\": 0}, {\"Project Name\": \"CampbellLandingApartments\", \"Financing_sub_cat\": \"Bank Loan\", \"Interest Rate\": null, \"Funding Type\": \"Construction Financing\", \"Project Type\": \"Family\", \"Amount of Funds\": 5829113.03, \"State\": \"Ohio\", \"Gov_Grant\": 0, \"debt_financing\": 1.0, \"Funding_count\": 6, \"def_project\": 1, \"bins\": \"Low Number of Financing Sources\", \"State_Housing_Credit_Equity\": 0}, {\"Project Name\": \"CampbellLandingApartments\", \"Financing_sub_cat\": \"Other\", \"Interest Rate\": null, \"Funding Type\": \"Construction Financing\", \"Project Type\": \"Family\", \"Amount of Funds\": 1250000.0, \"State\": \"Ohio\", \"Gov_Grant\": 0, \"debt_financing\": null, \"Funding_count\": 6, \"def_project\": 1, \"bins\": \"Low Number of Financing Sources\", \"State_Housing_Credit_Equity\": 0}, {\"Project Name\": \"CampbellLandingApartments\", \"Financing_sub_cat\": \"Tax Credit\", \"Interest Rate\": null, \"Funding Type\": \"Permanent Financing\", \"Project Type\": \"Family\", \"Amount of Funds\": 7222000.0, \"State\": \"Ohio\", \"Gov_Grant\": 0, \"debt_financing\": 0.0, \"Funding_count\": 6, \"def_project\": 1, \"bins\": \"Low Number of Financing Sources\", \"State_Housing_Credit_Equity\": 0}, {\"Project Name\": \"CampbellLandingApartments\", \"Financing_sub_cat\": \"Deferred Developer Fee\", \"Interest Rate\": null, \"Funding Type\": \"Permanent Financing\", \"Project Type\": \"Family\", \"Amount of Funds\": 208088.11, \"State\": \"Ohio\", \"Gov_Grant\": 0, \"debt_financing\": 0.0, \"Funding_count\": 6, \"def_project\": 1, \"bins\": \"Low Number of Financing Sources\", \"State_Housing_Credit_Equity\": 0}, {\"Project Name\": \"CampbellLandingApartments\", \"Financing_sub_cat\": \"Bank Loan\", \"Interest Rate\": null, \"Funding Type\": \"Permanent Financing\", \"Project Type\": \"Family\", \"Amount of Funds\": 1309200.0, \"State\": \"Ohio\", \"Gov_Grant\": 0, \"debt_financing\": 1.0, \"Funding_count\": 6, \"def_project\": 1, \"bins\": \"Low Number of Financing Sources\", \"State_Housing_Credit_Equity\": 0}, {\"Project Name\": \"ReidsValleyViewManor\", \"Financing_sub_cat\": \"Tax Credit\", \"Interest Rate\": null, \"Funding Type\": \"Construction Financing\", \"Project Type\": \"Family\", \"Amount of Funds\": 4135172.8, \"State\": \"Ohio\", \"Gov_Grant\": 0, \"debt_financing\": 0.0, \"Funding_count\": 8, \"def_project\": 1, \"bins\": \"Low Number of Financing Sources\", \"State_Housing_Credit_Equity\": 0}, {\"Project Name\": \"ReidsValleyViewManor\", \"Financing_sub_cat\": \"Deferred Developer Fee\", \"Interest Rate\": null, \"Funding Type\": \"Construction Financing\", \"Project Type\": \"Family\", \"Amount of Funds\": 1760000.0, \"State\": \"Ohio\", \"Gov_Grant\": 0, \"debt_financing\": 0.0, \"Funding_count\": 8, \"def_project\": 1, \"bins\": \"Low Number of Financing Sources\", \"State_Housing_Credit_Equity\": 0}, {\"Project Name\": \"ReidsValleyViewManor\", \"Financing_sub_cat\": \"Bank Loan\", \"Interest Rate\": null, \"Funding Type\": \"Construction Financing\", \"Project Type\": \"Family\", \"Amount of Funds\": 5750000.0, \"State\": \"Ohio\", \"Gov_Grant\": 0, \"debt_financing\": 1.0, \"Funding_count\": 8, \"def_project\": 1, \"bins\": \"Low Number of Financing Sources\", \"State_Housing_Credit_Equity\": 0}, {\"Project Name\": \"ReidsValleyViewManor\", \"Financing_sub_cat\": \"Other\", \"Interest Rate\": null, \"Funding Type\": \"Construction Financing\", \"Project Type\": \"Family\", \"Amount of Funds\": 546063.2, \"State\": \"Ohio\", \"Gov_Grant\": 0, \"debt_financing\": null, \"Funding_count\": 8, \"def_project\": 1, \"bins\": \"Low Number of Financing Sources\", \"State_Housing_Credit_Equity\": 0}, {\"Project Name\": \"ReidsValleyViewManor\", \"Financing_sub_cat\": \"Other\", \"Interest Rate\": null, \"Funding Type\": \"Construction Financing\", \"Project Type\": \"Family\", \"Amount of Funds\": 1250000.0, \"State\": \"Ohio\", \"Gov_Grant\": 0, \"debt_financing\": null, \"Funding_count\": 8, \"def_project\": 1, \"bins\": \"Low Number of Financing Sources\", \"State_Housing_Credit_Equity\": 0}, {\"Project Name\": \"ReidsValleyViewManor\", \"Financing_sub_cat\": \"Tax Credit\", \"Interest Rate\": null, \"Funding Type\": \"Permanent Financing\", \"Project Type\": \"Family\", \"Amount of Funds\": 7518496.0, \"State\": \"Ohio\", \"Gov_Grant\": 0, \"debt_financing\": 0.0, \"Funding_count\": 8, \"def_project\": 1, \"bins\": \"Low Number of Financing Sources\", \"State_Housing_Credit_Equity\": 0}, {\"Project Name\": \"ReidsValleyViewManor\", \"Financing_sub_cat\": \"Deferred Developer Fee\", \"Interest Rate\": null, \"Funding Type\": \"Permanent Financing\", \"Project Type\": \"Family\", \"Amount of Funds\": 172740.0, \"State\": \"Ohio\", \"Gov_Grant\": 0, \"debt_financing\": 0.0, \"Funding_count\": 8, \"def_project\": 1, \"bins\": \"Low Number of Financing Sources\", \"State_Housing_Credit_Equity\": 0}, {\"Project Name\": \"ReidsValleyViewManor\", \"Financing_sub_cat\": \"Bank Loan\", \"Interest Rate\": null, \"Funding Type\": \"Permanent Financing\", \"Project Type\": \"Family\", \"Amount of Funds\": 5750000.0, \"State\": \"Ohio\", \"Gov_Grant\": 0, \"debt_financing\": 1.0, \"Funding_count\": 8, \"def_project\": 1, \"bins\": \"Low Number of Financing Sources\", \"State_Housing_Credit_Equity\": 0}, {\"Project Name\": \"MayflowerApartments\", \"Financing_sub_cat\": \"Tax Credit\", \"Interest Rate\": null, \"Funding Type\": \"Construction Financing\", \"Project Type\": \"Seniors\", \"Amount of Funds\": 1954171.0, \"State\": \"Ohio\", \"Gov_Grant\": 0, \"debt_financing\": 0.0, \"Funding_count\": 13, \"def_project\": 1, \"bins\": \"High Number of Financing Sources\", \"State_Housing_Credit_Equity\": 0}, {\"Project Name\": \"MayflowerApartments\", \"Financing_sub_cat\": \"Deferred Developer Fee\", \"Interest Rate\": null, \"Funding Type\": \"Construction Financing\", \"Project Type\": \"Seniors\", \"Amount of Funds\": 375000.0, \"State\": \"Ohio\", \"Gov_Grant\": 0, \"debt_financing\": 0.0, \"Funding_count\": 13, \"def_project\": 1, \"bins\": \"High Number of Financing Sources\", \"State_Housing_Credit_Equity\": 0}, {\"Project Name\": \"MayflowerApartments\", \"Financing_sub_cat\": \"Other\", \"Interest Rate\": null, \"Funding Type\": \"Construction Financing\", \"Project Type\": \"Seniors\", \"Amount of Funds\": 1250000.0, \"State\": \"Ohio\", \"Gov_Grant\": 0, \"debt_financing\": null, \"Funding_count\": 13, \"def_project\": 1, \"bins\": \"High Number of Financing Sources\", \"State_Housing_Credit_Equity\": 0}, {\"Project Name\": \"MayflowerApartments\", \"Financing_sub_cat\": \"Other\", \"Interest Rate\": null, \"Funding Type\": \"Construction Financing\", \"Project Type\": \"Seniors\", \"Amount of Funds\": 88141.0, \"State\": \"Ohio\", \"Gov_Grant\": 0, \"debt_financing\": null, \"Funding_count\": 13, \"def_project\": 1, \"bins\": \"High Number of Financing Sources\", \"State_Housing_Credit_Equity\": 0}, {\"Project Name\": \"MayflowerApartments\", \"Financing_sub_cat\": \"Other\", \"Interest Rate\": null, \"Funding Type\": \"Construction Financing\", \"Project Type\": \"Seniors\", \"Amount of Funds\": 56009.0, \"State\": \"Ohio\", \"Gov_Grant\": 0, \"debt_financing\": null, \"Funding_count\": 13, \"def_project\": 1, \"bins\": \"High Number of Financing Sources\", \"State_Housing_Credit_Equity\": 0}, {\"Project Name\": \"MayflowerApartments\", \"Financing_sub_cat\": \"Bank Loan\", \"Interest Rate\": null, \"Funding Type\": \"Construction Financing\", \"Project Type\": \"Seniors\", \"Amount of Funds\": 344146.0, \"State\": \"Ohio\", \"Gov_Grant\": 0, \"debt_financing\": 1.0, \"Funding_count\": 13, \"def_project\": 1, \"bins\": \"High Number of Financing Sources\", \"State_Housing_Credit_Equity\": 0}, {\"Project Name\": \"MayflowerApartments\", \"Financing_sub_cat\": \"Tax Credit\", \"Interest Rate\": null, \"Funding Type\": \"Permanent Financing\", \"Project Type\": \"Seniors\", \"Amount of Funds\": 2432795.0, \"State\": \"Ohio\", \"Gov_Grant\": 0, \"debt_financing\": 0.0, \"Funding_count\": 13, \"def_project\": 1, \"bins\": \"High Number of Financing Sources\", \"State_Housing_Credit_Equity\": 0}, {\"Project Name\": \"MayflowerApartments\", \"Financing_sub_cat\": \"Deferred Developer Fee\", \"Interest Rate\": null, \"Funding Type\": \"Permanent Financing\", \"Project Type\": \"Seniors\", \"Amount of Funds\": 56130.0, \"State\": \"Ohio\", \"Gov_Grant\": 0, \"debt_financing\": 0.0, \"Funding_count\": 13, \"def_project\": 1, \"bins\": \"High Number of Financing Sources\", \"State_Housing_Credit_Equity\": 0}, {\"Project Name\": \"MayflowerApartments\", \"Financing_sub_cat\": \"Bank Loan\", \"Interest Rate\": null, \"Funding Type\": \"Permanent Financing\", \"Project Type\": \"Seniors\", \"Amount of Funds\": 840247.0, \"State\": \"Ohio\", \"Gov_Grant\": 0, \"debt_financing\": 1.0, \"Funding_count\": 13, \"def_project\": 1, \"bins\": \"High Number of Financing Sources\", \"State_Housing_Credit_Equity\": 0}, {\"Project Name\": \"MayflowerApartments\", \"Financing_sub_cat\": \"Bank Loan\", \"Interest Rate\": null, \"Funding Type\": \"Permanent Financing\", \"Project Type\": \"Seniors\", \"Amount of Funds\": 344146.0, \"State\": \"Ohio\", \"Gov_Grant\": 0, \"debt_financing\": 1.0, \"Funding_count\": 13, \"def_project\": 1, \"bins\": \"High Number of Financing Sources\", \"State_Housing_Credit_Equity\": 0}, {\"Project Name\": \"MayflowerApartments\", \"Financing_sub_cat\": \"Local Grant\", \"Interest Rate\": null, \"Funding Type\": \"Permanent Financing\", \"Project Type\": \"Seniors\", \"Amount of Funds\": 250000.0, \"State\": \"Ohio\", \"Gov_Grant\": 1, \"debt_financing\": 0.0, \"Funding_count\": 13, \"def_project\": 1, \"bins\": \"High Number of Financing Sources\", \"State_Housing_Credit_Equity\": 0}, {\"Project Name\": \"MayflowerApartments\", \"Financing_sub_cat\": \"Other\", \"Interest Rate\": null, \"Funding Type\": \"Permanent Financing\", \"Project Type\": \"Seniors\", \"Amount of Funds\": 56008.0, \"State\": \"Ohio\", \"Gov_Grant\": 0, \"debt_financing\": null, \"Funding_count\": 13, \"def_project\": 1, \"bins\": \"High Number of Financing Sources\", \"State_Housing_Credit_Equity\": 0}, {\"Project Name\": \"MayflowerApartments\", \"Financing_sub_cat\": \"Other\", \"Interest Rate\": null, \"Funding Type\": \"Permanent Financing\", \"Project Type\": \"Seniors\", \"Amount of Funds\": 88141.0, \"State\": \"Ohio\", \"Gov_Grant\": 0, \"debt_financing\": null, \"Funding_count\": 13, \"def_project\": 1, \"bins\": \"High Number of Financing Sources\", \"State_Housing_Credit_Equity\": 0}, {\"Project Name\": \"KenlawnPlace\", \"Financing_sub_cat\": \"State Housing Credit Equity\", \"Interest Rate\": null, \"Funding Type\": \"Construction Financing\", \"Project Type\": \"Family\", \"Amount of Funds\": 300000.0, \"State\": \"Ohio\", \"Gov_Grant\": 0, \"debt_financing\": 0.0, \"Funding_count\": 12, \"def_project\": 1, \"bins\": \"High Number of Financing Sources\", \"State_Housing_Credit_Equity\": 1}, {\"Project Name\": \"KenlawnPlace\", \"Financing_sub_cat\": \"Deferred Developer Fee\", \"Interest Rate\": null, \"Funding Type\": \"Construction Financing\", \"Project Type\": \"Family\", \"Amount of Funds\": 1410000.0, \"State\": \"Ohio\", \"Gov_Grant\": 0, \"debt_financing\": 0.0, \"Funding_count\": 12, \"def_project\": 1, \"bins\": \"High Number of Financing Sources\", \"State_Housing_Credit_Equity\": 0}, {\"Project Name\": \"KenlawnPlace\", \"Financing_sub_cat\": \"Bank Loan\", \"Interest Rate\": null, \"Funding Type\": \"Construction Financing\", \"Project Type\": \"Family\", \"Amount of Funds\": 6765000.0, \"State\": \"Ohio\", \"Gov_Grant\": 0, \"debt_financing\": 1.0, \"Funding_count\": 12, \"def_project\": 1, \"bins\": \"High Number of Financing Sources\", \"State_Housing_Credit_Equity\": 0}, {\"Project Name\": \"KenlawnPlace\", \"Financing_sub_cat\": \"Other\", \"Interest Rate\": null, \"Funding Type\": \"Construction Financing\", \"Project Type\": \"Family\", \"Amount of Funds\": 300000.0, \"State\": \"Ohio\", \"Gov_Grant\": 0, \"debt_financing\": null, \"Funding_count\": 12, \"def_project\": 1, \"bins\": \"High Number of Financing Sources\", \"State_Housing_Credit_Equity\": 0}, {\"Project Name\": \"KenlawnPlace\", \"Financing_sub_cat\": \"Other\", \"Interest Rate\": null, \"Funding Type\": \"Construction Financing\", \"Project Type\": \"Family\", \"Amount of Funds\": 275000.0, \"State\": \"Ohio\", \"Gov_Grant\": 0, \"debt_financing\": null, \"Funding_count\": 12, \"def_project\": 1, \"bins\": \"High Number of Financing Sources\", \"State_Housing_Credit_Equity\": 0}, {\"Project Name\": \"KenlawnPlace\", \"Financing_sub_cat\": \"Other\", \"Interest Rate\": null, \"Funding Type\": \"Construction Financing\", \"Project Type\": \"Family\", \"Amount of Funds\": 1250000.0, \"State\": \"Ohio\", \"Gov_Grant\": 0, \"debt_financing\": null, \"Funding_count\": 12, \"def_project\": 1, \"bins\": \"High Number of Financing Sources\", \"State_Housing_Credit_Equity\": 0}, {\"Project Name\": \"KenlawnPlace\", \"Financing_sub_cat\": \"Tax Credit\", \"Interest Rate\": null, \"Funding Type\": \"Permanent Financing\", \"Project Type\": \"Family\", \"Amount of Funds\": 8280000.0, \"State\": \"Ohio\", \"Gov_Grant\": 0, \"debt_financing\": 0.0, \"Funding_count\": 12, \"def_project\": 1, \"bins\": \"High Number of Financing Sources\", \"State_Housing_Credit_Equity\": 0}, {\"Project Name\": \"KenlawnPlace\", \"Financing_sub_cat\": \"State Housing Credit Equity\", \"Interest Rate\": null, \"Funding Type\": \"Permanent Financing\", \"Project Type\": \"Family\", \"Amount of Funds\": 300000.0, \"State\": \"Ohio\", \"Gov_Grant\": 0, \"debt_financing\": 0.0, \"Funding_count\": 12, \"def_project\": 1, \"bins\": \"High Number of Financing Sources\", \"State_Housing_Credit_Equity\": 1}, {\"Project Name\": \"KenlawnPlace\", \"Financing_sub_cat\": \"Deferred Developer Fee\", \"Interest Rate\": null, \"Funding Type\": \"Permanent Financing\", \"Project Type\": \"Family\", \"Amount of Funds\": 45000.0, \"State\": \"Ohio\", \"Gov_Grant\": 0, \"debt_financing\": 0.0, \"Funding_count\": 12, \"def_project\": 1, \"bins\": \"High Number of Financing Sources\", \"State_Housing_Credit_Equity\": 0}, {\"Project Name\": \"KenlawnPlace\", \"Financing_sub_cat\": \"Bank Loan\", \"Interest Rate\": null, \"Funding Type\": \"Permanent Financing\", \"Project Type\": \"Family\", \"Amount of Funds\": 1225000.0, \"State\": \"Ohio\", \"Gov_Grant\": 0, \"debt_financing\": 1.0, \"Funding_count\": 12, \"def_project\": 1, \"bins\": \"High Number of Financing Sources\", \"State_Housing_Credit_Equity\": 0}, {\"Project Name\": \"KenlawnPlace\", \"Financing_sub_cat\": \"Other\", \"Interest Rate\": null, \"Funding Type\": \"Permanent Financing\", \"Project Type\": \"Family\", \"Amount of Funds\": 300000.0, \"State\": \"Ohio\", \"Gov_Grant\": 0, \"debt_financing\": null, \"Funding_count\": 12, \"def_project\": 1, \"bins\": \"High Number of Financing Sources\", \"State_Housing_Credit_Equity\": 0}, {\"Project Name\": \"KenlawnPlace\", \"Financing_sub_cat\": \"Other\", \"Interest Rate\": null, \"Funding Type\": \"Permanent Financing\", \"Project Type\": \"Family\", \"Amount of Funds\": 150000.0, \"State\": \"Ohio\", \"Gov_Grant\": 0, \"debt_financing\": null, \"Funding_count\": 12, \"def_project\": 1, \"bins\": \"High Number of Financing Sources\", \"State_Housing_Credit_Equity\": 0}, {\"Project Name\": \"BucyrusManorApartments\", \"Financing_sub_cat\": \"Tax Credit\", \"Interest Rate\": null, \"Funding Type\": \"Construction Financing\", \"Project Type\": \"Seniors\", \"Amount of Funds\": 81250.0, \"State\": \"Ohio\", \"Gov_Grant\": 0, \"debt_financing\": 0.0, \"Funding_count\": 8, \"def_project\": 1, \"bins\": \"Low Number of Financing Sources\", \"State_Housing_Credit_Equity\": 0}, {\"Project Name\": \"BucyrusManorApartments\", \"Financing_sub_cat\": \"Bank Loan\", \"Interest Rate\": null, \"Funding Type\": \"Construction Financing\", \"Project Type\": \"Seniors\", \"Amount of Funds\": 2980189.0, \"State\": \"Ohio\", \"Gov_Grant\": 0, \"debt_financing\": 1.0, \"Funding_count\": 8, \"def_project\": 1, \"bins\": \"Low Number of Financing Sources\", \"State_Housing_Credit_Equity\": 0}, {\"Project Name\": \"BucyrusManorApartments\", \"Financing_sub_cat\": \"Other\", \"Interest Rate\": null, \"Funding Type\": \"Construction Financing\", \"Project Type\": \"Seniors\", \"Amount of Funds\": 1250000.0, \"State\": \"Ohio\", \"Gov_Grant\": 0, \"debt_financing\": null, \"Funding_count\": 8, \"def_project\": 1, \"bins\": \"Low Number of Financing Sources\", \"State_Housing_Credit_Equity\": 0}, {\"Project Name\": \"BucyrusManorApartments\", \"Financing_sub_cat\": \"Other\", \"Interest Rate\": null, \"Funding Type\": \"Construction Financing\", \"Project Type\": \"Seniors\", \"Amount of Funds\": 615910.0, \"State\": \"Ohio\", \"Gov_Grant\": 0, \"debt_financing\": null, \"Funding_count\": 8, \"def_project\": 1, \"bins\": \"Low Number of Financing Sources\", \"State_Housing_Credit_Equity\": 0}, {\"Project Name\": \"BucyrusManorApartments\", \"Financing_sub_cat\": \"Tax Credit\", \"Interest Rate\": null, \"Funding Type\": \"Permanent Financing\", \"Project Type\": \"Seniors\", \"Amount of Funds\": 3697225.0, \"State\": \"Ohio\", \"Gov_Grant\": 0, \"debt_financing\": 0.0, \"Funding_count\": 8, \"def_project\": 1, \"bins\": \"Low Number of Financing Sources\", \"State_Housing_Credit_Equity\": 0}, {\"Project Name\": \"BucyrusManorApartments\", \"Financing_sub_cat\": \"Deferred Developer Fee\", \"Interest Rate\": null, \"Funding Type\": \"Permanent Financing\", \"Project Type\": \"Seniors\", \"Amount of Funds\": 155000.0, \"State\": \"Ohio\", \"Gov_Grant\": 0, \"debt_financing\": 0.0, \"Funding_count\": 8, \"def_project\": 1, \"bins\": \"Low Number of Financing Sources\", \"State_Housing_Credit_Equity\": 0}, {\"Project Name\": \"BucyrusManorApartments\", \"Financing_sub_cat\": \"Bank Loan\", \"Interest Rate\": null, \"Funding Type\": \"Permanent Financing\", \"Project Type\": \"Seniors\", \"Amount of Funds\": 860000.0, \"State\": \"Ohio\", \"Gov_Grant\": 0, \"debt_financing\": 1.0, \"Funding_count\": 8, \"def_project\": 1, \"bins\": \"Low Number of Financing Sources\", \"State_Housing_Credit_Equity\": 0}, {\"Project Name\": \"BucyrusManorApartments\", \"Financing_sub_cat\": \"Other\", \"Interest Rate\": null, \"Funding Type\": \"Permanent Financing\", \"Project Type\": \"Seniors\", \"Amount of Funds\": 215124.0, \"State\": \"Ohio\", \"Gov_Grant\": 0, \"debt_financing\": null, \"Funding_count\": 8, \"def_project\": 1, \"bins\": \"Low Number of Financing Sources\", \"State_Housing_Credit_Equity\": 0}, {\"Project Name\": \"HawthornLandingApartments\", \"Financing_sub_cat\": \"Deferred Developer Fee\", \"Interest Rate\": null, \"Funding Type\": \"Construction Financing\", \"Project Type\": \"Family\", \"Amount of Funds\": 2025739.15, \"State\": \"Ohio\", \"Gov_Grant\": 0, \"debt_financing\": 0.0, \"Funding_count\": 6, \"def_project\": 1, \"bins\": \"Low Number of Financing Sources\", \"State_Housing_Credit_Equity\": 0}, {\"Project Name\": \"HawthornLandingApartments\", \"Financing_sub_cat\": \"Bank Loan\", \"Interest Rate\": null, \"Funding Type\": \"Construction Financing\", \"Project Type\": \"Family\", \"Amount of Funds\": 8261279.35, \"State\": \"Ohio\", \"Gov_Grant\": 0, \"debt_financing\": 1.0, \"Funding_count\": 6, \"def_project\": 1, \"bins\": \"Low Number of Financing Sources\", \"State_Housing_Credit_Equity\": 0}, {\"Project Name\": \"HawthornLandingApartments\", \"Financing_sub_cat\": \"Other\", \"Interest Rate\": null, \"Funding Type\": \"Construction Financing\", \"Project Type\": \"Family\", \"Amount of Funds\": 1250000.0, \"State\": \"Ohio\", \"Gov_Grant\": 0, \"debt_financing\": null, \"Funding_count\": 6, \"def_project\": 1, \"bins\": \"Low Number of Financing Sources\", \"State_Housing_Credit_Equity\": 0}, {\"Project Name\": \"HawthornLandingApartments\", \"Financing_sub_cat\": \"Tax Credit\", \"Interest Rate\": null, \"Funding Type\": \"Permanent Financing\", \"Project Type\": \"Family\", \"Amount of Funds\": 8963500.0, \"State\": \"Ohio\", \"Gov_Grant\": 0, \"debt_financing\": 0.0, \"Funding_count\": 6, \"def_project\": 1, \"bins\": \"Low Number of Financing Sources\", \"State_Housing_Credit_Equity\": 0}, {\"Project Name\": \"HawthornLandingApartments\", \"Financing_sub_cat\": \"Deferred Developer Fee\", \"Interest Rate\": null, \"Funding Type\": \"Permanent Financing\", \"Project Type\": \"Family\", \"Amount of Funds\": 233518.51, \"State\": \"Ohio\", \"Gov_Grant\": 0, \"debt_financing\": 0.0, \"Funding_count\": 6, \"def_project\": 1, \"bins\": \"Low Number of Financing Sources\", \"State_Housing_Credit_Equity\": 0}, {\"Project Name\": \"HawthornLandingApartments\", \"Financing_sub_cat\": \"Bank Loan\", \"Interest Rate\": null, \"Funding Type\": \"Permanent Financing\", \"Project Type\": \"Family\", \"Amount of Funds\": 2340000.0, \"State\": \"Ohio\", \"Gov_Grant\": 0, \"debt_financing\": 1.0, \"Funding_count\": 6, \"def_project\": 1, \"bins\": \"Low Number of Financing Sources\", \"State_Housing_Credit_Equity\": 0}, {\"Project Name\": \"SlavicVillageGateway\", \"Financing_sub_cat\": \"Tax Credit\", \"Interest Rate\": null, \"Funding Type\": \"Construction Financing\", \"Project Type\": \"Family\", \"Amount of Funds\": 2315763.0, \"State\": \"Ohio\", \"Gov_Grant\": 0, \"debt_financing\": 0.0, \"Funding_count\": 9, \"def_project\": 1, \"bins\": \"Medium Number of Financing Sources\", \"State_Housing_Credit_Equity\": 0}, {\"Project Name\": \"SlavicVillageGateway\", \"Financing_sub_cat\": \"Bank Loan\", \"Interest Rate\": null, \"Funding Type\": \"Construction Financing\", \"Project Type\": \"Family\", \"Amount of Funds\": 11325000.0, \"State\": \"Ohio\", \"Gov_Grant\": 0, \"debt_financing\": 1.0, \"Funding_count\": 9, \"def_project\": 1, \"bins\": \"Medium Number of Financing Sources\", \"State_Housing_Credit_Equity\": 0}, {\"Project Name\": \"SlavicVillageGateway\", \"Financing_sub_cat\": \"Local Grant\", \"Interest Rate\": null, \"Funding Type\": \"Construction Financing\", \"Project Type\": \"Family\", \"Amount of Funds\": 540000.0, \"State\": \"Ohio\", \"Gov_Grant\": 1, \"debt_financing\": 0.0, \"Funding_count\": 9, \"def_project\": 1, \"bins\": \"Medium Number of Financing Sources\", \"State_Housing_Credit_Equity\": 0}, {\"Project Name\": \"SlavicVillageGateway\", \"Financing_sub_cat\": \"Other\", \"Interest Rate\": null, \"Funding Type\": \"Construction Financing\", \"Project Type\": \"Family\", \"Amount of Funds\": 405000.0, \"State\": \"Ohio\", \"Gov_Grant\": 0, \"debt_financing\": null, \"Funding_count\": 9, \"def_project\": 1, \"bins\": \"Medium Number of Financing Sources\", \"State_Housing_Credit_Equity\": 0}, {\"Project Name\": \"SlavicVillageGateway\", \"Financing_sub_cat\": \"Tax Credit\", \"Interest Rate\": null, \"Funding Type\": \"Permanent Financing\", \"Project Type\": \"Family\", \"Amount of Funds\": 11578815.0, \"State\": \"Ohio\", \"Gov_Grant\": 0, \"debt_financing\": 0.0, \"Funding_count\": 9, \"def_project\": 1, \"bins\": \"Medium Number of Financing Sources\", \"State_Housing_Credit_Equity\": 0}, {\"Project Name\": \"SlavicVillageGateway\", \"Financing_sub_cat\": \"Deferred Developer Fee\", \"Interest Rate\": null, \"Funding Type\": \"Permanent Financing\", \"Project Type\": \"Family\", \"Amount of Funds\": 165101.0, \"State\": \"Ohio\", \"Gov_Grant\": 0, \"debt_financing\": 0.0, \"Funding_count\": 9, \"def_project\": 1, \"bins\": \"Medium Number of Financing Sources\", \"State_Housing_Credit_Equity\": 0}, {\"Project Name\": \"SlavicVillageGateway\", \"Financing_sub_cat\": \"Bank Loan\", \"Interest Rate\": null, \"Funding Type\": \"Permanent Financing\", \"Project Type\": \"Family\", \"Amount of Funds\": 3525000.0, \"State\": \"Ohio\", \"Gov_Grant\": 0, \"debt_financing\": 1.0, \"Funding_count\": 9, \"def_project\": 1, \"bins\": \"Medium Number of Financing Sources\", \"State_Housing_Credit_Equity\": 0}, {\"Project Name\": \"SlavicVillageGateway\", \"Financing_sub_cat\": \"Local Grant\", \"Interest Rate\": null, \"Funding Type\": \"Permanent Financing\", \"Project Type\": \"Family\", \"Amount of Funds\": 600000.0, \"State\": \"Ohio\", \"Gov_Grant\": 1, \"debt_financing\": 0.0, \"Funding_count\": 9, \"def_project\": 1, \"bins\": \"Medium Number of Financing Sources\", \"State_Housing_Credit_Equity\": 0}, {\"Project Name\": \"SlavicVillageGateway\", \"Financing_sub_cat\": \"Other\", \"Interest Rate\": null, \"Funding Type\": \"Permanent Financing\", \"Project Type\": \"Family\", \"Amount of Funds\": 450000.0, \"State\": \"Ohio\", \"Gov_Grant\": 0, \"debt_financing\": null, \"Funding_count\": 9, \"def_project\": 1, \"bins\": \"Medium Number of Financing Sources\", \"State_Housing_Credit_Equity\": 0}, {\"Project Name\": \"SpringStreetSeniorLofts\", \"Financing_sub_cat\": \"Tax Credit\", \"Interest Rate\": null, \"Funding Type\": \"Construction Financing\", \"Project Type\": \"Seniors\", \"Amount of Funds\": 1126872.0, \"State\": \"Ohio\", \"Gov_Grant\": 0, \"debt_financing\": 0.0, \"Funding_count\": 16, \"def_project\": 1, \"bins\": \"High Number of Financing Sources\", \"State_Housing_Credit_Equity\": 0}, {\"Project Name\": \"SpringStreetSeniorLofts\", \"Financing_sub_cat\": \"Deferred Developer Fee\", \"Interest Rate\": null, \"Funding Type\": \"Construction Financing\", \"Project Type\": \"Seniors\", \"Amount of Funds\": 119659.0, \"State\": \"Ohio\", \"Gov_Grant\": 0, \"debt_financing\": 0.0, \"Funding_count\": 16, \"def_project\": 1, \"bins\": \"High Number of Financing Sources\", \"State_Housing_Credit_Equity\": 0}, {\"Project Name\": \"SpringStreetSeniorLofts\", \"Financing_sub_cat\": \"Bank Loan\", \"Interest Rate\": null, \"Funding Type\": \"Construction Financing\", \"Project Type\": \"Seniors\", \"Amount of Funds\": 11250000.0, \"State\": \"Ohio\", \"Gov_Grant\": 0, \"debt_financing\": 1.0, \"Funding_count\": 16, \"def_project\": 1, \"bins\": \"High Number of Financing Sources\", \"State_Housing_Credit_Equity\": 0}, {\"Project Name\": \"SpringStreetSeniorLofts\", \"Financing_sub_cat\": \"Other\", \"Interest Rate\": null, \"Funding Type\": \"Construction Financing\", \"Project Type\": \"Seniors\", \"Amount of Funds\": 1250000.0, \"State\": \"Ohio\", \"Gov_Grant\": 0, \"debt_financing\": null, \"Funding_count\": 16, \"def_project\": 1, \"bins\": \"High Number of Financing Sources\", \"State_Housing_Credit_Equity\": 0}, {\"Project Name\": \"SpringStreetSeniorLofts\", \"Financing_sub_cat\": \"Other\", \"Interest Rate\": null, \"Funding Type\": \"Construction Financing\", \"Project Type\": \"Seniors\", \"Amount of Funds\": 150000.0, \"State\": \"Ohio\", \"Gov_Grant\": 0, \"debt_financing\": null, \"Funding_count\": 16, \"def_project\": 1, \"bins\": \"High Number of Financing Sources\", \"State_Housing_Credit_Equity\": 0}, {\"Project Name\": \"SpringStreetSeniorLofts\", \"Financing_sub_cat\": \"Other\", \"Interest Rate\": null, \"Funding Type\": \"Construction Financing\", \"Project Type\": \"Seniors\", \"Amount of Funds\": 1000.0, \"State\": \"Ohio\", \"Gov_Grant\": 0, \"debt_financing\": null, \"Funding_count\": 16, \"def_project\": 1, \"bins\": \"High Number of Financing Sources\", \"State_Housing_Credit_Equity\": 0}, {\"Project Name\": \"SpringStreetSeniorLofts\", \"Financing_sub_cat\": \"Other\", \"Interest Rate\": null, \"Funding Type\": \"Construction Financing\", \"Project Type\": \"Seniors\", \"Amount of Funds\": 5000.0, \"State\": \"Ohio\", \"Gov_Grant\": 0, \"debt_financing\": null, \"Funding_count\": 16, \"def_project\": 1, \"bins\": \"High Number of Financing Sources\", \"State_Housing_Credit_Equity\": 0}, {\"Project Name\": \"SpringStreetSeniorLofts\", \"Financing_sub_cat\": \"Other\", \"Interest Rate\": null, \"Funding Type\": \"Construction Financing\", \"Project Type\": \"Seniors\", \"Amount of Funds\": 821848.0, \"State\": \"Ohio\", \"Gov_Grant\": 0, \"debt_financing\": null, \"Funding_count\": 16, \"def_project\": 1, \"bins\": \"High Number of Financing Sources\", \"State_Housing_Credit_Equity\": 0}, {\"Project Name\": \"SpringStreetSeniorLofts\", \"Financing_sub_cat\": \"Tax Credit\", \"Interest Rate\": null, \"Funding Type\": \"Permanent Financing\", \"Project Type\": \"Seniors\", \"Amount of Funds\": 11268720.0, \"State\": \"Ohio\", \"Gov_Grant\": 0, \"debt_financing\": 0.0, \"Funding_count\": 16, \"def_project\": 1, \"bins\": \"High Number of Financing Sources\", \"State_Housing_Credit_Equity\": 0}, {\"Project Name\": \"SpringStreetSeniorLofts\", \"Financing_sub_cat\": \"Deferred Developer Fee\", \"Interest Rate\": null, \"Funding Type\": \"Permanent Financing\", \"Project Type\": \"Seniors\", \"Amount of Funds\": 119659.0, \"State\": \"Ohio\", \"Gov_Grant\": 0, \"debt_financing\": 0.0, \"Funding_count\": 16, \"def_project\": 1, \"bins\": \"High Number of Financing Sources\", \"State_Housing_Credit_Equity\": 0}, {\"Project Name\": \"SpringStreetSeniorLofts\", \"Financing_sub_cat\": \"Bank Loan\", \"Interest Rate\": null, \"Funding Type\": \"Permanent Financing\", \"Project Type\": \"Seniors\", \"Amount of Funds\": 2000000.0, \"State\": \"Ohio\", \"Gov_Grant\": 0, \"debt_financing\": 1.0, \"Funding_count\": 16, \"def_project\": 1, \"bins\": \"High Number of Financing Sources\", \"State_Housing_Credit_Equity\": 0}, {\"Project Name\": \"SpringStreetSeniorLofts\", \"Financing_sub_cat\": \"Bank Loan\", \"Interest Rate\": null, \"Funding Type\": \"Permanent Financing\", \"Project Type\": \"Seniors\", \"Amount of Funds\": 300000.0, \"State\": \"Ohio\", \"Gov_Grant\": 0, \"debt_financing\": 1.0, \"Funding_count\": 16, \"def_project\": 1, \"bins\": \"High Number of Financing Sources\", \"State_Housing_Credit_Equity\": 0}, {\"Project Name\": \"SpringStreetSeniorLofts\", \"Financing_sub_cat\": \"Other\", \"Interest Rate\": null, \"Funding Type\": \"Permanent Financing\", \"Project Type\": \"Seniors\", \"Amount of Funds\": 880000.0, \"State\": \"Ohio\", \"Gov_Grant\": 0, \"debt_financing\": null, \"Funding_count\": 16, \"def_project\": 1, \"bins\": \"High Number of Financing Sources\", \"State_Housing_Credit_Equity\": 0}, {\"Project Name\": \"SpringStreetSeniorLofts\", \"Financing_sub_cat\": \"Other\", \"Interest Rate\": null, \"Funding Type\": \"Permanent Financing\", \"Project Type\": \"Seniors\", \"Amount of Funds\": 150000.0, \"State\": \"Ohio\", \"Gov_Grant\": 0, \"debt_financing\": null, \"Funding_count\": 16, \"def_project\": 1, \"bins\": \"High Number of Financing Sources\", \"State_Housing_Credit_Equity\": 0}, {\"Project Name\": \"SpringStreetSeniorLofts\", \"Financing_sub_cat\": \"Other\", \"Interest Rate\": null, \"Funding Type\": \"Permanent Financing\", \"Project Type\": \"Seniors\", \"Amount of Funds\": 1000.0, \"State\": \"Ohio\", \"Gov_Grant\": 0, \"debt_financing\": null, \"Funding_count\": 16, \"def_project\": 1, \"bins\": \"High Number of Financing Sources\", \"State_Housing_Credit_Equity\": 0}, {\"Project Name\": \"SpringStreetSeniorLofts\", \"Financing_sub_cat\": \"Other\", \"Interest Rate\": null, \"Funding Type\": \"Permanent Financing\", \"Project Type\": \"Seniors\", \"Amount of Funds\": 5000.0, \"State\": \"Ohio\", \"Gov_Grant\": 0, \"debt_financing\": null, \"Funding_count\": 16, \"def_project\": 1, \"bins\": \"High Number of Financing Sources\", \"State_Housing_Credit_Equity\": 0}, {\"Project Name\": \"canaancrssgg\", \"Financing_sub_cat\": \"Deferred Developer Fee\", \"Interest Rate\": null, \"Funding Type\": \"Construction Financing\", \"Project Type\": \"Family\", \"Amount of Funds\": 16067.0, \"State\": \"Georgia\", \"Gov_Grant\": 0, \"debt_financing\": 0.0, \"Funding_count\": 9, \"def_project\": 1, \"bins\": \"Medium Number of Financing Sources\", \"State_Housing_Credit_Equity\": 0}, {\"Project Name\": \"canaancrssgg\", \"Financing_sub_cat\": \"Deferred Developer Fee\", \"Interest Rate\": 0.0, \"Funding Type\": \"Permanent Financing\", \"Project Type\": \"Family\", \"Amount of Funds\": 16067.0, \"State\": \"Georgia\", \"Gov_Grant\": 0, \"debt_financing\": 0.0, \"Funding_count\": 9, \"def_project\": 1, \"bins\": \"Medium Number of Financing Sources\", \"State_Housing_Credit_Equity\": 0}, {\"Project Name\": \"canaancrssgg\", \"Financing_sub_cat\": \"Federal Housing Credit Equity\", \"Interest Rate\": null, \"Funding Type\": \"Construction Financing\", \"Project Type\": \"Family\", \"Amount of Funds\": 746925.0, \"State\": \"Georgia\", \"Gov_Grant\": 0, \"debt_financing\": 0.0, \"Funding_count\": 9, \"def_project\": 1, \"bins\": \"Medium Number of Financing Sources\", \"State_Housing_Credit_Equity\": 0}, {\"Project Name\": \"canaancrssgg\", \"Financing_sub_cat\": \"Federal Housing Credit Equity\", \"Interest Rate\": null, \"Funding Type\": \"Permanent Financing\", \"Project Type\": \"Family\", \"Amount of Funds\": 7469253.0, \"State\": \"Georgia\", \"Gov_Grant\": 0, \"debt_financing\": 0.0, \"Funding_count\": 9, \"def_project\": 1, \"bins\": \"Medium Number of Financing Sources\", \"State_Housing_Credit_Equity\": 0}, {\"Project Name\": \"canaancrssgg\", \"Financing_sub_cat\": \"Bank Loan\", \"Interest Rate\": 5.2299999999999995, \"Funding Type\": \"Construction Financing\", \"Project Type\": \"Family\", \"Amount of Funds\": 8840000.0, \"State\": \"Georgia\", \"Gov_Grant\": 0, \"debt_financing\": 1.0, \"Funding_count\": 9, \"def_project\": 1, \"bins\": \"Medium Number of Financing Sources\", \"State_Housing_Credit_Equity\": 0}, {\"Project Name\": \"canaancrssgg\", \"Financing_sub_cat\": \"Bank Loan\", \"Interest Rate\": 1.0, \"Funding Type\": \"Permanent Financing\", \"Project Type\": \"Family\", \"Amount of Funds\": 1350000.0, \"State\": \"Georgia\", \"Gov_Grant\": 0, \"debt_financing\": 1.0, \"Funding_count\": 9, \"def_project\": 1, \"bins\": \"Medium Number of Financing Sources\", \"State_Housing_Credit_Equity\": 0}, {\"Project Name\": \"canaancrssgg\", \"Financing_sub_cat\": \"Bank Loan\", \"Interest Rate\": 0.0, \"Funding Type\": \"Construction Financing\", \"Project Type\": \"Family\", \"Amount of Funds\": 1350000.0, \"State\": \"Georgia\", \"Gov_Grant\": 0, \"debt_financing\": 1.0, \"Funding_count\": 9, \"def_project\": 1, \"bins\": \"Medium Number of Financing Sources\", \"State_Housing_Credit_Equity\": 0}, {\"Project Name\": \"canaancrssgg\", \"Financing_sub_cat\": \"State Housing Credit Equity\", \"Interest Rate\": null, \"Funding Type\": \"Construction Financing\", \"Project Type\": \"Family\", \"Amount of Funds\": 418458.0, \"State\": \"Georgia\", \"Gov_Grant\": 0, \"debt_financing\": 0.0, \"Funding_count\": 9, \"def_project\": 1, \"bins\": \"Medium Number of Financing Sources\", \"State_Housing_Credit_Equity\": 1}, {\"Project Name\": \"canaancrssgg\", \"Financing_sub_cat\": \"State Housing Credit Equity\", \"Interest Rate\": null, \"Funding Type\": \"Permanent Financing\", \"Project Type\": \"Family\", \"Amount of Funds\": 4184582.0, \"State\": \"Georgia\", \"Gov_Grant\": 0, \"debt_financing\": 0.0, \"Funding_count\": 9, \"def_project\": 1, \"bins\": \"Medium Number of Financing Sources\", \"State_Housing_Credit_Equity\": 1}, {\"Project Name\": \"waring\", \"Financing_sub_cat\": \"Deferred Developer Fee\", \"Interest Rate\": 0.0, \"Funding Type\": \"Permanent Financing\", \"Project Type\": \"Seniors\", \"Amount of Funds\": 11779.0, \"State\": \"Georgia\", \"Gov_Grant\": 0, \"debt_financing\": 0.0, \"Funding_count\": 6, \"def_project\": 1, \"bins\": \"Low Number of Financing Sources\", \"State_Housing_Credit_Equity\": 0}, {\"Project Name\": \"waring\", \"Financing_sub_cat\": \"Federal Housing Credit Equity\", \"Interest Rate\": null, \"Funding Type\": \"Construction Financing\", \"Project Type\": \"Seniors\", \"Amount of Funds\": 466848.0, \"State\": \"Georgia\", \"Gov_Grant\": 0, \"debt_financing\": 0.0, \"Funding_count\": 6, \"def_project\": 1, \"bins\": \"Low Number of Financing Sources\", \"State_Housing_Credit_Equity\": 0}, {\"Project Name\": \"waring\", \"Financing_sub_cat\": \"Federal Housing Credit Equity\", \"Interest Rate\": null, \"Funding Type\": \"Permanent Financing\", \"Project Type\": \"Seniors\", \"Amount of Funds\": 2651735.0, \"State\": \"Georgia\", \"Gov_Grant\": 0, \"debt_financing\": 0.0, \"Funding_count\": 6, \"def_project\": 1, \"bins\": \"Low Number of Financing Sources\", \"State_Housing_Credit_Equity\": 0}, {\"Project Name\": \"waring\", \"Financing_sub_cat\": \"Bank Loan\", \"Interest Rate\": 5.94, \"Funding Type\": \"Construction Financing\", \"Project Type\": \"Seniors\", \"Amount of Funds\": 2744584.43, \"State\": \"Georgia\", \"Gov_Grant\": 0, \"debt_financing\": 1.0, \"Funding_count\": 6, \"def_project\": 1, \"bins\": \"Low Number of Financing Sources\", \"State_Housing_Credit_Equity\": 0}, {\"Project Name\": \"waring\", \"Financing_sub_cat\": \"State Housing Credit Equity\", \"Interest Rate\": null, \"Funding Type\": \"Construction Financing\", \"Project Type\": \"Seniors\", \"Amount of Funds\": 280772.0, \"State\": \"Georgia\", \"Gov_Grant\": 0, \"debt_financing\": 0.0, \"Funding_count\": 6, \"def_project\": 1, \"bins\": \"Low Number of Financing Sources\", \"State_Housing_Credit_Equity\": 1}, {\"Project Name\": \"waring\", \"Financing_sub_cat\": \"State Housing Credit Equity\", \"Interest Rate\": null, \"Funding Type\": \"Permanent Financing\", \"Project Type\": \"Seniors\", \"Amount of Funds\": 1403860.0, \"State\": \"Georgia\", \"Gov_Grant\": 0, \"debt_financing\": 0.0, \"Funding_count\": 6, \"def_project\": 1, \"bins\": \"Low Number of Financing Sources\", \"State_Housing_Credit_Equity\": 1}, {\"Project Name\": \"symphony\", \"Financing_sub_cat\": \"Deferred Developer Fee\", \"Interest Rate\": 0.0, \"Funding Type\": \"Permanent Financing\", \"Project Type\": \"Family\", \"Amount of Funds\": 652.6, \"State\": \"Georgia\", \"Gov_Grant\": 0, \"debt_financing\": 0.0, \"Funding_count\": 11, \"def_project\": 1, \"bins\": \"Medium Number of Financing Sources\", \"State_Housing_Credit_Equity\": 0}, {\"Project Name\": \"symphony\", \"Financing_sub_cat\": \"Federal Housing Credit Equity\", \"Interest Rate\": null, \"Funding Type\": \"Construction Financing\", \"Project Type\": \"Family\", \"Amount of Funds\": 4563450.51, \"State\": \"Georgia\", \"Gov_Grant\": 0, \"debt_financing\": 0.0, \"Funding_count\": 11, \"def_project\": 1, \"bins\": \"Medium Number of Financing Sources\", \"State_Housing_Credit_Equity\": 0}, {\"Project Name\": \"symphony\", \"Financing_sub_cat\": \"Federal Housing Credit Equity\", \"Interest Rate\": null, \"Funding Type\": \"Permanent Financing\", \"Project Type\": \"Family\", \"Amount of Funds\": 6519215.01, \"State\": \"Georgia\", \"Gov_Grant\": 0, \"debt_financing\": 0.0, \"Funding_count\": 11, \"def_project\": 1, \"bins\": \"Medium Number of Financing Sources\", \"State_Housing_Credit_Equity\": 0}, {\"Project Name\": \"symphony\", \"Financing_sub_cat\": \"Bank Loan\", \"Interest Rate\": 7.75, \"Funding Type\": \"Construction Financing\", \"Project Type\": \"Family\", \"Amount of Funds\": 6106000.0, \"State\": \"Georgia\", \"Gov_Grant\": 0, \"debt_financing\": 1.0, \"Funding_count\": 11, \"def_project\": 1, \"bins\": \"Medium Number of Financing Sources\", \"State_Housing_Credit_Equity\": 0}, {\"Project Name\": \"symphony\", \"Financing_sub_cat\": \"Bank Loan\", \"Interest Rate\": 5.4, \"Funding Type\": \"Permanent Financing\", \"Project Type\": \"Family\", \"Amount of Funds\": 1001065.0, \"State\": \"Georgia\", \"Gov_Grant\": 0, \"debt_financing\": 1.0, \"Funding_count\": 11, \"def_project\": 1, \"bins\": \"Medium Number of Financing Sources\", \"State_Housing_Credit_Equity\": 0}, {\"Project Name\": \"symphony\", \"Financing_sub_cat\": \"Bank Loan\", \"Interest Rate\": 2.7, \"Funding Type\": \"Construction Financing\", \"Project Type\": \"Family\", \"Amount of Funds\": 610000.0, \"State\": \"Georgia\", \"Gov_Grant\": 0, \"debt_financing\": 1.0, \"Funding_count\": 11, \"def_project\": 1, \"bins\": \"Medium Number of Financing Sources\", \"State_Housing_Credit_Equity\": 0}, {\"Project Name\": \"symphony\", \"Financing_sub_cat\": \"Bank Loan\", \"Interest Rate\": 2.7, \"Funding Type\": \"Permanent Financing\", \"Project Type\": \"Family\", \"Amount of Funds\": 610000.0, \"State\": \"Georgia\", \"Gov_Grant\": 0, \"debt_financing\": 1.0, \"Funding_count\": 11, \"def_project\": 1, \"bins\": \"Medium Number of Financing Sources\", \"State_Housing_Credit_Equity\": 0}, {\"Project Name\": \"symphony\", \"Financing_sub_cat\": \"Bank Loan\", \"Interest Rate\": 2.7, \"Funding Type\": \"Construction Financing\", \"Project Type\": \"Family\", \"Amount of Funds\": 245000.0, \"State\": \"Georgia\", \"Gov_Grant\": 0, \"debt_financing\": 1.0, \"Funding_count\": 11, \"def_project\": 1, \"bins\": \"Medium Number of Financing Sources\", \"State_Housing_Credit_Equity\": 0}, {\"Project Name\": \"symphony\", \"Financing_sub_cat\": \"Bank Loan\", \"Interest Rate\": 2.7, \"Funding Type\": \"Permanent Financing\", \"Project Type\": \"Family\", \"Amount of Funds\": 245000.0, \"State\": \"Georgia\", \"Gov_Grant\": 0, \"debt_financing\": 1.0, \"Funding_count\": 11, \"def_project\": 1, \"bins\": \"Medium Number of Financing Sources\", \"State_Housing_Credit_Equity\": 0}, {\"Project Name\": \"symphony\", \"Financing_sub_cat\": \"State Housing Credit Equity\", \"Interest Rate\": null, \"Funding Type\": \"Construction Financing\", \"Project Type\": \"Family\", \"Amount of Funds\": 2675393.7, \"State\": \"Georgia\", \"Gov_Grant\": 0, \"debt_financing\": 0.0, \"Funding_count\": 11, \"def_project\": 1, \"bins\": \"Medium Number of Financing Sources\", \"State_Housing_Credit_Equity\": 1}, {\"Project Name\": \"symphony\", \"Financing_sub_cat\": \"State Housing Credit Equity\", \"Interest Rate\": null, \"Funding Type\": \"Permanent Financing\", \"Project Type\": \"Family\", \"Amount of Funds\": 3821991.0, \"State\": \"Georgia\", \"Gov_Grant\": 0, \"debt_financing\": 0.0, \"Funding_count\": 11, \"def_project\": 1, \"bins\": \"Medium Number of Financing Sources\", \"State_Housing_Credit_Equity\": 1}, {\"Project Name\": \"flintridgeg\", \"Financing_sub_cat\": \"Deferred Developer Fee\", \"Interest Rate\": 0.0, \"Funding Type\": \"Permanent Financing\", \"Project Type\": \"Family\", \"Amount of Funds\": 1030.0, \"State\": \"Georgia\", \"Gov_Grant\": 0, \"debt_financing\": 0.0, \"Funding_count\": 7, \"def_project\": 1, \"bins\": \"Low Number of Financing Sources\", \"State_Housing_Credit_Equity\": 0}, {\"Project Name\": \"flintridgeg\", \"Financing_sub_cat\": \"Federal Housing Credit Equity\", \"Interest Rate\": null, \"Funding Type\": \"Construction Financing\", \"Project Type\": \"Family\", \"Amount of Funds\": 1443792.2, \"State\": \"Georgia\", \"Gov_Grant\": 0, \"debt_financing\": 0.0, \"Funding_count\": 7, \"def_project\": 1, \"bins\": \"Low Number of Financing Sources\", \"State_Housing_Credit_Equity\": 0}, {\"Project Name\": \"flintridgeg\", \"Financing_sub_cat\": \"Federal Housing Credit Equity\", \"Interest Rate\": null, \"Funding Type\": \"Permanent Financing\", \"Project Type\": \"Family\", \"Amount of Funds\": 7218961.0, \"State\": \"Georgia\", \"Gov_Grant\": 0, \"debt_financing\": 0.0, \"Funding_count\": 7, \"def_project\": 1, \"bins\": \"Low Number of Financing Sources\", \"State_Housing_Credit_Equity\": 0}, {\"Project Name\": \"flintridgeg\", \"Financing_sub_cat\": \"Bank Loan\", \"Interest Rate\": 6.5, \"Funding Type\": \"Construction Financing\", \"Project Type\": \"Family\", \"Amount of Funds\": 7902266.0, \"State\": \"Georgia\", \"Gov_Grant\": 0, \"debt_financing\": 1.0, \"Funding_count\": 7, \"def_project\": 1, \"bins\": \"Low Number of Financing Sources\", \"State_Housing_Credit_Equity\": 0}, {\"Project Name\": \"flintridgeg\", \"Financing_sub_cat\": \"Bank Loan\", \"Interest Rate\": 6.75, \"Funding Type\": \"Permanent Financing\", \"Project Type\": \"Family\", \"Amount of Funds\": 805000.0, \"State\": \"Georgia\", \"Gov_Grant\": 0, \"debt_financing\": 1.0, \"Funding_count\": 7, \"def_project\": 1, \"bins\": \"Low Number of Financing Sources\", \"State_Housing_Credit_Equity\": 0}, {\"Project Name\": \"flintridgeg\", \"Financing_sub_cat\": \"State Housing Credit Equity\", \"Interest Rate\": null, \"Funding Type\": \"Construction Financing\", \"Project Type\": \"Family\", \"Amount of Funds\": 594502.8, \"State\": \"Georgia\", \"Gov_Grant\": 0, \"debt_financing\": 0.0, \"Funding_count\": 7, \"def_project\": 1, \"bins\": \"Low Number of Financing Sources\", \"State_Housing_Credit_Equity\": 1}, {\"Project Name\": \"flintridgeg\", \"Financing_sub_cat\": \"State Housing Credit Equity\", \"Interest Rate\": null, \"Funding Type\": \"Permanent Financing\", \"Project Type\": \"Family\", \"Amount of Funds\": 2972514.0, \"State\": \"Georgia\", \"Gov_Grant\": 0, \"debt_financing\": 0.0, \"Funding_count\": 7, \"def_project\": 1, \"bins\": \"Low Number of Financing Sources\", \"State_Housing_Credit_Equity\": 1}, {\"Project Name\": \"newnancrossg\", \"Financing_sub_cat\": \"Deferred Developer Fee\", \"Interest Rate\": 0.0, \"Funding Type\": \"Permanent Financing\", \"Project Type\": \"Seniors\", \"Amount of Funds\": 55790.0, \"State\": \"Georgia\", \"Gov_Grant\": 0, \"debt_financing\": 0.0, \"Funding_count\": 8, \"def_project\": 1, \"bins\": \"Low Number of Financing Sources\", \"State_Housing_Credit_Equity\": 0}, {\"Project Name\": \"newnancrossg\", \"Financing_sub_cat\": \"Federal Housing Credit Equity\", \"Interest Rate\": null, \"Funding Type\": \"Construction Financing\", \"Project Type\": \"Seniors\", \"Amount of Funds\": 1682660.0, \"State\": \"Georgia\", \"Gov_Grant\": 0, \"debt_financing\": 0.0, \"Funding_count\": 8, \"def_project\": 1, \"bins\": \"Low Number of Financing Sources\", \"State_Housing_Credit_Equity\": 0}, {\"Project Name\": \"newnancrossg\", \"Financing_sub_cat\": \"Federal Housing Credit Equity\", \"Interest Rate\": null, \"Funding Type\": \"Permanent Financing\", \"Project Type\": \"Seniors\", \"Amount of Funds\": 8413300.0, \"State\": \"Georgia\", \"Gov_Grant\": 0, \"debt_financing\": 0.0, \"Funding_count\": 8, \"def_project\": 1, \"bins\": \"Low Number of Financing Sources\", \"State_Housing_Credit_Equity\": 0}, {\"Project Name\": \"newnancrossg\", \"Financing_sub_cat\": \"Bank Loan\", \"Interest Rate\": 6.0, \"Funding Type\": \"Construction Financing\", \"Project Type\": \"Seniors\", \"Amount of Funds\": 8169445.0, \"State\": \"Georgia\", \"Gov_Grant\": 0, \"debt_financing\": 1.0, \"Funding_count\": 8, \"def_project\": 1, \"bins\": \"Low Number of Financing Sources\", \"State_Housing_Credit_Equity\": 0}, {\"Project Name\": \"newnancrossg\", \"Financing_sub_cat\": \"Bank Loan\", \"Interest Rate\": 1.0, \"Funding Type\": \"Permanent Financing\", \"Project Type\": \"Seniors\", \"Amount of Funds\": 2000000.0, \"State\": \"Georgia\", \"Gov_Grant\": 0, \"debt_financing\": 1.0, \"Funding_count\": 8, \"def_project\": 1, \"bins\": \"Low Number of Financing Sources\", \"State_Housing_Credit_Equity\": 0}, {\"Project Name\": \"newnancrossg\", \"Financing_sub_cat\": \"Bank Loan\", \"Interest Rate\": 0.0, \"Funding Type\": \"Construction Financing\", \"Project Type\": \"Seniors\", \"Amount of Funds\": 2000000.0, \"State\": \"Georgia\", \"Gov_Grant\": 0, \"debt_financing\": 1.0, \"Funding_count\": 8, \"def_project\": 1, \"bins\": \"Low Number of Financing Sources\", \"State_Housing_Credit_Equity\": 0}, {\"Project Name\": \"newnancrossg\", \"Financing_sub_cat\": \"State Housing Credit Equity\", \"Interest Rate\": null, \"Funding Type\": \"Construction Financing\", \"Project Type\": \"Seniors\", \"Amount of Funds\": 797000.0, \"State\": \"Georgia\", \"Gov_Grant\": 0, \"debt_financing\": 0.0, \"Funding_count\": 8, \"def_project\": 1, \"bins\": \"Low Number of Financing Sources\", \"State_Housing_Credit_Equity\": 1}, {\"Project Name\": \"newnancrossg\", \"Financing_sub_cat\": \"State Housing Credit Equity\", \"Interest Rate\": null, \"Funding Type\": \"Permanent Financing\", \"Project Type\": \"Seniors\", \"Amount of Funds\": 3985000.0, \"State\": \"Georgia\", \"Gov_Grant\": 0, \"debt_financing\": 0.0, \"Funding_count\": 8, \"def_project\": 1, \"bins\": \"Low Number of Financing Sources\", \"State_Housing_Credit_Equity\": 1}, {\"Project Name\": \"anthm2\", \"Financing_sub_cat\": \"Deferred Developer Fee\", \"Interest Rate\": 0.0, \"Funding Type\": \"Permanent Financing\", \"Project Type\": \"Seniors\", \"Amount of Funds\": 614.1, \"State\": \"Georgia\", \"Gov_Grant\": 0, \"debt_financing\": 0.0, \"Funding_count\": 9, \"def_project\": 1, \"bins\": \"Medium Number of Financing Sources\", \"State_Housing_Credit_Equity\": 0}, {\"Project Name\": \"anthm2\", \"Financing_sub_cat\": \"Federal Grant\", \"Interest Rate\": null, \"Funding Type\": \"Construction Financing\", \"Project Type\": \"Seniors\", \"Amount of Funds\": 623000.0, \"State\": \"Georgia\", \"Gov_Grant\": 1, \"debt_financing\": 0.0, \"Funding_count\": 9, \"def_project\": 1, \"bins\": \"Medium Number of Financing Sources\", \"State_Housing_Credit_Equity\": 0}, {\"Project Name\": \"anthm2\", \"Financing_sub_cat\": \"Federal Grant\", \"Interest Rate\": null, \"Funding Type\": \"Permanent Financing\", \"Project Type\": \"Seniors\", \"Amount of Funds\": 623000.0, \"State\": \"Georgia\", \"Gov_Grant\": 1, \"debt_financing\": 0.0, \"Funding_count\": 9, \"def_project\": 1, \"bins\": \"Medium Number of Financing Sources\", \"State_Housing_Credit_Equity\": 0}, {\"Project Name\": \"anthm2\", \"Financing_sub_cat\": \"Federal Housing Credit Equity\", \"Interest Rate\": null, \"Funding Type\": \"Construction Financing\", \"Project Type\": \"Seniors\", \"Amount of Funds\": 3987964.0, \"State\": \"Georgia\", \"Gov_Grant\": 0, \"debt_financing\": 0.0, \"Funding_count\": 9, \"def_project\": 1, \"bins\": \"Medium Number of Financing Sources\", \"State_Housing_Credit_Equity\": 0}, {\"Project Name\": \"anthm2\", \"Financing_sub_cat\": \"Federal Housing Credit Equity\", \"Interest Rate\": null, \"Funding Type\": \"Permanent Financing\", \"Project Type\": \"Seniors\", \"Amount of Funds\": 6135331.0, \"State\": \"Georgia\", \"Gov_Grant\": 0, \"debt_financing\": 0.0, \"Funding_count\": 9, \"def_project\": 1, \"bins\": \"Medium Number of Financing Sources\", \"State_Housing_Credit_Equity\": 0}, {\"Project Name\": \"anthm2\", \"Financing_sub_cat\": \"Bank Loan\", \"Interest Rate\": 5.4, \"Funding Type\": \"Construction Financing\", \"Project Type\": \"Seniors\", \"Amount of Funds\": 7603000.0, \"State\": \"Georgia\", \"Gov_Grant\": 0, \"debt_financing\": 1.0, \"Funding_count\": 9, \"def_project\": 1, \"bins\": \"Medium Number of Financing Sources\", \"State_Housing_Credit_Equity\": 0}, {\"Project Name\": \"anthm2\", \"Financing_sub_cat\": \"Bank Loan\", \"Interest Rate\": 5.4, \"Funding Type\": \"Permanent Financing\", \"Project Type\": \"Seniors\", \"Amount of Funds\": 2103874.0, \"State\": \"Georgia\", \"Gov_Grant\": 0, \"debt_financing\": 1.0, \"Funding_count\": 9, \"def_project\": 1, \"bins\": \"Medium Number of Financing Sources\", \"State_Housing_Credit_Equity\": 0}, {\"Project Name\": \"anthm2\", \"Financing_sub_cat\": \"State Housing Credit Equity\", \"Interest Rate\": null, \"Funding Type\": \"Construction Financing\", \"Project Type\": \"Seniors\", \"Amount of Funds\": 2338006.0, \"State\": \"Georgia\", \"Gov_Grant\": 0, \"debt_financing\": 0.0, \"Funding_count\": 9, \"def_project\": 1, \"bins\": \"Medium Number of Financing Sources\", \"State_Housing_Credit_Equity\": 1}, {\"Project Name\": \"anthm2\", \"Financing_sub_cat\": \"State Housing Credit Equity\", \"Interest Rate\": null, \"Funding Type\": \"Permanent Financing\", \"Project Type\": \"Seniors\", \"Amount of Funds\": 3596933.0, \"State\": \"Georgia\", \"Gov_Grant\": 0, \"debt_financing\": 0.0, \"Funding_count\": 9, \"def_project\": 1, \"bins\": \"Medium Number of Financing Sources\", \"State_Housing_Credit_Equity\": 1}, {\"Project Name\": \"harperwdsg\", \"Financing_sub_cat\": \"Deferred Developer Fee\", \"Interest Rate\": 3.0, \"Funding Type\": \"Permanent Financing\", \"Project Type\": \"Family\", \"Amount of Funds\": 311859.0, \"State\": \"Georgia\", \"Gov_Grant\": 0, \"debt_financing\": 0.0, \"Funding_count\": 7, \"def_project\": 1, \"bins\": \"Low Number of Financing Sources\", \"State_Housing_Credit_Equity\": 0}, {\"Project Name\": \"harperwdsg\", \"Financing_sub_cat\": \"Federal Housing Credit Equity\", \"Interest Rate\": null, \"Funding Type\": \"Construction Financing\", \"Project Type\": \"Family\", \"Amount of Funds\": 1762022.0, \"State\": \"Georgia\", \"Gov_Grant\": 0, \"debt_financing\": 0.0, \"Funding_count\": 7, \"def_project\": 1, \"bins\": \"Low Number of Financing Sources\", \"State_Housing_Credit_Equity\": 0}, {\"Project Name\": \"harperwdsg\", \"Financing_sub_cat\": \"Federal Housing Credit Equity\", \"Interest Rate\": null, \"Funding Type\": \"Permanent Financing\", \"Project Type\": \"Family\", \"Amount of Funds\": 8810110.0, \"State\": \"Georgia\", \"Gov_Grant\": 0, \"debt_financing\": 0.0, \"Funding_count\": 7, \"def_project\": 1, \"bins\": \"Low Number of Financing Sources\", \"State_Housing_Credit_Equity\": 0}, {\"Project Name\": \"harperwdsg\", \"Financing_sub_cat\": \"Bank Loan\", \"Interest Rate\": 5.9799999999999995, \"Funding Type\": \"Construction Financing\", \"Project Type\": \"Family\", \"Amount of Funds\": 11807471.0, \"State\": \"Georgia\", \"Gov_Grant\": 0, \"debt_financing\": 1.0, \"Funding_count\": 7, \"def_project\": 1, \"bins\": \"Low Number of Financing Sources\", \"State_Housing_Credit_Equity\": 0}, {\"Project Name\": \"harperwdsg\", \"Financing_sub_cat\": \"Bank Loan\", \"Interest Rate\": 5.5, \"Funding Type\": \"Permanent Financing\", \"Project Type\": \"Family\", \"Amount of Funds\": 2400000.0, \"State\": \"Georgia\", \"Gov_Grant\": 0, \"debt_financing\": 1.0, \"Funding_count\": 7, \"def_project\": 1, \"bins\": \"Low Number of Financing Sources\", \"State_Housing_Credit_Equity\": 0}, {\"Project Name\": \"harperwdsg\", \"Financing_sub_cat\": \"State Housing Credit Equity\", \"Interest Rate\": null, \"Funding Type\": \"Construction Financing\", \"Project Type\": \"Family\", \"Amount of Funds\": 1017800.0, \"State\": \"Georgia\", \"Gov_Grant\": 0, \"debt_financing\": 0.0, \"Funding_count\": 7, \"def_project\": 1, \"bins\": \"Low Number of Financing Sources\", \"State_Housing_Credit_Equity\": 1}, {\"Project Name\": \"harperwdsg\", \"Financing_sub_cat\": \"State Housing Credit Equity\", \"Interest Rate\": null, \"Funding Type\": \"Permanent Financing\", \"Project Type\": \"Family\", \"Amount of Funds\": 5089000.0, \"State\": \"Georgia\", \"Gov_Grant\": 0, \"debt_financing\": 0.0, \"Funding_count\": 7, \"def_project\": 1, \"bins\": \"Low Number of Financing Sources\", \"State_Housing_Credit_Equity\": 1}, {\"Project Name\": \"hearthsidesmyrnag\", \"Financing_sub_cat\": \"Deferred Developer Fee\", \"Interest Rate\": 8.0, \"Funding Type\": \"Permanent Financing\", \"Project Type\": \"Seniors\", \"Amount of Funds\": 5287.0, \"State\": \"Georgia\", \"Gov_Grant\": 0, \"debt_financing\": 0.0, \"Funding_count\": 7, \"def_project\": 1, \"bins\": \"Low Number of Financing Sources\", \"State_Housing_Credit_Equity\": 0}, {\"Project Name\": \"hearthsidesmyrnag\", \"Financing_sub_cat\": \"Federal Housing Credit Equity\", \"Interest Rate\": null, \"Funding Type\": \"Construction Financing\", \"Project Type\": \"Seniors\", \"Amount of Funds\": 4710409.0, \"State\": \"Georgia\", \"Gov_Grant\": 0, \"debt_financing\": 0.0, \"Funding_count\": 7, \"def_project\": 1, \"bins\": \"Low Number of Financing Sources\", \"State_Housing_Credit_Equity\": 0}, {\"Project Name\": \"hearthsidesmyrnag\", \"Financing_sub_cat\": \"Federal Housing Credit Equity\", \"Interest Rate\": null, \"Funding Type\": \"Permanent Financing\", \"Project Type\": \"Seniors\", \"Amount of Funds\": 7850682.0, \"State\": \"Georgia\", \"Gov_Grant\": 0, \"debt_financing\": 0.0, \"Funding_count\": 7, \"def_project\": 1, \"bins\": \"Low Number of Financing Sources\", \"State_Housing_Credit_Equity\": 0}, {\"Project Name\": \"hearthsidesmyrnag\", \"Financing_sub_cat\": \"Bank Loan\", \"Interest Rate\": 5.2330000000000005, \"Funding Type\": \"Construction Financing\", \"Project Type\": \"Seniors\", \"Amount of Funds\": 4900000.0, \"State\": \"Georgia\", \"Gov_Grant\": 0, \"debt_financing\": 1.0, \"Funding_count\": 7, \"def_project\": 1, \"bins\": \"Low Number of Financing Sources\", \"State_Housing_Credit_Equity\": 0}, {\"Project Name\": \"hearthsidesmyrnag\", \"Financing_sub_cat\": \"Bank Loan\", \"Interest Rate\": 5.4, \"Funding Type\": \"Permanent Financing\", \"Project Type\": \"Seniors\", \"Amount of Funds\": 2025000.0, \"State\": \"Georgia\", \"Gov_Grant\": 0, \"debt_financing\": 1.0, \"Funding_count\": 7, \"def_project\": 1, \"bins\": \"Low Number of Financing Sources\", \"State_Housing_Credit_Equity\": 0}, {\"Project Name\": \"hearthsidesmyrnag\", \"Financing_sub_cat\": \"State Housing Credit Equity\", \"Interest Rate\": null, \"Funding Type\": \"Construction Financing\", \"Project Type\": \"Seniors\", \"Amount of Funds\": 2739000.0, \"State\": \"Georgia\", \"Gov_Grant\": 0, \"debt_financing\": 0.0, \"Funding_count\": 7, \"def_project\": 1, \"bins\": \"Low Number of Financing Sources\", \"State_Housing_Credit_Equity\": 1}, {\"Project Name\": \"hearthsidesmyrnag\", \"Financing_sub_cat\": \"State Housing Credit Equity\", \"Interest Rate\": null, \"Funding Type\": \"Permanent Financing\", \"Project Type\": \"Seniors\", \"Amount of Funds\": 4565000.0, \"State\": \"Georgia\", \"Gov_Grant\": 0, \"debt_financing\": 0.0, \"Funding_count\": 7, \"def_project\": 1, \"bins\": \"Low Number of Financing Sources\", \"State_Housing_Credit_Equity\": 1}, {\"Project Name\": \"_24east\", \"Financing_sub_cat\": \"Deferred Developer Fee\", \"Interest Rate\": 2.75, \"Funding Type\": \"Permanent Financing\", \"Project Type\": \"Seniors\", \"Amount of Funds\": 360206.0, \"State\": \"Georgia\", \"Gov_Grant\": 0, \"debt_financing\": 0.0, \"Funding_count\": 8, \"def_project\": 1, \"bins\": \"Low Number of Financing Sources\", \"State_Housing_Credit_Equity\": 0}, {\"Project Name\": \"_24east\", \"Financing_sub_cat\": \"Federal Housing Credit Equity\", \"Interest Rate\": null, \"Funding Type\": \"Construction Financing\", \"Project Type\": \"Seniors\", \"Amount of Funds\": 1742224.0, \"State\": \"Georgia\", \"Gov_Grant\": 0, \"debt_financing\": 0.0, \"Funding_count\": 8, \"def_project\": 1, \"bins\": \"Low Number of Financing Sources\", \"State_Housing_Credit_Equity\": 0}, {\"Project Name\": \"_24east\", \"Financing_sub_cat\": \"Federal Housing Credit Equity\", \"Interest Rate\": null, \"Funding Type\": \"Permanent Financing\", \"Project Type\": \"Seniors\", \"Amount of Funds\": 8711120.0, \"State\": \"Georgia\", \"Gov_Grant\": 0, \"debt_financing\": 0.0, \"Funding_count\": 8, \"def_project\": 1, \"bins\": \"Low Number of Financing Sources\", \"State_Housing_Credit_Equity\": 0}, {\"Project Name\": \"_24east\", \"Financing_sub_cat\": \"Bank Loan\", \"Interest Rate\": 6.0, \"Funding Type\": \"Construction Financing\", \"Project Type\": \"Seniors\", \"Amount of Funds\": 13423227.0, \"State\": \"Georgia\", \"Gov_Grant\": 0, \"debt_financing\": 1.0, \"Funding_count\": 8, \"def_project\": 1, \"bins\": \"Low Number of Financing Sources\", \"State_Housing_Credit_Equity\": 0}, {\"Project Name\": \"_24east\", \"Financing_sub_cat\": \"Bank Loan\", \"Interest Rate\": 0.0, \"Funding Type\": \"Permanent Financing\", \"Project Type\": \"Seniors\", \"Amount of Funds\": 2400000.0, \"State\": \"Georgia\", \"Gov_Grant\": 0, \"debt_financing\": 1.0, \"Funding_count\": 8, \"def_project\": 1, \"bins\": \"Low Number of Financing Sources\", \"State_Housing_Credit_Equity\": 0}, {\"Project Name\": \"_24east\", \"Financing_sub_cat\": \"Bank Loan\", \"Interest Rate\": 1.0, \"Funding Type\": \"Permanent Financing\", \"Project Type\": \"Seniors\", \"Amount of Funds\": 1200000.0, \"State\": \"Georgia\", \"Gov_Grant\": 0, \"debt_financing\": 1.0, \"Funding_count\": 8, \"def_project\": 1, \"bins\": \"Low Number of Financing Sources\", \"State_Housing_Credit_Equity\": 0}, {\"Project Name\": \"_24east\", \"Financing_sub_cat\": \"State Housing Credit Equity\", \"Interest Rate\": null, \"Funding Type\": \"Construction Financing\", \"Project Type\": \"Seniors\", \"Amount of Funds\": 1137488.0, \"State\": \"Georgia\", \"Gov_Grant\": 0, \"debt_financing\": 0.0, \"Funding_count\": 8, \"def_project\": 1, \"bins\": \"Low Number of Financing Sources\", \"State_Housing_Credit_Equity\": 1}, {\"Project Name\": \"_24east\", \"Financing_sub_cat\": \"State Housing Credit Equity\", \"Interest Rate\": null, \"Funding Type\": \"Permanent Financing\", \"Project Type\": \"Seniors\", \"Amount of Funds\": 5687440.0, \"State\": \"Georgia\", \"Gov_Grant\": 0, \"debt_financing\": 0.0, \"Funding_count\": 8, \"def_project\": 1, \"bins\": \"Low Number of Financing Sources\", \"State_Housing_Credit_Equity\": 1}, {\"Project Name\": \"abbgntnormewdpkg\", \"Financing_sub_cat\": \"Deferred Developer Fee\", \"Interest Rate\": null, \"Funding Type\": \"Permanent Financing\", \"Project Type\": \"Family\", \"Amount of Funds\": 56937.0, \"State\": \"Georgia\", \"Gov_Grant\": 0, \"debt_financing\": 0.0, \"Funding_count\": 11, \"def_project\": 1, \"bins\": \"Medium Number of Financing Sources\", \"State_Housing_Credit_Equity\": 0}, {\"Project Name\": \"abbgntnormewdpkg\", \"Financing_sub_cat\": \"Federal Housing Credit Equity\", \"Interest Rate\": null, \"Funding Type\": \"Construction Financing\", \"Project Type\": \"Family\", \"Amount of Funds\": 3583333.0, \"State\": \"Georgia\", \"Gov_Grant\": 0, \"debt_financing\": 0.0, \"Funding_count\": 11, \"def_project\": 1, \"bins\": \"Medium Number of Financing Sources\", \"State_Housing_Credit_Equity\": 0}, {\"Project Name\": \"abbgntnormewdpkg\", \"Financing_sub_cat\": \"Federal Housing Credit Equity\", \"Interest Rate\": null, \"Funding Type\": \"Permanent Financing\", \"Project Type\": \"Family\", \"Amount of Funds\": 5512819.0, \"State\": \"Georgia\", \"Gov_Grant\": 0, \"debt_financing\": 0.0, \"Funding_count\": 11, \"def_project\": 1, \"bins\": \"Medium Number of Financing Sources\", \"State_Housing_Credit_Equity\": 0}, {\"Project Name\": \"abbgntnormewdpkg\", \"Financing_sub_cat\": \"Bank Loan\", \"Interest Rate\": 5.5, \"Funding Type\": \"Construction Financing\", \"Project Type\": \"Family\", \"Amount of Funds\": 4099716.0, \"State\": \"Georgia\", \"Gov_Grant\": 0, \"debt_financing\": 1.0, \"Funding_count\": 11, \"def_project\": 1, \"bins\": \"Medium Number of Financing Sources\", \"State_Housing_Credit_Equity\": 0}, {\"Project Name\": \"abbgntnormewdpkg\", \"Financing_sub_cat\": \"Bank Loan\", \"Interest Rate\": 6.0, \"Funding Type\": \"Permanent Financing\", \"Project Type\": \"Family\", \"Amount of Funds\": 700000.0, \"State\": \"Georgia\", \"Gov_Grant\": 0, \"debt_financing\": 1.0, \"Funding_count\": 11, \"def_project\": 1, \"bins\": \"Medium Number of Financing Sources\", \"State_Housing_Credit_Equity\": 0}, {\"Project Name\": \"abbgntnormewdpkg\", \"Financing_sub_cat\": \"Bank Loan\", \"Interest Rate\": 2.0, \"Funding Type\": \"Construction Financing\", \"Project Type\": \"Family\", \"Amount of Funds\": 300000.0, \"State\": \"Georgia\", \"Gov_Grant\": 0, \"debt_financing\": 1.0, \"Funding_count\": 11, \"def_project\": 1, \"bins\": \"Medium Number of Financing Sources\", \"State_Housing_Credit_Equity\": 0}, {\"Project Name\": \"abbgntnormewdpkg\", \"Financing_sub_cat\": \"Bank Loan\", \"Interest Rate\": 2.0, \"Funding Type\": \"Permanent Financing\", \"Project Type\": \"Family\", \"Amount of Funds\": 300000.0, \"State\": \"Georgia\", \"Gov_Grant\": 0, \"debt_financing\": 1.0, \"Funding_count\": 11, \"def_project\": 1, \"bins\": \"Medium Number of Financing Sources\", \"State_Housing_Credit_Equity\": 0}, {\"Project Name\": \"abbgntnormewdpkg\", \"Financing_sub_cat\": \"Public Private Partnership\", \"Interest Rate\": null, \"Funding Type\": \"Construction Financing\", \"Project Type\": \"Family\", \"Amount of Funds\": 320000.0, \"State\": \"Georgia\", \"Gov_Grant\": 0, \"debt_financing\": 0.0, \"Funding_count\": 11, \"def_project\": 1, \"bins\": \"Medium Number of Financing Sources\", \"State_Housing_Credit_Equity\": 0}, {\"Project Name\": \"abbgntnormewdpkg\", \"Financing_sub_cat\": \"Public Private Partnership\", \"Interest Rate\": null, \"Funding Type\": \"Permanent Financing\", \"Project Type\": \"Family\", \"Amount of Funds\": 320000.0, \"State\": \"Georgia\", \"Gov_Grant\": 0, \"debt_financing\": 0.0, \"Funding_count\": 11, \"def_project\": 1, \"bins\": \"Medium Number of Financing Sources\", \"State_Housing_Credit_Equity\": 0}, {\"Project Name\": \"abbgntnormewdpkg\", \"Financing_sub_cat\": \"State Housing Credit Equity\", \"Interest Rate\": null, \"Funding Type\": \"Construction Financing\", \"Project Type\": \"Family\", \"Amount of Funds\": 2005162.0, \"State\": \"Georgia\", \"Gov_Grant\": 0, \"debt_financing\": 0.0, \"Funding_count\": 11, \"def_project\": 1, \"bins\": \"Medium Number of Financing Sources\", \"State_Housing_Credit_Equity\": 1}, {\"Project Name\": \"abbgntnormewdpkg\", \"Financing_sub_cat\": \"State Housing Credit Equity\", \"Interest Rate\": null, \"Funding Type\": \"Permanent Financing\", \"Project Type\": \"Family\", \"Amount of Funds\": 3084864.0, \"State\": \"Georgia\", \"Gov_Grant\": 0, \"debt_financing\": 0.0, \"Funding_count\": 11, \"def_project\": 1, \"bins\": \"Medium Number of Financing Sources\", \"State_Housing_Credit_Equity\": 1}, {\"Project Name\": \"woodstone2g\", \"Financing_sub_cat\": \"Deferred Developer Fee\", \"Interest Rate\": null, \"Funding Type\": \"Permanent Financing\", \"Project Type\": \"Family\", \"Amount of Funds\": 637.0, \"State\": \"Georgia\", \"Gov_Grant\": 0, \"debt_financing\": 0.0, \"Funding_count\": 6, \"def_project\": 1, \"bins\": \"Low Number of Financing Sources\", \"State_Housing_Credit_Equity\": 0}, {\"Project Name\": \"woodstone2g\", \"Financing_sub_cat\": \"Federal Housing Credit Equity\", \"Interest Rate\": null, \"Funding Type\": \"Construction Financing\", \"Project Type\": \"Family\", \"Amount of Funds\": 775000.0, \"State\": \"Georgia\", \"Gov_Grant\": 0, \"debt_financing\": 0.0, \"Funding_count\": 6, \"def_project\": 1, \"bins\": \"Low Number of Financing Sources\", \"State_Housing_Credit_Equity\": 0}, {\"Project Name\": \"woodstone2g\", \"Financing_sub_cat\": \"Federal Housing Credit Equity\", \"Interest Rate\": null, \"Funding Type\": \"Permanent Financing\", \"Project Type\": \"Family\", \"Amount of Funds\": 3174322.0, \"State\": \"Georgia\", \"Gov_Grant\": 0, \"debt_financing\": 0.0, \"Funding_count\": 6, \"def_project\": 1, \"bins\": \"Low Number of Financing Sources\", \"State_Housing_Credit_Equity\": 0}, {\"Project Name\": \"woodstone2g\", \"Financing_sub_cat\": \"Bank Loan\", \"Interest Rate\": 5.5, \"Funding Type\": \"Construction Financing\", \"Project Type\": \"Family\", \"Amount of Funds\": 4100000.0, \"State\": \"Georgia\", \"Gov_Grant\": 0, \"debt_financing\": 1.0, \"Funding_count\": 6, \"def_project\": 1, \"bins\": \"Low Number of Financing Sources\", \"State_Housing_Credit_Equity\": 0}, {\"Project Name\": \"woodstone2g\", \"Financing_sub_cat\": \"State Housing Credit Equity\", \"Interest Rate\": null, \"Funding Type\": \"Construction Financing\", \"Project Type\": \"Family\", \"Amount of Funds\": 325000.0, \"State\": \"Georgia\", \"Gov_Grant\": 0, \"debt_financing\": 0.0, \"Funding_count\": 6, \"def_project\": 1, \"bins\": \"Low Number of Financing Sources\", \"State_Housing_Credit_Equity\": 1}, {\"Project Name\": \"woodstone2g\", \"Financing_sub_cat\": \"State Housing Credit Equity\", \"Interest Rate\": null, \"Funding Type\": \"Permanent Financing\", \"Project Type\": \"Family\", \"Amount of Funds\": 1993577.0, \"State\": \"Georgia\", \"Gov_Grant\": 0, \"debt_financing\": 0.0, \"Funding_count\": 6, \"def_project\": 1, \"bins\": \"Low Number of Financing Sources\", \"State_Housing_Credit_Equity\": 1}, {\"Project Name\": \"creeksideg\", \"Financing_sub_cat\": \"Deferred Developer Fee\", \"Interest Rate\": 0.0, \"Funding Type\": \"Permanent Financing\", \"Project Type\": \"Seniors\", \"Amount of Funds\": 10.0, \"State\": \"Georgia\", \"Gov_Grant\": 0, \"debt_financing\": 0.0, \"Funding_count\": 8, \"def_project\": 1, \"bins\": \"Low Number of Financing Sources\", \"State_Housing_Credit_Equity\": 0}, {\"Project Name\": \"creeksideg\", \"Financing_sub_cat\": \"Federal Housing Credit Equity\", \"Interest Rate\": null, \"Funding Type\": \"Construction Financing\", \"Project Type\": \"Seniors\", \"Amount of Funds\": 1275012.0, \"State\": \"Georgia\", \"Gov_Grant\": 0, \"debt_financing\": 0.0, \"Funding_count\": 8, \"def_project\": 1, \"bins\": \"Low Number of Financing Sources\", \"State_Housing_Credit_Equity\": 0}, {\"Project Name\": \"creeksideg\", \"Financing_sub_cat\": \"Federal Housing Credit Equity\", \"Interest Rate\": null, \"Funding Type\": \"Permanent Financing\", \"Project Type\": \"Seniors\", \"Amount of Funds\": 6375062.0, \"State\": \"Georgia\", \"Gov_Grant\": 0, \"debt_financing\": 0.0, \"Funding_count\": 8, \"def_project\": 1, \"bins\": \"Low Number of Financing Sources\", \"State_Housing_Credit_Equity\": 0}, {\"Project Name\": \"creeksideg\", \"Financing_sub_cat\": \"Bank Loan\", \"Interest Rate\": 2.7, \"Funding Type\": \"Construction Financing\", \"Project Type\": \"Seniors\", \"Amount of Funds\": 530000.0, \"State\": \"Georgia\", \"Gov_Grant\": 0, \"debt_financing\": 1.0, \"Funding_count\": 8, \"def_project\": 1, \"bins\": \"Low Number of Financing Sources\", \"State_Housing_Credit_Equity\": 0}, {\"Project Name\": \"creeksideg\", \"Financing_sub_cat\": \"Bank Loan\", \"Interest Rate\": 2.7, \"Funding Type\": \"Permanent Financing\", \"Project Type\": \"Seniors\", \"Amount of Funds\": 530000.0, \"State\": \"Georgia\", \"Gov_Grant\": 0, \"debt_financing\": 1.0, \"Funding_count\": 8, \"def_project\": 1, \"bins\": \"Low Number of Financing Sources\", \"State_Housing_Credit_Equity\": 0}, {\"Project Name\": \"creeksideg\", \"Financing_sub_cat\": \"Bank Loan\", \"Interest Rate\": 5.75, \"Funding Type\": \"Construction Financing\", \"Project Type\": \"Seniors\", \"Amount of Funds\": 6434458.0, \"State\": \"Georgia\", \"Gov_Grant\": 0, \"debt_financing\": 1.0, \"Funding_count\": 8, \"def_project\": 1, \"bins\": \"Low Number of Financing Sources\", \"State_Housing_Credit_Equity\": 0}, {\"Project Name\": \"creeksideg\", \"Financing_sub_cat\": \"State Housing Credit Equity\", \"Interest Rate\": null, \"Funding Type\": \"Construction Financing\", \"Project Type\": \"Seniors\", \"Amount of Funds\": 713400.0, \"State\": \"Georgia\", \"Gov_Grant\": 0, \"debt_financing\": 0.0, \"Funding_count\": 8, \"def_project\": 1, \"bins\": \"Low Number of Financing Sources\", \"State_Housing_Credit_Equity\": 1}, {\"Project Name\": \"creeksideg\", \"Financing_sub_cat\": \"State Housing Credit Equity\", \"Interest Rate\": null, \"Funding Type\": \"Permanent Financing\", \"Project Type\": \"Seniors\", \"Amount of Funds\": 3566999.0, \"State\": \"Georgia\", \"Gov_Grant\": 0, \"debt_financing\": 0.0, \"Funding_count\": 8, \"def_project\": 1, \"bins\": \"Low Number of Financing Sources\", \"State_Housing_Credit_Equity\": 1}, {\"Project Name\": \"villgchickamauga2g\", \"Financing_sub_cat\": \"Deferred Developer Fee\", \"Interest Rate\": null, \"Funding Type\": \"Permanent Financing\", \"Project Type\": \"Seniors\", \"Amount of Funds\": 2315.0, \"State\": \"Georgia\", \"Gov_Grant\": 0, \"debt_financing\": 0.0, \"Funding_count\": 7, \"def_project\": 1, \"bins\": \"Low Number of Financing Sources\", \"State_Housing_Credit_Equity\": 0}, {\"Project Name\": \"villgchickamauga2g\", \"Financing_sub_cat\": \"Federal Housing Credit Equity\", \"Interest Rate\": null, \"Funding Type\": \"Construction Financing\", \"Project Type\": \"Seniors\", \"Amount of Funds\": 5540571.0, \"State\": \"Georgia\", \"Gov_Grant\": 0, \"debt_financing\": 0.0, \"Funding_count\": 7, \"def_project\": 1, \"bins\": \"Low Number of Financing Sources\", \"State_Housing_Credit_Equity\": 0}, {\"Project Name\": \"villgchickamauga2g\", \"Financing_sub_cat\": \"Federal Housing Credit Equity\", \"Interest Rate\": null, \"Funding Type\": \"Permanent Financing\", \"Project Type\": \"Seniors\", \"Amount of Funds\": 6611791.0, \"State\": \"Georgia\", \"Gov_Grant\": 0, \"debt_financing\": 0.0, \"Funding_count\": 7, \"def_project\": 1, \"bins\": \"Low Number of Financing Sources\", \"State_Housing_Credit_Equity\": 0}, {\"Project Name\": \"villgchickamauga2g\", \"Financing_sub_cat\": \"Bank Loan\", \"Interest Rate\": 0.0, \"Funding Type\": \"Construction Financing\", \"Project Type\": \"Seniors\", \"Amount of Funds\": 1800000.0, \"State\": \"Georgia\", \"Gov_Grant\": 0, \"debt_financing\": 1.0, \"Funding_count\": 7, \"def_project\": 1, \"bins\": \"Low Number of Financing Sources\", \"State_Housing_Credit_Equity\": 0}, {\"Project Name\": \"villgchickamauga2g\", \"Financing_sub_cat\": \"Bank Loan\", \"Interest Rate\": 1.0, \"Funding Type\": \"Permanent Financing\", \"Project Type\": \"Seniors\", \"Amount of Funds\": 1800000.0, \"State\": \"Georgia\", \"Gov_Grant\": 0, \"debt_financing\": 1.0, \"Funding_count\": 7, \"def_project\": 1, \"bins\": \"Low Number of Financing Sources\", \"State_Housing_Credit_Equity\": 0}, {\"Project Name\": \"villgchickamauga2g\", \"Financing_sub_cat\": \"State Housing Credit Equity\", \"Interest Rate\": null, \"Funding Type\": \"Construction Financing\", \"Project Type\": \"Seniors\", \"Amount of Funds\": 2760694.0, \"State\": \"Georgia\", \"Gov_Grant\": 0, \"debt_financing\": 0.0, \"Funding_count\": 7, \"def_project\": 1, \"bins\": \"Low Number of Financing Sources\", \"State_Housing_Credit_Equity\": 1}, {\"Project Name\": \"villgchickamauga2g\", \"Financing_sub_cat\": \"State Housing Credit Equity\", \"Interest Rate\": null, \"Funding Type\": \"Permanent Financing\", \"Project Type\": \"Seniors\", \"Amount of Funds\": 3384607.0, \"State\": \"Georgia\", \"Gov_Grant\": 0, \"debt_financing\": 0.0, \"Funding_count\": 7, \"def_project\": 1, \"bins\": \"Low Number of Financing Sources\", \"State_Housing_Credit_Equity\": 1}, {\"Project Name\": \"liveoaklndg2\", \"Financing_sub_cat\": \"Deferred Developer Fee\", \"Interest Rate\": 0.0, \"Funding Type\": \"Permanent Financing\", \"Project Type\": \"Family\", \"Amount of Funds\": 9703.0, \"State\": \"Georgia\", \"Gov_Grant\": 0, \"debt_financing\": 0.0, \"Funding_count\": 6, \"def_project\": 1, \"bins\": \"Low Number of Financing Sources\", \"State_Housing_Credit_Equity\": 0}, {\"Project Name\": \"liveoaklndg2\", \"Financing_sub_cat\": \"Federal Housing Credit Equity\", \"Interest Rate\": null, \"Funding Type\": \"Construction Financing\", \"Project Type\": \"Family\", \"Amount of Funds\": 1451294.0, \"State\": \"Georgia\", \"Gov_Grant\": 0, \"debt_financing\": 0.0, \"Funding_count\": 6, \"def_project\": 1, \"bins\": \"Low Number of Financing Sources\", \"State_Housing_Credit_Equity\": 0}, {\"Project Name\": \"liveoaklndg2\", \"Financing_sub_cat\": \"Federal Housing Credit Equity\", \"Interest Rate\": null, \"Funding Type\": \"Permanent Financing\", \"Project Type\": \"Family\", \"Amount of Funds\": 7256471.0, \"State\": \"Georgia\", \"Gov_Grant\": 0, \"debt_financing\": 0.0, \"Funding_count\": 6, \"def_project\": 1, \"bins\": \"Low Number of Financing Sources\", \"State_Housing_Credit_Equity\": 0}, {\"Project Name\": \"liveoaklndg2\", \"Financing_sub_cat\": \"Bank Loan\", \"Interest Rate\": 6.0, \"Funding Type\": \"Construction Financing\", \"Project Type\": \"Family\", \"Amount of Funds\": 7448602.0, \"State\": \"Georgia\", \"Gov_Grant\": 0, \"debt_financing\": 1.0, \"Funding_count\": 6, \"def_project\": 1, \"bins\": \"Low Number of Financing Sources\", \"State_Housing_Credit_Equity\": 0}, {\"Project Name\": \"liveoaklndg2\", \"Financing_sub_cat\": \"State Housing Credit Equity\", \"Interest Rate\": null, \"Funding Type\": \"Construction Financing\", \"Project Type\": \"Family\", \"Amount of Funds\": 687412.0, \"State\": \"Georgia\", \"Gov_Grant\": 0, \"debt_financing\": 0.0, \"Funding_count\": 6, \"def_project\": 1, \"bins\": \"Low Number of Financing Sources\", \"State_Housing_Credit_Equity\": 1}, {\"Project Name\": \"liveoaklndg2\", \"Financing_sub_cat\": \"State Housing Credit Equity\", \"Interest Rate\": null, \"Funding Type\": \"Permanent Financing\", \"Project Type\": \"Family\", \"Amount of Funds\": 3437063.0, \"State\": \"Georgia\", \"Gov_Grant\": 0, \"debt_financing\": 0.0, \"Funding_count\": 6, \"def_project\": 1, \"bins\": \"Low Number of Financing Sources\", \"State_Housing_Credit_Equity\": 1}, {\"Project Name\": \"millvillageg\", \"Financing_sub_cat\": \"Deferred Developer Fee\", \"Interest Rate\": 0.0, \"Funding Type\": \"Permanent Financing\", \"Project Type\": \"Family\", \"Amount of Funds\": 5836.0, \"State\": \"Georgia\", \"Gov_Grant\": 0, \"debt_financing\": 0.0, \"Funding_count\": 9, \"def_project\": 1, \"bins\": \"Medium Number of Financing Sources\", \"State_Housing_Credit_Equity\": 0}, {\"Project Name\": \"millvillageg\", \"Financing_sub_cat\": \"Federal Housing Credit Equity\", \"Interest Rate\": null, \"Funding Type\": \"Construction Financing\", \"Project Type\": \"Family\", \"Amount of Funds\": 1314090.0, \"State\": \"Georgia\", \"Gov_Grant\": 0, \"debt_financing\": 0.0, \"Funding_count\": 9, \"def_project\": 1, \"bins\": \"Medium Number of Financing Sources\", \"State_Housing_Credit_Equity\": 0}, {\"Project Name\": \"millvillageg\", \"Financing_sub_cat\": \"Federal Housing Credit Equity\", \"Interest Rate\": null, \"Funding Type\": \"Permanent Financing\", \"Project Type\": \"Family\", \"Amount of Funds\": 8760600.0, \"State\": \"Georgia\", \"Gov_Grant\": 0, \"debt_financing\": 0.0, \"Funding_count\": 9, \"def_project\": 1, \"bins\": \"Medium Number of Financing Sources\", \"State_Housing_Credit_Equity\": 0}, {\"Project Name\": \"millvillageg\", \"Financing_sub_cat\": \"Bank Loan\", \"Interest Rate\": 5.2299999999999995, \"Funding Type\": \"Construction Financing\", \"Project Type\": \"Family\", \"Amount of Funds\": 8364666.0, \"State\": \"Georgia\", \"Gov_Grant\": 0, \"debt_financing\": 1.0, \"Funding_count\": 9, \"def_project\": 1, \"bins\": \"Medium Number of Financing Sources\", \"State_Housing_Credit_Equity\": 0}, {\"Project Name\": \"millvillageg\", \"Financing_sub_cat\": \"Bank Loan\", \"Interest Rate\": 5.4, \"Funding Type\": \"Permanent Financing\", \"Project Type\": \"Family\", \"Amount of Funds\": 1960000.0, \"State\": \"Georgia\", \"Gov_Grant\": 0, \"debt_financing\": 1.0, \"Funding_count\": 9, \"def_project\": 1, \"bins\": \"Medium Number of Financing Sources\", \"State_Housing_Credit_Equity\": 0}, {\"Project Name\": \"millvillageg\", \"Financing_sub_cat\": \"Bank Loan\", \"Interest Rate\": 0.0, \"Funding Type\": \"Construction Financing\", \"Project Type\": \"Family\", \"Amount of Funds\": 6115000.0, \"State\": \"Georgia\", \"Gov_Grant\": 0, \"debt_financing\": 1.0, \"Funding_count\": 9, \"def_project\": 1, \"bins\": \"Medium Number of Financing Sources\", \"State_Housing_Credit_Equity\": 0}, {\"Project Name\": \"millvillageg\", \"Financing_sub_cat\": \"Bank Loan\", \"Interest Rate\": 3.0, \"Funding Type\": \"Permanent Financing\", \"Project Type\": \"Family\", \"Amount of Funds\": 3200000.0, \"State\": \"Georgia\", \"Gov_Grant\": 0, \"debt_financing\": 1.0, \"Funding_count\": 9, \"def_project\": 1, \"bins\": \"Medium Number of Financing Sources\", \"State_Housing_Credit_Equity\": 0}, {\"Project Name\": \"millvillageg\", \"Financing_sub_cat\": \"State Housing Credit Equity\", \"Interest Rate\": null, \"Funding Type\": \"Construction Financing\", \"Project Type\": \"Family\", \"Amount of Funds\": 791280.0, \"State\": \"Georgia\", \"Gov_Grant\": 0, \"debt_financing\": 0.0, \"Funding_count\": 9, \"def_project\": 1, \"bins\": \"Medium Number of Financing Sources\", \"State_Housing_Credit_Equity\": 1}, {\"Project Name\": \"millvillageg\", \"Financing_sub_cat\": \"State Housing Credit Equity\", \"Interest Rate\": null, \"Funding Type\": \"Permanent Financing\", \"Project Type\": \"Family\", \"Amount of Funds\": 5275200.0, \"State\": \"Georgia\", \"Gov_Grant\": 0, \"debt_financing\": 0.0, \"Funding_count\": 9, \"def_project\": 1, \"bins\": \"Medium Number of Financing Sources\", \"State_Housing_Credit_Equity\": 1}, {\"Project Name\": \"westoversr\", \"Financing_sub_cat\": \"Deferred Developer Fee\", \"Interest Rate\": 0.0, \"Funding Type\": \"Permanent Financing\", \"Project Type\": \"Seniors\", \"Amount of Funds\": 778.0, \"State\": \"Georgia\", \"Gov_Grant\": 0, \"debt_financing\": 0.0, \"Funding_count\": 8, \"def_project\": 1, \"bins\": \"Low Number of Financing Sources\", \"State_Housing_Credit_Equity\": 0}, {\"Project Name\": \"westoversr\", \"Financing_sub_cat\": \"Federal Housing Credit Equity\", \"Interest Rate\": null, \"Funding Type\": \"Construction Financing\", \"Project Type\": \"Seniors\", \"Amount of Funds\": 1071804.6, \"State\": \"Georgia\", \"Gov_Grant\": 0, \"debt_financing\": 0.0, \"Funding_count\": 8, \"def_project\": 1, \"bins\": \"Low Number of Financing Sources\", \"State_Housing_Credit_Equity\": 0}, {\"Project Name\": \"westoversr\", \"Financing_sub_cat\": \"Federal Housing Credit Equity\", \"Interest Rate\": null, \"Funding Type\": \"Permanent Financing\", \"Project Type\": \"Seniors\", \"Amount of Funds\": 5359023.0, \"State\": \"Georgia\", \"Gov_Grant\": 0, \"debt_financing\": 0.0, \"Funding_count\": 8, \"def_project\": 1, \"bins\": \"Low Number of Financing Sources\", \"State_Housing_Credit_Equity\": 0}, {\"Project Name\": \"westoversr\", \"Financing_sub_cat\": \"Bank Loan\", \"Interest Rate\": 0.0, \"Funding Type\": \"Construction Financing\", \"Project Type\": \"Seniors\", \"Amount of Funds\": 1000000.0, \"State\": \"Georgia\", \"Gov_Grant\": 0, \"debt_financing\": 1.0, \"Funding_count\": 8, \"def_project\": 1, \"bins\": \"Low Number of Financing Sources\", \"State_Housing_Credit_Equity\": 0}, {\"Project Name\": \"westoversr\", \"Financing_sub_cat\": \"Bank Loan\", \"Interest Rate\": 1.0, \"Funding Type\": \"Permanent Financing\", \"Project Type\": \"Seniors\", \"Amount of Funds\": 1000000.0, \"State\": \"Georgia\", \"Gov_Grant\": 0, \"debt_financing\": 1.0, \"Funding_count\": 8, \"def_project\": 1, \"bins\": \"Low Number of Financing Sources\", \"State_Housing_Credit_Equity\": 0}, {\"Project Name\": \"westoversr\", \"Financing_sub_cat\": \"Bank Loan\", \"Interest Rate\": 6.5, \"Funding Type\": \"Construction Financing\", \"Project Type\": \"Seniors\", \"Amount of Funds\": 5456897.0, \"State\": \"Georgia\", \"Gov_Grant\": 0, \"debt_financing\": 1.0, \"Funding_count\": 8, \"def_project\": 1, \"bins\": \"Low Number of Financing Sources\", \"State_Housing_Credit_Equity\": 0}, {\"Project Name\": \"westoversr\", \"Financing_sub_cat\": \"State Housing Credit Equity\", \"Interest Rate\": null, \"Funding Type\": \"Construction Financing\", \"Project Type\": \"Seniors\", \"Amount of Funds\": 464879.2, \"State\": \"Georgia\", \"Gov_Grant\": 0, \"debt_financing\": 0.0, \"Funding_count\": 8, \"def_project\": 1, \"bins\": \"Low Number of Financing Sources\", \"State_Housing_Credit_Equity\": 1}, {\"Project Name\": \"westoversr\", \"Financing_sub_cat\": \"State Housing Credit Equity\", \"Interest Rate\": null, \"Funding Type\": \"Permanent Financing\", \"Project Type\": \"Seniors\", \"Amount of Funds\": 2324396.0, \"State\": \"Georgia\", \"Gov_Grant\": 0, \"debt_financing\": 0.0, \"Funding_count\": 8, \"def_project\": 1, \"bins\": \"Low Number of Financing Sources\", \"State_Housing_Credit_Equity\": 1}, {\"Project Name\": \"crowvllyhtsg\", \"Financing_sub_cat\": \"Deferred Developer Fee\", \"Interest Rate\": 0.0, \"Funding Type\": \"Permanent Financing\", \"Project Type\": \"Family\", \"Amount of Funds\": 268484.0, \"State\": \"Georgia\", \"Gov_Grant\": 0, \"debt_financing\": 0.0, \"Funding_count\": 7, \"def_project\": 1, \"bins\": \"Low Number of Financing Sources\", \"State_Housing_Credit_Equity\": 0}, {\"Project Name\": \"crowvllyhtsg\", \"Financing_sub_cat\": \"Federal Housing Credit Equity\", \"Interest Rate\": null, \"Funding Type\": \"Construction Financing\", \"Project Type\": \"Family\", \"Amount of Funds\": 4643070.0, \"State\": \"Georgia\", \"Gov_Grant\": 0, \"debt_financing\": 0.0, \"Funding_count\": 7, \"def_project\": 1, \"bins\": \"Low Number of Financing Sources\", \"State_Housing_Credit_Equity\": 0}, {\"Project Name\": \"crowvllyhtsg\", \"Financing_sub_cat\": \"Federal Housing Credit Equity\", \"Interest Rate\": null, \"Funding Type\": \"Permanent Financing\", \"Project Type\": \"Family\", \"Amount of Funds\": 7738452.0, \"State\": \"Georgia\", \"Gov_Grant\": 0, \"debt_financing\": 0.0, \"Funding_count\": 7, \"def_project\": 1, \"bins\": \"Low Number of Financing Sources\", \"State_Housing_Credit_Equity\": 0}, {\"Project Name\": \"crowvllyhtsg\", \"Financing_sub_cat\": \"Bank Loan\", \"Interest Rate\": 5.0, \"Funding Type\": \"Construction Financing\", \"Project Type\": \"Family\", \"Amount of Funds\": 6200000.0, \"State\": \"Georgia\", \"Gov_Grant\": 0, \"debt_financing\": 1.0, \"Funding_count\": 7, \"def_project\": 1, \"bins\": \"Low Number of Financing Sources\", \"State_Housing_Credit_Equity\": 0}, {\"Project Name\": \"crowvllyhtsg\", \"Financing_sub_cat\": \"Bank Loan\", \"Interest Rate\": 6.5, \"Funding Type\": \"Permanent Financing\", \"Project Type\": \"Family\", \"Amount of Funds\": 1750000.0, \"State\": \"Georgia\", \"Gov_Grant\": 0, \"debt_financing\": 1.0, \"Funding_count\": 7, \"def_project\": 1, \"bins\": \"Low Number of Financing Sources\", \"State_Housing_Credit_Equity\": 0}, {\"Project Name\": \"crowvllyhtsg\", \"Financing_sub_cat\": \"State Housing Credit Equity\", \"Interest Rate\": null, \"Funding Type\": \"Construction Financing\", \"Project Type\": \"Family\", \"Amount of Funds\": 3070440.0, \"State\": \"Georgia\", \"Gov_Grant\": 0, \"debt_financing\": 0.0, \"Funding_count\": 7, \"def_project\": 1, \"bins\": \"Low Number of Financing Sources\", \"State_Housing_Credit_Equity\": 1}, {\"Project Name\": \"crowvllyhtsg\", \"Financing_sub_cat\": \"State Housing Credit Equity\", \"Interest Rate\": null, \"Funding Type\": \"Permanent Financing\", \"Project Type\": \"Family\", \"Amount of Funds\": 5117400.0, \"State\": \"Georgia\", \"Gov_Grant\": 0, \"debt_financing\": 0.0, \"Funding_count\": 7, \"def_project\": 1, \"bins\": \"Low Number of Financing Sources\", \"State_Housing_Credit_Equity\": 1}, {\"Project Name\": \"flintridgedr_g\", \"Financing_sub_cat\": \"Deferred Developer Fee\", \"Interest Rate\": 0.0, \"Funding Type\": \"Permanent Financing\", \"Project Type\": \"Family\", \"Amount of Funds\": 219615.0, \"State\": \"Georgia\", \"Gov_Grant\": 0, \"debt_financing\": 0.0, \"Funding_count\": 8, \"def_project\": 1, \"bins\": \"Low Number of Financing Sources\", \"State_Housing_Credit_Equity\": 0}, {\"Project Name\": \"flintridgedr_g\", \"Financing_sub_cat\": \"Federal Housing Credit Equity\", \"Interest Rate\": null, \"Funding Type\": \"Construction Financing\", \"Project Type\": \"Family\", \"Amount of Funds\": 1232376.8, \"State\": \"Georgia\", \"Gov_Grant\": 0, \"debt_financing\": 0.0, \"Funding_count\": 8, \"def_project\": 1, \"bins\": \"Low Number of Financing Sources\", \"State_Housing_Credit_Equity\": 0}, {\"Project Name\": \"flintridgedr_g\", \"Financing_sub_cat\": \"Federal Housing Credit Equity\", \"Interest Rate\": null, \"Funding Type\": \"Permanent Financing\", \"Project Type\": \"Family\", \"Amount of Funds\": 6161884.0, \"State\": \"Georgia\", \"Gov_Grant\": 0, \"debt_financing\": 0.0, \"Funding_count\": 8, \"def_project\": 1, \"bins\": \"Low Number of Financing Sources\", \"State_Housing_Credit_Equity\": 0}, {\"Project Name\": \"flintridgedr_g\", \"Financing_sub_cat\": \"Bank Loan\", \"Interest Rate\": 0.0, \"Funding Type\": \"Construction Financing\", \"Project Type\": \"Family\", \"Amount of Funds\": 2000000.0, \"State\": \"Georgia\", \"Gov_Grant\": 0, \"debt_financing\": 1.0, \"Funding_count\": 8, \"def_project\": 1, \"bins\": \"Low Number of Financing Sources\", \"State_Housing_Credit_Equity\": 0}, {\"Project Name\": \"flintridgedr_g\", \"Financing_sub_cat\": \"Bank Loan\", \"Interest Rate\": 1.0, \"Funding Type\": \"Permanent Financing\", \"Project Type\": \"Family\", \"Amount of Funds\": 2000000.0, \"State\": \"Georgia\", \"Gov_Grant\": 0, \"debt_financing\": 1.0, \"Funding_count\": 8, \"def_project\": 1, \"bins\": \"Low Number of Financing Sources\", \"State_Housing_Credit_Equity\": 0}, {\"Project Name\": \"flintridgedr_g\", \"Financing_sub_cat\": \"Bank Loan\", \"Interest Rate\": 6.5, \"Funding Type\": \"Construction Financing\", \"Project Type\": \"Family\", \"Amount of Funds\": 6130978.0, \"State\": \"Georgia\", \"Gov_Grant\": 0, \"debt_financing\": 1.0, \"Funding_count\": 8, \"def_project\": 1, \"bins\": \"Low Number of Financing Sources\", \"State_Housing_Credit_Equity\": 0}, {\"Project Name\": \"flintridgedr_g\", \"Financing_sub_cat\": \"State Housing Credit Equity\", \"Interest Rate\": null, \"Funding Type\": \"Construction Financing\", \"Project Type\": \"Family\", \"Amount of Funds\": 507449.2, \"State\": \"Georgia\", \"Gov_Grant\": 0, \"debt_financing\": 0.0, \"Funding_count\": 8, \"def_project\": 1, \"bins\": \"Low Number of Financing Sources\", \"State_Housing_Credit_Equity\": 1}, {\"Project Name\": \"flintridgedr_g\", \"Financing_sub_cat\": \"State Housing Credit Equity\", \"Interest Rate\": null, \"Funding Type\": \"Permanent Financing\", \"Project Type\": \"Family\", \"Amount of Funds\": 2537246.0, \"State\": \"Georgia\", \"Gov_Grant\": 0, \"debt_financing\": 0.0, \"Funding_count\": 8, \"def_project\": 1, \"bins\": \"Low Number of Financing Sources\", \"State_Housing_Credit_Equity\": 1}, {\"Project Name\": \"waltonharborg\", \"Financing_sub_cat\": \"Deferred Developer Fee\", \"Interest Rate\": 0.0, \"Funding Type\": \"Permanent Financing\", \"Project Type\": \"Family\", \"Amount of Funds\": 90510.0, \"State\": \"Georgia\", \"Gov_Grant\": 0, \"debt_financing\": 0.0, \"Funding_count\": 10, \"def_project\": 1, \"bins\": \"Medium Number of Financing Sources\", \"State_Housing_Credit_Equity\": 0}, {\"Project Name\": \"waltonharborg\", \"Financing_sub_cat\": \"Federal Housing Credit Equity\", \"Interest Rate\": null, \"Funding Type\": \"Construction Financing\", \"Project Type\": \"Family\", \"Amount of Funds\": 5866250.0, \"State\": \"Georgia\", \"Gov_Grant\": 0, \"debt_financing\": 0.0, \"Funding_count\": 10, \"def_project\": 1, \"bins\": \"Medium Number of Financing Sources\", \"State_Housing_Credit_Equity\": 0}, {\"Project Name\": \"waltonharborg\", \"Financing_sub_cat\": \"Federal Housing Credit Equity\", \"Interest Rate\": null, \"Funding Type\": \"Permanent Financing\", \"Project Type\": \"Family\", \"Amount of Funds\": 9025000.0, \"State\": \"Georgia\", \"Gov_Grant\": 0, \"debt_financing\": 0.0, \"Funding_count\": 10, \"def_project\": 1, \"bins\": \"Medium Number of Financing Sources\", \"State_Housing_Credit_Equity\": 0}, {\"Project Name\": \"waltonharborg\", \"Financing_sub_cat\": \"Bank Loan\", \"Interest Rate\": 4.5, \"Funding Type\": \"Construction Financing\", \"Project Type\": \"Family\", \"Amount of Funds\": 2652000.0, \"State\": \"Georgia\", \"Gov_Grant\": 0, \"debt_financing\": 1.0, \"Funding_count\": 10, \"def_project\": 1, \"bins\": \"Medium Number of Financing Sources\", \"State_Housing_Credit_Equity\": 0}, {\"Project Name\": \"waltonharborg\", \"Financing_sub_cat\": \"Bank Loan\", \"Interest Rate\": 0.0, \"Funding Type\": \"Permanent Financing\", \"Project Type\": \"Family\", \"Amount of Funds\": 445000.0, \"State\": \"Georgia\", \"Gov_Grant\": 0, \"debt_financing\": 1.0, \"Funding_count\": 10, \"def_project\": 1, \"bins\": \"Medium Number of Financing Sources\", \"State_Housing_Credit_Equity\": 0}, {\"Project Name\": \"waltonharborg\", \"Financing_sub_cat\": \"Bank Loan\", \"Interest Rate\": 0.0, \"Funding Type\": \"Construction Financing\", \"Project Type\": \"Family\", \"Amount of Funds\": 445000.0, \"State\": \"Georgia\", \"Gov_Grant\": 0, \"debt_financing\": 1.0, \"Funding_count\": 10, \"def_project\": 1, \"bins\": \"Medium Number of Financing Sources\", \"State_Housing_Credit_Equity\": 0}, {\"Project Name\": \"waltonharborg\", \"Financing_sub_cat\": \"State Housing Credit Equity\", \"Interest Rate\": null, \"Funding Type\": \"Construction Financing\", \"Project Type\": \"Family\", \"Amount of Funds\": 3396250.0, \"State\": \"Georgia\", \"Gov_Grant\": 0, \"debt_financing\": 0.0, \"Funding_count\": 10, \"def_project\": 1, \"bins\": \"Medium Number of Financing Sources\", \"State_Housing_Credit_Equity\": 1}, {\"Project Name\": \"waltonharborg\", \"Financing_sub_cat\": \"State Housing Credit Equity\", \"Interest Rate\": null, \"Funding Type\": \"Permanent Financing\", \"Project Type\": \"Family\", \"Amount of Funds\": 5225000.0, \"State\": \"Georgia\", \"Gov_Grant\": 0, \"debt_financing\": 0.0, \"Funding_count\": 10, \"def_project\": 1, \"bins\": \"Medium Number of Financing Sources\", \"State_Housing_Credit_Equity\": 1}, {\"Project Name\": \"waltonharborg\", \"Financing_sub_cat\": \"Local Grant\", \"Interest Rate\": null, \"Funding Type\": \"Construction Financing\", \"Project Type\": \"Family\", \"Amount of Funds\": 350000.0, \"State\": \"Georgia\", \"Gov_Grant\": 1, \"debt_financing\": 0.0, \"Funding_count\": 10, \"def_project\": 1, \"bins\": \"Medium Number of Financing Sources\", \"State_Housing_Credit_Equity\": 0}, {\"Project Name\": \"waltonharborg\", \"Financing_sub_cat\": \"Local Grant\", \"Interest Rate\": null, \"Funding Type\": \"Permanent Financing\", \"Project Type\": \"Family\", \"Amount of Funds\": 350000.0, \"State\": \"Georgia\", \"Gov_Grant\": 1, \"debt_financing\": 0.0, \"Funding_count\": 10, \"def_project\": 1, \"bins\": \"Medium Number of Financing Sources\", \"State_Housing_Credit_Equity\": 0}, {\"Project Name\": \"flatssamlaneg\", \"Financing_sub_cat\": \"Deferred Developer Fee\", \"Interest Rate\": 0.0, \"Funding Type\": \"Permanent Financing\", \"Project Type\": \"Family\", \"Amount of Funds\": 343912.0, \"State\": \"Georgia\", \"Gov_Grant\": 0, \"debt_financing\": 0.0, \"Funding_count\": 8, \"def_project\": 1, \"bins\": \"Low Number of Financing Sources\", \"State_Housing_Credit_Equity\": 0}, {\"Project Name\": \"flatssamlaneg\", \"Financing_sub_cat\": \"Federal Housing Credit Equity\", \"Interest Rate\": null, \"Funding Type\": \"Construction Financing\", \"Project Type\": \"Family\", \"Amount of Funds\": 1136000.0, \"State\": \"Georgia\", \"Gov_Grant\": 0, \"debt_financing\": 0.0, \"Funding_count\": 8, \"def_project\": 1, \"bins\": \"Low Number of Financing Sources\", \"State_Housing_Credit_Equity\": 0}, {\"Project Name\": \"flatssamlaneg\", \"Financing_sub_cat\": \"Federal Housing Credit Equity\", \"Interest Rate\": null, \"Funding Type\": \"Permanent Financing\", \"Project Type\": \"Family\", \"Amount of Funds\": 7573000.0, \"State\": \"Georgia\", \"Gov_Grant\": 0, \"debt_financing\": 0.0, \"Funding_count\": 8, \"def_project\": 1, \"bins\": \"Low Number of Financing Sources\", \"State_Housing_Credit_Equity\": 0}, {\"Project Name\": \"flatssamlaneg\", \"Financing_sub_cat\": \"Bank Loan\", \"Interest Rate\": 5.5, \"Funding Type\": \"Construction Financing\", \"Project Type\": \"Family\", \"Amount of Funds\": 10000000.0, \"State\": \"Georgia\", \"Gov_Grant\": 0, \"debt_financing\": 1.0, \"Funding_count\": 8, \"def_project\": 1, \"bins\": \"Low Number of Financing Sources\", \"State_Housing_Credit_Equity\": 0}, {\"Project Name\": \"flatssamlaneg\", \"Financing_sub_cat\": \"Bank Loan\", \"Interest Rate\": 1.0, \"Funding Type\": \"Permanent Financing\", \"Project Type\": \"Family\", \"Amount of Funds\": 2000000.0, \"State\": \"Georgia\", \"Gov_Grant\": 0, \"debt_financing\": 1.0, \"Funding_count\": 8, \"def_project\": 1, \"bins\": \"Low Number of Financing Sources\", \"State_Housing_Credit_Equity\": 0}, {\"Project Name\": \"flatssamlaneg\", \"Financing_sub_cat\": \"Bank Loan\", \"Interest Rate\": 0.0, \"Funding Type\": \"Construction Financing\", \"Project Type\": \"Family\", \"Amount of Funds\": 2000000.0, \"State\": \"Georgia\", \"Gov_Grant\": 0, \"debt_financing\": 1.0, \"Funding_count\": 8, \"def_project\": 1, \"bins\": \"Low Number of Financing Sources\", \"State_Housing_Credit_Equity\": 0}, {\"Project Name\": \"flatssamlaneg\", \"Financing_sub_cat\": \"State Housing Credit Equity\", \"Interest Rate\": null, \"Funding Type\": \"Construction Financing\", \"Project Type\": \"Family\", \"Amount of Funds\": 714000.0, \"State\": \"Georgia\", \"Gov_Grant\": 0, \"debt_financing\": 0.0, \"Funding_count\": 8, \"def_project\": 1, \"bins\": \"Low Number of Financing Sources\", \"State_Housing_Credit_Equity\": 1}, {\"Project Name\": \"flatssamlaneg\", \"Financing_sub_cat\": \"State Housing Credit Equity\", \"Interest Rate\": null, \"Funding Type\": \"Permanent Financing\", \"Project Type\": \"Family\", \"Amount of Funds\": 4757000.0, \"State\": \"Georgia\", \"Gov_Grant\": 0, \"debt_financing\": 0.0, \"Funding_count\": 8, \"def_project\": 1, \"bins\": \"Low Number of Financing Sources\", \"State_Housing_Credit_Equity\": 1}, {\"Project Name\": \"verandaassemblyg\", \"Financing_sub_cat\": \"Deferred Developer Fee\", \"Interest Rate\": null, \"Funding Type\": \"Permanent Financing\", \"Project Type\": \"Seniors\", \"Amount of Funds\": 1389.0, \"State\": \"Georgia\", \"Gov_Grant\": 0, \"debt_financing\": 0.0, \"Funding_count\": 9, \"def_project\": 1, \"bins\": \"Medium Number of Financing Sources\", \"State_Housing_Credit_Equity\": 0}, {\"Project Name\": \"verandaassemblyg\", \"Financing_sub_cat\": \"Federal Housing Credit Equity\", \"Interest Rate\": null, \"Funding Type\": \"Construction Financing\", \"Project Type\": \"Seniors\", \"Amount of Funds\": 4186736.0, \"State\": \"Georgia\", \"Gov_Grant\": 0, \"debt_financing\": 0.0, \"Funding_count\": 9, \"def_project\": 1, \"bins\": \"Medium Number of Financing Sources\", \"State_Housing_Credit_Equity\": 0}, {\"Project Name\": \"verandaassemblyg\", \"Financing_sub_cat\": \"Federal Housing Credit Equity\", \"Interest Rate\": null, \"Funding Type\": \"Permanent Financing\", \"Project Type\": \"Seniors\", \"Amount of Funds\": 8795664.0, \"State\": \"Georgia\", \"Gov_Grant\": 0, \"debt_financing\": 0.0, \"Funding_count\": 9, \"def_project\": 1, \"bins\": \"Medium Number of Financing Sources\", \"State_Housing_Credit_Equity\": 0}, {\"Project Name\": \"verandaassemblyg\", \"Financing_sub_cat\": \"Bank Loan\", \"Interest Rate\": 6.25, \"Funding Type\": \"Construction Financing\", \"Project Type\": \"Seniors\", \"Amount of Funds\": 7500000.0, \"State\": \"Georgia\", \"Gov_Grant\": 0, \"debt_financing\": 1.0, \"Funding_count\": 9, \"def_project\": 1, \"bins\": \"Medium Number of Financing Sources\", \"State_Housing_Credit_Equity\": 0}, {\"Project Name\": \"verandaassemblyg\", \"Financing_sub_cat\": \"Bank Loan\", \"Interest Rate\": 6.25, \"Funding Type\": \"Permanent Financing\", \"Project Type\": \"Seniors\", \"Amount of Funds\": 2300000.0, \"State\": \"Georgia\", \"Gov_Grant\": 0, \"debt_financing\": 1.0, \"Funding_count\": 9, \"def_project\": 1, \"bins\": \"Medium Number of Financing Sources\", \"State_Housing_Credit_Equity\": 0}, {\"Project Name\": \"verandaassemblyg\", \"Financing_sub_cat\": \"Bank Loan\", \"Interest Rate\": 3.0, \"Funding Type\": \"Construction Financing\", \"Project Type\": \"Seniors\", \"Amount of Funds\": 900000.0, \"State\": \"Georgia\", \"Gov_Grant\": 0, \"debt_financing\": 1.0, \"Funding_count\": 9, \"def_project\": 1, \"bins\": \"Medium Number of Financing Sources\", \"State_Housing_Credit_Equity\": 0}, {\"Project Name\": \"verandaassemblyg\", \"Financing_sub_cat\": \"Bank Loan\", \"Interest Rate\": 3.0, \"Funding Type\": \"Permanent Financing\", \"Project Type\": \"Seniors\", \"Amount of Funds\": 900000.0, \"State\": \"Georgia\", \"Gov_Grant\": 0, \"debt_financing\": 1.0, \"Funding_count\": 9, \"def_project\": 1, \"bins\": \"Medium Number of Financing Sources\", \"State_Housing_Credit_Equity\": 0}, {\"Project Name\": \"verandaassemblyg\", \"Financing_sub_cat\": \"State Housing Credit Equity\", \"Interest Rate\": null, \"Funding Type\": \"Construction Financing\", \"Project Type\": \"Seniors\", \"Amount of Funds\": 2426404.0, \"State\": \"Georgia\", \"Gov_Grant\": 0, \"debt_financing\": 0.0, \"Funding_count\": 9, \"def_project\": 1, \"bins\": \"Medium Number of Financing Sources\", \"State_Housing_Credit_Equity\": 1}, {\"Project Name\": \"verandaassemblyg\", \"Financing_sub_cat\": \"State Housing Credit Equity\", \"Interest Rate\": null, \"Funding Type\": \"Permanent Financing\", \"Project Type\": \"Seniors\", \"Amount of Funds\": 5097487.0, \"State\": \"Georgia\", \"Gov_Grant\": 0, \"debt_financing\": 0.0, \"Funding_count\": 9, \"def_project\": 1, \"bins\": \"Medium Number of Financing Sources\", \"State_Housing_Credit_Equity\": 1}, {\"Project Name\": \"pineviewtraceg\", \"Financing_sub_cat\": \"Deferred Developer Fee\", \"Interest Rate\": 0.0, \"Funding Type\": \"Permanent Financing\", \"Project Type\": \"Family\", \"Amount of Funds\": 33811.0, \"State\": \"Georgia\", \"Gov_Grant\": 0, \"debt_financing\": 0.0, \"Funding_count\": 12, \"def_project\": 1, \"bins\": \"High Number of Financing Sources\", \"State_Housing_Credit_Equity\": 0}, {\"Project Name\": \"pineviewtraceg\", \"Financing_sub_cat\": \"Deferred Developer Fee\", \"Interest Rate\": 0.0, \"Funding Type\": \"Permanent Financing\", \"Project Type\": \"Family\", \"Amount of Funds\": 33811.0, \"State\": \"Georgia\", \"Gov_Grant\": 0, \"debt_financing\": 0.0, \"Funding_count\": 12, \"def_project\": 1, \"bins\": \"High Number of Financing Sources\", \"State_Housing_Credit_Equity\": 0}, {\"Project Name\": \"pineviewtraceg\", \"Financing_sub_cat\": \"Federal Housing Credit Equity\", \"Interest Rate\": null, \"Funding Type\": \"Construction Financing\", \"Project Type\": \"Family\", \"Amount of Funds\": 1435309.0, \"State\": \"Georgia\", \"Gov_Grant\": 0, \"debt_financing\": 0.0, \"Funding_count\": 12, \"def_project\": 1, \"bins\": \"High Number of Financing Sources\", \"State_Housing_Credit_Equity\": 0}, {\"Project Name\": \"pineviewtraceg\", \"Financing_sub_cat\": \"Federal Housing Credit Equity\", \"Interest Rate\": null, \"Funding Type\": \"Permanent Financing\", \"Project Type\": \"Family\", \"Amount of Funds\": 7176545.0, \"State\": \"Georgia\", \"Gov_Grant\": 0, \"debt_financing\": 0.0, \"Funding_count\": 12, \"def_project\": 1, \"bins\": \"High Number of Financing Sources\", \"State_Housing_Credit_Equity\": 0}, {\"Project Name\": \"pineviewtraceg\", \"Financing_sub_cat\": \"Federal Housing Credit Equity\", \"Interest Rate\": null, \"Funding Type\": \"Construction Financing\", \"Project Type\": \"Family\", \"Amount of Funds\": 1435309.0, \"State\": \"Georgia\", \"Gov_Grant\": 0, \"debt_financing\": 0.0, \"Funding_count\": 12, \"def_project\": 1, \"bins\": \"High Number of Financing Sources\", \"State_Housing_Credit_Equity\": 0}, {\"Project Name\": \"pineviewtraceg\", \"Financing_sub_cat\": \"Federal Housing Credit Equity\", \"Interest Rate\": null, \"Funding Type\": \"Permanent Financing\", \"Project Type\": \"Family\", \"Amount of Funds\": 7176545.0, \"State\": \"Georgia\", \"Gov_Grant\": 0, \"debt_financing\": 0.0, \"Funding_count\": 12, \"def_project\": 1, \"bins\": \"High Number of Financing Sources\", \"State_Housing_Credit_Equity\": 0}, {\"Project Name\": \"pineviewtraceg\", \"Financing_sub_cat\": \"Bank Loan\", \"Interest Rate\": 6.0, \"Funding Type\": \"Construction Financing\", \"Project Type\": \"Family\", \"Amount of Funds\": 6954768.0, \"State\": \"Georgia\", \"Gov_Grant\": 0, \"debt_financing\": 1.0, \"Funding_count\": 12, \"def_project\": 1, \"bins\": \"High Number of Financing Sources\", \"State_Housing_Credit_Equity\": 0}, {\"Project Name\": \"pineviewtraceg\", \"Financing_sub_cat\": \"Bank Loan\", \"Interest Rate\": 6.0, \"Funding Type\": \"Construction Financing\", \"Project Type\": \"Family\", \"Amount of Funds\": 6954768.0, \"State\": \"Georgia\", \"Gov_Grant\": 0, \"debt_financing\": 1.0, \"Funding_count\": 12, \"def_project\": 1, \"bins\": \"High Number of Financing Sources\", \"State_Housing_Credit_Equity\": 0}, {\"Project Name\": \"pineviewtraceg\", \"Financing_sub_cat\": \"State Housing Credit Equity\", \"Interest Rate\": null, \"Funding Type\": \"Construction Financing\", \"Project Type\": \"Family\", \"Amount of Funds\": 611601.0, \"State\": \"Georgia\", \"Gov_Grant\": 0, \"debt_financing\": 0.0, \"Funding_count\": 12, \"def_project\": 1, \"bins\": \"High Number of Financing Sources\", \"State_Housing_Credit_Equity\": 1}, {\"Project Name\": \"pineviewtraceg\", \"Financing_sub_cat\": \"State Housing Credit Equity\", \"Interest Rate\": null, \"Funding Type\": \"Permanent Financing\", \"Project Type\": \"Family\", \"Amount of Funds\": 3058005.0, \"State\": \"Georgia\", \"Gov_Grant\": 0, \"debt_financing\": 0.0, \"Funding_count\": 12, \"def_project\": 1, \"bins\": \"High Number of Financing Sources\", \"State_Housing_Credit_Equity\": 1}, {\"Project Name\": \"pineviewtraceg\", \"Financing_sub_cat\": \"State Housing Credit Equity\", \"Interest Rate\": null, \"Funding Type\": \"Construction Financing\", \"Project Type\": \"Family\", \"Amount of Funds\": 611601.0, \"State\": \"Georgia\", \"Gov_Grant\": 0, \"debt_financing\": 0.0, \"Funding_count\": 12, \"def_project\": 1, \"bins\": \"High Number of Financing Sources\", \"State_Housing_Credit_Equity\": 1}, {\"Project Name\": \"pineviewtraceg\", \"Financing_sub_cat\": \"State Housing Credit Equity\", \"Interest Rate\": null, \"Funding Type\": \"Permanent Financing\", \"Project Type\": \"Family\", \"Amount of Funds\": 3058005.0, \"State\": \"Georgia\", \"Gov_Grant\": 0, \"debt_financing\": 0.0, \"Funding_count\": 12, \"def_project\": 1, \"bins\": \"High Number of Financing Sources\", \"State_Housing_Credit_Equity\": 1}, {\"Project Name\": \"suttonterrace\", \"Financing_sub_cat\": \"Deferred Developer Fee\", \"Interest Rate\": 0.0, \"Funding Type\": \"Permanent Financing\", \"Project Type\": \"Family\", \"Amount of Funds\": 1148.0, \"State\": \"Georgia\", \"Gov_Grant\": 0, \"debt_financing\": 0.0, \"Funding_count\": 7, \"def_project\": 1, \"bins\": \"Low Number of Financing Sources\", \"State_Housing_Credit_Equity\": 0}, {\"Project Name\": \"suttonterrace\", \"Financing_sub_cat\": \"Federal Housing Credit Equity\", \"Interest Rate\": null, \"Funding Type\": \"Construction Financing\", \"Project Type\": \"Family\", \"Amount of Funds\": 1582794.8, \"State\": \"Georgia\", \"Gov_Grant\": 0, \"debt_financing\": 0.0, \"Funding_count\": 7, \"def_project\": 1, \"bins\": \"Low Number of Financing Sources\", \"State_Housing_Credit_Equity\": 0}, {\"Project Name\": \"suttonterrace\", \"Financing_sub_cat\": \"Federal Housing Credit Equity\", \"Interest Rate\": null, \"Funding Type\": \"Permanent Financing\", \"Project Type\": \"Family\", \"Amount of Funds\": 7913974.0, \"State\": \"Georgia\", \"Gov_Grant\": 0, \"debt_financing\": 0.0, \"Funding_count\": 7, \"def_project\": 1, \"bins\": \"Low Number of Financing Sources\", \"State_Housing_Credit_Equity\": 0}, {\"Project Name\": \"suttonterrace\", \"Financing_sub_cat\": \"Bank Loan\", \"Interest Rate\": 6.5, \"Funding Type\": \"Construction Financing\", \"Project Type\": \"Family\", \"Amount of Funds\": 9594248.0, \"State\": \"Georgia\", \"Gov_Grant\": 0, \"debt_financing\": 1.0, \"Funding_count\": 7, \"def_project\": 1, \"bins\": \"Low Number of Financing Sources\", \"State_Housing_Credit_Equity\": 0}, {\"Project Name\": \"suttonterrace\", \"Financing_sub_cat\": \"Bank Loan\", \"Interest Rate\": 7.000000000000001, \"Funding Type\": \"Permanent Financing\", \"Project Type\": \"Family\", \"Amount of Funds\": 1500000.0, \"State\": \"Georgia\", \"Gov_Grant\": 0, \"debt_financing\": 1.0, \"Funding_count\": 7, \"def_project\": 1, \"bins\": \"Low Number of Financing Sources\", \"State_Housing_Credit_Equity\": 0}, {\"Project Name\": \"suttonterrace\", \"Financing_sub_cat\": \"State Housing Credit Equity\", \"Interest Rate\": null, \"Funding Type\": \"Construction Financing\", \"Project Type\": \"Family\", \"Amount of Funds\": 711368.4, \"State\": \"Georgia\", \"Gov_Grant\": 0, \"debt_financing\": 0.0, \"Funding_count\": 7, \"def_project\": 1, \"bins\": \"Low Number of Financing Sources\", \"State_Housing_Credit_Equity\": 1}, {\"Project Name\": \"suttonterrace\", \"Financing_sub_cat\": \"State Housing Credit Equity\", \"Interest Rate\": null, \"Funding Type\": \"Permanent Financing\", \"Project Type\": \"Family\", \"Amount of Funds\": 3556842.0, \"State\": \"Georgia\", \"Gov_Grant\": 0, \"debt_financing\": 0.0, \"Funding_count\": 7, \"def_project\": 1, \"bins\": \"Low Number of Financing Sources\", \"State_Housing_Credit_Equity\": 1}, {\"Project Name\": \"woodlawnsrvllgg\", \"Financing_sub_cat\": \"Deferred Developer Fee\", \"Interest Rate\": 0.0, \"Funding Type\": \"Permanent Financing\", \"Project Type\": \"Seniors\", \"Amount of Funds\": 8118.0, \"State\": \"Georgia\", \"Gov_Grant\": 0, \"debt_financing\": 0.0, \"Funding_count\": 5, \"def_project\": 1, \"bins\": \"Low Number of Financing Sources\", \"State_Housing_Credit_Equity\": 0}, {\"Project Name\": \"woodlawnsrvllgg\", \"Financing_sub_cat\": \"Federal Housing Credit Equity\", \"Interest Rate\": null, \"Funding Type\": \"Construction Financing\", \"Project Type\": \"Seniors\", \"Amount of Funds\": 2945885.0, \"State\": \"Georgia\", \"Gov_Grant\": 0, \"debt_financing\": 0.0, \"Funding_count\": 5, \"def_project\": 1, \"bins\": \"Low Number of Financing Sources\", \"State_Housing_Credit_Equity\": 0}, {\"Project Name\": \"woodlawnsrvllgg\", \"Financing_sub_cat\": \"Federal Housing Credit Equity\", \"Interest Rate\": null, \"Funding Type\": \"Permanent Financing\", \"Project Type\": \"Seniors\", \"Amount of Funds\": 3187500.0, \"State\": \"Georgia\", \"Gov_Grant\": 0, \"debt_financing\": 0.0, \"Funding_count\": 5, \"def_project\": 1, \"bins\": \"Low Number of Financing Sources\", \"State_Housing_Credit_Equity\": 0}, {\"Project Name\": \"woodlawnsrvllgg\", \"Financing_sub_cat\": \"State Housing Credit Equity\", \"Interest Rate\": null, \"Funding Type\": \"Construction Financing\", \"Project Type\": \"Seniors\", \"Amount of Funds\": 1386317.0, \"State\": \"Georgia\", \"Gov_Grant\": 0, \"debt_financing\": 0.0, \"Funding_count\": 5, \"def_project\": 1, \"bins\": \"Low Number of Financing Sources\", \"State_Housing_Credit_Equity\": 1}, {\"Project Name\": \"woodlawnsrvllgg\", \"Financing_sub_cat\": \"State Housing Credit Equity\", \"Interest Rate\": null, \"Funding Type\": \"Permanent Financing\", \"Project Type\": \"Seniors\", \"Amount of Funds\": 1762500.0, \"State\": \"Georgia\", \"Gov_Grant\": 0, \"debt_financing\": 0.0, \"Funding_count\": 5, \"def_project\": 1, \"bins\": \"Low Number of Financing Sources\", \"State_Housing_Credit_Equity\": 1}, {\"Project Name\": \"havensatlantag\", \"Financing_sub_cat\": \"Federal Housing Credit Equity\", \"Interest Rate\": null, \"Funding Type\": \"Permanent Financing\", \"Project Type\": \"Family\", \"Amount of Funds\": 7552521.0, \"State\": \"Georgia\", \"Gov_Grant\": 0, \"debt_financing\": 0.0, \"Funding_count\": 6, \"def_project\": 0, \"bins\": \"Low Number of Financing Sources\", \"State_Housing_Credit_Equity\": 0}, {\"Project Name\": \"havensatlantag\", \"Financing_sub_cat\": \"Bank Loan\", \"Interest Rate\": 5.19, \"Funding Type\": \"Construction Financing\", \"Project Type\": \"Family\", \"Amount of Funds\": 4041894.0, \"State\": \"Georgia\", \"Gov_Grant\": 0, \"debt_financing\": 1.0, \"Funding_count\": 6, \"def_project\": 0, \"bins\": \"Low Number of Financing Sources\", \"State_Housing_Credit_Equity\": 0}, {\"Project Name\": \"havensatlantag\", \"Financing_sub_cat\": \"Bank Loan\", \"Interest Rate\": 6.5, \"Funding Type\": \"Permanent Financing\", \"Project Type\": \"Family\", \"Amount of Funds\": 2400000.0, \"State\": \"Georgia\", \"Gov_Grant\": 0, \"debt_financing\": 1.0, \"Funding_count\": 6, \"def_project\": 0, \"bins\": \"Low Number of Financing Sources\", \"State_Housing_Credit_Equity\": 0}, {\"Project Name\": \"havensatlantag\", \"Financing_sub_cat\": \"Bank Loan\", \"Interest Rate\": 0.0, \"Funding Type\": \"Construction Financing\", \"Project Type\": \"Family\", \"Amount of Funds\": 1200000.0, \"State\": \"Georgia\", \"Gov_Grant\": 0, \"debt_financing\": 1.0, \"Funding_count\": 6, \"def_project\": 0, \"bins\": \"Low Number of Financing Sources\", \"State_Housing_Credit_Equity\": 0}, {\"Project Name\": \"havensatlantag\", \"Financing_sub_cat\": \"Bank Loan\", \"Interest Rate\": 1.0, \"Funding Type\": \"Permanent Financing\", \"Project Type\": \"Family\", \"Amount of Funds\": 1200000.0, \"State\": \"Georgia\", \"Gov_Grant\": 0, \"debt_financing\": 1.0, \"Funding_count\": 6, \"def_project\": 0, \"bins\": \"Low Number of Financing Sources\", \"State_Housing_Credit_Equity\": 0}, {\"Project Name\": \"havensatlantag\", \"Financing_sub_cat\": \"State Housing Credit Equity\", \"Interest Rate\": null, \"Funding Type\": \"Permanent Financing\", \"Project Type\": \"Family\", \"Amount of Funds\": 4720326.0, \"State\": \"Georgia\", \"Gov_Grant\": 0, \"debt_financing\": 0.0, \"Funding_count\": 6, \"def_project\": 0, \"bins\": \"Low Number of Financing Sources\", \"State_Housing_Credit_Equity\": 1}, {\"Project Name\": \"wrredev2g\", \"Financing_sub_cat\": \"Federal Housing Credit Equity\", \"Interest Rate\": null, \"Funding Type\": \"Construction Financing\", \"Project Type\": \"Family\", \"Amount of Funds\": 5148000.0, \"State\": \"Georgia\", \"Gov_Grant\": 0, \"debt_financing\": 0.0, \"Funding_count\": 6, \"def_project\": 0, \"bins\": \"Low Number of Financing Sources\", \"State_Housing_Credit_Equity\": 0}, {\"Project Name\": \"wrredev2g\", \"Financing_sub_cat\": \"Federal Housing Credit Equity\", \"Interest Rate\": null, \"Funding Type\": \"Permanent Financing\", \"Project Type\": \"Family\", \"Amount of Funds\": 7920000.0, \"State\": \"Georgia\", \"Gov_Grant\": 0, \"debt_financing\": 0.0, \"Funding_count\": 6, \"def_project\": 0, \"bins\": \"Low Number of Financing Sources\", \"State_Housing_Credit_Equity\": 0}, {\"Project Name\": \"wrredev2g\", \"Financing_sub_cat\": \"Bank Loan\", \"Interest Rate\": 5.0, \"Funding Type\": \"Construction Financing\", \"Project Type\": \"Family\", \"Amount of Funds\": 4869350.0, \"State\": \"Georgia\", \"Gov_Grant\": 0, \"debt_financing\": 1.0, \"Funding_count\": 6, \"def_project\": 0, \"bins\": \"Low Number of Financing Sources\", \"State_Housing_Credit_Equity\": 0}, {\"Project Name\": \"wrredev2g\", \"Financing_sub_cat\": \"Bank Loan\", \"Interest Rate\": 6.25, \"Funding Type\": \"Permanent Financing\", \"Project Type\": \"Family\", \"Amount of Funds\": 3000000.0, \"State\": \"Georgia\", \"Gov_Grant\": 0, \"debt_financing\": 1.0, \"Funding_count\": 6, \"def_project\": 0, \"bins\": \"Low Number of Financing Sources\", \"State_Housing_Credit_Equity\": 0}, {\"Project Name\": \"wrredev2g\", \"Financing_sub_cat\": \"State Housing Credit Equity\", \"Interest Rate\": null, \"Funding Type\": \"Construction Financing\", \"Project Type\": \"Family\", \"Amount of Funds\": 3217500.0, \"State\": \"Georgia\", \"Gov_Grant\": 0, \"debt_financing\": 0.0, \"Funding_count\": 6, \"def_project\": 0, \"bins\": \"Low Number of Financing Sources\", \"State_Housing_Credit_Equity\": 1}, {\"Project Name\": \"wrredev2g\", \"Financing_sub_cat\": \"State Housing Credit Equity\", \"Interest Rate\": null, \"Funding Type\": \"Permanent Financing\", \"Project Type\": \"Family\", \"Amount of Funds\": 4950000.0, \"State\": \"Georgia\", \"Gov_Grant\": 0, \"debt_financing\": 0.0, \"Funding_count\": 6, \"def_project\": 0, \"bins\": \"Low Number of Financing Sources\", \"State_Housing_Credit_Equity\": 1}, {\"Project Name\": \"thriveswtauburng\", \"Financing_sub_cat\": \"Federal Housing Credit Equity\", \"Interest Rate\": null, \"Funding Type\": \"Construction Financing\", \"Project Type\": \"Family\", \"Amount of Funds\": 2790000.0, \"State\": \"Georgia\", \"Gov_Grant\": 0, \"debt_financing\": 0.0, \"Funding_count\": 10, \"def_project\": 0, \"bins\": \"Medium Number of Financing Sources\", \"State_Housing_Credit_Equity\": 0}, {\"Project Name\": \"thriveswtauburng\", \"Financing_sub_cat\": \"Federal Housing Credit Equity\", \"Interest Rate\": null, \"Funding Type\": \"Permanent Financing\", \"Project Type\": \"Family\", \"Amount of Funds\": 9300000.0, \"State\": \"Georgia\", \"Gov_Grant\": 0, \"debt_financing\": 0.0, \"Funding_count\": 10, \"def_project\": 0, \"bins\": \"Medium Number of Financing Sources\", \"State_Housing_Credit_Equity\": 0}, {\"Project Name\": \"thriveswtauburng\", \"Financing_sub_cat\": \"Bank Loan\", \"Interest Rate\": 5.19, \"Funding Type\": \"Construction Financing\", \"Project Type\": \"Family\", \"Amount of Funds\": 8783720.0, \"State\": \"Georgia\", \"Gov_Grant\": 0, \"debt_financing\": 1.0, \"Funding_count\": 10, \"def_project\": 0, \"bins\": \"Medium Number of Financing Sources\", \"State_Housing_Credit_Equity\": 0}, {\"Project Name\": \"thriveswtauburng\", \"Financing_sub_cat\": \"Bank Loan\", \"Interest Rate\": 6.0, \"Funding Type\": \"Permanent Financing\", \"Project Type\": \"Family\", \"Amount of Funds\": 791237.0, \"State\": \"Georgia\", \"Gov_Grant\": 0, \"debt_financing\": 1.0, \"Funding_count\": 10, \"def_project\": 0, \"bins\": \"Medium Number of Financing Sources\", \"State_Housing_Credit_Equity\": 0}, {\"Project Name\": \"thriveswtauburng\", \"Financing_sub_cat\": \"Bank Loan\", \"Interest Rate\": 0.0, \"Funding Type\": \"Construction Financing\", \"Project Type\": \"Family\", \"Amount of Funds\": 3000000.0, \"State\": \"Georgia\", \"Gov_Grant\": 0, \"debt_financing\": 1.0, \"Funding_count\": 10, \"def_project\": 0, \"bins\": \"Medium Number of Financing Sources\", \"State_Housing_Credit_Equity\": 0}, {\"Project Name\": \"thriveswtauburng\", \"Financing_sub_cat\": \"Bank Loan\", \"Interest Rate\": 0.0, \"Funding Type\": \"Permanent Financing\", \"Project Type\": \"Family\", \"Amount of Funds\": 3000000.0, \"State\": \"Georgia\", \"Gov_Grant\": 0, \"debt_financing\": 1.0, \"Funding_count\": 10, \"def_project\": 0, \"bins\": \"Medium Number of Financing Sources\", \"State_Housing_Credit_Equity\": 0}, {\"Project Name\": \"thriveswtauburng\", \"Financing_sub_cat\": \"Bank Loan\", \"Interest Rate\": 0.0, \"Funding Type\": \"Construction Financing\", \"Project Type\": \"Family\", \"Amount of Funds\": 920000.0, \"State\": \"Georgia\", \"Gov_Grant\": 0, \"debt_financing\": 1.0, \"Funding_count\": 10, \"def_project\": 0, \"bins\": \"Medium Number of Financing Sources\", \"State_Housing_Credit_Equity\": 0}, {\"Project Name\": \"thriveswtauburng\", \"Financing_sub_cat\": \"Bank Loan\", \"Interest Rate\": 2.76, \"Funding Type\": \"Permanent Financing\", \"Project Type\": \"Family\", \"Amount of Funds\": 920000.0, \"State\": \"Georgia\", \"Gov_Grant\": 0, \"debt_financing\": 1.0, \"Funding_count\": 10, \"def_project\": 0, \"bins\": \"Medium Number of Financing Sources\", \"State_Housing_Credit_Equity\": 0}, {\"Project Name\": \"thriveswtauburng\", \"Financing_sub_cat\": \"State Housing Credit Equity\", \"Interest Rate\": null, \"Funding Type\": \"Construction Financing\", \"Project Type\": \"Family\", \"Amount of Funds\": 1590000.0, \"State\": \"Georgia\", \"Gov_Grant\": 0, \"debt_financing\": 0.0, \"Funding_count\": 10, \"def_project\": 0, \"bins\": \"Medium Number of Financing Sources\", \"State_Housing_Credit_Equity\": 1}, {\"Project Name\": \"thriveswtauburng\", \"Financing_sub_cat\": \"State Housing Credit Equity\", \"Interest Rate\": null, \"Funding Type\": \"Permanent Financing\", \"Project Type\": \"Family\", \"Amount of Funds\": 5300000.0, \"State\": \"Georgia\", \"Gov_Grant\": 0, \"debt_financing\": 0.0, \"Funding_count\": 10, \"def_project\": 0, \"bins\": \"Medium Number of Financing Sources\", \"State_Housing_Credit_Equity\": 1}, {\"Project Name\": \"northsidesrvlgg\", \"Financing_sub_cat\": \"Federal Housing Credit Equity\", \"Interest Rate\": null, \"Funding Type\": \"Construction Financing\", \"Project Type\": \"Seniors\", \"Amount of Funds\": 2808772.0, \"State\": \"Georgia\", \"Gov_Grant\": 0, \"debt_financing\": 0.0, \"Funding_count\": 9, \"def_project\": 0, \"bins\": \"Medium Number of Financing Sources\", \"State_Housing_Credit_Equity\": 0}, {\"Project Name\": \"northsidesrvlgg\", \"Financing_sub_cat\": \"Federal Housing Credit Equity\", \"Interest Rate\": null, \"Funding Type\": \"Permanent Financing\", \"Project Type\": \"Seniors\", \"Amount of Funds\": 7021930.0, \"State\": \"Georgia\", \"Gov_Grant\": 0, \"debt_financing\": 0.0, \"Funding_count\": 9, \"def_project\": 0, \"bins\": \"Medium Number of Financing Sources\", \"State_Housing_Credit_Equity\": 0}, {\"Project Name\": \"northsidesrvlgg\", \"Financing_sub_cat\": \"Bank Loan\", \"Interest Rate\": 0.0, \"Funding Type\": \"Construction Financing\", \"Project Type\": \"Seniors\", \"Amount of Funds\": 650000.0, \"State\": \"Georgia\", \"Gov_Grant\": 0, \"debt_financing\": 1.0, \"Funding_count\": 9, \"def_project\": 0, \"bins\": \"Medium Number of Financing Sources\", \"State_Housing_Credit_Equity\": 0}, {\"Project Name\": \"northsidesrvlgg\", \"Financing_sub_cat\": \"Bank Loan\", \"Interest Rate\": 0.0, \"Funding Type\": \"Permanent Financing\", \"Project Type\": \"Seniors\", \"Amount of Funds\": 650000.0, \"State\": \"Georgia\", \"Gov_Grant\": 0, \"debt_financing\": 1.0, \"Funding_count\": 9, \"def_project\": 0, \"bins\": \"Medium Number of Financing Sources\", \"State_Housing_Credit_Equity\": 0}, {\"Project Name\": \"northsidesrvlgg\", \"Financing_sub_cat\": \"Bank Loan\", \"Interest Rate\": 4.390000000000001, \"Funding Type\": \"Construction Financing\", \"Project Type\": \"Seniors\", \"Amount of Funds\": 5200000.0, \"State\": \"Georgia\", \"Gov_Grant\": 0, \"debt_financing\": 1.0, \"Funding_count\": 9, \"def_project\": 0, \"bins\": \"Medium Number of Financing Sources\", \"State_Housing_Credit_Equity\": 0}, {\"Project Name\": \"northsidesrvlgg\", \"Financing_sub_cat\": \"State Housing Credit Equity\", \"Interest Rate\": null, \"Funding Type\": \"Construction Financing\", \"Project Type\": \"Seniors\", \"Amount of Funds\": 1738763.6, \"State\": \"Georgia\", \"Gov_Grant\": 0, \"debt_financing\": 0.0, \"Funding_count\": 9, \"def_project\": 0, \"bins\": \"Medium Number of Financing Sources\", \"State_Housing_Credit_Equity\": 1}, {\"Project Name\": \"northsidesrvlgg\", \"Financing_sub_cat\": \"State Housing Credit Equity\", \"Interest Rate\": null, \"Funding Type\": \"Permanent Financing\", \"Project Type\": \"Seniors\", \"Amount of Funds\": 4346909.0, \"State\": \"Georgia\", \"Gov_Grant\": 0, \"debt_financing\": 0.0, \"Funding_count\": 9, \"def_project\": 0, \"bins\": \"Medium Number of Financing Sources\", \"State_Housing_Credit_Equity\": 1}, {\"Project Name\": \"northsidesrvlgg\", \"Financing_sub_cat\": \"Local Grant\", \"Interest Rate\": null, \"Funding Type\": \"Construction Financing\", \"Project Type\": \"Seniors\", \"Amount of Funds\": 110000.0, \"State\": \"Georgia\", \"Gov_Grant\": 1, \"debt_financing\": 0.0, \"Funding_count\": 9, \"def_project\": 0, \"bins\": \"Medium Number of Financing Sources\", \"State_Housing_Credit_Equity\": 0}, {\"Project Name\": \"northsidesrvlgg\", \"Financing_sub_cat\": \"Local Grant\", \"Interest Rate\": null, \"Funding Type\": \"Permanent Financing\", \"Project Type\": \"Seniors\", \"Amount of Funds\": 110000.0, \"State\": \"Georgia\", \"Gov_Grant\": 1, \"debt_financing\": 0.0, \"Funding_count\": 9, \"def_project\": 0, \"bins\": \"Medium Number of Financing Sources\", \"State_Housing_Credit_Equity\": 0}, {\"Project Name\": \"sterlinghtsg\", \"Financing_sub_cat\": \"Federal Housing Credit Equity\", \"Interest Rate\": null, \"Funding Type\": \"Construction Financing\", \"Project Type\": \"Seniors\", \"Amount of Funds\": 1694888.0, \"State\": \"Georgia\", \"Gov_Grant\": 0, \"debt_financing\": 0.0, \"Funding_count\": 5, \"def_project\": 0, \"bins\": \"Low Number of Financing Sources\", \"State_Housing_Credit_Equity\": 0}, {\"Project Name\": \"sterlinghtsg\", \"Financing_sub_cat\": \"Federal Housing Credit Equity\", \"Interest Rate\": null, \"Funding Type\": \"Permanent Financing\", \"Project Type\": \"Seniors\", \"Amount of Funds\": 8474440.0, \"State\": \"Georgia\", \"Gov_Grant\": 0, \"debt_financing\": 0.0, \"Funding_count\": 5, \"def_project\": 0, \"bins\": \"Low Number of Financing Sources\", \"State_Housing_Credit_Equity\": 0}, {\"Project Name\": \"sterlinghtsg\", \"Financing_sub_cat\": \"Bank Loan\", \"Interest Rate\": 6.0, \"Funding Type\": \"Construction Financing\", \"Project Type\": \"Seniors\", \"Amount of Funds\": 8047413.0, \"State\": \"Georgia\", \"Gov_Grant\": 0, \"debt_financing\": 1.0, \"Funding_count\": 5, \"def_project\": 0, \"bins\": \"Low Number of Financing Sources\", \"State_Housing_Credit_Equity\": 0}, {\"Project Name\": \"sterlinghtsg\", \"Financing_sub_cat\": \"State Housing Credit Equity\", \"Interest Rate\": null, \"Funding Type\": \"Construction Financing\", \"Project Type\": \"Seniors\", \"Amount of Funds\": 768612.0, \"State\": \"Georgia\", \"Gov_Grant\": 0, \"debt_financing\": 0.0, \"Funding_count\": 5, \"def_project\": 0, \"bins\": \"Low Number of Financing Sources\", \"State_Housing_Credit_Equity\": 1}, {\"Project Name\": \"sterlinghtsg\", \"Financing_sub_cat\": \"State Housing Credit Equity\", \"Interest Rate\": null, \"Funding Type\": \"Permanent Financing\", \"Project Type\": \"Seniors\", \"Amount of Funds\": 3843060.0, \"State\": \"Georgia\", \"Gov_Grant\": 0, \"debt_financing\": 0.0, \"Funding_count\": 5, \"def_project\": 0, \"bins\": \"Low Number of Financing Sources\", \"State_Housing_Credit_Equity\": 1}, {\"Project Name\": \"legacywaltontrlg\", \"Financing_sub_cat\": \"Federal Housing Credit Equity\", \"Interest Rate\": null, \"Funding Type\": \"Construction Financing\", \"Project Type\": \"Seniors\", \"Amount of Funds\": 5248750.0, \"State\": \"Georgia\", \"Gov_Grant\": 0, \"debt_financing\": 0.0, \"Funding_count\": 8, \"def_project\": 0, \"bins\": \"Low Number of Financing Sources\", \"State_Housing_Credit_Equity\": 0}, {\"Project Name\": \"legacywaltontrlg\", \"Financing_sub_cat\": \"Federal Housing Credit Equity\", \"Interest Rate\": null, \"Funding Type\": \"Permanent Financing\", \"Project Type\": \"Seniors\", \"Amount of Funds\": 8075000.0, \"State\": \"Georgia\", \"Gov_Grant\": 0, \"debt_financing\": 0.0, \"Funding_count\": 8, \"def_project\": 0, \"bins\": \"Low Number of Financing Sources\", \"State_Housing_Credit_Equity\": 0}, {\"Project Name\": \"legacywaltontrlg\", \"Financing_sub_cat\": \"Bank Loan\", \"Interest Rate\": 6.0, \"Funding Type\": \"Construction Financing\", \"Project Type\": \"Seniors\", \"Amount of Funds\": 4921000.0, \"State\": \"Georgia\", \"Gov_Grant\": 0, \"debt_financing\": 1.0, \"Funding_count\": 8, \"def_project\": 0, \"bins\": \"Low Number of Financing Sources\", \"State_Housing_Credit_Equity\": 0}, {\"Project Name\": \"legacywaltontrlg\", \"Financing_sub_cat\": \"Bank Loan\", \"Interest Rate\": 5.5, \"Funding Type\": \"Permanent Financing\", \"Project Type\": \"Seniors\", \"Amount of Funds\": 3125922.0, \"State\": \"Georgia\", \"Gov_Grant\": 0, \"debt_financing\": 1.0, \"Funding_count\": 8, \"def_project\": 0, \"bins\": \"Low Number of Financing Sources\", \"State_Housing_Credit_Equity\": 0}, {\"Project Name\": \"legacywaltontrlg\", \"Financing_sub_cat\": \"Bank Loan\", \"Interest Rate\": 0.0, \"Funding Type\": \"Construction Financing\", \"Project Type\": \"Seniors\", \"Amount of Funds\": 800000.0, \"State\": \"Georgia\", \"Gov_Grant\": 0, \"debt_financing\": 1.0, \"Funding_count\": 8, \"def_project\": 0, \"bins\": \"Low Number of Financing Sources\", \"State_Housing_Credit_Equity\": 0}, {\"Project Name\": \"legacywaltontrlg\", \"Financing_sub_cat\": \"Bank Loan\", \"Interest Rate\": 1.0, \"Funding Type\": \"Permanent Financing\", \"Project Type\": \"Seniors\", \"Amount of Funds\": 800000.0, \"State\": \"Georgia\", \"Gov_Grant\": 0, \"debt_financing\": 1.0, \"Funding_count\": 8, \"def_project\": 0, \"bins\": \"Low Number of Financing Sources\", \"State_Housing_Credit_Equity\": 0}, {\"Project Name\": \"legacywaltontrlg\", \"Financing_sub_cat\": \"State Housing Credit Equity\", \"Interest Rate\": null, \"Funding Type\": \"Construction Financing\", \"Project Type\": \"Seniors\", \"Amount of Funds\": 3038750.0, \"State\": \"Georgia\", \"Gov_Grant\": 0, \"debt_financing\": 0.0, \"Funding_count\": 8, \"def_project\": 0, \"bins\": \"Low Number of Financing Sources\", \"State_Housing_Credit_Equity\": 1}, {\"Project Name\": \"legacywaltontrlg\", \"Financing_sub_cat\": \"State Housing Credit Equity\", \"Interest Rate\": null, \"Funding Type\": \"Permanent Financing\", \"Project Type\": \"Seniors\", \"Amount of Funds\": 4675000.0, \"State\": \"Georgia\", \"Gov_Grant\": 0, \"debt_financing\": 0.0, \"Funding_count\": 8, \"def_project\": 0, \"bins\": \"Low Number of Financing Sources\", \"State_Housing_Credit_Equity\": 1}]}}, {\"mode\": \"vega-lite\"});\n",
       "</script>"
      ],
      "text/plain": [
       "alt.Chart(...)"
      ]
     },
     "execution_count": 132,
     "metadata": {},
     "output_type": "execute_result"
    }
   ],
   "source": [
    "alt.Chart(financing).mark_bar().encode(\n",
    "    x='Funding Type',\n",
    "    y='Amount of Funds',\n",
    "    color=alt.Color('Financing_sub_cat', scale=alt.Scale(scheme=\"pastel2\")),\n",
    "    tooltip=['Financing_sub_cat']\n",
    "    \n",
    ")"
   ]
  }
 ],
 "metadata": {
  "kernelspec": {
   "display_name": "Python 3",
   "language": "python",
   "name": "python3"
  },
  "language_info": {
   "codemirror_mode": {
    "name": "ipython",
    "version": 3
   },
   "file_extension": ".py",
   "mimetype": "text/x-python",
   "name": "python",
   "nbconvert_exporter": "python",
   "pygments_lexer": "ipython3",
   "version": "3.7.2"
  }
 },
 "nbformat": 4,
 "nbformat_minor": 2
}
